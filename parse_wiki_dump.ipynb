{
 "cells": [
  {
   "cell_type": "code",
   "execution_count": 422,
   "metadata": {},
   "outputs": [],
   "source": [
    "import os, subprocess\n",
    "import xml.sax\n",
    "import mwparserfromhell \n",
    "import json\n",
    "import re\n",
    "import numpy as np\n",
    "import pandas as pd\n",
    "from timeit import default_timer as timer\n",
    "import sys\n",
    "import os\n",
    "from multiprocessing import Pool \n",
    "import tqdm \n",
    "from itertools import chain\n",
    "from functools import partial\n",
    "import gc\n",
    "import json"
   ]
  },
  {
   "cell_type": "code",
   "execution_count": 464,
   "metadata": {},
   "outputs": [],
   "source": [
    "petscan = pd.read_csv('data/math/math_petscan_1216.csv') \n",
    "\n",
    "petscan['title_clean'] = petscan['title'].apply(lambda x: x.replace('_', ' '))\n",
    "\n",
    "petscan_title = petscan['title_clean']\n",
    "\n",
    "sparql = pd.read_csv('data/math/math_clean_sparql_786', sep='\\t')\n",
    "\n",
    "sparql_title = sparql['article_name']\n",
    "\n",
    "input_table = pd.read_csv('data/math/total_math_11697', sep='\\t') \n",
    "\n",
    "input_titles = input_table['title_clean'].tolist()\n",
    "\n",
    "input_titles = pd.concat([sparql_title, petscan_title], axis=0)\n",
    "\n",
    "len(input_titles)\n",
    "\n",
    "input_titles.drop_duplicates(inplace=True)\n",
    "\n",
    "input_titles = input_titles.tolist()\n",
    "\n",
    "len(input_titles), type(input_titles)"
   ]
  },
  {
   "cell_type": "code",
   "execution_count": 465,
   "metadata": {},
   "outputs": [
    {
     "data": {
      "text/plain": [
       "313.261382"
      ]
     },
     "execution_count": 465,
     "metadata": {},
     "output_type": "execute_result"
    }
   ],
   "source": [
    "dumps = os.listdir('wiki_dump/')\n",
    "os.stat('wiki_dump/' + dumps[4]).st_size / 1e6"
   ]
  },
  {
   "cell_type": "code",
   "execution_count": 466,
   "metadata": {},
   "outputs": [],
   "source": [
    "data_path = 'wiki_dump/' + dumps[4]"
   ]
  },
  {
   "cell_type": "code",
   "execution_count": 477,
   "metadata": {},
   "outputs": [],
   "source": [
    "class WikiXmlHandler(xml.sax.handler.ContentHandler):\n",
    "    \"\"\"Content handler for Wiki XML data using SAX\"\"\"\n",
    "    def __init__(self):\n",
    "        xml.sax.handler.ContentHandler.__init__(self)\n",
    "        self._buffer = None\n",
    "        self._values = {}\n",
    "        self._current_tag = None\n",
    "        self._articles = []\n",
    "        self._total_articles = 0\n",
    "        self._articles_count = 0\n",
    "\n",
    "    def characters(self, content):\n",
    "        \"\"\"Characters between opening and closing tags\"\"\"\n",
    "        if self._current_tag:\n",
    "            self._buffer.append(content)\n",
    "\n",
    "    def startElement(self, name, attrs):\n",
    "        \"\"\"Opening tag of element\"\"\"\n",
    "        if name in ('title', 'text', 'timestamp'):\n",
    "            self._current_tag = name\n",
    "            self._buffer = []\n",
    "\n",
    "    def endElement(self, name):\n",
    "        \"\"\"Closing tag of element\"\"\"\n",
    "        if name == self._current_tag:\n",
    "            self._values[name] = ' '.join(self._buffer)\n",
    "\n",
    "        if name == 'page':\n",
    "            self._total_articles += 1\n",
    "            # Search through the page to see if the page is a target_article\n",
    "            article = process_article(**self._values)\n",
    "            # Append to the list of articles\n",
    "            if article:\n",
    "                self._articles_count += 1\n",
    "                self._articles.append(article)"
   ]
  },
  {
   "cell_type": "code",
   "execution_count": 478,
   "metadata": {},
   "outputs": [],
   "source": [
    "def process_article(title, text, timestamp):\n",
    "    \"\"\"Process a wikipedia article looking for template\"\"\"\n",
    "    \n",
    "    # Create a parsing object\n",
    "    wiki = mwparserfromhell.parse(text)\n",
    "    \n",
    "    if title in input_titles:\n",
    "        # check if title in list of target articles\n",
    "\n",
    "        # Extract the simple, stripped_code text\n",
    "        striped_code = wiki.strip_code().strip()\n",
    "        \n",
    "        # Extract headings, if they exist\n",
    "        headings = wiki.filter_headings()\n",
    "\n",
    "        # Extract internal wikilinks, avoid \"Category:\", \"File:\"\n",
    "        wikilinks = []\n",
    "        for i in wiki.filter_wikilinks():\n",
    "            i = i.strip('[]')\n",
    "            if 'File:' not in i and \\\n",
    "            'Category:' not in i and \\\n",
    "            'Wikipedia:' not in i and \\\n",
    "            'en:' not in i:\n",
    "                link_list.append(i)\n",
    "                \n",
    "        # return articles title, striped_text, headings, wikilinks\n",
    "        return (title, striped_code, headings, wikilinks)"
   ]
  },
  {
   "cell_type": "code",
   "execution_count": 479,
   "metadata": {},
   "outputs": [
    {
     "name": "stdout",
     "output_type": "stream",
     "text": [
      "Processed 22260000 lines so far."
     ]
    },
    {
     "ename": "AttributeError",
     "evalue": "'WikiXmlHandler' object has no attribute '_article_count'",
     "output_type": "error",
     "traceback": [
      "\u001b[0;31m---------------------------------------------------------------------------\u001b[0m",
      "\u001b[0;31mAttributeError\u001b[0m                            Traceback (most recent call last)",
      "\u001b[0;32m<ipython-input-479-6e6f240f9cde>\u001b[0m in \u001b[0;36m<module>\u001b[0;34m\u001b[0m\n\u001b[1;32m     20\u001b[0m \u001b[0mend\u001b[0m \u001b[0;34m=\u001b[0m \u001b[0mtimer\u001b[0m\u001b[0;34m(\u001b[0m\u001b[0;34m)\u001b[0m\u001b[0;34m\u001b[0m\u001b[0m\n\u001b[1;32m     21\u001b[0m \u001b[0;34m\u001b[0m\u001b[0m\n\u001b[0;32m---> 22\u001b[0;31m \u001b[0mprint\u001b[0m\u001b[0;34m(\u001b[0m\u001b[0;34mf'\\nSearched through {handler._article_count} articles.'\u001b[0m\u001b[0;34m)\u001b[0m\u001b[0;34m\u001b[0m\u001b[0m\n\u001b[0m\u001b[1;32m     23\u001b[0m \u001b[0mprint\u001b[0m\u001b[0;34m(\u001b[0m\u001b[0;34mf'\\nFound {len(articles)} articles in {round(end - start)} seconds.'\u001b[0m\u001b[0;34m)\u001b[0m\u001b[0;34m\u001b[0m\u001b[0m\n",
      "\u001b[0;31mAttributeError\u001b[0m: 'WikiXmlHandler' object has no attribute '_article_count'"
     ]
    }
   ],
   "source": [
    "start = timer()\n",
    "# Object for handling xml\n",
    "handler = WikiXmlHandler()\n",
    "\n",
    "# Parsing object\n",
    "parser = xml.sax.make_parser()\n",
    "parser.setContentHandler(handler)\n",
    "\n",
    "# Parse the entire file\n",
    "for i, line in enumerate(subprocess.Popen(['bzcat'], \n",
    "                         stdin = open(data_path), \n",
    "                         stdout = subprocess.PIPE).stdout):\n",
    "    if (i + 1) % 10000 == 0:\n",
    "        sys.stdout.write('\\r' +f'Processed {i + 1} lines so far.')\n",
    "    try:\n",
    "        parser.feed(line)\n",
    "    except StopIteration:\n",
    "        break\n",
    "    \n",
    "end = timer()\n",
    "\n",
    "print(f'\\nSearched through {handler._article_count} articles.')\n",
    "print(f'\\nFound {len(articles)} articles in {round(end - start)} seconds.')"
   ]
  },
  {
   "cell_type": "code",
   "execution_count": 470,
   "metadata": {},
   "outputs": [],
   "source": [
    "articles = handler._articles"
   ]
  },
  {
   "cell_type": "code",
   "execution_count": 472,
   "metadata": {},
   "outputs": [
    {
     "data": {
      "text/plain": [
       "33"
      ]
     },
     "execution_count": 472,
     "metadata": {},
     "output_type": "execute_result"
    }
   ],
   "source": [
    "handler._total_articles"
   ]
  },
  {
   "cell_type": "code",
   "execution_count": 475,
   "metadata": {},
   "outputs": [
    {
     "data": {
      "text/plain": [
       "'360px|thumbnail \\n  \\n The theory of ologs is an attempt to provide a rigorous mathematical framework for knowledge representation, construction of scientific models and data storage using category theory, linguistic and graphical tools. Ologs were introduced in 2010 by David Spivak, < ref name=Spivak >  < /ref >  a research scientist in the Department of Mathematics, MIT. \\n \\n ==Etymology== \\n The term  \" olog \"  is short for  \" ontology log \" .  \" Ontology \"  derives from onto-, from the Greek ὤν, ὄντος  \" being; that which is \" , present participle of the verb εἰμί  \" be \" , and -λογία, -logia: science, study, theory. \\n \\n ==Mathematical formalism== \\n At the basic level an olog  < math > \\\\mathcal{C} < /math >  is a category whose objects are represented as boxes containing sentences and whose morphisms are represented as directed labeled arrows between boxes. The structures of the sentences for both the objects and the morphisms of  < math > \\\\mathcal{C} < /math >  need to be compatible with the mathematical definition of  < math > \\\\mathcal{C} < /math > . This compatibility cannot be checked mathematically, because it lies in the correspondence between mathematical ideas and natural language. \\n \\n Every olog has a target category, which is taken to be  < math > \\\\textbf{Set} < /math >  (Category of sets), the category of sets and functions, unless otherwise mentioned. In that case, we are looking at a set of amino acids, a set of amine groups, and a function that assigns to every amino acid its amine group. In this article we usually stick to  < math > \\\\textbf{Set} < /math > , though sometimes using the Kleisli category  < math > \\\\mathcal{C}_{\\\\mathbb{P}} < /math >  of the power set monad. Another possibility, though one we do not use here, would be to use the Kleisli category of probability distributions—the Giry monad < ref >  < /ref > —e.g., to obtain a generalization of Markov decision processes. \\n \\n The boxes in the above example refer to objects of  < math > \\\\textbf{Set} < /math > . For example, the box containing the sentence  \" an amino acid \"  refers to the set of all amino acids and the box containing the sentence  \" a side chain \"  refers to the set of all side chains. The arrow labeled with  \" has \"  whose source is  \" an amino acid \"  and whose target is  \" a side chain \"  refers to a morphism between two objects of  < math > \\\\textbf{Set} < /math >  and thus needs to be a function between two sets. Indeed, every amino acid has a unique side chain so the arrow is a valid morphism of  < math > \\\\textbf{Set} < /math > . The functional nature of the morphisms in  < math > \\\\textbf{Set} < /math >  is expressed in an olog by labeling arrows with appropriate sentences (e.g.  \" has \" ). \\n \\n For another example let  < math > (\\\\mathbb{P},\\\\eta,\\\\mu) < /math >  be the power set monad on  < math > \\\\textbf{Set} < /math >  so given  < math > A\\\\in Ob(\\\\textbf{Set}) < /math > ,  < math > \\\\mathbb{P}(A) < /math >  is the power set of A, the natural transformation  < math > \\\\eta < /math >  sends  < math > a\\\\in A < /math >  to the singleton  < math > \\\\{a\\\\} < /math >  and the natural transformation  < math > \\\\mu < /math >  unionizes sets. A morphism  < math > f:A\\\\to B < /math >  in the Kleisli category  < math > \\\\mathcal{C}_{\\\\mathbb{P}} < /math >  can be seen as establishing a binary relation R. Given  < math > a\\\\in A < /math >  and  < math > b\\\\in B < /math >  we say that  < math > (a,b)\\\\in R < /math >  if  < math > b\\\\in f(a) < /math > . \\n \\n We can use  < math > \\\\mathcal{C}_{\\\\mathbb{P}} < /math >  as the target category for an olog. In this case the arrows in the olog need to reflect the relational nature of morphisms in  < math > \\\\mathcal{C}_{\\\\mathbb{P}} < /math > . This can be done by labeling every arrow in the olog with either  \" is related to \" , or  \" is greater than \"  and so on. \\n \\n ==Ologs and databases== \\n An olog  < math > \\\\mathcal{C} < /math >  can also be viewed as a database schema. Every box (object of  < math > \\\\mathcal{C} < /math > ) in the olog is a table  < math > T < /math >  and the arrows (morphisms) emanating from the box are columns in  < math > \\\\mathcal{C} < /math > . The assignment of a particular instance to an object of  < math > \\\\mathcal{C} < /math >  is done through a functor  < math > I:\\\\mathcal{C}\\\\to \\\\textbf{Set} < /math > . In the example above, the box  \" an amino acid \"  will be represented as a table whose number of rows is equal to the number of types of amino acids and whose number of columns is three, one column for each arrow emanating from that box. \\n \\n ==Relations between ologs== \\n Communication between different ologs which in practice can be communication between different models or world-views is done using functors. Spivak coins the notions of a \\'meaningful\\' and \\'strongly meaningful\\' functors. < ref name= \" Spivak \"  / >  Let  < math > \\\\mathcal{C} < /math >  and  < math > \\\\mathcal{D} < /math >  be two ologs,  < math > I:\\\\mathcal{C}\\\\to \\\\textbf{Set} < /math > ,  < math > J:\\\\mathcal{D}\\\\to \\\\textbf{Set} < /math >  functors (see the section on ologs and databases) and  < math > F:\\\\mathcal{C}\\\\to \\\\mathcal{D} < /math >  a functor. We say that a  < math > F < /math >  is meaningful if there exists a natural transformation  < math > m:I\\\\to F^{*}J < /math >  (the pullback of J by F). \\n \\n Taking as an example  < math > \\\\mathcal{C} < /math >  and  < math > \\\\mathcal{D} < /math >  as two different scientific models, the functor  < math > F < /math >  is meaningful if predictions, which are objects in  < math > \\\\textbf{Set} < /math > , made by the first model  < math > \\\\mathcal{C} < /math >  can be translated to the second model  < math > \\\\mathcal{D} < /math > . \\n \\n We say that  < math > F < /math >  is strongly meaningful if given an object  < math > X\\\\in \\\\mathcal{C} < /math >  we have  < math > I(X)=J(F(X)) < /math > . This equality is equivalent to requiring  < math > m < /math >  to be a natural isomorphism. \\n \\n Sometime it will be hard to find a meaningful functor  < math > F < /math >  from  < math > \\\\mathcal{C} < /math >  to  < math > \\\\mathcal{D} < /math > . In such a case we may try to define a new olog  < math > \\\\mathcal{B} < /math >  which represents the common ground of  < math > \\\\mathcal{C} < /math >  and  < math > \\\\mathcal{D} < /math >  and find meaningful functors  < math > F_{\\\\mathcal{C}}:\\\\mathcal{B}\\\\to \\\\mathcal{C} < /math >  and  < math > F_{\\\\mathcal{D}}:\\\\mathcal{B}\\\\to \\\\mathcal{D} < /math > . \\n \\n If communication between ologs is limited to a two-way communication as described above then we may think of a collection of ologs as nodes of a graph and of the edges as functors connecting the ologs. If a simultaneous communication between more than two ologs is allowed then the graph becomes a symmetric simplicial complex. \\n \\n ==Rules of good practice== \\n Spivak provides some rules of good practice for writing an olog whose morphisms have a functional nature (see the first example in the section Mathematical formalism). < ref name= \" Spivak \"  / >  The text in a box should adhere to the following rules: \\n \\n # begin with the word  \" a \"  or  \" an \" . (Example:  \" an amino acid \" ). \\n # refer to a distinction made and recognizable by the olog\\'s author. \\n # refer to a distinction for which there is well defined functor whose range is  < math > \\\\textbf{Set} < /math > , i.e. an instance can be documented. (Example: there is a set of all amino acids). \\n # declare all variables in a compound structure. (Example: instead of writing in a box  \" a man and a woman \"  write  \" a man  < math > m < /math >  and a woman  < math > w < /math >   \"  or  \" a pair  < math > (m,w) < /math >  where  < math > m < /math >  is a man and  < math > w < /math >  is a woman \" ). \\n \\n The first three rules ensure that the objects (the boxes) defined by the olog\\'s author are well-defined sets. The fourth rule improves the labeling of arrows in an olog. \\n \\n ==Applications== \\n The concept was experimentally documented by David Spivak and coauthors Associate Professor Markus J. Buehler of the Department of Civil and Environmental Engineering (CEE) and CEE graduate student Tristan Giesa in a paper that was published in the December 2011 issue of BioNanoScience in which the researchers establish a scientific analogy between spider silk and musical composition. < ref >  < /ref > \\n \\n ==See also== \\n * Hypergraph \\n * Modeling language \\n * Ontology language \\n * Operad theory \\n * Orgology \\n * Universal algebra \\n * Universal logic \\n \\n ==References== \\n  \\n \\n ==External links== \\n *  \\n *  \\n \\n  \\n \\n Category:Mathematical concepts \\n Category:Ontology (information science)'"
      ]
     },
     "execution_count": 475,
     "metadata": {},
     "output_type": "execute_result"
    }
   ],
   "source": [
    "articles[0][1]"
   ]
  },
  {
   "cell_type": "code",
   "execution_count": null,
   "metadata": {},
   "outputs": [],
   "source": []
  }
 ],
 "metadata": {
  "kernelspec": {
   "display_name": "Python 3",
   "language": "python",
   "name": "python3"
  },
  "language_info": {
   "codemirror_mode": {
    "name": "ipython",
    "version": 3
   },
   "file_extension": ".py",
   "mimetype": "text/x-python",
   "name": "python",
   "nbconvert_exporter": "python",
   "pygments_lexer": "ipython3",
   "version": "3.6.6"
  }
 },
 "nbformat": 4,
 "nbformat_minor": 2
}
