{
 "cells": [
  {
   "cell_type": "code",
   "execution_count": 26,
   "metadata": {},
   "outputs": [],
   "source": [
    "import pandas as pd\n",
    "import numpy as np"
   ]
  },
  {
   "cell_type": "code",
   "execution_count": 48,
   "metadata": {},
   "outputs": [],
   "source": [
    "def clean_sparqle(infile, outfile)\n",
    "    data = pd.read_csv(infile)\n",
    "    wikidata_url_base = 'http://www.wikidata.org/entity/'\n",
    "    url_length = len(wikidata_url_base)\n",
    "    data['wikidata_id'] = data['item']\n",
    "    data.loc[:, 'wikidata_id'] = data['wikidata_id'].apply(lambda x: x[url_length : ])\n",
    "    data = data[['wikidata_id', 'sitelink', 'article', 'item']]\n",
    "    data.columns = ['wikidata_id', 'article_name', 'wikipedia_url', 'wikidata_url']\n",
    "    data.to_csv('data/math/math_clean_sparql_786', sep='\\t', encoding='utf-8')"
   ]
  },
  {
   "cell_type": "code",
   "execution_count": null,
   "metadata": {},
   "outputs": [],
   "source": []
  }
 ],
 "metadata": {
  "kernelspec": {
   "display_name": "Python 3",
   "language": "python",
   "name": "python3"
  },
  "language_info": {
   "codemirror_mode": {
    "name": "ipython",
    "version": 3
   },
   "file_extension": ".py",
   "mimetype": "text/x-python",
   "name": "python",
   "nbconvert_exporter": "python",
   "pygments_lexer": "ipython3",
   "version": "3.6.6"
  }
 },
 "nbformat": 4,
 "nbformat_minor": 2
}
