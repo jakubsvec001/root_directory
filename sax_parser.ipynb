{
 "cells": [
  {
   "cell_type": "code",
   "execution_count": 25,
   "metadata": {},
   "outputs": [],
   "source": [
    "import os, subprocess\n",
    "import xml.sax\n",
    "import mwparserfromhell \n",
    "import json\n",
    "import re\n",
    "import numpy as np\n",
    "import pandas as pd\n",
    "from timeit import default_timer as timer\n",
    "import sys\n",
    "import os\n",
    "from multiprocessing import Pool \n",
    "import tqdm \n",
    "from itertools import chain\n",
    "from functools import partial\n",
    "import gc\n",
    "import json"
   ]
  },
  {
   "cell_type": "code",
   "execution_count": 36,
   "metadata": {},
   "outputs": [
    {
     "data": {
      "text/plain": [
       "4096"
      ]
     },
     "execution_count": 36,
     "metadata": {},
     "output_type": "execute_result"
    }
   ],
   "source": [
    "dumps = os.listdir('wiki_dump/')\n",
    "os.stat('wiki_dump/' + dumps[14]).st_size"
   ]
  },
  {
   "cell_type": "code",
   "execution_count": 37,
   "metadata": {},
   "outputs": [],
   "source": [
    "data_path = 'wiki_dump/' + dumps[0]"
   ]
  },
  {
   "cell_type": "code",
   "execution_count": 38,
   "metadata": {},
   "outputs": [],
   "source": [
    "class WikiXmlHandler(xml.sax.handler.ContentHandler):\n",
    "    \"\"\"Content handler for Wiki XML data using SAX\"\"\"\n",
    "    def __init__(self):\n",
    "        xml.sax.handler.ContentHandler.__init__(self)\n",
    "        self._buffer = None\n",
    "        self._values = {}\n",
    "        self._current_tag = None\n",
    "        self._articles = []\n",
    "        self._total_articles = 0\n",
    "        self._articles_count = 0\n",
    "\n",
    "    def characters(self, content):\n",
    "        \"\"\"Characters between opening and closing tags\"\"\"\n",
    "        if self._current_tag:\n",
    "            self._buffer.append(content)\n",
    "\n",
    "    def startElement(self, name, attrs):\n",
    "        \"\"\"Opening tag of element\"\"\"\n",
    "        if name in ('title', 'text', 'timestamp'):\n",
    "            self._current_tag = name\n",
    "            self._buffer = []\n",
    "\n",
    "    def endElement(self, name):\n",
    "        \"\"\"Closing tag of element\"\"\"\n",
    "        if name == self._current_tag:\n",
    "            self._values[name] = ' '.join(self._buffer)\n",
    "\n",
    "        if name == 'page':\n",
    "            self._total_articles += 1\n",
    "            # Search through the page to see if the page is a target_article\n",
    "            article = process_article(**self._values)\n",
    "            # Append to the list of articles\n",
    "            if article:\n",
    "                self._articles_count += 1\n",
    "                self._articles.append(article)"
   ]
  },
  {
   "cell_type": "code",
   "execution_count": 39,
   "metadata": {},
   "outputs": [],
   "source": [
    "def process_article(title, text, timestamp):\n",
    "    \"\"\"Search wiki_dump for desired articles\"\"\"\n",
    "    \n",
    "    wiki = mwparserfromhell.parse(text)\n",
    "    \n",
    "    if title in input_titles:\n",
    "\n",
    "        striped_code = wiki.strip_code().strip()\n",
    "        \n",
    "\n",
    "        headings = wiki.filter_headings()\n",
    "\n",
    "\n",
    "        wikilinks = []\n",
    "        for i in wiki.filter_wikilinks():\n",
    "            i = i.strip('[]')\n",
    "            if 'File:' not in i and \\\n",
    "            'Category:' not in i and \\\n",
    "            'Wikipedia:' not in i and \\\n",
    "            'en:' not in i:\n",
    "                wikilinks.append(i)\n",
    "\n",
    "        return (title, striped_code, headings, wikilinks)"
   ]
  },
  {
   "cell_type": "code",
   "execution_count": null,
   "metadata": {},
   "outputs": [
    {
     "name": "stdout",
     "output_type": "stream",
     "text": [
      "Processed 12540000 lines so far."
     ]
    }
   ],
   "source": [
    "start = timer()\n",
    "\n",
    "handler = WikiXmlHandler()\n",
    "\n",
    "parser = xml.sax.make_parser()\n",
    "parser.setContentHandler(handler)\n",
    "\n",
    "for i, line in enumerate(subprocess.Popen(['bzcat'], \n",
    "                         stdin = open(data_path), \n",
    "                         stdout = subprocess.PIPE).stdout):\n",
    "    if (i + 1) % 10000 == 0:\n",
    "        sys.stdout.write('\\r' +f'Processed {i + 1} lines so far.')\n",
    "    try:\n",
    "        parser.feed(line)\n",
    "    except StopIteration:\n",
    "        break\n",
    "    \n",
    "end = timer()\n",
    "\n",
    "print(f'\\nSearched through {handler._articles_count} articles.')\n",
    "print(f'\\nFound {len(articles)} articles in {round(end - start)} seconds.')"
   ]
  },
  {
   "cell_type": "code",
   "execution_count": null,
   "metadata": {},
   "outputs": [],
   "source": [
    "articles = handler._articles"
   ]
  },
  {
   "cell_type": "code",
   "execution_count": null,
   "metadata": {},
   "outputs": [],
   "source": [
    "handler._total_articles"
   ]
  },
  {
   "cell_type": "code",
   "execution_count": null,
   "metadata": {},
   "outputs": [],
   "source": [
    "articles[0]"
   ]
  },
  {
   "cell_type": "code",
   "execution_count": null,
   "metadata": {},
   "outputs": [],
   "source": []
  }
 ],
 "metadata": {
  "kernelspec": {
   "display_name": "Python 3",
   "language": "python",
   "name": "python3"
  },
  "language_info": {
   "codemirror_mode": {
    "name": "ipython",
    "version": 3
   },
   "file_extension": ".py",
   "mimetype": "text/x-python",
   "name": "python",
   "nbconvert_exporter": "python",
   "pygments_lexer": "ipython3",
   "version": "3.6.6"
  }
 },
 "nbformat": 4,
 "nbformat_minor": 2
}
