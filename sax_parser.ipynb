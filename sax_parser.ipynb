{
 "cells": [
  {
   "cell_type": "code",
   "execution_count": 30,
   "metadata": {},
   "outputs": [],
   "source": [
    "import os, subprocess\n",
    "import xml.sax\n",
    "import mwparserfromhell \n",
    "import json\n",
    "import re\n",
    "import numpy as np\n",
    "import pandas as pd\n",
    "from timeit import default_timer as timer\n",
    "import sys\n",
    "import os\n",
    "from multiprocessing import Pool \n",
    "import tqdm \n",
    "from itertools import chain\n",
    "from functools import partial\n",
    "import gc\n",
    "import json"
   ]
  },
  {
   "cell_type": "code",
   "execution_count": 31,
   "metadata": {},
   "outputs": [
    {
     "data": {
      "text/plain": [
       "4096"
      ]
     },
     "execution_count": 31,
     "metadata": {},
     "output_type": "execute_result"
    }
   ],
   "source": [
    "dumps = os.listdir('wiki_dump/')\n",
    "os.stat('wiki_dump/' + dumps[14]).st_size"
   ]
  },
  {
   "cell_type": "code",
   "execution_count": 32,
   "metadata": {},
   "outputs": [],
   "source": [
    "input_titles = pd.read_csv('small_seed_data/math_articles_8687', sep='\\t', encoding='utf-8')"
   ]
  },
  {
   "cell_type": "code",
   "execution_count": 33,
   "metadata": {},
   "outputs": [],
   "source": [
    "input_titles = input_titles.iloc[:,0].tolist()"
   ]
  },
  {
   "cell_type": "code",
   "execution_count": 34,
   "metadata": {},
   "outputs": [],
   "source": [
    "data_path = 'wiki_dump/' + dumps[0]"
   ]
  },
  {
   "cell_type": "code",
   "execution_count": 47,
   "metadata": {},
   "outputs": [
    {
     "data": {
      "text/plain": [
       "'26_enwiki-20180720-pages-articles20.xml-p18754736p20254736.bz2'"
      ]
     },
     "execution_count": 47,
     "metadata": {},
     "output_type": "execute_result"
    }
   ],
   "source": [
    "dumps[0]"
   ]
  },
  {
   "cell_type": "code",
   "execution_count": 48,
   "metadata": {},
   "outputs": [],
   "source": [
    "class WikiXmlHandler(xml.sax.handler.ContentHandler):\n",
    "    \"\"\"Content handler for Wiki XML data using SAX\"\"\"\n",
    "    def __init__(self):\n",
    "        xml.sax.handler.ContentHandler.__init__(self)\n",
    "        self._buffer = None\n",
    "        self._values = {}\n",
    "        self._current_tag = None\n",
    "        self._articles = []\n",
    "        self._total_articles = 0\n",
    "        self._articles_count = 0\n",
    "\n",
    "    def characters(self, content):\n",
    "        \"\"\"Characters between opening and closing tags\"\"\"\n",
    "        if self._current_tag:\n",
    "            self._buffer.append(content)\n",
    "\n",
    "    def startElement(self, name, attrs):\n",
    "        \"\"\"Opening tag of element\"\"\"\n",
    "        if name in ('title', 'text', 'timestamp'):\n",
    "            self._current_tag = name\n",
    "            self._buffer = []\n",
    "\n",
    "    def endElement(self, name):\n",
    "        \"\"\"Closing tag of element\"\"\"\n",
    "        if name == self._current_tag:\n",
    "            self._values[name] = ''.join(self._buffer)\n",
    "\n",
    "        if name == 'page':\n",
    "            self._total_articles += 1\n",
    "            # Search through the page to see if the page is a target_article\n",
    "            article = process_article(**self._values)\n",
    "            # Append to the list of articles\n",
    "            if article:\n",
    "                self._articles_count += 1\n",
    "                self._articles.append(article)"
   ]
  },
  {
   "cell_type": "code",
   "execution_count": 68,
   "metadata": {},
   "outputs": [],
   "source": [
    "def process_article(title, text, timestamp):\n",
    "    \"\"\"Search wiki_dump for desired articles\"\"\"\n",
    "    wiki = mwparserfromhell.parse(text)\n",
    "    if title in input_titles:\n",
    "        stripped_text = wiki.strip_code().strip()\n",
    "        headings = wiki.filter_headings()\n",
    "        wikilinks = []\n",
    "        for link in wiki.filter_wikilinks():\n",
    "            link = link.strip('[]')\n",
    "            if 'File:' not in link and \\\n",
    "            'Category:' not in link and \\\n",
    "            'Wikipedia:' not in link and \\\n",
    "            'en:' not in link:\n",
    "                wikilinks.append(link)\n",
    "        return {'title': title,\\\n",
    "                'stripped_text': stripped_text,\\\n",
    "                'full_text': text,\\\n",
    "                'wikilinks': wikilinks}"
   ]
  },
  {
   "cell_type": "code",
   "execution_count": 69,
   "metadata": {},
   "outputs": [
    {
     "name": "stdout",
     "output_type": "stream",
     "text": [
      "Processed 23830000 lines so far."
     ]
    }
   ],
   "source": [
    "start = timer()\n",
    "\n",
    "handler = WikiXmlHandler()\n",
    "\n",
    "parser = xml.sax.make_parser()\n",
    "parser.setContentHandler(handler)\n",
    "\n",
    "for i, line in enumerate(subprocess.Popen(['bzcat'], \n",
    "                         stdin = open(data_path), \n",
    "                         stdout = subprocess.PIPE).stdout):\n",
    "    if (i + 1) % 10000 == 0:\n",
    "        sys.stdout.write('\\r' +f'Processed {i + 1} lines so far.')\n",
    "    try:\n",
    "        parser.feed(line)\n",
    "    except StopIteration:\n",
    "        break\n",
    "#     if handler._articles_count > 1:\n",
    "#         break\n",
    "    \n",
    "end = timer()\n"
   ]
  },
  {
   "cell_type": "code",
   "execution_count": 70,
   "metadata": {},
   "outputs": [
    {
     "name": "stdout",
     "output_type": "stream",
     "text": [
      "\n",
      "Searched through 457859 articles.\n",
      "\n",
      "Found 189 articles in 48 minutes.\n",
      "The estimate of searching the entire dump is 44.0 hours without paralellization\n"
     ]
    }
   ],
   "source": [
    "print(f'\\nSearched through {handler._total_articles} articles.')\n",
    "timey = round((end - start) / 60)\n",
    "print(f'\\nFound {handler._articles_count} articles in {timey} minutes.')\n",
    "print(f'The estimate of searching the entire dump is {round(55 * timey / 60, 2)} hours without paralellization')"
   ]
  },
  {
   "cell_type": "code",
   "execution_count": 71,
   "metadata": {},
   "outputs": [],
   "source": [
    "articles = handler._articles"
   ]
  },
  {
   "cell_type": "code",
   "execution_count": 64,
   "metadata": {},
   "outputs": [
    {
     "data": {
      "text/plain": [
       "189"
      ]
     },
     "execution_count": 64,
     "metadata": {},
     "output_type": "execute_result"
    }
   ],
   "source": [
    "handler._articles_count"
   ]
  },
  {
   "cell_type": "code",
   "execution_count": 65,
   "metadata": {},
   "outputs": [
    {
     "name": "stdout",
     "output_type": "stream",
     "text": [
      "[[Image:Parallelogramoid.svg|thumb|right|Levi-Civita's parallelogramoid]]\n",
      "In the [[mathematics|mathematical]] field of [[differential geometry]], the '''Levi-Civita parallelogramoid''' is a [[quadrilateral]] in a [[curved space]] whose construction generalizes that of a [[parallelogram]] in the [[Euclidean plane]].  It is named for its discoverer, [[Tullio Levi-Civita]]. Like a parallelogram, two opposite sides ''AA''&prime; and ''BB''&prime; of a parallelogramoid are parallel (via [[parallel transport]] {{Not a typo|along }} side ''AB'') and the same length as each other, but the fourth side ''A''&prime;''B''&prime; will not in general be parallel to or the same length as the side ''AB,'' although it will be straight (a [[geodesic]]).\n",
      "\n",
      "==Construction==\n",
      "A parallelogram in [[Euclidean geometry]] can be constructed as follows:\n",
      "* Start with a straight line segment ''AB'' and another straight line segment ''AA''&prime;.\n",
      "* Slide the segment ''AA''&prime; along ''AB'' to the endpoint ''B'', keeping the angle with ''AB'' constant, and remaining in the same plane as the points ''A'', ''A''&prime;, and ''B''.\n",
      "* Label the endpoint of the resulting segment ''B''&prime; so that the segment is ''BB''&prime;.\n",
      "* Draw a straight line ''A''&prime;''B''&prime;.\n",
      "\n",
      "In a curved space, such as a [[Riemannian manifold]] or more generally any manifold equipped with an [[affine connection]], the notion of \"straight line\" generalizes to that of a [[geodesic]].  In a suitable [[neighborhood (mathematics)|neighborhood]] (such as a ball in a [[normal coordinates|normal coordinate system]]), any two points can be joined by a geodesic.  The idea of sliding the one straight line along the other gives way to the more general notion of [[parallel transport]].  Thus, assuming either that the manifold is [[complete space|complete]], or that the construction is taking place in a suitable neighborhood, the steps to producing a Levi-Civita parallelogram are:\n",
      "* Start with a geodesic ''AB'' and another geodesic ''AA''&prime;.  These geodesics are assumed to be parameterized by their [[arclength]] in the case of a Riemannian manifold, or to carry a choice of [[affine parameter]] in the general case of an affine connection.\n",
      "* \"Slide\" ([[parallel transport]]) the [[tangent vector]] of ''AA''&prime; from ''A'' to ''B''.\n",
      "* The resulting tangent vector at ''B'' generates a geodesic via the [[exponential map (Riemannian geometry)|exponential map]].  Label the endpoint of this geodesic by ''B''&prime;, and the geodesic itself ''BB''&prime;.\n",
      "* Connect the points ''A''&prime; and ''B''&prime; by the geodesic ''A''&prime;''B''&prime;.\n",
      "\n",
      "==Quantifying the difference from a parallelogram==\n",
      "The length of this last geodesic constructed connecting the remaining points ''A''&prime;''B''&prime; may in general be different than the length of the base ''AB''.  This difference is measured by the [[Riemann curvature tensor]].  To state the relationship precisely, let ''AA''&prime; be the exponential of a tangent vector ''X'' at ''A'', and ''AB'' the exponential of a tangent vector ''Y'' at ''A''. Then\n",
      "\n",
      ":<math>|A'B'|^2 = |AB|^2 + \\frac{8}{3}\\langle R(X,Y)X,Y\\rangle + \\text{higher order terms}</math>\n",
      "\n",
      "where terms of higher order in the length of the sides of the parallelogram have been suppressed.\n",
      "\n",
      "==Discrete approximation==\n",
      "[[Image:Schild's ladder step 4.svg|thumb|right|Two rungs of [[Schild's ladder]].  The segments ''A''<sub>1</sub>''X''<sub>1</sub> and ''A''<sub>2</sub>''X''<sub>2</sub> are an approximation to first order of the [[parallel transport]] of ''A''<sub>0</sub>''X''<sub>0</sub> along the curve.]]\n",
      "[[Parallel transport]] can be discretely approximated by [[Schild's ladder]], which approximates Levi-Civita parallelogramoids by approximate parallelograms.\n",
      "\n",
      "==References==\n",
      "*{{citation | first = Élie | last = Cartan | authorlink=Élie Cartan|title = Geometry of Riemannian Spaces| publisher = Math Sci Press, Massachusetts | year = 1983}}\n",
      "\n",
      "[[Category:Curvature (mathematics)]]\n",
      "[[Category:Differential geometry]]\n",
      "[[Category:Quadrilaterals]]\n"
     ]
    }
   ],
   "source": [
    "print(articles[1]['full_text'])"
   ]
  },
  {
   "cell_type": "code",
   "execution_count": 67,
   "metadata": {},
   "outputs": [
    {
     "ename": "TypeError",
     "evalue": "Object of type 'Heading' is not JSON serializable",
     "output_type": "error",
     "traceback": [
      "\u001b[0;31m---------------------------------------------------------------------------\u001b[0m",
      "\u001b[0;31mTypeError\u001b[0m                                 Traceback (most recent call last)",
      "\u001b[0;32m<ipython-input-67-644963ebcc2b>\u001b[0m in \u001b[0;36m<module>\u001b[0;34m\u001b[0m\n\u001b[1;32m      1\u001b[0m \u001b[0;32mwith\u001b[0m \u001b[0mopen\u001b[0m\u001b[0;34m(\u001b[0m\u001b[0;34m'data/temp_results/file1.json'\u001b[0m\u001b[0;34m,\u001b[0m \u001b[0;34m'w'\u001b[0m\u001b[0;34m)\u001b[0m \u001b[0;32mas\u001b[0m \u001b[0mfout\u001b[0m\u001b[0;34m:\u001b[0m\u001b[0;34m\u001b[0m\u001b[0m\n\u001b[1;32m      2\u001b[0m     \u001b[0;32mfor\u001b[0m \u001b[0mpage\u001b[0m \u001b[0;32min\u001b[0m \u001b[0mhandler\u001b[0m\u001b[0;34m.\u001b[0m\u001b[0m_articles\u001b[0m\u001b[0;34m:\u001b[0m\u001b[0;34m\u001b[0m\u001b[0m\n\u001b[0;32m----> 3\u001b[0;31m         \u001b[0mfout\u001b[0m\u001b[0;34m.\u001b[0m\u001b[0mwrite\u001b[0m\u001b[0;34m(\u001b[0m\u001b[0mjson\u001b[0m\u001b[0;34m.\u001b[0m\u001b[0mdumps\u001b[0m\u001b[0;34m(\u001b[0m\u001b[0mpage\u001b[0m\u001b[0;34m)\u001b[0m \u001b[0;34m+\u001b[0m \u001b[0;34m'\\n'\u001b[0m\u001b[0;34m)\u001b[0m\u001b[0;34m\u001b[0m\u001b[0m\n\u001b[0m\u001b[1;32m      4\u001b[0m \u001b[0;34m\u001b[0m\u001b[0m\n",
      "\u001b[0;32m~/anaconda3/lib/python3.6/json/__init__.py\u001b[0m in \u001b[0;36mdumps\u001b[0;34m(obj, skipkeys, ensure_ascii, check_circular, allow_nan, cls, indent, separators, default, sort_keys, **kw)\u001b[0m\n\u001b[1;32m    229\u001b[0m         \u001b[0mcls\u001b[0m \u001b[0;32mis\u001b[0m \u001b[0;32mNone\u001b[0m \u001b[0;32mand\u001b[0m \u001b[0mindent\u001b[0m \u001b[0;32mis\u001b[0m \u001b[0;32mNone\u001b[0m \u001b[0;32mand\u001b[0m \u001b[0mseparators\u001b[0m \u001b[0;32mis\u001b[0m \u001b[0;32mNone\u001b[0m \u001b[0;32mand\u001b[0m\u001b[0;34m\u001b[0m\u001b[0m\n\u001b[1;32m    230\u001b[0m         default is None and not sort_keys and not kw):\n\u001b[0;32m--> 231\u001b[0;31m         \u001b[0;32mreturn\u001b[0m \u001b[0m_default_encoder\u001b[0m\u001b[0;34m.\u001b[0m\u001b[0mencode\u001b[0m\u001b[0;34m(\u001b[0m\u001b[0mobj\u001b[0m\u001b[0;34m)\u001b[0m\u001b[0;34m\u001b[0m\u001b[0m\n\u001b[0m\u001b[1;32m    232\u001b[0m     \u001b[0;32mif\u001b[0m \u001b[0mcls\u001b[0m \u001b[0;32mis\u001b[0m \u001b[0;32mNone\u001b[0m\u001b[0;34m:\u001b[0m\u001b[0;34m\u001b[0m\u001b[0m\n\u001b[1;32m    233\u001b[0m         \u001b[0mcls\u001b[0m \u001b[0;34m=\u001b[0m \u001b[0mJSONEncoder\u001b[0m\u001b[0;34m\u001b[0m\u001b[0m\n",
      "\u001b[0;32m~/anaconda3/lib/python3.6/json/encoder.py\u001b[0m in \u001b[0;36mencode\u001b[0;34m(self, o)\u001b[0m\n\u001b[1;32m    197\u001b[0m         \u001b[0;31m# exceptions aren't as detailed.  The list call should be roughly\u001b[0m\u001b[0;34m\u001b[0m\u001b[0;34m\u001b[0m\u001b[0m\n\u001b[1;32m    198\u001b[0m         \u001b[0;31m# equivalent to the PySequence_Fast that ''.join() would do.\u001b[0m\u001b[0;34m\u001b[0m\u001b[0;34m\u001b[0m\u001b[0m\n\u001b[0;32m--> 199\u001b[0;31m         \u001b[0mchunks\u001b[0m \u001b[0;34m=\u001b[0m \u001b[0mself\u001b[0m\u001b[0;34m.\u001b[0m\u001b[0miterencode\u001b[0m\u001b[0;34m(\u001b[0m\u001b[0mo\u001b[0m\u001b[0;34m,\u001b[0m \u001b[0m_one_shot\u001b[0m\u001b[0;34m=\u001b[0m\u001b[0;32mTrue\u001b[0m\u001b[0;34m)\u001b[0m\u001b[0;34m\u001b[0m\u001b[0m\n\u001b[0m\u001b[1;32m    200\u001b[0m         \u001b[0;32mif\u001b[0m \u001b[0;32mnot\u001b[0m \u001b[0misinstance\u001b[0m\u001b[0;34m(\u001b[0m\u001b[0mchunks\u001b[0m\u001b[0;34m,\u001b[0m \u001b[0;34m(\u001b[0m\u001b[0mlist\u001b[0m\u001b[0;34m,\u001b[0m \u001b[0mtuple\u001b[0m\u001b[0;34m)\u001b[0m\u001b[0;34m)\u001b[0m\u001b[0;34m:\u001b[0m\u001b[0;34m\u001b[0m\u001b[0m\n\u001b[1;32m    201\u001b[0m             \u001b[0mchunks\u001b[0m \u001b[0;34m=\u001b[0m \u001b[0mlist\u001b[0m\u001b[0;34m(\u001b[0m\u001b[0mchunks\u001b[0m\u001b[0;34m)\u001b[0m\u001b[0;34m\u001b[0m\u001b[0m\n",
      "\u001b[0;32m~/anaconda3/lib/python3.6/json/encoder.py\u001b[0m in \u001b[0;36miterencode\u001b[0;34m(self, o, _one_shot)\u001b[0m\n\u001b[1;32m    255\u001b[0m                 \u001b[0mself\u001b[0m\u001b[0;34m.\u001b[0m\u001b[0mkey_separator\u001b[0m\u001b[0;34m,\u001b[0m \u001b[0mself\u001b[0m\u001b[0;34m.\u001b[0m\u001b[0mitem_separator\u001b[0m\u001b[0;34m,\u001b[0m \u001b[0mself\u001b[0m\u001b[0;34m.\u001b[0m\u001b[0msort_keys\u001b[0m\u001b[0;34m,\u001b[0m\u001b[0;34m\u001b[0m\u001b[0m\n\u001b[1;32m    256\u001b[0m                 self.skipkeys, _one_shot)\n\u001b[0;32m--> 257\u001b[0;31m         \u001b[0;32mreturn\u001b[0m \u001b[0m_iterencode\u001b[0m\u001b[0;34m(\u001b[0m\u001b[0mo\u001b[0m\u001b[0;34m,\u001b[0m \u001b[0;36m0\u001b[0m\u001b[0;34m)\u001b[0m\u001b[0;34m\u001b[0m\u001b[0m\n\u001b[0m\u001b[1;32m    258\u001b[0m \u001b[0;34m\u001b[0m\u001b[0m\n\u001b[1;32m    259\u001b[0m def _make_iterencode(markers, _default, _encoder, _indent, _floatstr,\n",
      "\u001b[0;32m~/anaconda3/lib/python3.6/json/encoder.py\u001b[0m in \u001b[0;36mdefault\u001b[0;34m(self, o)\u001b[0m\n\u001b[1;32m    178\u001b[0m         \"\"\"\n\u001b[1;32m    179\u001b[0m         raise TypeError(\"Object of type '%s' is not JSON serializable\" %\n\u001b[0;32m--> 180\u001b[0;31m                         o.__class__.__name__)\n\u001b[0m\u001b[1;32m    181\u001b[0m \u001b[0;34m\u001b[0m\u001b[0m\n\u001b[1;32m    182\u001b[0m     \u001b[0;32mdef\u001b[0m \u001b[0mencode\u001b[0m\u001b[0;34m(\u001b[0m\u001b[0mself\u001b[0m\u001b[0;34m,\u001b[0m \u001b[0mo\u001b[0m\u001b[0;34m)\u001b[0m\u001b[0;34m:\u001b[0m\u001b[0;34m\u001b[0m\u001b[0m\n",
      "\u001b[0;31mTypeError\u001b[0m: Object of type 'Heading' is not JSON serializable"
     ]
    }
   ],
   "source": [
    "with open('data/temp_results/file1.json', 'w') as fout:\n",
    "    for page in handler._articles:\n",
    "        fout.write(json.dumps(page) + '\\n')\n",
    "    "
   ]
  },
  {
   "cell_type": "code",
   "execution_count": null,
   "metadata": {},
   "outputs": [],
   "source": [
    "with open(out_dir, 'w') as fout:\n",
    "            # Write as json\n",
    "            for book in handler._books:\n",
    "                fout.write(json.dumps(book) + '\\n')"
   ]
  },
  {
   "cell_type": "code",
   "execution_count": null,
   "metadata": {},
   "outputs": [],
   "source": []
  },
  {
   "cell_type": "code",
   "execution_count": null,
   "metadata": {},
   "outputs": [],
   "source": []
  },
  {
   "cell_type": "code",
   "execution_count": null,
   "metadata": {},
   "outputs": [],
   "source": []
  },
  {
   "cell_type": "code",
   "execution_count": null,
   "metadata": {},
   "outputs": [],
   "source": []
  },
  {
   "cell_type": "code",
   "execution_count": null,
   "metadata": {},
   "outputs": [],
   "source": []
  },
  {
   "cell_type": "code",
   "execution_count": null,
   "metadata": {},
   "outputs": [],
   "source": []
  },
  {
   "cell_type": "code",
   "execution_count": null,
   "metadata": {},
   "outputs": [],
   "source": []
  },
  {
   "cell_type": "code",
   "execution_count": null,
   "metadata": {},
   "outputs": [],
   "source": []
  },
  {
   "cell_type": "code",
   "execution_count": null,
   "metadata": {},
   "outputs": [],
   "source": []
  },
  {
   "cell_type": "code",
   "execution_count": null,
   "metadata": {},
   "outputs": [],
   "source": []
  },
  {
   "cell_type": "code",
   "execution_count": null,
   "metadata": {},
   "outputs": [],
   "source": []
  },
  {
   "cell_type": "code",
   "execution_count": null,
   "metadata": {},
   "outputs": [],
   "source": []
  },
  {
   "cell_type": "code",
   "execution_count": null,
   "metadata": {},
   "outputs": [],
   "source": []
  },
  {
   "cell_type": "code",
   "execution_count": null,
   "metadata": {},
   "outputs": [],
   "source": []
  },
  {
   "cell_type": "code",
   "execution_count": null,
   "metadata": {},
   "outputs": [],
   "source": []
  },
  {
   "cell_type": "code",
   "execution_count": null,
   "metadata": {},
   "outputs": [],
   "source": []
  },
  {
   "cell_type": "code",
   "execution_count": 67,
   "metadata": {},
   "outputs": [],
   "source": [
    "def cycle_articles(x):\n",
    "    for i in x:\n",
    "        yield(i)"
   ]
  },
  {
   "cell_type": "code",
   "execution_count": 68,
   "metadata": {},
   "outputs": [],
   "source": [
    "article = cycle_articles(articles)"
   ]
  },
  {
   "cell_type": "code",
   "execution_count": 75,
   "metadata": {},
   "outputs": [
    {
     "data": {
      "text/plain": [
       "('Regular chain',\n",
       " \"In computer algebra, a regular chain is a particular kind of triangular set in a multivariate polynomial ring over a field. It enhances the notion of characteristic set. \\n \\n == Introduction == \\n \\n Given a linear system, one can convert it to a triangular system via Gaussian elimination. For the non-linear case, given a polynomial system F over a field, one can convert (decompose or triangularize) it to a finite set of triangular sets, in the sense that the algebraic variety V(F) is described by these triangular sets. \\n \\n A triangular set may merely describe the empty set. To fix this degenerated case, the notion of regular chain was introduced, independently by Kalkbrener (1993), Yang and Zhang (1994). Regular chains also appear in Chou and Gao (1992). Regular chains are special triangular sets which are used in different algorithms for computing unmixed-dimensional decompositions of algebraic varieties. Without using factorization, these decompositions have better properties that the ones produced by Wu's algorithm. Kalkbrener's original definition was based on the following observation: every irreducible variety is uniquely determined by one of its generic points and varieties can be represented by describing the generic points of their irreducible components. These generic points are given by regular chains. \\n \\n == Examples == \\n \\n Denote Q the rational number field. In Q[x < sub > 1 < /sub > , x < sub > 2 < /sub > , x < sub > 3 < /sub > ] with variable ordering x < sub > 1 < /sub >   <  x < sub > 2 < /sub >   <  x < sub > 3 < /sub > , \\n :  < math > T = \\\\{ x_2^2-x_1^2, x_2(x_3-x_1)\\\\} < /math > \\n is a triangular set and also a regular chain. Two generic points given by T are (a, a, a) and (a, -a, a) where a is transcendental over Q. \\n Thus there are two irreducible components, given by { x < sub > 2 < /sub >  - x < sub > 1 < /sub > , x < sub > 3 < /sub >  - x < sub > 1 < /sub >  } and { x < sub > 2 < /sub >  + x < sub > 1 < /sub > , x < sub > 3 < /sub >  - x < sub > 1 < /sub >  }, respectively. \\n Note that: (1) the content of the second polynomial is x < sub > 2 < /sub > , which does not contribute to the generic points represented and thus can be removed; (2) the dimension of each component is 1, the number of free variables in the regular chain. \\n \\n == Formal definitions == \\n \\n The variables in the polynomial ring  \\n : < math > R = k[x_1, \\\\ldots, x_n] < /math >   \\n are always sorted as x < sub > 1 < /sub >   <  ...  <  x < sub > n < /sub > .  \\n A non-constant polynomial f in   < math > R < /math >  can be seen as a univariate polynomial in its greatest variable. \\n The greatest variable in f is called its main variable, denoted by mvar(f). Let u be  \\n the main variable of f and write it as  \\n : < math > f = a_eu^e + \\\\cdots + a_0 < /math > ,  \\n where e is the degree of f w.r.t. u  and  < math > a_e < /math >  is  \\n the leading coefficient of f w.r.t. u.  Then the initial of f \\n is  < math > a_e < /math >  and e is its main degree. \\n \\n *Triangular set \\n \\n A non-empty subset T of  < math > R < /math >  is a triangular set,  \\n if the polynomials in T are non-constant and have distinct main variables.  \\n Hence, a triangular set is finite, and has cardinality at most n. \\n \\n *Regular chain \\n \\n Let T = {t < sub > 1 < /sub > , ..., t < sub > s < /sub > } be a triangular set such that  \\n mvar(t < sub > 1 < /sub > )  <  ...  <  mvar(t < sub > s < /sub > ),  \\n < math > h_i < /math >  be the initial of t < sub > i < /sub >  and h be the product of h < sub > i < /sub > 's.  \\n Then T is a regular chain if  \\n :  < math > \\\\mathrm{resultant}(h, T) =  \\n \\\\mathrm{resultant}(\\\\cdots(\\\\mathrm{resultant}(h, t_s),\\\\ldots, t_i)\\\\cdots)\\\\neq 0 < /math > ,  \\n where each resultant is computed with respect to the main variable of t < sub > i < /sub > , respectively.   \\n This definition is from Yang and Zhang, which is of much algorithmic flavor. \\n \\n *Quasi-component and saturated ideal of a regular chain \\n \\n The quasi-component W(T) described by the regular chain T is  \\n : < math > W(T)=V(T)\\\\setminus V(h) < /math > , that is, \\n the set difference of the varieties V(T) and V(h).  \\n The attached algebraic object of a regular chain is its saturated ideal  \\n : < math > \\\\mathrm{sat}(T)=(T):h^\\\\infty < /math > .  \\n A classic result is that the Zariski closure of W(T) equals the variety defined by sat(T), that is, \\n : < math > \\\\overline{W(T)}=V(\\\\mathrm{sat}(T)) < /math > , \\n and its dimension is n - |T|, the difference of the number of variables and the number of polynomials in T. \\n \\n *Triangular decompositions \\n \\n In general, there are two ways to decompose a polynomial system F. The first one is to decompose lazily, that is, only to represent its generic points in the (Kalkbrener) sense, \\n :  < math > \\\\sqrt{(F)}=\\\\cap_{i=1}^{e}\\\\sqrt{\\\\mathrm{sat}(T_i)} < /math > . \\n The second is to describe all zeroes in the Lazard sense, \\n :  < math > V(F)=\\\\cup_{i=1}^{e}W(T_i) < /math > . \\n There are various algorithms available for triangular decompositions in either sense. \\n \\n == Properties == \\n \\n Let T be a regular chain in the polynomial ring R. \\n \\n * The saturated ideal sat(T) is an unmixed ideal with dimension n − |T|. \\n * A regular chain holds a strong elimination property in the sense that: \\n :  < math >  \\\\mathrm{sat}(T \\\\cap k[x_1, \\\\ldots , x_i]) = \\\\mathrm{sat}(T) \\\\cap k[x_1,\\\\ldots , x_i]  < /math > . \\n \\n * A polynomial p is in sat(T) if and only if p is pseudo-reduced to zero by T, that is, \\n :  < math > p\\\\in\\\\mathrm{sat}(T)\\\\iff \\\\mathrm{prem}(p, T)=0 < /math > . \\n :Hence the membership test for sat(T) is algorithmic. \\n \\n * A polynomial p is a zero-divisor modulo sat(T) if and only if  < math > \\\\mathrm{prem}(p, T)\\\\neq0 < /math >  and  < math > \\\\mathrm{resultant}(p, T)=0 < /math > . \\n :Hence the regularity test for sat(T) is algorithmic. \\n \\n * Given a prime ideal P, there exists a regular chain C such that P = sat(C). \\n * If the first element of a regular chain C is an irreducible polynomial and the others are linear in their main variable, then sat(C) is a prime ideal. \\n * Conversely, if P is a prime ideal, then, after almost all linear changes of variables, there exists a regular chain C of the preceding shape such that P = sat(C). \\n * A triangular set is a regular chain if and only if it is a Ritt characteristic set of its saturated ideal. \\n \\n == See also == \\n *Wu's method of characteristic set \\n *Gröbner basis \\n *RegularChains, a software to compute with regular chains \\n *Regular semi-algebraic system \\n *Triangular decomposition \\n \\n == Further references == \\n \\n * P. Aubry, D. Lazard, M. Moreno Maza. On the theories of triangular sets. Journal of Symbolic Computation, 28(1 & ndash;2):105 & ndash;124, 1999. \\n * F. Boulier and F. Lemaire and M. Moreno Maza. Well known theorems on triangular systems and the D5 principle. Transgressive Computing 2006, Granada, Spain. \\n * E. Hubert. Notes on triangular sets and triangulation-decomposition algorithms I: Polynomial systems.  LNCS, volume 2630, Springer-Verlag Heidelberg. \\n * F. Lemaire and M. Moreno Maza and Y. Xie. The RegularChains library. Maple Conference 2005.  \\n * M. Kalkbrener: Algorithmic Properties of Polynomial Rings. J. Symb. Comput. 26(5): 525 & ndash;581 (1998). \\n * M. Kalkbrener: & pid=1-s2.0-S0747717183710114-main.pdf & _valck=1 A Generalized Euclidean Algorithm for Computing Triangular Representations of Algebraic Varieties. J. Symb. Comput. 15(2): 143 & ndash;167 (1993). \\n * D. Wang. Computing Triangular Systems and Regular Systems. Journal of Symbolic Computation 30(2) (2000) 221 & ndash;236. \\n * Yang, L., Zhang, J. (1994). Searching dependency between algebraic equations: an algorithm applied to automated reasoning. Artificial Intel ligence in Mathematics, pp. & nbsp;14715,  Oxford University Press. \\n \\n Category:Equations \\n Category:Algebra \\n Category:Polynomials \\n Category:Algebraic geometry \\n Category:Computer algebra\",\n",
       " [],\n",
       " ['computer algebra',\n",
       "  \"Wu's method of characteristic set|characteristic set\",\n",
       "  'System of linear equations|linear system',\n",
       "  'Triangular matrix|triangular system',\n",
       "  'Gaussian elimination',\n",
       "  'System of polynomial equations|polynomial system',\n",
       "  'algebraic variety',\n",
       "  \"Wu's method|Wu's algorithm\",\n",
       "  'generic point',\n",
       "  'content (algebra)|content',\n",
       "  'dimension',\n",
       "  'resultant',\n",
       "  'Zariski closure',\n",
       "  'generic point',\n",
       "  'Daniel Lazard|Lazard',\n",
       "  'zero-divisor',\n",
       "  \"Wu's method of characteristic set#Ritt characteristic set|Ritt characteristic set\",\n",
       "  \"Wu's method of characteristic set\",\n",
       "  'Gröbner basis',\n",
       "  'RegularChains',\n",
       "  'Regular semi-algebraic system',\n",
       "  'Triangular decomposition'])"
      ]
     },
     "execution_count": 75,
     "metadata": {},
     "output_type": "execute_result"
    }
   ],
   "source": [
    "next(article)"
   ]
  },
  {
   "cell_type": "code",
   "execution_count": 80,
   "metadata": {},
   "outputs": [
    {
     "data": {
      "text/plain": [
       "('List of mathematical series',\n",
       " 'This list of mathematical series contains formulae for finite and infinite sums. It can be used in conjunction with other tools for evaluating sums. \\n *Here,  < math > 0^0 < /math >  is taken to have the value  < math > 1 < /math > \\n * < math > B_n(x) < /math >  is a Bernoulli polynomial. \\n * < math > B_n < /math >  is a Bernoulli number, and here,  < math > B_1=-\\\\frac{1}{2}. < /math > \\n * < math > E_n < /math >  is an Euler number. \\n * < math > \\\\zeta(s) < /math >  is the Riemann zeta function. \\n * < math > \\\\Gamma(z) < /math >  is the gamma function. \\n * < math > \\\\psi_n(z) < /math >  is a polygamma function. \\n * < math > \\\\operatorname{Li}_s(z) < /math >  is a polylogarithm. \\n * < math >  n \\\\choose k  < /math >  is binomial coefficient \\n \\n ==Sums of powers== \\n See Faulhaber\\'s formula. \\n * < math > \\\\sum_{k=0}^m k^{n-1}=\\\\frac{B_n(m+1)-B_n}{n} < /math > \\n The first few values are: \\n * < math > \\\\sum_{k=1}^m k=\\\\frac{m(m+1)}{2} < /math > \\n * < math > \\\\sum_{k=1}^m k^2=\\\\frac{m(m+1)(2m+1)}{6}=\\\\frac{m^3}{3}+\\\\frac{m^2}{2}+\\\\frac{m}{6} < /math > \\n * < math > \\\\sum_{k=1}^m k^3 \\n \\n =\\\\left[\\\\frac{m(m+1)}{2}\\\\right]^2=\\\\frac{m^4}{4}+\\\\frac{m^3}{2}+\\\\frac{m^2}{4} < /math > \\n \\n See zeta constants. \\n * < math > \\\\zeta(2n)=\\\\sum^{\\\\infty}_{k=1} \\\\frac{1}{k^{2n}}=(-1)^{n+1} \\\\frac{B_{2n} (2\\\\pi)^{2n}}{2(2n)!}  < /math > \\n The first few values are: \\n * < math > \\\\zeta(2)=\\\\sum^{\\\\infty}_{k=1} \\\\frac{1}{k^2}=\\\\frac{\\\\pi^2}{6} < /math >  (the Basel problem) \\n * < math > \\\\zeta(4)=\\\\sum^{\\\\infty}_{k=1} \\\\frac{1}{k^4}=\\\\frac{\\\\pi^4}{90} < /math > \\n * < math > \\\\zeta(6)=\\\\sum^{\\\\infty}_{k=1} \\\\frac{1}{k^6}=\\\\frac{\\\\pi^6}{945} < /math > \\n \\n ==Power series== \\n \\n ===Low-order polylogarithms=== \\n Finite sums: \\n * < math > \\\\sum_{k=0}^{n} z^k = \\\\frac{1-z^{n+1}}{1-z} < /math > , (geometric series) \\n * < math > \\\\sum_{k=1}^n k z^k = z\\\\frac{1-(n+1)z^n+nz^{n+1}}{(1-z)^2} < /math > \\n * < math > \\\\sum_{k=1}^n k^2 z^k = z\\\\frac{1+z-(n+1)^2z^n+(2n^2+2n-1)z^{n+1}-n^2z^{n+2}}{(1-z)^3}  < /math > \\n * < math > \\\\sum_{k=1}^n k^m z^k = \\\\left(z \\\\frac{d}{dz}\\\\right)^m \\\\frac{1-z^{n+1}}{1-z} < /math > \\n \\n Infinite sums, valid for  < math > |z| < 1 < /math >  (see polylogarithm): \\n * < math > \\\\operatorname{Li}_n(z)=\\\\sum_{k=1}^{\\\\infty} \\\\frac{z^k}{k^n} < /math > \\n The following is a useful property to calculate low-integer-order polylogarithms recursively in closed form: \\n * < math > \\\\frac{\\\\mathrm{d}}{\\\\mathrm{d}z}\\\\operatorname{Li}_n(z)=\\\\frac{\\\\operatorname{Li}_{n-1}(z)}{z} < /math > \\n * < math > \\\\operatorname{Li}_{1}(z)=\\\\sum_{k=1}^\\\\infty \\\\frac{z^k}{k}=-\\\\ln(1-z) < /math > \\n * < math > \\\\operatorname{Li}_{0}(z)=\\\\sum_{k=1}^\\\\infty z^k=\\\\frac{z}{1-z} < /math > \\n * < math > \\\\operatorname{Li}_{-1}(z)=\\\\sum_{k=1}^\\\\infty k z^k=\\\\frac{z}{(1-z)^2} < /math > \\n * < math > \\\\operatorname{Li}_{-2}(z)=\\\\sum_{k=1}^\\\\infty k^2 z^k=\\\\frac{z(1+z)}{(1-z)^3} < /math > \\n * < math > \\\\operatorname{Li}_{-3}(z)=\\\\sum_{k=1}^\\\\infty k^3 z^k =\\\\frac{z(1+4z+z^2)}{(1-z)^4} < /math > \\n * < math > \\\\operatorname{Li}_{-4}(z)=\\\\sum_{k=1}^\\\\infty k^4 z^k =\\\\frac{z(1+z)(1+10z+z^2)}{(1-z)^5} < /math > \\n \\n ===Exponential function=== \\n * < math > \\\\sum_{k=0}^\\\\infty \\\\frac{z^k}{k!} = e^z < /math > \\n * < math > \\\\sum_{k=0}^\\\\infty k\\\\frac{z^k}{k!} = z e^z < /math >  (cf. mean of Poisson distribution) \\n * < math > \\\\sum_{k=0}^\\\\infty k^2 \\\\frac{z^k}{k!} = (z + z^2) e^z < /math >  (cf. second moment of Poisson distribution) \\n * < math > \\\\sum_{k=0}^\\\\infty k^3 \\\\frac{z^k}{k!} = (z + 3z^2 + z^3) e^z < /math > \\n * < math > \\\\sum_{k=0}^\\\\infty k^4 \\\\frac{z^k}{k!} = (z + 7z^2 + 6z^3 + z^4) e^z < /math > \\n * < math > \\\\sum_{k=0}^\\\\infty k^n \\\\frac{z^k}{k!} = z \\\\frac{d}{dz} \\\\sum_{k=0}^\\\\infty k^{n-1} \\\\frac{z^k}{k!}\\\\,\\\\! = e^z T_{n}(z)  < /math > \\n \\n where  < math > T_{n}(z) < /math >  is the Touchard polynomials. \\n \\n ===Trigonometric, inverse trigonometric, hyperbolic, and inverse hyperbolic functions=== \\n \\n * < math > \\\\sum_{k=0}^\\\\infty \\\\frac{(-1)^k z^{2k+1}}{(2k+1)!}=\\\\sin z < /math > \\n * < math > \\\\sum_{k=0}^\\\\infty \\\\frac{z^{2k+1}}{(2k+1)!}=\\\\sinh z < /math > \\n * < math > \\\\sum_{k=0}^\\\\infty \\\\frac{(-1)^k z^{2k}}{(2k)!}=\\\\cos z < /math > \\n * < math > \\\\sum_{k=0}^\\\\infty \\\\frac{z^{2k}}{(2k)!}=\\\\cosh z < /math > \\n * < math > \\\\sum_{k=1}^\\\\infty \\\\frac{(-1)^{k-1}(2^{2k}-1)2^{2k}B_{2k}z^{2k-1}}{(2k)!}=\\\\tan z, |z| < \\\\frac{\\\\pi}{2} < /math > \\n * < math > \\\\sum_{k=1}^\\\\infty \\\\frac{(2^{2k}-1)2^{2k}B_{2k}z^{2k-1}}{(2k)!}=\\\\tanh z, |z| < \\\\frac{\\\\pi}{2} < /math > \\n * < math > \\\\sum_{k=0}^\\\\infty \\\\frac{(-1)^k2^{2k}B_{2k}z^{2k-1}}{(2k)!}=\\\\cot z, |z| < \\\\pi < /math > \\n * < math > \\\\sum_{k=0}^\\\\infty \\\\frac{2^{2k}B_{2k}z^{2k-1}}{(2k)!}=\\\\coth z, |z| < \\\\pi < /math > \\n * < math > \\\\sum_{k=0}^\\\\infty \\\\frac{(-1)^{k-1}(2^{2k}-2)B_{2k}z^{2k-1}}{(2k)!}=\\\\csc z, |z| < \\\\pi < /math > \\n * < math > \\\\sum_{k=0}^\\\\infty \\\\frac{-(2^{2k}-2)B_{2k}z^{2k-1}}{(2k)!}=\\\\operatorname{csch} z, |z| < \\\\pi < /math > \\n * < math > \\\\sum_{k=0}^\\\\infty \\\\frac{(-1)^kE_{2k}z^{2k}}{(2k)!}=\\\\operatorname{sech} z, |z| < \\\\frac{\\\\pi}{2} < /math > \\n * < math > \\\\sum_{k=0}^\\\\infty \\\\frac{E_{2k}z^{2k}}{(2k)!}=\\\\sec z, |z| < \\\\frac{\\\\pi}{2} < /math > \\n * < math > \\\\sum_{k=1}^\\\\infty \\\\frac{(-1)^{k-1} z^{2k}}{(2k)!}=\\\\operatorname{ver}z < /math >  (versine) \\n * < math > \\\\sum_{k=1}^\\\\infty \\\\frac{(-1)^{k-1} z^{2k}}{2(2k)!}=\\\\operatorname{hav}z < /math > < ref name= \" Weisstein_hav \" >  < /ref >  (haversine) \\n * < math > \\\\sum_{k=0}^\\\\infty \\\\frac{(2k)!z^{2k+1}}{2^{2k}(k!)^2(2k+1)}=\\\\arcsin z, |z|\\\\le1 < /math > \\n * < math > \\\\sum_{k=0}^\\\\infty \\\\frac{(-1)^k(2k)!z^{2k+1}}{2^{2k}(k!)^2(2k+1)}=\\\\operatorname{arcsinh} {z}, |z|\\\\le1 < /math > \\n * < math > \\\\sum_{k=0}^\\\\infty \\\\frac{(-1)^kz^{2k+1}}{2k+1}=\\\\arctan z, |z| < 1 < /math > \\n * < math > \\\\sum_{k=0}^\\\\infty \\\\frac{z^{2k+1}}{2k+1}=\\\\operatorname{arctanh} z, |z| < 1 < /math > \\n * < math > \\\\ln2+\\\\sum_{k=1}^\\\\infty \\\\frac{(-1)^{k-1}(2k)!z^{2k}}{2^{2k+1}k(k!)^2}=\\\\ln\\\\left(1+\\\\sqrt{1+z^2}\\\\right), |z|\\\\le1 < /math > \\n \\n ===Modified-factorial denominators=== \\n * < math > \\\\sum^{\\\\infty}_{k=0} \\\\frac{(4k)!}{2^{4k} \\\\sqrt{2} (2k)! (2k+1)!} z^k = \\\\sqrt{\\\\frac{1-\\\\sqrt{1-z}}{z}}, |z| < 1 < /math > < ref name= \" gfo \" >  < /ref > \\n * < math > \\\\sum^{\\\\infty}_{k=0} \\\\frac{2^{2k} (k!)^2}{(k+1) (2k+1)!} z^{2k+2} = \\\\left(\\\\arcsin{z}\\\\right)^2, |z|\\\\le1  < /math > < ref name= \" gfo \" / > \\n * < math > \\\\sum^{\\\\infty}_{n=0} \\\\frac{\\\\prod_{k=0}^{n-1}(4k^2+\\\\alpha^2)}{(2n)!} z^{2n} + \\\\sum^{\\\\infty}_{n=0} \\\\frac{\\\\alpha \\\\prod_{k=0}^{n-1}[(2k+1)^2+\\\\alpha^2]}{(2n+1)!}  z^{2n+1} = e^{\\\\alpha \\\\arcsin{z}}, |z|\\\\le1  < /math > \\n \\n === Binomial coefficients === \\n * < math > (1+z)^\\\\alpha = \\\\sum_{k=0}^\\\\infty {\\\\alpha \\\\choose k} z^k, |z| < 1 < /math >  (see Binomial theorem) \\n * < ref name= \" ctcs \" >  < /ref >   < math > \\\\sum_{k=0}^\\\\infty {{\\\\alpha+k-1} \\\\choose k} z^k = \\\\frac{1}{(1-z)^\\\\alpha}, |z| < 1 < /math > \\n * < ref name= \" ctcs \" / >   < math > \\\\sum_{k=0}^\\\\infty \\\\frac{1}{k+1}{2k \\\\choose k} z^k = \\\\frac{1-\\\\sqrt{1-4z}}{2z}, |z|\\\\leq\\\\frac{1}{4} < /math > , generating function of the Catalan numbers \\n * < ref name= \" ctcs \" / >   < math > \\\\sum_{k=0}^\\\\infty {2k \\\\choose k} z^k = \\\\frac{1}{\\\\sqrt{1-4z}}, |z| < \\\\frac{1}{4} < /math > , generating function of the Central binomial coefficients \\n * < ref name= \" ctcs \" / >   < math > \\\\sum_{k=0}^\\\\infty {2k + \\\\alpha \\\\choose k} z^k = \\\\frac{1}{\\\\sqrt{1-4z}}\\\\left(\\\\frac{1-\\\\sqrt{1-4z}}{2z}\\\\right)^\\\\alpha, |z| < \\\\frac{1}{4} < /math > \\n \\n ===Harmonic numbers=== \\n * < math >  \\\\sum_{k=1}^\\\\infty H_k z^k = \\\\frac{-\\\\ln(1-z)}{1-z}, |z| < 1 < /math > \\n * < math >  \\\\sum_{k=1}^\\\\infty \\\\frac{H_k}{k+1} z^{k+1} = \\\\frac{1}{2}\\\\left[\\\\ln(1-z)\\\\right]^2, \\\\qquad |z| < 1 < /math > \\n * < math >  \\\\sum_{k=1}^\\\\infty \\\\frac{(-1)^{k-1} H_{2k}}{2k+1} z^{2k+1} = \\\\frac{1}{2} \\\\arctan{z} \\\\log{(1+z^2)}, \\\\qquad |z| < 1  < /math > < ref name= \" gfo \" / > \\n * < math >  \\\\sum_{n=0}^\\\\infty \\\\sum_{k=0}^{2n} \\\\frac{(-1)^k}{2k+1} \\\\frac{z^{4n+2}}{4n+2} = \\\\frac{1}{4} \\\\arctan{z} \\\\log{\\\\frac{1+z}{1-z}},\\\\qquad  |z| < 1  < /math > < ref name= \" gfo \" / > \\n \\n == Binomial coefficients == \\n * < math > \\\\sum_{k=0}^n {n \\\\choose k} = 2^n < /math > \\n * < math > \\\\sum_{k=0}^n (-1)^k {n \\\\choose k} = 0, \\\\text{ where }n > 0 < /math > \\n * < math > \\\\sum_{k=0}^n {k \\\\choose m} = { n+1 \\\\choose m+1 } < /math > \\n * < math > \\\\sum_{k=0}^n {m+k-1 \\\\choose k} = { n+m \\\\choose n } < /math >  (see Multiset) \\n * < math > \\\\sum_{k=0}^n {\\\\alpha \\\\choose k}{\\\\beta \\\\choose n-k} = {\\\\alpha+\\\\beta \\\\choose n} < /math >  (see Vandermonde identity) \\n \\n == Trigonometric functions == \\n Sums of sines and cosines arise in Fourier series. \\n \\n * < math > \\\\sum_{k=1}^\\\\infty \\\\frac{\\\\sin(k\\\\theta)}{k}=\\\\frac{\\\\pi-\\\\theta}{2}, 0 < \\\\theta < 2\\\\pi < /math > \\n * < math > \\\\sum_{k=1}^\\\\infty \\\\frac{\\\\cos(k\\\\theta)}{k}=-\\\\frac{1}{2}\\\\ln(2-2\\\\cos\\\\theta), \\\\theta\\\\in\\\\mathbb{R} < /math > \\n * < math > \\\\sum_{k=0}^\\\\infty \\\\frac{\\\\sin[(2k+1)\\\\theta]}{2k+1}=\\\\frac{\\\\pi-\\\\theta}{2}, 0 < \\\\theta < \\\\pi < /math > < ref > http://www.wolframalpha.com/widgets/view.jsp?id=a787670f0f1047d7fbe288763c55ba14 < /ref > \\n * < math > B_n(x)=-\\\\frac{n!}{2^{n-1}\\\\pi^n}\\\\sum_{k=1}^\\\\infty \\\\frac{1}{k^n}\\\\cos\\\\left(2\\\\pi kx-\\\\frac{\\\\pi n}{2}\\\\right), 0 < x < 1 < /math > < ref >  < /ref > \\n * < math > \\\\sum_{k=0}^n \\\\sin(\\\\theta+k\\\\alpha)=\\\\frac{\\\\sin\\\\frac{(n+1)\\\\alpha}{2}\\\\sin(\\\\theta+\\\\frac{n\\\\alpha}{2})}{\\\\sin\\\\frac{\\\\alpha}{2}} < /math > \\n * < math > \\\\sum_{k=0}^n \\\\cos(\\\\theta+k\\\\alpha)=\\\\frac{\\\\sin\\\\frac{(n+1)\\\\alpha}{2}\\\\cos(\\\\theta+\\\\frac{n\\\\alpha}{2})}{\\\\sin\\\\frac{\\\\alpha}{2}} < /math > \\n * < math > \\\\sum_{k=1}^{n-1} \\\\sin\\\\frac{\\\\pi k}{n}=\\\\cot\\\\frac{\\\\pi}{2n} < /math > \\n * < math > \\\\sum_{k=1}^{n-1} \\\\sin\\\\frac{2\\\\pi k}{n}=0 < /math > \\n * < math > \\\\sum_{k=0}^{n-1} \\\\csc^2\\\\left(\\\\theta+\\\\frac{\\\\pi k}{n}\\\\right)=n^2\\\\csc^2(n\\\\theta) < /math > < ref >  < /ref > \\n * < math > \\\\sum_{k=1}^{n-1} \\\\csc^2\\\\frac{\\\\pi k}{n}=\\\\frac{n^2-1}{3} < /math > \\n * < math > \\\\sum_{k=1}^{n-1} \\\\csc^4\\\\frac{\\\\pi k}{n}=\\\\frac{n^4+10n^2-11}{45} < /math > \\n \\n == Rational functions == \\n * < math > \\\\sum_{n=a+1}^{\\\\infty} \\\\frac{a}{n^2 - a^2} = \\\\frac{1}{2} H_{2a} < /math > < ref > \\n  < /ref > \\n * < math > \\\\sum_{n=0}^\\\\infty\\\\frac{1}{n^2+a^2}=\\\\frac{1+a\\\\pi\\\\coth (a\\\\pi)}{2a^2} < /math > \\n * < math > \\\\displaystyle \\\\sum_{n=0}^\\\\infty \\\\frac {1}{n^4+4a^4} = \\\\dfrac{1 + a \\\\pi \\\\coth (a \\\\pi)}{8a^4} < /math > \\n *An infinite series of any rational function of  < math > n < /math >  can be reduced to a finite series of polygamma functions, by use of partial fraction decomposition. < ref >  < /ref >  This fact can also be applied to finite series of rational functions, allowing the result to be computed in constant time even when the series contains a large number of terms. \\n \\n ==See also== \\n  \\n * Series (mathematics) \\n * List of integrals \\n * Summation \\n * Taylor series \\n * Binomial theorem \\n * Gregory\\'s series \\n * On-Line Encyclopedia of Integer Sequences \\n  \\n \\n ==Notes== \\n  \\n \\n ==References== \\n *Many books with a list of integrals also have a list of series. \\n \\n Category:Mathematical series \\n Series \\n Series',\n",
       " [],\n",
       " ['Bernoulli polynomial',\n",
       "  'Bernoulli number',\n",
       "  'Euler number',\n",
       "  'Riemann zeta function',\n",
       "  'gamma function',\n",
       "  'polygamma function',\n",
       "  'polylogarithm',\n",
       "  'binomial coefficient',\n",
       "  \"Faulhaber's formula\",\n",
       "  'zeta constants',\n",
       "  'Basel problem',\n",
       "  'geometric series',\n",
       "  'polylogarithm',\n",
       "  'Closed-form expression|closed form',\n",
       "  'Poisson distribution',\n",
       "  'second moment',\n",
       "  'Touchard polynomials',\n",
       "  'versine',\n",
       "  'MathWorld',\n",
       "  'Wolfram Research, Inc.',\n",
       "  'haversine',\n",
       "  'Binomial theorem',\n",
       "  'Catalan numbers',\n",
       "  'Central binomial coefficient',\n",
       "  'Harmonic number',\n",
       "  'Multiset#Recurrence relation|Multiset',\n",
       "  'Vandermonde identity',\n",
       "  'sine',\n",
       "  'cosine',\n",
       "  'Fourier series',\n",
       "  'MathWorld',\n",
       "  'rational function',\n",
       "  'polygamma function',\n",
       "  'partial fraction decomposition',\n",
       "  'Abramowitz and Stegun|Handbook of Mathematical Functions with Formulas, Graphs, and Mathematical Tables',\n",
       "  'constant time',\n",
       "  'Series (mathematics)',\n",
       "  'List of integrals',\n",
       "  'Summation#Identities|Summation',\n",
       "  'Taylor series',\n",
       "  'Binomial theorem',\n",
       "  \"Gregory's series\",\n",
       "  'On-Line Encyclopedia of Integer Sequences',\n",
       "  'list of integrals'])"
      ]
     },
     "execution_count": 80,
     "metadata": {},
     "output_type": "execute_result"
    }
   ],
   "source": [
    "articles[7]"
   ]
  },
  {
   "cell_type": "code",
   "execution_count": 14,
   "metadata": {},
   "outputs": [],
   "source": [
    "handler2 = WikiXmlHandler()\n",
    "\n",
    "parser2 = xml.sax.make_parser()\n",
    "\n",
    "for i, line in enumerate(subprocess.Popen(['bzcat'], \n",
    "                         stdin = open(data_path), \n",
    "                         stdout = subprocess.PIPE).stdout):\n",
    "    parser2.feed(line)\n",
    "    \n",
    "    if len(handler2._articles) > 3:\n",
    "        break"
   ]
  },
  {
   "cell_type": "code",
   "execution_count": 15,
   "metadata": {},
   "outputs": [
    {
     "ename": "IndexError",
     "evalue": "list index out of range",
     "output_type": "error",
     "traceback": [
      "\u001b[0;31m---------------------------------------------------------------------------\u001b[0m",
      "\u001b[0;31mIndexError\u001b[0m                                Traceback (most recent call last)",
      "\u001b[0;32m<ipython-input-15-3ed3676db2c6>\u001b[0m in \u001b[0;36m<module>\u001b[0;34m\u001b[0m\n\u001b[0;32m----> 1\u001b[0;31m \u001b[0mhandler2\u001b[0m\u001b[0;34m.\u001b[0m\u001b[0m_articles\u001b[0m\u001b[0;34m[\u001b[0m\u001b[0;36m0\u001b[0m\u001b[0;34m]\u001b[0m\u001b[0;34m\u001b[0m\u001b[0m\n\u001b[0m",
      "\u001b[0;31mIndexError\u001b[0m: list index out of range"
     ]
    }
   ],
   "source": [
    "handler2._articles[0]"
   ]
  },
  {
   "cell_type": "code",
   "execution_count": 27,
   "metadata": {},
   "outputs": [],
   "source": [
    "lines = []\n",
    "\n",
    "for i, line in enumerate(subprocess.Popen(['bzcat'], \n",
    "                         stdin = open(data_path), \n",
    "                         stdout = subprocess.PIPE).stdout):\n",
    "    lines.append(line)\n",
    "    if i > 5e5:\n",
    "        break\n",
    "        "
   ]
  },
  {
   "cell_type": "code",
   "execution_count": 28,
   "metadata": {},
   "outputs": [
    {
     "data": {
      "text/plain": [
       "'wiki_dump/26_enwiki-20180720-pages-articles20.xml-p18754736p20254736.bz2'"
      ]
     },
     "execution_count": 28,
     "metadata": {},
     "output_type": "execute_result"
    }
   ],
   "source": [
    "data_path"
   ]
  },
  {
   "cell_type": "code",
   "execution_count": 29,
   "metadata": {},
   "outputs": [
    {
     "ename": "KeyboardInterrupt",
     "evalue": "",
     "output_type": "error",
     "traceback": [
      "\u001b[0;31m---------------------------------------------------------------------------\u001b[0m",
      "\u001b[0;31mKeyboardInterrupt\u001b[0m                         Traceback (most recent call last)",
      "\u001b[0;32m<ipython-input-29-f19886ae75dc>\u001b[0m in \u001b[0;36m<module>\u001b[0;34m\u001b[0m\n\u001b[1;32m      6\u001b[0m for i, line in enumerate(subprocess.Popen(['bzcat'], \n\u001b[1;32m      7\u001b[0m                          \u001b[0mstdin\u001b[0m \u001b[0;34m=\u001b[0m \u001b[0mopen\u001b[0m\u001b[0;34m(\u001b[0m\u001b[0mdata_path\u001b[0m\u001b[0;34m)\u001b[0m\u001b[0;34m,\u001b[0m\u001b[0;34m\u001b[0m\u001b[0m\n\u001b[0;32m----> 8\u001b[0;31m                          stdout = subprocess.PIPE).stdout):\n\u001b[0m\u001b[1;32m      9\u001b[0m     \u001b[0mlines\u001b[0m\u001b[0;34m.\u001b[0m\u001b[0mappend\u001b[0m\u001b[0;34m(\u001b[0m\u001b[0mline\u001b[0m\u001b[0;34m)\u001b[0m\u001b[0;34m\u001b[0m\u001b[0m\n\u001b[1;32m     10\u001b[0m \u001b[0;34m\u001b[0m\u001b[0m\n",
      "\u001b[0;31mKeyboardInterrupt\u001b[0m: "
     ]
    }
   ],
   "source": [
    "from bs4 import BeautifulSoup as bs\n",
    "\n",
    "lines = []\n",
    "for i, line in enumerate(subprocess.Popen(['bzcat'], \n",
    "                         stdin = open(data_path), \n",
    "                         stdout = subprocess.PIPE).stdout):\n",
    "    lines.append(line)\n",
    "\n",
    "soup = bs(b'\\n'.join(lines).decode('utf-8'), 'lxml')\n",
    "\n",
    "import wiki_parse as w\n",
    "lines = w.get_lines_bz2('wiki_dump/' + dumps[4])\n",
    "next(lines)\n",
    "dumps[4]\n",
    "import glob\n",
    "dumps = glob.glob('wiki_dump/*.bz2')\n",
    "lines = w.get_lines_bz2(dumps[4])\n",
    "next(lines)"
   ]
  },
  {
   "cell_type": "code",
   "execution_count": 16,
   "metadata": {},
   "outputs": [
    {
     "name": "stdout",
     "output_type": "stream",
     "text": [
      "This list of mathematical series contains formulae for finite and infinite sums. It can be used in conjunction with other tools for evaluating sums. \n",
      " *Here,  < math > 0^0 < /math >  is taken to have the value  < math > 1 < /math > \n",
      " * < math > B_n(x) < /math >  is a Bernoulli polynomial. \n",
      " * < math > B_n < /math >  is a Bernoulli number, and here,  < math > B_1=-\\frac{1}{2}. < /math > \n",
      " * < math > E_n < /math >  is an Euler number. \n",
      " * < math > \\zeta(s) < /math >  is the Riemann zeta function. \n",
      " * < math > \\Gamma(z) < /math >  is the gamma function. \n",
      " * < math > \\psi_n(z) < /math >  is a polygamma function. \n",
      " * < math > \\operatorname{Li}_s(z) < /math >  is a polylogarithm. \n",
      " * < math >  n \\choose k  < /math >  is binomial coefficient \n",
      " \n",
      " ==Sums of powers== \n",
      " See Faulhaber's formula. \n",
      " * < math > \\sum_{k=0}^m k^{n-1}=\\frac{B_n(m+1)-B_n}{n} < /math > \n",
      " The first few values are: \n",
      " * < math > \\sum_{k=1}^m k=\\frac{m(m+1)}{2} < /math > \n",
      " * < math > \\sum_{k=1}^m k^2=\\frac{m(m+1)(2m+1)}{6}=\\frac{m^3}{3}+\\frac{m^2}{2}+\\frac{m}{6} < /math > \n",
      " * < math > \\sum_{k=1}^m k^3 \n",
      " \n",
      " =\\left[\\frac{m(m+1)}{2}\\right]^2=\\frac{m^4}{4}+\\frac{m^3}{2}+\\frac{m^2}{4} < /math > \n",
      " \n",
      " See zeta constants. \n",
      " * < math > \\zeta(2n)=\\sum^{\\infty}_{k=1} \\frac{1}{k^{2n}}=(-1)^{n+1} \\frac{B_{2n} (2\\pi)^{2n}}{2(2n)!}  < /math > \n",
      " The first few values are: \n",
      " * < math > \\zeta(2)=\\sum^{\\infty}_{k=1} \\frac{1}{k^2}=\\frac{\\pi^2}{6} < /math >  (the Basel problem) \n",
      " * < math > \\zeta(4)=\\sum^{\\infty}_{k=1} \\frac{1}{k^4}=\\frac{\\pi^4}{90} < /math > \n",
      " * < math > \\zeta(6)=\\sum^{\\infty}_{k=1} \\frac{1}{k^6}=\\frac{\\pi^6}{945} < /math > \n",
      " \n",
      " ==Power series== \n",
      " \n",
      " ===Low-order polylogarithms=== \n",
      " Finite sums: \n",
      " * < math > \\sum_{k=0}^{n} z^k = \\frac{1-z^{n+1}}{1-z} < /math > , (geometric series) \n",
      " * < math > \\sum_{k=1}^n k z^k = z\\frac{1-(n+1)z^n+nz^{n+1}}{(1-z)^2} < /math > \n",
      " * < math > \\sum_{k=1}^n k^2 z^k = z\\frac{1+z-(n+1)^2z^n+(2n^2+2n-1)z^{n+1}-n^2z^{n+2}}{(1-z)^3}  < /math > \n",
      " * < math > \\sum_{k=1}^n k^m z^k = \\left(z \\frac{d}{dz}\\right)^m \\frac{1-z^{n+1}}{1-z} < /math > \n",
      " \n",
      " Infinite sums, valid for  < math > |z| < 1 < /math >  (see polylogarithm): \n",
      " * < math > \\operatorname{Li}_n(z)=\\sum_{k=1}^{\\infty} \\frac{z^k}{k^n} < /math > \n",
      " The following is a useful property to calculate low-integer-order polylogarithms recursively in closed form: \n",
      " * < math > \\frac{\\mathrm{d}}{\\mathrm{d}z}\\operatorname{Li}_n(z)=\\frac{\\operatorname{Li}_{n-1}(z)}{z} < /math > \n",
      " * < math > \\operatorname{Li}_{1}(z)=\\sum_{k=1}^\\infty \\frac{z^k}{k}=-\\ln(1-z) < /math > \n",
      " * < math > \\operatorname{Li}_{0}(z)=\\sum_{k=1}^\\infty z^k=\\frac{z}{1-z} < /math > \n",
      " * < math > \\operatorname{Li}_{-1}(z)=\\sum_{k=1}^\\infty k z^k=\\frac{z}{(1-z)^2} < /math > \n",
      " * < math > \\operatorname{Li}_{-2}(z)=\\sum_{k=1}^\\infty k^2 z^k=\\frac{z(1+z)}{(1-z)^3} < /math > \n",
      " * < math > \\operatorname{Li}_{-3}(z)=\\sum_{k=1}^\\infty k^3 z^k =\\frac{z(1+4z+z^2)}{(1-z)^4} < /math > \n",
      " * < math > \\operatorname{Li}_{-4}(z)=\\sum_{k=1}^\\infty k^4 z^k =\\frac{z(1+z)(1+10z+z^2)}{(1-z)^5} < /math > \n",
      " \n",
      " ===Exponential function=== \n",
      " * < math > \\sum_{k=0}^\\infty \\frac{z^k}{k!} = e^z < /math > \n",
      " * < math > \\sum_{k=0}^\\infty k\\frac{z^k}{k!} = z e^z < /math >  (cf. mean of Poisson distribution) \n",
      " * < math > \\sum_{k=0}^\\infty k^2 \\frac{z^k}{k!} = (z + z^2) e^z < /math >  (cf. second moment of Poisson distribution) \n",
      " * < math > \\sum_{k=0}^\\infty k^3 \\frac{z^k}{k!} = (z + 3z^2 + z^3) e^z < /math > \n",
      " * < math > \\sum_{k=0}^\\infty k^4 \\frac{z^k}{k!} = (z + 7z^2 + 6z^3 + z^4) e^z < /math > \n",
      " * < math > \\sum_{k=0}^\\infty k^n \\frac{z^k}{k!} = z \\frac{d}{dz} \\sum_{k=0}^\\infty k^{n-1} \\frac{z^k}{k!}\\,\\! = e^z T_{n}(z)  < /math > \n",
      " \n",
      " where  < math > T_{n}(z) < /math >  is the Touchard polynomials. \n",
      " \n",
      " ===Trigonometric, inverse trigonometric, hyperbolic, and inverse hyperbolic functions=== \n",
      " \n",
      " * < math > \\sum_{k=0}^\\infty \\frac{(-1)^k z^{2k+1}}{(2k+1)!}=\\sin z < /math > \n",
      " * < math > \\sum_{k=0}^\\infty \\frac{z^{2k+1}}{(2k+1)!}=\\sinh z < /math > \n",
      " * < math > \\sum_{k=0}^\\infty \\frac{(-1)^k z^{2k}}{(2k)!}=\\cos z < /math > \n",
      " * < math > \\sum_{k=0}^\\infty \\frac{z^{2k}}{(2k)!}=\\cosh z < /math > \n",
      " * < math > \\sum_{k=1}^\\infty \\frac{(-1)^{k-1}(2^{2k}-1)2^{2k}B_{2k}z^{2k-1}}{(2k)!}=\\tan z, |z| < \\frac{\\pi}{2} < /math > \n",
      " * < math > \\sum_{k=1}^\\infty \\frac{(2^{2k}-1)2^{2k}B_{2k}z^{2k-1}}{(2k)!}=\\tanh z, |z| < \\frac{\\pi}{2} < /math > \n",
      " * < math > \\sum_{k=0}^\\infty \\frac{(-1)^k2^{2k}B_{2k}z^{2k-1}}{(2k)!}=\\cot z, |z| < \\pi < /math > \n",
      " * < math > \\sum_{k=0}^\\infty \\frac{2^{2k}B_{2k}z^{2k-1}}{(2k)!}=\\coth z, |z| < \\pi < /math > \n",
      " * < math > \\sum_{k=0}^\\infty \\frac{(-1)^{k-1}(2^{2k}-2)B_{2k}z^{2k-1}}{(2k)!}=\\csc z, |z| < \\pi < /math > \n",
      " * < math > \\sum_{k=0}^\\infty \\frac{-(2^{2k}-2)B_{2k}z^{2k-1}}{(2k)!}=\\operatorname{csch} z, |z| < \\pi < /math > \n",
      " * < math > \\sum_{k=0}^\\infty \\frac{(-1)^kE_{2k}z^{2k}}{(2k)!}=\\operatorname{sech} z, |z| < \\frac{\\pi}{2} < /math > \n",
      " * < math > \\sum_{k=0}^\\infty \\frac{E_{2k}z^{2k}}{(2k)!}=\\sec z, |z| < \\frac{\\pi}{2} < /math > \n",
      " * < math > \\sum_{k=1}^\\infty \\frac{(-1)^{k-1} z^{2k}}{(2k)!}=\\operatorname{ver}z < /math >  (versine) \n",
      " * < math > \\sum_{k=1}^\\infty \\frac{(-1)^{k-1} z^{2k}}{2(2k)!}=\\operatorname{hav}z < /math > < ref name= \" Weisstein_hav \" >  < /ref >  (haversine) \n",
      " * < math > \\sum_{k=0}^\\infty \\frac{(2k)!z^{2k+1}}{2^{2k}(k!)^2(2k+1)}=\\arcsin z, |z|\\le1 < /math > \n",
      " * < math > \\sum_{k=0}^\\infty \\frac{(-1)^k(2k)!z^{2k+1}}{2^{2k}(k!)^2(2k+1)}=\\operatorname{arcsinh} {z}, |z|\\le1 < /math > \n",
      " * < math > \\sum_{k=0}^\\infty \\frac{(-1)^kz^{2k+1}}{2k+1}=\\arctan z, |z| < 1 < /math > \n",
      " * < math > \\sum_{k=0}^\\infty \\frac{z^{2k+1}}{2k+1}=\\operatorname{arctanh} z, |z| < 1 < /math > \n",
      " * < math > \\ln2+\\sum_{k=1}^\\infty \\frac{(-1)^{k-1}(2k)!z^{2k}}{2^{2k+1}k(k!)^2}=\\ln\\left(1+\\sqrt{1+z^2}\\right), |z|\\le1 < /math > \n",
      " \n",
      " ===Modified-factorial denominators=== \n",
      " * < math > \\sum^{\\infty}_{k=0} \\frac{(4k)!}{2^{4k} \\sqrt{2} (2k)! (2k+1)!} z^k = \\sqrt{\\frac{1-\\sqrt{1-z}}{z}}, |z| < 1 < /math > < ref name= \" gfo \" >  < /ref > \n",
      " * < math > \\sum^{\\infty}_{k=0} \\frac{2^{2k} (k!)^2}{(k+1) (2k+1)!} z^{2k+2} = \\left(\\arcsin{z}\\right)^2, |z|\\le1  < /math > < ref name= \" gfo \" / > \n",
      " * < math > \\sum^{\\infty}_{n=0} \\frac{\\prod_{k=0}^{n-1}(4k^2+\\alpha^2)}{(2n)!} z^{2n} + \\sum^{\\infty}_{n=0} \\frac{\\alpha \\prod_{k=0}^{n-1}[(2k+1)^2+\\alpha^2]}{(2n+1)!}  z^{2n+1} = e^{\\alpha \\arcsin{z}}, |z|\\le1  < /math > \n",
      " \n",
      " === Binomial coefficients === \n",
      " * < math > (1+z)^\\alpha = \\sum_{k=0}^\\infty {\\alpha \\choose k} z^k, |z| < 1 < /math >  (see Binomial theorem) \n",
      " * < ref name= \" ctcs \" >  < /ref >   < math > \\sum_{k=0}^\\infty {{\\alpha+k-1} \\choose k} z^k = \\frac{1}{(1-z)^\\alpha}, |z| < 1 < /math > \n",
      " * < ref name= \" ctcs \" / >   < math > \\sum_{k=0}^\\infty \\frac{1}{k+1}{2k \\choose k} z^k = \\frac{1-\\sqrt{1-4z}}{2z}, |z|\\leq\\frac{1}{4} < /math > , generating function of the Catalan numbers \n",
      " * < ref name= \" ctcs \" / >   < math > \\sum_{k=0}^\\infty {2k \\choose k} z^k = \\frac{1}{\\sqrt{1-4z}}, |z| < \\frac{1}{4} < /math > , generating function of the Central binomial coefficients \n",
      " * < ref name= \" ctcs \" / >   < math > \\sum_{k=0}^\\infty {2k + \\alpha \\choose k} z^k = \\frac{1}{\\sqrt{1-4z}}\\left(\\frac{1-\\sqrt{1-4z}}{2z}\\right)^\\alpha, |z| < \\frac{1}{4} < /math > \n",
      " \n",
      " ===Harmonic numbers=== \n",
      " * < math >  \\sum_{k=1}^\\infty H_k z^k = \\frac{-\\ln(1-z)}{1-z}, |z| < 1 < /math > \n",
      " * < math >  \\sum_{k=1}^\\infty \\frac{H_k}{k+1} z^{k+1} = \\frac{1}{2}\\left[\\ln(1-z)\\right]^2, \\qquad |z| < 1 < /math > \n",
      " * < math >  \\sum_{k=1}^\\infty \\frac{(-1)^{k-1} H_{2k}}{2k+1} z^{2k+1} = \\frac{1}{2} \\arctan{z} \\log{(1+z^2)}, \\qquad |z| < 1  < /math > < ref name= \" gfo \" / > \n",
      " * < math >  \\sum_{n=0}^\\infty \\sum_{k=0}^{2n} \\frac{(-1)^k}{2k+1} \\frac{z^{4n+2}}{4n+2} = \\frac{1}{4} \\arctan{z} \\log{\\frac{1+z}{1-z}},\\qquad  |z| < 1  < /math > < ref name= \" gfo \" / > \n",
      " \n",
      " == Binomial coefficients == \n",
      " * < math > \\sum_{k=0}^n {n \\choose k} = 2^n < /math > \n",
      " * < math > \\sum_{k=0}^n (-1)^k {n \\choose k} = 0, \\text{ where }n > 0 < /math > \n",
      " * < math > \\sum_{k=0}^n {k \\choose m} = { n+1 \\choose m+1 } < /math > \n",
      " * < math > \\sum_{k=0}^n {m+k-1 \\choose k} = { n+m \\choose n } < /math >  (see Multiset) \n",
      " * < math > \\sum_{k=0}^n {\\alpha \\choose k}{\\beta \\choose n-k} = {\\alpha+\\beta \\choose n} < /math >  (see Vandermonde identity) \n",
      " \n",
      " == Trigonometric functions == \n",
      " Sums of sines and cosines arise in Fourier series. \n",
      " \n",
      " * < math > \\sum_{k=1}^\\infty \\frac{\\sin(k\\theta)}{k}=\\frac{\\pi-\\theta}{2}, 0 < \\theta < 2\\pi < /math > \n",
      " * < math > \\sum_{k=1}^\\infty \\frac{\\cos(k\\theta)}{k}=-\\frac{1}{2}\\ln(2-2\\cos\\theta), \\theta\\in\\mathbb{R} < /math > \n",
      " * < math > \\sum_{k=0}^\\infty \\frac{\\sin[(2k+1)\\theta]}{2k+1}=\\frac{\\pi-\\theta}{2}, 0 < \\theta < \\pi < /math > < ref > http://www.wolframalpha.com/widgets/view.jsp?id=a787670f0f1047d7fbe288763c55ba14 < /ref > \n",
      " * < math > B_n(x)=-\\frac{n!}{2^{n-1}\\pi^n}\\sum_{k=1}^\\infty \\frac{1}{k^n}\\cos\\left(2\\pi kx-\\frac{\\pi n}{2}\\right), 0 < x < 1 < /math > < ref >  < /ref > \n",
      " * < math > \\sum_{k=0}^n \\sin(\\theta+k\\alpha)=\\frac{\\sin\\frac{(n+1)\\alpha}{2}\\sin(\\theta+\\frac{n\\alpha}{2})}{\\sin\\frac{\\alpha}{2}} < /math > \n",
      " * < math > \\sum_{k=0}^n \\cos(\\theta+k\\alpha)=\\frac{\\sin\\frac{(n+1)\\alpha}{2}\\cos(\\theta+\\frac{n\\alpha}{2})}{\\sin\\frac{\\alpha}{2}} < /math > \n",
      " * < math > \\sum_{k=1}^{n-1} \\sin\\frac{\\pi k}{n}=\\cot\\frac{\\pi}{2n} < /math > \n",
      " * < math > \\sum_{k=1}^{n-1} \\sin\\frac{2\\pi k}{n}=0 < /math > \n",
      " * < math > \\sum_{k=0}^{n-1} \\csc^2\\left(\\theta+\\frac{\\pi k}{n}\\right)=n^2\\csc^2(n\\theta) < /math > < ref >  < /ref > \n",
      " * < math > \\sum_{k=1}^{n-1} \\csc^2\\frac{\\pi k}{n}=\\frac{n^2-1}{3} < /math > \n",
      " * < math > \\sum_{k=1}^{n-1} \\csc^4\\frac{\\pi k}{n}=\\frac{n^4+10n^2-11}{45} < /math > \n",
      " \n",
      " == Rational functions == \n",
      " * < math > \\sum_{n=a+1}^{\\infty} \\frac{a}{n^2 - a^2} = \\frac{1}{2} H_{2a} < /math > < ref > \n",
      "  < /ref > \n",
      " * < math > \\sum_{n=0}^\\infty\\frac{1}{n^2+a^2}=\\frac{1+a\\pi\\coth (a\\pi)}{2a^2} < /math > \n",
      " * < math > \\displaystyle \\sum_{n=0}^\\infty \\frac {1}{n^4+4a^4} = \\dfrac{1 + a \\pi \\coth (a \\pi)}{8a^4} < /math > \n",
      " *An infinite series of any rational function of  < math > n < /math >  can be reduced to a finite series of polygamma functions, by use of partial fraction decomposition. < ref >  < /ref >  This fact can also be applied to finite series of rational functions, allowing the result to be computed in constant time even when the series contains a large number of terms. \n",
      " \n",
      " ==See also== \n",
      "  \n",
      " * Series (mathematics) \n",
      " * List of integrals \n",
      " * Summation \n",
      " * Taylor series \n",
      " * Binomial theorem \n",
      " * Gregory's series \n",
      " * On-Line Encyclopedia of Integer Sequences \n",
      "  \n",
      " \n",
      " ==Notes== \n",
      "  \n",
      " \n",
      " ==References== \n",
      " *Many books with a list of integrals also have a list of series. \n",
      " \n",
      " Category:Mathematical series \n",
      " Series \n",
      " Series\n"
     ]
    }
   ],
   "source": [
    "print('This list of mathematical series contains formulae for finite and infinite sums. It can be used in conjunction with other tools for evaluating sums. \\n *Here,  < math > 0^0 < /math >  is taken to have the value  < math > 1 < /math > \\n * < math > B_n(x) < /math >  is a Bernoulli polynomial. \\n * < math > B_n < /math >  is a Bernoulli number, and here,  < math > B_1=-\\\\frac{1}{2}. < /math > \\n * < math > E_n < /math >  is an Euler number. \\n * < math > \\\\zeta(s) < /math >  is the Riemann zeta function. \\n * < math > \\\\Gamma(z) < /math >  is the gamma function. \\n * < math > \\\\psi_n(z) < /math >  is a polygamma function. \\n * < math > \\\\operatorname{Li}_s(z) < /math >  is a polylogarithm. \\n * < math >  n \\\\choose k  < /math >  is binomial coefficient \\n \\n ==Sums of powers== \\n See Faulhaber\\'s formula. \\n * < math > \\\\sum_{k=0}^m k^{n-1}=\\\\frac{B_n(m+1)-B_n}{n} < /math > \\n The first few values are: \\n * < math > \\\\sum_{k=1}^m k=\\\\frac{m(m+1)}{2} < /math > \\n * < math > \\\\sum_{k=1}^m k^2=\\\\frac{m(m+1)(2m+1)}{6}=\\\\frac{m^3}{3}+\\\\frac{m^2}{2}+\\\\frac{m}{6} < /math > \\n * < math > \\\\sum_{k=1}^m k^3 \\n \\n =\\\\left[\\\\frac{m(m+1)}{2}\\\\right]^2=\\\\frac{m^4}{4}+\\\\frac{m^3}{2}+\\\\frac{m^2}{4} < /math > \\n \\n See zeta constants. \\n * < math > \\\\zeta(2n)=\\\\sum^{\\\\infty}_{k=1} \\\\frac{1}{k^{2n}}=(-1)^{n+1} \\\\frac{B_{2n} (2\\\\pi)^{2n}}{2(2n)!}  < /math > \\n The first few values are: \\n * < math > \\\\zeta(2)=\\\\sum^{\\\\infty}_{k=1} \\\\frac{1}{k^2}=\\\\frac{\\\\pi^2}{6} < /math >  (the Basel problem) \\n * < math > \\\\zeta(4)=\\\\sum^{\\\\infty}_{k=1} \\\\frac{1}{k^4}=\\\\frac{\\\\pi^4}{90} < /math > \\n * < math > \\\\zeta(6)=\\\\sum^{\\\\infty}_{k=1} \\\\frac{1}{k^6}=\\\\frac{\\\\pi^6}{945} < /math > \\n \\n ==Power series== \\n \\n ===Low-order polylogarithms=== \\n Finite sums: \\n * < math > \\\\sum_{k=0}^{n} z^k = \\\\frac{1-z^{n+1}}{1-z} < /math > , (geometric series) \\n * < math > \\\\sum_{k=1}^n k z^k = z\\\\frac{1-(n+1)z^n+nz^{n+1}}{(1-z)^2} < /math > \\n * < math > \\\\sum_{k=1}^n k^2 z^k = z\\\\frac{1+z-(n+1)^2z^n+(2n^2+2n-1)z^{n+1}-n^2z^{n+2}}{(1-z)^3}  < /math > \\n * < math > \\\\sum_{k=1}^n k^m z^k = \\\\left(z \\\\frac{d}{dz}\\\\right)^m \\\\frac{1-z^{n+1}}{1-z} < /math > \\n \\n Infinite sums, valid for  < math > |z| < 1 < /math >  (see polylogarithm): \\n * < math > \\\\operatorname{Li}_n(z)=\\\\sum_{k=1}^{\\\\infty} \\\\frac{z^k}{k^n} < /math > \\n The following is a useful property to calculate low-integer-order polylogarithms recursively in closed form: \\n * < math > \\\\frac{\\\\mathrm{d}}{\\\\mathrm{d}z}\\\\operatorname{Li}_n(z)=\\\\frac{\\\\operatorname{Li}_{n-1}(z)}{z} < /math > \\n * < math > \\\\operatorname{Li}_{1}(z)=\\\\sum_{k=1}^\\\\infty \\\\frac{z^k}{k}=-\\\\ln(1-z) < /math > \\n * < math > \\\\operatorname{Li}_{0}(z)=\\\\sum_{k=1}^\\\\infty z^k=\\\\frac{z}{1-z} < /math > \\n * < math > \\\\operatorname{Li}_{-1}(z)=\\\\sum_{k=1}^\\\\infty k z^k=\\\\frac{z}{(1-z)^2} < /math > \\n * < math > \\\\operatorname{Li}_{-2}(z)=\\\\sum_{k=1}^\\\\infty k^2 z^k=\\\\frac{z(1+z)}{(1-z)^3} < /math > \\n * < math > \\\\operatorname{Li}_{-3}(z)=\\\\sum_{k=1}^\\\\infty k^3 z^k =\\\\frac{z(1+4z+z^2)}{(1-z)^4} < /math > \\n * < math > \\\\operatorname{Li}_{-4}(z)=\\\\sum_{k=1}^\\\\infty k^4 z^k =\\\\frac{z(1+z)(1+10z+z^2)}{(1-z)^5} < /math > \\n \\n ===Exponential function=== \\n * < math > \\\\sum_{k=0}^\\\\infty \\\\frac{z^k}{k!} = e^z < /math > \\n * < math > \\\\sum_{k=0}^\\\\infty k\\\\frac{z^k}{k!} = z e^z < /math >  (cf. mean of Poisson distribution) \\n * < math > \\\\sum_{k=0}^\\\\infty k^2 \\\\frac{z^k}{k!} = (z + z^2) e^z < /math >  (cf. second moment of Poisson distribution) \\n * < math > \\\\sum_{k=0}^\\\\infty k^3 \\\\frac{z^k}{k!} = (z + 3z^2 + z^3) e^z < /math > \\n * < math > \\\\sum_{k=0}^\\\\infty k^4 \\\\frac{z^k}{k!} = (z + 7z^2 + 6z^3 + z^4) e^z < /math > \\n * < math > \\\\sum_{k=0}^\\\\infty k^n \\\\frac{z^k}{k!} = z \\\\frac{d}{dz} \\\\sum_{k=0}^\\\\infty k^{n-1} \\\\frac{z^k}{k!}\\\\,\\\\! = e^z T_{n}(z)  < /math > \\n \\n where  < math > T_{n}(z) < /math >  is the Touchard polynomials. \\n \\n ===Trigonometric, inverse trigonometric, hyperbolic, and inverse hyperbolic functions=== \\n \\n * < math > \\\\sum_{k=0}^\\\\infty \\\\frac{(-1)^k z^{2k+1}}{(2k+1)!}=\\\\sin z < /math > \\n * < math > \\\\sum_{k=0}^\\\\infty \\\\frac{z^{2k+1}}{(2k+1)!}=\\\\sinh z < /math > \\n * < math > \\\\sum_{k=0}^\\\\infty \\\\frac{(-1)^k z^{2k}}{(2k)!}=\\\\cos z < /math > \\n * < math > \\\\sum_{k=0}^\\\\infty \\\\frac{z^{2k}}{(2k)!}=\\\\cosh z < /math > \\n * < math > \\\\sum_{k=1}^\\\\infty \\\\frac{(-1)^{k-1}(2^{2k}-1)2^{2k}B_{2k}z^{2k-1}}{(2k)!}=\\\\tan z, |z| < \\\\frac{\\\\pi}{2} < /math > \\n * < math > \\\\sum_{k=1}^\\\\infty \\\\frac{(2^{2k}-1)2^{2k}B_{2k}z^{2k-1}}{(2k)!}=\\\\tanh z, |z| < \\\\frac{\\\\pi}{2} < /math > \\n * < math > \\\\sum_{k=0}^\\\\infty \\\\frac{(-1)^k2^{2k}B_{2k}z^{2k-1}}{(2k)!}=\\\\cot z, |z| < \\\\pi < /math > \\n * < math > \\\\sum_{k=0}^\\\\infty \\\\frac{2^{2k}B_{2k}z^{2k-1}}{(2k)!}=\\\\coth z, |z| < \\\\pi < /math > \\n * < math > \\\\sum_{k=0}^\\\\infty \\\\frac{(-1)^{k-1}(2^{2k}-2)B_{2k}z^{2k-1}}{(2k)!}=\\\\csc z, |z| < \\\\pi < /math > \\n * < math > \\\\sum_{k=0}^\\\\infty \\\\frac{-(2^{2k}-2)B_{2k}z^{2k-1}}{(2k)!}=\\\\operatorname{csch} z, |z| < \\\\pi < /math > \\n * < math > \\\\sum_{k=0}^\\\\infty \\\\frac{(-1)^kE_{2k}z^{2k}}{(2k)!}=\\\\operatorname{sech} z, |z| < \\\\frac{\\\\pi}{2} < /math > \\n * < math > \\\\sum_{k=0}^\\\\infty \\\\frac{E_{2k}z^{2k}}{(2k)!}=\\\\sec z, |z| < \\\\frac{\\\\pi}{2} < /math > \\n * < math > \\\\sum_{k=1}^\\\\infty \\\\frac{(-1)^{k-1} z^{2k}}{(2k)!}=\\\\operatorname{ver}z < /math >  (versine) \\n * < math > \\\\sum_{k=1}^\\\\infty \\\\frac{(-1)^{k-1} z^{2k}}{2(2k)!}=\\\\operatorname{hav}z < /math > < ref name= \" Weisstein_hav \" >  < /ref >  (haversine) \\n * < math > \\\\sum_{k=0}^\\\\infty \\\\frac{(2k)!z^{2k+1}}{2^{2k}(k!)^2(2k+1)}=\\\\arcsin z, |z|\\\\le1 < /math > \\n * < math > \\\\sum_{k=0}^\\\\infty \\\\frac{(-1)^k(2k)!z^{2k+1}}{2^{2k}(k!)^2(2k+1)}=\\\\operatorname{arcsinh} {z}, |z|\\\\le1 < /math > \\n * < math > \\\\sum_{k=0}^\\\\infty \\\\frac{(-1)^kz^{2k+1}}{2k+1}=\\\\arctan z, |z| < 1 < /math > \\n * < math > \\\\sum_{k=0}^\\\\infty \\\\frac{z^{2k+1}}{2k+1}=\\\\operatorname{arctanh} z, |z| < 1 < /math > \\n * < math > \\\\ln2+\\\\sum_{k=1}^\\\\infty \\\\frac{(-1)^{k-1}(2k)!z^{2k}}{2^{2k+1}k(k!)^2}=\\\\ln\\\\left(1+\\\\sqrt{1+z^2}\\\\right), |z|\\\\le1 < /math > \\n \\n ===Modified-factorial denominators=== \\n * < math > \\\\sum^{\\\\infty}_{k=0} \\\\frac{(4k)!}{2^{4k} \\\\sqrt{2} (2k)! (2k+1)!} z^k = \\\\sqrt{\\\\frac{1-\\\\sqrt{1-z}}{z}}, |z| < 1 < /math > < ref name= \" gfo \" >  < /ref > \\n * < math > \\\\sum^{\\\\infty}_{k=0} \\\\frac{2^{2k} (k!)^2}{(k+1) (2k+1)!} z^{2k+2} = \\\\left(\\\\arcsin{z}\\\\right)^2, |z|\\\\le1  < /math > < ref name= \" gfo \" / > \\n * < math > \\\\sum^{\\\\infty}_{n=0} \\\\frac{\\\\prod_{k=0}^{n-1}(4k^2+\\\\alpha^2)}{(2n)!} z^{2n} + \\\\sum^{\\\\infty}_{n=0} \\\\frac{\\\\alpha \\\\prod_{k=0}^{n-1}[(2k+1)^2+\\\\alpha^2]}{(2n+1)!}  z^{2n+1} = e^{\\\\alpha \\\\arcsin{z}}, |z|\\\\le1  < /math > \\n \\n === Binomial coefficients === \\n * < math > (1+z)^\\\\alpha = \\\\sum_{k=0}^\\\\infty {\\\\alpha \\\\choose k} z^k, |z| < 1 < /math >  (see Binomial theorem) \\n * < ref name= \" ctcs \" >  < /ref >   < math > \\\\sum_{k=0}^\\\\infty {{\\\\alpha+k-1} \\\\choose k} z^k = \\\\frac{1}{(1-z)^\\\\alpha}, |z| < 1 < /math > \\n * < ref name= \" ctcs \" / >   < math > \\\\sum_{k=0}^\\\\infty \\\\frac{1}{k+1}{2k \\\\choose k} z^k = \\\\frac{1-\\\\sqrt{1-4z}}{2z}, |z|\\\\leq\\\\frac{1}{4} < /math > , generating function of the Catalan numbers \\n * < ref name= \" ctcs \" / >   < math > \\\\sum_{k=0}^\\\\infty {2k \\\\choose k} z^k = \\\\frac{1}{\\\\sqrt{1-4z}}, |z| < \\\\frac{1}{4} < /math > , generating function of the Central binomial coefficients \\n * < ref name= \" ctcs \" / >   < math > \\\\sum_{k=0}^\\\\infty {2k + \\\\alpha \\\\choose k} z^k = \\\\frac{1}{\\\\sqrt{1-4z}}\\\\left(\\\\frac{1-\\\\sqrt{1-4z}}{2z}\\\\right)^\\\\alpha, |z| < \\\\frac{1}{4} < /math > \\n \\n ===Harmonic numbers=== \\n * < math >  \\\\sum_{k=1}^\\\\infty H_k z^k = \\\\frac{-\\\\ln(1-z)}{1-z}, |z| < 1 < /math > \\n * < math >  \\\\sum_{k=1}^\\\\infty \\\\frac{H_k}{k+1} z^{k+1} = \\\\frac{1}{2}\\\\left[\\\\ln(1-z)\\\\right]^2, \\\\qquad |z| < 1 < /math > \\n * < math >  \\\\sum_{k=1}^\\\\infty \\\\frac{(-1)^{k-1} H_{2k}}{2k+1} z^{2k+1} = \\\\frac{1}{2} \\\\arctan{z} \\\\log{(1+z^2)}, \\\\qquad |z| < 1  < /math > < ref name= \" gfo \" / > \\n * < math >  \\\\sum_{n=0}^\\\\infty \\\\sum_{k=0}^{2n} \\\\frac{(-1)^k}{2k+1} \\\\frac{z^{4n+2}}{4n+2} = \\\\frac{1}{4} \\\\arctan{z} \\\\log{\\\\frac{1+z}{1-z}},\\\\qquad  |z| < 1  < /math > < ref name= \" gfo \" / > \\n \\n == Binomial coefficients == \\n * < math > \\\\sum_{k=0}^n {n \\\\choose k} = 2^n < /math > \\n * < math > \\\\sum_{k=0}^n (-1)^k {n \\\\choose k} = 0, \\\\text{ where }n > 0 < /math > \\n * < math > \\\\sum_{k=0}^n {k \\\\choose m} = { n+1 \\\\choose m+1 } < /math > \\n * < math > \\\\sum_{k=0}^n {m+k-1 \\\\choose k} = { n+m \\\\choose n } < /math >  (see Multiset) \\n * < math > \\\\sum_{k=0}^n {\\\\alpha \\\\choose k}{\\\\beta \\\\choose n-k} = {\\\\alpha+\\\\beta \\\\choose n} < /math >  (see Vandermonde identity) \\n \\n == Trigonometric functions == \\n Sums of sines and cosines arise in Fourier series. \\n \\n * < math > \\\\sum_{k=1}^\\\\infty \\\\frac{\\\\sin(k\\\\theta)}{k}=\\\\frac{\\\\pi-\\\\theta}{2}, 0 < \\\\theta < 2\\\\pi < /math > \\n * < math > \\\\sum_{k=1}^\\\\infty \\\\frac{\\\\cos(k\\\\theta)}{k}=-\\\\frac{1}{2}\\\\ln(2-2\\\\cos\\\\theta), \\\\theta\\\\in\\\\mathbb{R} < /math > \\n * < math > \\\\sum_{k=0}^\\\\infty \\\\frac{\\\\sin[(2k+1)\\\\theta]}{2k+1}=\\\\frac{\\\\pi-\\\\theta}{2}, 0 < \\\\theta < \\\\pi < /math > < ref > http://www.wolframalpha.com/widgets/view.jsp?id=a787670f0f1047d7fbe288763c55ba14 < /ref > \\n * < math > B_n(x)=-\\\\frac{n!}{2^{n-1}\\\\pi^n}\\\\sum_{k=1}^\\\\infty \\\\frac{1}{k^n}\\\\cos\\\\left(2\\\\pi kx-\\\\frac{\\\\pi n}{2}\\\\right), 0 < x < 1 < /math > < ref >  < /ref > \\n * < math > \\\\sum_{k=0}^n \\\\sin(\\\\theta+k\\\\alpha)=\\\\frac{\\\\sin\\\\frac{(n+1)\\\\alpha}{2}\\\\sin(\\\\theta+\\\\frac{n\\\\alpha}{2})}{\\\\sin\\\\frac{\\\\alpha}{2}} < /math > \\n * < math > \\\\sum_{k=0}^n \\\\cos(\\\\theta+k\\\\alpha)=\\\\frac{\\\\sin\\\\frac{(n+1)\\\\alpha}{2}\\\\cos(\\\\theta+\\\\frac{n\\\\alpha}{2})}{\\\\sin\\\\frac{\\\\alpha}{2}} < /math > \\n * < math > \\\\sum_{k=1}^{n-1} \\\\sin\\\\frac{\\\\pi k}{n}=\\\\cot\\\\frac{\\\\pi}{2n} < /math > \\n * < math > \\\\sum_{k=1}^{n-1} \\\\sin\\\\frac{2\\\\pi k}{n}=0 < /math > \\n * < math > \\\\sum_{k=0}^{n-1} \\\\csc^2\\\\left(\\\\theta+\\\\frac{\\\\pi k}{n}\\\\right)=n^2\\\\csc^2(n\\\\theta) < /math > < ref >  < /ref > \\n * < math > \\\\sum_{k=1}^{n-1} \\\\csc^2\\\\frac{\\\\pi k}{n}=\\\\frac{n^2-1}{3} < /math > \\n * < math > \\\\sum_{k=1}^{n-1} \\\\csc^4\\\\frac{\\\\pi k}{n}=\\\\frac{n^4+10n^2-11}{45} < /math > \\n \\n == Rational functions == \\n * < math > \\\\sum_{n=a+1}^{\\\\infty} \\\\frac{a}{n^2 - a^2} = \\\\frac{1}{2} H_{2a} < /math > < ref > \\n  < /ref > \\n * < math > \\\\sum_{n=0}^\\\\infty\\\\frac{1}{n^2+a^2}=\\\\frac{1+a\\\\pi\\\\coth (a\\\\pi)}{2a^2} < /math > \\n * < math > \\\\displaystyle \\\\sum_{n=0}^\\\\infty \\\\frac {1}{n^4+4a^4} = \\\\dfrac{1 + a \\\\pi \\\\coth (a \\\\pi)}{8a^4} < /math > \\n *An infinite series of any rational function of  < math > n < /math >  can be reduced to a finite series of polygamma functions, by use of partial fraction decomposition. < ref >  < /ref >  This fact can also be applied to finite series of rational functions, allowing the result to be computed in constant time even when the series contains a large number of terms. \\n \\n ==See also== \\n  \\n * Series (mathematics) \\n * List of integrals \\n * Summation \\n * Taylor series \\n * Binomial theorem \\n * Gregory\\'s series \\n * On-Line Encyclopedia of Integer Sequences \\n  \\n \\n ==Notes== \\n  \\n \\n ==References== \\n *Many books with a list of integrals also have a list of series. \\n \\n Category:Mathematical series \\n Series \\n Series')"
   ]
  },
  {
   "cell_type": "code",
   "execution_count": null,
   "metadata": {},
   "outputs": [],
   "source": []
  }
 ],
 "metadata": {
  "kernelspec": {
   "display_name": "Python 3",
   "language": "python",
   "name": "python3"
  },
  "language_info": {
   "codemirror_mode": {
    "name": "ipython",
    "version": 3
   },
   "file_extension": ".py",
   "mimetype": "text/x-python",
   "name": "python",
   "nbconvert_exporter": "python",
   "pygments_lexer": "ipython3",
   "version": "3.6.6"
  }
 },
 "nbformat": 4,
 "nbformat_minor": 2
}
