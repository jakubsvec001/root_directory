{
 "cells": [
  {
   "cell_type": "code",
   "execution_count": 3,
   "metadata": {},
   "outputs": [],
   "source": [
    "from bs4 import BeautifulSoup as bs\n",
    "import pandas as pd\n",
    "import numpy as np\n",
    "import requests"
   ]
  },
  {
   "cell_type": "code",
   "execution_count": null,
   "metadata": {},
   "outputs": [],
   "source": []
  },
  {
   "cell_type": "code",
   "execution_count": 8,
   "metadata": {},
   "outputs": [
    {
     "data": {
      "text/plain": [
       "(1932, pandas.core.series.Series)"
      ]
     },
     "execution_count": 8,
     "metadata": {},
     "output_type": "execute_result"
    }
   ],
   "source": [
    "petscan = pd.read_csv('data/math/math_petscan_1216.csv') \n",
    "petscan['title_clean'] = petscan['title'].apply(lambda x: x.replace('_', ' '))\n",
    "petscan_title = petscan['title_clean']\n",
    "sparql = pd.read_csv('data/math/math_clean_sparql_786', sep='\\t')\n",
    "sparql_title = sparql['article_name']\n",
    "input_table = pd.read_csv('data/math/total_math_11697', sep='\\t') \n",
    "input_titles = input_table['title_clean'].tolist()\n",
    "input_titles = pd.concat([sparql_title, petscan_title], axis=0)\n",
    "len(input_titles)\n",
    "\n",
    "input_titles.drop_duplicates(inplace=True)\n"
   ]
  },
  {
   "cell_type": "code",
   "execution_count": 9,
   "metadata": {},
   "outputs": [],
   "source": [
    "input_titles.to_csv('data/math/math_articles', sep='\\t', encoding='utf-8', index=False)"
   ]
  },
  {
   "cell_type": "code",
   "execution_count": null,
   "metadata": {},
   "outputs": [],
   "source": []
  },
  {
   "cell_type": "code",
   "execution_count": 41,
   "metadata": {},
   "outputs": [],
   "source": [
    "data = pd.read_csv('data/math/math_articles', sep='\\t', header=None)"
   ]
  },
  {
   "cell_type": "code",
   "execution_count": 124,
   "metadata": {},
   "outputs": [],
   "source": [
    "def get_url(table):\n",
    "    table = table.iloc[:,0].tolist()\n",
    "    for i, title in enumerate(table, start=0):\n",
    "        chunk = (10*i, (10*i)+10)\n",
    "        yield i*10, table[10*i:10*i+12]\n",
    "        "
   ]
  },
  {
   "cell_type": "code",
   "execution_count": 125,
   "metadata": {},
   "outputs": [],
   "source": [
    "url = get_url(data)"
   ]
  },
  {
   "cell_type": "code",
   "execution_count": 152,
   "metadata": {},
   "outputs": [
    {
     "data": {
      "text/plain": [
       "(220,\n",
       " ['Pascua Yaqui Tribe',\n",
       "  'Rincon Band of Luiseño Indians',\n",
       "  'Zentralblatt MATH',\n",
       "  'Sycuan Band of the Kumeyaay Nation',\n",
       "  'Swiss Institute of Bioinformatics',\n",
       "  'Saxons in medieval Serbia',\n",
       "  'Natchitoches people',\n",
       "  'Yatasi',\n",
       "  'Pokanoket',\n",
       "  'Vili people',\n",
       "  'Lie sphere geometry',\n",
       "  'Pascagoula'])"
      ]
     },
     "execution_count": 152,
     "metadata": {},
     "output_type": "execute_result"
    }
   ],
   "source": [
    "next(url)"
   ]
  },
  {
   "cell_type": "code",
   "execution_count": 26,
   "metadata": {},
   "outputs": [
    {
     "ename": "StopIteration",
     "evalue": "",
     "output_type": "error",
     "traceback": [
      "\u001b[0;31m---------------------------------------------------------------------------\u001b[0m",
      "\u001b[0;31mStopIteration\u001b[0m                             Traceback (most recent call last)",
      "\u001b[0;32m<ipython-input-26-94a4921709cc>\u001b[0m in \u001b[0;36m<module>\u001b[0;34m\u001b[0m\n\u001b[0;32m----> 1\u001b[0;31m \u001b[0mnext\u001b[0m\u001b[0;34m(\u001b[0m\u001b[0murl\u001b[0m\u001b[0;34m)\u001b[0m\u001b[0;34m\u001b[0m\u001b[0m\n\u001b[0m",
      "\u001b[0;31mStopIteration\u001b[0m: "
     ]
    }
   ],
   "source": [
    "'Demographics of Los Angeles',\n",
    "'Design of experiments',\n",
    "'Alabama people',\n",
    "'AM1*',\n",
    "'Glottochronology',\n",
    "'Skokomish people',\n",
    "'Last.fm',\n",
    "'Hopi-Tewa',\n",
    "'Wiyot',\n",
    "'Northwestern Band of the Shoshone Nation',\n",
    "'Apache',\n",
    "'Qahatika',\n",
    "'Reverse engineering',\n",
    "'Achomawi',\n",
    "'Ottoman Greeks',\n",
    "'Madhesi tribe',\n",
    "'Spirit Lake Tribe',\n",
    "'San Juan Southern Paiute Tribe of Arizona',\n",
    "'Qahatika',\n",
    "'Nansemond',\n",
    "'Pajalat',\n",
    "'Rappahannock people',\n",
    "'Ouachita people',\n",
    "'Tangipahoa',\n",
    "'Pascua Yaqui Tribe',\n",
    "'Rincon Band of Luiseño Indians',\n",
    "\n",
    "\n",
    "\n",
    "\n",
    "\n",
    "\n",
    "\n",
    "\n",
    "\n",
    "\n",
    "\n",
    "\n",
    "\n",
    "\n",
    "\n"
   ]
  },
  {
   "cell_type": "code",
   "execution_count": 150,
   "metadata": {},
   "outputs": [
    {
     "data": {
      "text/plain": [
       "True"
      ]
     },
     "execution_count": 150,
     "metadata": {},
     "output_type": "execute_result"
    }
   ],
   "source": [
    "page = 'Casson'\n",
    "webbrowser.open('https://en.wikipedia.org/wiki/' + page.replace(' ', '_'))"
   ]
  },
  {
   "cell_type": "code",
   "execution_count": 30,
   "metadata": {},
   "outputs": [],
   "source": [
    "import os"
   ]
  },
  {
   "cell_type": "code",
   "execution_count": 31,
   "metadata": {},
   "outputs": [
    {
     "data": {
      "text/plain": [
       "4"
      ]
     },
     "execution_count": 31,
     "metadata": {},
     "output_type": "execute_result"
    }
   ],
   "source": [
    "os.cpu_count()"
   ]
  },
  {
   "cell_type": "code",
   "execution_count": null,
   "metadata": {},
   "outputs": [],
   "source": []
  }
 ],
 "metadata": {
  "kernelspec": {
   "display_name": "Python 3",
   "language": "python",
   "name": "python3"
  },
  "language_info": {
   "codemirror_mode": {
    "name": "ipython",
    "version": 3
   },
   "file_extension": ".py",
   "mimetype": "text/x-python",
   "name": "python",
   "nbconvert_exporter": "python",
   "pygments_lexer": "ipython3",
   "version": "3.6.6"
  }
 },
 "nbformat": 4,
 "nbformat_minor": 2
}
