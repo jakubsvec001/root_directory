{
 "cells": [
  {
   "cell_type": "markdown",
   "metadata": {},
   "source": [
    "# ROOT DIRECTORY PRESENTATION"
   ]
  },
  {
   "cell_type": "markdown",
   "metadata": {},
   "source": [
    "### PROBLEM"
   ]
  },
  {
   "cell_type": "markdown",
   "metadata": {},
   "source": [
    "Wikipedia has an organization problem:"
   ]
  },
  {
   "cell_type": "markdown",
   "metadata": {},
   "source": [
    "<img src='images/31444.png'/>"
   ]
  },
  {
   "cell_type": "markdown",
   "metadata": {},
   "source": [
    "While several categorization structures exist on Wikipedia, none truly solve the problem:\n",
    "\n",
    "Wikipedia possess the following organizing structures:\n",
    "\n",
    "#### _Wikipedia Methods of Categorizing:_\n",
    "\n",
    "- [Portal page](https://en.wikipedia.org/wiki/Portal:Contents/Portals#Mathematics_and_logic)\n",
    "- [Contents page](https://en.wikipedia.org/wiki/Portal:Contents/Mathematics_and_logic)\n",
    "- [Category page](https://en.wikipedia.org/wiki/Category:Mathematics)\n",
    "- [Outline page](https://en.wikipedia.org/wiki/Outline_of_mathematics)\n",
    "- [Areas of Mathematics page](https://en.wikipedia.org/wiki/Areas_of_mathematics)\n",
    "- [Indices](https://en.wikipedia.org/wiki/Category:Mathematics-related_lists)\n",
    "- [Overviews](https://en.wikipedia.org/wiki/Category:Mathematics-related_lists)\n",
    "- [Glossaries](https://en.wikipedia.org/wiki/Category:Mathematics-related_lists)"
   ]
  },
  {
   "cell_type": "markdown",
   "metadata": {},
   "source": [
    "#### _Wikidata Methods of Categorizing:_\n",
    "\n",
    "Outside of the Wikipedia project, the WikiMedia Foundation also includes the the Wikidata project. This project is based on a graph database (using the Sparql language) that is community edited organize data based on their interconnections.\n",
    "\n",
    "```sparql\n",
    " SELECT distinct ?item ?article ?sitelink ?linkTo WHERE {\n",
    "       { ?item wdt:P361* wd:Q395 .}\n",
    "       union\n",
    "       { ?item wdt:P361/wdt:P279* wd:Q395 .}\n",
    "       union\n",
    "       { ?item wdt:P31/wdt:P279* wd:Q1936384 .}\n",
    "       union\n",
    "       { ?item wdt:P921/wdt:P279* wd:Q395 .}\n",
    "       optional \n",
    "       { ?sitelink ^schema:name ?article .\n",
    "         ?article schema:about ?item ;\n",
    "         schema:isPartOf <https://en.wikipedia.org/> .\n",
    "       }\n",
    "       OPTIONAL { ?item wdt:P361 ?linkTo. }\n",
    "       SERVICE wikibase:label { bd:serviceParam wikibase:language \"en\". }\n",
    "       }\n",
    "```\n",
    "While graph databases are dope, when humans are used to create nodes and relationships the data is not entirely reliable."
   ]
  },
  {
   "cell_type": "markdown",
   "metadata": {},
   "source": [
    "### SOLUTION"
   ]
  },
  {
   "cell_type": "markdown",
   "metadata": {},
   "source": [
    "One possible solution to this problem is to use graph analysis tools to detect communities of nodes in a network and hope it cuts properly. \n",
    "\n",
    "However, this is clumsy and wholly dependent on the quality of the categorization system."
   ]
  },
  {
   "cell_type": "markdown",
   "metadata": {},
   "source": [
    "<img src=\"images/louvain_modularity_3.png\">"
   ]
  },
  {
   "cell_type": "markdown",
   "metadata": {},
   "source": [
    "\n",
    "  "
   ]
  },
  {
   "cell_type": "markdown",
   "metadata": {},
   "source": [
    "A better option is to use the node's article content, since the article content is what Wikipedia is known for."
   ]
  },
  {
   "cell_type": "markdown",
   "metadata": {},
   "source": [
    "### METHODS USED"
   ]
  },
  {
   "cell_type": "markdown",
   "metadata": {},
   "source": [
    "Instead of using wikipedia directly, I am using the Wikipedia XML data dump. This way, I don\n",
    "The biggest problem is how to efficiently traverse a Wikipedia XML data dump. This data dump is about 15gb in size compressed.\n",
    "\n",
    "* Solution: generative parsing of documents\n",
    "\n",
    "Training corpus is huge, about 80,000 Wikipedia pages. This is too much to hold in memory to build a tfidf model.\n",
    "\n",
    "* Solution: use Gensim to build the tfidf model while holding only one page in memory at a time.\n",
    "\n",
    "NLP models used:\n",
    "\n",
    "* TFIDF: Produces 100,000 features\n",
    "\n",
    "* Multinomial Naive Bayes\n",
    "* Logistic Regression with Regularization"
   ]
  },
  {
   "cell_type": "code",
   "execution_count": 27,
   "metadata": {},
   "outputs": [],
   "source": [
    "import src.wiki_finder as wf\n",
    "import glob"
   ]
  },
  {
   "cell_type": "code",
   "execution_count": 28,
   "metadata": {},
   "outputs": [],
   "source": [
    "files = glob.glob('wiki_dump/*.bz2')"
   ]
  },
  {
   "cell_type": "code",
   "execution_count": 29,
   "metadata": {},
   "outputs": [],
   "source": [
    "finder = wf.WikiFinder(titles_csv='seed/mathematics_d3.csv', page_limit=100)"
   ]
  },
  {
   "cell_type": "code",
   "execution_count": 30,
   "metadata": {},
   "outputs": [],
   "source": [
    "lines = finder._get_lines_bz2(files[0])"
   ]
  },
  {
   "cell_type": "code",
   "execution_count": 31,
   "metadata": {},
   "outputs": [
    {
     "name": "stdout",
     "output_type": "stream",
     "text": [
      "<mediawiki xmlns=\"http://www.mediawiki.org/xml/export-0.10/\" xmlns:xsi=\"http://www.w3.org/2001/XMLSchema-instance\" xsi:schemaLocation=\"http://www.mediawiki.org/xml/export-0.10/ http://www.mediawiki.org/xml/export-0.10.xsd\" version=\"0.10\" xml:lang=\"en\">\n",
      "\n",
      "  <siteinfo>\n",
      "\n",
      "    <sitename>Wikipedia</sitename>\n",
      "\n",
      "    <dbname>enwiki</dbname>\n",
      "\n",
      "    <base>https://en.wikipedia.org/wiki/Main_Page</base>\n",
      "\n",
      "    <generator>MediaWiki 1.32.0-wmf.12</generator>\n",
      "\n",
      "    <case>first-letter</case>\n",
      "\n",
      "    <namespaces>\n",
      "\n",
      "      <namespace key=\"-2\" case=\"first-letter\">Media</namespace>\n",
      "\n",
      "      <namespace key=\"-1\" case=\"first-letter\">Special</namespace>\n",
      "\n",
      "      <namespace key=\"0\" case=\"first-letter\" />\n",
      "\n",
      "      <namespace key=\"1\" case=\"first-letter\">Talk</namespace>\n",
      "\n",
      "      <namespace key=\"2\" case=\"first-letter\">User</namespace>\n",
      "\n",
      "      <namespace key=\"3\" case=\"first-letter\">User talk</namespace>\n",
      "\n",
      "      <namespace key=\"4\" case=\"first-letter\">Wikipedia</namespace>\n",
      "\n",
      "      <namespace key=\"5\" case=\"first-letter\">Wikipedia talk</namespace>\n",
      "\n",
      "      <namespace key=\"6\" case=\"first-letter\">File</namespace>\n",
      "\n",
      "      <namespace key=\"7\" case=\"first-letter\">File talk</namespace>\n",
      "\n",
      "      <namespace key=\"8\" case=\"first-letter\">MediaWiki</namespace>\n",
      "\n",
      "      <namespace key=\"9\" case=\"first-letter\">MediaWiki talk</namespace>\n",
      "\n",
      "      <namespace key=\"10\" case=\"first-letter\">Template</namespace>\n",
      "\n",
      "      <namespace key=\"11\" case=\"first-letter\">Template talk</namespace>\n",
      "\n",
      "      <namespace key=\"12\" case=\"first-letter\">Help</namespace>\n",
      "\n",
      "      <namespace key=\"13\" case=\"first-letter\">Help talk</namespace>\n",
      "\n",
      "      <namespace key=\"14\" case=\"first-letter\">Category</namespace>\n",
      "\n",
      "      <namespace key=\"15\" case=\"first-letter\">Category talk</namespace>\n",
      "\n",
      "      <namespace key=\"100\" case=\"first-letter\">Portal</namespace>\n",
      "\n",
      "      <namespace key=\"101\" case=\"first-letter\">Portal talk</namespace>\n",
      "\n",
      "      <namespace key=\"108\" case=\"first-letter\">Book</namespace>\n",
      "\n",
      "      <namespace key=\"109\" case=\"first-letter\">Book talk</namespace>\n",
      "\n",
      "      <namespace key=\"118\" case=\"first-letter\">Draft</namespace>\n",
      "\n",
      "      <namespace key=\"119\" case=\"first-letter\">Draft talk</namespace>\n",
      "\n",
      "      <namespace key=\"446\" case=\"first-letter\">Education Program</namespace>\n",
      "\n",
      "      <namespace key=\"447\" case=\"first-letter\">Education Program talk</namespace>\n",
      "\n",
      "      <namespace key=\"710\" case=\"first-letter\">TimedText</namespace>\n",
      "\n",
      "      <namespace key=\"711\" case=\"first-letter\">TimedText talk</namespace>\n",
      "\n",
      "      <namespace key=\"828\" case=\"first-letter\">Module</namespace>\n",
      "\n",
      "      <namespace key=\"829\" case=\"first-letter\">Module talk</namespace>\n",
      "\n",
      "      <namespace key=\"2300\" case=\"first-letter\">Gadget</namespace>\n",
      "\n",
      "      <namespace key=\"2301\" case=\"first-letter\">Gadget talk</namespace>\n",
      "\n",
      "      <namespace key=\"2302\" case=\"case-sensitive\">Gadget definition</namespace>\n",
      "\n",
      "      <namespace key=\"2303\" case=\"case-sensitive\">Gadget definition talk</namespace>\n",
      "\n",
      "    </namespaces>\n",
      "\n",
      "  </siteinfo>\n",
      "\n",
      "  <page>\n",
      "\n",
      "    <title>F.170</title>\n",
      "\n",
      "    <ns>0</ns>\n",
      "\n",
      "    <id>18754736</id>\n",
      "\n",
      "    <redirect title=\"F170\" />\n",
      "\n",
      "    <revision>\n",
      "\n",
      "      <id>230365850</id>\n",
      "\n",
      "      <parentid>230365538</parentid>\n",
      "\n",
      "      <timestamp>2008-08-07T08:31:08Z</timestamp>\n",
      "\n",
      "      <contributor>\n",
      "\n",
      "        <username>Nono64</username>\n",
      "\n",
      "        <id>2313206</id>\n",
      "\n",
      "      </contributor>\n",
      "\n",
      "      <minor />\n",
      "\n",
      "      <comment>[[WP:AES|←]] Redirected page to [[F170]]</comment>\n",
      "\n",
      "      <model>wikitext</model>\n",
      "\n",
      "      <format>text/x-wiki</format>\n",
      "\n",
      "      <text xml:space=\"preserve\">#REDIRECT [[F170]]</text>\n",
      "\n",
      "      <sha1>6ah1tt4kfvooupidzmx0s9j4mb7v1hy</sha1>\n",
      "\n",
      "    </revision>\n",
      "\n",
      "  </page>\n",
      "\n",
      "  <page>\n",
      "\n",
      "    <title>Platte River, NE</title>\n",
      "\n",
      "    <ns>0</ns>\n",
      "\n",
      "    <id>18754743</id>\n",
      "\n",
      "    <redirect title=\"Platte River\" />\n",
      "\n",
      "    <revision>\n",
      "\n",
      "      <id>230365644</id>\n",
      "\n",
      "      <timestamp>2008-08-07T08:29:15Z</timestamp>\n",
      "\n",
      "      <contributor>\n",
      "\n",
      "        <username>NE2</username>\n",
      "\n",
      "        <id>1757249</id>\n",
      "\n",
      "      </contributor>\n",
      "\n",
      "      <comment>[[WP:AES|←]] Redirected page to [[Platte River]]</comment>\n",
      "\n",
      "      <model>wikitext</model>\n",
      "\n",
      "      <format>text/x-wiki</format>\n",
      "\n",
      "      <text xml:space=\"preserve\">#REDIRECT [[Platte River]]</text>\n",
      "\n",
      "      <sha1>63zralk9w8rorvm1ij5pnij206p9rwu</sha1>\n",
      "\n",
      "    </revision>\n",
      "\n",
      "  </page>\n",
      "\n",
      "  <page>\n",
      "\n",
      "    <title>Philosophical Perspectives</title>\n",
      "\n",
      "    <ns>0</ns>\n",
      "\n",
      "    <id>18754745</id>\n",
      "\n",
      "    <revision>\n",
      "\n",
      "      <id>800703117</id>\n",
      "\n",
      "      <parentid>664932725</parentid>\n",
      "\n",
      "      <timestamp>2017-09-15T04:47:06Z</timestamp>\n",
      "\n",
      "      <contributor>\n",
      "\n",
      "        <username>Worldbruce</username>\n",
      "\n",
      "        <id>7329773</id>\n",
      "\n",
      "      </contributor>\n",
      "\n",
      "      <comment>ISO abbreviation for Philosophical is Philos.</comment>\n",
      "\n",
      "      <model>wikitext</model>\n",
      "\n",
      "      <format>text/x-wiki</format>\n",
      "\n",
      "      <text xml:space=\"preserve\">{{Infobox journal\n",
      "\n",
      "| title = Philosophical Perspectives\n",
      "\n"
     ]
    }
   ],
   "source": [
    "for line in lines:\n",
    "    print(line)"
   ]
  },
  {
   "cell_type": "code",
   "execution_count": 32,
   "metadata": {},
   "outputs": [],
   "source": [
    "from pymongo import MongoClient\n",
    "documents = MongoClient()['wiki_cache']['all'].find().limit(5)"
   ]
  },
  {
   "cell_type": "code",
   "execution_count": 33,
   "metadata": {},
   "outputs": [
    {
     "data": {
      "text/plain": [
       "{'_id': ObjectId('5bfc8162dc335a4485b9b2e0'),\n",
       " 'title': \"Maharam's theorem\",\n",
       " 'full_raw_xml': '<title>Maharam\\'s theorem</title>\\n<ns>0</ns>\\n<id>18759825</id>\\n<revision>\\n<id>616609368</id>\\n<parentid>616609349</parentid>\\n<timestamp>2014-07-12T03:17:45Z</timestamp>\\n<contributor>\\n<ip>2601:2:4D00:27B:30E0:3741:489E:18EA</ip>\\n</contributor>\\n<model>wikitext</model>\\n<format>text/x-wiki</format>\\n<text xml:space=\"preserve\">In [[mathematics]], \\'\\'\\'Maharam\\'s theorem\\'\\'\\' is a deep result about the decomposability of [[measure space]]s, which plays an important role in the theory of [[Banach space]]s.  In brief, it states that every [[complete measure space]] is decomposable into &quot;non-atomic parts&quot; (copies of products of the [[unit interval]] [0,1] on the reals), and &quot;purely atomic parts&quot;, using the [[counting measure]] on some discrete space.&lt;ref&gt;D. Maharam, &quot;On homogeneous measure algebras&quot;, \\'\\'Proceedings of the National Academy of Sciences USA\\'\\', \\'\\'\\'28\\'\\'\\' 1942, pp. 108–111.&lt;/ref&gt; The theorem is due to [[Dorothy Maharam]].\\nIt was extended to localizable [[measure space]]s by [[Irving Segal]].&lt;ref&gt;Irving E. Segal, &quot;Equivalences of measure spaces&quot;, \\'\\'American Journal of Mathematics\\'\\' \\'\\'\\'73\\'\\'\\' (1951), 275–313.&lt;/ref&gt;\\nThe result is important to classical Banach space theory, in that, when considering the Banach space given as an [[Lp space|\\'\\'L\\'\\'&lt;sub&gt;\\'\\'p\\'\\'&lt;/sub&gt; space]] of measurable functions over a general measurable space, it is sufficient to understand it in terms of its decomposition into non-atomic and atomic parts.\\nMaharam\\'s theorem can also be translated in the language of [[abelian von Neumann algebra]]s.  Every abelian von Neumann algebra is isomorphic to a product of σ-finite abelian von Neumann algebras, and every σ-finite abelian von Neumann algebra is isomorphic to a spatial tensor product of discrete abelian von Neumann algebras, i.e., algebras of bounded functions on a discrete set.\\nA similar theorem is given by [[Kuratowski]] for [[Polish space]]s, stating that they are isomorphic, as [[Borel set]]s, to either the reals, the integers, or a finite set.\\n==References==\\n&lt;references/&gt;\\n[[Category:Banach spaces]]\\n[[Category:Theorems in measure theory]]\\n{{mathanalysis-stub}}</text>\\n<sha1>opxxtt49am5gghp1dk2u3uu3x43j2oz</sha1>\\n</revision>\\n',\n",
       " 'target': 'mathematics',\n",
       " 'feature_union': \"Maharam's theorem In mathematics  Maharam's theorem is a deep result about the decomposability of measure spaces  which plays an important role in the theory of Banach spaces.  In brief  it states that every complete measure space is decomposable into  non-atomic parts   copies of products of the unit interval 0 1 on the reals   and  purely atomic parts   using the counting measure on some discrete space. The theorem is due to Dorothy Maharam. It was extended to localizable measure spaces by Irving Segal. The result is important to classical Banach space theory  in that  when considering the Banach space given as an L''''p space of measurable functions over a general measurable space  it is sufficient to understand it in terms of its decomposition into non-atomic and atomic parts. Maharam's theorem can also be translated in the language of abelian von Neumann algebras.  Every abelian von Neumann algebra is isomorphic to a product of σ-finite abelian von Neumann algebras  and every σ-finite abelian von Neumann algebra is isomorphic to a spatial tensor product of discrete abelian von Neumann algebras  i.e.  algebras of bounded functions on a discrete set. A similar theorem is given by Kuratowski for Polish spaces  stating that they are isomorphic  as Borel sets  to either the reals  the integers  or a finite set. References    mathematics measure space Banach space complete measure space unit interval counting measure Dorothy Maharam measure space Irving Segal Lp space abelian von Neumann algebra Kuratowski Polish space Borel set References\",\n",
       " 'parent_categories': {\"Maharam's theorem\": ['Category:Banach spaces',\n",
       "   'Category:Theorems in measure theory']}}"
      ]
     },
     "execution_count": 33,
     "metadata": {},
     "output_type": "execute_result"
    }
   ],
   "source": [
    "documents.next()"
   ]
  },
  {
   "cell_type": "markdown",
   "metadata": {},
   "source": [
    "### RESULTS"
   ]
  },
  {
   "cell_type": "markdown",
   "metadata": {},
   "source": [
    "pass"
   ]
  },
  {
   "cell_type": "markdown",
   "metadata": {},
   "source": []
  },
  {
   "cell_type": "markdown",
   "metadata": {},
   "source": []
  },
  {
   "cell_type": "markdown",
   "metadata": {},
   "source": []
  },
  {
   "cell_type": "markdown",
   "metadata": {},
   "source": [
    "### NEXT STEPS"
   ]
  },
  {
   "cell_type": "markdown",
   "metadata": {},
   "source": [
    "* Convert functions to allow multiprocessing to search xml pages in parallel, parse the xml, convert to tfidf sparse matrix, predict probability, save positive preditions to a database for analysis\n",
    "* Use GraphFrames on Spark to run louvain modularity analysis to compare to nlp results\n",
    "* Build website with table of results for high-level categories"
   ]
  },
  {
   "cell_type": "markdown",
   "metadata": {},
   "source": []
  },
  {
   "cell_type": "markdown",
   "metadata": {},
   "source": []
  },
  {
   "cell_type": "markdown",
   "metadata": {},
   "source": []
  },
  {
   "cell_type": "markdown",
   "metadata": {},
   "source": [
    "\n",
    "\n"
   ]
  },
  {
   "cell_type": "markdown",
   "metadata": {},
   "source": []
  },
  {
   "cell_type": "markdown",
   "metadata": {},
   "source": []
  }
 ],
 "metadata": {
  "kernelspec": {
   "display_name": "Python 3",
   "language": "python",
   "name": "python3"
  },
  "language_info": {
   "codemirror_mode": {
    "name": "ipython",
    "version": 3
   },
   "file_extension": ".py",
   "mimetype": "text/x-python",
   "name": "python",
   "nbconvert_exporter": "python",
   "pygments_lexer": "ipython3",
   "version": "3.6.6"
  }
 },
 "nbformat": 4,
 "nbformat_minor": 2
}
