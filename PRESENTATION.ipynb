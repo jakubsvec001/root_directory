{
 "cells": [
  {
   "cell_type": "markdown",
   "metadata": {},
   "source": [
    "# **ROOT DIRECTORY**\n",
    "## _Single-Source Truth for Wikipedia Categories_"
   ]
  },
  {
   "cell_type": "markdown",
   "metadata": {},
   "source": [
    "### BUSINESS PROBLEMS"
   ]
  },
  {
   "cell_type": "markdown",
   "metadata": {},
   "source": [
    "#### READER PROBLEMS"
   ]
  },
  {
   "cell_type": "markdown",
   "metadata": {},
   "source": [
    "It is difficult explore Wikipedia in a structured way, and it is also know how to contribute to Wikipedia in a meaningful way:"
   ]
  },
  {
   "cell_type": "markdown",
   "metadata": {},
   "source": [
    "<img src='images/rabbit_hole.png'>"
   ]
  },
  {
   "cell_type": "markdown",
   "metadata": {},
   "source": [
    "#### EDITOR PROBLEMS"
   ]
  },
  {
   "cell_type": "markdown",
   "metadata": {},
   "source": [
    "#### **Editor enthusiasm has been declining**\n",
    "\n",
    "[MIT TECHNOLOGY REVIEW: The Decline of Wikipedia](https://www.technologyreview.com/s/520446/the-decline-of-wikipedia/)"
   ]
  },
  {
   "cell_type": "markdown",
   "metadata": {},
   "source": [
    "#### **Women are underrepresented as article topics**"
   ]
  },
  {
   "cell_type": "markdown",
   "metadata": {},
   "source": [
    "[EL PAIS: Raising the profile of female scientists, one Wikipedia article at a time](https://elpais.com/elpais/2018/07/10/inenglish/1531237118_130796.html)\n",
    "\n",
    "#### **Articles are overly complex**\n",
    "\n",
    "[WIRED: Wikipedia's Science Articles are Elitist](https://motherboard.vice.com/en_us/article/ne7xzq/wikipedias-science-articles-are-elitist)"
   ]
  },
  {
   "cell_type": "markdown",
   "metadata": {},
   "source": [
    "#### **Academics aren't fully engaged with Wikipedia**\n",
    "\n",
    "[SCIENCE: Academics can help shape Wikipedia](http://science.sciencemag.org/content/357/6351/557.2)"
   ]
  },
  {
   "cell_type": "markdown",
   "metadata": {},
   "source": [
    "## **TARGET PROBLEM**\n",
    "\n",
    "### **SINGLE SOURCE OF TRUTH**"
   ]
  },
  {
   "cell_type": "markdown",
   "metadata": {},
   "source": [
    "Wikipedia is the 5th most visited site on the web, and it contains about 5 million english-language articles! While Wikipedia's success has been amazing, Wikipedia's strength is primarily in building tools at article-level collaboration. Article organization is a very different problem and requires very different tools."
   ]
  },
  {
   "cell_type": "markdown",
   "metadata": {},
   "source": [
    "While several categorization structures exist on Wikipedia, none truly solve the problem:\n",
    "\n",
    "Wikipedia possess the following organizing structures:\n",
    "\n",
    "#### _Wikipedia Methods of Categorizing:_\n",
    "\n",
    "- [Portal page](https://en.wikipedia.org/wiki/Portal:Contents/Portals#Mathematics_and_logic)\n",
    "- [Contents page](https://en.wikipedia.org/wiki/Portal:Contents/Mathematics_and_logic)\n",
    "- [Category page](https://en.wikipedia.org/wiki/Category:Mathematics)\n",
    "- [Outline page](https://en.wikipedia.org/wiki/Outline_of_mathematics)\n",
    "- [Areas of page](https://en.wikipedia.org/wiki/Areas_of_mathematics)\n",
    "- [Indices](https://en.wikipedia.org/wiki/Category:Mathematics-related_lists)\n",
    "- [Overviews](https://en.wikipedia.org/wiki/Category:Mathematics-related_lists)\n",
    "- [Glossaries](https://en.wikipedia.org/wiki/Category:Mathematics-related_lists)\n",
    "- [Category: Lists](https://en.m.wikipedia.org/wiki/Category:Lists)\n",
    "- [Lists of lists of lists](https://en.m.wikipedia.org/wiki/List_of_lists_of_lists)\n",
    "- [Contents/Lists](https://en.m.wikipedia.org/wiki/Portal:Contents/Lists)\n"
   ]
  },
  {
   "cell_type": "markdown",
   "metadata": {},
   "source": [
    "At the most simple level, Wikipedia has a hard time answering a simple question:\n",
    "\n",
    "HOW MANY ARTICLES ON WIKIPEDIA ARE RELATED TO THE FIELD OF MATHEMATICS?"
   ]
  },
  {
   "cell_type": "markdown",
   "metadata": {},
   "source": [
    "### PORTAL ANSWER FOR MATH COUNT"
   ]
  },
  {
   "cell_type": "markdown",
   "metadata": {},
   "source": [
    "<img src='images/31444.png'/>"
   ]
  },
  {
   "cell_type": "markdown",
   "metadata": {},
   "source": [
    "_WIKIPEDIA PORTAL ANSWER: **31,444**_"
   ]
  },
  {
   "cell_type": "markdown",
   "metadata": {},
   "source": [
    "### **WIKIDATA ANSWER FOR MATH COUNT**\n",
    "\n",
    "Outside of the Wikipedia project, the WikiMedia Foundation also includes the the Wikidata project. This project is based on a graph database (sparql) that is community edited to organize data based on their interconnections.\n",
    "\n",
    "```sparql\n",
    " SELECT distinct ?item ?article ?sitelink ?linkTo WHERE {\n",
    "       { ?item wdt:P361* wd:Q395 .}\n",
    "       union\n",
    "       { ?item wdt:P361/wdt:P279* wd:Q395 .}\n",
    "       union\n",
    "       { ?item wdt:P31/wdt:P279* wd:Q1936384 .}\n",
    "       union\n",
    "       { ?item wdt:P921/wdt:P279* wd:Q395 .}\n",
    "       optional \n",
    "       { ?sitelink ^schema:name ?article .\n",
    "         ?article schema:about ?item ;\n",
    "         schema:isPartOf <https://en.wikipedia.org/> .\n",
    "       }\n",
    "       OPTIONAL { ?item wdt:P361 ?linkTo. }\n",
    "       SERVICE wikibase:label { bd:serviceParam wikibase:language \"en\". }\n",
    "       }\n",
    "```\n",
    "While graph databases are dope, when humans are used to create nodes and relationships the data is not entirely reliable."
   ]
  },
  {
   "cell_type": "markdown",
   "metadata": {},
   "source": [
    "_WIKIDATA ANSWER: **842 (23,048)**_"
   ]
  },
  {
   "cell_type": "markdown",
   "metadata": {},
   "source": [
    "### **WIKIMEDIA PETSCAN ANSWER**\n",
    "https://petscan.wmflabs.org/\n",
    "\n",
    "Contributors to the Wikimedia Foundation have built a tool for finding articles based on categories. It is a powerful tool, but it is too crude to answer our original question. Instead, we will use it to find our seed dataset. \n",
    "\n",
    "PetScan takes in a category parameter and a depth of search parameter. This roughly translates to the same process that we would have used if we were scarping Wikipedia ourselves.  \n",
    "\n",
    "Searching the Mathematics category with a depth of one yields 1,216 results. Kinda disappointing. A depth search of two yields 11,393 results, and a depth search of three yiedls 34,013. Well, that escalates quickly. However, with larger depths, we are also getting more noise in the results. We'll pick a depth search of one, and supplement this set by also searching mathematics subtopics using Petscan. After searching the Algebra, Arithmetic, Calculus, Combinatorics, Game Theory, Geometry, Linear Algebra, Probability, Statistics, and Topology categories with a depth of one, respectively, we have a total of about 10,000 results to add to our Wikidata results. \n",
    "\n",
    "_PETSCAN ANSWER AT DEPTH OF 0: **13**_\n",
    "\n",
    "_PETSCAN ANSWER AT DEPTH OF <= 1: **1213**_\n",
    "\n",
    "_PETSCAN ANSWER AT DEPTH OF <= 2: **11330**_\n",
    "\n",
    "_PETSCAN ANSWER AT DEPTH OF <= 3: **34421**_ \n",
    "\n",
    "_PETSCAN ANSWER AT DEPTH OF <= 4: **59036**_\n",
    "\n",
    "_PETSCAN ANSWER AT DEPTH OF > 4: $\\infty$_"
   ]
  },
  {
   "cell_type": "markdown",
   "metadata": {},
   "source": [
    "### **WIKIPEDIA CATEGORY TREE ANSWER**"
   ]
  },
  {
   "cell_type": "markdown",
   "metadata": {},
   "source": [
    "[https://en.wikipedia.org/wiki/Special:CategoryTree](https://en.wikipedia.org/wiki/Special:CategoryTree?target=Category%3AMathematics&mode=all&namespaces=&title=Special%3ACategoryTree)"
   ]
  },
  {
   "cell_type": "markdown",
   "metadata": {},
   "source": [
    "\n",
    "\n",
    "_CATEGORY TREE ANSWER AT DEPTH OF 0:  **45**_\n",
    "\n",
    "_CATEGORY TREE ANSWER AT DEPTH OF <= 1: **1377**_\n",
    "\n",
    "_CATEGORY TREE ANSWER AT DEPTH OF <= 2: **10603**_\n",
    "\n",
    "_CATEGORY TREE ANSWER AT DEPTH OF <= 3: **31127**_ \n",
    "\n",
    "_CATEGORY TREE ANSWER AT DEPTH OF <= 4: **51444**_\n",
    "\n",
    "_CATEGORY TREE ANSWER AT DEPTH OF > 4:    $ \\infty $_ \n"
   ]
  },
  {
   "cell_type": "markdown",
   "metadata": {},
   "source": [
    "## **OBJECTIVE**\n",
    "### **TRUTH TABLE**"
   ]
  },
  {
   "cell_type": "markdown",
   "metadata": {},
   "source": [
    "| TITLE | Wiki Article | Simple Wiki Article | Probability Score | Complexity Score | Quality Score |\n",
    "|-------|:--------------:|:---------------------:|:-------------------:|:------------------:|:---------------:|\n",
    "| Logistic Regression | https://en.wikipedia.org/wiki/Logistic_regression | https://simple.wikipedia.org/wiki/Logistic_Regression |   0.92   |   0.74   |   0.2        |"
   ]
  },
  {
   "cell_type": "markdown",
   "metadata": {},
   "source": [
    "## **SOLUTION**"
   ]
  },
  {
   "cell_type": "markdown",
   "metadata": {},
   "source": [
    "### OPTION #1 UNSUPERVISED MACHINE LEARNING\n",
    "\n",
    "#### GRAPH ANALYSIS USING LOUVAIN MODULARITY"
   ]
  },
  {
   "cell_type": "markdown",
   "metadata": {},
   "source": [
    "One possible solution to this problem is to use graph analysis tools to detect communities of nodes in a network and hope it cuts properly. \n",
    "\n",
    "However, this is clumsy and wholly dependent on the quality of the categorization system, which is the problem in the first place."
   ]
  },
  {
   "cell_type": "markdown",
   "metadata": {},
   "source": [
    "<img src=\"images/louvain_modularity_3.png\">"
   ]
  },
  {
   "cell_type": "markdown",
   "metadata": {},
   "source": [
    "\n",
    "  "
   ]
  },
  {
   "cell_type": "markdown",
   "metadata": {},
   "source": [
    "### OPTION #2 SUPERVISED MACHINE LEARNING: \n",
    "\n",
    "#### NATURAL LANGUAGE PROCESSING OF ARTICLE CONTENT"
   ]
  },
  {
   "cell_type": "markdown",
   "metadata": {},
   "source": [
    "A better option is to use the node's article content, since the article content is what Wikipedia is known for."
   ]
  },
  {
   "cell_type": "markdown",
   "metadata": {},
   "source": [
    "## **DATA UNDERSTANDING**\n",
    "\n"
   ]
  },
  {
   "cell_type": "markdown",
   "metadata": {},
   "source": [
    "<img src='images/tree.png'>"
   ]
  },
  {
   "cell_type": "markdown",
   "metadata": {},
   "source": [
    "https://en.wikipedia.org/wiki/Special:CategoryTree?target=Category%3AMathematics&mode=all&namespaces=&title=Special%3ACategoryTree"
   ]
  },
  {
   "cell_type": "markdown",
   "metadata": {},
   "source": [
    "https://en.wikipedia.org/wiki/Special:CategoryTree?target=Category%3AMachine+learning&mode=all&namespaces=&title=Special%3ACategoryTree"
   ]
  },
  {
   "cell_type": "markdown",
   "metadata": {},
   "source": [
    "Instead of using wikipedia directly, I am using the Wikipedia XML data dump. This way, I don\n",
    "The biggest problem is how to efficiently traverse a Wikipedia XML data dump. This data dump is about 15gb in size compressed.\n",
    "\n",
    "* Solution: generative parsing of documents\n",
    "\n",
    "Training corpus is huge, about 80,000 Wikipedia pages. This is too much to hold in memory to build a tfidf model.\n",
    "\n",
    "* Solution: use Gensim to build the tfidf model while holding only one page in memory at a time."
   ]
  },
  {
   "cell_type": "markdown",
   "metadata": {},
   "source": [
    "## **MODELING**"
   ]
  },
  {
   "cell_type": "markdown",
   "metadata": {},
   "source": [
    "#### **NLP model used:**\n",
    "\n",
    "##### **TFIDF: Produces 100,000 features**\n",
    "\n",
    "$tf-idf_{t,d} = (1 +\\log tf_{t,d}) \\cdot \\log \\frac{N}{df_t}$\n",
    "\n",
    "#### **Machine Learning Models used:**\n",
    "\n",
    "##### **Multinomial Naive Bayes**\n",
    "\n",
    "$p(f1,...,fn|c)=∏i=1np(fi|c)$\n",
    "\n",
    "##### **Logistic Regression with Regularization**\n",
    "\n",
    "$ p(y=1 \\mid x) = \\frac{1}{1 + exp(-\\theta^T x)} $"
   ]
  },
  {
   "cell_type": "markdown",
   "metadata": {},
   "source": [
    "## **RESULTS**"
   ]
  },
  {
   "cell_type": "markdown",
   "metadata": {},
   "source": [
    "| Category         | Regularization (c) | Log-Loss Score | Threshold | TP   | TN    | FP   | FN  | Precision |\n",
    "|------------------|--------------------|----------------|-----------|------|-------|------|-----|-----------|\n",
    "| Aeronautics      |                    |                |           |      |       |      |     |           |\n",
    "| Arts             |                    |                |           |      |       |      |     |           |\n",
    "| Biology          |                    |                |           |      |       |      |     |           |\n",
    "| Chemistry        | 6                  | 0.187          | 0.2       | 2428 | 12543 | 1354 | 337 | 0.642     |\n",
    "| Computer Science | 8                  | 0.093          | 0.1       | 1034 | 14796 | 688  | 144 | 0.6       |\n",
    "| Engineering      |                    |                |           |      |       |      |     |           |\n",
    "| Mathematics      | 0.05               | 0.273          | 0.2       | 1813 | 11792 | 2780 | 277 | 0.394     |\n",
    "| Philosophy       | 8                  | 0.108          | 0.2       | 733  | 15185 | 470  | 274 | 0.609     |\n",
    "| Physics          |                    |                |           |      |       |      |     |           |"
   ]
  },
  {
   "cell_type": "markdown",
   "metadata": {},
   "source": [
    "MATHEMATICS CONFUSION MATRIX\n",
    "\n",
    "\n",
    "| TN: 11792 | FP: 2780 |\n",
    "|-----------|----------|\n",
    "| **FN: 277**   | **TP: 1823** |"
   ]
  },
  {
   "cell_type": "markdown",
   "metadata": {},
   "source": [
    "COMPUTER SCIENCE CONFUSION MATRIX"
   ]
  },
  {
   "cell_type": "markdown",
   "metadata": {},
   "source": [
    "| TN: 14790  | FP: 688  |\n",
    "|--------|------|\n",
    "| **FN: 144**    | **TP: 1034** |"
   ]
  },
  {
   "cell_type": "markdown",
   "metadata": {},
   "source": [
    "### FEATURE IMPORTANCES"
   ]
  },
  {
   "cell_type": "markdown",
   "metadata": {},
   "source": [
    "<img src='images/mathematics_word_import.png'>"
   ]
  },
  {
   "cell_type": "markdown",
   "metadata": {},
   "source": [
    "## **EVALUATION**"
   ]
  },
  {
   "cell_type": "code",
   "execution_count": 64,
   "metadata": {},
   "outputs": [
    {
     "data": {
      "text/plain": [
       "(278, 5)"
      ]
     },
     "execution_count": 64,
     "metadata": {},
     "output_type": "execute_result"
    }
   ],
   "source": [
    "import pandas as pd\n",
    "FN_math = pd.read_csv('misclassified_results/math_sorted_FN.csv', sep='\\t')[['title', 'predicted', 'actual', 'threshold_pred', 'USE?']]\n",
    "FN_math.shape"
   ]
  },
  {
   "cell_type": "code",
   "execution_count": 65,
   "metadata": {},
   "outputs": [
    {
     "data": {
      "text/html": [
       "<div>\n",
       "<style scoped>\n",
       "    .dataframe tbody tr th:only-of-type {\n",
       "        vertical-align: middle;\n",
       "    }\n",
       "\n",
       "    .dataframe tbody tr th {\n",
       "        vertical-align: top;\n",
       "    }\n",
       "\n",
       "    .dataframe thead th {\n",
       "        text-align: right;\n",
       "    }\n",
       "</style>\n",
       "<table border=\"1\" class=\"dataframe\">\n",
       "  <thead>\n",
       "    <tr style=\"text-align: right;\">\n",
       "      <th></th>\n",
       "      <th>title</th>\n",
       "      <th>predicted</th>\n",
       "      <th>actual</th>\n",
       "      <th>threshold_pred</th>\n",
       "      <th>USE?</th>\n",
       "    </tr>\n",
       "  </thead>\n",
       "  <tbody>\n",
       "    <tr>\n",
       "      <th>0</th>\n",
       "      <td>A Guide-Book to Mathematics for Technologists ...</td>\n",
       "      <td>0.008715</td>\n",
       "      <td>1.0</td>\n",
       "      <td>False</td>\n",
       "      <td>NaN</td>\n",
       "    </tr>\n",
       "    <tr>\n",
       "      <th>1</th>\n",
       "      <td>Nuria Juncosa</td>\n",
       "      <td>0.011367</td>\n",
       "      <td>1.0</td>\n",
       "      <td>False</td>\n",
       "      <td>NaN</td>\n",
       "    </tr>\n",
       "    <tr>\n",
       "      <th>2</th>\n",
       "      <td>Lin Hsin Hsin</td>\n",
       "      <td>0.011919</td>\n",
       "      <td>1.0</td>\n",
       "      <td>False</td>\n",
       "      <td>NaN</td>\n",
       "    </tr>\n",
       "    <tr>\n",
       "      <th>3</th>\n",
       "      <td>NinKi: Urgency of Proximate Drawing Photograph</td>\n",
       "      <td>0.013497</td>\n",
       "      <td>1.0</td>\n",
       "      <td>False</td>\n",
       "      <td>NaN</td>\n",
       "    </tr>\n",
       "    <tr>\n",
       "      <th>4</th>\n",
       "      <td>Hidden Figures</td>\n",
       "      <td>0.015482</td>\n",
       "      <td>1.0</td>\n",
       "      <td>False</td>\n",
       "      <td>NaN</td>\n",
       "    </tr>\n",
       "    <tr>\n",
       "      <th>5</th>\n",
       "      <td>Category:Cryptography organizations</td>\n",
       "      <td>0.016806</td>\n",
       "      <td>1.0</td>\n",
       "      <td>False</td>\n",
       "      <td>NaN</td>\n",
       "    </tr>\n",
       "    <tr>\n",
       "      <th>6</th>\n",
       "      <td>Homeokinetics</td>\n",
       "      <td>0.023209</td>\n",
       "      <td>1.0</td>\n",
       "      <td>False</td>\n",
       "      <td>NaN</td>\n",
       "    </tr>\n",
       "    <tr>\n",
       "      <th>7</th>\n",
       "      <td>Verification and validation</td>\n",
       "      <td>0.024878</td>\n",
       "      <td>1.0</td>\n",
       "      <td>False</td>\n",
       "      <td>NaN</td>\n",
       "    </tr>\n",
       "    <tr>\n",
       "      <th>8</th>\n",
       "      <td>David Suter</td>\n",
       "      <td>0.025197</td>\n",
       "      <td>1.0</td>\n",
       "      <td>False</td>\n",
       "      <td>NaN</td>\n",
       "    </tr>\n",
       "    <tr>\n",
       "      <th>9</th>\n",
       "      <td>Dunham expansion</td>\n",
       "      <td>0.028177</td>\n",
       "      <td>1.0</td>\n",
       "      <td>False</td>\n",
       "      <td>INTERESTING</td>\n",
       "    </tr>\n",
       "    <tr>\n",
       "      <th>10</th>\n",
       "      <td>Category:Cryptography books</td>\n",
       "      <td>0.028557</td>\n",
       "      <td>1.0</td>\n",
       "      <td>False</td>\n",
       "      <td>NaN</td>\n",
       "    </tr>\n",
       "    <tr>\n",
       "      <th>11</th>\n",
       "      <td>Biconcave disc</td>\n",
       "      <td>0.030608</td>\n",
       "      <td>1.0</td>\n",
       "      <td>False</td>\n",
       "      <td>INTERESTING</td>\n",
       "    </tr>\n",
       "    <tr>\n",
       "      <th>12</th>\n",
       "      <td>The Road to Reality</td>\n",
       "      <td>0.034167</td>\n",
       "      <td>1.0</td>\n",
       "      <td>False</td>\n",
       "      <td>INTERESTING</td>\n",
       "    </tr>\n",
       "    <tr>\n",
       "      <th>13</th>\n",
       "      <td>Possible Worlds (play)</td>\n",
       "      <td>0.035817</td>\n",
       "      <td>1.0</td>\n",
       "      <td>False</td>\n",
       "      <td>NaN</td>\n",
       "    </tr>\n",
       "    <tr>\n",
       "      <th>14</th>\n",
       "      <td>Ratchet effect</td>\n",
       "      <td>0.037957</td>\n",
       "      <td>1.0</td>\n",
       "      <td>False</td>\n",
       "      <td>NaN</td>\n",
       "    </tr>\n",
       "    <tr>\n",
       "      <th>15</th>\n",
       "      <td>Desmond Paul Henry</td>\n",
       "      <td>0.039584</td>\n",
       "      <td>1.0</td>\n",
       "      <td>False</td>\n",
       "      <td>NaN</td>\n",
       "    </tr>\n",
       "    <tr>\n",
       "      <th>16</th>\n",
       "      <td>Everything</td>\n",
       "      <td>0.039781</td>\n",
       "      <td>1.0</td>\n",
       "      <td>False</td>\n",
       "      <td>INTERESTING</td>\n",
       "    </tr>\n",
       "    <tr>\n",
       "      <th>17</th>\n",
       "      <td>Open Energy Modelling Initiative</td>\n",
       "      <td>0.042159</td>\n",
       "      <td>1.0</td>\n",
       "      <td>False</td>\n",
       "      <td>NaN</td>\n",
       "    </tr>\n",
       "    <tr>\n",
       "      <th>18</th>\n",
       "      <td>Rotational–vibrational coupling</td>\n",
       "      <td>0.043692</td>\n",
       "      <td>1.0</td>\n",
       "      <td>False</td>\n",
       "      <td>NaN</td>\n",
       "    </tr>\n",
       "    <tr>\n",
       "      <th>19</th>\n",
       "      <td>Systems medicine</td>\n",
       "      <td>0.045823</td>\n",
       "      <td>1.0</td>\n",
       "      <td>False</td>\n",
       "      <td>NaN</td>\n",
       "    </tr>\n",
       "  </tbody>\n",
       "</table>\n",
       "</div>"
      ],
      "text/plain": [
       "                                                title  predicted  actual  \\\n",
       "0   A Guide-Book to Mathematics for Technologists ...   0.008715     1.0   \n",
       "1                                       Nuria Juncosa   0.011367     1.0   \n",
       "2                                       Lin Hsin Hsin   0.011919     1.0   \n",
       "3      NinKi: Urgency of Proximate Drawing Photograph   0.013497     1.0   \n",
       "4                                      Hidden Figures   0.015482     1.0   \n",
       "5                 Category:Cryptography organizations   0.016806     1.0   \n",
       "6                                       Homeokinetics   0.023209     1.0   \n",
       "7                         Verification and validation   0.024878     1.0   \n",
       "8                                         David Suter   0.025197     1.0   \n",
       "9                                    Dunham expansion   0.028177     1.0   \n",
       "10                        Category:Cryptography books   0.028557     1.0   \n",
       "11                                     Biconcave disc   0.030608     1.0   \n",
       "12                                The Road to Reality   0.034167     1.0   \n",
       "13                             Possible Worlds (play)   0.035817     1.0   \n",
       "14                                     Ratchet effect   0.037957     1.0   \n",
       "15                                 Desmond Paul Henry   0.039584     1.0   \n",
       "16                                         Everything   0.039781     1.0   \n",
       "17                   Open Energy Modelling Initiative   0.042159     1.0   \n",
       "18                    Rotational–vibrational coupling   0.043692     1.0   \n",
       "19                                   Systems medicine   0.045823     1.0   \n",
       "\n",
       "   threshold_pred         USE?  \n",
       "0           False          NaN  \n",
       "1           False          NaN  \n",
       "2           False          NaN  \n",
       "3           False          NaN  \n",
       "4           False          NaN  \n",
       "5           False          NaN  \n",
       "6           False          NaN  \n",
       "7           False          NaN  \n",
       "8           False          NaN  \n",
       "9           False  INTERESTING  \n",
       "10          False          NaN  \n",
       "11          False  INTERESTING  \n",
       "12          False  INTERESTING  \n",
       "13          False          NaN  \n",
       "14          False          NaN  \n",
       "15          False          NaN  \n",
       "16          False  INTERESTING  \n",
       "17          False          NaN  \n",
       "18          False          NaN  \n",
       "19          False          NaN  "
      ]
     },
     "execution_count": 65,
     "metadata": {},
     "output_type": "execute_result"
    }
   ],
   "source": [
    "FN_math.iloc[:20,:]"
   ]
  },
  {
   "cell_type": "code",
   "execution_count": 66,
   "metadata": {},
   "outputs": [
    {
     "data": {
      "text/html": [
       "<div>\n",
       "<style scoped>\n",
       "    .dataframe tbody tr th:only-of-type {\n",
       "        vertical-align: middle;\n",
       "    }\n",
       "\n",
       "    .dataframe tbody tr th {\n",
       "        vertical-align: top;\n",
       "    }\n",
       "\n",
       "    .dataframe thead th {\n",
       "        text-align: right;\n",
       "    }\n",
       "</style>\n",
       "<table border=\"1\" class=\"dataframe\">\n",
       "  <thead>\n",
       "    <tr style=\"text-align: right;\">\n",
       "      <th></th>\n",
       "      <th>title</th>\n",
       "      <th>predicted</th>\n",
       "      <th>actual</th>\n",
       "      <th>threshold_pred</th>\n",
       "      <th>USE?</th>\n",
       "    </tr>\n",
       "  </thead>\n",
       "  <tbody>\n",
       "    <tr>\n",
       "      <th>258</th>\n",
       "      <td>Gentleman's Diary</td>\n",
       "      <td>0.191730</td>\n",
       "      <td>1.0</td>\n",
       "      <td>False</td>\n",
       "      <td>NaN</td>\n",
       "    </tr>\n",
       "    <tr>\n",
       "      <th>259</th>\n",
       "      <td>American Regions Mathematics League</td>\n",
       "      <td>0.191816</td>\n",
       "      <td>1.0</td>\n",
       "      <td>False</td>\n",
       "      <td>NaN</td>\n",
       "    </tr>\n",
       "    <tr>\n",
       "      <th>260</th>\n",
       "      <td>Thomas Rawson Birks</td>\n",
       "      <td>0.191820</td>\n",
       "      <td>1.0</td>\n",
       "      <td>False</td>\n",
       "      <td>INTERESTING</td>\n",
       "    </tr>\n",
       "    <tr>\n",
       "      <th>261</th>\n",
       "      <td>Bruce Irons (engineer)</td>\n",
       "      <td>0.192257</td>\n",
       "      <td>1.0</td>\n",
       "      <td>False</td>\n",
       "      <td>NaN</td>\n",
       "    </tr>\n",
       "    <tr>\n",
       "      <th>262</th>\n",
       "      <td>Portal:Number theory</td>\n",
       "      <td>0.193504</td>\n",
       "      <td>1.0</td>\n",
       "      <td>False</td>\n",
       "      <td>NaN</td>\n",
       "    </tr>\n",
       "    <tr>\n",
       "      <th>263</th>\n",
       "      <td>Category:Set families</td>\n",
       "      <td>0.193807</td>\n",
       "      <td>1.0</td>\n",
       "      <td>False</td>\n",
       "      <td>NaN</td>\n",
       "    </tr>\n",
       "    <tr>\n",
       "      <th>264</th>\n",
       "      <td>Everything and More (book)</td>\n",
       "      <td>0.194760</td>\n",
       "      <td>1.0</td>\n",
       "      <td>False</td>\n",
       "      <td>INTERESTING</td>\n",
       "    </tr>\n",
       "    <tr>\n",
       "      <th>265</th>\n",
       "      <td>List of things named after Hermann Grassmann</td>\n",
       "      <td>0.195324</td>\n",
       "      <td>1.0</td>\n",
       "      <td>False</td>\n",
       "      <td>NaN</td>\n",
       "    </tr>\n",
       "    <tr>\n",
       "      <th>266</th>\n",
       "      <td>Category:Operations researchers</td>\n",
       "      <td>0.195498</td>\n",
       "      <td>1.0</td>\n",
       "      <td>False</td>\n",
       "      <td>NaN</td>\n",
       "    </tr>\n",
       "    <tr>\n",
       "      <th>267</th>\n",
       "      <td>Category:Coordinate systems by dimensions</td>\n",
       "      <td>0.195721</td>\n",
       "      <td>1.0</td>\n",
       "      <td>False</td>\n",
       "      <td>NaN</td>\n",
       "    </tr>\n",
       "    <tr>\n",
       "      <th>268</th>\n",
       "      <td>Book:Grandi's series</td>\n",
       "      <td>0.195768</td>\n",
       "      <td>1.0</td>\n",
       "      <td>False</td>\n",
       "      <td>NaN</td>\n",
       "    </tr>\n",
       "    <tr>\n",
       "      <th>269</th>\n",
       "      <td>Portal:Analysis</td>\n",
       "      <td>0.196186</td>\n",
       "      <td>1.0</td>\n",
       "      <td>False</td>\n",
       "      <td>NaN</td>\n",
       "    </tr>\n",
       "    <tr>\n",
       "      <th>270</th>\n",
       "      <td>The New York Journal of Mathematics</td>\n",
       "      <td>0.196348</td>\n",
       "      <td>1.0</td>\n",
       "      <td>False</td>\n",
       "      <td>NaN</td>\n",
       "    </tr>\n",
       "    <tr>\n",
       "      <th>271</th>\n",
       "      <td>Hobbes–Wallis controversy</td>\n",
       "      <td>0.197043</td>\n",
       "      <td>1.0</td>\n",
       "      <td>False</td>\n",
       "      <td>NaN</td>\n",
       "    </tr>\n",
       "    <tr>\n",
       "      <th>272</th>\n",
       "      <td>Template:Grandi's series</td>\n",
       "      <td>0.197455</td>\n",
       "      <td>1.0</td>\n",
       "      <td>False</td>\n",
       "      <td>NaN</td>\n",
       "    </tr>\n",
       "    <tr>\n",
       "      <th>273</th>\n",
       "      <td>Willem Klein</td>\n",
       "      <td>0.197694</td>\n",
       "      <td>1.0</td>\n",
       "      <td>False</td>\n",
       "      <td>NaN</td>\n",
       "    </tr>\n",
       "    <tr>\n",
       "      <th>274</th>\n",
       "      <td>Category:Proof without words</td>\n",
       "      <td>0.197800</td>\n",
       "      <td>1.0</td>\n",
       "      <td>False</td>\n",
       "      <td>NaN</td>\n",
       "    </tr>\n",
       "    <tr>\n",
       "      <th>275</th>\n",
       "      <td>Swim lane</td>\n",
       "      <td>0.198298</td>\n",
       "      <td>1.0</td>\n",
       "      <td>False</td>\n",
       "      <td>NaN</td>\n",
       "    </tr>\n",
       "    <tr>\n",
       "      <th>276</th>\n",
       "      <td>Echo removal</td>\n",
       "      <td>0.199882</td>\n",
       "      <td>1.0</td>\n",
       "      <td>False</td>\n",
       "      <td>NaN</td>\n",
       "    </tr>\n",
       "    <tr>\n",
       "      <th>277</th>\n",
       "      <td>NaN</td>\n",
       "      <td>NaN</td>\n",
       "      <td>NaN</td>\n",
       "      <td>NaN</td>\n",
       "      <td>NaN</td>\n",
       "    </tr>\n",
       "  </tbody>\n",
       "</table>\n",
       "</div>"
      ],
      "text/plain": [
       "                                            title  predicted  actual  \\\n",
       "258                             Gentleman's Diary   0.191730     1.0   \n",
       "259           American Regions Mathematics League   0.191816     1.0   \n",
       "260                           Thomas Rawson Birks   0.191820     1.0   \n",
       "261                        Bruce Irons (engineer)   0.192257     1.0   \n",
       "262                          Portal:Number theory   0.193504     1.0   \n",
       "263                         Category:Set families   0.193807     1.0   \n",
       "264                    Everything and More (book)   0.194760     1.0   \n",
       "265  List of things named after Hermann Grassmann   0.195324     1.0   \n",
       "266               Category:Operations researchers   0.195498     1.0   \n",
       "267     Category:Coordinate systems by dimensions   0.195721     1.0   \n",
       "268                          Book:Grandi's series   0.195768     1.0   \n",
       "269                               Portal:Analysis   0.196186     1.0   \n",
       "270           The New York Journal of Mathematics   0.196348     1.0   \n",
       "271                     Hobbes–Wallis controversy   0.197043     1.0   \n",
       "272                      Template:Grandi's series   0.197455     1.0   \n",
       "273                                  Willem Klein   0.197694     1.0   \n",
       "274                  Category:Proof without words   0.197800     1.0   \n",
       "275                                     Swim lane   0.198298     1.0   \n",
       "276                                  Echo removal   0.199882     1.0   \n",
       "277                                           NaN        NaN     NaN   \n",
       "\n",
       "    threshold_pred         USE?  \n",
       "258          False          NaN  \n",
       "259          False          NaN  \n",
       "260          False  INTERESTING  \n",
       "261          False          NaN  \n",
       "262          False          NaN  \n",
       "263          False          NaN  \n",
       "264          False  INTERESTING  \n",
       "265          False          NaN  \n",
       "266          False          NaN  \n",
       "267          False          NaN  \n",
       "268          False          NaN  \n",
       "269          False          NaN  \n",
       "270          False          NaN  \n",
       "271          False          NaN  \n",
       "272          False          NaN  \n",
       "273          False          NaN  \n",
       "274          False          NaN  \n",
       "275          False          NaN  \n",
       "276          False          NaN  \n",
       "277            NaN          NaN  "
      ]
     },
     "execution_count": 66,
     "metadata": {},
     "output_type": "execute_result"
    }
   ],
   "source": [
    "FN_math.iloc[-20:,:]"
   ]
  },
  {
   "cell_type": "markdown",
   "metadata": {},
   "source": [
    "https://en.wikipedia.org/wiki/Biconcave_disc\n",
    "\n",
    "https://en.wikipedia.org/wiki/Hidden_Figures\n",
    "\n",
    "https://en.wikipedia.org/wiki/Gifted_(film)"
   ]
  },
  {
   "cell_type": "code",
   "execution_count": 10,
   "metadata": {},
   "outputs": [
    {
     "data": {
      "text/plain": [
       "(2780, 4)"
      ]
     },
     "execution_count": 10,
     "metadata": {},
     "output_type": "execute_result"
    }
   ],
   "source": [
    "FP_math = pd.read_csv('misclassified_results/math_sorted_FP.csv', sep='\\t')\n",
    "FP_math.shape"
   ]
  },
  {
   "cell_type": "code",
   "execution_count": 11,
   "metadata": {},
   "outputs": [
    {
     "data": {
      "text/html": [
       "<div>\n",
       "<style scoped>\n",
       "    .dataframe tbody tr th:only-of-type {\n",
       "        vertical-align: middle;\n",
       "    }\n",
       "\n",
       "    .dataframe tbody tr th {\n",
       "        vertical-align: top;\n",
       "    }\n",
       "\n",
       "    .dataframe thead th {\n",
       "        text-align: right;\n",
       "    }\n",
       "</style>\n",
       "<table border=\"1\" class=\"dataframe\">\n",
       "  <thead>\n",
       "    <tr style=\"text-align: right;\">\n",
       "      <th></th>\n",
       "      <th>title</th>\n",
       "      <th>predicted</th>\n",
       "      <th>actual</th>\n",
       "      <th>threshold_pred</th>\n",
       "    </tr>\n",
       "  </thead>\n",
       "  <tbody>\n",
       "    <tr>\n",
       "      <th>2760</th>\n",
       "      <td>Criss-cross algorithm</td>\n",
       "      <td>0.952502</td>\n",
       "      <td>0.0</td>\n",
       "      <td>True</td>\n",
       "    </tr>\n",
       "    <tr>\n",
       "      <th>2761</th>\n",
       "      <td>Vector logic</td>\n",
       "      <td>0.953342</td>\n",
       "      <td>0.0</td>\n",
       "      <td>True</td>\n",
       "    </tr>\n",
       "    <tr>\n",
       "      <th>2762</th>\n",
       "      <td>Category:Biological theorems</td>\n",
       "      <td>0.954540</td>\n",
       "      <td>0.0</td>\n",
       "      <td>True</td>\n",
       "    </tr>\n",
       "    <tr>\n",
       "      <th>2763</th>\n",
       "      <td>Chaitin's constant</td>\n",
       "      <td>0.955203</td>\n",
       "      <td>0.0</td>\n",
       "      <td>True</td>\n",
       "    </tr>\n",
       "    <tr>\n",
       "      <th>2764</th>\n",
       "      <td>Computational complexity</td>\n",
       "      <td>0.958522</td>\n",
       "      <td>0.0</td>\n",
       "      <td>True</td>\n",
       "    </tr>\n",
       "    <tr>\n",
       "      <th>2765</th>\n",
       "      <td>P versus NP problem</td>\n",
       "      <td>0.959869</td>\n",
       "      <td>0.0</td>\n",
       "      <td>True</td>\n",
       "    </tr>\n",
       "    <tr>\n",
       "      <th>2766</th>\n",
       "      <td>Non-constructive algorithm existence proofs</td>\n",
       "      <td>0.960831</td>\n",
       "      <td>0.0</td>\n",
       "      <td>True</td>\n",
       "    </tr>\n",
       "    <tr>\n",
       "      <th>2767</th>\n",
       "      <td>Generic-case complexity</td>\n",
       "      <td>0.962550</td>\n",
       "      <td>0.0</td>\n",
       "      <td>True</td>\n",
       "    </tr>\n",
       "    <tr>\n",
       "      <th>2768</th>\n",
       "      <td>Time complexity</td>\n",
       "      <td>0.962793</td>\n",
       "      <td>0.0</td>\n",
       "      <td>True</td>\n",
       "    </tr>\n",
       "    <tr>\n",
       "      <th>2769</th>\n",
       "      <td>Computing the permanent</td>\n",
       "      <td>0.964047</td>\n",
       "      <td>0.0</td>\n",
       "      <td>True</td>\n",
       "    </tr>\n",
       "    <tr>\n",
       "      <th>2770</th>\n",
       "      <td>Integer factorization</td>\n",
       "      <td>0.965000</td>\n",
       "      <td>0.0</td>\n",
       "      <td>True</td>\n",
       "    </tr>\n",
       "    <tr>\n",
       "      <th>2771</th>\n",
       "      <td>Computable number</td>\n",
       "      <td>0.971522</td>\n",
       "      <td>0.0</td>\n",
       "      <td>True</td>\n",
       "    </tr>\n",
       "    <tr>\n",
       "      <th>2772</th>\n",
       "      <td>Theory of computation</td>\n",
       "      <td>0.971899</td>\n",
       "      <td>0.0</td>\n",
       "      <td>True</td>\n",
       "    </tr>\n",
       "    <tr>\n",
       "      <th>2773</th>\n",
       "      <td>Discrete logarithm</td>\n",
       "      <td>0.972355</td>\n",
       "      <td>0.0</td>\n",
       "      <td>True</td>\n",
       "    </tr>\n",
       "    <tr>\n",
       "      <th>2774</th>\n",
       "      <td>Linear programming</td>\n",
       "      <td>0.972618</td>\n",
       "      <td>0.0</td>\n",
       "      <td>True</td>\n",
       "    </tr>\n",
       "    <tr>\n",
       "      <th>2775</th>\n",
       "      <td>Existential theory of the reals</td>\n",
       "      <td>0.978830</td>\n",
       "      <td>0.0</td>\n",
       "      <td>True</td>\n",
       "    </tr>\n",
       "    <tr>\n",
       "      <th>2776</th>\n",
       "      <td>Computable function</td>\n",
       "      <td>0.980849</td>\n",
       "      <td>0.0</td>\n",
       "      <td>True</td>\n",
       "    </tr>\n",
       "    <tr>\n",
       "      <th>2777</th>\n",
       "      <td>Computational complexity theory</td>\n",
       "      <td>0.982427</td>\n",
       "      <td>0.0</td>\n",
       "      <td>True</td>\n",
       "    </tr>\n",
       "    <tr>\n",
       "      <th>2778</th>\n",
       "      <td>Numerical analysis</td>\n",
       "      <td>0.983520</td>\n",
       "      <td>0.0</td>\n",
       "      <td>True</td>\n",
       "    </tr>\n",
       "    <tr>\n",
       "      <th>2779</th>\n",
       "      <td>LP-type problem</td>\n",
       "      <td>0.988209</td>\n",
       "      <td>0.0</td>\n",
       "      <td>True</td>\n",
       "    </tr>\n",
       "  </tbody>\n",
       "</table>\n",
       "</div>"
      ],
      "text/plain": [
       "                                            title  predicted  actual  \\\n",
       "2760                        Criss-cross algorithm   0.952502     0.0   \n",
       "2761                                 Vector logic   0.953342     0.0   \n",
       "2762                 Category:Biological theorems   0.954540     0.0   \n",
       "2763                           Chaitin's constant   0.955203     0.0   \n",
       "2764                     Computational complexity   0.958522     0.0   \n",
       "2765                          P versus NP problem   0.959869     0.0   \n",
       "2766  Non-constructive algorithm existence proofs   0.960831     0.0   \n",
       "2767                      Generic-case complexity   0.962550     0.0   \n",
       "2768                              Time complexity   0.962793     0.0   \n",
       "2769                      Computing the permanent   0.964047     0.0   \n",
       "2770                        Integer factorization   0.965000     0.0   \n",
       "2771                            Computable number   0.971522     0.0   \n",
       "2772                        Theory of computation   0.971899     0.0   \n",
       "2773                           Discrete logarithm   0.972355     0.0   \n",
       "2774                           Linear programming   0.972618     0.0   \n",
       "2775              Existential theory of the reals   0.978830     0.0   \n",
       "2776                          Computable function   0.980849     0.0   \n",
       "2777              Computational complexity theory   0.982427     0.0   \n",
       "2778                           Numerical analysis   0.983520     0.0   \n",
       "2779                              LP-type problem   0.988209     0.0   \n",
       "\n",
       "      threshold_pred  \n",
       "2760            True  \n",
       "2761            True  \n",
       "2762            True  \n",
       "2763            True  \n",
       "2764            True  \n",
       "2765            True  \n",
       "2766            True  \n",
       "2767            True  \n",
       "2768            True  \n",
       "2769            True  \n",
       "2770            True  \n",
       "2771            True  \n",
       "2772            True  \n",
       "2773            True  \n",
       "2774            True  \n",
       "2775            True  \n",
       "2776            True  \n",
       "2777            True  \n",
       "2778            True  \n",
       "2779            True  "
      ]
     },
     "execution_count": 11,
     "metadata": {},
     "output_type": "execute_result"
    }
   ],
   "source": [
    "FP_math.iloc[-20:,:]"
   ]
  },
  {
   "cell_type": "markdown",
   "metadata": {},
   "source": [
    "## **CONCLUSION**"
   ]
  },
  {
   "cell_type": "markdown",
   "metadata": {},
   "source": [
    "## _SO..._\n",
    "## _... how many mathematics articles are on Wikipedia ! ! ! ! ? ? ?_ "
   ]
  },
  {
   "cell_type": "markdown",
   "metadata": {},
   "source": [
    "~ `235,000` english language mathematics related articles\n",
    "\n",
    "~ `5,800,000` total english language articles"
   ]
  },
  {
   "cell_type": "markdown",
   "metadata": {},
   "source": [
    "OR:\n",
    "\n",
    "~ `0.045%`"
   ]
  },
  {
   "cell_type": "markdown",
   "metadata": {},
   "source": [
    "## **NEXT STEPS**"
   ]
  },
  {
   "cell_type": "markdown",
   "metadata": {},
   "source": [
    "* Pre-clean / Mechanical Turk positive class datasets for more desireable classification\n",
    "* Implement tools to populate article quality statistics\n",
    "* Explore other vectorizing models (Word2Vec, Doc2Vec)\n",
    "* Explore generalizability of model on to arXiv.org papers\n",
    "* Train only on page metadata to explore tradeoff associated with classification speed increase and reduction in precision/recall"
   ]
  },
  {
   "cell_type": "markdown",
   "metadata": {},
   "source": [
    "## CONCLUSION"
   ]
  },
  {
   "cell_type": "markdown",
   "metadata": {},
   "source": [
    "This is a big problem, however with simple ML methods the problem is becoming tractable."
   ]
  },
  {
   "cell_type": "markdown",
   "metadata": {},
   "source": [
    "\n",
    "\n",
    "\n",
    "# JAKUB SVEC\n",
    "\n",
    "## www.github.com/jakubsvec001\n",
    "\n",
    "## jakubsvec001@gmail.com\n",
    "\n",
    "## www.linkedin.com/jakubsvec001/"
   ]
  },
  {
   "cell_type": "code",
   "execution_count": 86,
   "metadata": {},
   "outputs": [],
   "source": [
    "import src.wiki_finder as wf\n",
    "import glob"
   ]
  },
  {
   "cell_type": "code",
   "execution_count": 87,
   "metadata": {},
   "outputs": [],
   "source": [
    "files = glob.glob('wiki_dump/*bz2')"
   ]
  },
  {
   "cell_type": "code",
   "execution_count": 88,
   "metadata": {},
   "outputs": [],
   "source": [
    "lines = wf.get_lines_bz2(files[0])"
   ]
  },
  {
   "cell_type": "code",
   "execution_count": 111,
   "metadata": {},
   "outputs": [],
   "source": [
    "page_gen = wf.page_generator(lines, limit=100)"
   ]
  },
  {
   "cell_type": "code",
   "execution_count": 121,
   "metadata": {},
   "outputs": [
    {
     "data": {
      "text/plain": [
       "'<title>Template:Minamiaso Railway Takamori Line</title>\\n<ns>10</ns>\\n<id>18754827</id>\\n<revision>\\n<id>780579013</id>\\n<parentid>567182113</parentid>\\n<timestamp>2017-05-16T00:07:44Z</timestamp>\\n<contributor>\\n<username>AnomieBOT</username>\\n<id>7611264</id>\\n</contributor>\\n<minor />\\n<comment>[[User:AnomieBOT/docs/TemplateSubster|Substing templates]]: {{ja-stalink}}. See [[User:AnomieBOT/docs/TemplateSubster]] for info.</comment>\\n<model>wikitext</model>\\n<format>text/x-wiki</format>\\n<text xml:space=\"preserve\">{{navbox\\n| name = Minamiaso Railway Takamori Line\\n| title = Stations of the [[Minamiaso Railway Takamori Line|Takamori Line]]\\n| titlestyle = {{rail navbox titlestyle|#ff0000}}\\n| listclass = hlist\\n| list1 =\\n* {{STN|Tateno|Kumamoto}}\\n* {{STN|Chōyō}}\\n* {{STN|Kase|Kumamoto}}\\n* {{STN|Aso-Shimodajō-Fureai-Onsen}}\\n* {{STN|Minamiaso Mizu-no-Umareru-Sato Hakusui-Kōgen}}\\n* {{STN|Nakamatsu}}\\n* {{STN|Aso-Shirakawa}}\\n* {{STN|Minamiaso-Shirakawasuigen }}\\n* {{STN|Miharashidai}}\\n* {{STN|Takamori}}\\n}}</text>\\n<sha1>kvu5fiuaqwa4ia93qasbyzwexl3m9sy</sha1>\\n</revision>\\n'"
      ]
     },
     "execution_count": 121,
     "metadata": {},
     "output_type": "execute_result"
    }
   ],
   "source": [
    "next(page_gen)"
   ]
  },
  {
   "cell_type": "code",
   "execution_count": 122,
   "metadata": {},
   "outputs": [],
   "source": [
    "from pymongo import MongoClient"
   ]
  },
  {
   "cell_type": "code",
   "execution_count": 123,
   "metadata": {},
   "outputs": [],
   "source": [
    "wiki_cache = MongoClient()['wiki_cache']"
   ]
  },
  {
   "cell_type": "code",
   "execution_count": 124,
   "metadata": {},
   "outputs": [
    {
     "data": {
      "text/plain": [
       "['working_collection',\n",
       " 'edgelist2',\n",
       " 'mathematics_logistic_predictions_5',\n",
       " 'pages',\n",
       " 'mathematics_logistic_predictions',\n",
       " 'mathematics_logistic_predictions_3',\n",
       " 'temp_mathematics',\n",
       " 'edgelist1',\n",
       " 'mathematics_logistic_predictions_4',\n",
       " 'all',\n",
       " 'small_edgelist',\n",
       " 'mathematics_logistic_predictions_6',\n",
       " 'mathematics_predictions',\n",
       " 'mathematics_logistic_predictions_2',\n",
       " 'new_col']"
      ]
     },
     "execution_count": 124,
     "metadata": {},
     "output_type": "execute_result"
    }
   ],
   "source": [
    "wiki_cache.list_collection_names()"
   ]
  },
  {
   "cell_type": "code",
   "execution_count": 125,
   "metadata": {},
   "outputs": [],
   "source": [
    "math_preds = wiki_cache['mathematics_predictions']"
   ]
  },
  {
   "cell_type": "code",
   "execution_count": 127,
   "metadata": {},
   "outputs": [],
   "source": [
    "math_articles = math_preds.find()"
   ]
  },
  {
   "cell_type": "code",
   "execution_count": 165,
   "metadata": {},
   "outputs": [
    {
     "data": {
      "text/plain": [
       "{'_id': ObjectId('5c0d2af2dc335a1ae1c1c033'),\n",
       " 'title': 'Portal:Video games/Featured topic/11',\n",
       " 'prediction': 0}"
      ]
     },
     "execution_count": 165,
     "metadata": {},
     "output_type": "execute_result"
    }
   ],
   "source": [
    "math_articles.next()"
   ]
  },
  {
   "cell_type": "code",
   "execution_count": 167,
   "metadata": {},
   "outputs": [],
   "source": [
    "articles_gt_18 = math_preds.find({\"prediction\": {\"$gt\": .18}})"
   ]
  },
  {
   "cell_type": "code",
   "execution_count": 168,
   "metadata": {},
   "outputs": [
    {
     "name": "stderr",
     "output_type": "stream",
     "text": [
      "/home/jakub/anaconda3/lib/python3.6/site-packages/ipykernel_launcher.py:1: DeprecationWarning: count is deprecated. Use Collection.count_documents instead.\n",
      "  \"\"\"Entry point for launching an IPython kernel.\n"
     ]
    },
    {
     "data": {
      "text/plain": [
       "769832"
      ]
     },
     "execution_count": 168,
     "metadata": {},
     "output_type": "execute_result"
    }
   ],
   "source": [
    "articles_gt_18.count()"
   ]
  },
  {
   "cell_type": "code",
   "execution_count": 169,
   "metadata": {},
   "outputs": [
    {
     "data": {
      "text/plain": [
       "0.04051747368421053"
      ]
     },
     "execution_count": 169,
     "metadata": {},
     "output_type": "execute_result"
    }
   ],
   "source": [
    "769832 / 19000000"
   ]
  },
  {
   "cell_type": "code",
   "execution_count": 170,
   "metadata": {},
   "outputs": [],
   "source": [
    "articles_gt_20 = math_preds.find({\"prediction\": {\"$gt\": .2}})"
   ]
  },
  {
   "cell_type": "code",
   "execution_count": 171,
   "metadata": {},
   "outputs": [
    {
     "name": "stderr",
     "output_type": "stream",
     "text": [
      "/home/jakub/anaconda3/lib/python3.6/site-packages/ipykernel_launcher.py:1: DeprecationWarning: count is deprecated. Use Collection.count_documents instead.\n",
      "  \"\"\"Entry point for launching an IPython kernel.\n"
     ]
    },
    {
     "data": {
      "text/plain": [
       "486886"
      ]
     },
     "execution_count": 171,
     "metadata": {},
     "output_type": "execute_result"
    }
   ],
   "source": [
    "articles_gt_20.count()"
   ]
  },
  {
   "cell_type": "code",
   "execution_count": 172,
   "metadata": {},
   "outputs": [
    {
     "data": {
      "text/plain": [
       "0.02562557894736842"
      ]
     },
     "execution_count": 172,
     "metadata": {},
     "output_type": "execute_result"
    }
   ],
   "source": [
    "486886 / 19000000"
   ]
  },
  {
   "cell_type": "code",
   "execution_count": 174,
   "metadata": {},
   "outputs": [
    {
     "data": {
      "text/plain": [
       "148628.35789473684"
      ]
     },
     "execution_count": 174,
     "metadata": {},
     "output_type": "execute_result"
    }
   ],
   "source": [
    "0.02562557894736842 * 5.8e6"
   ]
  },
  {
   "cell_type": "code",
   "execution_count": null,
   "metadata": {},
   "outputs": [],
   "source": []
  }
 ],
 "metadata": {
  "kernelspec": {
   "display_name": "Python 3",
   "language": "python",
   "name": "python3"
  },
  "language_info": {
   "codemirror_mode": {
    "name": "ipython",
    "version": 3
   },
   "file_extension": ".py",
   "mimetype": "text/x-python",
   "name": "python",
   "nbconvert_exporter": "python",
   "pygments_lexer": "ipython3",
   "version": "3.6.6"
  }
 },
 "nbformat": 4,
 "nbformat_minor": 2
}
