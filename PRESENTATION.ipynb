{
 "cells": [
  {
   "cell_type": "markdown",
   "metadata": {},
   "source": [
    "# ROOT DIRECTORY\n",
    "## _Organizing Wikipedia Content by Category_"
   ]
  },
  {
   "cell_type": "markdown",
   "metadata": {},
   "source": [
    "### BUSINESS PROBLEM"
   ]
  },
  {
   "cell_type": "markdown",
   "metadata": {},
   "source": [
    "#### READER PROBLEMS"
   ]
  },
  {
   "cell_type": "markdown",
   "metadata": {},
   "source": [
    "It is difficult explore Wikipedia in a structured way, and it is also know how to contribute to Wikipedia in a meaningful way:"
   ]
  },
  {
   "cell_type": "markdown",
   "metadata": {},
   "source": [
    "<img src='images/rabbit_hole.png'>"
   ]
  },
  {
   "cell_type": "markdown",
   "metadata": {},
   "source": [
    "#### EDITOR PROBLEMS"
   ]
  },
  {
   "cell_type": "markdown",
   "metadata": {},
   "source": [
    "#### **Editor enthusiasm has been declining**\n",
    "\n",
    "[MIT TECHNOLOGY REVIEW: The Decline of Wikipedia](https://www.technologyreview.com/s/520446/the-decline-of-wikipedia/)"
   ]
  },
  {
   "cell_type": "markdown",
   "metadata": {},
   "source": [
    "#### **Women are underrepresented as article topics**"
   ]
  },
  {
   "cell_type": "markdown",
   "metadata": {},
   "source": [
    "[EL PAIS: Raising the profile of female scientists, one Wikipedia article at a time](https://elpais.com/elpais/2018/07/10/inenglish/1531237118_130796.html)\n",
    "\n",
    "#### **Articles are overly complex**\n",
    "\n",
    "[WIRED: Wikipedia's Science Articles are Elitist](https://motherboard.vice.com/en_us/article/ne7xzq/wikipedias-science-articles-are-elitist)"
   ]
  },
  {
   "cell_type": "markdown",
   "metadata": {},
   "source": [
    "#### **Academics aren't fully engaged with Wikipedia**\n",
    "\n",
    "[SCIENCE: Academics can help shape Wikipedia](http://science.sciencemag.org/content/357/6351/557.2)"
   ]
  },
  {
   "cell_type": "markdown",
   "metadata": {},
   "source": [
    "## PROBLEM"
   ]
  },
  {
   "cell_type": "markdown",
   "metadata": {},
   "source": [
    "Wikipedia is the 5th most visited site on the web, and it contains about 5 million english-language articles! Given its popularity and success, Wikipedia has an organization problem:"
   ]
  },
  {
   "cell_type": "markdown",
   "metadata": {},
   "source": [
    "<img src='images/31444.png'/>"
   ]
  },
  {
   "cell_type": "markdown",
   "metadata": {},
   "source": [
    "While several categorization structures exist on Wikipedia, none truly solve the problem:\n",
    "\n",
    "Wikipedia possess the following organizing structures:\n",
    "\n",
    "#### _Wikipedia Methods of Categorizing:_\n",
    "\n",
    "- [Portal page](https://en.wikipedia.org/wiki/Portal:Contents/Portals#Mathematics_and_logic)\n",
    "- [Contents page](https://en.wikipedia.org/wiki/Portal:Contents/Mathematics_and_logic)\n",
    "- [Category page](https://en.wikipedia.org/wiki/Category:Mathematics)\n",
    "- [Outline page](https://en.wikipedia.org/wiki/Outline_of_mathematics)\n",
    "- [Areas of page](https://en.wikipedia.org/wiki/Areas_of_mathematics)\n",
    "- [Indices](https://en.wikipedia.org/wiki/Category:Mathematics-related_lists)\n",
    "- [Overviews](https://en.wikipedia.org/wiki/Category:Mathematics-related_lists)\n",
    "- [Glossaries](https://en.wikipedia.org/wiki/Category:Mathematics-related_lists)\n",
    "- [Category: Lists](https://en.m.wikipedia.org/wiki/Category:Lists)\n",
    "- [Lists of lists of lists](https://en.m.wikipedia.org/wiki/List_of_lists_of_lists)\n",
    "- [Contents/Lists](https://en.m.wikipedia.org/wiki/Portal:Contents/Lists)\n"
   ]
  },
  {
   "cell_type": "markdown",
   "metadata": {},
   "source": [
    "#### _Wikidata Methods of Categorizing:_\n",
    "\n",
    "Outside of the Wikipedia project, the WikiMedia Foundation also includes the the Wikidata project. This project is based on a graph database (using the Sparql language) that is community edited organize data based on their interconnections.\n",
    "\n",
    "```sparql\n",
    " SELECT distinct ?item ?article ?sitelink ?linkTo WHERE {\n",
    "       { ?item wdt:P361* wd:Q395 .}\n",
    "       union\n",
    "       { ?item wdt:P361/wdt:P279* wd:Q395 .}\n",
    "       union\n",
    "       { ?item wdt:P31/wdt:P279* wd:Q1936384 .}\n",
    "       union\n",
    "       { ?item wdt:P921/wdt:P279* wd:Q395 .}\n",
    "       optional \n",
    "       { ?sitelink ^schema:name ?article .\n",
    "         ?article schema:about ?item ;\n",
    "         schema:isPartOf <https://en.wikipedia.org/> .\n",
    "       }\n",
    "       OPTIONAL { ?item wdt:P361 ?linkTo. }\n",
    "       SERVICE wikibase:label { bd:serviceParam wikibase:language \"en\". }\n",
    "       }\n",
    "```\n",
    "While graph databases are dope, when humans are used to create nodes and relationships the data is not entirely reliable."
   ]
  },
  {
   "cell_type": "markdown",
   "metadata": {},
   "source": [
    "### SOLUTION"
   ]
  },
  {
   "cell_type": "markdown",
   "metadata": {},
   "source": [
    "One possible solution to this problem is to use graph analysis tools to detect communities of nodes in a network and hope it cuts properly. \n",
    "\n",
    "However, this is clumsy and wholly dependent on the quality of the categorization system, which is the problem in the first place."
   ]
  },
  {
   "cell_type": "markdown",
   "metadata": {},
   "source": [
    "<img src=\"images/louvain_modularity_3.png\">"
   ]
  },
  {
   "cell_type": "markdown",
   "metadata": {},
   "source": [
    "\n",
    "  "
   ]
  },
  {
   "cell_type": "markdown",
   "metadata": {},
   "source": [
    "A better option is to use the node's article content, since the article content is what Wikipedia is known for."
   ]
  },
  {
   "cell_type": "markdown",
   "metadata": {},
   "source": [
    "### DATA UNDERSTANDING\n",
    "\n"
   ]
  },
  {
   "cell_type": "markdown",
   "metadata": {},
   "source": [
    "https://en.wikipedia.org/wiki/Special:CategoryTree?target=Category%3AMathematics&mode=all&namespaces=&title=Special%3ACategoryTree"
   ]
  },
  {
   "cell_type": "markdown",
   "metadata": {},
   "source": [
    "https://en.wikipedia.org/wiki/Special:CategoryTree?target=Category%3AMachine+learning&mode=all&namespaces=&title=Special%3ACategoryTree"
   ]
  },
  {
   "cell_type": "markdown",
   "metadata": {},
   "source": [
    "### MODELING"
   ]
  },
  {
   "cell_type": "markdown",
   "metadata": {},
   "source": [
    "Instead of using wikipedia directly, I am using the Wikipedia XML data dump. This way, I don\n",
    "The biggest problem is how to efficiently traverse a Wikipedia XML data dump. This data dump is about 15gb in size compressed.\n",
    "\n",
    "* Solution: generative parsing of documents\n",
    "\n",
    "Training corpus is huge, about 80,000 Wikipedia pages. This is too much to hold in memory to build a tfidf model.\n",
    "\n",
    "* Solution: use Gensim to build the tfidf model while holding only one page in memory at a time.\n",
    "\n",
    "NLP models used:\n",
    "\n",
    "* TFIDF: Produces 100,000 features\n",
    "\n",
    "* Multinomial Naive Bayes\n",
    "* Logistic Regression with Regularization"
   ]
  },
  {
   "cell_type": "markdown",
   "metadata": {},
   "source": [
    "### RESULTS"
   ]
  },
  {
   "cell_type": "markdown",
   "metadata": {},
   "source": [
    "|Category          | C (regularization) | Log-Loss Score    | Threshold | TP   | TN    | FP   | FN  | Precision         | Recall            |\n",
    "|------------------|:------------------:|:-----------------:|:---------:|:----:|:-----:|:----:|:---:|:-----------------:|:-----------------:|\n",
    "| Aeronautics      |                    |                   |           |      |       |      |     |                   |                   |\n",
    "| Arts             |                    |                   |           |      |       |      |     |                   |                   |\n",
    "| Biology          |                    |                   |           |      |       |      |     |                   |                   |\n",
    "| Chemistry        |                    |                   |           |      |       |      |     |                   |                   |\n",
    "| Computer Science |          8         | 0.093             |    0.1    | 1034 | 14796 |  688 | 144 | 0.600              | 0.87                |\n",
    "| Engineering      |                    |                   |           |      |       |      |     |                   |                   |\n",
    "| Mathematics      |        0.05        |      0.27258      |    0.2    | 1813 | 11792 | 2780 | 277 |       0.394       |       0.867       |\n",
    "| Philosophy       |                    |                   |           |      |       |      |     |                   |                   |\n",
    "| Physics          |                    |                   |           |      |       |      |     |                   |                   |"
   ]
  },
  {
   "cell_type": "markdown",
   "metadata": {},
   "source": []
  },
  {
   "cell_type": "markdown",
   "metadata": {},
   "source": [
    "### FEATURE IMPORTANCES"
   ]
  },
  {
   "cell_type": "markdown",
   "metadata": {},
   "source": [
    "### NEXT STEPS"
   ]
  },
  {
   "cell_type": "markdown",
   "metadata": {},
   "source": [
    "* Deploy model over night, get predictions for all of wikipedia for one category\n",
    "* Create Feature Importance Visualization\n",
    "* Improve metadata page extraction (regex that does not catastrophically fail)\n",
    "* Make code fully PEP-8 Compliant\n",
    "* Generate a requirements.txt file\n",
    "* Programmatically delete most important features from dictionary?\n",
    "* Convert notebook presentation to Google Slides\n",
    "\n",
    "\n",
    "* Implement tools on top of listed categories\n",
    "* Explore generalizability of model on to arXiv.org papers\n",
    "* Train only on page metadata to explore tradeoff associated with classification speed increase and reduction in precision/recall\n",
    "* Pre-clean / Mechanical Turk positive class datasets for more desireable classification"
   ]
  },
  {
   "cell_type": "markdown",
   "metadata": {},
   "source": [
    "## CONCLUSION"
   ]
  },
  {
   "cell_type": "markdown",
   "metadata": {},
   "source": [
    "This is a big problem, however with simple ML methods the problem is becoming tractable."
   ]
  },
  {
   "cell_type": "markdown",
   "metadata": {},
   "source": [
    "\n",
    "\n",
    "\n",
    "# JAKUB SVEC\n",
    "\n",
    "## www.github.com/jakubsvec001\n",
    "\n",
    "## jakubsvec001@gmail.com\n",
    "\n",
    "## www.linkedin.com/jakubsvec001/"
   ]
  },
  {
   "cell_type": "code",
   "execution_count": null,
   "metadata": {},
   "outputs": [],
   "source": []
  }
 ],
 "metadata": {
  "kernelspec": {
   "display_name": "Python 3",
   "language": "python",
   "name": "python3"
  },
  "language_info": {
   "codemirror_mode": {
    "name": "ipython",
    "version": 3
   },
   "file_extension": ".py",
   "mimetype": "text/x-python",
   "name": "python",
   "nbconvert_exporter": "python",
   "pygments_lexer": "ipython3",
   "version": "3.6.6"
  }
 },
 "nbformat": 4,
 "nbformat_minor": 2
}
