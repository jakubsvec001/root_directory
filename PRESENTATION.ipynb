{
 "cells": [
  {
   "cell_type": "markdown",
   "metadata": {},
   "source": [
    "# ROOT DIRECTORY PRESENTATION"
   ]
  },
  {
   "cell_type": "markdown",
   "metadata": {},
   "source": [
    "### PROBLEM"
   ]
  },
  {
   "cell_type": "markdown",
   "metadata": {},
   "source": [
    "Wikipedia has an organization problem:"
   ]
  },
  {
   "cell_type": "markdown",
   "metadata": {},
   "source": [
    "<img src='images/31444.png'/>"
   ]
  },
  {
   "cell_type": "markdown",
   "metadata": {},
   "source": [
    "While several categorization structures exist on Wikipedia, none truly solve the problem:\n",
    "\n",
    "Wikipedia possess the following organizing structures:\n",
    "\n",
    "#### _Wikipedia Methods of Categorizing:_\n",
    "\n",
    "- [Portal page](https://en.wikipedia.org/wiki/Portal:Contents/Portals#Mathematics_and_logic)\n",
    "- [Contents page](https://en.wikipedia.org/wiki/Portal:Contents/Mathematics_and_logic)\n",
    "- [Category page](https://en.wikipedia.org/wiki/Category:Mathematics)\n",
    "- [Outline page](https://en.wikipedia.org/wiki/Outline_of_mathematics)\n",
    "- [Areas of Mathematics page](https://en.wikipedia.org/wiki/Areas_of_mathematics)\n",
    "- [Indices](https://en.wikipedia.org/wiki/Category:Mathematics-related_lists)\n",
    "- [Overviews](https://en.wikipedia.org/wiki/Category:Mathematics-related_lists)\n",
    "- [Glossaries](https://en.wikipedia.org/wiki/Category:Mathematics-related_lists)"
   ]
  },
  {
   "cell_type": "markdown",
   "metadata": {},
   "source": [
    "#### _Wikidata Methods of Categorizing:_\n",
    "\n",
    "Outside of the Wikipedia project, the WikiMedia Foundation also includes the the Wikidata project. This project is based on a graph database (using the Sparql language) that is community edited organize data based on their interconnections.\n",
    "\n",
    "```sparql\n",
    " SELECT distinct ?item ?article ?sitelink ?linkTo WHERE {\n",
    "       { ?item wdt:P361* wd:Q395 .}\n",
    "       union\n",
    "       { ?item wdt:P361/wdt:P279* wd:Q395 .}\n",
    "       union\n",
    "       { ?item wdt:P31/wdt:P279* wd:Q1936384 .}\n",
    "       union\n",
    "       { ?item wdt:P921/wdt:P279* wd:Q395 .}\n",
    "       optional \n",
    "       { ?sitelink ^schema:name ?article .\n",
    "         ?article schema:about ?item ;\n",
    "         schema:isPartOf <https://en.wikipedia.org/> .\n",
    "       }\n",
    "       OPTIONAL { ?item wdt:P361 ?linkTo. }\n",
    "       SERVICE wikibase:label { bd:serviceParam wikibase:language \"en\". }\n",
    "       }\n",
    "```\n",
    "While graph databases are dope, when humans are used to create nodes and relationships the data is not entirely reliable."
   ]
  },
  {
   "cell_type": "markdown",
   "metadata": {},
   "source": [
    "### SOLUTION"
   ]
  },
  {
   "cell_type": "markdown",
   "metadata": {},
   "source": [
    "One possible solution to this problem is to use graph analysis tools to detect communities of nodes in a network and cut off "
   ]
  },
  {
   "cell_type": "markdown",
   "metadata": {},
   "source": [
    "<img src=\"images/louvain_modularity_3.png\">"
   ]
  },
  {
   "cell_type": "markdown",
   "metadata": {},
   "source": [
    "\n",
    "  "
   ]
  },
  {
   "cell_type": "markdown",
   "metadata": {},
   "source": [
    "### METHODS USED"
   ]
  },
  {
   "cell_type": "markdown",
   "metadata": {},
   "source": [
    "The biggest problem is how to efficiently traverse a Wikipedia XML data dump. This data dump is about 15gb in size compressed.\n",
    "\n",
    "* Solution: generative parsing of documents\n",
    "\n",
    "Training corpus is huge, about 80,000 Wikipedia pages. This is too much to hold in memory to build a tfidf model.\n",
    "\n",
    "* Solution: use Gensim to build the tfidf model while holding only one page in memory at a time.\n",
    "\n",
    "NLP models used:\n",
    "\n",
    "* Multinomial Naive Bayes\n",
    "* Logistic Regression with Regularization"
   ]
  },
  {
   "cell_type": "code",
   "execution_count": 2,
   "metadata": {},
   "outputs": [],
   "source": [
    "import src.wiki_finder as wf\n",
    "import glob"
   ]
  },
  {
   "cell_type": "code",
   "execution_count": 3,
   "metadata": {},
   "outputs": [],
   "source": [
    "files = glob.glob('wiki_dump/*.bz2')"
   ]
  },
  {
   "cell_type": "code",
   "execution_count": 18,
   "metadata": {},
   "outputs": [],
   "source": [
    "finder = wf.WikiFinder(titles_csv='seed/mathematics_d3.csv', page_limit=100)"
   ]
  },
  {
   "cell_type": "code",
   "execution_count": 19,
   "metadata": {},
   "outputs": [],
   "source": [
    "lines = finder._get_lines_bz2(files[0])"
   ]
  },
  {
   "cell_type": "code",
   "execution_count": null,
   "metadata": {},
   "outputs": [],
   "source": [
    "for line in lines:\n",
    "    print(line)"
   ]
  },
  {
   "cell_type": "code",
   "execution_count": 21,
   "metadata": {},
   "outputs": [],
   "source": [
    "from pymongo import MongoClient\n",
    "documents = MongoClient()['wiki_cache']['all'].find().limit(5)"
   ]
  },
  {
   "cell_type": "code",
   "execution_count": null,
   "metadata": {},
   "outputs": [],
   "source": [
    "documents.next()"
   ]
  },
  {
   "cell_type": "markdown",
   "metadata": {},
   "source": [
    "### RESULTS"
   ]
  },
  {
   "cell_type": "markdown",
   "metadata": {},
   "source": []
  },
  {
   "cell_type": "markdown",
   "metadata": {},
   "source": []
  },
  {
   "cell_type": "markdown",
   "metadata": {},
   "source": []
  },
  {
   "cell_type": "markdown",
   "metadata": {},
   "source": []
  },
  {
   "cell_type": "markdown",
   "metadata": {},
   "source": [
    "### NEXT STEPS"
   ]
  },
  {
   "cell_type": "markdown",
   "metadata": {},
   "source": [
    "* Tweek code to multiprocess a search of the xml pages, parse the xml, convert to tfidf sparse matrix, predict probability, save positive preditions to a database for analysis"
   ]
  },
  {
   "cell_type": "markdown",
   "metadata": {},
   "source": []
  },
  {
   "cell_type": "markdown",
   "metadata": {},
   "source": []
  },
  {
   "cell_type": "markdown",
   "metadata": {},
   "source": []
  },
  {
   "cell_type": "markdown",
   "metadata": {},
   "source": [
    "\n",
    "\n"
   ]
  },
  {
   "cell_type": "markdown",
   "metadata": {},
   "source": []
  },
  {
   "cell_type": "markdown",
   "metadata": {},
   "source": []
  }
 ],
 "metadata": {
  "kernelspec": {
   "display_name": "Python 3",
   "language": "python",
   "name": "python3"
  },
  "language_info": {
   "codemirror_mode": {
    "name": "ipython",
    "version": 3
   },
   "file_extension": ".py",
   "mimetype": "text/x-python",
   "name": "python",
   "nbconvert_exporter": "python",
   "pygments_lexer": "ipython3",
   "version": "3.6.6"
  }
 },
 "nbformat": 4,
 "nbformat_minor": 2
}
