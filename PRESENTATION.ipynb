{
 "cells": [
  {
   "cell_type": "markdown",
   "metadata": {},
   "source": [
    "# ROOT DIRECTORY\n",
    "## _Organizing Wikipedia Content by Category_"
   ]
  },
  {
   "cell_type": "markdown",
   "metadata": {},
   "source": [
    "### BUSINESS PROBLEM"
   ]
  },
  {
   "cell_type": "markdown",
   "metadata": {},
   "source": [
    "#### READER PROBLEMS"
   ]
  },
  {
   "cell_type": "markdown",
   "metadata": {},
   "source": [
    "It is difficult explore Wikipedia in a structured way, and it is also know how to contribute to Wikipedia in a meaningful way:"
   ]
  },
  {
   "cell_type": "markdown",
   "metadata": {},
   "source": [
    "<img src='images/rabbit_hole.png'>"
   ]
  },
  {
   "cell_type": "markdown",
   "metadata": {},
   "source": [
    "#### EDITOR PROBLEMS"
   ]
  },
  {
   "cell_type": "markdown",
   "metadata": {},
   "source": [
    "#### **Editor enthusiasm has been declining**"
   ]
  },
  {
   "cell_type": "markdown",
   "metadata": {},
   "source": [
    "<img src='images/editor_decline.png'>"
   ]
  },
  {
   "cell_type": "markdown",
   "metadata": {},
   "source": [
    "#### **Women are underrepresented as article topics**"
   ]
  },
  {
   "cell_type": "markdown",
   "metadata": {},
   "source": [
    "<img src='images/women_wikipedia.png'>"
   ]
  },
  {
   "cell_type": "markdown",
   "metadata": {},
   "source": [
    "#### **Articles are overly complex**"
   ]
  },
  {
   "cell_type": "markdown",
   "metadata": {},
   "source": [
    "<img src='images/complex_wikipedia.png'>"
   ]
  },
  {
   "cell_type": "markdown",
   "metadata": {},
   "source": [
    "#### Simple wiki data dump size: ~150 MB"
   ]
  },
  {
   "cell_type": "markdown",
   "metadata": {},
   "source": [
    "<img src='images/simple_wiki_size.png'>"
   ]
  },
  {
   "cell_type": "markdown",
   "metadata": {},
   "source": [
    "#### Simple wiki data dump size: ~15 GB"
   ]
  },
  {
   "cell_type": "markdown",
   "metadata": {},
   "source": [
    "<img src='images/wikipedia_dump_size.png'>"
   ]
  },
  {
   "cell_type": "markdown",
   "metadata": {},
   "source": [
    "#### **Article Quality Assessment**"
   ]
  },
  {
   "cell_type": "markdown",
   "metadata": {},
   "source": [
    "<img src='images/quality_wikipedia.png'>"
   ]
  },
  {
   "cell_type": "markdown",
   "metadata": {},
   "source": [
    "## PROBLEM"
   ]
  },
  {
   "cell_type": "markdown",
   "metadata": {},
   "source": [
    "Wikipedia is the 5th most visited site on the web,\n",
    "\n",
    "and it contains about 5M english-language articles.\n",
    "\n",
    "Nevertheless, Wikipedia has an organization problem:"
   ]
  },
  {
   "cell_type": "markdown",
   "metadata": {},
   "source": [
    "<img src='images/31444.png'/>"
   ]
  },
  {
   "cell_type": "markdown",
   "metadata": {},
   "source": [
    "While several categorization structures exist on Wikipedia, none truly solve the problem:\n",
    "\n",
    "Wikipedia possess the following organizing structures:\n",
    "\n",
    "#### _Wikipedia Methods of Categorizing:_\n",
    "\n",
    "- [Portal page](https://en.wikipedia.org/wiki/Portal:Contents/Portals#Mathematics_and_logic)\n",
    "- [Contents page](https://en.wikipedia.org/wiki/Portal:Contents/Mathematics_and_logic)\n",
    "- [Category page](https://en.wikipedia.org/wiki/Category:Mathematics)\n",
    "- [Outline page](https://en.wikipedia.org/wiki/Outline_of_mathematics)\n",
    "- [Areas of Mathematics page](https://en.wikipedia.org/wiki/Areas_of_mathematics)\n",
    "- [Indices](https://en.wikipedia.org/wiki/Category:Mathematics-related_lists)\n",
    "- [Overviews](https://en.wikipedia.org/wiki/Category:Mathematics-related_lists)\n",
    "- [Glossaries](https://en.wikipedia.org/wiki/Category:Mathematics-related_lists)"
   ]
  },
  {
   "cell_type": "markdown",
   "metadata": {},
   "source": [
    "#### _Wikidata Methods of Categorizing:_\n",
    "\n",
    "Outside of the Wikipedia project, the WikiMedia Foundation also includes the the Wikidata project. This project is based on a graph database (using the Sparql language) that is community edited organize data based on their interconnections.\n",
    "\n",
    "```sparql\n",
    " SELECT distinct ?item ?article ?sitelink ?linkTo WHERE {\n",
    "       { ?item wdt:P361* wd:Q395 .}\n",
    "       union\n",
    "       { ?item wdt:P361/wdt:P279* wd:Q395 .}\n",
    "       union\n",
    "       { ?item wdt:P31/wdt:P279* wd:Q1936384 .}\n",
    "       union\n",
    "       { ?item wdt:P921/wdt:P279* wd:Q395 .}\n",
    "       optional \n",
    "       { ?sitelink ^schema:name ?article .\n",
    "         ?article schema:about ?item ;\n",
    "         schema:isPartOf <https://en.wikipedia.org/> .\n",
    "       }\n",
    "       OPTIONAL { ?item wdt:P361 ?linkTo. }\n",
    "       SERVICE wikibase:label { bd:serviceParam wikibase:language \"en\". }\n",
    "       }\n",
    "```\n",
    "While graph databases are dope, when humans are used to create nodes and relationships the data is not entirely reliable."
   ]
  },
  {
   "cell_type": "markdown",
   "metadata": {},
   "source": [
    "### SOLUTION"
   ]
  },
  {
   "cell_type": "markdown",
   "metadata": {},
   "source": [
    "One possible solution to this problem is to use graph analysis tools to detect communities of nodes in a network and hope it cuts properly. \n",
    "\n",
    "However, this is clumsy and wholly dependent on the quality of the categorization system."
   ]
  },
  {
   "cell_type": "markdown",
   "metadata": {},
   "source": [
    "<img src=\"images/louvain_modularity_3.png\">"
   ]
  },
  {
   "cell_type": "markdown",
   "metadata": {},
   "source": [
    "\n",
    "  "
   ]
  },
  {
   "cell_type": "markdown",
   "metadata": {},
   "source": [
    "A better option is to use the node's article content, since the article content is what Wikipedia is known for."
   ]
  },
  {
   "cell_type": "markdown",
   "metadata": {},
   "source": [
    "### DATA UNDERSTANDING:\n",
    "\n"
   ]
  },
  {
   "cell_type": "markdown",
   "metadata": {},
   "source": [
    "https://en.wikipedia.org/wiki/Special:CategoryTree?target=Category%3AMathematics&mode=all&namespaces=&title=Special%3ACategoryTree"
   ]
  },
  {
   "cell_type": "markdown",
   "metadata": {},
   "source": [
    "https://en.wikipedia.org/wiki/Special:CategoryTree?target=Category%3AMachine+learning&mode=all&namespaces=&title=Special%3ACategoryTree"
   ]
  },
  {
   "cell_type": "markdown",
   "metadata": {},
   "source": [
    "### METHODS USED"
   ]
  },
  {
   "cell_type": "markdown",
   "metadata": {},
   "source": [
    "Instead of using wikipedia directly, I am using the Wikipedia XML data dump. This way, I don\n",
    "The biggest problem is how to efficiently traverse a Wikipedia XML data dump. This data dump is about 15gb in size compressed.\n",
    "\n",
    "* Solution: generative parsing of documents\n",
    "\n",
    "Training corpus is huge, about 80,000 Wikipedia pages. This is too much to hold in memory to build a tfidf model.\n",
    "\n",
    "* Solution: use Gensim to build the tfidf model while holding only one page in memory at a time.\n",
    "\n",
    "NLP models used:\n",
    "\n",
    "* TFIDF: Produces 100,000 features\n",
    "\n",
    "* Multinomial Naive Bayes\n",
    "* Logistic Regression with Regularization"
   ]
  },
  {
   "cell_type": "markdown",
   "metadata": {},
   "source": [
    "### RESULTS"
   ]
  },
  {
   "cell_type": "markdown",
   "metadata": {},
   "source": [
    "Log-loss = 0.106"
   ]
  },
  {
   "cell_type": "markdown",
   "metadata": {},
   "source": [
    "**threshold:** \n",
    "\n",
    "* 15% \n",
    "\n",
    "**Confusion Matrix**\n",
    "\n",
    "* TN = 14990\n",
    "* TP = 1024\n",
    "* FP = 494\n",
    "* FN = 154\n"
   ]
  },
  {
   "cell_type": "markdown",
   "metadata": {},
   "source": [
    "**ROC / AUC**\n",
    "\n",
    "* 0.98"
   ]
  },
  {
   "cell_type": "markdown",
   "metadata": {},
   "source": [
    "**Precision score:**\n",
    "\n",
    "* 0.676\n",
    "\n",
    "**Recall score:**\n",
    "\n",
    "* 0.851\n"
   ]
  },
  {
   "cell_type": "markdown",
   "metadata": {},
   "source": [
    "<img src='images/final_mathematics_roc_cv_logistic_regression_100000.png'>"
   ]
  },
  {
   "cell_type": "markdown",
   "metadata": {},
   "source": [
    "### FEATURE IMPORTANCE OF _COMPUTER SCIENCE_"
   ]
  },
  {
   "cell_type": "markdown",
   "metadata": {},
   "source": [
    "#### 100 words most likely to indicate not 'computer science', most to least important:\n",
    "\n",
    "('chemic', -7.851578360850692),\n",
    " ('mathemat', -7.758474907461552),\n",
    " ('chemistri', -7.669446723171006),\n",
    " ('theorem', -6.918966883271065),\n",
    " ('engin', -6.6406563203012),\n",
    " ('art', -6.239766768705818),\n",
    " ('physic', -5.994345330764655),\n",
    " ('molecul', -5.810642942875946),\n",
    " ('mechan', -5.179759753880696),\n",
    " ('standard', -5.164808156986166),\n",
    " ('artist', -5.153499832835458),\n",
    " ('broadcast', -4.9958207998841555),\n",
    " ('physicist', -4.8905381365296146),\n",
    " ('plant', -4.574029118138461),\n",
    " ('chemist', -4.393344046399455),\n",
    " ('philosophi', -4.348499226618056),\n",
    " ('station', -4.2326820824794495),\n",
    " ('in mathemat', -4.15840017963774),\n",
    " ('materi', -4.1350960288659895),\n",
    " ('energi', -4.111683984275497),\n",
    " ('mathematician', -4.094475856879512),\n",
    " ('book', -4.0499888315776005),\n",
    " ('compound', -4.025824975544282),\n",
    " ('neural network', -3.9039812197787285),\n",
    " ('centuri', -3.8971872722555765),\n",
    " ('decad', -3.8787479384432726),\n",
    " ('model languag', -3.8738909193297966),\n",
    " ('water', -3.8573826952508625),\n",
    " ('design', -3.80942866826711),\n",
    " ('oper research', -3.7807105998635855),\n",
    " ('integr', -3.7701622620380344),\n",
    " ('acid', -3.731267402079188),\n",
    " ('fiction', -3.707623008977981),\n",
    " ('descript', -3.7066722429161683),\n",
    " ('paint', -3.616244906860662),\n",
    " ('stochast', -3.6024292291427304),\n",
    " ('isol', -3.6018469760558944),\n",
    " ('cultur', -3.59274976177639),\n",
    " ('x-ray', -3.576927490310963),\n",
    " ('cipher', -3.5694417481949654),\n",
    " ('revert', -3.5608469932451214),\n",
    " ('safeti', -3.5187271613187345),\n",
    " ('concret', -3.5176821456173175),\n",
    " ('molecular', -3.498260604536983),\n",
    " ('oil', -3.4438906883998186),\n",
    " ('open', -3.425944877691879),\n",
    " ('manufactur', -3.4113904838951243),\n",
    " ('instrument', -3.3379635460447545),\n",
    " ('aerospac', -3.320821719453244),\n",
    " ('canon', -3.2616950814280363),\n",
    " ('bond', -3.23595956477185),\n",
    " ('marin', -3.2193800660682594),\n",
    " ('alan ture', -3.161921156868509),\n",
    " ('mathemat softwar', -3.1322970535672843),\n",
    " ('optic', -3.1178655102725488),\n",
    " ('deep', -3.1095446190294904),\n",
    " ('experi', -3.0855568588610947),\n",
    " ('ring', -3.064782091267034),\n",
    " ('tissu', -3.055563259863252),\n",
    " ('motion', -3.0435956130256696),\n",
    " ('style', -3.0381946304942673),\n",
    " ('softwar visual', -3.0139629999655346),\n",
    " ('comic', -3.01198289861977),\n",
    " ('ada', -3.0027478734658786),\n",
    " ('theori', -2.992578171524996),\n",
    " ('orbit', -2.9822645259937275),\n",
    " ('notat', -2.9549331507379777),\n",
    " ('road', -2.9459073764443597),\n",
    " ('industri', -2.94389202591929),\n",
    " ('combinator', -2.933160107876594),\n",
    " ('stream process', -2.912682947291176),\n",
    " ('uml', -2.904199672162106),\n",
    " ('concentr', -2.895381063503849),\n",
    " ('church', -2.868581654468579),\n",
    " ('georg', -2.856796015951508),\n",
    " ('binomi', -2.8486241053562806),\n",
    " ('number theori', -2.844888084141401),\n",
    " ('gravit', -2.8393673393682297),\n",
    " ('drug', -2.8174278083630093),\n",
    " ('vehicl', -2.8078551647054386),\n",
    " ('reaction', -2.807416462819754),\n",
    " ('protein', -2.8057896691000366),\n",
    " ('ann', -2.7895874131255094),\n",
    " ('elev', -2.7789608821085765),\n",
    " ('professor mathemat', -2.7763163013972223),\n",
    " ('magnet', -2.774430367485002),\n",
    " ('backpropag', -2.772972123916454),\n",
    " ('guidelin', -2.7728131875953195),\n",
    " ('spectroscopi', -2.761489635466199),\n",
    " ('work', -2.7458929403114505),\n",
    " ('greek', -2.7446226568314476),\n",
    " ('telephon', -2.736297556833914),\n",
    " ('matter', -2.7349926547211068),\n",
    " ('biolog', -2.7148538121878385),\n",
    " ('usabl', -2.7115433986143156),\n",
    " ('b', -2.7022794475222924),\n",
    " ('axiomat', -2.701689389968814),\n",
    " ('relev', -2.693875244865861),\n",
    " ('labor', -2.6828342262877194),\n",
    " ('weight', -2.678941268386128)..."
   ]
  },
  {
   "cell_type": "markdown",
   "metadata": {},
   "source": [
    "#### 200 words with nearly zero betas:\n",
    "\n",
    "('domain mathemat', -0.19998967997110387),\n",
    " ('project', -0.1999765403616043),\n",
    " ('one-to-on', -0.19997296835137557),\n",
    " ('virtual machines.', -0.19995764721266107),\n",
    " ('possibl defin', -0.19988406297924893),\n",
    " ('case consid', -0.19975609588153925),\n",
    " ('problem p', -0.1996774884310592),\n",
    " ('work digit', -0.19967115548835784),\n",
    " ('if need', -0.1996067848070963),\n",
    " ('help.', -0.1995900672484893),\n",
    " ('project plan', -0.1995882388945452),\n",
    " ('bnf', -0.19958447680482064),\n",
    " ('languag cobol', -0.1995756534458149),\n",
    " ('channels.', -0.19956928347049493),\n",
    " ('number peopl', -0.19955412096564773),\n",
    " ('signatures.', -0.19954826299912903),\n",
    " ('fellow royal societi', -0.1995440716645988),\n",
    " ('difficult task', -0.19952713872454256),\n",
    " ('licens java program', -0.19949453137091275),\n",
    " ('univers michigan univers', -0.1994885587900688),\n",
    " ('third intern', -0.19948222237908406),\n",
    " ('bug track', -0.19942146844105563),\n",
    " ('ieee symposium foundat', -0.19937587418109862),\n",
    " ('quantit approach', -0.1993534313601791),\n",
    " ('improv support', -0.1993131036689898),\n",
    " ('euler equat fluid', -0.199308465779406),\n",
    " ('program quadrat program', -0.19925649636272486),\n",
    " ('1965.', -0.19917693755856553),\n",
    " ('v6', -0.19916645937840702),\n",
    " ('graph g', -0.19914025218755527),\n",
    " ('ture award associ', -0.19909343100431498),\n",
    " ('fossil', -0.1990763729273989),\n",
    " ('produc correct', -0.19904431821666857),\n",
    " ('$1 000', -0.19901761147993957),\n",
    " ('quantifi logic', -0.19901205560670857),\n",
    " ('image.', -0.1990039050115631),\n",
    " ('use window', -0.19897967548530437),\n",
    " ('biochem', -0.1989662049006487),\n",
    " ('includ increas', -0.19891901100827145),\n",
    " ('agent multi-ag system', -0.19890784256192426),\n",
    " ('comput pc', -0.19890769876764783),\n",
    " ('use captur', -0.19889402710078397),\n",
    " ('affect comput', -0.19888261015549016),\n",
    " ('if s', -0.19887821685945875),\n",
    " ('high integr', -0.1988458201964609),\n",
    " ('telephon network', -0.19884237770052438),\n",
    " ('c++.', -0.19884026199276802),\n",
    " ('eigenvalu eigenvector', -0.19878193523218887),\n",
    " ('width.', -0.19873713991642714),\n",
    " ('mid-1980', -0.1986265402310612),\n",
    " ('visual display', -0.19861375030174286),\n",
    " ('harvard mark', -0.1985944816275466),\n",
    " ('aqua', -0.19858646966674937),\n",
    " ('dunde', -0.198550735494423),\n",
    " ('32 64', -0.19852040331960363),\n",
    " ('origin equip manufactur', -0.1984934772074005),\n",
    " ('n o p', -0.19846727223971347),\n",
    " ('window includ', -0.19837034641142542),\n",
    " ('complet project', -0.1983696338238587),\n",
    " ('human capabl', -0.19835283114842273),\n",
    " ('read .', -0.19830431571560553),\n",
    " ('learn learn', -0.19827280741722544),\n",
    " ('undertook', -0.19823789318440677),\n",
    " ('scienc open', -0.19821847120757116),\n",
    " ('univers univers pennsylvania', -0.19821507623200285),\n",
    " ('bit byte', -0.19817861116164776),\n",
    " ('privaci concern', -0.19814151909879552),\n",
    " ('use sound', -0.19813285310592857),\n",
    " ('function approxim', -0.1981304644391662),\n",
    " ('use evalu', -0.19807000802494107),\n",
    " ('step size', -0.19799466480980918),\n",
    " ('let consid', -0.19795737772563315),\n",
    " ('valu point', -0.19795617793148348),\n",
    " ('colleg dublin', -0.1978993850811406),\n",
    " ('primari reason', -0.19787441947772805),\n",
    " ('columns.', -0.19781555049923732),\n",
    " ('landscap', -0.1977419032213642),\n",
    " ('theorem the', -0.19771133054370232),\n",
    " ('trivia', -0.19766528084780868),\n",
    " ('comput introduc', -0.19761457188745835),\n",
    " ('secondari school', -0.19761397582263174),\n",
    " ('institut standard', -0.1975821023595345),\n",
    " ('circumst', -0.197551396491683),\n",
    " ('it organ', -0.19753973443272113),\n",
    " ('novemb 2006', -0.1974755477674394),\n",
    " ('lesser extent', -0.19747126479380467),\n",
    " ('data. a', -0.19746720544446833),\n",
    " ('languag cognit', -0.1974604282713564),\n",
    " ('holland', -0.19742301553082164),\n",
    " ('confer comput vision', -0.19739739228640008),\n",
    " ('deduc', -0.19739372782124862),\n",
    " ('comparison word', -0.1973771393971669),\n",
    " ('refer applic', -0.19735231129802627),\n",
    " ('tape. the', -0.19730491547091067),\n",
    " ('june 2', -0.19726322247378283),\n",
    " ('power tool', -0.19719828404933343),\n",
    " ('decision-making.', -0.19712236600072014),\n",
    " ('level languag', -0.1970699867875656),\n",
    " ('reuse.', -0.19702892027488517),\n",
    " ('depot', -0.1970066027378353)\n",
    " \n",
    " \n",
    " ('bandwidth signal process', 0.1983648361546687),\n",
    " ('for exampl object', 0.19839550987651938),\n",
    " ('processor program', 0.19839594327427373),\n",
    " ('librari creat', 0.19842238899384235),\n",
    " ('inconsist', 0.19845211279342825),\n",
    " ('complex imag', 0.19849358404174341),\n",
    " ('morgan kaufmann', 0.19849670979937362),\n",
    " ('number languag', 0.19851093419804644),\n",
    " ('function appli', 0.19852662386225087),\n",
    " ('john v.', 0.1985382284770658),\n",
    " ('bounds.', 0.198547476023647),\n",
    " ('3 data', 0.1985600152765519),\n",
    " ('2004 –', 0.19856529429566824),\n",
    " ('code need', 0.19858173845223365),\n",
    " ('system chip', 0.19858645605879074),\n",
    " ('broad rang', 0.19861945930621674),\n",
    " ('intel-bas', 0.19867274797706944),\n",
    " ('formal grammar', 0.19867413388768923),\n",
    " ('program languag refer', 0.19869190085917768),\n",
    " ('current best', 0.19872527456561745),\n",
    " ('simpl general', 0.19873329563036385),\n",
    " ('algorithm process', 0.19874783548529756),\n",
    " ('comput term', 0.19875167781967074),\n",
    " ('let x', 0.19876768254134636),\n",
    " ('the edit', 0.1987768147168433),\n",
    " ('product server', 0.19877899616491967),\n",
    " ('problem said', 0.19884845750338678),\n",
    " ('workshop approxim', 0.1988587090769727),\n",
    " ('. in practic', 0.19886278425867324),\n",
    " ('for problem', 0.19890286338324864),\n",
    " ('verg', 0.19892992840689822),\n",
    " ('feldman', 0.1989556741884135),\n",
    " ('base estim', 0.19896148371030076),\n",
    " ('mathemat techniqu', 0.19897766446256618),\n",
    " ('compar general', 0.19898569627032237),\n",
    " ('semant the', 0.198989052728307),\n",
    " ('addit charg', 0.19901453727148233),\n",
    " ('feder communic commiss', 0.19902057948569968),\n",
    " ('programm system', 0.19902331662958997),\n",
    " ('highlight import', 0.19904100672396247),\n",
    " ('the award present', 0.19904212404199237),\n",
    " ('g x', 0.19904665841553013),\n",
    " ('softwar cinema', 0.19906172360528007),\n",
    " ('softwar cinema 4d', 0.19906172360528007),\n",
    " ('given type', 0.1990627261224826),\n",
    " ('o mn', 0.19907187786530517),\n",
    " ('develop sourc', 0.19911366157201707),\n",
    " ('page document', 0.19912301477624056),\n",
    " ('simul entir', 0.19912704509754822),\n",
    " ('& associ', 0.19915058609226188),\n",
    " ('train phase', 0.19916385021895108),\n",
    " ('morphogenesi', 0.19917345943479575),\n",
    " ('the follow tabl', 0.19919413654682885),\n",
    " ('scienc univers massachusett', 0.19920427859018328),\n",
    " ('project coordin', 0.19923743410051992),\n",
    " ('see distribut', 0.19925437307187166),\n",
    " ('improv bound', 0.19931183780150208),\n",
    " ('extern link web', 0.19932193123565664),\n",
    " ('econom inform', 0.19935907671240058),\n",
    " ('eec', 0.19938060253937914),\n",
    " ('angeles.', 0.19942224426074479),\n",
    " ('2003 window server', 0.1994354240002631),\n",
    " ('los angeles.', 0.1994423332241421),\n",
    " ('implement evalu', 0.19944625479618358),\n",
    " ('--', 0.1994562202825539),\n",
    " ('strict contain', 0.1994748148463178),\n",
    " ('volumes. the', 0.19950962455449406),\n",
    " ('support virtual', 0.19951649193933624),\n",
    " ('index search engin', 0.1995213342165604),\n",
    " ('publish the', 0.19952383860810263),\n",
    " ('syntact sugar', 0.19952928035327117),\n",
    " ('data-intens', 0.19952965688023752),\n",
    " ('pros con', 0.19953886673313234),\n",
    " ('comput scienc symposium', 0.1995400533504028),\n",
    " ('window command', 0.19954392821564831),\n",
    " ('import step', 0.19955442184533814),\n",
    " ('space shuttl', 0.19956621628409382),\n",
    " ('number input', 0.1995778671547914),\n",
    " ('idea machin', 0.19958908084162677),\n",
    " ('reliability.', 0.19961260239728867),\n",
    " ('began research', 0.19961798713145473),\n",
    " ('use raster', 0.1996313648562136),\n",
    " ('advantag allow', 0.19965937745804768),\n",
    " ('basic applic', 0.19966870354934282),\n",
    " ('remov correspond', 0.19967371735359601),\n",
    " ('motion pictur', 0.19969015422723047),\n",
    " ('algorithm divid', 0.19970317817269725),\n",
    " ('phase group delay', 0.1997230200731397),\n",
    " ('tenex', 0.19973858987479498),\n",
    " ('took year', 0.19978180647367025),\n",
    " ('provid flexibl', 0.19980927099493404),\n",
    " ('unix-bas', 0.19989574381133746),\n",
    " ('recognit natur languag', 0.19991147025549205),\n",
    " ('digit filters.', 0.19994328128474415),\n",
    " ('compat microsoft', 0.1999515151087822),\n",
    " ('type new', 0.19996884397026715),\n",
    " ('disc author softwar', 0.19997977812873127),\n",
    " ('wheeler comput', 0.19999231641387927),\n",
    " ('express power', 0.1999979928766968),\n",
    " ('with increas', 0.19999806888751756)"
   ]
  },
  {
   "cell_type": "markdown",
   "metadata": {},
   "source": [
    "#### Logistic Regression 100 most important words, least to most important:\n",
    "\n",
    "('morph', 4.119365236338052),\n",
    " ('rmit', 4.128415639906076),\n",
    " ('recurs', 4.131237790448959),\n",
    " ('film record', 4.1363871469202484),\n",
    " ('processor', 4.136505444432527),\n",
    " ('os', 4.137692114896681),\n",
    " ('fingerprint', 4.14216059111616),\n",
    " ('render', 4.142311861619426),\n",
    " ('auditori', 4.154903871040167),\n",
    " ('comput fluid dynam', 4.167665271653621),\n",
    " ('suit', 4.170170884858311),\n",
    " ('comput fluid', 4.180597793074947),\n",
    " ('ai', 4.193128388470043),\n",
    " ('sta', 4.214921538582018),\n",
    " ('string', 4.221619195259182),\n",
    " ('he', 4.2339412212221506),\n",
    " ('softwar product', 4.242138577214748),\n",
    " ('category:softwar develop', 4.2535278435774355),\n",
    " ('attribut', 4.304227283964547),\n",
    " ('histogram', 4.30849617277669),\n",
    " ('pixel', 4.313212961274539),\n",
    " ('silico', 4.31945720774421),\n",
    " ('mandelbrot', 4.322514942257124),\n",
    " ('program languag', 4.324303082710079),\n",
    " ('softwar this', 4.356738182065399),\n",
    " ('facebook', 4.359344009717464),\n",
    " ('outsourc', 4.382432082111433),\n",
    " ('programm', 4.396209775998088),\n",
    " ('category:str', 4.397424056945821),\n",
    " ('javascript', 4.415983836794731),\n",
    " ('window', 4.428375837230501),\n",
    " ('problem redirect', 4.43046259775955),\n",
    " ('php', 4.440126219663056),\n",
    " ('ibm', 4.448151047033486),\n",
    " ('logic error', 4.467883258517321),\n",
    " ('list music', 4.472646392581549),\n",
    " ('microsoft', 4.4783514255039885),\n",
    " ('extractor', 4.511252662777549),\n",
    " ('search', 4.535790613323257),\n",
    " ('associ comput machineri', 4.535877442673982),\n",
    " ('user group', 4.5467000645112865),\n",
    " ('professor comput scienc', 4.584296775891473),\n",
    " ('automaton', 4.593175873619951),\n",
    " ('artifici life', 4.5951518388624315),\n",
    " ('geoscienc', 4.632398326418058),\n",
    " ('fair use', 4.643289405038582),\n",
    " ('comput science.', 4.6439486709306745),\n",
    " ('research', 4.664634318196702),\n",
    " ('hacker', 4.67618733754547),\n",
    " ('voronoi', 4.690139434404655),\n",
    " ('amiga', 4.793060050500764),\n",
    " ('optim', 4.815805847607563),\n",
    " ('nanci', 4.817618503692693),\n",
    " ('category:adob', 4.8251263930720265),\n",
    " ('logo', 4.831057552363667),\n",
    " ('refer comput', 4.851717162223743),\n",
    " ('comput machineri', 4.867049014059079),\n",
    " ('british comput', 4.871924755014749),\n",
    " ('proprietari', 4.912058898310471),\n",
    " ('category:comput scienc', 4.986494905009353),\n",
    " ('screenshot', 4.996007555552266),\n",
    " ('category:databas', 4.996938310042228),\n",
    " ('category:computer-rel', 4.997013818293584),\n",
    " ('category:computer-rel introduct', 4.997013818293584),\n",
    " ('adob', 5.037659146024428),\n",
    " ('symposium', 5.085072503056008),\n",
    " ('(software)', 5.144400512626735),\n",
    " ('inform system', 5.145772017753641),\n",
    " ('professor comput', 5.23905730939863),\n",
    " ('process valid', 5.317083821363695),\n",
    " ('comput architectur', 5.3308123363557245),\n",
    " ('oper system', 5.376299512490849),\n",
    " ('category:program', 5.390320188126921),\n",
    " ('softwar', 5.591492760817463),\n",
    " ('logo.png', 5.690172408177288),\n",
    " ('digit human', 5.7860981900219715),\n",
    " ('inform technolog', 5.873187140132582),\n",
    " ('artifici', 5.941616783107433),\n",
    " ('category:microsoft', 5.992778463203099),\n",
    " ('associ comput', 6.020310143472257),\n",
    " ('comput programm', 6.077404719174291),\n",
    " ('googl', 6.093967669568957),\n",
    " ('intellig', 6.281565472673802),\n",
    " ('category:inform technolog', 6.288972702562188),\n",
    " ('graphic', 6.794787690099601),\n",
    " ('summari licens', 6.897754489010812),\n",
    " ('cyber', 6.9047325562492645),\n",
    " ('acm', 6.922219835582864),\n",
    " ('comput societi', 6.929344153203035),\n",
    " ('data structur', 6.9294262336102355),\n",
    " ('informat', 7.0507309438298424),\n",
    " ('cfd', 7.180017444881313),\n",
    " ('comput magazin', 7.200889092642354),\n",
    " ('category:softwar use', 7.2962979806974735),\n",
    " ('comput graphic', 7.521076787727505),\n",
    " ('in comput', 7.764282905548294),\n",
    " ('digit', 8.037493479582334),\n",
    " ('secur', 8.30118471581034),\n",
    " ('comput scienc', 8.761620273873715),\n",
    " ('comput scientist', 9.148392384554072)"
   ]
  },
  {
   "cell_type": "markdown",
   "metadata": {},
   "source": [
    "### NEXT STEPS"
   ]
  },
  {
   "cell_type": "markdown",
   "metadata": {},
   "source": [
    "* Deploy model over night, get predictions for all of wikipedia for one category\n",
    "* Create Feature Importance Visualization\n",
    "* Improve metadata page extraction (regex that does not catastrophically fail)\n",
    "* Make code fully PEP-8 Compliant\n",
    "* Generate a requirements.txt file\n",
    "* Programmatically delete most important features from dictionary?\n",
    "* Convert notebook presentation to Google Slides\n",
    "\n",
    "\n",
    "* Implement tools on top of listed categories\n",
    "* Explore generalizability of model on to arXiv.org papers\n",
    "* Train only on page metadata to explore tradeoff associated with classification speed increase and reduction in precision/recall\n",
    "* Pre-clean / Mechanical Turk positive class datasets for more desireable classification"
   ]
  },
  {
   "cell_type": "markdown",
   "metadata": {},
   "source": [
    "## CONCLUSION"
   ]
  },
  {
   "cell_type": "markdown",
   "metadata": {},
   "source": [
    "This is a big problem, however with simple ML methods the problem is becoming tractable."
   ]
  },
  {
   "cell_type": "markdown",
   "metadata": {},
   "source": [
    "\n",
    "\n",
    "\n",
    "# JAKUB SVEC\n",
    "\n",
    "## www.github.com/jakubsvec001\n",
    "\n",
    "## jakubsvec001@gmail.com\n",
    "\n",
    "## www.linkedin.com/jakubsvec001/"
   ]
  },
  {
   "cell_type": "code",
   "execution_count": null,
   "metadata": {},
   "outputs": [],
   "source": []
  }
 ],
 "metadata": {
  "kernelspec": {
   "display_name": "Python 3",
   "language": "python",
   "name": "python3"
  },
  "language_info": {
   "codemirror_mode": {
    "name": "ipython",
    "version": 3
   },
   "file_extension": ".py",
   "mimetype": "text/x-python",
   "name": "python",
   "nbconvert_exporter": "python",
   "pygments_lexer": "ipython3",
   "version": "3.6.6"
  }
 },
 "nbformat": 4,
 "nbformat_minor": 2
}
