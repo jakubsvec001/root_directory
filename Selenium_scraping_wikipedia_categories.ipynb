{
 "cells": [
  {
   "cell_type": "code",
   "execution_count": 3,
   "metadata": {},
   "outputs": [],
   "source": [
    "import csv"
   ]
  },
  {
   "cell_type": "code",
   "execution_count": 74,
   "metadata": {},
   "outputs": [],
   "source": [
    "import os\n",
    "import time\n",
    "import sys\n",
    "import pandas as pd\n",
    "from selenium.webdriver import Firefox\n",
    "from timeit import default_timer\n",
    "\n",
    "\n",
    "def get_expand_buttons(browser):\n",
    "    \"\"\"Return a list of expand buttons to click on.\"\"\"\n",
    "    return browser.find_elements_by_xpath(\"//span[@title='expand']\")\n",
    "\n",
    "def expand_all_categories(browser, category, search_depth=3, save='csv', all_pages=True):\n",
    "    \"\"\"Expand all categories on the page.\"\"\"\n",
    "    start_time = default_timer()\n",
    "    expand_buttons = get_expand_buttons(browser)\n",
    "    time.sleep(3)\n",
    "    depth = 0\n",
    "    print('num expand buttons ', len(expand_buttons))\n",
    "    while depth < search_depth:\n",
    "        start = default_timer()\n",
    "        for button in expand_buttons:\n",
    "            if button.is_displayed():\n",
    "                button.click()\n",
    "        time.sleep(3)\n",
    "        expand_buttons = get_expand_buttons(browser)\n",
    "        end = default_timer()\n",
    "        print(f'depth of {depth} took {str(round((end-start)/60, 2))} minutes to open')\n",
    "        depth += 1\n",
    "    if save == 'csv':\n",
    "        start = default_timer()\n",
    "        lst = []\n",
    "        for a in browser.find_elements_by_xpath('.//a'):\n",
    "            lst.append(a.get_attribute('href'))\n",
    "        links = pd.DataFrame(lst)\n",
    "        links = links.iloc[7:-32,:]\n",
    "        if all_pages:\n",
    "            links.to_csv(f'seed_data/all_pages_{category}_d{depth}_{len(links)}.csv', sep=',', encoding='utf-8', header=None, index=False)\n",
    "        else:\n",
    "            links.to_csv(f'seed_categories/cat_pages_{category}_d{depth}_{len(links)}.csv', sep=',', encoding='utf-8', header=None, index=False)\n",
    "        end = default_timer()\n",
    "        print(str(round((end-start)/60, 2)) + f' minutes to save to csv {len(links)} hrefs')\n",
    "    if save == False:\n",
    "        pass\n",
    "    end_time = default_timer()\n",
    "    print(str(round((end_time-start_time)/60, 2)) + f' minutes to finish search')\n",
    "\n",
    "\n",
    "def get_links(category, search_depth=3, save='csv'):\n",
    "    \"\"\"get the links from wikipedia's hidden category tree finder\"\"\"\n",
    "    browser = Firefox()\n",
    "    time.sleep(0.5)\n",
    "    browser.get(f'https://en.wikipedia.org/wiki/Special:CategoryTree?target={category}&mode=all&namespaces=&title=Special%3ACategoryTree')\n",
    "    time.sleep(0.5)\n",
    "    category = category.replace(' ','_')\n",
    "    expand_all_categories(browser, category, search_depth, save='csv', all_pages=True)\n",
    "\n",
    "def get_categories(category, search_depth=5, save='csv'):\n",
    "    \"\"\"gets the links from wikipedia's hidden category tree finder\"\"\"\n",
    "    browser = Firefox()\n",
    "    time.sleep(0.5)\n",
    "    browser.get(f'https://en.wikipedia.org/wiki/Special:CategoryTree?target={category}&mode=categories&namespaces=&title=Special%3ACategoryTree')\n",
    "    time.sleep(0.5)\n",
    "    category = category.replace(' ','_')\n",
    "    expand_all_categories(browser, category, search_depth, save='csv', all_pages=False)\n",
    "\n",
    "def only_open(category, search_depth=5):\n",
    "    browser = Firefox()\n",
    "    time.sleep(0.5)\n",
    "    browser.get(f'https://en.wikipedia.org/wiki/Special:CategoryTree?target={category}&mode=all&namespaces=&title=Special%3ACategoryTree')\n",
    "    time.sleep(0.5)\n",
    "    category = category.replace(' ','_')\n",
    "    expand_all_categories(browser, category, search_depth, save=False, all_pages=False)\n",
    "\n"
   ]
  },
  {
   "cell_type": "code",
   "execution_count": 38,
   "metadata": {},
   "outputs": [],
   "source": [
    "articles = []\n",
    "with open('seed_data/all_pages_mathematics_d1_1456.csv', 'r') as fin:\n",
    "    reader = csv.reader(fin)\n",
    "    for row in reader:\n",
    "        articles.append(','.join(row))"
   ]
  },
  {
   "cell_type": "code",
   "execution_count": 43,
   "metadata": {},
   "outputs": [
    {
     "data": {
      "text/plain": [
       "['https://en.wikipedia.org/w/index.php?title=Special:CategoryTree&target=Abstraction&mode=20&hideprefix=20&showcount=1',\n",
       " 'https://en.wikipedia.org/w/index.php?title=Special:CategoryTree&target=Categories_requiring_diffusion&mode=20&hideprefix=20&showcount=1',\n",
       " 'https://en.wikipedia.org/w/index.php?title=Special:CategoryTree&target=Formal_sciences&mode=20&hideprefix=20&showcount=1',\n",
       " 'https://en.wikipedia.org/w/index.php?title=Special:CategoryTree&target=Main_topic_classifications&mode=20&hideprefix=20&showcount=1',\n",
       " 'https://en.wikipedia.org/w/index.php?title=Special:CategoryTree&target=Structure&mode=20&hideprefix=20&showcount=1',\n",
       " 'https://en.wikipedia.org/wiki/Category:Mathematics',\n",
       " 'https://en.wikipedia.org/wiki/Category:Fields_of_mathematics',\n",
       " 'https://en.wikipedia.org/wiki/Category:Algebra',\n",
       " 'https://en.wikipedia.org/wiki/Category:Mathematical_analysis',\n",
       " 'https://en.wikipedia.org/wiki/Category:Applied_mathematics']"
      ]
     },
     "execution_count": 43,
     "metadata": {},
     "output_type": "execute_result"
    }
   ],
   "source": [
    "articles[:10]"
   ]
  },
  {
   "cell_type": "code",
   "execution_count": 54,
   "metadata": {},
   "outputs": [],
   "source": [
    "fout = open('seed_data/test.csv', 'w', newline='')\n",
    "writer = csv.writer(fout, lineterminator='\\n')\n",
    "for article in articles:\n",
    "    writer.writerow(article)\n",
    "fout.close()"
   ]
  },
  {
   "cell_type": "code",
   "execution_count": 64,
   "metadata": {},
   "outputs": [],
   "source": [
    "with open('seed_data/test.csv', 'w') as out:\n",
    "    writer = csv.writer(out, lineterminator='\\n')\n",
    "    writer.writerow('')\n",
    "    for article in articles:\n",
    "        writer.writerow([''.join(article).strip()])"
   ]
  },
  {
   "cell_type": "code",
   "execution_count": 73,
   "metadata": {},
   "outputs": [
    {
     "name": "stdout",
     "output_type": "stream",
     "text": [
      "num expand buttons  23\n",
      "<class 'NoneType'>\n"
     ]
    },
    {
     "ename": "Error",
     "evalue": "iterable expected, not NoneType",
     "output_type": "error",
     "traceback": [
      "\u001b[1;31m---------------------------------------------------------------------------\u001b[0m",
      "\u001b[1;31mError\u001b[0m                                     Traceback (most recent call last)",
      "\u001b[1;32m<ipython-input-73-f457274c324d>\u001b[0m in \u001b[0;36m<module>\u001b[1;34m()\u001b[0m\n\u001b[1;32m----> 1\u001b[1;33m \u001b[0mget_links\u001b[0m\u001b[1;33m(\u001b[0m\u001b[1;34m'mathematics'\u001b[0m\u001b[1;33m,\u001b[0m \u001b[0msearch_depth\u001b[0m\u001b[1;33m=\u001b[0m\u001b[1;36m0\u001b[0m\u001b[1;33m)\u001b[0m\u001b[1;33m\u001b[0m\u001b[0m\n\u001b[0m",
      "\u001b[1;32m<ipython-input-72-f6743aaed527>\u001b[0m in \u001b[0;36mget_links\u001b[1;34m(category, search_depth, save)\u001b[0m\n\u001b[0;32m     52\u001b[0m     \u001b[0mtime\u001b[0m\u001b[1;33m.\u001b[0m\u001b[0msleep\u001b[0m\u001b[1;33m(\u001b[0m\u001b[1;36m0.5\u001b[0m\u001b[1;33m)\u001b[0m\u001b[1;33m\u001b[0m\u001b[0m\n\u001b[0;32m     53\u001b[0m     \u001b[0mcategory\u001b[0m \u001b[1;33m=\u001b[0m \u001b[0mcategory\u001b[0m\u001b[1;33m.\u001b[0m\u001b[0mreplace\u001b[0m\u001b[1;33m(\u001b[0m\u001b[1;34m' '\u001b[0m\u001b[1;33m,\u001b[0m\u001b[1;34m'_'\u001b[0m\u001b[1;33m)\u001b[0m\u001b[1;33m\u001b[0m\u001b[0m\n\u001b[1;32m---> 54\u001b[1;33m     \u001b[0mexpand_all_categories\u001b[0m\u001b[1;33m(\u001b[0m\u001b[0mbrowser\u001b[0m\u001b[1;33m,\u001b[0m \u001b[0mcategory\u001b[0m\u001b[1;33m,\u001b[0m \u001b[0msearch_depth\u001b[0m\u001b[1;33m,\u001b[0m \u001b[0msave\u001b[0m\u001b[1;33m=\u001b[0m\u001b[1;34m'csv'\u001b[0m\u001b[1;33m,\u001b[0m \u001b[0mall_pages\u001b[0m\u001b[1;33m=\u001b[0m\u001b[1;32mTrue\u001b[0m\u001b[1;33m)\u001b[0m\u001b[1;33m\u001b[0m\u001b[0m\n\u001b[0m\u001b[0;32m     55\u001b[0m \u001b[1;33m\u001b[0m\u001b[0m\n\u001b[0;32m     56\u001b[0m \u001b[1;32mdef\u001b[0m \u001b[0mget_categories\u001b[0m\u001b[1;33m(\u001b[0m\u001b[0mcategory\u001b[0m\u001b[1;33m,\u001b[0m \u001b[0msearch_depth\u001b[0m\u001b[1;33m=\u001b[0m\u001b[1;36m5\u001b[0m\u001b[1;33m,\u001b[0m \u001b[0msave\u001b[0m\u001b[1;33m=\u001b[0m\u001b[1;34m'csv'\u001b[0m\u001b[1;33m)\u001b[0m\u001b[1;33m:\u001b[0m\u001b[1;33m\u001b[0m\u001b[0m\n",
      "\u001b[1;32m<ipython-input-72-f6743aaed527>\u001b[0m in \u001b[0;36mexpand_all_categories\u001b[1;34m(browser, category, search_depth, save, all_pages)\u001b[0m\n\u001b[0;32m     36\u001b[0m                     \u001b[0mlink\u001b[0m \u001b[1;33m=\u001b[0m \u001b[0ma\u001b[0m\u001b[1;33m.\u001b[0m\u001b[0mget_attribute\u001b[0m\u001b[1;33m(\u001b[0m\u001b[1;34m'href'\u001b[0m\u001b[1;33m)\u001b[0m\u001b[1;33m\u001b[0m\u001b[0m\n\u001b[0;32m     37\u001b[0m                     \u001b[0mprint\u001b[0m\u001b[1;33m(\u001b[0m\u001b[0mtype\u001b[0m\u001b[1;33m(\u001b[0m\u001b[0mlink\u001b[0m\u001b[1;33m)\u001b[0m\u001b[1;33m)\u001b[0m\u001b[1;33m\u001b[0m\u001b[0m\n\u001b[1;32m---> 38\u001b[1;33m                     \u001b[0mwriter\u001b[0m\u001b[1;33m.\u001b[0m\u001b[0mwriterow\u001b[0m\u001b[1;33m(\u001b[0m\u001b[0mlink\u001b[0m\u001b[1;33m)\u001b[0m\u001b[1;33m\u001b[0m\u001b[0m\n\u001b[0m\u001b[0;32m     39\u001b[0m         \u001b[1;32melse\u001b[0m\u001b[1;33m:\u001b[0m\u001b[1;33m\u001b[0m\u001b[0m\n\u001b[0;32m     40\u001b[0m             \u001b[0mlinks\u001b[0m\u001b[1;33m.\u001b[0m\u001b[0mto_csv\u001b[0m\u001b[1;33m(\u001b[0m\u001b[1;34mf'seed_categories/cat_pages_{category}_d{depth}_{len(links)}.csv'\u001b[0m\u001b[1;33m,\u001b[0m \u001b[0msep\u001b[0m\u001b[1;33m=\u001b[0m\u001b[1;34m','\u001b[0m\u001b[1;33m,\u001b[0m \u001b[0mencoding\u001b[0m\u001b[1;33m=\u001b[0m\u001b[1;34m'utf-8'\u001b[0m\u001b[1;33m,\u001b[0m \u001b[0mheader\u001b[0m\u001b[1;33m=\u001b[0m\u001b[1;32mNone\u001b[0m\u001b[1;33m,\u001b[0m \u001b[0mindex\u001b[0m\u001b[1;33m=\u001b[0m\u001b[1;32mFalse\u001b[0m\u001b[1;33m)\u001b[0m\u001b[1;33m\u001b[0m\u001b[0m\n",
      "\u001b[1;31mError\u001b[0m: iterable expected, not NoneType"
     ]
    }
   ],
   "source": [
    "get_links('mathematics', search_depth=0)"
   ]
  },
  {
   "cell_type": "code",
   "execution_count": 38,
   "metadata": {},
   "outputs": [
    {
     "data": {
      "text/html": [
       "<div>\n",
       "<style scoped>\n",
       "    .dataframe tbody tr th:only-of-type {\n",
       "        vertical-align: middle;\n",
       "    }\n",
       "\n",
       "    .dataframe tbody tr th {\n",
       "        vertical-align: top;\n",
       "    }\n",
       "\n",
       "    .dataframe thead th {\n",
       "        text-align: right;\n",
       "    }\n",
       "</style>\n",
       "<table border=\"1\" class=\"dataframe\">\n",
       "  <thead>\n",
       "    <tr style=\"text-align: right;\">\n",
       "      <th></th>\n",
       "      <th>0</th>\n",
       "    </tr>\n",
       "  </thead>\n",
       "  <tbody>\n",
       "    <tr>\n",
       "      <th>0</th>\n",
       "      <td>&lt;selenium.webdriver.firefox.webelement.Firefox...</td>\n",
       "    </tr>\n",
       "    <tr>\n",
       "      <th>1</th>\n",
       "      <td>&lt;selenium.webdriver.firefox.webelement.Firefox...</td>\n",
       "    </tr>\n",
       "    <tr>\n",
       "      <th>2</th>\n",
       "      <td>&lt;selenium.webdriver.firefox.webelement.Firefox...</td>\n",
       "    </tr>\n",
       "    <tr>\n",
       "      <th>3</th>\n",
       "      <td>&lt;selenium.webdriver.firefox.webelement.Firefox...</td>\n",
       "    </tr>\n",
       "    <tr>\n",
       "      <th>4</th>\n",
       "      <td>&lt;selenium.webdriver.firefox.webelement.Firefox...</td>\n",
       "    </tr>\n",
       "  </tbody>\n",
       "</table>\n",
       "</div>"
      ],
      "text/plain": [
       "                                                   0\n",
       "0  <selenium.webdriver.firefox.webelement.Firefox...\n",
       "1  <selenium.webdriver.firefox.webelement.Firefox...\n",
       "2  <selenium.webdriver.firefox.webelement.Firefox...\n",
       "3  <selenium.webdriver.firefox.webelement.Firefox...\n",
       "4  <selenium.webdriver.firefox.webelement.Firefox..."
      ]
     },
     "execution_count": 38,
     "metadata": {},
     "output_type": "execute_result"
    }
   ],
   "source": [
    "link_df.head()"
   ]
  },
  {
   "cell_type": "code",
   "execution_count": 40,
   "metadata": {},
   "outputs": [],
   "source": [
    "link_df.to_csv('small_seed_data/test.csv', sep=',', encoding='utf-8', header=None, index=False)"
   ]
  },
  {
   "cell_type": "code",
   "execution_count": null,
   "metadata": {},
   "outputs": [],
   "source": [
    "def save_mongo(items, db_name, collection_name):\n",
    "    mc = MongoClient()\n",
    "    db = mc[db_name]\n",
    "    math = db[collection_name]\n",
    "    start = timeit.default_timer()\n",
    "    ref_count = 0\n",
    "    save_count = 0\n",
    "    for a in browser.find_elements_by_xpath('.//a'):\n",
    "        ref_count += 1\n",
    "        link = a.get_attribute('href')\n",
    "        cached_article = math.find_one({'aviation': link})\n",
    "        if cached_article is None:\n",
    "            save_count += 1\n",
    "            math.insert_one({'aviation': link})\n",
    "    end = timeit.default_timer()\n",
    "    print(str(round((end - start)/60, 2)),  \\\n",
    "          f' minutes to check {ref_count} links and to save {save_count} links.')   "
   ]
  },
  {
   "cell_type": "code",
   "execution_count": null,
   "metadata": {},
   "outputs": [],
   "source": [
    "def save_csv(items):\n",
    "    elements_list = browser.find_elements_by_xpath('.//a'):"
   ]
  },
  {
   "cell_type": "code",
   "execution_count": 4,
   "metadata": {},
   "outputs": [],
   "source": [
    "mc = MongoClient()"
   ]
  },
  {
   "cell_type": "code",
   "execution_count": 15,
   "metadata": {},
   "outputs": [],
   "source": [
    "db = mc['wiki_cache']"
   ]
  },
  {
   "cell_type": "code",
   "execution_count": 16,
   "metadata": {},
   "outputs": [
    {
     "data": {
      "text/plain": [
       "pymongo.database.Database"
      ]
     },
     "execution_count": 16,
     "metadata": {},
     "output_type": "execute_result"
    }
   ],
   "source": [
    "type(db)"
   ]
  },
  {
   "cell_type": "code",
   "execution_count": 25,
   "metadata": {},
   "outputs": [],
   "source": [
    "av = db.get_collection('aviation')"
   ]
  },
  {
   "cell_type": "code",
   "execution_count": 18,
   "metadata": {},
   "outputs": [
    {
     "data": {
      "text/plain": [
       "Collection(Database(MongoClient(host=['localhost:27017'], document_class=dict, tz_aware=False, connect=True), 'wiki_cache'), 'aviation')"
      ]
     },
     "execution_count": 18,
     "metadata": {},
     "output_type": "execute_result"
    }
   ],
   "source": [
    "av"
   ]
  },
  {
   "cell_type": "code",
   "execution_count": 19,
   "metadata": {},
   "outputs": [],
   "source": [
    "hrefs = av.estimated_document_count()"
   ]
  },
  {
   "cell_type": "code",
   "execution_count": 20,
   "metadata": {},
   "outputs": [
    {
     "data": {
      "text/plain": [
       "49939"
      ]
     },
     "execution_count": 20,
     "metadata": {},
     "output_type": "execute_result"
    }
   ],
   "source": [
    "hrefs"
   ]
  },
  {
   "cell_type": "code",
   "execution_count": 21,
   "metadata": {},
   "outputs": [],
   "source": [
    "href = av.find()"
   ]
  },
  {
   "cell_type": "code",
   "execution_count": 22,
   "metadata": {},
   "outputs": [
    {
     "name": "stdout",
     "output_type": "stream",
     "text": [
      "-0.02  minutes to check 0 links and to save 0 links.\n"
     ]
    }
   ],
   "source": [
    "start = 0\n",
    "end = 1\n",
    "ref_count = 0\n",
    "save_count = 0\n",
    "print(str(round((start-end)/60, 2)),  \\\n",
    "      f' minutes to check {ref_count} links and to save {save_count} links.')"
   ]
  },
  {
   "cell_type": "code",
   "execution_count": 23,
   "metadata": {},
   "outputs": [],
   "source": [
    "count = 0\n",
    "for ref in href:\n",
    "    count += 1"
   ]
  },
  {
   "cell_type": "code",
   "execution_count": 24,
   "metadata": {},
   "outputs": [
    {
     "data": {
      "text/plain": [
       "49939"
      ]
     },
     "execution_count": 24,
     "metadata": {},
     "output_type": "execute_result"
    }
   ],
   "source": [
    "count"
   ]
  },
  {
   "cell_type": "code",
   "execution_count": 26,
   "metadata": {},
   "outputs": [
    {
     "ename": "AttributeError",
     "evalue": "module 'pandas' has no attribute 'DateFrame'",
     "output_type": "error",
     "traceback": [
      "\u001b[0;31m---------------------------------------------------------------------------\u001b[0m",
      "\u001b[0;31mAttributeError\u001b[0m                            Traceback (most recent call last)",
      "\u001b[0;32m<ipython-input-26-855c8fb6972d>\u001b[0m in \u001b[0;36m<module>\u001b[0;34m()\u001b[0m\n\u001b[0;32m----> 1\u001b[0;31m \u001b[0mdepths\u001b[0m \u001b[0;34m=\u001b[0m \u001b[0mpd\u001b[0m\u001b[0;34m.\u001b[0m\u001b[0mDateFrame\u001b[0m\u001b[0;34m(\u001b[0m\u001b[0mav\u001b[0m\u001b[0;34m.\u001b[0m\u001b[0mfind\u001b[0m\u001b[0;34m(\u001b[0m\u001b[0;34m)\u001b[0m\u001b[0;34m)\u001b[0m\u001b[0;34m\u001b[0m\u001b[0m\n\u001b[0m",
      "\u001b[0;31mAttributeError\u001b[0m: module 'pandas' has no attribute 'DateFrame'"
     ]
    }
   ],
   "source": []
  },
  {
   "cell_type": "code",
   "execution_count": 34,
   "metadata": {},
   "outputs": [
    {
     "data": {
      "text/plain": [
       "0"
      ]
     },
     "execution_count": 34,
     "metadata": {},
     "output_type": "execute_result"
    }
   ],
   "source": [
    "len(depths)"
   ]
  },
  {
   "cell_type": "code",
   "execution_count": 39,
   "metadata": {},
   "outputs": [],
   "source": [
    "links = pd.DataFrame(depths)"
   ]
  },
  {
   "cell_type": "code",
   "execution_count": 42,
   "metadata": {},
   "outputs": [],
   "source": [
    "links.to_csv('small_seed_data/MATH_Scrape_D3_31066.csv', sep=',', encoding='utf-8', header=None, index=False)"
   ]
  },
  {
   "cell_type": "code",
   "execution_count": null,
   "metadata": {},
   "outputs": [],
   "source": [
    "\\\n"
   ]
  },
  {
   "cell_type": "code",
   "execution_count": 28,
   "metadata": {},
   "outputs": [],
   "source": [
    "depth_count = 1\n",
    "button_count = 0\n",
    "def expand_all_count_depth(browser):\n",
    "    \"\"\"Expand all categories on the page.\"\"\"\n",
    "    global depth_count\n",
    "    global button_count\n",
    "    expand_buttons = get_expand_buttons(browser)   \n",
    "    while expand_buttons:\n",
    "        for button in expand_buttons:\n",
    "            if button.is_displayed():\n",
    "                button.click()\n",
    "                button_count += 1\n",
    "        print('depth = ', depth_count)\n",
    "        print('buttons opened = ', button_count)\n",
    "        depth_count += 1\n",
    "        expand_buttons = get_expand_buttons(browser)\n",
    "        "
   ]
  },
  {
   "cell_type": "code",
   "execution_count": 29,
   "metadata": {},
   "outputs": [
    {
     "name": "stdout",
     "output_type": "stream",
     "text": [
      "depth =  1\n",
      "buttons opened =  23\n",
      "depth =  2\n",
      "buttons opened =  202\n",
      "depth =  3\n",
      "buttons opened =  1251\n",
      "depth =  4\n",
      "buttons opened =  4379\n"
     ]
    }
   ],
   "source": [
    "browser = Firefox()\n",
    "browser.get('https://en.wikipedia.org/wiki/Special:CategoryTree?target=mathematics&mode=all&namespaces=&title=Special%3ACategoryTree')\n",
    "expand_all_count_depth(browser)"
   ]
  },
  {
   "cell_type": "code",
   "execution_count": null,
   "metadata": {},
   "outputs": [],
   "source": []
  },
  {
   "cell_type": "code",
   "execution_count": null,
   "metadata": {},
   "outputs": [],
   "source": [
    "random.randint(1, i + 1)"
   ]
  },
  {
   "cell_type": "code",
   "execution_count": 60,
   "metadata": {},
   "outputs": [],
   "source": [
    "links = links.loc[12:,:].reset_index()[0]"
   ]
  },
  {
   "cell_type": "code",
   "execution_count": 63,
   "metadata": {},
   "outputs": [],
   "source": [
    "links.to_csv('small_seed_data/Aviation_Scrape_D_.csv', sep=',', encoding='utf-8', header=None, index=False)"
   ]
  },
  {
   "cell_type": "code",
   "execution_count": 61,
   "metadata": {},
   "outputs": [
    {
     "data": {
      "text/plain": [
       "0        https://en.wikipedia.org/wiki/Category:Mathema...\n",
       "1        https://en.wikipedia.org/wiki/Category:Fields_...\n",
       "2           https://en.wikipedia.org/wiki/Category:Algebra\n",
       "3        https://en.wikipedia.org/wiki/Category:Algebra...\n",
       "4        https://en.wikipedia.org/wiki/Category:Theorem...\n",
       "5        https://en.wikipedia.org/wiki/Category:Abstrac...\n",
       "6        https://en.wikipedia.org/wiki/Category:Algebra...\n",
       "7        https://en.wikipedia.org/wiki/Category:Compute...\n",
       "8        https://en.wikipedia.org/wiki/Category:Element...\n",
       "9        https://en.wikipedia.org/wiki/Category:History...\n",
       "10       https://en.wikipedia.org/wiki/Category:Linear_...\n",
       "11       https://en.wikipedia.org/wiki/Category:Mathema...\n",
       "12       https://en.wikipedia.org/wiki/Category:Polynom...\n",
       "13       https://en.wikipedia.org/wiki/Category:Series_...\n",
       "14       https://en.wikipedia.org/wiki/Category:Symmetr...\n",
       "15       https://en.wikipedia.org/wiki/Category:Univers...\n",
       "16       https://en.wikipedia.org/wiki/Category:Variabl...\n",
       "17       https://en.wikipedia.org/wiki/Category:Algebra...\n",
       "18                   https://en.wikipedia.org/wiki/Algebra\n",
       "19                 https://en.wikipedia.org/wiki/Dialgebra\n",
       "20        https://en.wikipedia.org/wiki/Outline_of_algebra\n",
       "21       https://en.wikipedia.org/wiki/Timeline_of_geom...\n",
       "22            https://en.wikipedia.org/wiki/Portal:Algebra\n",
       "23       https://en.wikipedia.org/wiki/Rational_differe...\n",
       "24       https://en.wikipedia.org/wiki/List_of_algebrai...\n",
       "25       https://en.wikipedia.org/wiki/Algebraic_signal...\n",
       "26        https://en.wikipedia.org/wiki/Algebraic_solution\n",
       "27           https://en.wikipedia.org/wiki/Antiisomorphism\n",
       "28                https://en.wikipedia.org/wiki/Antivector\n",
       "29             https://en.wikipedia.org/wiki/Basic_element\n",
       "                               ...                        \n",
       "13367    https://en.wikipedia.org/wiki/Szeg%C5%91_polyn...\n",
       "13368    https://en.wikipedia.org/wiki/George_Szekeres_...\n",
       "13369         https://en.wikipedia.org/wiki/Taniyama_group\n",
       "13370           https://en.wikipedia.org/wiki/Tee_(symbol)\n",
       "13371     https://en.wikipedia.org/wiki/Tolerance_relation\n",
       "13372            https://en.wikipedia.org/wiki/Toy_problem\n",
       "13373    https://en.wikipedia.org/wiki/Traveling_tourna...\n",
       "13374    https://en.wikipedia.org/wiki/Truncated_Newton...\n",
       "13375          https://en.wikipedia.org/wiki/Ulam%27s_game\n",
       "13376         https://en.wikipedia.org/wiki/Unary_function\n",
       "13377             https://en.wikipedia.org/wiki/Univariate\n",
       "13378    https://en.wikipedia.org/wiki/W._T._and_Idalia...\n",
       "13379    https://en.wikipedia.org/wiki/Warsaw_School_(m...\n",
       "13380         https://en.wikipedia.org/wiki/Wedge_(symbol)\n",
       "13381     https://en.wikipedia.org/wiki/Weisner%27s_method\n",
       "13382                  https://en.wikipedia.org/wiki/WIRIS\n",
       "13383            https://en.wikipedia.org/wiki/Mathematics\n",
       "13384    https://en.wikipedia.org/wiki/Outline_of_mathe...\n",
       "13385    https://en.wikipedia.org/wiki/Portal:Contents/...\n",
       "13386    https://en.wikipedia.org/wiki/Analysis_of_Bool...\n",
       "13387       https://en.wikipedia.org/wiki/The_Archimedeans\n",
       "13388    https://en.wikipedia.org/wiki/Archives_of_Amer...\n",
       "13389    https://en.wikipedia.org/wiki/Data-driven_cont...\n",
       "13390    https://en.wikipedia.org/wiki/Discrete_Logarit...\n",
       "13391        https://en.wikipedia.org/wiki/Legendre_moment\n",
       "13392    https://en.wikipedia.org/wiki/Locally_nilpoten...\n",
       "13393    https://en.wikipedia.org/wiki/Mediation-driven...\n",
       "13394    https://en.wikipedia.org/wiki/Peano_kernel_the...\n",
       "13395           https://en.wikipedia.org/wiki/Proof_School\n",
       "13396             https://en.wikipedia.org/wiki/Quota_rule\n",
       "Name: 0, Length: 13397, dtype: object"
      ]
     },
     "execution_count": 61,
     "metadata": {},
     "output_type": "execute_result"
    }
   ],
   "source": [
    "links"
   ]
  },
  {
   "cell_type": "code",
   "execution_count": null,
   "metadata": {},
   "outputs": [],
   "source": [
    "for depth in depths:\n",
    "    print(len(depth))"
   ]
  },
  {
   "cell_type": "code",
   "execution_count": 9,
   "metadata": {},
   "outputs": [
    {
     "ename": "WebDriverException",
     "evalue": "Message: Failed to decode response from marionette\n",
     "output_type": "error",
     "traceback": [
      "\u001b[0;31m---------------------------------------------------------------------------\u001b[0m",
      "\u001b[0;31mWebDriverException\u001b[0m                        Traceback (most recent call last)",
      "\u001b[0;32m<ipython-input-9-12d1e2acc99c>\u001b[0m in \u001b[0;36m<module>\u001b[0;34m\u001b[0m\n\u001b[0;32m----> 1\u001b[0;31m \u001b[0mexpand_all_categories\u001b[0m\u001b[0;34m(\u001b[0m\u001b[0mbrowser\u001b[0m\u001b[0;34m)\u001b[0m\u001b[0;34m\u001b[0m\u001b[0m\n\u001b[0m",
      "\u001b[0;32m<ipython-input-2-264e2b556456>\u001b[0m in \u001b[0;36mexpand_all_categories\u001b[0;34m(browser)\u001b[0m\n\u001b[1;32m     13\u001b[0m     \u001b[0;32mwhile\u001b[0m \u001b[0mexpand_buttons\u001b[0m\u001b[0;34m:\u001b[0m\u001b[0;34m\u001b[0m\u001b[0m\n\u001b[1;32m     14\u001b[0m         \u001b[0;32mfor\u001b[0m \u001b[0mbutton\u001b[0m \u001b[0;32min\u001b[0m \u001b[0mexpand_buttons\u001b[0m\u001b[0;34m:\u001b[0m\u001b[0;34m\u001b[0m\u001b[0m\n\u001b[0;32m---> 15\u001b[0;31m             \u001b[0;32mif\u001b[0m \u001b[0mbutton\u001b[0m\u001b[0;34m.\u001b[0m\u001b[0mis_displayed\u001b[0m\u001b[0;34m(\u001b[0m\u001b[0;34m)\u001b[0m\u001b[0;34m:\u001b[0m\u001b[0;34m\u001b[0m\u001b[0m\n\u001b[0m\u001b[1;32m     16\u001b[0m                 \u001b[0mbutton\u001b[0m\u001b[0;34m.\u001b[0m\u001b[0mclick\u001b[0m\u001b[0;34m(\u001b[0m\u001b[0;34m)\u001b[0m\u001b[0;34m\u001b[0m\u001b[0m\n\u001b[1;32m     17\u001b[0m                 \u001b[0mtime\u001b[0m\u001b[0;34m.\u001b[0m\u001b[0msleep\u001b[0m\u001b[0;34m(\u001b[0m\u001b[0;36m.3\u001b[0m\u001b[0;34m)\u001b[0m\u001b[0;34m\u001b[0m\u001b[0m\n",
      "\u001b[0;32m~/anaconda3/lib/python3.6/site-packages/selenium/webdriver/remote/webelement.py\u001b[0m in \u001b[0;36mis_displayed\u001b[0;34m(self)\u001b[0m\n\u001b[1;32m    486\u001b[0m             return self.parent.execute_script(\n\u001b[1;32m    487\u001b[0m                 \u001b[0;34m\"return (%s).apply(null, arguments);\"\u001b[0m \u001b[0;34m%\u001b[0m \u001b[0misDisplayed_js\u001b[0m\u001b[0;34m,\u001b[0m\u001b[0;34m\u001b[0m\u001b[0m\n\u001b[0;32m--> 488\u001b[0;31m                 self)\n\u001b[0m\u001b[1;32m    489\u001b[0m         \u001b[0;32melse\u001b[0m\u001b[0;34m:\u001b[0m\u001b[0;34m\u001b[0m\u001b[0m\n\u001b[1;32m    490\u001b[0m             \u001b[0;32mreturn\u001b[0m \u001b[0mself\u001b[0m\u001b[0;34m.\u001b[0m\u001b[0m_execute\u001b[0m\u001b[0;34m(\u001b[0m\u001b[0mCommand\u001b[0m\u001b[0;34m.\u001b[0m\u001b[0mIS_ELEMENT_DISPLAYED\u001b[0m\u001b[0;34m)\u001b[0m\u001b[0;34m[\u001b[0m\u001b[0;34m'value'\u001b[0m\u001b[0;34m]\u001b[0m\u001b[0;34m\u001b[0m\u001b[0m\n",
      "\u001b[0;32m~/anaconda3/lib/python3.6/site-packages/selenium/webdriver/remote/webdriver.py\u001b[0m in \u001b[0;36mexecute_script\u001b[0;34m(self, script, *args)\u001b[0m\n\u001b[1;32m    634\u001b[0m         return self.execute(command, {\n\u001b[1;32m    635\u001b[0m             \u001b[0;34m'script'\u001b[0m\u001b[0;34m:\u001b[0m \u001b[0mscript\u001b[0m\u001b[0;34m,\u001b[0m\u001b[0;34m\u001b[0m\u001b[0m\n\u001b[0;32m--> 636\u001b[0;31m             'args': converted_args})['value']\n\u001b[0m\u001b[1;32m    637\u001b[0m \u001b[0;34m\u001b[0m\u001b[0m\n\u001b[1;32m    638\u001b[0m     \u001b[0;32mdef\u001b[0m \u001b[0mexecute_async_script\u001b[0m\u001b[0;34m(\u001b[0m\u001b[0mself\u001b[0m\u001b[0;34m,\u001b[0m \u001b[0mscript\u001b[0m\u001b[0;34m,\u001b[0m \u001b[0;34m*\u001b[0m\u001b[0margs\u001b[0m\u001b[0;34m)\u001b[0m\u001b[0;34m:\u001b[0m\u001b[0;34m\u001b[0m\u001b[0m\n",
      "\u001b[0;32m~/anaconda3/lib/python3.6/site-packages/selenium/webdriver/remote/webdriver.py\u001b[0m in \u001b[0;36mexecute\u001b[0;34m(self, driver_command, params)\u001b[0m\n\u001b[1;32m    319\u001b[0m         \u001b[0mresponse\u001b[0m \u001b[0;34m=\u001b[0m \u001b[0mself\u001b[0m\u001b[0;34m.\u001b[0m\u001b[0mcommand_executor\u001b[0m\u001b[0;34m.\u001b[0m\u001b[0mexecute\u001b[0m\u001b[0;34m(\u001b[0m\u001b[0mdriver_command\u001b[0m\u001b[0;34m,\u001b[0m \u001b[0mparams\u001b[0m\u001b[0;34m)\u001b[0m\u001b[0;34m\u001b[0m\u001b[0m\n\u001b[1;32m    320\u001b[0m         \u001b[0;32mif\u001b[0m \u001b[0mresponse\u001b[0m\u001b[0;34m:\u001b[0m\u001b[0;34m\u001b[0m\u001b[0m\n\u001b[0;32m--> 321\u001b[0;31m             \u001b[0mself\u001b[0m\u001b[0;34m.\u001b[0m\u001b[0merror_handler\u001b[0m\u001b[0;34m.\u001b[0m\u001b[0mcheck_response\u001b[0m\u001b[0;34m(\u001b[0m\u001b[0mresponse\u001b[0m\u001b[0;34m)\u001b[0m\u001b[0;34m\u001b[0m\u001b[0m\n\u001b[0m\u001b[1;32m    322\u001b[0m             response['value'] = self._unwrap_value(\n\u001b[1;32m    323\u001b[0m                 response.get('value', None))\n",
      "\u001b[0;32m~/anaconda3/lib/python3.6/site-packages/selenium/webdriver/remote/errorhandler.py\u001b[0m in \u001b[0;36mcheck_response\u001b[0;34m(self, response)\u001b[0m\n\u001b[1;32m    240\u001b[0m                 \u001b[0malert_text\u001b[0m \u001b[0;34m=\u001b[0m \u001b[0mvalue\u001b[0m\u001b[0;34m[\u001b[0m\u001b[0;34m'alert'\u001b[0m\u001b[0;34m]\u001b[0m\u001b[0;34m.\u001b[0m\u001b[0mget\u001b[0m\u001b[0;34m(\u001b[0m\u001b[0;34m'text'\u001b[0m\u001b[0;34m)\u001b[0m\u001b[0;34m\u001b[0m\u001b[0m\n\u001b[1;32m    241\u001b[0m             \u001b[0;32mraise\u001b[0m \u001b[0mexception_class\u001b[0m\u001b[0;34m(\u001b[0m\u001b[0mmessage\u001b[0m\u001b[0;34m,\u001b[0m \u001b[0mscreen\u001b[0m\u001b[0;34m,\u001b[0m \u001b[0mstacktrace\u001b[0m\u001b[0;34m,\u001b[0m \u001b[0malert_text\u001b[0m\u001b[0;34m)\u001b[0m\u001b[0;34m\u001b[0m\u001b[0m\n\u001b[0;32m--> 242\u001b[0;31m         \u001b[0;32mraise\u001b[0m \u001b[0mexception_class\u001b[0m\u001b[0;34m(\u001b[0m\u001b[0mmessage\u001b[0m\u001b[0;34m,\u001b[0m \u001b[0mscreen\u001b[0m\u001b[0;34m,\u001b[0m \u001b[0mstacktrace\u001b[0m\u001b[0;34m)\u001b[0m\u001b[0;34m\u001b[0m\u001b[0m\n\u001b[0m\u001b[1;32m    243\u001b[0m \u001b[0;34m\u001b[0m\u001b[0m\n\u001b[1;32m    244\u001b[0m     \u001b[0;32mdef\u001b[0m \u001b[0m_value_or_default\u001b[0m\u001b[0;34m(\u001b[0m\u001b[0mself\u001b[0m\u001b[0;34m,\u001b[0m \u001b[0mobj\u001b[0m\u001b[0;34m,\u001b[0m \u001b[0mkey\u001b[0m\u001b[0;34m,\u001b[0m \u001b[0mdefault\u001b[0m\u001b[0;34m)\u001b[0m\u001b[0;34m:\u001b[0m\u001b[0;34m\u001b[0m\u001b[0m\n",
      "\u001b[0;31mWebDriverException\u001b[0m: Message: Failed to decode response from marionette\n"
     ]
    }
   ],
   "source": [
    "expand_all_categories(browser)"
   ]
  },
  {
   "cell_type": "code",
   "execution_count": 150,
   "metadata": {},
   "outputs": [
    {
     "ename": "MaxRetryError",
     "evalue": "HTTPConnectionPool(host='127.0.0.1', port=50453): Max retries exceeded with url: /session/e2a9fefa-556b-4cf2-84b8-ad52a64cd185/elements (Caused by NewConnectionError('<urllib3.connection.HTTPConnection object at 0x7f777db4f668>: Failed to establish a new connection: [Errno 111] Connection refused',))",
     "output_type": "error",
     "traceback": [
      "\u001b[0;31m---------------------------------------------------------------------------\u001b[0m",
      "\u001b[0;31mConnectionRefusedError\u001b[0m                    Traceback (most recent call last)",
      "\u001b[0;32m~/anaconda3/lib/python3.6/site-packages/urllib3/connection.py\u001b[0m in \u001b[0;36m_new_conn\u001b[0;34m(self)\u001b[0m\n\u001b[1;32m    170\u001b[0m             conn = connection.create_connection(\n\u001b[0;32m--> 171\u001b[0;31m                 (self._dns_host, self.port), self.timeout, **extra_kw)\n\u001b[0m\u001b[1;32m    172\u001b[0m \u001b[0;34m\u001b[0m\u001b[0m\n",
      "\u001b[0;32m~/anaconda3/lib/python3.6/site-packages/urllib3/util/connection.py\u001b[0m in \u001b[0;36mcreate_connection\u001b[0;34m(address, timeout, source_address, socket_options)\u001b[0m\n\u001b[1;32m     78\u001b[0m     \u001b[0;32mif\u001b[0m \u001b[0merr\u001b[0m \u001b[0;32mis\u001b[0m \u001b[0;32mnot\u001b[0m \u001b[0;32mNone\u001b[0m\u001b[0;34m:\u001b[0m\u001b[0;34m\u001b[0m\u001b[0m\n\u001b[0;32m---> 79\u001b[0;31m         \u001b[0;32mraise\u001b[0m \u001b[0merr\u001b[0m\u001b[0;34m\u001b[0m\u001b[0m\n\u001b[0m\u001b[1;32m     80\u001b[0m \u001b[0;34m\u001b[0m\u001b[0m\n",
      "\u001b[0;32m~/anaconda3/lib/python3.6/site-packages/urllib3/util/connection.py\u001b[0m in \u001b[0;36mcreate_connection\u001b[0;34m(address, timeout, source_address, socket_options)\u001b[0m\n\u001b[1;32m     68\u001b[0m                 \u001b[0msock\u001b[0m\u001b[0;34m.\u001b[0m\u001b[0mbind\u001b[0m\u001b[0;34m(\u001b[0m\u001b[0msource_address\u001b[0m\u001b[0;34m)\u001b[0m\u001b[0;34m\u001b[0m\u001b[0m\n\u001b[0;32m---> 69\u001b[0;31m             \u001b[0msock\u001b[0m\u001b[0;34m.\u001b[0m\u001b[0mconnect\u001b[0m\u001b[0;34m(\u001b[0m\u001b[0msa\u001b[0m\u001b[0;34m)\u001b[0m\u001b[0;34m\u001b[0m\u001b[0m\n\u001b[0m\u001b[1;32m     70\u001b[0m             \u001b[0;32mreturn\u001b[0m \u001b[0msock\u001b[0m\u001b[0;34m\u001b[0m\u001b[0m\n",
      "\u001b[0;31mConnectionRefusedError\u001b[0m: [Errno 111] Connection refused",
      "\nDuring handling of the above exception, another exception occurred:\n",
      "\u001b[0;31mNewConnectionError\u001b[0m                        Traceback (most recent call last)",
      "\u001b[0;32m~/anaconda3/lib/python3.6/site-packages/urllib3/connectionpool.py\u001b[0m in \u001b[0;36murlopen\u001b[0;34m(self, method, url, body, headers, retries, redirect, assert_same_host, timeout, pool_timeout, release_conn, chunked, body_pos, **response_kw)\u001b[0m\n\u001b[1;32m    599\u001b[0m                                                   \u001b[0mbody\u001b[0m\u001b[0;34m=\u001b[0m\u001b[0mbody\u001b[0m\u001b[0;34m,\u001b[0m \u001b[0mheaders\u001b[0m\u001b[0;34m=\u001b[0m\u001b[0mheaders\u001b[0m\u001b[0;34m,\u001b[0m\u001b[0;34m\u001b[0m\u001b[0m\n\u001b[0;32m--> 600\u001b[0;31m                                                   chunked=chunked)\n\u001b[0m\u001b[1;32m    601\u001b[0m \u001b[0;34m\u001b[0m\u001b[0m\n",
      "\u001b[0;32m~/anaconda3/lib/python3.6/site-packages/urllib3/connectionpool.py\u001b[0m in \u001b[0;36m_make_request\u001b[0;34m(self, conn, method, url, timeout, chunked, **httplib_request_kw)\u001b[0m\n\u001b[1;32m    353\u001b[0m         \u001b[0;32melse\u001b[0m\u001b[0;34m:\u001b[0m\u001b[0;34m\u001b[0m\u001b[0m\n\u001b[0;32m--> 354\u001b[0;31m             \u001b[0mconn\u001b[0m\u001b[0;34m.\u001b[0m\u001b[0mrequest\u001b[0m\u001b[0;34m(\u001b[0m\u001b[0mmethod\u001b[0m\u001b[0;34m,\u001b[0m \u001b[0murl\u001b[0m\u001b[0;34m,\u001b[0m \u001b[0;34m**\u001b[0m\u001b[0mhttplib_request_kw\u001b[0m\u001b[0;34m)\u001b[0m\u001b[0;34m\u001b[0m\u001b[0m\n\u001b[0m\u001b[1;32m    355\u001b[0m \u001b[0;34m\u001b[0m\u001b[0m\n",
      "\u001b[0;32m~/anaconda3/lib/python3.6/http/client.py\u001b[0m in \u001b[0;36mrequest\u001b[0;34m(self, method, url, body, headers, encode_chunked)\u001b[0m\n\u001b[1;32m   1238\u001b[0m         \u001b[0;34m\"\"\"Send a complete request to the server.\"\"\"\u001b[0m\u001b[0;34m\u001b[0m\u001b[0m\n\u001b[0;32m-> 1239\u001b[0;31m         \u001b[0mself\u001b[0m\u001b[0;34m.\u001b[0m\u001b[0m_send_request\u001b[0m\u001b[0;34m(\u001b[0m\u001b[0mmethod\u001b[0m\u001b[0;34m,\u001b[0m \u001b[0murl\u001b[0m\u001b[0;34m,\u001b[0m \u001b[0mbody\u001b[0m\u001b[0;34m,\u001b[0m \u001b[0mheaders\u001b[0m\u001b[0;34m,\u001b[0m \u001b[0mencode_chunked\u001b[0m\u001b[0;34m)\u001b[0m\u001b[0;34m\u001b[0m\u001b[0m\n\u001b[0m\u001b[1;32m   1240\u001b[0m \u001b[0;34m\u001b[0m\u001b[0m\n",
      "\u001b[0;32m~/anaconda3/lib/python3.6/http/client.py\u001b[0m in \u001b[0;36m_send_request\u001b[0;34m(self, method, url, body, headers, encode_chunked)\u001b[0m\n\u001b[1;32m   1284\u001b[0m             \u001b[0mbody\u001b[0m \u001b[0;34m=\u001b[0m \u001b[0m_encode\u001b[0m\u001b[0;34m(\u001b[0m\u001b[0mbody\u001b[0m\u001b[0;34m,\u001b[0m \u001b[0;34m'body'\u001b[0m\u001b[0;34m)\u001b[0m\u001b[0;34m\u001b[0m\u001b[0m\n\u001b[0;32m-> 1285\u001b[0;31m         \u001b[0mself\u001b[0m\u001b[0;34m.\u001b[0m\u001b[0mendheaders\u001b[0m\u001b[0;34m(\u001b[0m\u001b[0mbody\u001b[0m\u001b[0;34m,\u001b[0m \u001b[0mencode_chunked\u001b[0m\u001b[0;34m=\u001b[0m\u001b[0mencode_chunked\u001b[0m\u001b[0;34m)\u001b[0m\u001b[0;34m\u001b[0m\u001b[0m\n\u001b[0m\u001b[1;32m   1286\u001b[0m \u001b[0;34m\u001b[0m\u001b[0m\n",
      "\u001b[0;32m~/anaconda3/lib/python3.6/http/client.py\u001b[0m in \u001b[0;36mendheaders\u001b[0;34m(self, message_body, encode_chunked)\u001b[0m\n\u001b[1;32m   1233\u001b[0m             \u001b[0;32mraise\u001b[0m \u001b[0mCannotSendHeader\u001b[0m\u001b[0;34m(\u001b[0m\u001b[0;34m)\u001b[0m\u001b[0;34m\u001b[0m\u001b[0m\n\u001b[0;32m-> 1234\u001b[0;31m         \u001b[0mself\u001b[0m\u001b[0;34m.\u001b[0m\u001b[0m_send_output\u001b[0m\u001b[0;34m(\u001b[0m\u001b[0mmessage_body\u001b[0m\u001b[0;34m,\u001b[0m \u001b[0mencode_chunked\u001b[0m\u001b[0;34m=\u001b[0m\u001b[0mencode_chunked\u001b[0m\u001b[0;34m)\u001b[0m\u001b[0;34m\u001b[0m\u001b[0m\n\u001b[0m\u001b[1;32m   1235\u001b[0m \u001b[0;34m\u001b[0m\u001b[0m\n",
      "\u001b[0;32m~/anaconda3/lib/python3.6/http/client.py\u001b[0m in \u001b[0;36m_send_output\u001b[0;34m(self, message_body, encode_chunked)\u001b[0m\n\u001b[1;32m   1025\u001b[0m         \u001b[0;32mdel\u001b[0m \u001b[0mself\u001b[0m\u001b[0;34m.\u001b[0m\u001b[0m_buffer\u001b[0m\u001b[0;34m[\u001b[0m\u001b[0;34m:\u001b[0m\u001b[0;34m]\u001b[0m\u001b[0;34m\u001b[0m\u001b[0m\n\u001b[0;32m-> 1026\u001b[0;31m         \u001b[0mself\u001b[0m\u001b[0;34m.\u001b[0m\u001b[0msend\u001b[0m\u001b[0;34m(\u001b[0m\u001b[0mmsg\u001b[0m\u001b[0;34m)\u001b[0m\u001b[0;34m\u001b[0m\u001b[0m\n\u001b[0m\u001b[1;32m   1027\u001b[0m \u001b[0;34m\u001b[0m\u001b[0m\n",
      "\u001b[0;32m~/anaconda3/lib/python3.6/http/client.py\u001b[0m in \u001b[0;36msend\u001b[0;34m(self, data)\u001b[0m\n\u001b[1;32m    963\u001b[0m             \u001b[0;32mif\u001b[0m \u001b[0mself\u001b[0m\u001b[0;34m.\u001b[0m\u001b[0mauto_open\u001b[0m\u001b[0;34m:\u001b[0m\u001b[0;34m\u001b[0m\u001b[0m\n\u001b[0;32m--> 964\u001b[0;31m                 \u001b[0mself\u001b[0m\u001b[0;34m.\u001b[0m\u001b[0mconnect\u001b[0m\u001b[0;34m(\u001b[0m\u001b[0;34m)\u001b[0m\u001b[0;34m\u001b[0m\u001b[0m\n\u001b[0m\u001b[1;32m    965\u001b[0m             \u001b[0;32melse\u001b[0m\u001b[0;34m:\u001b[0m\u001b[0;34m\u001b[0m\u001b[0m\n",
      "\u001b[0;32m~/anaconda3/lib/python3.6/site-packages/urllib3/connection.py\u001b[0m in \u001b[0;36mconnect\u001b[0;34m(self)\u001b[0m\n\u001b[1;32m    195\u001b[0m     \u001b[0;32mdef\u001b[0m \u001b[0mconnect\u001b[0m\u001b[0;34m(\u001b[0m\u001b[0mself\u001b[0m\u001b[0;34m)\u001b[0m\u001b[0;34m:\u001b[0m\u001b[0;34m\u001b[0m\u001b[0m\n\u001b[0;32m--> 196\u001b[0;31m         \u001b[0mconn\u001b[0m \u001b[0;34m=\u001b[0m \u001b[0mself\u001b[0m\u001b[0;34m.\u001b[0m\u001b[0m_new_conn\u001b[0m\u001b[0;34m(\u001b[0m\u001b[0;34m)\u001b[0m\u001b[0;34m\u001b[0m\u001b[0m\n\u001b[0m\u001b[1;32m    197\u001b[0m         \u001b[0mself\u001b[0m\u001b[0;34m.\u001b[0m\u001b[0m_prepare_conn\u001b[0m\u001b[0;34m(\u001b[0m\u001b[0mconn\u001b[0m\u001b[0;34m)\u001b[0m\u001b[0;34m\u001b[0m\u001b[0m\n",
      "\u001b[0;32m~/anaconda3/lib/python3.6/site-packages/urllib3/connection.py\u001b[0m in \u001b[0;36m_new_conn\u001b[0;34m(self)\u001b[0m\n\u001b[1;32m    179\u001b[0m             raise NewConnectionError(\n\u001b[0;32m--> 180\u001b[0;31m                 self, \"Failed to establish a new connection: %s\" % e)\n\u001b[0m\u001b[1;32m    181\u001b[0m \u001b[0;34m\u001b[0m\u001b[0m\n",
      "\u001b[0;31mNewConnectionError\u001b[0m: <urllib3.connection.HTTPConnection object at 0x7f777db4f668>: Failed to establish a new connection: [Errno 111] Connection refused",
      "\nDuring handling of the above exception, another exception occurred:\n",
      "\u001b[0;31mMaxRetryError\u001b[0m                             Traceback (most recent call last)",
      "\u001b[0;32m<ipython-input-150-07f6d2f67370>\u001b[0m in \u001b[0;36m<module>\u001b[0;34m\u001b[0m\n\u001b[0;32m----> 1\u001b[0;31m \u001b[0;32mfor\u001b[0m \u001b[0melement\u001b[0m \u001b[0;32min\u001b[0m \u001b[0mdriver\u001b[0m\u001b[0;34m.\u001b[0m\u001b[0mfind_elements_by_xpath\u001b[0m\u001b[0;34m(\u001b[0m\u001b[0;34m\"//span[@data-ct-state='collapsed']\"\u001b[0m\u001b[0;34m)\u001b[0m\u001b[0;34m:\u001b[0m\u001b[0;34m\u001b[0m\u001b[0m\n\u001b[0m\u001b[1;32m      2\u001b[0m     \u001b[0;32mif\u001b[0m \u001b[0melement\u001b[0m\u001b[0;34m.\u001b[0m\u001b[0mis_displayed\u001b[0m\u001b[0;34m(\u001b[0m\u001b[0;34m)\u001b[0m\u001b[0;34m:\u001b[0m\u001b[0;34m\u001b[0m\u001b[0m\n\u001b[1;32m      3\u001b[0m         \u001b[0melement\u001b[0m\u001b[0;34m.\u001b[0m\u001b[0mclick\u001b[0m\u001b[0;34m(\u001b[0m\u001b[0;34m)\u001b[0m\u001b[0;34m\u001b[0m\u001b[0m\n\u001b[1;32m      4\u001b[0m         \u001b[0;32mfor\u001b[0m \u001b[0melement\u001b[0m \u001b[0;32min\u001b[0m \u001b[0mdriver\u001b[0m\u001b[0;34m.\u001b[0m\u001b[0mfind_elements_by_xpath\u001b[0m\u001b[0;34m(\u001b[0m\u001b[0;34m\"//span[@data-ct-state='collapsed']\"\u001b[0m\u001b[0;34m)\u001b[0m\u001b[0;34m:\u001b[0m\u001b[0;34m\u001b[0m\u001b[0m\n\u001b[1;32m      5\u001b[0m             \u001b[0;32mif\u001b[0m \u001b[0melement\u001b[0m\u001b[0;34m.\u001b[0m\u001b[0mis_displayed\u001b[0m\u001b[0;34m(\u001b[0m\u001b[0;34m)\u001b[0m\u001b[0;34m:\u001b[0m\u001b[0;34m\u001b[0m\u001b[0m\n",
      "\u001b[0;32m~/anaconda3/lib/python3.6/site-packages/selenium/webdriver/remote/webdriver.py\u001b[0m in \u001b[0;36mfind_elements_by_xpath\u001b[0;34m(self, xpath)\u001b[0m\n\u001b[1;32m    408\u001b[0m             \u001b[0melements\u001b[0m \u001b[0;34m=\u001b[0m \u001b[0mdriver\u001b[0m\u001b[0;34m.\u001b[0m\u001b[0mfind_elements_by_xpath\u001b[0m\u001b[0;34m(\u001b[0m\u001b[0;34m\"//div[contains(@class, 'foo')]\"\u001b[0m\u001b[0;34m)\u001b[0m\u001b[0;34m\u001b[0m\u001b[0m\n\u001b[1;32m    409\u001b[0m         \"\"\"\n\u001b[0;32m--> 410\u001b[0;31m         \u001b[0;32mreturn\u001b[0m \u001b[0mself\u001b[0m\u001b[0;34m.\u001b[0m\u001b[0mfind_elements\u001b[0m\u001b[0;34m(\u001b[0m\u001b[0mby\u001b[0m\u001b[0;34m=\u001b[0m\u001b[0mBy\u001b[0m\u001b[0;34m.\u001b[0m\u001b[0mXPATH\u001b[0m\u001b[0;34m,\u001b[0m \u001b[0mvalue\u001b[0m\u001b[0;34m=\u001b[0m\u001b[0mxpath\u001b[0m\u001b[0;34m)\u001b[0m\u001b[0;34m\u001b[0m\u001b[0m\n\u001b[0m\u001b[1;32m    411\u001b[0m \u001b[0;34m\u001b[0m\u001b[0m\n\u001b[1;32m    412\u001b[0m     \u001b[0;32mdef\u001b[0m \u001b[0mfind_element_by_link_text\u001b[0m\u001b[0;34m(\u001b[0m\u001b[0mself\u001b[0m\u001b[0;34m,\u001b[0m \u001b[0mlink_text\u001b[0m\u001b[0;34m)\u001b[0m\u001b[0;34m:\u001b[0m\u001b[0;34m\u001b[0m\u001b[0m\n",
      "\u001b[0;32m~/anaconda3/lib/python3.6/site-packages/selenium/webdriver/remote/webdriver.py\u001b[0m in \u001b[0;36mfind_elements\u001b[0;34m(self, by, value)\u001b[0m\n\u001b[1;32m   1005\u001b[0m         return self.execute(Command.FIND_ELEMENTS, {\n\u001b[1;32m   1006\u001b[0m             \u001b[0;34m'using'\u001b[0m\u001b[0;34m:\u001b[0m \u001b[0mby\u001b[0m\u001b[0;34m,\u001b[0m\u001b[0;34m\u001b[0m\u001b[0m\n\u001b[0;32m-> 1007\u001b[0;31m             'value': value})['value'] or []\n\u001b[0m\u001b[1;32m   1008\u001b[0m \u001b[0;34m\u001b[0m\u001b[0m\n\u001b[1;32m   1009\u001b[0m     \u001b[0;34m@\u001b[0m\u001b[0mproperty\u001b[0m\u001b[0;34m\u001b[0m\u001b[0m\n",
      "\u001b[0;32m~/anaconda3/lib/python3.6/site-packages/selenium/webdriver/remote/webdriver.py\u001b[0m in \u001b[0;36mexecute\u001b[0;34m(self, driver_command, params)\u001b[0m\n\u001b[1;32m    317\u001b[0m \u001b[0;34m\u001b[0m\u001b[0m\n\u001b[1;32m    318\u001b[0m         \u001b[0mparams\u001b[0m \u001b[0;34m=\u001b[0m \u001b[0mself\u001b[0m\u001b[0;34m.\u001b[0m\u001b[0m_wrap_value\u001b[0m\u001b[0;34m(\u001b[0m\u001b[0mparams\u001b[0m\u001b[0;34m)\u001b[0m\u001b[0;34m\u001b[0m\u001b[0m\n\u001b[0;32m--> 319\u001b[0;31m         \u001b[0mresponse\u001b[0m \u001b[0;34m=\u001b[0m \u001b[0mself\u001b[0m\u001b[0;34m.\u001b[0m\u001b[0mcommand_executor\u001b[0m\u001b[0;34m.\u001b[0m\u001b[0mexecute\u001b[0m\u001b[0;34m(\u001b[0m\u001b[0mdriver_command\u001b[0m\u001b[0;34m,\u001b[0m \u001b[0mparams\u001b[0m\u001b[0;34m)\u001b[0m\u001b[0;34m\u001b[0m\u001b[0m\n\u001b[0m\u001b[1;32m    320\u001b[0m         \u001b[0;32mif\u001b[0m \u001b[0mresponse\u001b[0m\u001b[0;34m:\u001b[0m\u001b[0;34m\u001b[0m\u001b[0m\n\u001b[1;32m    321\u001b[0m             \u001b[0mself\u001b[0m\u001b[0;34m.\u001b[0m\u001b[0merror_handler\u001b[0m\u001b[0;34m.\u001b[0m\u001b[0mcheck_response\u001b[0m\u001b[0;34m(\u001b[0m\u001b[0mresponse\u001b[0m\u001b[0;34m)\u001b[0m\u001b[0;34m\u001b[0m\u001b[0m\n",
      "\u001b[0;32m~/anaconda3/lib/python3.6/site-packages/selenium/webdriver/remote/remote_connection.py\u001b[0m in \u001b[0;36mexecute\u001b[0;34m(self, command, params)\u001b[0m\n\u001b[1;32m    374\u001b[0m         \u001b[0mdata\u001b[0m \u001b[0;34m=\u001b[0m \u001b[0mutils\u001b[0m\u001b[0;34m.\u001b[0m\u001b[0mdump_json\u001b[0m\u001b[0;34m(\u001b[0m\u001b[0mparams\u001b[0m\u001b[0;34m)\u001b[0m\u001b[0;34m\u001b[0m\u001b[0m\n\u001b[1;32m    375\u001b[0m         \u001b[0murl\u001b[0m \u001b[0;34m=\u001b[0m \u001b[0;34m'%s%s'\u001b[0m \u001b[0;34m%\u001b[0m \u001b[0;34m(\u001b[0m\u001b[0mself\u001b[0m\u001b[0;34m.\u001b[0m\u001b[0m_url\u001b[0m\u001b[0;34m,\u001b[0m \u001b[0mpath\u001b[0m\u001b[0;34m)\u001b[0m\u001b[0;34m\u001b[0m\u001b[0m\n\u001b[0;32m--> 376\u001b[0;31m         \u001b[0;32mreturn\u001b[0m \u001b[0mself\u001b[0m\u001b[0;34m.\u001b[0m\u001b[0m_request\u001b[0m\u001b[0;34m(\u001b[0m\u001b[0mcommand_info\u001b[0m\u001b[0;34m[\u001b[0m\u001b[0;36m0\u001b[0m\u001b[0;34m]\u001b[0m\u001b[0;34m,\u001b[0m \u001b[0murl\u001b[0m\u001b[0;34m,\u001b[0m \u001b[0mbody\u001b[0m\u001b[0;34m=\u001b[0m\u001b[0mdata\u001b[0m\u001b[0;34m)\u001b[0m\u001b[0;34m\u001b[0m\u001b[0m\n\u001b[0m\u001b[1;32m    377\u001b[0m \u001b[0;34m\u001b[0m\u001b[0m\n\u001b[1;32m    378\u001b[0m     \u001b[0;32mdef\u001b[0m \u001b[0m_request\u001b[0m\u001b[0;34m(\u001b[0m\u001b[0mself\u001b[0m\u001b[0;34m,\u001b[0m \u001b[0mmethod\u001b[0m\u001b[0;34m,\u001b[0m \u001b[0murl\u001b[0m\u001b[0;34m,\u001b[0m \u001b[0mbody\u001b[0m\u001b[0;34m=\u001b[0m\u001b[0;32mNone\u001b[0m\u001b[0;34m)\u001b[0m\u001b[0;34m:\u001b[0m\u001b[0;34m\u001b[0m\u001b[0m\n",
      "\u001b[0;32m~/anaconda3/lib/python3.6/site-packages/selenium/webdriver/remote/remote_connection.py\u001b[0m in \u001b[0;36m_request\u001b[0;34m(self, method, url, body)\u001b[0m\n\u001b[1;32m    397\u001b[0m \u001b[0;34m\u001b[0m\u001b[0m\n\u001b[1;32m    398\u001b[0m         \u001b[0;32mif\u001b[0m \u001b[0mself\u001b[0m\u001b[0;34m.\u001b[0m\u001b[0mkeep_alive\u001b[0m\u001b[0;34m:\u001b[0m\u001b[0;34m\u001b[0m\u001b[0m\n\u001b[0;32m--> 399\u001b[0;31m             \u001b[0mresp\u001b[0m \u001b[0;34m=\u001b[0m \u001b[0mself\u001b[0m\u001b[0;34m.\u001b[0m\u001b[0m_conn\u001b[0m\u001b[0;34m.\u001b[0m\u001b[0mrequest\u001b[0m\u001b[0;34m(\u001b[0m\u001b[0mmethod\u001b[0m\u001b[0;34m,\u001b[0m \u001b[0murl\u001b[0m\u001b[0;34m,\u001b[0m \u001b[0mbody\u001b[0m\u001b[0;34m=\u001b[0m\u001b[0mbody\u001b[0m\u001b[0;34m,\u001b[0m \u001b[0mheaders\u001b[0m\u001b[0;34m=\u001b[0m\u001b[0mheaders\u001b[0m\u001b[0;34m)\u001b[0m\u001b[0;34m\u001b[0m\u001b[0m\n\u001b[0m\u001b[1;32m    400\u001b[0m \u001b[0;34m\u001b[0m\u001b[0m\n\u001b[1;32m    401\u001b[0m             \u001b[0mstatuscode\u001b[0m \u001b[0;34m=\u001b[0m \u001b[0mresp\u001b[0m\u001b[0;34m.\u001b[0m\u001b[0mstatus\u001b[0m\u001b[0;34m\u001b[0m\u001b[0m\n",
      "\u001b[0;32m~/anaconda3/lib/python3.6/site-packages/urllib3/request.py\u001b[0m in \u001b[0;36mrequest\u001b[0;34m(self, method, url, fields, headers, **urlopen_kw)\u001b[0m\n\u001b[1;32m     70\u001b[0m             return self.request_encode_body(method, url, fields=fields,\n\u001b[1;32m     71\u001b[0m                                             \u001b[0mheaders\u001b[0m\u001b[0;34m=\u001b[0m\u001b[0mheaders\u001b[0m\u001b[0;34m,\u001b[0m\u001b[0;34m\u001b[0m\u001b[0m\n\u001b[0;32m---> 72\u001b[0;31m                                             **urlopen_kw)\n\u001b[0m\u001b[1;32m     73\u001b[0m \u001b[0;34m\u001b[0m\u001b[0m\n\u001b[1;32m     74\u001b[0m     def request_encode_url(self, method, url, fields=None, headers=None,\n",
      "\u001b[0;32m~/anaconda3/lib/python3.6/site-packages/urllib3/request.py\u001b[0m in \u001b[0;36mrequest_encode_body\u001b[0;34m(self, method, url, fields, headers, encode_multipart, multipart_boundary, **urlopen_kw)\u001b[0m\n\u001b[1;32m    148\u001b[0m         \u001b[0mextra_kw\u001b[0m\u001b[0;34m.\u001b[0m\u001b[0mupdate\u001b[0m\u001b[0;34m(\u001b[0m\u001b[0murlopen_kw\u001b[0m\u001b[0;34m)\u001b[0m\u001b[0;34m\u001b[0m\u001b[0m\n\u001b[1;32m    149\u001b[0m \u001b[0;34m\u001b[0m\u001b[0m\n\u001b[0;32m--> 150\u001b[0;31m         \u001b[0;32mreturn\u001b[0m \u001b[0mself\u001b[0m\u001b[0;34m.\u001b[0m\u001b[0murlopen\u001b[0m\u001b[0;34m(\u001b[0m\u001b[0mmethod\u001b[0m\u001b[0;34m,\u001b[0m \u001b[0murl\u001b[0m\u001b[0;34m,\u001b[0m \u001b[0;34m**\u001b[0m\u001b[0mextra_kw\u001b[0m\u001b[0;34m)\u001b[0m\u001b[0;34m\u001b[0m\u001b[0m\n\u001b[0m",
      "\u001b[0;32m~/anaconda3/lib/python3.6/site-packages/urllib3/poolmanager.py\u001b[0m in \u001b[0;36murlopen\u001b[0;34m(self, method, url, redirect, **kw)\u001b[0m\n\u001b[1;32m    320\u001b[0m             \u001b[0mresponse\u001b[0m \u001b[0;34m=\u001b[0m \u001b[0mconn\u001b[0m\u001b[0;34m.\u001b[0m\u001b[0murlopen\u001b[0m\u001b[0;34m(\u001b[0m\u001b[0mmethod\u001b[0m\u001b[0;34m,\u001b[0m \u001b[0murl\u001b[0m\u001b[0;34m,\u001b[0m \u001b[0;34m**\u001b[0m\u001b[0mkw\u001b[0m\u001b[0;34m)\u001b[0m\u001b[0;34m\u001b[0m\u001b[0m\n\u001b[1;32m    321\u001b[0m         \u001b[0;32melse\u001b[0m\u001b[0;34m:\u001b[0m\u001b[0;34m\u001b[0m\u001b[0m\n\u001b[0;32m--> 322\u001b[0;31m             \u001b[0mresponse\u001b[0m \u001b[0;34m=\u001b[0m \u001b[0mconn\u001b[0m\u001b[0;34m.\u001b[0m\u001b[0murlopen\u001b[0m\u001b[0;34m(\u001b[0m\u001b[0mmethod\u001b[0m\u001b[0;34m,\u001b[0m \u001b[0mu\u001b[0m\u001b[0;34m.\u001b[0m\u001b[0mrequest_uri\u001b[0m\u001b[0;34m,\u001b[0m \u001b[0;34m**\u001b[0m\u001b[0mkw\u001b[0m\u001b[0;34m)\u001b[0m\u001b[0;34m\u001b[0m\u001b[0m\n\u001b[0m\u001b[1;32m    323\u001b[0m \u001b[0;34m\u001b[0m\u001b[0m\n\u001b[1;32m    324\u001b[0m         \u001b[0mredirect_location\u001b[0m \u001b[0;34m=\u001b[0m \u001b[0mredirect\u001b[0m \u001b[0;32mand\u001b[0m \u001b[0mresponse\u001b[0m\u001b[0;34m.\u001b[0m\u001b[0mget_redirect_location\u001b[0m\u001b[0;34m(\u001b[0m\u001b[0;34m)\u001b[0m\u001b[0;34m\u001b[0m\u001b[0m\n",
      "\u001b[0;32m~/anaconda3/lib/python3.6/site-packages/urllib3/connectionpool.py\u001b[0m in \u001b[0;36murlopen\u001b[0;34m(self, method, url, body, headers, retries, redirect, assert_same_host, timeout, pool_timeout, release_conn, chunked, body_pos, **response_kw)\u001b[0m\n\u001b[1;32m    665\u001b[0m                                 \u001b[0mtimeout\u001b[0m\u001b[0;34m=\u001b[0m\u001b[0mtimeout\u001b[0m\u001b[0;34m,\u001b[0m \u001b[0mpool_timeout\u001b[0m\u001b[0;34m=\u001b[0m\u001b[0mpool_timeout\u001b[0m\u001b[0;34m,\u001b[0m\u001b[0;34m\u001b[0m\u001b[0m\n\u001b[1;32m    666\u001b[0m                                 \u001b[0mrelease_conn\u001b[0m\u001b[0;34m=\u001b[0m\u001b[0mrelease_conn\u001b[0m\u001b[0;34m,\u001b[0m \u001b[0mbody_pos\u001b[0m\u001b[0;34m=\u001b[0m\u001b[0mbody_pos\u001b[0m\u001b[0;34m,\u001b[0m\u001b[0;34m\u001b[0m\u001b[0m\n\u001b[0;32m--> 667\u001b[0;31m                                 **response_kw)\n\u001b[0m\u001b[1;32m    668\u001b[0m \u001b[0;34m\u001b[0m\u001b[0m\n\u001b[1;32m    669\u001b[0m         \u001b[0;32mdef\u001b[0m \u001b[0mdrain_and_release_conn\u001b[0m\u001b[0;34m(\u001b[0m\u001b[0mresponse\u001b[0m\u001b[0;34m)\u001b[0m\u001b[0;34m:\u001b[0m\u001b[0;34m\u001b[0m\u001b[0m\n",
      "\u001b[0;32m~/anaconda3/lib/python3.6/site-packages/urllib3/connectionpool.py\u001b[0m in \u001b[0;36murlopen\u001b[0;34m(self, method, url, body, headers, retries, redirect, assert_same_host, timeout, pool_timeout, release_conn, chunked, body_pos, **response_kw)\u001b[0m\n\u001b[1;32m    665\u001b[0m                                 \u001b[0mtimeout\u001b[0m\u001b[0;34m=\u001b[0m\u001b[0mtimeout\u001b[0m\u001b[0;34m,\u001b[0m \u001b[0mpool_timeout\u001b[0m\u001b[0;34m=\u001b[0m\u001b[0mpool_timeout\u001b[0m\u001b[0;34m,\u001b[0m\u001b[0;34m\u001b[0m\u001b[0m\n\u001b[1;32m    666\u001b[0m                                 \u001b[0mrelease_conn\u001b[0m\u001b[0;34m=\u001b[0m\u001b[0mrelease_conn\u001b[0m\u001b[0;34m,\u001b[0m \u001b[0mbody_pos\u001b[0m\u001b[0;34m=\u001b[0m\u001b[0mbody_pos\u001b[0m\u001b[0;34m,\u001b[0m\u001b[0;34m\u001b[0m\u001b[0m\n\u001b[0;32m--> 667\u001b[0;31m                                 **response_kw)\n\u001b[0m\u001b[1;32m    668\u001b[0m \u001b[0;34m\u001b[0m\u001b[0m\n\u001b[1;32m    669\u001b[0m         \u001b[0;32mdef\u001b[0m \u001b[0mdrain_and_release_conn\u001b[0m\u001b[0;34m(\u001b[0m\u001b[0mresponse\u001b[0m\u001b[0;34m)\u001b[0m\u001b[0;34m:\u001b[0m\u001b[0;34m\u001b[0m\u001b[0m\n",
      "\u001b[0;32m~/anaconda3/lib/python3.6/site-packages/urllib3/connectionpool.py\u001b[0m in \u001b[0;36murlopen\u001b[0;34m(self, method, url, body, headers, retries, redirect, assert_same_host, timeout, pool_timeout, release_conn, chunked, body_pos, **response_kw)\u001b[0m\n\u001b[1;32m    665\u001b[0m                                 \u001b[0mtimeout\u001b[0m\u001b[0;34m=\u001b[0m\u001b[0mtimeout\u001b[0m\u001b[0;34m,\u001b[0m \u001b[0mpool_timeout\u001b[0m\u001b[0;34m=\u001b[0m\u001b[0mpool_timeout\u001b[0m\u001b[0;34m,\u001b[0m\u001b[0;34m\u001b[0m\u001b[0m\n\u001b[1;32m    666\u001b[0m                                 \u001b[0mrelease_conn\u001b[0m\u001b[0;34m=\u001b[0m\u001b[0mrelease_conn\u001b[0m\u001b[0;34m,\u001b[0m \u001b[0mbody_pos\u001b[0m\u001b[0;34m=\u001b[0m\u001b[0mbody_pos\u001b[0m\u001b[0;34m,\u001b[0m\u001b[0;34m\u001b[0m\u001b[0m\n\u001b[0;32m--> 667\u001b[0;31m                                 **response_kw)\n\u001b[0m\u001b[1;32m    668\u001b[0m \u001b[0;34m\u001b[0m\u001b[0m\n\u001b[1;32m    669\u001b[0m         \u001b[0;32mdef\u001b[0m \u001b[0mdrain_and_release_conn\u001b[0m\u001b[0;34m(\u001b[0m\u001b[0mresponse\u001b[0m\u001b[0;34m)\u001b[0m\u001b[0;34m:\u001b[0m\u001b[0;34m\u001b[0m\u001b[0m\n",
      "\u001b[0;32m~/anaconda3/lib/python3.6/site-packages/urllib3/connectionpool.py\u001b[0m in \u001b[0;36murlopen\u001b[0;34m(self, method, url, body, headers, retries, redirect, assert_same_host, timeout, pool_timeout, release_conn, chunked, body_pos, **response_kw)\u001b[0m\n\u001b[1;32m    636\u001b[0m \u001b[0;34m\u001b[0m\u001b[0m\n\u001b[1;32m    637\u001b[0m             retries = retries.increment(method, url, error=e, _pool=self,\n\u001b[0;32m--> 638\u001b[0;31m                                         _stacktrace=sys.exc_info()[2])\n\u001b[0m\u001b[1;32m    639\u001b[0m             \u001b[0mretries\u001b[0m\u001b[0;34m.\u001b[0m\u001b[0msleep\u001b[0m\u001b[0;34m(\u001b[0m\u001b[0;34m)\u001b[0m\u001b[0;34m\u001b[0m\u001b[0m\n\u001b[1;32m    640\u001b[0m \u001b[0;34m\u001b[0m\u001b[0m\n",
      "\u001b[0;32m~/anaconda3/lib/python3.6/site-packages/urllib3/util/retry.py\u001b[0m in \u001b[0;36mincrement\u001b[0;34m(self, method, url, response, error, _pool, _stacktrace)\u001b[0m\n\u001b[1;32m    396\u001b[0m \u001b[0;34m\u001b[0m\u001b[0m\n\u001b[1;32m    397\u001b[0m         \u001b[0;32mif\u001b[0m \u001b[0mnew_retry\u001b[0m\u001b[0;34m.\u001b[0m\u001b[0mis_exhausted\u001b[0m\u001b[0;34m(\u001b[0m\u001b[0;34m)\u001b[0m\u001b[0;34m:\u001b[0m\u001b[0;34m\u001b[0m\u001b[0m\n\u001b[0;32m--> 398\u001b[0;31m             \u001b[0;32mraise\u001b[0m \u001b[0mMaxRetryError\u001b[0m\u001b[0;34m(\u001b[0m\u001b[0m_pool\u001b[0m\u001b[0;34m,\u001b[0m \u001b[0murl\u001b[0m\u001b[0;34m,\u001b[0m \u001b[0merror\u001b[0m \u001b[0;32mor\u001b[0m \u001b[0mResponseError\u001b[0m\u001b[0;34m(\u001b[0m\u001b[0mcause\u001b[0m\u001b[0;34m)\u001b[0m\u001b[0;34m)\u001b[0m\u001b[0;34m\u001b[0m\u001b[0m\n\u001b[0m\u001b[1;32m    399\u001b[0m \u001b[0;34m\u001b[0m\u001b[0m\n\u001b[1;32m    400\u001b[0m         \u001b[0mlog\u001b[0m\u001b[0;34m.\u001b[0m\u001b[0mdebug\u001b[0m\u001b[0;34m(\u001b[0m\u001b[0;34m\"Incremented Retry for (url='%s'): %r\"\u001b[0m\u001b[0;34m,\u001b[0m \u001b[0murl\u001b[0m\u001b[0;34m,\u001b[0m \u001b[0mnew_retry\u001b[0m\u001b[0;34m)\u001b[0m\u001b[0;34m\u001b[0m\u001b[0m\n",
      "\u001b[0;31mMaxRetryError\u001b[0m: HTTPConnectionPool(host='127.0.0.1', port=50453): Max retries exceeded with url: /session/e2a9fefa-556b-4cf2-84b8-ad52a64cd185/elements (Caused by NewConnectionError('<urllib3.connection.HTTPConnection object at 0x7f777db4f668>: Failed to establish a new connection: [Errno 111] Connection refused',))"
     ]
    }
   ],
   "source": [
    "for element in driver.find_elements_by_xpath(\"//span[@data-ct-state='collapsed']\"):\n",
    "    if element.is_displayed():\n",
    "        element.click()\n",
    "        for element in driver.find_elements_by_xpath(\"//span[@data-ct-state='collapsed']\"):\n",
    "            if element.is_displayed():\n",
    "                element.click()"
   ]
  },
  {
   "cell_type": "code",
   "execution_count": null,
   "metadata": {},
   "outputs": [],
   "source": [
    "print(soup)"
   ]
  },
  {
   "cell_type": "code",
   "execution_count": 16,
   "metadata": {},
   "outputs": [
    {
     "name": "stdout",
     "output_type": "stream",
     "text": [
      "<!DOCTYPE html>\n",
      "<html class=\"client-nojs\" dir=\"ltr\" lang=\"en\">\n",
      "<head>\n",
      "<meta charset=\"utf-8\"/>\n",
      "<title>Category tree - Wikipedia</title>\n",
      "<script>document.documentElement.className = document.documentElement.className.replace( /(^|\\s)client-nojs(\\s|$)/, \"$1client-js$2\" );</script>\n",
      "<script>(window.RLQ=window.RLQ||[]).push(function(){mw.config.set({\"wgCanonicalNamespace\":\"Special\",\"wgCanonicalSpecialPageName\":\"CategoryTree\",\"wgNamespaceNumber\":-1,\"wgPageName\":\"Special:CategoryTree\",\"wgTitle\":\"CategoryTree\",\"wgCurRevisionId\":0,\"wgRevisionId\":0,\"wgArticleId\":0,\"wgIsArticle\":false,\"wgIsRedirect\":false,\"wgAction\":\"view\",\"wgUserName\":null,\"wgUserGroups\":[\"*\"],\"wgCategories\":[],\"wgBreakFrames\":true,\"wgPageContentLanguage\":\"en\",\"wgPageContentModel\":\"wikitext\",\"wgSeparatorTransformTable\":[\"\",\"\"],\"wgDigitTransformTable\":[\"\",\"\"],\"wgDefaultDateFormat\":\"dmy\",\"wgMonthNames\":[\"\",\"January\",\"February\",\"March\",\"April\",\"May\",\"June\",\"July\",\"August\",\"September\",\"October\",\"November\",\"December\"],\"wgMonthNamesShort\":[\"\",\"Jan\",\"Feb\",\"Mar\",\"Apr\",\"May\",\"Jun\",\"Jul\",\"Aug\",\"Sep\",\"Oct\",\"Nov\",\"Dec\"],\"wgRelevantPageName\":\"Special:CategoryTree\",\"wgRelevantArticleId\":0,\"wgRequestId\":\"W9X6QApAICAAAKo-7ecAAABV\",\"wgCSPNonce\":false,\"wgIsProbablyEditable\":false,\"wgRelevantPageIsProbablyEditable\":false,\"wgFlaggedRevsParams\":{\"tags\":{}},\"wgStableRevisionId\":null,\"wgCategoryTreePageCategoryOptions\":\"{\\\"mode\\\":20,\\\"hideprefix\\\":20,\\\"showcount\\\":true,\\\"namespaces\\\":false}\",\"wgWikiEditorEnabledModules\":[],\"wgBetaFeaturesFeatures\":[],\"wgMediaViewerOnClick\":true,\"wgMediaViewerEnabledByDefault\":true,\"wgPopupsShouldSendModuleToUser\":true,\"wgPopupsConflictsWithNavPopupGadget\":false,\"wgVisualEditor\":{\"pageLanguageCode\":\"en\",\"pageLanguageDir\":\"ltr\",\"pageVariantFallbacks\":\"en\",\"usePageImages\":true,\"usePageDescriptions\":true},\"wgMFExpandAllSectionsUserOption\":true,\"wgMFEnableFontChanger\":true,\"wgMFDisplayWikibaseDescriptions\":{\"search\":true,\"nearby\":true,\"watchlist\":true,\"tagline\":false},\"wgRelatedArticles\":null,\"wgRelatedArticlesUseCirrusSearch\":true,\"wgRelatedArticlesOnlyUseCirrusSearch\":false,\"wgULSCurrentAutonym\":\"English\",\"wgNoticeProject\":\"wikipedia\",\"wgCentralNoticeCookiesToDelete\":[],\"wgCentralNoticeCategoriesUsingLegacy\":[\"Fundraising\",\"fundraising\"],\"wgScoreNoteLanguages\":{\"arabic\":\"العربية\",\"catalan\":\"català\",\"deutsch\":\"Deutsch\",\"english\":\"English\",\"espanol\":\"español\",\"italiano\":\"italiano\",\"nederlands\":\"Nederlands\",\"norsk\":\"norsk\",\"portugues\":\"português\",\"suomi\":\"suomi\",\"svenska\":\"svenska\",\"vlaams\":\"West-Vlams\"},\"wgScoreDefaultNoteLanguage\":\"nederlands\",\"wgCentralAuthMobileDomain\":false,\"wgCodeMirrorEnabled\":true,\"wgVisualEditorToolbarScrollOffset\":0,\"wgVisualEditorUnsupportedEditParams\":[\"undo\",\"undoafter\",\"veswitched\"],\"wgEditSubmitButtonLabelPublish\":true});mw.loader.state({\"ext.gadget.charinsert-styles\":\"ready\",\"ext.globalCssJs.user.styles\":\"ready\",\"ext.globalCssJs.site.styles\":\"ready\",\"site.styles\":\"ready\",\"noscript\":\"ready\",\"user.styles\":\"ready\",\"ext.globalCssJs.user\":\"ready\",\"ext.globalCssJs.site\":\"ready\",\"user\":\"ready\",\"user.options\":\"ready\",\"user.tokens\":\"loading\",\"oojs-ui-core.styles\":\"ready\",\"oojs-ui.styles.indicators\":\"ready\",\"oojs-ui.styles.textures\":\"ready\",\"mediawiki.widgets.styles\":\"ready\",\"oojs-ui.styles.icons-content\":\"ready\",\"oojs-ui.styles.icons-alerts\":\"ready\",\"oojs-ui.styles.icons-interactions\":\"ready\",\"mediawiki.htmlform.ooui.styles\":\"ready\",\"mediawiki.htmlform.styles\":\"ready\",\"ext.categoryTree.css\":\"ready\",\"mediawiki.legacy.shared\":\"ready\",\"mediawiki.legacy.commonPrint\":\"ready\",\"ext.visualEditor.desktopArticleTarget.noscript\":\"ready\",\"ext.uls.interlanguage\":\"ready\",\"ext.wikimediaBadges\":\"ready\",\"ext.3d.styles\":\"ready\",\"mediawiki.skinning.interface\":\"ready\",\"skins.vector.styles\":\"ready\"});mw.loader.implement(\"user.tokens@0tffind\",function($,jQuery,require,module){/*@nomin*/mw.user.tokens.set({\"editToken\":\"+\\\\\",\"patrolToken\":\"+\\\\\",\"watchToken\":\"+\\\\\",\"csrfToken\":\"+\\\\\"});\n",
      "});RLPAGEMODULES=[\"mediawiki.htmlform\",\"mediawiki.htmlform.ooui\",\"mediawiki.widgets\",\"ext.categoryTree\",\"site\",\"mediawiki.page.startup\",\"mediawiki.user\",\"mediawiki.page.ready\",\"mediawiki.searchSuggest\",\"ext.gadget.teahouse\",\"ext.gadget.ReferenceTooltips\",\"ext.gadget.watchlist-notice\",\"ext.gadget.DRN-wizard\",\"ext.gadget.charinsert\",\"ext.gadget.refToolbar\",\"ext.gadget.extra-toolbar-buttons\",\"ext.gadget.switcher\",\"ext.centralauth.centralautologin\",\"ext.popups\",\"ext.visualEditor.desktopArticleTarget.init\",\"ext.visualEditor.targetLoader\",\"ext.eventLogging.subscriber\",\"ext.wikimediaEvents\",\"ext.navigationTiming\",\"ext.uls.eventlogger\",\"ext.uls.init\",\"ext.uls.compactlinks\",\"ext.uls.interface\",\"ext.centralNotice.geoIP\",\"skins.vector.js\"];mw.loader.load(RLPAGEMODULES);});</script>\n",
      "<link href=\"/w/load.php?debug=false&amp;lang=en&amp;modules=ext.3d.styles%7Cext.categoryTree.css%7Cext.uls.interlanguage%7Cext.visualEditor.desktopArticleTarget.noscript%7Cext.wikimediaBadges%7Cmediawiki.htmlform.ooui.styles%7Cmediawiki.htmlform.styles%7Cmediawiki.legacy.commonPrint%2Cshared%7Cmediawiki.skinning.interface%7Cmediawiki.widgets.styles%7Coojs-ui-core.styles%7Coojs-ui.styles.icons-alerts%2Cicons-content%2Cicons-interactions%2Cindicators%2Ctextures%7Cskins.vector.styles&amp;only=styles&amp;skin=vector\" rel=\"stylesheet\"/>\n",
      "<script async=\"\" src=\"/w/load.php?debug=false&amp;lang=en&amp;modules=startup&amp;only=scripts&amp;skin=vector\"></script>\n",
      "<meta content=\"\" name=\"ResourceLoaderDynamicStyles\"/>\n",
      "<link href=\"/w/load.php?debug=false&amp;lang=en&amp;modules=ext.gadget.charinsert-styles&amp;only=styles&amp;skin=vector\" rel=\"stylesheet\"/>\n",
      "<link href=\"/w/load.php?debug=false&amp;lang=en&amp;modules=site.styles&amp;only=styles&amp;skin=vector\" rel=\"stylesheet\"/>\n",
      "<meta content=\"MediaWiki 1.33.0-wmf.1\" name=\"generator\"/>\n",
      "<meta content=\"origin\" name=\"referrer\"/>\n",
      "<meta content=\"origin-when-crossorigin\" name=\"referrer\"/>\n",
      "<meta content=\"origin-when-cross-origin\" name=\"referrer\"/>\n",
      "<meta content=\"noindex,nofollow\" name=\"robots\"/>\n",
      "<link href=\"/static/apple-touch/wikipedia.png\" rel=\"apple-touch-icon\"/>\n",
      "<link href=\"/static/favicon/wikipedia.ico\" rel=\"shortcut icon\"/>\n",
      "<link href=\"/w/opensearch_desc.php\" rel=\"search\" title=\"Wikipedia (en)\" type=\"application/opensearchdescription+xml\"/>\n",
      "<link href=\"//en.wikipedia.org/w/api.php?action=rsd\" rel=\"EditURI\" type=\"application/rsd+xml\"/>\n",
      "<link href=\"//creativecommons.org/licenses/by-sa/3.0/\" rel=\"license\"/>\n",
      "<link href=\"/w/index.php?title=Special:RecentChanges&amp;feed=atom\" rel=\"alternate\" title=\"Wikipedia Atom feed\" type=\"application/atom+xml\"/>\n",
      "<link href=\"https://en.wikipedia.org/wiki/Special:CategoryTree?target=mathematics&amp;mode=all&amp;namespaces=&amp;title=Special%3ACategoryTree\" rel=\"canonical\"/>\n",
      "<link href=\"//login.wikimedia.org\" rel=\"dns-prefetch\"/>\n",
      "<!--[if lt IE 9]><script src=\"/w/load.php?debug=false&amp;lang=en&amp;modules=html5shiv&amp;only=scripts&amp;skin=vector&amp;sync=1\"></script><![endif]-->\n",
      "</head>\n",
      "<body class=\"mediawiki ltr sitedir-ltr mw-hide-empty-elt ns--1 ns-special mw-special-CategoryTree page-Special_CategoryTree rootpage-Special_CategoryTree skin-vector action-view\"> <div class=\"noprint\" id=\"mw-page-base\"></div>\n",
      "<div class=\"noprint\" id=\"mw-head-base\"></div>\n",
      "<div class=\"mw-body\" id=\"content\" role=\"main\">\n",
      "<a id=\"top\"></a>\n",
      "<div class=\"mw-body-content\" id=\"siteNotice\"><!-- CentralNotice --></div><div class=\"mw-indicators mw-body-content\">\n",
      "</div>\n",
      "<h1 class=\"firstHeading\" id=\"firstHeading\" lang=\"en\">Category tree</h1> <div class=\"mw-body-content\" id=\"bodyContent\">\n",
      "<div id=\"contentSub\"></div>\n",
      "<div id=\"jump-to-nav\"></div> <a class=\"mw-jump-link\" href=\"#mw-head\">Jump to navigation</a>\n",
      "<a class=\"mw-jump-link\" href=\"#p-search\">Jump to search</a>\n",
      "<div id=\"mw-content-text\"><p>Enter a category name to see its contents as a tree structure. If you have JavaScript disabled, this will not work. The number of pages displayed per category is limited to 200. \n",
      "</p><p>Discuss this <a href=\"/wiki/Help:Special_page\" title=\"Help:Special page\">special page</a> at <a href=\"/wiki/Wikipedia_talk:Special:CategoryTree\" title=\"Wikipedia talk:Special:CategoryTree\">Wikipedia talk:Special:CategoryTree</a>. See also <a class=\"extiw\" href=\"https://www.mediawiki.org/wiki/Extension:CategoryTree\" title=\"mw:Extension:CategoryTree\">mw:Extension:CategoryTree</a> and <a class=\"extiw\" href=\"https://www.mediawiki.org/wiki/Extension_talk:CategoryTree\" title=\"mw:Extension talk:CategoryTree\">mw:Extension talk:CategoryTree</a>.\n",
      "<br/>\n",
      "<br/>\n",
      "</p><div class=\"mw-htmlform-ooui-wrapper oo-ui-layout oo-ui-panelLayout oo-ui-panelLayout-padded oo-ui-panelLayout-framed\"><form action=\"/wiki/Special:CategoryTree\" class=\"mw-htmlform mw-htmlform-ooui oo-ui-layout oo-ui-formLayout\" enctype=\"application/x-www-form-urlencoded\" method=\"get\"><fieldset class=\"oo-ui-layout oo-ui-labelElement oo-ui-fieldsetLayout\"><legend class=\"oo-ui-fieldsetLayout-header\"><span class=\"oo-ui-iconElement-icon oo-ui-iconElement-noIcon\"></span><span class=\"oo-ui-labelElement-label\">Show category tree</span></legend><div class=\"oo-ui-fieldsetLayout-group\"><div aria-disabled=\"false\" class=\"oo-ui-widget oo-ui-widget-enabled\"><div class=\"mw-htmlform-field-HTMLTitleTextField mw-htmlform-field-autoinfuse oo-ui-layout oo-ui-labelElement oo-ui-fieldLayout oo-ui-fieldLayout-align-top\" data-mw-modules=\"mediawiki.widgets\" data-ooui='{\"_\":\"mw.htmlform.FieldLayout\",\"fieldWidget\":{\"tag\":\"mw-input-target\"},\"align\":\"top\",\"errors\":[],\"notices\":[],\"help\":\"\",\"helpInline\":true,\"$overlay\":true,\"label\":{\"html\":\"Category:\"},\"classes\":[\"mw-htmlform-field-HTMLTitleTextField\",\"\",\"mw-htmlform-field-autoinfuse\"]}' id=\"ooui-php-4\"><div class=\"oo-ui-fieldLayout-body\"><span class=\"oo-ui-fieldLayout-header\"><label class=\"oo-ui-labelElement-label\" for=\"ooui-php-1\">Category:</label></span><div class=\"oo-ui-fieldLayout-field\"><div aria-disabled=\"false\" class=\"oo-ui-widget oo-ui-widget-enabled oo-ui-inputWidget oo-ui-textInputWidget oo-ui-textInputWidget-type-text oo-ui-textInputWidget-php oo-ui-indicatorElement mw-widget-titleInputWidget\" data-ooui='{\"_\":\"mw.widgets.TitleInputWidget\",\"namespace\":14,\"relative\":false,\"$overlay\":true,\"maxLength\":255,\"required\":true,\"name\":\"target\",\"value\":\"mathematics\",\"inputId\":\"ooui-php-1\",\"indicator\":\"required\"}' id=\"mw-input-target\"><input aria-disabled=\"false\" aria-required=\"true\" class=\"oo-ui-inputWidget-input\" id=\"ooui-php-1\" maxlength=\"255\" name=\"target\" required=\"required\" tabindex=\"0\" type=\"text\" value=\"mathematics\"/><span class=\"oo-ui-iconElement-icon oo-ui-iconElement-noIcon\"></span><span class=\"oo-ui-indicatorElement-indicator oo-ui-indicator-required\"></span></div></div></div></div><div class=\"mw-htmlform-field-HTMLSelectField mw-htmlform-field-autoinfuse oo-ui-layout oo-ui-labelElement oo-ui-fieldLayout oo-ui-fieldLayout-align-top\" data-ooui='{\"_\":\"mw.htmlform.FieldLayout\",\"fieldWidget\":{\"tag\":\"mw-input-mode\"},\"align\":\"top\",\"errors\":[],\"notices\":[],\"help\":\"\",\"helpInline\":true,\"$overlay\":true,\"label\":{\"html\":\"Mode:\"},\"classes\":[\"mw-htmlform-field-HTMLSelectField\",\"\",\"mw-htmlform-field-autoinfuse\"]}' id=\"ooui-php-5\"><div class=\"oo-ui-fieldLayout-body\"><span class=\"oo-ui-fieldLayout-header\"><label class=\"oo-ui-labelElement-label\" for=\"ooui-php-2\">Mode:</label></span><div class=\"oo-ui-fieldLayout-field\"><div aria-disabled=\"false\" class=\"oo-ui-widget oo-ui-widget-enabled oo-ui-inputWidget oo-ui-dropdownInputWidget oo-ui-dropdownInputWidget-php\" data-ooui='{\"_\":\"OO.ui.DropdownInputWidget\",\"options\":[{\"data\":\"categories\",\"label\":\"categories only\"},{\"data\":\"pages\",\"label\":\"pages except files\"},{\"data\":\"all\",\"label\":\"all pages\"}],\"$overlay\":true,\"name\":\"mode\",\"value\":\"all\",\"inputId\":\"ooui-php-2\"}' id=\"mw-input-mode\"><select aria-disabled=\"false\" class=\"oo-ui-inputWidget-input oo-ui-indicator-down\" id=\"ooui-php-2\" name=\"mode\" tabindex=\"0\"><option value=\"categories\">categories only</option><option value=\"pages\">pages except files</option><option selected=\"selected\" value=\"all\">all pages</option></select></div></div></div></div><div class=\"mw-htmlform-field-HTMLSelectNamespace mw-htmlform-field-autoinfuse oo-ui-layout oo-ui-labelElement oo-ui-fieldLayout oo-ui-fieldLayout-align-top\" data-mw-modules=\"mediawiki.widgets\" data-ooui='{\"_\":\"mw.htmlform.FieldLayout\",\"fieldWidget\":{\"tag\":\"mw-input-namespaces\"},\"align\":\"top\",\"errors\":[],\"notices\":[],\"help\":\"\",\"helpInline\":true,\"$overlay\":true,\"label\":{\"html\":\"Namespace:\"},\"classes\":[\"mw-htmlform-field-HTMLSelectNamespace\",\"\",\"mw-htmlform-field-autoinfuse\"]}' id=\"ooui-php-6\"><div class=\"oo-ui-fieldLayout-body\"><span class=\"oo-ui-fieldLayout-header\"><label class=\"oo-ui-labelElement-label\" for=\"ooui-php-3\">Namespace:</label></span><div class=\"oo-ui-fieldLayout-field\"><div aria-disabled=\"false\" class=\"oo-ui-widget oo-ui-widget-enabled oo-ui-inputWidget oo-ui-dropdownInputWidget oo-ui-dropdownInputWidget-php mw-widget-namespaceInputWidget\" data-ooui='{\"_\":\"mw.widgets.NamespaceInputWidget\",\"includeAllValue\":\"\",\"exclude\":[],\"dropdown\":{\"$overlay\":true},\"name\":\"namespaces\",\"inputId\":\"ooui-php-3\"}' id=\"mw-input-namespaces\"><select aria-disabled=\"false\" class=\"oo-ui-inputWidget-input oo-ui-indicator-down\" id=\"ooui-php-3\" name=\"namespaces\" tabindex=\"0\"><option selected=\"selected\" value=\"\">all</option><option value=\"0\">(Article)</option><option value=\"1\">Talk</option><option value=\"2\">User</option><option value=\"3\">User talk</option><option value=\"4\">Wikipedia</option><option value=\"5\">Wikipedia talk</option><option value=\"6\">File</option><option value=\"7\">File talk</option><option value=\"8\">MediaWiki</option><option value=\"9\">MediaWiki talk</option><option value=\"10\">Template</option><option value=\"11\">Template talk</option><option value=\"12\">Help</option><option value=\"13\">Help talk</option><option value=\"14\">Category</option><option value=\"15\">Category talk</option><option value=\"100\">Portal</option><option value=\"101\">Portal talk</option><option value=\"108\">Book</option><option value=\"109\">Book talk</option><option value=\"118\">Draft</option><option value=\"119\">Draft talk</option><option value=\"710\">TimedText</option><option value=\"711\">TimedText talk</option><option value=\"828\">Module</option><option value=\"829\">Module talk</option><option value=\"2300\">Gadget</option><option value=\"2301\">Gadget talk</option><option value=\"2302\">Gadget definition</option><option value=\"2303\">Gadget definition talk</option></select></div></div></div></div><input name=\"title\" type=\"hidden\" value=\"Special:CategoryTree\"/>\n",
      "<div class=\"mw-htmlform-submit-buttons\">\n",
      "<span aria-disabled=\"false\" class=\"mw-htmlform-submit oo-ui-widget oo-ui-widget-enabled oo-ui-flaggedElement-primary oo-ui-flaggedElement-progressive oo-ui-inputWidget oo-ui-buttonElement oo-ui-buttonElement-framed oo-ui-labelElement oo-ui-buttonInputWidget\" data-ooui='{\"_\":\"OO.ui.ButtonInputWidget\",\"type\":\"submit\",\"value\":\"Show tree\",\"flags\":[\"primary\",\"progressive\"],\"label\":\"Show tree\",\"classes\":[\"mw-htmlform-submit\"]}' id=\"ooui-php-7\"><button aria-disabled=\"false\" class=\"oo-ui-inputWidget-input oo-ui-buttonElement-button\" tabindex=\"0\" type=\"submit\" value=\"Show tree\"><span class=\"oo-ui-iconElement-icon oo-ui-iconElement-noIcon oo-ui-image-invert\"></span><span class=\"oo-ui-labelElement-label\">Show tree</span><span class=\"oo-ui-indicatorElement-indicator oo-ui-indicatorElement-noIndicator oo-ui-image-invert\"></span></button></span></div>\n",
      "</div></div></fieldset></form></div><div class=\"CategoryTreeParents\">Parents: <span class=\"CategoryTreeItem\"><a class=\"CategoryTreeLabel\" href=\"/w/index.php?title=Special:CategoryTree&amp;target=Abstraction&amp;mode=20&amp;hideprefix=20&amp;showcount=1\">Abstraction</a></span> | <span class=\"CategoryTreeItem\"><a class=\"CategoryTreeLabel\" href=\"/w/index.php?title=Special:CategoryTree&amp;target=Categories_requiring_diffusion&amp;mode=20&amp;hideprefix=20&amp;showcount=1\">Categories requiring diffusion</a></span> | <span class=\"CategoryTreeItem\"><a class=\"CategoryTreeLabel\" href=\"/w/index.php?title=Special:CategoryTree&amp;target=Formal_sciences&amp;mode=20&amp;hideprefix=20&amp;showcount=1\">Formal sciences</a></span> | <span class=\"CategoryTreeItem\"><a class=\"CategoryTreeLabel\" href=\"/w/index.php?title=Special:CategoryTree&amp;target=Main_topic_classifications&amp;mode=20&amp;hideprefix=20&amp;showcount=1\">Main topic classifications</a></span> | <span class=\"CategoryTreeItem\"><a class=\"CategoryTreeLabel\" href=\"/w/index.php?title=Special:CategoryTree&amp;target=Structure&amp;mode=20&amp;hideprefix=20&amp;showcount=1\">Structure</a></span></div><div class=\"CategoryTreeResult\"><div class=\"CategoryTreeSection\"><div class=\"CategoryTreeItem\"><span class=\"CategoryTreeBullet\"><span class=\"CategoryTreeToggle\" data-ct-loaded=\"1\" data-ct-state=\"expanded\" data-ct-title=\"Mathematics\">▼</span> </span> <a class=\"CategoryTreeLabel CategoryTreeLabelNs14 CategoryTreeLabelCategory\" href=\"/wiki/Category:Mathematics\">Mathematics</a>‎ <span dir=\"ltr\" title=\"Contains 23 subcategories, 13 pages, and 0 files\">(23 C, 13 P)</span></div><div class=\"CategoryTreeChildren\" style=\"display:block\"><div class=\"CategoryTreeSection\"><div class=\"CategoryTreeItem\"><span class=\"CategoryTreeBullet\"><span class=\"CategoryTreeToggle\" data-ct-state=\"collapsed\" data-ct-title=\"Fields_of_mathematics\">►</span> </span> <a class=\"CategoryTreeLabel CategoryTreeLabelNs14 CategoryTreeLabelCategory\" href=\"/wiki/Category:Fields_of_mathematics\">Fields of mathematics</a>‎ <span dir=\"ltr\" title=\"Contains 23 subcategories, 7 pages, and 0 files\">(23 C, 7 P)</span></div><div class=\"CategoryTreeChildren\" style=\"display:none\"></div></div><div class=\"CategoryTreeSection\"><div class=\"CategoryTreeItem\"><span class=\"CategoryTreeBullet\"><span class=\"CategoryTreeToggle\" data-ct-state=\"collapsed\" data-ct-title=\"Mathematics-related_lists\">►</span> </span> <a class=\"CategoryTreeLabel CategoryTreeLabelNs14 CategoryTreeLabelCategory\" href=\"/wiki/Category:Mathematics-related_lists\">Mathematics-related lists</a>‎ <span dir=\"ltr\" title=\"Contains 4 subcategories, 272 pages, and 0 files\">(4 C, 272 P)</span></div><div class=\"CategoryTreeChildren\" style=\"display:none\"></div></div><div class=\"CategoryTreeSection\"><div class=\"CategoryTreeItem\"><span class=\"CategoryTreeBullet\"><span class=\"CategoryTreeToggle\" data-ct-state=\"collapsed\" data-ct-title=\"Mathematicians\">►</span> </span> <a class=\"CategoryTreeLabel CategoryTreeLabelNs14 CategoryTreeLabelCategory\" href=\"/wiki/Category:Mathematicians\">Mathematicians</a>‎ <span dir=\"ltr\" title=\"Contains 27 subcategories, 13 pages, and 1 file\">(27 C, 13 P, 1 F)</span></div><div class=\"CategoryTreeChildren\" style=\"display:none\"></div></div><div class=\"CategoryTreeSection\"><div class=\"CategoryTreeItem\"><span class=\"CategoryTreeBullet\"><span class=\"CategoryTreeToggle\" data-ct-state=\"collapsed\" data-ct-title=\"Mathematical_concepts\">►</span> </span> <a class=\"CategoryTreeLabel CategoryTreeLabelNs14 CategoryTreeLabelCategory\" href=\"/wiki/Category:Mathematical_concepts\">Mathematical concepts</a>‎ <span dir=\"ltr\" title=\"Contains 8 subcategories, 20 pages, and 0 files\">(8 C, 20 P)</span></div><div class=\"CategoryTreeChildren\" style=\"display:none\"></div></div><div class=\"CategoryTreeSection\"><div class=\"CategoryTreeItem\"><span class=\"CategoryTreeBullet\"><span class=\"CategoryTreeToggle\" data-ct-state=\"collapsed\" data-ct-title=\"Mathematics_and_culture\">►</span> </span> <a class=\"CategoryTreeLabel CategoryTreeLabelNs14 CategoryTreeLabelCategory\" href=\"/wiki/Category:Mathematics_and_culture\">Mathematics and culture</a>‎ <span dir=\"ltr\" title=\"Contains 19 subcategories, 38 pages, and 0 files\">(19 C, 38 P)</span></div><div class=\"CategoryTreeChildren\" style=\"display:none\"></div></div><div class=\"CategoryTreeSection\"><div class=\"CategoryTreeItem\"><span class=\"CategoryTreeBullet\"><span class=\"CategoryTreeToggle\" data-ct-state=\"collapsed\" data-ct-title=\"Mathematical_examples\">►</span> </span> <a class=\"CategoryTreeLabel CategoryTreeLabelNs14 CategoryTreeLabelCategory\" href=\"/wiki/Category:Mathematical_examples\">Mathematical examples</a>‎ <span dir=\"ltr\" title=\"Contains 0 subcategories, 11 pages, and 0 files\">(11 P)</span></div><div class=\"CategoryTreeChildren\" style=\"display:none\"></div></div><div class=\"CategoryTreeSection\"><div class=\"CategoryTreeItem\"><span class=\"CategoryTreeBullet\"><span class=\"CategoryTreeToggle\" data-ct-state=\"collapsed\" data-ct-title=\"History_of_mathematics\">►</span> </span> <a class=\"CategoryTreeLabel CategoryTreeLabelNs14 CategoryTreeLabelCategory\" href=\"/wiki/Category:History_of_mathematics\">History of mathematics</a>‎ <span dir=\"ltr\" title=\"Contains 16 subcategories, 136 pages, and 0 files\">(16 C, 136 P)</span></div><div class=\"CategoryTreeChildren\" style=\"display:none\"></div></div><div class=\"CategoryTreeSection\"><div class=\"CategoryTreeItem\"><span class=\"CategoryTreeBullet\"><span class=\"CategoryTreeToggle\" data-ct-state=\"collapsed\" data-ct-title=\"Mathematics_and_art\">►</span> </span> <a class=\"CategoryTreeLabel CategoryTreeLabelNs14 CategoryTreeLabelCategory\" href=\"/wiki/Category:Mathematics_and_art\">Mathematics and art</a>‎ <span dir=\"ltr\" title=\"Contains 4 subcategories, 19 pages, and 0 files\">(4 C, 19 P)</span></div><div class=\"CategoryTreeChildren\" style=\"display:none\"></div></div><div class=\"CategoryTreeSection\"><div class=\"CategoryTreeItem\"><span class=\"CategoryTreeBullet\"><span class=\"CategoryTreeToggle\" data-ct-state=\"collapsed\" data-ct-title=\"Mathematical_modeling\">►</span> </span> <a class=\"CategoryTreeLabel CategoryTreeLabelNs14 CategoryTreeLabelCategory\" href=\"/wiki/Category:Mathematical_modeling\">Mathematical modeling</a>‎ <span dir=\"ltr\" title=\"Contains 9 subcategories, 104 pages, and 0 files\">(9 C, 104 P)</span></div><div class=\"CategoryTreeChildren\" style=\"display:none\"></div></div><div class=\"CategoryTreeSection\"><div class=\"CategoryTreeItem\"><span class=\"CategoryTreeBullet\"><span class=\"CategoryTreeToggle\" data-ct-state=\"collapsed\" data-ct-title=\"Mathematical_notation\">►</span> </span> <a class=\"CategoryTreeLabel CategoryTreeLabelNs14 CategoryTreeLabelCategory\" href=\"/wiki/Category:Mathematical_notation\">Mathematical notation</a>‎ <span dir=\"ltr\" title=\"Contains 6 subcategories, 102 pages, and 0 files\">(6 C, 102 P)</span></div><div class=\"CategoryTreeChildren\" style=\"display:none\"></div></div><div class=\"CategoryTreeSection\"><div class=\"CategoryTreeItem\"><span class=\"CategoryTreeBullet\"><span class=\"CategoryTreeToggle\" data-ct-state=\"collapsed\" data-ct-title=\"Mathematical_science_occupations\">►</span> </span> <a class=\"CategoryTreeLabel CategoryTreeLabelNs14 CategoryTreeLabelCategory\" href=\"/wiki/Category:Mathematical_science_occupations\">Mathematical science occupations</a>‎ <span dir=\"ltr\" title=\"Contains 1 subcategory, 10 pages, and 0 files\">(1 C, 10 P)</span></div><div class=\"CategoryTreeChildren\" style=\"display:none\"></div></div><div class=\"CategoryTreeSection\"><div class=\"CategoryTreeItem\"><span class=\"CategoryTreeBullet\"><span class=\"CategoryTreeToggle\" data-ct-state=\"collapsed\" data-ct-title=\"Philosophy_of_mathematics\">►</span> </span> <a class=\"CategoryTreeLabel CategoryTreeLabelNs14 CategoryTreeLabelCategory\" href=\"/wiki/Category:Philosophy_of_mathematics\">Philosophy of mathematics</a>‎ <span dir=\"ltr\" title=\"Contains 16 subcategories, 50 pages, and 0 files\">(16 C, 50 P)</span></div><div class=\"CategoryTreeChildren\" style=\"display:none\"></div></div><div class=\"CategoryTreeSection\"><div class=\"CategoryTreeItem\"><span class=\"CategoryTreeBullet\"><span class=\"CategoryTreeToggle\" data-ct-state=\"collapsed\" data-ct-title=\"Mathematical_projects\">►</span> </span> <a class=\"CategoryTreeLabel CategoryTreeLabelNs14 CategoryTreeLabelCategory\" href=\"/wiki/Category:Mathematical_projects\">Mathematical projects</a>‎ <span dir=\"ltr\" title=\"Contains 0 subcategories, 6 pages, and 0 files\">(6 P)</span></div><div class=\"CategoryTreeChildren\" style=\"display:none\"></div></div><div class=\"CategoryTreeSection\"><div class=\"CategoryTreeItem\"><span class=\"CategoryTreeBullet\"><span class=\"CategoryTreeToggle\" data-ct-state=\"collapsed\" data-ct-title=\"Mathematical_proofs\">►</span> </span> <a class=\"CategoryTreeLabel CategoryTreeLabelNs14 CategoryTreeLabelCategory\" href=\"/wiki/Category:Mathematical_proofs\">Mathematical proofs</a>‎ <span dir=\"ltr\" title=\"Contains 8 subcategories, 37 pages, and 0 files\">(8 C, 37 P)</span></div><div class=\"CategoryTreeChildren\" style=\"display:none\"></div></div><div class=\"CategoryTreeSection\"><div class=\"CategoryTreeItem\"><span class=\"CategoryTreeBullet\"><span class=\"CategoryTreeToggle\" data-ct-state=\"collapsed\" data-ct-title=\"Pseudomathematics\">►</span> </span> <a class=\"CategoryTreeLabel CategoryTreeLabelNs14 CategoryTreeLabelCategory\" href=\"/wiki/Category:Pseudomathematics\">Pseudomathematics</a>‎ <span dir=\"ltr\" title=\"Contains 0 subcategories, 6 pages, and 0 files\">(6 P)</span></div><div class=\"CategoryTreeChildren\" style=\"display:none\"></div></div><div class=\"CategoryTreeSection\"><div class=\"CategoryTreeItem\"><span class=\"CategoryTreeBullet\"><span class=\"CategoryTreeToggle\" data-ct-state=\"collapsed\" data-ct-title=\"Set_indices_on_mathematics\">►</span> </span> <a class=\"CategoryTreeLabel CategoryTreeLabelNs14 CategoryTreeLabelCategory\" href=\"/wiki/Category:Set_indices_on_mathematics\">Set indices on mathematics</a>‎ <span dir=\"ltr\" title=\"Contains 0 subcategories, 42 pages, and 0 files\">(42 P)</span></div><div class=\"CategoryTreeChildren\" style=\"display:none\"></div></div><div class=\"CategoryTreeSection\"><div class=\"CategoryTreeItem\"><span class=\"CategoryTreeBullet\"><span class=\"CategoryTreeToggle\" data-ct-state=\"collapsed\" data-ct-title=\"Mathematical_terminology\">►</span> </span> <a class=\"CategoryTreeLabel CategoryTreeLabelNs14 CategoryTreeLabelCategory\" href=\"/wiki/Category:Mathematical_terminology\">Mathematical terminology</a>‎ <span dir=\"ltr\" title=\"Contains 1 subcategory, 107 pages, and 0 files\">(1 C, 107 P)</span></div><div class=\"CategoryTreeChildren\" style=\"display:none\"></div></div><div class=\"CategoryTreeSection\"><div class=\"CategoryTreeItem\"><span class=\"CategoryTreeBullet\"><span class=\"CategoryTreeToggle\" data-ct-state=\"collapsed\" data-ct-title=\"Mathematics_textbooks\">►</span> </span> <a class=\"CategoryTreeLabel CategoryTreeLabelNs14 CategoryTreeLabelCategory\" href=\"/wiki/Category:Mathematics_textbooks\">Mathematics textbooks</a>‎ <span dir=\"ltr\" title=\"Contains 0 subcategories, 33 pages, and 0 files\">(33 P)</span></div><div class=\"CategoryTreeChildren\" style=\"display:none\"></div></div><div class=\"CategoryTreeSection\"><div class=\"CategoryTreeItem\"><span class=\"CategoryTreeBullet\"><span class=\"CategoryTreeToggle\" data-ct-state=\"collapsed\" data-ct-title=\"Mathematical_theorems\">►</span> </span> <a class=\"CategoryTreeLabel CategoryTreeLabelNs14 CategoryTreeLabelCategory\" href=\"/wiki/Category:Mathematical_theorems\">Mathematical theorems</a>‎ <span dir=\"ltr\" title=\"Contains 18 subcategories, 34 pages, and 0 files\">(18 C, 34 P)</span></div><div class=\"CategoryTreeChildren\" style=\"display:none\"></div></div><div class=\"CategoryTreeSection\"><div class=\"CategoryTreeItem\"><span class=\"CategoryTreeBullet\"><span class=\"CategoryTreeToggle\" data-ct-state=\"collapsed\" data-ct-title=\"Mathematical_tools\">►</span> </span> <a class=\"CategoryTreeLabel CategoryTreeLabelNs14 CategoryTreeLabelCategory\" href=\"/wiki/Category:Mathematical_tools\">Mathematical tools</a>‎ <span dir=\"ltr\" title=\"Contains 4 subcategories, 35 pages, and 0 files\">(4 C, 35 P)</span></div><div class=\"CategoryTreeChildren\" style=\"display:none\"></div></div><div class=\"CategoryTreeSection\"><div class=\"CategoryTreeItem\"><span class=\"CategoryTreeBullet\"><span class=\"CategoryTreeToggle\" data-ct-state=\"collapsed\" data-ct-title=\"Women_in_mathematics\">►</span> </span> <a class=\"CategoryTreeLabel CategoryTreeLabelNs14 CategoryTreeLabelCategory\" href=\"/wiki/Category:Women_in_mathematics\">Women in mathematics</a>‎ <span dir=\"ltr\" title=\"Contains 2 subcategories, 15 pages, and 0 files\">(2 C, 15 P)</span></div><div class=\"CategoryTreeChildren\" style=\"display:none\"></div></div><div class=\"CategoryTreeSection\"><div class=\"CategoryTreeItem\"><span class=\"CategoryTreeBullet\"><span class=\"CategoryTreeToggle\" data-ct-state=\"collapsed\" data-ct-title=\"Wikipedia_books_on_mathematics\">►</span> </span> <a class=\"CategoryTreeLabel CategoryTreeLabelNs14 CategoryTreeLabelCategory\" href=\"/wiki/Category:Wikipedia_books_on_mathematics\">Wikipedia books on mathematics</a>‎ <span dir=\"ltr\" title=\"Contains 1 subcategory, 29 pages, and 0 files\">(1 C, 29 P)</span></div><div class=\"CategoryTreeChildren\" style=\"display:none\"></div></div><div class=\"CategoryTreeSection\"><div class=\"CategoryTreeItem\"><span class=\"CategoryTreeBullet\"><span class=\"CategoryTreeToggle\" data-ct-state=\"collapsed\" data-ct-title=\"Mathematics_stubs\">►</span> </span> <a class=\"CategoryTreeLabel CategoryTreeLabelNs14 CategoryTreeLabelCategory\" href=\"/wiki/Category:Mathematics_stubs\">Mathematics stubs</a>‎ <span dir=\"ltr\" title=\"Contains 17 subcategories, 176 pages, and 0 files\">(17 C, 176 P)</span></div><div class=\"CategoryTreeChildren\" style=\"display:none\"></div></div><div class=\"CategoryTreeSection\"><div class=\"CategoryTreeItem\"><span class=\"CategoryTreeBullet\"> </span> <a class=\"CategoryTreeLabel CategoryTreeLabelNs0 CategoryTreeLabelPage\" href=\"/wiki/Mathematics\">Mathematics</a></div><div class=\"CategoryTreeChildren\" style=\"display:none\"></div></div><div class=\"CategoryTreeSection\"><div class=\"CategoryTreeItem\"><span class=\"CategoryTreeBullet\"> </span> <a class=\"CategoryTreeLabel CategoryTreeLabelNs0 CategoryTreeLabelPage\" href=\"/wiki/Outline_of_mathematics\">Outline of mathematics</a></div><div class=\"CategoryTreeChildren\" style=\"display:none\"></div></div><div class=\"CategoryTreeSection\"><div class=\"CategoryTreeItem\"><span class=\"CategoryTreeBullet\"> </span> <a class=\"CategoryTreeLabel CategoryTreeLabelNs100 CategoryTreeLabelPage\" href=\"/wiki/Portal:Contents/Mathematics_and_logic\">Portal:Contents/Mathematics and logic</a></div><div class=\"CategoryTreeChildren\" style=\"display:none\"></div></div><div class=\"CategoryTreeSection\"><div class=\"CategoryTreeItem\"><span class=\"CategoryTreeBullet\"> </span> <a class=\"CategoryTreeLabel CategoryTreeLabelNs0 CategoryTreeLabelPage\" href=\"/wiki/Analysis_of_Boolean_functions\">Analysis of Boolean functions</a></div><div class=\"CategoryTreeChildren\" style=\"display:none\"></div></div><div class=\"CategoryTreeSection\"><div class=\"CategoryTreeItem\"><span class=\"CategoryTreeBullet\"> </span> <a class=\"CategoryTreeLabel CategoryTreeLabelNs0 CategoryTreeLabelPage\" href=\"/wiki/The_Archimedeans\">The Archimedeans</a></div><div class=\"CategoryTreeChildren\" style=\"display:none\"></div></div><div class=\"CategoryTreeSection\"><div class=\"CategoryTreeItem\"><span class=\"CategoryTreeBullet\"> </span> <a class=\"CategoryTreeLabel CategoryTreeLabelNs0 CategoryTreeLabelPage\" href=\"/wiki/Archives_of_American_Mathematics\">Archives of American Mathematics</a></div><div class=\"CategoryTreeChildren\" style=\"display:none\"></div></div><div class=\"CategoryTreeSection\"><div class=\"CategoryTreeItem\"><span class=\"CategoryTreeBullet\"> </span> <a class=\"CategoryTreeLabel CategoryTreeLabelNs0 CategoryTreeLabelPage\" href=\"/wiki/Data-driven_control_system\">Data-driven control system</a></div><div class=\"CategoryTreeChildren\" style=\"display:none\"></div></div><div class=\"CategoryTreeSection\"><div class=\"CategoryTreeItem\"><span class=\"CategoryTreeBullet\"> </span> <a class=\"CategoryTreeLabel CategoryTreeLabelNs0 CategoryTreeLabelPage\" href=\"/wiki/Discrete_Logarithm_Problem_(DLP)\">Discrete Logarithm Problem (DLP)</a></div><div class=\"CategoryTreeChildren\" style=\"display:none\"></div></div><div class=\"CategoryTreeSection\"><div class=\"CategoryTreeItem\"><span class=\"CategoryTreeBullet\"> </span> <a class=\"CategoryTreeLabel CategoryTreeLabelNs0 CategoryTreeLabelPage\" href=\"/wiki/Legendre_moment\">Legendre moment</a></div><div class=\"CategoryTreeChildren\" style=\"display:none\"></div></div><div class=\"CategoryTreeSection\"><div class=\"CategoryTreeItem\"><span class=\"CategoryTreeBullet\"> </span> <a class=\"CategoryTreeLabel CategoryTreeLabelNs0 CategoryTreeLabelPage\" href=\"/wiki/Locally_nilpotent_derivation\">Locally nilpotent derivation</a></div><div class=\"CategoryTreeChildren\" style=\"display:none\"></div></div><div class=\"CategoryTreeSection\"><div class=\"CategoryTreeItem\"><span class=\"CategoryTreeBullet\"> </span> <a class=\"CategoryTreeLabel CategoryTreeLabelNs0 CategoryTreeLabelPage\" href=\"/wiki/Mediation-driven_attachment_model\">Mediation-driven attachment model</a></div><div class=\"CategoryTreeChildren\" style=\"display:none\"></div></div><div class=\"CategoryTreeSection\"><div class=\"CategoryTreeItem\"><span class=\"CategoryTreeBullet\"> </span> <a class=\"CategoryTreeLabel CategoryTreeLabelNs0 CategoryTreeLabelPage\" href=\"/wiki/Proof_School\">Proof School</a></div><div class=\"CategoryTreeChildren\" style=\"display:none\"></div></div><div class=\"CategoryTreeSection\"><div class=\"CategoryTreeItem\"><span class=\"CategoryTreeBullet\"> </span> <a class=\"CategoryTreeLabel CategoryTreeLabelNs0 CategoryTreeLabelPage\" href=\"/wiki/Quota_rule\">Quota rule</a></div><div class=\"CategoryTreeChildren\" style=\"display:none\"></div></div></div></div></div><noscript><img alt=\"\" height=\"1\" src=\"//en.wikipedia.org/wiki/Special:CentralAutoLogin/start?type=1x1\" style=\"border: none; position: absolute;\" title=\"\" width=\"1\"/></noscript></div> <div class=\"printfooter\">\n",
      "\t\t\t\t\t\tRetrieved from \"<a dir=\"ltr\" href=\"https://en.wikipedia.org/wiki/Special:CategoryTree\">https://en.wikipedia.org/wiki/Special:CategoryTree</a>\"\t\t\t\t\t</div>\n",
      "<div class=\"catlinks catlinks-allhidden\" data-mw=\"interface\" id=\"catlinks\"></div> <div class=\"visualClear\"></div>\n",
      "</div>\n",
      "</div>\n",
      "<div id=\"mw-navigation\">\n",
      "<h2>Navigation menu</h2>\n",
      "<div id=\"mw-head\">\n",
      "<div aria-labelledby=\"p-personal-label\" class=\"\" id=\"p-personal\" role=\"navigation\">\n",
      "<h3 id=\"p-personal-label\">Personal tools</h3>\n",
      "<ul>\n",
      "<li id=\"pt-anonuserpage\">Not logged in</li><li id=\"pt-anontalk\"><a accesskey=\"n\" href=\"/wiki/Special:MyTalk\" title=\"Discussion about edits from this IP address [n]\">Talk</a></li><li id=\"pt-anoncontribs\"><a accesskey=\"y\" href=\"/wiki/Special:MyContributions\" title=\"A list of edits made from this IP address [y]\">Contributions</a></li><li id=\"pt-createaccount\"><a href=\"/w/index.php?title=Special:CreateAccount&amp;returnto=Special%3ACategoryTree&amp;returntoquery=target%3Dmathematics%26mode%3Dall%26namespaces%3D\" title=\"You are encouraged to create an account and log in; however, it is not mandatory\">Create account</a></li><li id=\"pt-login\"><a accesskey=\"o\" href=\"/w/index.php?title=Special:UserLogin&amp;returnto=Special%3ACategoryTree&amp;returntoquery=target%3Dmathematics%26mode%3Dall%26namespaces%3D\" title=\"You're encouraged to log in; however, it's not mandatory. [o]\">Log in</a></li> </ul>\n",
      "</div>\n",
      "<div id=\"left-navigation\">\n",
      "<div aria-labelledby=\"p-namespaces-label\" class=\"vectorTabs\" id=\"p-namespaces\" role=\"navigation\">\n",
      "<h3 id=\"p-namespaces-label\">Namespaces</h3>\n",
      "<ul>\n",
      "<li class=\"selected\" id=\"ca-nstab-special\"><span><a href=\"/wiki/Special:CategoryTree?target=mathematics&amp;mode=all&amp;namespaces=&amp;title=Special%3ACategoryTree\" title=\"This is a special page which you cannot edit\">Special page</a></span></li> </ul>\n",
      "</div>\n",
      "<div aria-labelledby=\"p-variants-label\" class=\"vectorMenu emptyPortlet\" id=\"p-variants\" role=\"navigation\">\n",
      "<input aria-labelledby=\"p-variants-label\" class=\"vectorMenuCheckbox\" type=\"checkbox\"/>\n",
      "<h3 id=\"p-variants-label\">\n",
      "<span>Variants</span>\n",
      "</h3>\n",
      "<div class=\"menu\">\n",
      "<ul>\n",
      "</ul>\n",
      "</div>\n",
      "</div>\n",
      "</div>\n",
      "<div id=\"right-navigation\">\n",
      "<div aria-labelledby=\"p-views-label\" class=\"vectorTabs emptyPortlet\" id=\"p-views\" role=\"navigation\">\n",
      "<h3 id=\"p-views-label\">Views</h3>\n",
      "<ul>\n",
      "</ul>\n",
      "</div>\n",
      "<div aria-labelledby=\"p-cactions-label\" class=\"vectorMenu emptyPortlet\" id=\"p-cactions\" role=\"navigation\">\n",
      "<input aria-labelledby=\"p-cactions-label\" class=\"vectorMenuCheckbox\" type=\"checkbox\"/>\n",
      "<h3 id=\"p-cactions-label\"><span>More</span></h3>\n",
      "<div class=\"menu\">\n",
      "<ul>\n",
      "</ul>\n",
      "</div>\n",
      "</div>\n",
      "<div id=\"p-search\" role=\"search\">\n",
      "<h3>\n",
      "<label for=\"searchInput\">Search</label>\n",
      "</h3>\n",
      "<form action=\"/w/index.php\" id=\"searchform\">\n",
      "<div id=\"simpleSearch\">\n",
      "<input accesskey=\"f\" id=\"searchInput\" name=\"search\" placeholder=\"Search Wikipedia\" title=\"Search Wikipedia [f]\" type=\"search\"/><input name=\"title\" type=\"hidden\" value=\"Special:Search\"/><input class=\"searchButton mw-fallbackSearchButton\" id=\"mw-searchButton\" name=\"fulltext\" title=\"Search Wikipedia for this text\" type=\"submit\" value=\"Search\"/><input class=\"searchButton\" id=\"searchButton\" name=\"go\" title=\"Go to a page with this exact name if it exists\" type=\"submit\" value=\"Go\"/> </div>\n",
      "</form>\n",
      "</div>\n",
      "</div>\n",
      "</div>\n",
      "<div id=\"mw-panel\">\n",
      "<div id=\"p-logo\" role=\"banner\"><a class=\"mw-wiki-logo\" href=\"/wiki/Main_Page\" title=\"Visit the main page\"></a></div>\n",
      "<div aria-labelledby=\"p-navigation-label\" class=\"portal\" id=\"p-navigation\" role=\"navigation\">\n",
      "<h3 id=\"p-navigation-label\">Navigation</h3>\n",
      "<div class=\"body\">\n",
      "<ul>\n",
      "<li id=\"n-mainpage-description\"><a accesskey=\"z\" href=\"/wiki/Main_Page\" title=\"Visit the main page [z]\">Main page</a></li><li id=\"n-contents\"><a href=\"/wiki/Portal:Contents\" title=\"Guides to browsing Wikipedia\">Contents</a></li><li id=\"n-featuredcontent\"><a href=\"/wiki/Portal:Featured_content\" title=\"Featured content – the best of Wikipedia\">Featured content</a></li><li id=\"n-currentevents\"><a href=\"/wiki/Portal:Current_events\" title=\"Find background information on current events\">Current events</a></li><li id=\"n-randompage\"><a accesskey=\"x\" href=\"/wiki/Special:Random\" title=\"Load a random article [x]\">Random article</a></li><li id=\"n-sitesupport\"><a href=\"https://donate.wikimedia.org/wiki/Special:FundraiserRedirector?utm_source=donate&amp;utm_medium=sidebar&amp;utm_campaign=C13_en.wikipedia.org&amp;uselang=en\" title=\"Support us\">Donate to Wikipedia</a></li><li id=\"n-shoplink\"><a href=\"//shop.wikimedia.org\" title=\"Visit the Wikipedia store\">Wikipedia store</a></li> </ul>\n",
      "</div>\n",
      "</div>\n",
      "<div aria-labelledby=\"p-interaction-label\" class=\"portal\" id=\"p-interaction\" role=\"navigation\">\n",
      "<h3 id=\"p-interaction-label\">Interaction</h3>\n",
      "<div class=\"body\">\n",
      "<ul>\n",
      "<li id=\"n-help\"><a href=\"/wiki/Help:Contents\" title=\"Guidance on how to use and edit Wikipedia\">Help</a></li><li id=\"n-aboutsite\"><a href=\"/wiki/Wikipedia:About\" title=\"Find out about Wikipedia\">About Wikipedia</a></li><li id=\"n-portal\"><a href=\"/wiki/Wikipedia:Community_portal\" title=\"About the project, what you can do, where to find things\">Community portal</a></li><li id=\"n-recentchanges\"><a accesskey=\"r\" href=\"/wiki/Special:RecentChanges\" title=\"A list of recent changes in the wiki [r]\">Recent changes</a></li><li id=\"n-contactpage\"><a href=\"//en.wikipedia.org/wiki/Wikipedia:Contact_us\" title=\"How to contact Wikipedia\">Contact page</a></li> </ul>\n",
      "</div>\n",
      "</div>\n",
      "<div aria-labelledby=\"p-tb-label\" class=\"portal\" id=\"p-tb\" role=\"navigation\">\n",
      "<h3 id=\"p-tb-label\">Tools</h3>\n",
      "<div class=\"body\">\n",
      "<ul>\n",
      "<li id=\"t-upload\"><a accesskey=\"u\" href=\"/wiki/Wikipedia:File_Upload_Wizard\" title=\"Upload files [u]\">Upload file</a></li><li id=\"t-specialpages\"><a accesskey=\"q\" href=\"/wiki/Special:SpecialPages\" title=\"A list of all special pages [q]\">Special pages</a></li><li id=\"t-print\"><a accesskey=\"p\" href=\"/w/index.php?title=Special:CategoryTree&amp;target=mathematics&amp;mode=all&amp;namespaces=&amp;printable=yes\" rel=\"alternate\" title=\"Printable version of this page [p]\">Printable version</a></li> </ul>\n",
      "</div>\n",
      "</div>\n",
      "<div aria-labelledby=\"p-lang-label\" class=\"portal\" id=\"p-lang\" role=\"navigation\">\n",
      "<h3 id=\"p-lang-label\">Languages</h3>\n",
      "<div class=\"body\">\n",
      "<ul>\n",
      "</ul>\n",
      "</div>\n",
      "</div>\n",
      "</div>\n",
      "</div>\n",
      "<div id=\"footer\" role=\"contentinfo\">\n",
      "<ul id=\"footer-places\">\n",
      "<li id=\"footer-places-privacy\"><a class=\"extiw\" href=\"https://foundation.wikimedia.org/wiki/Privacy_policy\" title=\"wmf:Privacy policy\">Privacy policy</a></li>\n",
      "<li id=\"footer-places-about\"><a href=\"/wiki/Wikipedia:About\" title=\"Wikipedia:About\">About Wikipedia</a></li>\n",
      "<li id=\"footer-places-disclaimer\"><a href=\"/wiki/Wikipedia:General_disclaimer\" title=\"Wikipedia:General disclaimer\">Disclaimers</a></li>\n",
      "<li id=\"footer-places-contact\"><a href=\"//en.wikipedia.org/wiki/Wikipedia:Contact_us\">Contact Wikipedia</a></li>\n",
      "<li id=\"footer-places-developers\"><a href=\"https://www.mediawiki.org/wiki/Special:MyLanguage/How_to_contribute\">Developers</a></li>\n",
      "<li id=\"footer-places-cookiestatement\"><a href=\"https://foundation.wikimedia.org/wiki/Cookie_statement\">Cookie statement</a></li>\n",
      "<li id=\"footer-places-mobileview\"><a class=\"noprint stopMobileRedirectToggle\" href=\"//en.m.wikipedia.org/w/index.php?title=Special:CategoryTree&amp;target=mathematics&amp;mode=all&amp;namespaces=&amp;mobileaction=toggle_view_mobile\">Mobile view</a></li>\n",
      "</ul>\n",
      "<ul class=\"noprint\" id=\"footer-icons\">\n",
      "<li id=\"footer-copyrightico\">\n",
      "<a href=\"https://wikimediafoundation.org/\"><img alt=\"Wikimedia Foundation\" height=\"31\" src=\"/static/images/wikimedia-button.png\" srcset=\"/static/images/wikimedia-button-1.5x.png 1.5x, /static/images/wikimedia-button-2x.png 2x\" width=\"88\"/></a> </li>\n",
      "<li id=\"footer-poweredbyico\">\n",
      "<a href=\"//www.mediawiki.org/\"><img alt=\"Powered by MediaWiki\" height=\"31\" src=\"/static/images/poweredby_mediawiki_88x31.png\" srcset=\"/static/images/poweredby_mediawiki_132x47.png 1.5x, /static/images/poweredby_mediawiki_176x62.png 2x\" width=\"88\"/></a> </li>\n",
      "</ul>\n",
      "<div style=\"clear: both;\"></div>\n",
      "</div>\n",
      "<script>(window.RLQ=window.RLQ||[]).push(function(){mw.config.set({\"wgBackendResponseTime\":102,\"wgHostname\":\"mw1330\"});});</script>\n",
      "</body>\n",
      "</html>\n",
      "\n"
     ]
    }
   ],
   "source": [
    "print(soup)"
   ]
  },
  {
   "cell_type": "code",
   "execution_count": 36,
   "metadata": {},
   "outputs": [],
   "source": [
    "\n",
    "# Parse into soup() the source of the page after the link is clicked and use \"html.parser\" as the Parser.\n",
    "soupify = soup(source, 'html.parser')"
   ]
  },
  {
   "cell_type": "code",
   "execution_count": null,
   "metadata": {},
   "outputs": [],
   "source": []
  },
  {
   "cell_type": "code",
   "execution_count": 53,
   "metadata": {},
   "outputs": [
    {
     "data": {
      "text/plain": [
       "[<span class=\"CategoryTreeToggle CategoryTreeToggleHandlerAttached\" data-ct-loaded=\"1\" data-ct-state=\"expanded\" data-ct-title=\"Mathematics\" title=\"collapse\">▼</span>,\n",
       " <span class=\"CategoryTreeToggle CategoryTreeToggleHandlerAttached\" data-ct-state=\"collapsed\" data-ct-title=\"Fields_of_mathematics\" title=\"expand\">►</span>,\n",
       " <span class=\"CategoryTreeToggle CategoryTreeToggleHandlerAttached\" data-ct-state=\"collapsed\" data-ct-title=\"Mathematics-related_lists\" title=\"expand\">►</span>,\n",
       " <span class=\"CategoryTreeToggle CategoryTreeToggleHandlerAttached\" data-ct-state=\"collapsed\" data-ct-title=\"Mathematicians\" title=\"expand\">►</span>,\n",
       " <span class=\"CategoryTreeToggle CategoryTreeToggleHandlerAttached\" data-ct-state=\"collapsed\" data-ct-title=\"Mathematical_concepts\" title=\"expand\">►</span>,\n",
       " <span class=\"CategoryTreeToggle CategoryTreeToggleHandlerAttached\" data-ct-state=\"collapsed\" data-ct-title=\"Mathematics_and_culture\" title=\"expand\">►</span>,\n",
       " <span class=\"CategoryTreeToggle CategoryTreeToggleHandlerAttached\" data-ct-state=\"collapsed\" data-ct-title=\"Mathematical_examples\" title=\"expand\">►</span>,\n",
       " <span class=\"CategoryTreeToggle CategoryTreeToggleHandlerAttached\" data-ct-state=\"collapsed\" data-ct-title=\"History_of_mathematics\" title=\"expand\">►</span>,\n",
       " <span class=\"CategoryTreeToggle CategoryTreeToggleHandlerAttached\" data-ct-state=\"collapsed\" data-ct-title=\"Mathematics_and_art\" title=\"expand\">►</span>,\n",
       " <span class=\"CategoryTreeToggle CategoryTreeToggleHandlerAttached\" data-ct-state=\"collapsed\" data-ct-title=\"Mathematical_modeling\" title=\"expand\">►</span>,\n",
       " <span class=\"CategoryTreeToggle CategoryTreeToggleHandlerAttached\" data-ct-state=\"collapsed\" data-ct-title=\"Mathematical_notation\" title=\"expand\">►</span>,\n",
       " <span class=\"CategoryTreeToggle CategoryTreeToggleHandlerAttached\" data-ct-state=\"collapsed\" data-ct-title=\"Mathematical_science_occupations\" title=\"expand\">►</span>,\n",
       " <span class=\"CategoryTreeToggle CategoryTreeToggleHandlerAttached\" data-ct-state=\"collapsed\" data-ct-title=\"Philosophy_of_mathematics\" title=\"expand\">►</span>,\n",
       " <span class=\"CategoryTreeToggle CategoryTreeToggleHandlerAttached\" data-ct-state=\"collapsed\" data-ct-title=\"Mathematical_projects\" title=\"expand\">►</span>,\n",
       " <span class=\"CategoryTreeToggle CategoryTreeToggleHandlerAttached\" data-ct-state=\"collapsed\" data-ct-title=\"Mathematical_proofs\" title=\"expand\">►</span>,\n",
       " <span class=\"CategoryTreeToggle CategoryTreeToggleHandlerAttached\" data-ct-state=\"collapsed\" data-ct-title=\"Pseudomathematics\" title=\"expand\">►</span>,\n",
       " <span class=\"CategoryTreeToggle CategoryTreeToggleHandlerAttached\" data-ct-state=\"collapsed\" data-ct-title=\"Set_indices_on_mathematics\" title=\"expand\">►</span>,\n",
       " <span class=\"CategoryTreeToggle CategoryTreeToggleHandlerAttached\" data-ct-state=\"collapsed\" data-ct-title=\"Mathematical_terminology\" title=\"expand\">►</span>,\n",
       " <span class=\"CategoryTreeToggle CategoryTreeToggleHandlerAttached\" data-ct-state=\"collapsed\" data-ct-title=\"Mathematics_textbooks\" title=\"expand\">►</span>,\n",
       " <span class=\"CategoryTreeToggle CategoryTreeToggleHandlerAttached\" data-ct-state=\"collapsed\" data-ct-title=\"Mathematical_theorems\" title=\"expand\">►</span>,\n",
       " <span class=\"CategoryTreeToggle CategoryTreeToggleHandlerAttached\" data-ct-state=\"collapsed\" data-ct-title=\"Mathematical_tools\" title=\"expand\">►</span>,\n",
       " <span class=\"CategoryTreeToggle CategoryTreeToggleHandlerAttached\" data-ct-state=\"collapsed\" data-ct-title=\"Women_in_mathematics\" title=\"expand\">►</span>,\n",
       " <span class=\"CategoryTreeToggle CategoryTreeToggleHandlerAttached\" data-ct-state=\"collapsed\" data-ct-title=\"Wikipedia_books_on_mathematics\" title=\"expand\">►</span>,\n",
       " <span class=\"CategoryTreeToggle CategoryTreeToggleHandlerAttached\" data-ct-state=\"collapsed\" data-ct-title=\"Mathematics_stubs\" title=\"expand\">►</span>]"
      ]
     },
     "execution_count": 53,
     "metadata": {},
     "output_type": "execute_result"
    }
   ],
   "source": [
    "soupify.find_all('span',{'class': \"CategoryTreeToggle\"}).click"
   ]
  },
  {
   "cell_type": "code",
   "execution_count": 31,
   "metadata": {},
   "outputs": [],
   "source": [
    "\n",
    "\n",
    "dataList = []\n",
    "for ultag in soupify.find_all('ul', {'class': 'base-list team-stats'}):\n",
    "    print(ultag)\n",
    "    for iltag in ultag.find_all('li'):\n",
    "        dataList.append(iltag.get_text())\n",
    "\n",
    "# We are done with the driver so quit.\n",
    "driver.quit()"
   ]
  },
  {
   "cell_type": "code",
   "execution_count": null,
   "metadata": {},
   "outputs": [],
   "source": []
  },
  {
   "cell_type": "code",
   "execution_count": 16,
   "metadata": {},
   "outputs": [
    {
     "name": "stdout",
     "output_type": "stream",
     "text": [
      "<!DOCTYPE html>\n",
      "<html class=\"client-nojs\" dir=\"ltr\" lang=\"en\">\n",
      "<head>\n",
      "<meta charset=\"utf-8\"/>\n",
      "<title>Category tree - Wikipedia</title>\n",
      "<script>document.documentElement.className = document.documentElement.className.replace( /(^|\\s)client-nojs(\\s|$)/, \"$1client-js$2\" );</script>\n",
      "<script>(window.RLQ=window.RLQ||[]).push(function(){mw.config.set({\"wgCanonicalNamespace\":\"Special\",\"wgCanonicalSpecialPageName\":\"CategoryTree\",\"wgNamespaceNumber\":-1,\"wgPageName\":\"Special:CategoryTree\",\"wgTitle\":\"CategoryTree\",\"wgCurRevisionId\":0,\"wgRevisionId\":0,\"wgArticleId\":0,\"wgIsArticle\":false,\"wgIsRedirect\":false,\"wgAction\":\"view\",\"wgUserName\":null,\"wgUserGroups\":[\"*\"],\"wgCategories\":[],\"wgBreakFrames\":true,\"wgPageContentLanguage\":\"en\",\"wgPageContentModel\":\"wikitext\",\"wgSeparatorTransformTable\":[\"\",\"\"],\"wgDigitTransformTable\":[\"\",\"\"],\"wgDefaultDateFormat\":\"dmy\",\"wgMonthNames\":[\"\",\"January\",\"February\",\"March\",\"April\",\"May\",\"June\",\"July\",\"August\",\"September\",\"October\",\"November\",\"December\"],\"wgMonthNamesShort\":[\"\",\"Jan\",\"Feb\",\"Mar\",\"Apr\",\"May\",\"Jun\",\"Jul\",\"Aug\",\"Sep\",\"Oct\",\"Nov\",\"Dec\"],\"wgRelevantPageName\":\"Special:CategoryTree\",\"wgRelevantArticleId\":0,\"wgRequestId\":\"W9X6QApAICAAAKo-7ecAAABV\",\"wgCSPNonce\":false,\"wgIsProbablyEditable\":false,\"wgRelevantPageIsProbablyEditable\":false,\"wgFlaggedRevsParams\":{\"tags\":{}},\"wgStableRevisionId\":null,\"wgCategoryTreePageCategoryOptions\":\"{\\\"mode\\\":20,\\\"hideprefix\\\":20,\\\"showcount\\\":true,\\\"namespaces\\\":false}\",\"wgWikiEditorEnabledModules\":[],\"wgBetaFeaturesFeatures\":[],\"wgMediaViewerOnClick\":true,\"wgMediaViewerEnabledByDefault\":true,\"wgPopupsShouldSendModuleToUser\":true,\"wgPopupsConflictsWithNavPopupGadget\":false,\"wgVisualEditor\":{\"pageLanguageCode\":\"en\",\"pageLanguageDir\":\"ltr\",\"pageVariantFallbacks\":\"en\",\"usePageImages\":true,\"usePageDescriptions\":true},\"wgMFExpandAllSectionsUserOption\":true,\"wgMFEnableFontChanger\":true,\"wgMFDisplayWikibaseDescriptions\":{\"search\":true,\"nearby\":true,\"watchlist\":true,\"tagline\":false},\"wgRelatedArticles\":null,\"wgRelatedArticlesUseCirrusSearch\":true,\"wgRelatedArticlesOnlyUseCirrusSearch\":false,\"wgULSCurrentAutonym\":\"English\",\"wgNoticeProject\":\"wikipedia\",\"wgCentralNoticeCookiesToDelete\":[],\"wgCentralNoticeCategoriesUsingLegacy\":[\"Fundraising\",\"fundraising\"],\"wgScoreNoteLanguages\":{\"arabic\":\"العربية\",\"catalan\":\"català\",\"deutsch\":\"Deutsch\",\"english\":\"English\",\"espanol\":\"español\",\"italiano\":\"italiano\",\"nederlands\":\"Nederlands\",\"norsk\":\"norsk\",\"portugues\":\"português\",\"suomi\":\"suomi\",\"svenska\":\"svenska\",\"vlaams\":\"West-Vlams\"},\"wgScoreDefaultNoteLanguage\":\"nederlands\",\"wgCentralAuthMobileDomain\":false,\"wgCodeMirrorEnabled\":true,\"wgVisualEditorToolbarScrollOffset\":0,\"wgVisualEditorUnsupportedEditParams\":[\"undo\",\"undoafter\",\"veswitched\"],\"wgEditSubmitButtonLabelPublish\":true});mw.loader.state({\"ext.gadget.charinsert-styles\":\"ready\",\"ext.globalCssJs.user.styles\":\"ready\",\"ext.globalCssJs.site.styles\":\"ready\",\"site.styles\":\"ready\",\"noscript\":\"ready\",\"user.styles\":\"ready\",\"ext.globalCssJs.user\":\"ready\",\"ext.globalCssJs.site\":\"ready\",\"user\":\"ready\",\"user.options\":\"ready\",\"user.tokens\":\"loading\",\"oojs-ui-core.styles\":\"ready\",\"oojs-ui.styles.indicators\":\"ready\",\"oojs-ui.styles.textures\":\"ready\",\"mediawiki.widgets.styles\":\"ready\",\"oojs-ui.styles.icons-content\":\"ready\",\"oojs-ui.styles.icons-alerts\":\"ready\",\"oojs-ui.styles.icons-interactions\":\"ready\",\"mediawiki.htmlform.ooui.styles\":\"ready\",\"mediawiki.htmlform.styles\":\"ready\",\"ext.categoryTree.css\":\"ready\",\"mediawiki.legacy.shared\":\"ready\",\"mediawiki.legacy.commonPrint\":\"ready\",\"ext.visualEditor.desktopArticleTarget.noscript\":\"ready\",\"ext.uls.interlanguage\":\"ready\",\"ext.wikimediaBadges\":\"ready\",\"ext.3d.styles\":\"ready\",\"mediawiki.skinning.interface\":\"ready\",\"skins.vector.styles\":\"ready\"});mw.loader.implement(\"user.tokens@0tffind\",function($,jQuery,require,module){/*@nomin*/mw.user.tokens.set({\"editToken\":\"+\\\\\",\"patrolToken\":\"+\\\\\",\"watchToken\":\"+\\\\\",\"csrfToken\":\"+\\\\\"});\n",
      "});RLPAGEMODULES=[\"mediawiki.htmlform\",\"mediawiki.htmlform.ooui\",\"mediawiki.widgets\",\"ext.categoryTree\",\"site\",\"mediawiki.page.startup\",\"mediawiki.user\",\"mediawiki.page.ready\",\"mediawiki.searchSuggest\",\"ext.gadget.teahouse\",\"ext.gadget.ReferenceTooltips\",\"ext.gadget.watchlist-notice\",\"ext.gadget.DRN-wizard\",\"ext.gadget.charinsert\",\"ext.gadget.refToolbar\",\"ext.gadget.extra-toolbar-buttons\",\"ext.gadget.switcher\",\"ext.centralauth.centralautologin\",\"ext.popups\",\"ext.visualEditor.desktopArticleTarget.init\",\"ext.visualEditor.targetLoader\",\"ext.eventLogging.subscriber\",\"ext.wikimediaEvents\",\"ext.navigationTiming\",\"ext.uls.eventlogger\",\"ext.uls.init\",\"ext.uls.compactlinks\",\"ext.uls.interface\",\"ext.centralNotice.geoIP\",\"skins.vector.js\"];mw.loader.load(RLPAGEMODULES);});</script>\n",
      "<link href=\"/w/load.php?debug=false&amp;lang=en&amp;modules=ext.3d.styles%7Cext.categoryTree.css%7Cext.uls.interlanguage%7Cext.visualEditor.desktopArticleTarget.noscript%7Cext.wikimediaBadges%7Cmediawiki.htmlform.ooui.styles%7Cmediawiki.htmlform.styles%7Cmediawiki.legacy.commonPrint%2Cshared%7Cmediawiki.skinning.interface%7Cmediawiki.widgets.styles%7Coojs-ui-core.styles%7Coojs-ui.styles.icons-alerts%2Cicons-content%2Cicons-interactions%2Cindicators%2Ctextures%7Cskins.vector.styles&amp;only=styles&amp;skin=vector\" rel=\"stylesheet\"/>\n",
      "<script async=\"\" src=\"/w/load.php?debug=false&amp;lang=en&amp;modules=startup&amp;only=scripts&amp;skin=vector\"></script>\n",
      "<meta content=\"\" name=\"ResourceLoaderDynamicStyles\"/>\n",
      "<link href=\"/w/load.php?debug=false&amp;lang=en&amp;modules=ext.gadget.charinsert-styles&amp;only=styles&amp;skin=vector\" rel=\"stylesheet\"/>\n",
      "<link href=\"/w/load.php?debug=false&amp;lang=en&amp;modules=site.styles&amp;only=styles&amp;skin=vector\" rel=\"stylesheet\"/>\n",
      "<meta content=\"MediaWiki 1.33.0-wmf.1\" name=\"generator\"/>\n",
      "<meta content=\"origin\" name=\"referrer\"/>\n",
      "<meta content=\"origin-when-crossorigin\" name=\"referrer\"/>\n",
      "<meta content=\"origin-when-cross-origin\" name=\"referrer\"/>\n",
      "<meta content=\"noindex,nofollow\" name=\"robots\"/>\n",
      "<link href=\"/static/apple-touch/wikipedia.png\" rel=\"apple-touch-icon\"/>\n",
      "<link href=\"/static/favicon/wikipedia.ico\" rel=\"shortcut icon\"/>\n",
      "<link href=\"/w/opensearch_desc.php\" rel=\"search\" title=\"Wikipedia (en)\" type=\"application/opensearchdescription+xml\"/>\n",
      "<link href=\"//en.wikipedia.org/w/api.php?action=rsd\" rel=\"EditURI\" type=\"application/rsd+xml\"/>\n",
      "<link href=\"//creativecommons.org/licenses/by-sa/3.0/\" rel=\"license\"/>\n",
      "<link href=\"/w/index.php?title=Special:RecentChanges&amp;feed=atom\" rel=\"alternate\" title=\"Wikipedia Atom feed\" type=\"application/atom+xml\"/>\n",
      "<link href=\"https://en.wikipedia.org/wiki/Special:CategoryTree?target=mathematics&amp;mode=all&amp;namespaces=&amp;title=Special%3ACategoryTree\" rel=\"canonical\"/>\n",
      "<link href=\"//login.wikimedia.org\" rel=\"dns-prefetch\"/>\n",
      "<!--[if lt IE 9]><script src=\"/w/load.php?debug=false&amp;lang=en&amp;modules=html5shiv&amp;only=scripts&amp;skin=vector&amp;sync=1\"></script><![endif]-->\n",
      "</head>\n",
      "<body class=\"mediawiki ltr sitedir-ltr mw-hide-empty-elt ns--1 ns-special mw-special-CategoryTree page-Special_CategoryTree rootpage-Special_CategoryTree skin-vector action-view\"> <div class=\"noprint\" id=\"mw-page-base\"></div>\n",
      "<div class=\"noprint\" id=\"mw-head-base\"></div>\n",
      "<div class=\"mw-body\" id=\"content\" role=\"main\">\n",
      "<a id=\"top\"></a>\n",
      "<div class=\"mw-body-content\" id=\"siteNotice\"><!-- CentralNotice --></div><div class=\"mw-indicators mw-body-content\">\n",
      "</div>\n",
      "<h1 class=\"firstHeading\" id=\"firstHeading\" lang=\"en\">Category tree</h1> <div class=\"mw-body-content\" id=\"bodyContent\">\n",
      "<div id=\"contentSub\"></div>\n",
      "<div id=\"jump-to-nav\"></div> <a class=\"mw-jump-link\" href=\"#mw-head\">Jump to navigation</a>\n",
      "<a class=\"mw-jump-link\" href=\"#p-search\">Jump to search</a>\n",
      "<div id=\"mw-content-text\"><p>Enter a category name to see its contents as a tree structure. If you have JavaScript disabled, this will not work. The number of pages displayed per category is limited to 200. \n",
      "</p><p>Discuss this <a href=\"/wiki/Help:Special_page\" title=\"Help:Special page\">special page</a> at <a href=\"/wiki/Wikipedia_talk:Special:CategoryTree\" title=\"Wikipedia talk:Special:CategoryTree\">Wikipedia talk:Special:CategoryTree</a>. See also <a class=\"extiw\" href=\"https://www.mediawiki.org/wiki/Extension:CategoryTree\" title=\"mw:Extension:CategoryTree\">mw:Extension:CategoryTree</a> and <a class=\"extiw\" href=\"https://www.mediawiki.org/wiki/Extension_talk:CategoryTree\" title=\"mw:Extension talk:CategoryTree\">mw:Extension talk:CategoryTree</a>.\n",
      "<br/>\n",
      "<br/>\n",
      "</p><div class=\"mw-htmlform-ooui-wrapper oo-ui-layout oo-ui-panelLayout oo-ui-panelLayout-padded oo-ui-panelLayout-framed\"><form action=\"/wiki/Special:CategoryTree\" class=\"mw-htmlform mw-htmlform-ooui oo-ui-layout oo-ui-formLayout\" enctype=\"application/x-www-form-urlencoded\" method=\"get\"><fieldset class=\"oo-ui-layout oo-ui-labelElement oo-ui-fieldsetLayout\"><legend class=\"oo-ui-fieldsetLayout-header\"><span class=\"oo-ui-iconElement-icon oo-ui-iconElement-noIcon\"></span><span class=\"oo-ui-labelElement-label\">Show category tree</span></legend><div class=\"oo-ui-fieldsetLayout-group\"><div aria-disabled=\"false\" class=\"oo-ui-widget oo-ui-widget-enabled\"><div class=\"mw-htmlform-field-HTMLTitleTextField mw-htmlform-field-autoinfuse oo-ui-layout oo-ui-labelElement oo-ui-fieldLayout oo-ui-fieldLayout-align-top\" data-mw-modules=\"mediawiki.widgets\" data-ooui='{\"_\":\"mw.htmlform.FieldLayout\",\"fieldWidget\":{\"tag\":\"mw-input-target\"},\"align\":\"top\",\"errors\":[],\"notices\":[],\"help\":\"\",\"helpInline\":true,\"$overlay\":true,\"label\":{\"html\":\"Category:\"},\"classes\":[\"mw-htmlform-field-HTMLTitleTextField\",\"\",\"mw-htmlform-field-autoinfuse\"]}' id=\"ooui-php-4\"><div class=\"oo-ui-fieldLayout-body\"><span class=\"oo-ui-fieldLayout-header\"><label class=\"oo-ui-labelElement-label\" for=\"ooui-php-1\">Category:</label></span><div class=\"oo-ui-fieldLayout-field\"><div aria-disabled=\"false\" class=\"oo-ui-widget oo-ui-widget-enabled oo-ui-inputWidget oo-ui-textInputWidget oo-ui-textInputWidget-type-text oo-ui-textInputWidget-php oo-ui-indicatorElement mw-widget-titleInputWidget\" data-ooui='{\"_\":\"mw.widgets.TitleInputWidget\",\"namespace\":14,\"relative\":false,\"$overlay\":true,\"maxLength\":255,\"required\":true,\"name\":\"target\",\"value\":\"mathematics\",\"inputId\":\"ooui-php-1\",\"indicator\":\"required\"}' id=\"mw-input-target\"><input aria-disabled=\"false\" aria-required=\"true\" class=\"oo-ui-inputWidget-input\" id=\"ooui-php-1\" maxlength=\"255\" name=\"target\" required=\"required\" tabindex=\"0\" type=\"text\" value=\"mathematics\"/><span class=\"oo-ui-iconElement-icon oo-ui-iconElement-noIcon\"></span><span class=\"oo-ui-indicatorElement-indicator oo-ui-indicator-required\"></span></div></div></div></div><div class=\"mw-htmlform-field-HTMLSelectField mw-htmlform-field-autoinfuse oo-ui-layout oo-ui-labelElement oo-ui-fieldLayout oo-ui-fieldLayout-align-top\" data-ooui='{\"_\":\"mw.htmlform.FieldLayout\",\"fieldWidget\":{\"tag\":\"mw-input-mode\"},\"align\":\"top\",\"errors\":[],\"notices\":[],\"help\":\"\",\"helpInline\":true,\"$overlay\":true,\"label\":{\"html\":\"Mode:\"},\"classes\":[\"mw-htmlform-field-HTMLSelectField\",\"\",\"mw-htmlform-field-autoinfuse\"]}' id=\"ooui-php-5\"><div class=\"oo-ui-fieldLayout-body\"><span class=\"oo-ui-fieldLayout-header\"><label class=\"oo-ui-labelElement-label\" for=\"ooui-php-2\">Mode:</label></span><div class=\"oo-ui-fieldLayout-field\"><div aria-disabled=\"false\" class=\"oo-ui-widget oo-ui-widget-enabled oo-ui-inputWidget oo-ui-dropdownInputWidget oo-ui-dropdownInputWidget-php\" data-ooui='{\"_\":\"OO.ui.DropdownInputWidget\",\"options\":[{\"data\":\"categories\",\"label\":\"categories only\"},{\"data\":\"pages\",\"label\":\"pages except files\"},{\"data\":\"all\",\"label\":\"all pages\"}],\"$overlay\":true,\"name\":\"mode\",\"value\":\"all\",\"inputId\":\"ooui-php-2\"}' id=\"mw-input-mode\"><select aria-disabled=\"false\" class=\"oo-ui-inputWidget-input oo-ui-indicator-down\" id=\"ooui-php-2\" name=\"mode\" tabindex=\"0\"><option value=\"categories\">categories only</option><option value=\"pages\">pages except files</option><option selected=\"selected\" value=\"all\">all pages</option></select></div></div></div></div><div class=\"mw-htmlform-field-HTMLSelectNamespace mw-htmlform-field-autoinfuse oo-ui-layout oo-ui-labelElement oo-ui-fieldLayout oo-ui-fieldLayout-align-top\" data-mw-modules=\"mediawiki.widgets\" data-ooui='{\"_\":\"mw.htmlform.FieldLayout\",\"fieldWidget\":{\"tag\":\"mw-input-namespaces\"},\"align\":\"top\",\"errors\":[],\"notices\":[],\"help\":\"\",\"helpInline\":true,\"$overlay\":true,\"label\":{\"html\":\"Namespace:\"},\"classes\":[\"mw-htmlform-field-HTMLSelectNamespace\",\"\",\"mw-htmlform-field-autoinfuse\"]}' id=\"ooui-php-6\"><div class=\"oo-ui-fieldLayout-body\"><span class=\"oo-ui-fieldLayout-header\"><label class=\"oo-ui-labelElement-label\" for=\"ooui-php-3\">Namespace:</label></span><div class=\"oo-ui-fieldLayout-field\"><div aria-disabled=\"false\" class=\"oo-ui-widget oo-ui-widget-enabled oo-ui-inputWidget oo-ui-dropdownInputWidget oo-ui-dropdownInputWidget-php mw-widget-namespaceInputWidget\" data-ooui='{\"_\":\"mw.widgets.NamespaceInputWidget\",\"includeAllValue\":\"\",\"exclude\":[],\"dropdown\":{\"$overlay\":true},\"name\":\"namespaces\",\"inputId\":\"ooui-php-3\"}' id=\"mw-input-namespaces\"><select aria-disabled=\"false\" class=\"oo-ui-inputWidget-input oo-ui-indicator-down\" id=\"ooui-php-3\" name=\"namespaces\" tabindex=\"0\"><option selected=\"selected\" value=\"\">all</option><option value=\"0\">(Article)</option><option value=\"1\">Talk</option><option value=\"2\">User</option><option value=\"3\">User talk</option><option value=\"4\">Wikipedia</option><option value=\"5\">Wikipedia talk</option><option value=\"6\">File</option><option value=\"7\">File talk</option><option value=\"8\">MediaWiki</option><option value=\"9\">MediaWiki talk</option><option value=\"10\">Template</option><option value=\"11\">Template talk</option><option value=\"12\">Help</option><option value=\"13\">Help talk</option><option value=\"14\">Category</option><option value=\"15\">Category talk</option><option value=\"100\">Portal</option><option value=\"101\">Portal talk</option><option value=\"108\">Book</option><option value=\"109\">Book talk</option><option value=\"118\">Draft</option><option value=\"119\">Draft talk</option><option value=\"710\">TimedText</option><option value=\"711\">TimedText talk</option><option value=\"828\">Module</option><option value=\"829\">Module talk</option><option value=\"2300\">Gadget</option><option value=\"2301\">Gadget talk</option><option value=\"2302\">Gadget definition</option><option value=\"2303\">Gadget definition talk</option></select></div></div></div></div><input name=\"title\" type=\"hidden\" value=\"Special:CategoryTree\"/>\n",
      "<div class=\"mw-htmlform-submit-buttons\">\n",
      "<span aria-disabled=\"false\" class=\"mw-htmlform-submit oo-ui-widget oo-ui-widget-enabled oo-ui-flaggedElement-primary oo-ui-flaggedElement-progressive oo-ui-inputWidget oo-ui-buttonElement oo-ui-buttonElement-framed oo-ui-labelElement oo-ui-buttonInputWidget\" data-ooui='{\"_\":\"OO.ui.ButtonInputWidget\",\"type\":\"submit\",\"value\":\"Show tree\",\"flags\":[\"primary\",\"progressive\"],\"label\":\"Show tree\",\"classes\":[\"mw-htmlform-submit\"]}' id=\"ooui-php-7\"><button aria-disabled=\"false\" class=\"oo-ui-inputWidget-input oo-ui-buttonElement-button\" tabindex=\"0\" type=\"submit\" value=\"Show tree\"><span class=\"oo-ui-iconElement-icon oo-ui-iconElement-noIcon oo-ui-image-invert\"></span><span class=\"oo-ui-labelElement-label\">Show tree</span><span class=\"oo-ui-indicatorElement-indicator oo-ui-indicatorElement-noIndicator oo-ui-image-invert\"></span></button></span></div>\n",
      "</div></div></fieldset></form></div><div class=\"CategoryTreeParents\">Parents: <span class=\"CategoryTreeItem\"><a class=\"CategoryTreeLabel\" href=\"/w/index.php?title=Special:CategoryTree&amp;target=Abstraction&amp;mode=20&amp;hideprefix=20&amp;showcount=1\">Abstraction</a></span> | <span class=\"CategoryTreeItem\"><a class=\"CategoryTreeLabel\" href=\"/w/index.php?title=Special:CategoryTree&amp;target=Categories_requiring_diffusion&amp;mode=20&amp;hideprefix=20&amp;showcount=1\">Categories requiring diffusion</a></span> | <span class=\"CategoryTreeItem\"><a class=\"CategoryTreeLabel\" href=\"/w/index.php?title=Special:CategoryTree&amp;target=Formal_sciences&amp;mode=20&amp;hideprefix=20&amp;showcount=1\">Formal sciences</a></span> | <span class=\"CategoryTreeItem\"><a class=\"CategoryTreeLabel\" href=\"/w/index.php?title=Special:CategoryTree&amp;target=Main_topic_classifications&amp;mode=20&amp;hideprefix=20&amp;showcount=1\">Main topic classifications</a></span> | <span class=\"CategoryTreeItem\"><a class=\"CategoryTreeLabel\" href=\"/w/index.php?title=Special:CategoryTree&amp;target=Structure&amp;mode=20&amp;hideprefix=20&amp;showcount=1\">Structure</a></span></div><div class=\"CategoryTreeResult\"><div class=\"CategoryTreeSection\"><div class=\"CategoryTreeItem\"><span class=\"CategoryTreeBullet\"><span class=\"CategoryTreeToggle\" data-ct-loaded=\"1\" data-ct-state=\"expanded\" data-ct-title=\"Mathematics\">▼</span> </span> <a class=\"CategoryTreeLabel CategoryTreeLabelNs14 CategoryTreeLabelCategory\" href=\"/wiki/Category:Mathematics\">Mathematics</a>‎ <span dir=\"ltr\" title=\"Contains 23 subcategories, 13 pages, and 0 files\">(23 C, 13 P)</span></div><div class=\"CategoryTreeChildren\" style=\"display:block\"><div class=\"CategoryTreeSection\"><div class=\"CategoryTreeItem\"><span class=\"CategoryTreeBullet\"><span class=\"CategoryTreeToggle\" data-ct-state=\"collapsed\" data-ct-title=\"Fields_of_mathematics\">►</span> </span> <a class=\"CategoryTreeLabel CategoryTreeLabelNs14 CategoryTreeLabelCategory\" href=\"/wiki/Category:Fields_of_mathematics\">Fields of mathematics</a>‎ <span dir=\"ltr\" title=\"Contains 23 subcategories, 7 pages, and 0 files\">(23 C, 7 P)</span></div><div class=\"CategoryTreeChildren\" style=\"display:none\"></div></div><div class=\"CategoryTreeSection\"><div class=\"CategoryTreeItem\"><span class=\"CategoryTreeBullet\"><span class=\"CategoryTreeToggle\" data-ct-state=\"collapsed\" data-ct-title=\"Mathematics-related_lists\">►</span> </span> <a class=\"CategoryTreeLabel CategoryTreeLabelNs14 CategoryTreeLabelCategory\" href=\"/wiki/Category:Mathematics-related_lists\">Mathematics-related lists</a>‎ <span dir=\"ltr\" title=\"Contains 4 subcategories, 272 pages, and 0 files\">(4 C, 272 P)</span></div><div class=\"CategoryTreeChildren\" style=\"display:none\"></div></div><div class=\"CategoryTreeSection\"><div class=\"CategoryTreeItem\"><span class=\"CategoryTreeBullet\"><span class=\"CategoryTreeToggle\" data-ct-state=\"collapsed\" data-ct-title=\"Mathematicians\">►</span> </span> <a class=\"CategoryTreeLabel CategoryTreeLabelNs14 CategoryTreeLabelCategory\" href=\"/wiki/Category:Mathematicians\">Mathematicians</a>‎ <span dir=\"ltr\" title=\"Contains 27 subcategories, 13 pages, and 1 file\">(27 C, 13 P, 1 F)</span></div><div class=\"CategoryTreeChildren\" style=\"display:none\"></div></div><div class=\"CategoryTreeSection\"><div class=\"CategoryTreeItem\"><span class=\"CategoryTreeBullet\"><span class=\"CategoryTreeToggle\" data-ct-state=\"collapsed\" data-ct-title=\"Mathematical_concepts\">►</span> </span> <a class=\"CategoryTreeLabel CategoryTreeLabelNs14 CategoryTreeLabelCategory\" href=\"/wiki/Category:Mathematical_concepts\">Mathematical concepts</a>‎ <span dir=\"ltr\" title=\"Contains 8 subcategories, 20 pages, and 0 files\">(8 C, 20 P)</span></div><div class=\"CategoryTreeChildren\" style=\"display:none\"></div></div><div class=\"CategoryTreeSection\"><div class=\"CategoryTreeItem\"><span class=\"CategoryTreeBullet\"><span class=\"CategoryTreeToggle\" data-ct-state=\"collapsed\" data-ct-title=\"Mathematics_and_culture\">►</span> </span> <a class=\"CategoryTreeLabel CategoryTreeLabelNs14 CategoryTreeLabelCategory\" href=\"/wiki/Category:Mathematics_and_culture\">Mathematics and culture</a>‎ <span dir=\"ltr\" title=\"Contains 19 subcategories, 38 pages, and 0 files\">(19 C, 38 P)</span></div><div class=\"CategoryTreeChildren\" style=\"display:none\"></div></div><div class=\"CategoryTreeSection\"><div class=\"CategoryTreeItem\"><span class=\"CategoryTreeBullet\"><span class=\"CategoryTreeToggle\" data-ct-state=\"collapsed\" data-ct-title=\"Mathematical_examples\">►</span> </span> <a class=\"CategoryTreeLabel CategoryTreeLabelNs14 CategoryTreeLabelCategory\" href=\"/wiki/Category:Mathematical_examples\">Mathematical examples</a>‎ <span dir=\"ltr\" title=\"Contains 0 subcategories, 11 pages, and 0 files\">(11 P)</span></div><div class=\"CategoryTreeChildren\" style=\"display:none\"></div></div><div class=\"CategoryTreeSection\"><div class=\"CategoryTreeItem\"><span class=\"CategoryTreeBullet\"><span class=\"CategoryTreeToggle\" data-ct-state=\"collapsed\" data-ct-title=\"History_of_mathematics\">►</span> </span> <a class=\"CategoryTreeLabel CategoryTreeLabelNs14 CategoryTreeLabelCategory\" href=\"/wiki/Category:History_of_mathematics\">History of mathematics</a>‎ <span dir=\"ltr\" title=\"Contains 16 subcategories, 136 pages, and 0 files\">(16 C, 136 P)</span></div><div class=\"CategoryTreeChildren\" style=\"display:none\"></div></div><div class=\"CategoryTreeSection\"><div class=\"CategoryTreeItem\"><span class=\"CategoryTreeBullet\"><span class=\"CategoryTreeToggle\" data-ct-state=\"collapsed\" data-ct-title=\"Mathematics_and_art\">►</span> </span> <a class=\"CategoryTreeLabel CategoryTreeLabelNs14 CategoryTreeLabelCategory\" href=\"/wiki/Category:Mathematics_and_art\">Mathematics and art</a>‎ <span dir=\"ltr\" title=\"Contains 4 subcategories, 19 pages, and 0 files\">(4 C, 19 P)</span></div><div class=\"CategoryTreeChildren\" style=\"display:none\"></div></div><div class=\"CategoryTreeSection\"><div class=\"CategoryTreeItem\"><span class=\"CategoryTreeBullet\"><span class=\"CategoryTreeToggle\" data-ct-state=\"collapsed\" data-ct-title=\"Mathematical_modeling\">►</span> </span> <a class=\"CategoryTreeLabel CategoryTreeLabelNs14 CategoryTreeLabelCategory\" href=\"/wiki/Category:Mathematical_modeling\">Mathematical modeling</a>‎ <span dir=\"ltr\" title=\"Contains 9 subcategories, 104 pages, and 0 files\">(9 C, 104 P)</span></div><div class=\"CategoryTreeChildren\" style=\"display:none\"></div></div><div class=\"CategoryTreeSection\"><div class=\"CategoryTreeItem\"><span class=\"CategoryTreeBullet\"><span class=\"CategoryTreeToggle\" data-ct-state=\"collapsed\" data-ct-title=\"Mathematical_notation\">►</span> </span> <a class=\"CategoryTreeLabel CategoryTreeLabelNs14 CategoryTreeLabelCategory\" href=\"/wiki/Category:Mathematical_notation\">Mathematical notation</a>‎ <span dir=\"ltr\" title=\"Contains 6 subcategories, 102 pages, and 0 files\">(6 C, 102 P)</span></div><div class=\"CategoryTreeChildren\" style=\"display:none\"></div></div><div class=\"CategoryTreeSection\"><div class=\"CategoryTreeItem\"><span class=\"CategoryTreeBullet\"><span class=\"CategoryTreeToggle\" data-ct-state=\"collapsed\" data-ct-title=\"Mathematical_science_occupations\">►</span> </span> <a class=\"CategoryTreeLabel CategoryTreeLabelNs14 CategoryTreeLabelCategory\" href=\"/wiki/Category:Mathematical_science_occupations\">Mathematical science occupations</a>‎ <span dir=\"ltr\" title=\"Contains 1 subcategory, 10 pages, and 0 files\">(1 C, 10 P)</span></div><div class=\"CategoryTreeChildren\" style=\"display:none\"></div></div><div class=\"CategoryTreeSection\"><div class=\"CategoryTreeItem\"><span class=\"CategoryTreeBullet\"><span class=\"CategoryTreeToggle\" data-ct-state=\"collapsed\" data-ct-title=\"Philosophy_of_mathematics\">►</span> </span> <a class=\"CategoryTreeLabel CategoryTreeLabelNs14 CategoryTreeLabelCategory\" href=\"/wiki/Category:Philosophy_of_mathematics\">Philosophy of mathematics</a>‎ <span dir=\"ltr\" title=\"Contains 16 subcategories, 50 pages, and 0 files\">(16 C, 50 P)</span></div><div class=\"CategoryTreeChildren\" style=\"display:none\"></div></div><div class=\"CategoryTreeSection\"><div class=\"CategoryTreeItem\"><span class=\"CategoryTreeBullet\"><span class=\"CategoryTreeToggle\" data-ct-state=\"collapsed\" data-ct-title=\"Mathematical_projects\">►</span> </span> <a class=\"CategoryTreeLabel CategoryTreeLabelNs14 CategoryTreeLabelCategory\" href=\"/wiki/Category:Mathematical_projects\">Mathematical projects</a>‎ <span dir=\"ltr\" title=\"Contains 0 subcategories, 6 pages, and 0 files\">(6 P)</span></div><div class=\"CategoryTreeChildren\" style=\"display:none\"></div></div><div class=\"CategoryTreeSection\"><div class=\"CategoryTreeItem\"><span class=\"CategoryTreeBullet\"><span class=\"CategoryTreeToggle\" data-ct-state=\"collapsed\" data-ct-title=\"Mathematical_proofs\">►</span> </span> <a class=\"CategoryTreeLabel CategoryTreeLabelNs14 CategoryTreeLabelCategory\" href=\"/wiki/Category:Mathematical_proofs\">Mathematical proofs</a>‎ <span dir=\"ltr\" title=\"Contains 8 subcategories, 37 pages, and 0 files\">(8 C, 37 P)</span></div><div class=\"CategoryTreeChildren\" style=\"display:none\"></div></div><div class=\"CategoryTreeSection\"><div class=\"CategoryTreeItem\"><span class=\"CategoryTreeBullet\"><span class=\"CategoryTreeToggle\" data-ct-state=\"collapsed\" data-ct-title=\"Pseudomathematics\">►</span> </span> <a class=\"CategoryTreeLabel CategoryTreeLabelNs14 CategoryTreeLabelCategory\" href=\"/wiki/Category:Pseudomathematics\">Pseudomathematics</a>‎ <span dir=\"ltr\" title=\"Contains 0 subcategories, 6 pages, and 0 files\">(6 P)</span></div><div class=\"CategoryTreeChildren\" style=\"display:none\"></div></div><div class=\"CategoryTreeSection\"><div class=\"CategoryTreeItem\"><span class=\"CategoryTreeBullet\"><span class=\"CategoryTreeToggle\" data-ct-state=\"collapsed\" data-ct-title=\"Set_indices_on_mathematics\">►</span> </span> <a class=\"CategoryTreeLabel CategoryTreeLabelNs14 CategoryTreeLabelCategory\" href=\"/wiki/Category:Set_indices_on_mathematics\">Set indices on mathematics</a>‎ <span dir=\"ltr\" title=\"Contains 0 subcategories, 42 pages, and 0 files\">(42 P)</span></div><div class=\"CategoryTreeChildren\" style=\"display:none\"></div></div><div class=\"CategoryTreeSection\"><div class=\"CategoryTreeItem\"><span class=\"CategoryTreeBullet\"><span class=\"CategoryTreeToggle\" data-ct-state=\"collapsed\" data-ct-title=\"Mathematical_terminology\">►</span> </span> <a class=\"CategoryTreeLabel CategoryTreeLabelNs14 CategoryTreeLabelCategory\" href=\"/wiki/Category:Mathematical_terminology\">Mathematical terminology</a>‎ <span dir=\"ltr\" title=\"Contains 1 subcategory, 107 pages, and 0 files\">(1 C, 107 P)</span></div><div class=\"CategoryTreeChildren\" style=\"display:none\"></div></div><div class=\"CategoryTreeSection\"><div class=\"CategoryTreeItem\"><span class=\"CategoryTreeBullet\"><span class=\"CategoryTreeToggle\" data-ct-state=\"collapsed\" data-ct-title=\"Mathematics_textbooks\">►</span> </span> <a class=\"CategoryTreeLabel CategoryTreeLabelNs14 CategoryTreeLabelCategory\" href=\"/wiki/Category:Mathematics_textbooks\">Mathematics textbooks</a>‎ <span dir=\"ltr\" title=\"Contains 0 subcategories, 33 pages, and 0 files\">(33 P)</span></div><div class=\"CategoryTreeChildren\" style=\"display:none\"></div></div><div class=\"CategoryTreeSection\"><div class=\"CategoryTreeItem\"><span class=\"CategoryTreeBullet\"><span class=\"CategoryTreeToggle\" data-ct-state=\"collapsed\" data-ct-title=\"Mathematical_theorems\">►</span> </span> <a class=\"CategoryTreeLabel CategoryTreeLabelNs14 CategoryTreeLabelCategory\" href=\"/wiki/Category:Mathematical_theorems\">Mathematical theorems</a>‎ <span dir=\"ltr\" title=\"Contains 18 subcategories, 34 pages, and 0 files\">(18 C, 34 P)</span></div><div class=\"CategoryTreeChildren\" style=\"display:none\"></div></div><div class=\"CategoryTreeSection\"><div class=\"CategoryTreeItem\"><span class=\"CategoryTreeBullet\"><span class=\"CategoryTreeToggle\" data-ct-state=\"collapsed\" data-ct-title=\"Mathematical_tools\">►</span> </span> <a class=\"CategoryTreeLabel CategoryTreeLabelNs14 CategoryTreeLabelCategory\" href=\"/wiki/Category:Mathematical_tools\">Mathematical tools</a>‎ <span dir=\"ltr\" title=\"Contains 4 subcategories, 35 pages, and 0 files\">(4 C, 35 P)</span></div><div class=\"CategoryTreeChildren\" style=\"display:none\"></div></div><div class=\"CategoryTreeSection\"><div class=\"CategoryTreeItem\"><span class=\"CategoryTreeBullet\"><span class=\"CategoryTreeToggle\" data-ct-state=\"collapsed\" data-ct-title=\"Women_in_mathematics\">►</span> </span> <a class=\"CategoryTreeLabel CategoryTreeLabelNs14 CategoryTreeLabelCategory\" href=\"/wiki/Category:Women_in_mathematics\">Women in mathematics</a>‎ <span dir=\"ltr\" title=\"Contains 2 subcategories, 15 pages, and 0 files\">(2 C, 15 P)</span></div><div class=\"CategoryTreeChildren\" style=\"display:none\"></div></div><div class=\"CategoryTreeSection\"><div class=\"CategoryTreeItem\"><span class=\"CategoryTreeBullet\"><span class=\"CategoryTreeToggle\" data-ct-state=\"collapsed\" data-ct-title=\"Wikipedia_books_on_mathematics\">►</span> </span> <a class=\"CategoryTreeLabel CategoryTreeLabelNs14 CategoryTreeLabelCategory\" href=\"/wiki/Category:Wikipedia_books_on_mathematics\">Wikipedia books on mathematics</a>‎ <span dir=\"ltr\" title=\"Contains 1 subcategory, 29 pages, and 0 files\">(1 C, 29 P)</span></div><div class=\"CategoryTreeChildren\" style=\"display:none\"></div></div><div class=\"CategoryTreeSection\"><div class=\"CategoryTreeItem\"><span class=\"CategoryTreeBullet\"><span class=\"CategoryTreeToggle\" data-ct-state=\"collapsed\" data-ct-title=\"Mathematics_stubs\">►</span> </span> <a class=\"CategoryTreeLabel CategoryTreeLabelNs14 CategoryTreeLabelCategory\" href=\"/wiki/Category:Mathematics_stubs\">Mathematics stubs</a>‎ <span dir=\"ltr\" title=\"Contains 17 subcategories, 176 pages, and 0 files\">(17 C, 176 P)</span></div><div class=\"CategoryTreeChildren\" style=\"display:none\"></div></div><div class=\"CategoryTreeSection\"><div class=\"CategoryTreeItem\"><span class=\"CategoryTreeBullet\"> </span> <a class=\"CategoryTreeLabel CategoryTreeLabelNs0 CategoryTreeLabelPage\" href=\"/wiki/Mathematics\">Mathematics</a></div><div class=\"CategoryTreeChildren\" style=\"display:none\"></div></div><div class=\"CategoryTreeSection\"><div class=\"CategoryTreeItem\"><span class=\"CategoryTreeBullet\"> </span> <a class=\"CategoryTreeLabel CategoryTreeLabelNs0 CategoryTreeLabelPage\" href=\"/wiki/Outline_of_mathematics\">Outline of mathematics</a></div><div class=\"CategoryTreeChildren\" style=\"display:none\"></div></div><div class=\"CategoryTreeSection\"><div class=\"CategoryTreeItem\"><span class=\"CategoryTreeBullet\"> </span> <a class=\"CategoryTreeLabel CategoryTreeLabelNs100 CategoryTreeLabelPage\" href=\"/wiki/Portal:Contents/Mathematics_and_logic\">Portal:Contents/Mathematics and logic</a></div><div class=\"CategoryTreeChildren\" style=\"display:none\"></div></div><div class=\"CategoryTreeSection\"><div class=\"CategoryTreeItem\"><span class=\"CategoryTreeBullet\"> </span> <a class=\"CategoryTreeLabel CategoryTreeLabelNs0 CategoryTreeLabelPage\" href=\"/wiki/Analysis_of_Boolean_functions\">Analysis of Boolean functions</a></div><div class=\"CategoryTreeChildren\" style=\"display:none\"></div></div><div class=\"CategoryTreeSection\"><div class=\"CategoryTreeItem\"><span class=\"CategoryTreeBullet\"> </span> <a class=\"CategoryTreeLabel CategoryTreeLabelNs0 CategoryTreeLabelPage\" href=\"/wiki/The_Archimedeans\">The Archimedeans</a></div><div class=\"CategoryTreeChildren\" style=\"display:none\"></div></div><div class=\"CategoryTreeSection\"><div class=\"CategoryTreeItem\"><span class=\"CategoryTreeBullet\"> </span> <a class=\"CategoryTreeLabel CategoryTreeLabelNs0 CategoryTreeLabelPage\" href=\"/wiki/Archives_of_American_Mathematics\">Archives of American Mathematics</a></div><div class=\"CategoryTreeChildren\" style=\"display:none\"></div></div><div class=\"CategoryTreeSection\"><div class=\"CategoryTreeItem\"><span class=\"CategoryTreeBullet\"> </span> <a class=\"CategoryTreeLabel CategoryTreeLabelNs0 CategoryTreeLabelPage\" href=\"/wiki/Data-driven_control_system\">Data-driven control system</a></div><div class=\"CategoryTreeChildren\" style=\"display:none\"></div></div><div class=\"CategoryTreeSection\"><div class=\"CategoryTreeItem\"><span class=\"CategoryTreeBullet\"> </span> <a class=\"CategoryTreeLabel CategoryTreeLabelNs0 CategoryTreeLabelPage\" href=\"/wiki/Discrete_Logarithm_Problem_(DLP)\">Discrete Logarithm Problem (DLP)</a></div><div class=\"CategoryTreeChildren\" style=\"display:none\"></div></div><div class=\"CategoryTreeSection\"><div class=\"CategoryTreeItem\"><span class=\"CategoryTreeBullet\"> </span> <a class=\"CategoryTreeLabel CategoryTreeLabelNs0 CategoryTreeLabelPage\" href=\"/wiki/Legendre_moment\">Legendre moment</a></div><div class=\"CategoryTreeChildren\" style=\"display:none\"></div></div><div class=\"CategoryTreeSection\"><div class=\"CategoryTreeItem\"><span class=\"CategoryTreeBullet\"> </span> <a class=\"CategoryTreeLabel CategoryTreeLabelNs0 CategoryTreeLabelPage\" href=\"/wiki/Locally_nilpotent_derivation\">Locally nilpotent derivation</a></div><div class=\"CategoryTreeChildren\" style=\"display:none\"></div></div><div class=\"CategoryTreeSection\"><div class=\"CategoryTreeItem\"><span class=\"CategoryTreeBullet\"> </span> <a class=\"CategoryTreeLabel CategoryTreeLabelNs0 CategoryTreeLabelPage\" href=\"/wiki/Mediation-driven_attachment_model\">Mediation-driven attachment model</a></div><div class=\"CategoryTreeChildren\" style=\"display:none\"></div></div><div class=\"CategoryTreeSection\"><div class=\"CategoryTreeItem\"><span class=\"CategoryTreeBullet\"> </span> <a class=\"CategoryTreeLabel CategoryTreeLabelNs0 CategoryTreeLabelPage\" href=\"/wiki/Proof_School\">Proof School</a></div><div class=\"CategoryTreeChildren\" style=\"display:none\"></div></div><div class=\"CategoryTreeSection\"><div class=\"CategoryTreeItem\"><span class=\"CategoryTreeBullet\"> </span> <a class=\"CategoryTreeLabel CategoryTreeLabelNs0 CategoryTreeLabelPage\" href=\"/wiki/Quota_rule\">Quota rule</a></div><div class=\"CategoryTreeChildren\" style=\"display:none\"></div></div></div></div></div><noscript><img alt=\"\" height=\"1\" src=\"//en.wikipedia.org/wiki/Special:CentralAutoLogin/start?type=1x1\" style=\"border: none; position: absolute;\" title=\"\" width=\"1\"/></noscript></div> <div class=\"printfooter\">\n",
      "\t\t\t\t\t\tRetrieved from \"<a dir=\"ltr\" href=\"https://en.wikipedia.org/wiki/Special:CategoryTree\">https://en.wikipedia.org/wiki/Special:CategoryTree</a>\"\t\t\t\t\t</div>\n",
      "<div class=\"catlinks catlinks-allhidden\" data-mw=\"interface\" id=\"catlinks\"></div> <div class=\"visualClear\"></div>\n",
      "</div>\n",
      "</div>\n",
      "<div id=\"mw-navigation\">\n",
      "<h2>Navigation menu</h2>\n",
      "<div id=\"mw-head\">\n",
      "<div aria-labelledby=\"p-personal-label\" class=\"\" id=\"p-personal\" role=\"navigation\">\n",
      "<h3 id=\"p-personal-label\">Personal tools</h3>\n",
      "<ul>\n",
      "<li id=\"pt-anonuserpage\">Not logged in</li><li id=\"pt-anontalk\"><a accesskey=\"n\" href=\"/wiki/Special:MyTalk\" title=\"Discussion about edits from this IP address [n]\">Talk</a></li><li id=\"pt-anoncontribs\"><a accesskey=\"y\" href=\"/wiki/Special:MyContributions\" title=\"A list of edits made from this IP address [y]\">Contributions</a></li><li id=\"pt-createaccount\"><a href=\"/w/index.php?title=Special:CreateAccount&amp;returnto=Special%3ACategoryTree&amp;returntoquery=target%3Dmathematics%26mode%3Dall%26namespaces%3D\" title=\"You are encouraged to create an account and log in; however, it is not mandatory\">Create account</a></li><li id=\"pt-login\"><a accesskey=\"o\" href=\"/w/index.php?title=Special:UserLogin&amp;returnto=Special%3ACategoryTree&amp;returntoquery=target%3Dmathematics%26mode%3Dall%26namespaces%3D\" title=\"You're encouraged to log in; however, it's not mandatory. [o]\">Log in</a></li> </ul>\n",
      "</div>\n",
      "<div id=\"left-navigation\">\n",
      "<div aria-labelledby=\"p-namespaces-label\" class=\"vectorTabs\" id=\"p-namespaces\" role=\"navigation\">\n",
      "<h3 id=\"p-namespaces-label\">Namespaces</h3>\n",
      "<ul>\n",
      "<li class=\"selected\" id=\"ca-nstab-special\"><span><a href=\"/wiki/Special:CategoryTree?target=mathematics&amp;mode=all&amp;namespaces=&amp;title=Special%3ACategoryTree\" title=\"This is a special page which you cannot edit\">Special page</a></span></li> </ul>\n",
      "</div>\n",
      "<div aria-labelledby=\"p-variants-label\" class=\"vectorMenu emptyPortlet\" id=\"p-variants\" role=\"navigation\">\n",
      "<input aria-labelledby=\"p-variants-label\" class=\"vectorMenuCheckbox\" type=\"checkbox\"/>\n",
      "<h3 id=\"p-variants-label\">\n",
      "<span>Variants</span>\n",
      "</h3>\n",
      "<div class=\"menu\">\n",
      "<ul>\n",
      "</ul>\n",
      "</div>\n",
      "</div>\n",
      "</div>\n",
      "<div id=\"right-navigation\">\n",
      "<div aria-labelledby=\"p-views-label\" class=\"vectorTabs emptyPortlet\" id=\"p-views\" role=\"navigation\">\n",
      "<h3 id=\"p-views-label\">Views</h3>\n",
      "<ul>\n",
      "</ul>\n",
      "</div>\n",
      "<div aria-labelledby=\"p-cactions-label\" class=\"vectorMenu emptyPortlet\" id=\"p-cactions\" role=\"navigation\">\n",
      "<input aria-labelledby=\"p-cactions-label\" class=\"vectorMenuCheckbox\" type=\"checkbox\"/>\n",
      "<h3 id=\"p-cactions-label\"><span>More</span></h3>\n",
      "<div class=\"menu\">\n",
      "<ul>\n",
      "</ul>\n",
      "</div>\n",
      "</div>\n",
      "<div id=\"p-search\" role=\"search\">\n",
      "<h3>\n",
      "<label for=\"searchInput\">Search</label>\n",
      "</h3>\n",
      "<form action=\"/w/index.php\" id=\"searchform\">\n",
      "<div id=\"simpleSearch\">\n",
      "<input accesskey=\"f\" id=\"searchInput\" name=\"search\" placeholder=\"Search Wikipedia\" title=\"Search Wikipedia [f]\" type=\"search\"/><input name=\"title\" type=\"hidden\" value=\"Special:Search\"/><input class=\"searchButton mw-fallbackSearchButton\" id=\"mw-searchButton\" name=\"fulltext\" title=\"Search Wikipedia for this text\" type=\"submit\" value=\"Search\"/><input class=\"searchButton\" id=\"searchButton\" name=\"go\" title=\"Go to a page with this exact name if it exists\" type=\"submit\" value=\"Go\"/> </div>\n",
      "</form>\n",
      "</div>\n",
      "</div>\n",
      "</div>\n",
      "<div id=\"mw-panel\">\n",
      "<div id=\"p-logo\" role=\"banner\"><a class=\"mw-wiki-logo\" href=\"/wiki/Main_Page\" title=\"Visit the main page\"></a></div>\n",
      "<div aria-labelledby=\"p-navigation-label\" class=\"portal\" id=\"p-navigation\" role=\"navigation\">\n",
      "<h3 id=\"p-navigation-label\">Navigation</h3>\n",
      "<div class=\"body\">\n",
      "<ul>\n",
      "<li id=\"n-mainpage-description\"><a accesskey=\"z\" href=\"/wiki/Main_Page\" title=\"Visit the main page [z]\">Main page</a></li><li id=\"n-contents\"><a href=\"/wiki/Portal:Contents\" title=\"Guides to browsing Wikipedia\">Contents</a></li><li id=\"n-featuredcontent\"><a href=\"/wiki/Portal:Featured_content\" title=\"Featured content – the best of Wikipedia\">Featured content</a></li><li id=\"n-currentevents\"><a href=\"/wiki/Portal:Current_events\" title=\"Find background information on current events\">Current events</a></li><li id=\"n-randompage\"><a accesskey=\"x\" href=\"/wiki/Special:Random\" title=\"Load a random article [x]\">Random article</a></li><li id=\"n-sitesupport\"><a href=\"https://donate.wikimedia.org/wiki/Special:FundraiserRedirector?utm_source=donate&amp;utm_medium=sidebar&amp;utm_campaign=C13_en.wikipedia.org&amp;uselang=en\" title=\"Support us\">Donate to Wikipedia</a></li><li id=\"n-shoplink\"><a href=\"//shop.wikimedia.org\" title=\"Visit the Wikipedia store\">Wikipedia store</a></li> </ul>\n",
      "</div>\n",
      "</div>\n",
      "<div aria-labelledby=\"p-interaction-label\" class=\"portal\" id=\"p-interaction\" role=\"navigation\">\n",
      "<h3 id=\"p-interaction-label\">Interaction</h3>\n",
      "<div class=\"body\">\n",
      "<ul>\n",
      "<li id=\"n-help\"><a href=\"/wiki/Help:Contents\" title=\"Guidance on how to use and edit Wikipedia\">Help</a></li><li id=\"n-aboutsite\"><a href=\"/wiki/Wikipedia:About\" title=\"Find out about Wikipedia\">About Wikipedia</a></li><li id=\"n-portal\"><a href=\"/wiki/Wikipedia:Community_portal\" title=\"About the project, what you can do, where to find things\">Community portal</a></li><li id=\"n-recentchanges\"><a accesskey=\"r\" href=\"/wiki/Special:RecentChanges\" title=\"A list of recent changes in the wiki [r]\">Recent changes</a></li><li id=\"n-contactpage\"><a href=\"//en.wikipedia.org/wiki/Wikipedia:Contact_us\" title=\"How to contact Wikipedia\">Contact page</a></li> </ul>\n",
      "</div>\n",
      "</div>\n",
      "<div aria-labelledby=\"p-tb-label\" class=\"portal\" id=\"p-tb\" role=\"navigation\">\n",
      "<h3 id=\"p-tb-label\">Tools</h3>\n",
      "<div class=\"body\">\n",
      "<ul>\n",
      "<li id=\"t-upload\"><a accesskey=\"u\" href=\"/wiki/Wikipedia:File_Upload_Wizard\" title=\"Upload files [u]\">Upload file</a></li><li id=\"t-specialpages\"><a accesskey=\"q\" href=\"/wiki/Special:SpecialPages\" title=\"A list of all special pages [q]\">Special pages</a></li><li id=\"t-print\"><a accesskey=\"p\" href=\"/w/index.php?title=Special:CategoryTree&amp;target=mathematics&amp;mode=all&amp;namespaces=&amp;printable=yes\" rel=\"alternate\" title=\"Printable version of this page [p]\">Printable version</a></li> </ul>\n",
      "</div>\n",
      "</div>\n",
      "<div aria-labelledby=\"p-lang-label\" class=\"portal\" id=\"p-lang\" role=\"navigation\">\n",
      "<h3 id=\"p-lang-label\">Languages</h3>\n",
      "<div class=\"body\">\n",
      "<ul>\n",
      "</ul>\n",
      "</div>\n",
      "</div>\n",
      "</div>\n",
      "</div>\n",
      "<div id=\"footer\" role=\"contentinfo\">\n",
      "<ul id=\"footer-places\">\n",
      "<li id=\"footer-places-privacy\"><a class=\"extiw\" href=\"https://foundation.wikimedia.org/wiki/Privacy_policy\" title=\"wmf:Privacy policy\">Privacy policy</a></li>\n",
      "<li id=\"footer-places-about\"><a href=\"/wiki/Wikipedia:About\" title=\"Wikipedia:About\">About Wikipedia</a></li>\n",
      "<li id=\"footer-places-disclaimer\"><a href=\"/wiki/Wikipedia:General_disclaimer\" title=\"Wikipedia:General disclaimer\">Disclaimers</a></li>\n",
      "<li id=\"footer-places-contact\"><a href=\"//en.wikipedia.org/wiki/Wikipedia:Contact_us\">Contact Wikipedia</a></li>\n",
      "<li id=\"footer-places-developers\"><a href=\"https://www.mediawiki.org/wiki/Special:MyLanguage/How_to_contribute\">Developers</a></li>\n",
      "<li id=\"footer-places-cookiestatement\"><a href=\"https://foundation.wikimedia.org/wiki/Cookie_statement\">Cookie statement</a></li>\n",
      "<li id=\"footer-places-mobileview\"><a class=\"noprint stopMobileRedirectToggle\" href=\"//en.m.wikipedia.org/w/index.php?title=Special:CategoryTree&amp;target=mathematics&amp;mode=all&amp;namespaces=&amp;mobileaction=toggle_view_mobile\">Mobile view</a></li>\n",
      "</ul>\n",
      "<ul class=\"noprint\" id=\"footer-icons\">\n",
      "<li id=\"footer-copyrightico\">\n",
      "<a href=\"https://wikimediafoundation.org/\"><img alt=\"Wikimedia Foundation\" height=\"31\" src=\"/static/images/wikimedia-button.png\" srcset=\"/static/images/wikimedia-button-1.5x.png 1.5x, /static/images/wikimedia-button-2x.png 2x\" width=\"88\"/></a> </li>\n",
      "<li id=\"footer-poweredbyico\">\n",
      "<a href=\"//www.mediawiki.org/\"><img alt=\"Powered by MediaWiki\" height=\"31\" src=\"/static/images/poweredby_mediawiki_88x31.png\" srcset=\"/static/images/poweredby_mediawiki_132x47.png 1.5x, /static/images/poweredby_mediawiki_176x62.png 2x\" width=\"88\"/></a> </li>\n",
      "</ul>\n",
      "<div style=\"clear: both;\"></div>\n",
      "</div>\n",
      "<script>(window.RLQ=window.RLQ||[]).push(function(){mw.config.set({\"wgBackendResponseTime\":102,\"wgHostname\":\"mw1330\"});});</script>\n",
      "</body>\n",
      "</html>\n",
      "\n"
     ]
    }
   ],
   "source": [
    "print(soup)"
   ]
  },
  {
   "cell_type": "code",
   "execution_count": 32,
   "metadata": {},
   "outputs": [
    {
     "data": {
      "text/plain": [
       "[]"
      ]
     },
     "execution_count": 32,
     "metadata": {},
     "output_type": "execute_result"
    }
   ],
   "source": [
    "dataList"
   ]
  },
  {
   "cell_type": "code",
   "execution_count": 18,
   "metadata": {},
   "outputs": [
    {
     "name": "stdout",
     "output_type": "stream",
     "text": [
      "<!DOCTYPE html>\n",
      "<html class=\"client-nojs\" dir=\"ltr\" lang=\"en\">\n",
      "<head>\n",
      "<meta charset=\"utf-8\"/>\n",
      "<title>Category tree - Wikipedia</title>\n",
      "<script>document.documentElement.className = document.documentElement.className.replace( /(^|\\s)client-nojs(\\s|$)/, \"$1client-js$2\" );</script>\n",
      "<script>(window.RLQ=window.RLQ||[]).push(function(){mw.config.set({\"wgCanonicalNamespace\":\"Special\",\"wgCanonicalSpecialPageName\":\"CategoryTree\",\"wgNamespaceNumber\":-1,\"wgPageName\":\"Special:CategoryTree\",\"wgTitle\":\"CategoryTree\",\"wgCurRevisionId\":0,\"wgRevisionId\":0,\"wgArticleId\":0,\"wgIsArticle\":false,\"wgIsRedirect\":false,\"wgAction\":\"view\",\"wgUserName\":null,\"wgUserGroups\":[\"*\"],\"wgCategories\":[],\"wgBreakFrames\":true,\"wgPageContentLanguage\":\"en\",\"wgPageContentModel\":\"wikitext\",\"wgSeparatorTransformTable\":[\"\",\"\"],\"wgDigitTransformTable\":[\"\",\"\"],\"wgDefaultDateFormat\":\"dmy\",\"wgMonthNames\":[\"\",\"January\",\"February\",\"March\",\"April\",\"May\",\"June\",\"July\",\"August\",\"September\",\"October\",\"November\",\"December\"],\"wgMonthNamesShort\":[\"\",\"Jan\",\"Feb\",\"Mar\",\"Apr\",\"May\",\"Jun\",\"Jul\",\"Aug\",\"Sep\",\"Oct\",\"Nov\",\"Dec\"],\"wgRelevantPageName\":\"Special:CategoryTree\",\"wgRelevantArticleId\":0,\"wgRequestId\":\"W9X8ZApAMEkAAJt2ZXEAAACN\",\"wgCSPNonce\":false,\"wgIsProbablyEditable\":false,\"wgRelevantPageIsProbablyEditable\":false,\"wgFlaggedRevsParams\":{\"tags\":{}},\"wgStableRevisionId\":null,\"wgCategoryTreePageCategoryOptions\":\"{\\\"mode\\\":20,\\\"hideprefix\\\":20,\\\"showcount\\\":true,\\\"namespaces\\\":false}\",\"wgWikiEditorEnabledModules\":[],\"wgBetaFeaturesFeatures\":[],\"wgMediaViewerOnClick\":true,\"wgMediaViewerEnabledByDefault\":true,\"wgPopupsShouldSendModuleToUser\":true,\"wgPopupsConflictsWithNavPopupGadget\":false,\"wgVisualEditor\":{\"pageLanguageCode\":\"en\",\"pageLanguageDir\":\"ltr\",\"pageVariantFallbacks\":\"en\",\"usePageImages\":true,\"usePageDescriptions\":true},\"wgMFExpandAllSectionsUserOption\":true,\"wgMFEnableFontChanger\":true,\"wgMFDisplayWikibaseDescriptions\":{\"search\":true,\"nearby\":true,\"watchlist\":true,\"tagline\":false},\"wgRelatedArticles\":null,\"wgRelatedArticlesUseCirrusSearch\":true,\"wgRelatedArticlesOnlyUseCirrusSearch\":false,\"wgULSCurrentAutonym\":\"English\",\"wgNoticeProject\":\"wikipedia\",\"wgCentralNoticeCookiesToDelete\":[],\"wgCentralNoticeCategoriesUsingLegacy\":[\"Fundraising\",\"fundraising\"],\"wgScoreNoteLanguages\":{\"arabic\":\"العربية\",\"catalan\":\"català\",\"deutsch\":\"Deutsch\",\"english\":\"English\",\"espanol\":\"español\",\"italiano\":\"italiano\",\"nederlands\":\"Nederlands\",\"norsk\":\"norsk\",\"portugues\":\"português\",\"suomi\":\"suomi\",\"svenska\":\"svenska\",\"vlaams\":\"West-Vlams\"},\"wgScoreDefaultNoteLanguage\":\"nederlands\",\"wgCentralAuthMobileDomain\":false,\"wgCodeMirrorEnabled\":true,\"wgVisualEditorToolbarScrollOffset\":0,\"wgVisualEditorUnsupportedEditParams\":[\"undo\",\"undoafter\",\"veswitched\"],\"wgEditSubmitButtonLabelPublish\":true});mw.loader.state({\"ext.gadget.charinsert-styles\":\"ready\",\"ext.globalCssJs.user.styles\":\"ready\",\"ext.globalCssJs.site.styles\":\"ready\",\"site.styles\":\"ready\",\"noscript\":\"ready\",\"user.styles\":\"ready\",\"ext.globalCssJs.user\":\"ready\",\"ext.globalCssJs.site\":\"ready\",\"user\":\"ready\",\"user.options\":\"ready\",\"user.tokens\":\"loading\",\"oojs-ui-core.styles\":\"ready\",\"oojs-ui.styles.indicators\":\"ready\",\"oojs-ui.styles.textures\":\"ready\",\"mediawiki.widgets.styles\":\"ready\",\"oojs-ui.styles.icons-content\":\"ready\",\"oojs-ui.styles.icons-alerts\":\"ready\",\"oojs-ui.styles.icons-interactions\":\"ready\",\"mediawiki.htmlform.ooui.styles\":\"ready\",\"mediawiki.htmlform.styles\":\"ready\",\"ext.categoryTree.css\":\"ready\",\"mediawiki.legacy.shared\":\"ready\",\"mediawiki.legacy.commonPrint\":\"ready\",\"ext.visualEditor.desktopArticleTarget.noscript\":\"ready\",\"ext.uls.interlanguage\":\"ready\",\"ext.wikimediaBadges\":\"ready\",\"ext.3d.styles\":\"ready\",\"mediawiki.skinning.interface\":\"ready\",\"skins.vector.styles\":\"ready\"});mw.loader.implement(\"user.tokens@0tffind\",function($,jQuery,require,module){/*@nomin*/mw.user.tokens.set({\"editToken\":\"+\\\\\",\"patrolToken\":\"+\\\\\",\"watchToken\":\"+\\\\\",\"csrfToken\":\"+\\\\\"});\n",
      "});RLPAGEMODULES=[\"mediawiki.htmlform\",\"mediawiki.htmlform.ooui\",\"mediawiki.widgets\",\"ext.categoryTree\",\"site\",\"mediawiki.page.startup\",\"mediawiki.user\",\"mediawiki.page.ready\",\"mediawiki.searchSuggest\",\"ext.gadget.teahouse\",\"ext.gadget.ReferenceTooltips\",\"ext.gadget.watchlist-notice\",\"ext.gadget.DRN-wizard\",\"ext.gadget.charinsert\",\"ext.gadget.refToolbar\",\"ext.gadget.extra-toolbar-buttons\",\"ext.gadget.switcher\",\"ext.centralauth.centralautologin\",\"ext.popups\",\"ext.visualEditor.desktopArticleTarget.init\",\"ext.visualEditor.targetLoader\",\"ext.eventLogging.subscriber\",\"ext.wikimediaEvents\",\"ext.navigationTiming\",\"ext.uls.eventlogger\",\"ext.uls.init\",\"ext.uls.compactlinks\",\"ext.uls.interface\",\"ext.centralNotice.geoIP\",\"skins.vector.js\"];mw.loader.load(RLPAGEMODULES);});</script>\n",
      "<link href=\"/w/load.php?debug=false&amp;lang=en&amp;modules=ext.3d.styles%7Cext.categoryTree.css%7Cext.uls.interlanguage%7Cext.visualEditor.desktopArticleTarget.noscript%7Cext.wikimediaBadges%7Cmediawiki.htmlform.ooui.styles%7Cmediawiki.htmlform.styles%7Cmediawiki.legacy.commonPrint%2Cshared%7Cmediawiki.skinning.interface%7Cmediawiki.widgets.styles%7Coojs-ui-core.styles%7Coojs-ui.styles.icons-alerts%2Cicons-content%2Cicons-interactions%2Cindicators%2Ctextures%7Cskins.vector.styles&amp;only=styles&amp;skin=vector\" rel=\"stylesheet\"/>\n",
      "<script async=\"\" src=\"/w/load.php?debug=false&amp;lang=en&amp;modules=startup&amp;only=scripts&amp;skin=vector\"></script>\n",
      "<meta content=\"\" name=\"ResourceLoaderDynamicStyles\"/>\n",
      "<link href=\"/w/load.php?debug=false&amp;lang=en&amp;modules=ext.gadget.charinsert-styles&amp;only=styles&amp;skin=vector\" rel=\"stylesheet\"/>\n",
      "<link href=\"/w/load.php?debug=false&amp;lang=en&amp;modules=site.styles&amp;only=styles&amp;skin=vector\" rel=\"stylesheet\"/>\n",
      "<meta content=\"MediaWiki 1.33.0-wmf.1\" name=\"generator\"/>\n",
      "<meta content=\"origin\" name=\"referrer\"/>\n",
      "<meta content=\"origin-when-crossorigin\" name=\"referrer\"/>\n",
      "<meta content=\"origin-when-cross-origin\" name=\"referrer\"/>\n",
      "<meta content=\"noindex,nofollow\" name=\"robots\"/>\n",
      "<link href=\"/static/apple-touch/wikipedia.png\" rel=\"apple-touch-icon\"/>\n",
      "<link href=\"/static/favicon/wikipedia.ico\" rel=\"shortcut icon\"/>\n",
      "<link href=\"/w/opensearch_desc.php\" rel=\"search\" title=\"Wikipedia (en)\" type=\"application/opensearchdescription+xml\"/>\n",
      "<link href=\"//en.wikipedia.org/w/api.php?action=rsd\" rel=\"EditURI\" type=\"application/rsd+xml\"/>\n",
      "<link href=\"//creativecommons.org/licenses/by-sa/3.0/\" rel=\"license\"/>\n",
      "<link href=\"/w/index.php?title=Special:RecentChanges&amp;feed=atom\" rel=\"alternate\" title=\"Wikipedia Atom feed\" type=\"application/atom+xml\"/>\n",
      "<link href=\"https://en.wikipedia.org/wiki/Special:CategoryTree?target=mathematics&amp;mode=all&amp;namespaces=&amp;title=Special%3ACategoryTree\" rel=\"canonical\"/>\n",
      "<link href=\"//login.wikimedia.org\" rel=\"dns-prefetch\"/>\n",
      "<!--[if lt IE 9]><script src=\"/w/load.php?debug=false&amp;lang=en&amp;modules=html5shiv&amp;only=scripts&amp;skin=vector&amp;sync=1\"></script><![endif]-->\n",
      "</head>\n",
      "<body class=\"mediawiki ltr sitedir-ltr mw-hide-empty-elt ns--1 ns-special mw-special-CategoryTree page-Special_CategoryTree rootpage-Special_CategoryTree skin-vector action-view\"> <div class=\"noprint\" id=\"mw-page-base\"></div>\n",
      "<div class=\"noprint\" id=\"mw-head-base\"></div>\n",
      "<div class=\"mw-body\" id=\"content\" role=\"main\">\n",
      "<a id=\"top\"></a>\n",
      "<div class=\"mw-body-content\" id=\"siteNotice\"><!-- CentralNotice --></div><div class=\"mw-indicators mw-body-content\">\n",
      "</div>\n",
      "<h1 class=\"firstHeading\" id=\"firstHeading\" lang=\"en\">Category tree</h1> <div class=\"mw-body-content\" id=\"bodyContent\">\n",
      "<div id=\"contentSub\"></div>\n",
      "<div id=\"jump-to-nav\"></div> <a class=\"mw-jump-link\" href=\"#mw-head\">Jump to navigation</a>\n",
      "<a class=\"mw-jump-link\" href=\"#p-search\">Jump to search</a>\n",
      "<div id=\"mw-content-text\"><p>Enter a category name to see its contents as a tree structure. If you have JavaScript disabled, this will not work. The number of pages displayed per category is limited to 200. \n",
      "</p><p>Discuss this <a href=\"/wiki/Help:Special_page\" title=\"Help:Special page\">special page</a> at <a href=\"/wiki/Wikipedia_talk:Special:CategoryTree\" title=\"Wikipedia talk:Special:CategoryTree\">Wikipedia talk:Special:CategoryTree</a>. See also <a class=\"extiw\" href=\"https://www.mediawiki.org/wiki/Extension:CategoryTree\" title=\"mw:Extension:CategoryTree\">mw:Extension:CategoryTree</a> and <a class=\"extiw\" href=\"https://www.mediawiki.org/wiki/Extension_talk:CategoryTree\" title=\"mw:Extension talk:CategoryTree\">mw:Extension talk:CategoryTree</a>.\n",
      "<br/>\n",
      "<br/>\n",
      "</p><div class=\"mw-htmlform-ooui-wrapper oo-ui-layout oo-ui-panelLayout oo-ui-panelLayout-padded oo-ui-panelLayout-framed\"><form action=\"/wiki/Special:CategoryTree\" class=\"mw-htmlform mw-htmlform-ooui oo-ui-layout oo-ui-formLayout\" enctype=\"application/x-www-form-urlencoded\" method=\"get\"><fieldset class=\"oo-ui-layout oo-ui-labelElement oo-ui-fieldsetLayout\"><legend class=\"oo-ui-fieldsetLayout-header\"><span class=\"oo-ui-iconElement-icon oo-ui-iconElement-noIcon\"></span><span class=\"oo-ui-labelElement-label\">Show category tree</span></legend><div class=\"oo-ui-fieldsetLayout-group\"><div aria-disabled=\"false\" class=\"oo-ui-widget oo-ui-widget-enabled\"><div class=\"mw-htmlform-field-HTMLTitleTextField mw-htmlform-field-autoinfuse oo-ui-layout oo-ui-labelElement oo-ui-fieldLayout oo-ui-fieldLayout-align-top\" data-mw-modules=\"mediawiki.widgets\" data-ooui='{\"_\":\"mw.htmlform.FieldLayout\",\"fieldWidget\":{\"tag\":\"mw-input-target\"},\"align\":\"top\",\"errors\":[],\"notices\":[],\"help\":\"\",\"helpInline\":true,\"$overlay\":true,\"label\":{\"html\":\"Category:\"},\"classes\":[\"mw-htmlform-field-HTMLTitleTextField\",\"\",\"mw-htmlform-field-autoinfuse\"]}' id=\"ooui-php-4\"><div class=\"oo-ui-fieldLayout-body\"><span class=\"oo-ui-fieldLayout-header\"><label class=\"oo-ui-labelElement-label\" for=\"ooui-php-1\">Category:</label></span><div class=\"oo-ui-fieldLayout-field\"><div aria-disabled=\"false\" class=\"oo-ui-widget oo-ui-widget-enabled oo-ui-inputWidget oo-ui-textInputWidget oo-ui-textInputWidget-type-text oo-ui-textInputWidget-php oo-ui-indicatorElement mw-widget-titleInputWidget\" data-ooui='{\"_\":\"mw.widgets.TitleInputWidget\",\"namespace\":14,\"relative\":false,\"$overlay\":true,\"maxLength\":255,\"required\":true,\"name\":\"target\",\"value\":\"mathematics\",\"inputId\":\"ooui-php-1\",\"indicator\":\"required\"}' id=\"mw-input-target\"><input aria-disabled=\"false\" aria-required=\"true\" class=\"oo-ui-inputWidget-input\" id=\"ooui-php-1\" maxlength=\"255\" name=\"target\" required=\"required\" tabindex=\"0\" type=\"text\" value=\"mathematics\"/><span class=\"oo-ui-iconElement-icon oo-ui-iconElement-noIcon\"></span><span class=\"oo-ui-indicatorElement-indicator oo-ui-indicator-required\"></span></div></div></div></div><div class=\"mw-htmlform-field-HTMLSelectField mw-htmlform-field-autoinfuse oo-ui-layout oo-ui-labelElement oo-ui-fieldLayout oo-ui-fieldLayout-align-top\" data-ooui='{\"_\":\"mw.htmlform.FieldLayout\",\"fieldWidget\":{\"tag\":\"mw-input-mode\"},\"align\":\"top\",\"errors\":[],\"notices\":[],\"help\":\"\",\"helpInline\":true,\"$overlay\":true,\"label\":{\"html\":\"Mode:\"},\"classes\":[\"mw-htmlform-field-HTMLSelectField\",\"\",\"mw-htmlform-field-autoinfuse\"]}' id=\"ooui-php-5\"><div class=\"oo-ui-fieldLayout-body\"><span class=\"oo-ui-fieldLayout-header\"><label class=\"oo-ui-labelElement-label\" for=\"ooui-php-2\">Mode:</label></span><div class=\"oo-ui-fieldLayout-field\"><div aria-disabled=\"false\" class=\"oo-ui-widget oo-ui-widget-enabled oo-ui-inputWidget oo-ui-dropdownInputWidget oo-ui-dropdownInputWidget-php\" data-ooui='{\"_\":\"OO.ui.DropdownInputWidget\",\"options\":[{\"data\":\"categories\",\"label\":\"categories only\"},{\"data\":\"pages\",\"label\":\"pages except files\"},{\"data\":\"all\",\"label\":\"all pages\"}],\"$overlay\":true,\"name\":\"mode\",\"value\":\"all\",\"inputId\":\"ooui-php-2\"}' id=\"mw-input-mode\"><select aria-disabled=\"false\" class=\"oo-ui-inputWidget-input oo-ui-indicator-down\" id=\"ooui-php-2\" name=\"mode\" tabindex=\"0\"><option value=\"categories\">categories only</option><option value=\"pages\">pages except files</option><option selected=\"selected\" value=\"all\">all pages</option></select></div></div></div></div><div class=\"mw-htmlform-field-HTMLSelectNamespace mw-htmlform-field-autoinfuse oo-ui-layout oo-ui-labelElement oo-ui-fieldLayout oo-ui-fieldLayout-align-top\" data-mw-modules=\"mediawiki.widgets\" data-ooui='{\"_\":\"mw.htmlform.FieldLayout\",\"fieldWidget\":{\"tag\":\"mw-input-namespaces\"},\"align\":\"top\",\"errors\":[],\"notices\":[],\"help\":\"\",\"helpInline\":true,\"$overlay\":true,\"label\":{\"html\":\"Namespace:\"},\"classes\":[\"mw-htmlform-field-HTMLSelectNamespace\",\"\",\"mw-htmlform-field-autoinfuse\"]}' id=\"ooui-php-6\"><div class=\"oo-ui-fieldLayout-body\"><span class=\"oo-ui-fieldLayout-header\"><label class=\"oo-ui-labelElement-label\" for=\"ooui-php-3\">Namespace:</label></span><div class=\"oo-ui-fieldLayout-field\"><div aria-disabled=\"false\" class=\"oo-ui-widget oo-ui-widget-enabled oo-ui-inputWidget oo-ui-dropdownInputWidget oo-ui-dropdownInputWidget-php mw-widget-namespaceInputWidget\" data-ooui='{\"_\":\"mw.widgets.NamespaceInputWidget\",\"includeAllValue\":\"\",\"exclude\":[],\"dropdown\":{\"$overlay\":true},\"name\":\"namespaces\",\"inputId\":\"ooui-php-3\"}' id=\"mw-input-namespaces\"><select aria-disabled=\"false\" class=\"oo-ui-inputWidget-input oo-ui-indicator-down\" id=\"ooui-php-3\" name=\"namespaces\" tabindex=\"0\"><option selected=\"selected\" value=\"\">all</option><option value=\"0\">(Article)</option><option value=\"1\">Talk</option><option value=\"2\">User</option><option value=\"3\">User talk</option><option value=\"4\">Wikipedia</option><option value=\"5\">Wikipedia talk</option><option value=\"6\">File</option><option value=\"7\">File talk</option><option value=\"8\">MediaWiki</option><option value=\"9\">MediaWiki talk</option><option value=\"10\">Template</option><option value=\"11\">Template talk</option><option value=\"12\">Help</option><option value=\"13\">Help talk</option><option value=\"14\">Category</option><option value=\"15\">Category talk</option><option value=\"100\">Portal</option><option value=\"101\">Portal talk</option><option value=\"108\">Book</option><option value=\"109\">Book talk</option><option value=\"118\">Draft</option><option value=\"119\">Draft talk</option><option value=\"710\">TimedText</option><option value=\"711\">TimedText talk</option><option value=\"828\">Module</option><option value=\"829\">Module talk</option><option value=\"2300\">Gadget</option><option value=\"2301\">Gadget talk</option><option value=\"2302\">Gadget definition</option><option value=\"2303\">Gadget definition talk</option></select></div></div></div></div><input name=\"title\" type=\"hidden\" value=\"Special:CategoryTree\"/>\n",
      "<div class=\"mw-htmlform-submit-buttons\">\n",
      "<span aria-disabled=\"false\" class=\"mw-htmlform-submit oo-ui-widget oo-ui-widget-enabled oo-ui-flaggedElement-primary oo-ui-flaggedElement-progressive oo-ui-inputWidget oo-ui-buttonElement oo-ui-buttonElement-framed oo-ui-labelElement oo-ui-buttonInputWidget\" data-ooui='{\"_\":\"OO.ui.ButtonInputWidget\",\"type\":\"submit\",\"value\":\"Show tree\",\"flags\":[\"primary\",\"progressive\"],\"label\":\"Show tree\",\"classes\":[\"mw-htmlform-submit\"]}' id=\"ooui-php-7\"><button aria-disabled=\"false\" class=\"oo-ui-inputWidget-input oo-ui-buttonElement-button\" tabindex=\"0\" type=\"submit\" value=\"Show tree\"><span class=\"oo-ui-iconElement-icon oo-ui-iconElement-noIcon oo-ui-image-invert\"></span><span class=\"oo-ui-labelElement-label\">Show tree</span><span class=\"oo-ui-indicatorElement-indicator oo-ui-indicatorElement-noIndicator oo-ui-image-invert\"></span></button></span></div>\n",
      "</div></div></fieldset></form></div><div class=\"CategoryTreeParents\">Parents: <span class=\"CategoryTreeItem\"><a class=\"CategoryTreeLabel\" href=\"/w/index.php?title=Special:CategoryTree&amp;target=Abstraction&amp;mode=20&amp;hideprefix=20&amp;showcount=1\">Abstraction</a></span> | <span class=\"CategoryTreeItem\"><a class=\"CategoryTreeLabel\" href=\"/w/index.php?title=Special:CategoryTree&amp;target=Categories_requiring_diffusion&amp;mode=20&amp;hideprefix=20&amp;showcount=1\">Categories requiring diffusion</a></span> | <span class=\"CategoryTreeItem\"><a class=\"CategoryTreeLabel\" href=\"/w/index.php?title=Special:CategoryTree&amp;target=Formal_sciences&amp;mode=20&amp;hideprefix=20&amp;showcount=1\">Formal sciences</a></span> | <span class=\"CategoryTreeItem\"><a class=\"CategoryTreeLabel\" href=\"/w/index.php?title=Special:CategoryTree&amp;target=Main_topic_classifications&amp;mode=20&amp;hideprefix=20&amp;showcount=1\">Main topic classifications</a></span> | <span class=\"CategoryTreeItem\"><a class=\"CategoryTreeLabel\" href=\"/w/index.php?title=Special:CategoryTree&amp;target=Structure&amp;mode=20&amp;hideprefix=20&amp;showcount=1\">Structure</a></span></div><div class=\"CategoryTreeResult\"><div class=\"CategoryTreeSection\"><div class=\"CategoryTreeItem\"><span class=\"CategoryTreeBullet\"><span class=\"CategoryTreeToggle\" data-ct-loaded=\"1\" data-ct-state=\"expanded\" data-ct-title=\"Mathematics\">▼</span> </span> <a class=\"CategoryTreeLabel CategoryTreeLabelNs14 CategoryTreeLabelCategory\" href=\"/wiki/Category:Mathematics\">Mathematics</a>‎ <span dir=\"ltr\" title=\"Contains 23 subcategories, 13 pages, and 0 files\">(23 C, 13 P)</span></div><div class=\"CategoryTreeChildren\" style=\"display:block\"><div class=\"CategoryTreeSection\"><div class=\"CategoryTreeItem\"><span class=\"CategoryTreeBullet\"><span class=\"CategoryTreeToggle\" data-ct-state=\"collapsed\" data-ct-title=\"Fields_of_mathematics\">►</span> </span> <a class=\"CategoryTreeLabel CategoryTreeLabelNs14 CategoryTreeLabelCategory\" href=\"/wiki/Category:Fields_of_mathematics\">Fields of mathematics</a>‎ <span dir=\"ltr\" title=\"Contains 23 subcategories, 7 pages, and 0 files\">(23 C, 7 P)</span></div><div class=\"CategoryTreeChildren\" style=\"display:none\"></div></div><div class=\"CategoryTreeSection\"><div class=\"CategoryTreeItem\"><span class=\"CategoryTreeBullet\"><span class=\"CategoryTreeToggle\" data-ct-state=\"collapsed\" data-ct-title=\"Mathematics-related_lists\">►</span> </span> <a class=\"CategoryTreeLabel CategoryTreeLabelNs14 CategoryTreeLabelCategory\" href=\"/wiki/Category:Mathematics-related_lists\">Mathematics-related lists</a>‎ <span dir=\"ltr\" title=\"Contains 4 subcategories, 272 pages, and 0 files\">(4 C, 272 P)</span></div><div class=\"CategoryTreeChildren\" style=\"display:none\"></div></div><div class=\"CategoryTreeSection\"><div class=\"CategoryTreeItem\"><span class=\"CategoryTreeBullet\"><span class=\"CategoryTreeToggle\" data-ct-state=\"collapsed\" data-ct-title=\"Mathematicians\">►</span> </span> <a class=\"CategoryTreeLabel CategoryTreeLabelNs14 CategoryTreeLabelCategory\" href=\"/wiki/Category:Mathematicians\">Mathematicians</a>‎ <span dir=\"ltr\" title=\"Contains 27 subcategories, 13 pages, and 1 file\">(27 C, 13 P, 1 F)</span></div><div class=\"CategoryTreeChildren\" style=\"display:none\"></div></div><div class=\"CategoryTreeSection\"><div class=\"CategoryTreeItem\"><span class=\"CategoryTreeBullet\"><span class=\"CategoryTreeToggle\" data-ct-state=\"collapsed\" data-ct-title=\"Mathematical_concepts\">►</span> </span> <a class=\"CategoryTreeLabel CategoryTreeLabelNs14 CategoryTreeLabelCategory\" href=\"/wiki/Category:Mathematical_concepts\">Mathematical concepts</a>‎ <span dir=\"ltr\" title=\"Contains 8 subcategories, 20 pages, and 0 files\">(8 C, 20 P)</span></div><div class=\"CategoryTreeChildren\" style=\"display:none\"></div></div><div class=\"CategoryTreeSection\"><div class=\"CategoryTreeItem\"><span class=\"CategoryTreeBullet\"><span class=\"CategoryTreeToggle\" data-ct-state=\"collapsed\" data-ct-title=\"Mathematics_and_culture\">►</span> </span> <a class=\"CategoryTreeLabel CategoryTreeLabelNs14 CategoryTreeLabelCategory\" href=\"/wiki/Category:Mathematics_and_culture\">Mathematics and culture</a>‎ <span dir=\"ltr\" title=\"Contains 19 subcategories, 38 pages, and 0 files\">(19 C, 38 P)</span></div><div class=\"CategoryTreeChildren\" style=\"display:none\"></div></div><div class=\"CategoryTreeSection\"><div class=\"CategoryTreeItem\"><span class=\"CategoryTreeBullet\"><span class=\"CategoryTreeToggle\" data-ct-state=\"collapsed\" data-ct-title=\"Mathematical_examples\">►</span> </span> <a class=\"CategoryTreeLabel CategoryTreeLabelNs14 CategoryTreeLabelCategory\" href=\"/wiki/Category:Mathematical_examples\">Mathematical examples</a>‎ <span dir=\"ltr\" title=\"Contains 0 subcategories, 11 pages, and 0 files\">(11 P)</span></div><div class=\"CategoryTreeChildren\" style=\"display:none\"></div></div><div class=\"CategoryTreeSection\"><div class=\"CategoryTreeItem\"><span class=\"CategoryTreeBullet\"><span class=\"CategoryTreeToggle\" data-ct-state=\"collapsed\" data-ct-title=\"History_of_mathematics\">►</span> </span> <a class=\"CategoryTreeLabel CategoryTreeLabelNs14 CategoryTreeLabelCategory\" href=\"/wiki/Category:History_of_mathematics\">History of mathematics</a>‎ <span dir=\"ltr\" title=\"Contains 16 subcategories, 136 pages, and 0 files\">(16 C, 136 P)</span></div><div class=\"CategoryTreeChildren\" style=\"display:none\"></div></div><div class=\"CategoryTreeSection\"><div class=\"CategoryTreeItem\"><span class=\"CategoryTreeBullet\"><span class=\"CategoryTreeToggle\" data-ct-state=\"collapsed\" data-ct-title=\"Mathematics_and_art\">►</span> </span> <a class=\"CategoryTreeLabel CategoryTreeLabelNs14 CategoryTreeLabelCategory\" href=\"/wiki/Category:Mathematics_and_art\">Mathematics and art</a>‎ <span dir=\"ltr\" title=\"Contains 4 subcategories, 19 pages, and 0 files\">(4 C, 19 P)</span></div><div class=\"CategoryTreeChildren\" style=\"display:none\"></div></div><div class=\"CategoryTreeSection\"><div class=\"CategoryTreeItem\"><span class=\"CategoryTreeBullet\"><span class=\"CategoryTreeToggle\" data-ct-state=\"collapsed\" data-ct-title=\"Mathematical_modeling\">►</span> </span> <a class=\"CategoryTreeLabel CategoryTreeLabelNs14 CategoryTreeLabelCategory\" href=\"/wiki/Category:Mathematical_modeling\">Mathematical modeling</a>‎ <span dir=\"ltr\" title=\"Contains 9 subcategories, 104 pages, and 0 files\">(9 C, 104 P)</span></div><div class=\"CategoryTreeChildren\" style=\"display:none\"></div></div><div class=\"CategoryTreeSection\"><div class=\"CategoryTreeItem\"><span class=\"CategoryTreeBullet\"><span class=\"CategoryTreeToggle\" data-ct-state=\"collapsed\" data-ct-title=\"Mathematical_notation\">►</span> </span> <a class=\"CategoryTreeLabel CategoryTreeLabelNs14 CategoryTreeLabelCategory\" href=\"/wiki/Category:Mathematical_notation\">Mathematical notation</a>‎ <span dir=\"ltr\" title=\"Contains 6 subcategories, 102 pages, and 0 files\">(6 C, 102 P)</span></div><div class=\"CategoryTreeChildren\" style=\"display:none\"></div></div><div class=\"CategoryTreeSection\"><div class=\"CategoryTreeItem\"><span class=\"CategoryTreeBullet\"><span class=\"CategoryTreeToggle\" data-ct-state=\"collapsed\" data-ct-title=\"Mathematical_science_occupations\">►</span> </span> <a class=\"CategoryTreeLabel CategoryTreeLabelNs14 CategoryTreeLabelCategory\" href=\"/wiki/Category:Mathematical_science_occupations\">Mathematical science occupations</a>‎ <span dir=\"ltr\" title=\"Contains 1 subcategory, 10 pages, and 0 files\">(1 C, 10 P)</span></div><div class=\"CategoryTreeChildren\" style=\"display:none\"></div></div><div class=\"CategoryTreeSection\"><div class=\"CategoryTreeItem\"><span class=\"CategoryTreeBullet\"><span class=\"CategoryTreeToggle\" data-ct-state=\"collapsed\" data-ct-title=\"Philosophy_of_mathematics\">►</span> </span> <a class=\"CategoryTreeLabel CategoryTreeLabelNs14 CategoryTreeLabelCategory\" href=\"/wiki/Category:Philosophy_of_mathematics\">Philosophy of mathematics</a>‎ <span dir=\"ltr\" title=\"Contains 16 subcategories, 50 pages, and 0 files\">(16 C, 50 P)</span></div><div class=\"CategoryTreeChildren\" style=\"display:none\"></div></div><div class=\"CategoryTreeSection\"><div class=\"CategoryTreeItem\"><span class=\"CategoryTreeBullet\"><span class=\"CategoryTreeToggle\" data-ct-state=\"collapsed\" data-ct-title=\"Mathematical_projects\">►</span> </span> <a class=\"CategoryTreeLabel CategoryTreeLabelNs14 CategoryTreeLabelCategory\" href=\"/wiki/Category:Mathematical_projects\">Mathematical projects</a>‎ <span dir=\"ltr\" title=\"Contains 0 subcategories, 6 pages, and 0 files\">(6 P)</span></div><div class=\"CategoryTreeChildren\" style=\"display:none\"></div></div><div class=\"CategoryTreeSection\"><div class=\"CategoryTreeItem\"><span class=\"CategoryTreeBullet\"><span class=\"CategoryTreeToggle\" data-ct-state=\"collapsed\" data-ct-title=\"Mathematical_proofs\">►</span> </span> <a class=\"CategoryTreeLabel CategoryTreeLabelNs14 CategoryTreeLabelCategory\" href=\"/wiki/Category:Mathematical_proofs\">Mathematical proofs</a>‎ <span dir=\"ltr\" title=\"Contains 8 subcategories, 37 pages, and 0 files\">(8 C, 37 P)</span></div><div class=\"CategoryTreeChildren\" style=\"display:none\"></div></div><div class=\"CategoryTreeSection\"><div class=\"CategoryTreeItem\"><span class=\"CategoryTreeBullet\"><span class=\"CategoryTreeToggle\" data-ct-state=\"collapsed\" data-ct-title=\"Pseudomathematics\">►</span> </span> <a class=\"CategoryTreeLabel CategoryTreeLabelNs14 CategoryTreeLabelCategory\" href=\"/wiki/Category:Pseudomathematics\">Pseudomathematics</a>‎ <span dir=\"ltr\" title=\"Contains 0 subcategories, 6 pages, and 0 files\">(6 P)</span></div><div class=\"CategoryTreeChildren\" style=\"display:none\"></div></div><div class=\"CategoryTreeSection\"><div class=\"CategoryTreeItem\"><span class=\"CategoryTreeBullet\"><span class=\"CategoryTreeToggle\" data-ct-state=\"collapsed\" data-ct-title=\"Set_indices_on_mathematics\">►</span> </span> <a class=\"CategoryTreeLabel CategoryTreeLabelNs14 CategoryTreeLabelCategory\" href=\"/wiki/Category:Set_indices_on_mathematics\">Set indices on mathematics</a>‎ <span dir=\"ltr\" title=\"Contains 0 subcategories, 42 pages, and 0 files\">(42 P)</span></div><div class=\"CategoryTreeChildren\" style=\"display:none\"></div></div><div class=\"CategoryTreeSection\"><div class=\"CategoryTreeItem\"><span class=\"CategoryTreeBullet\"><span class=\"CategoryTreeToggle\" data-ct-state=\"collapsed\" data-ct-title=\"Mathematical_terminology\">►</span> </span> <a class=\"CategoryTreeLabel CategoryTreeLabelNs14 CategoryTreeLabelCategory\" href=\"/wiki/Category:Mathematical_terminology\">Mathematical terminology</a>‎ <span dir=\"ltr\" title=\"Contains 1 subcategory, 107 pages, and 0 files\">(1 C, 107 P)</span></div><div class=\"CategoryTreeChildren\" style=\"display:none\"></div></div><div class=\"CategoryTreeSection\"><div class=\"CategoryTreeItem\"><span class=\"CategoryTreeBullet\"><span class=\"CategoryTreeToggle\" data-ct-state=\"collapsed\" data-ct-title=\"Mathematics_textbooks\">►</span> </span> <a class=\"CategoryTreeLabel CategoryTreeLabelNs14 CategoryTreeLabelCategory\" href=\"/wiki/Category:Mathematics_textbooks\">Mathematics textbooks</a>‎ <span dir=\"ltr\" title=\"Contains 0 subcategories, 33 pages, and 0 files\">(33 P)</span></div><div class=\"CategoryTreeChildren\" style=\"display:none\"></div></div><div class=\"CategoryTreeSection\"><div class=\"CategoryTreeItem\"><span class=\"CategoryTreeBullet\"><span class=\"CategoryTreeToggle\" data-ct-state=\"collapsed\" data-ct-title=\"Mathematical_theorems\">►</span> </span> <a class=\"CategoryTreeLabel CategoryTreeLabelNs14 CategoryTreeLabelCategory\" href=\"/wiki/Category:Mathematical_theorems\">Mathematical theorems</a>‎ <span dir=\"ltr\" title=\"Contains 18 subcategories, 34 pages, and 0 files\">(18 C, 34 P)</span></div><div class=\"CategoryTreeChildren\" style=\"display:none\"></div></div><div class=\"CategoryTreeSection\"><div class=\"CategoryTreeItem\"><span class=\"CategoryTreeBullet\"><span class=\"CategoryTreeToggle\" data-ct-state=\"collapsed\" data-ct-title=\"Mathematical_tools\">►</span> </span> <a class=\"CategoryTreeLabel CategoryTreeLabelNs14 CategoryTreeLabelCategory\" href=\"/wiki/Category:Mathematical_tools\">Mathematical tools</a>‎ <span dir=\"ltr\" title=\"Contains 4 subcategories, 35 pages, and 0 files\">(4 C, 35 P)</span></div><div class=\"CategoryTreeChildren\" style=\"display:none\"></div></div><div class=\"CategoryTreeSection\"><div class=\"CategoryTreeItem\"><span class=\"CategoryTreeBullet\"><span class=\"CategoryTreeToggle\" data-ct-state=\"collapsed\" data-ct-title=\"Women_in_mathematics\">►</span> </span> <a class=\"CategoryTreeLabel CategoryTreeLabelNs14 CategoryTreeLabelCategory\" href=\"/wiki/Category:Women_in_mathematics\">Women in mathematics</a>‎ <span dir=\"ltr\" title=\"Contains 2 subcategories, 15 pages, and 0 files\">(2 C, 15 P)</span></div><div class=\"CategoryTreeChildren\" style=\"display:none\"></div></div><div class=\"CategoryTreeSection\"><div class=\"CategoryTreeItem\"><span class=\"CategoryTreeBullet\"><span class=\"CategoryTreeToggle\" data-ct-state=\"collapsed\" data-ct-title=\"Wikipedia_books_on_mathematics\">►</span> </span> <a class=\"CategoryTreeLabel CategoryTreeLabelNs14 CategoryTreeLabelCategory\" href=\"/wiki/Category:Wikipedia_books_on_mathematics\">Wikipedia books on mathematics</a>‎ <span dir=\"ltr\" title=\"Contains 1 subcategory, 29 pages, and 0 files\">(1 C, 29 P)</span></div><div class=\"CategoryTreeChildren\" style=\"display:none\"></div></div><div class=\"CategoryTreeSection\"><div class=\"CategoryTreeItem\"><span class=\"CategoryTreeBullet\"><span class=\"CategoryTreeToggle\" data-ct-state=\"collapsed\" data-ct-title=\"Mathematics_stubs\">►</span> </span> <a class=\"CategoryTreeLabel CategoryTreeLabelNs14 CategoryTreeLabelCategory\" href=\"/wiki/Category:Mathematics_stubs\">Mathematics stubs</a>‎ <span dir=\"ltr\" title=\"Contains 17 subcategories, 176 pages, and 0 files\">(17 C, 176 P)</span></div><div class=\"CategoryTreeChildren\" style=\"display:none\"></div></div><div class=\"CategoryTreeSection\"><div class=\"CategoryTreeItem\"><span class=\"CategoryTreeBullet\"> </span> <a class=\"CategoryTreeLabel CategoryTreeLabelNs0 CategoryTreeLabelPage\" href=\"/wiki/Mathematics\">Mathematics</a></div><div class=\"CategoryTreeChildren\" style=\"display:none\"></div></div><div class=\"CategoryTreeSection\"><div class=\"CategoryTreeItem\"><span class=\"CategoryTreeBullet\"> </span> <a class=\"CategoryTreeLabel CategoryTreeLabelNs0 CategoryTreeLabelPage\" href=\"/wiki/Outline_of_mathematics\">Outline of mathematics</a></div><div class=\"CategoryTreeChildren\" style=\"display:none\"></div></div><div class=\"CategoryTreeSection\"><div class=\"CategoryTreeItem\"><span class=\"CategoryTreeBullet\"> </span> <a class=\"CategoryTreeLabel CategoryTreeLabelNs100 CategoryTreeLabelPage\" href=\"/wiki/Portal:Contents/Mathematics_and_logic\">Portal:Contents/Mathematics and logic</a></div><div class=\"CategoryTreeChildren\" style=\"display:none\"></div></div><div class=\"CategoryTreeSection\"><div class=\"CategoryTreeItem\"><span class=\"CategoryTreeBullet\"> </span> <a class=\"CategoryTreeLabel CategoryTreeLabelNs0 CategoryTreeLabelPage\" href=\"/wiki/Analysis_of_Boolean_functions\">Analysis of Boolean functions</a></div><div class=\"CategoryTreeChildren\" style=\"display:none\"></div></div><div class=\"CategoryTreeSection\"><div class=\"CategoryTreeItem\"><span class=\"CategoryTreeBullet\"> </span> <a class=\"CategoryTreeLabel CategoryTreeLabelNs0 CategoryTreeLabelPage\" href=\"/wiki/The_Archimedeans\">The Archimedeans</a></div><div class=\"CategoryTreeChildren\" style=\"display:none\"></div></div><div class=\"CategoryTreeSection\"><div class=\"CategoryTreeItem\"><span class=\"CategoryTreeBullet\"> </span> <a class=\"CategoryTreeLabel CategoryTreeLabelNs0 CategoryTreeLabelPage\" href=\"/wiki/Archives_of_American_Mathematics\">Archives of American Mathematics</a></div><div class=\"CategoryTreeChildren\" style=\"display:none\"></div></div><div class=\"CategoryTreeSection\"><div class=\"CategoryTreeItem\"><span class=\"CategoryTreeBullet\"> </span> <a class=\"CategoryTreeLabel CategoryTreeLabelNs0 CategoryTreeLabelPage\" href=\"/wiki/Data-driven_control_system\">Data-driven control system</a></div><div class=\"CategoryTreeChildren\" style=\"display:none\"></div></div><div class=\"CategoryTreeSection\"><div class=\"CategoryTreeItem\"><span class=\"CategoryTreeBullet\"> </span> <a class=\"CategoryTreeLabel CategoryTreeLabelNs0 CategoryTreeLabelPage\" href=\"/wiki/Discrete_Logarithm_Problem_(DLP)\">Discrete Logarithm Problem (DLP)</a></div><div class=\"CategoryTreeChildren\" style=\"display:none\"></div></div><div class=\"CategoryTreeSection\"><div class=\"CategoryTreeItem\"><span class=\"CategoryTreeBullet\"> </span> <a class=\"CategoryTreeLabel CategoryTreeLabelNs0 CategoryTreeLabelPage\" href=\"/wiki/Legendre_moment\">Legendre moment</a></div><div class=\"CategoryTreeChildren\" style=\"display:none\"></div></div><div class=\"CategoryTreeSection\"><div class=\"CategoryTreeItem\"><span class=\"CategoryTreeBullet\"> </span> <a class=\"CategoryTreeLabel CategoryTreeLabelNs0 CategoryTreeLabelPage\" href=\"/wiki/Locally_nilpotent_derivation\">Locally nilpotent derivation</a></div><div class=\"CategoryTreeChildren\" style=\"display:none\"></div></div><div class=\"CategoryTreeSection\"><div class=\"CategoryTreeItem\"><span class=\"CategoryTreeBullet\"> </span> <a class=\"CategoryTreeLabel CategoryTreeLabelNs0 CategoryTreeLabelPage\" href=\"/wiki/Mediation-driven_attachment_model\">Mediation-driven attachment model</a></div><div class=\"CategoryTreeChildren\" style=\"display:none\"></div></div><div class=\"CategoryTreeSection\"><div class=\"CategoryTreeItem\"><span class=\"CategoryTreeBullet\"> </span> <a class=\"CategoryTreeLabel CategoryTreeLabelNs0 CategoryTreeLabelPage\" href=\"/wiki/Proof_School\">Proof School</a></div><div class=\"CategoryTreeChildren\" style=\"display:none\"></div></div><div class=\"CategoryTreeSection\"><div class=\"CategoryTreeItem\"><span class=\"CategoryTreeBullet\"> </span> <a class=\"CategoryTreeLabel CategoryTreeLabelNs0 CategoryTreeLabelPage\" href=\"/wiki/Quota_rule\">Quota rule</a></div><div class=\"CategoryTreeChildren\" style=\"display:none\"></div></div></div></div></div><noscript><img alt=\"\" height=\"1\" src=\"//en.wikipedia.org/wiki/Special:CentralAutoLogin/start?type=1x1\" style=\"border: none; position: absolute;\" title=\"\" width=\"1\"/></noscript></div> <div class=\"printfooter\">\n",
      "\t\t\t\t\t\tRetrieved from \"<a dir=\"ltr\" href=\"https://en.wikipedia.org/wiki/Special:CategoryTree\">https://en.wikipedia.org/wiki/Special:CategoryTree</a>\"\t\t\t\t\t</div>\n",
      "<div class=\"catlinks catlinks-allhidden\" data-mw=\"interface\" id=\"catlinks\"></div> <div class=\"visualClear\"></div>\n",
      "</div>\n",
      "</div>\n",
      "<div id=\"mw-navigation\">\n",
      "<h2>Navigation menu</h2>\n",
      "<div id=\"mw-head\">\n",
      "<div aria-labelledby=\"p-personal-label\" class=\"\" id=\"p-personal\" role=\"navigation\">\n",
      "<h3 id=\"p-personal-label\">Personal tools</h3>\n",
      "<ul>\n",
      "<li id=\"pt-anonuserpage\">Not logged in</li><li id=\"pt-anontalk\"><a accesskey=\"n\" href=\"/wiki/Special:MyTalk\" title=\"Discussion about edits from this IP address [n]\">Talk</a></li><li id=\"pt-anoncontribs\"><a accesskey=\"y\" href=\"/wiki/Special:MyContributions\" title=\"A list of edits made from this IP address [y]\">Contributions</a></li><li id=\"pt-createaccount\"><a href=\"/w/index.php?title=Special:CreateAccount&amp;returnto=Special%3ACategoryTree&amp;returntoquery=target%3Dmathematics%26mode%3Dall%26namespaces%3D\" title=\"You are encouraged to create an account and log in; however, it is not mandatory\">Create account</a></li><li id=\"pt-login\"><a accesskey=\"o\" href=\"/w/index.php?title=Special:UserLogin&amp;returnto=Special%3ACategoryTree&amp;returntoquery=target%3Dmathematics%26mode%3Dall%26namespaces%3D\" title=\"You're encouraged to log in; however, it's not mandatory. [o]\">Log in</a></li> </ul>\n",
      "</div>\n",
      "<div id=\"left-navigation\">\n",
      "<div aria-labelledby=\"p-namespaces-label\" class=\"vectorTabs\" id=\"p-namespaces\" role=\"navigation\">\n",
      "<h3 id=\"p-namespaces-label\">Namespaces</h3>\n",
      "<ul>\n",
      "<li class=\"selected\" id=\"ca-nstab-special\"><span><a href=\"/wiki/Special:CategoryTree?target=mathematics&amp;mode=all&amp;namespaces=&amp;title=Special%3ACategoryTree\" title=\"This is a special page which you cannot edit\">Special page</a></span></li> </ul>\n",
      "</div>\n",
      "<div aria-labelledby=\"p-variants-label\" class=\"vectorMenu emptyPortlet\" id=\"p-variants\" role=\"navigation\">\n",
      "<input aria-labelledby=\"p-variants-label\" class=\"vectorMenuCheckbox\" type=\"checkbox\"/>\n",
      "<h3 id=\"p-variants-label\">\n",
      "<span>Variants</span>\n",
      "</h3>\n",
      "<div class=\"menu\">\n",
      "<ul>\n",
      "</ul>\n",
      "</div>\n",
      "</div>\n",
      "</div>\n",
      "<div id=\"right-navigation\">\n",
      "<div aria-labelledby=\"p-views-label\" class=\"vectorTabs emptyPortlet\" id=\"p-views\" role=\"navigation\">\n",
      "<h3 id=\"p-views-label\">Views</h3>\n",
      "<ul>\n",
      "</ul>\n",
      "</div>\n",
      "<div aria-labelledby=\"p-cactions-label\" class=\"vectorMenu emptyPortlet\" id=\"p-cactions\" role=\"navigation\">\n",
      "<input aria-labelledby=\"p-cactions-label\" class=\"vectorMenuCheckbox\" type=\"checkbox\"/>\n",
      "<h3 id=\"p-cactions-label\"><span>More</span></h3>\n",
      "<div class=\"menu\">\n",
      "<ul>\n",
      "</ul>\n",
      "</div>\n",
      "</div>\n",
      "<div id=\"p-search\" role=\"search\">\n",
      "<h3>\n",
      "<label for=\"searchInput\">Search</label>\n",
      "</h3>\n",
      "<form action=\"/w/index.php\" id=\"searchform\">\n",
      "<div id=\"simpleSearch\">\n",
      "<input accesskey=\"f\" id=\"searchInput\" name=\"search\" placeholder=\"Search Wikipedia\" title=\"Search Wikipedia [f]\" type=\"search\"/><input name=\"title\" type=\"hidden\" value=\"Special:Search\"/><input class=\"searchButton mw-fallbackSearchButton\" id=\"mw-searchButton\" name=\"fulltext\" title=\"Search Wikipedia for this text\" type=\"submit\" value=\"Search\"/><input class=\"searchButton\" id=\"searchButton\" name=\"go\" title=\"Go to a page with this exact name if it exists\" type=\"submit\" value=\"Go\"/> </div>\n",
      "</form>\n",
      "</div>\n",
      "</div>\n",
      "</div>\n",
      "<div id=\"mw-panel\">\n",
      "<div id=\"p-logo\" role=\"banner\"><a class=\"mw-wiki-logo\" href=\"/wiki/Main_Page\" title=\"Visit the main page\"></a></div>\n",
      "<div aria-labelledby=\"p-navigation-label\" class=\"portal\" id=\"p-navigation\" role=\"navigation\">\n",
      "<h3 id=\"p-navigation-label\">Navigation</h3>\n",
      "<div class=\"body\">\n",
      "<ul>\n",
      "<li id=\"n-mainpage-description\"><a accesskey=\"z\" href=\"/wiki/Main_Page\" title=\"Visit the main page [z]\">Main page</a></li><li id=\"n-contents\"><a href=\"/wiki/Portal:Contents\" title=\"Guides to browsing Wikipedia\">Contents</a></li><li id=\"n-featuredcontent\"><a href=\"/wiki/Portal:Featured_content\" title=\"Featured content – the best of Wikipedia\">Featured content</a></li><li id=\"n-currentevents\"><a href=\"/wiki/Portal:Current_events\" title=\"Find background information on current events\">Current events</a></li><li id=\"n-randompage\"><a accesskey=\"x\" href=\"/wiki/Special:Random\" title=\"Load a random article [x]\">Random article</a></li><li id=\"n-sitesupport\"><a href=\"https://donate.wikimedia.org/wiki/Special:FundraiserRedirector?utm_source=donate&amp;utm_medium=sidebar&amp;utm_campaign=C13_en.wikipedia.org&amp;uselang=en\" title=\"Support us\">Donate to Wikipedia</a></li><li id=\"n-shoplink\"><a href=\"//shop.wikimedia.org\" title=\"Visit the Wikipedia store\">Wikipedia store</a></li> </ul>\n",
      "</div>\n",
      "</div>\n",
      "<div aria-labelledby=\"p-interaction-label\" class=\"portal\" id=\"p-interaction\" role=\"navigation\">\n",
      "<h3 id=\"p-interaction-label\">Interaction</h3>\n",
      "<div class=\"body\">\n",
      "<ul>\n",
      "<li id=\"n-help\"><a href=\"/wiki/Help:Contents\" title=\"Guidance on how to use and edit Wikipedia\">Help</a></li><li id=\"n-aboutsite\"><a href=\"/wiki/Wikipedia:About\" title=\"Find out about Wikipedia\">About Wikipedia</a></li><li id=\"n-portal\"><a href=\"/wiki/Wikipedia:Community_portal\" title=\"About the project, what you can do, where to find things\">Community portal</a></li><li id=\"n-recentchanges\"><a accesskey=\"r\" href=\"/wiki/Special:RecentChanges\" title=\"A list of recent changes in the wiki [r]\">Recent changes</a></li><li id=\"n-contactpage\"><a href=\"//en.wikipedia.org/wiki/Wikipedia:Contact_us\" title=\"How to contact Wikipedia\">Contact page</a></li> </ul>\n",
      "</div>\n",
      "</div>\n",
      "<div aria-labelledby=\"p-tb-label\" class=\"portal\" id=\"p-tb\" role=\"navigation\">\n",
      "<h3 id=\"p-tb-label\">Tools</h3>\n",
      "<div class=\"body\">\n",
      "<ul>\n",
      "<li id=\"t-upload\"><a accesskey=\"u\" href=\"/wiki/Wikipedia:File_Upload_Wizard\" title=\"Upload files [u]\">Upload file</a></li><li id=\"t-specialpages\"><a accesskey=\"q\" href=\"/wiki/Special:SpecialPages\" title=\"A list of all special pages [q]\">Special pages</a></li><li id=\"t-print\"><a accesskey=\"p\" href=\"/w/index.php?title=Special:CategoryTree&amp;target=mathematics&amp;mode=all&amp;namespaces=&amp;printable=yes\" rel=\"alternate\" title=\"Printable version of this page [p]\">Printable version</a></li> </ul>\n",
      "</div>\n",
      "</div>\n",
      "<div aria-labelledby=\"p-lang-label\" class=\"portal\" id=\"p-lang\" role=\"navigation\">\n",
      "<h3 id=\"p-lang-label\">Languages</h3>\n",
      "<div class=\"body\">\n",
      "<ul>\n",
      "</ul>\n",
      "</div>\n",
      "</div>\n",
      "</div>\n",
      "</div>\n",
      "<div id=\"footer\" role=\"contentinfo\">\n",
      "<ul id=\"footer-places\">\n",
      "<li id=\"footer-places-privacy\"><a class=\"extiw\" href=\"https://foundation.wikimedia.org/wiki/Privacy_policy\" title=\"wmf:Privacy policy\">Privacy policy</a></li>\n",
      "<li id=\"footer-places-about\"><a href=\"/wiki/Wikipedia:About\" title=\"Wikipedia:About\">About Wikipedia</a></li>\n",
      "<li id=\"footer-places-disclaimer\"><a href=\"/wiki/Wikipedia:General_disclaimer\" title=\"Wikipedia:General disclaimer\">Disclaimers</a></li>\n",
      "<li id=\"footer-places-contact\"><a href=\"//en.wikipedia.org/wiki/Wikipedia:Contact_us\">Contact Wikipedia</a></li>\n",
      "<li id=\"footer-places-developers\"><a href=\"https://www.mediawiki.org/wiki/Special:MyLanguage/How_to_contribute\">Developers</a></li>\n",
      "<li id=\"footer-places-cookiestatement\"><a href=\"https://foundation.wikimedia.org/wiki/Cookie_statement\">Cookie statement</a></li>\n",
      "<li id=\"footer-places-mobileview\"><a class=\"noprint stopMobileRedirectToggle\" href=\"//en.m.wikipedia.org/w/index.php?title=Special:CategoryTree&amp;target=mathematics&amp;mode=all&amp;namespaces=&amp;mobileaction=toggle_view_mobile\">Mobile view</a></li>\n",
      "</ul>\n",
      "<ul class=\"noprint\" id=\"footer-icons\">\n",
      "<li id=\"footer-copyrightico\">\n",
      "<a href=\"https://wikimediafoundation.org/\"><img alt=\"Wikimedia Foundation\" height=\"31\" src=\"/static/images/wikimedia-button.png\" srcset=\"/static/images/wikimedia-button-1.5x.png 1.5x, /static/images/wikimedia-button-2x.png 2x\" width=\"88\"/></a> </li>\n",
      "<li id=\"footer-poweredbyico\">\n",
      "<a href=\"//www.mediawiki.org/\"><img alt=\"Powered by MediaWiki\" height=\"31\" src=\"/static/images/poweredby_mediawiki_88x31.png\" srcset=\"/static/images/poweredby_mediawiki_132x47.png 1.5x, /static/images/poweredby_mediawiki_176x62.png 2x\" width=\"88\"/></a> </li>\n",
      "</ul>\n",
      "<div style=\"clear: both;\"></div>\n",
      "</div>\n",
      "<script>(window.RLQ=window.RLQ||[]).push(function(){mw.config.set({\"wgBackendResponseTime\":86,\"wgHostname\":\"mw1238\"});});</script>\n",
      "</body>\n",
      "</html>\n",
      "\n",
      "Found the URL: #mw-head\n",
      "Found the URL: #p-search\n",
      "Found the URL: /wiki/Help:Special_page\n",
      "Found the URL: /wiki/Wikipedia_talk:Special:CategoryTree\n",
      "Found the URL: https://www.mediawiki.org/wiki/Extension:CategoryTree\n",
      "Found the URL: https://www.mediawiki.org/wiki/Extension_talk:CategoryTree\n",
      "Found the URL: /w/index.php?title=Special:CategoryTree&target=Abstraction&mode=20&hideprefix=20&showcount=1\n",
      "Found the URL: /w/index.php?title=Special:CategoryTree&target=Categories_requiring_diffusion&mode=20&hideprefix=20&showcount=1\n",
      "Found the URL: /w/index.php?title=Special:CategoryTree&target=Formal_sciences&mode=20&hideprefix=20&showcount=1\n",
      "Found the URL: /w/index.php?title=Special:CategoryTree&target=Main_topic_classifications&mode=20&hideprefix=20&showcount=1\n",
      "Found the URL: /w/index.php?title=Special:CategoryTree&target=Structure&mode=20&hideprefix=20&showcount=1\n",
      "Found the URL: /wiki/Category:Mathematics\n",
      "Found the URL: /wiki/Category:Fields_of_mathematics\n",
      "Found the URL: /wiki/Category:Mathematics-related_lists\n",
      "Found the URL: /wiki/Category:Mathematicians\n",
      "Found the URL: /wiki/Category:Mathematical_concepts\n",
      "Found the URL: /wiki/Category:Mathematics_and_culture\n",
      "Found the URL: /wiki/Category:Mathematical_examples\n",
      "Found the URL: /wiki/Category:History_of_mathematics\n",
      "Found the URL: /wiki/Category:Mathematics_and_art\n",
      "Found the URL: /wiki/Category:Mathematical_modeling\n",
      "Found the URL: /wiki/Category:Mathematical_notation\n",
      "Found the URL: /wiki/Category:Mathematical_science_occupations\n",
      "Found the URL: /wiki/Category:Philosophy_of_mathematics\n",
      "Found the URL: /wiki/Category:Mathematical_projects\n",
      "Found the URL: /wiki/Category:Mathematical_proofs\n",
      "Found the URL: /wiki/Category:Pseudomathematics\n",
      "Found the URL: /wiki/Category:Set_indices_on_mathematics\n",
      "Found the URL: /wiki/Category:Mathematical_terminology\n",
      "Found the URL: /wiki/Category:Mathematics_textbooks\n",
      "Found the URL: /wiki/Category:Mathematical_theorems\n",
      "Found the URL: /wiki/Category:Mathematical_tools\n",
      "Found the URL: /wiki/Category:Women_in_mathematics\n",
      "Found the URL: /wiki/Category:Wikipedia_books_on_mathematics\n",
      "Found the URL: /wiki/Category:Mathematics_stubs\n",
      "Found the URL: /wiki/Mathematics\n",
      "Found the URL: /wiki/Outline_of_mathematics\n",
      "Found the URL: /wiki/Portal:Contents/Mathematics_and_logic\n",
      "Found the URL: /wiki/Analysis_of_Boolean_functions\n",
      "Found the URL: /wiki/The_Archimedeans\n",
      "Found the URL: /wiki/Archives_of_American_Mathematics\n",
      "Found the URL: /wiki/Data-driven_control_system\n",
      "Found the URL: /wiki/Discrete_Logarithm_Problem_(DLP)\n",
      "Found the URL: /wiki/Legendre_moment\n",
      "Found the URL: /wiki/Locally_nilpotent_derivation\n",
      "Found the URL: /wiki/Mediation-driven_attachment_model\n",
      "Found the URL: /wiki/Proof_School\n",
      "Found the URL: /wiki/Quota_rule\n",
      "Found the URL: https://en.wikipedia.org/wiki/Special:CategoryTree\n",
      "Found the URL: /wiki/Special:MyTalk\n",
      "Found the URL: /wiki/Special:MyContributions\n",
      "Found the URL: /w/index.php?title=Special:CreateAccount&returnto=Special%3ACategoryTree&returntoquery=target%3Dmathematics%26mode%3Dall%26namespaces%3D\n",
      "Found the URL: /w/index.php?title=Special:UserLogin&returnto=Special%3ACategoryTree&returntoquery=target%3Dmathematics%26mode%3Dall%26namespaces%3D\n",
      "Found the URL: /wiki/Special:CategoryTree?target=mathematics&mode=all&namespaces=&title=Special%3ACategoryTree\n",
      "Found the URL: /wiki/Main_Page\n",
      "Found the URL: /wiki/Main_Page\n",
      "Found the URL: /wiki/Portal:Contents\n",
      "Found the URL: /wiki/Portal:Featured_content\n",
      "Found the URL: /wiki/Portal:Current_events\n",
      "Found the URL: /wiki/Special:Random\n",
      "Found the URL: https://donate.wikimedia.org/wiki/Special:FundraiserRedirector?utm_source=donate&utm_medium=sidebar&utm_campaign=C13_en.wikipedia.org&uselang=en\n",
      "Found the URL: //shop.wikimedia.org\n",
      "Found the URL: /wiki/Help:Contents\n",
      "Found the URL: /wiki/Wikipedia:About\n",
      "Found the URL: /wiki/Wikipedia:Community_portal\n",
      "Found the URL: /wiki/Special:RecentChanges\n",
      "Found the URL: //en.wikipedia.org/wiki/Wikipedia:Contact_us\n",
      "Found the URL: /wiki/Wikipedia:File_Upload_Wizard\n",
      "Found the URL: /wiki/Special:SpecialPages\n",
      "Found the URL: /w/index.php?title=Special:CategoryTree&target=mathematics&mode=all&namespaces=&printable=yes\n",
      "Found the URL: https://foundation.wikimedia.org/wiki/Privacy_policy\n",
      "Found the URL: /wiki/Wikipedia:About\n",
      "Found the URL: /wiki/Wikipedia:General_disclaimer\n",
      "Found the URL: //en.wikipedia.org/wiki/Wikipedia:Contact_us\n",
      "Found the URL: https://www.mediawiki.org/wiki/Special:MyLanguage/How_to_contribute\n",
      "Found the URL: https://foundation.wikimedia.org/wiki/Cookie_statement\n",
      "Found the URL: //en.m.wikipedia.org/w/index.php?title=Special:CategoryTree&target=mathematics&mode=all&namespaces=&mobileaction=toggle_view_mobile\n",
      "Found the URL: https://wikimediafoundation.org/\n",
      "Found the URL: //www.mediawiki.org/\n"
     ]
    }
   ],
   "source": [
    "url = 'https://en.wikipedia.org/wiki/Special:CategoryTree?target=mathematics&mode=all&namespaces=&title=Special%3ACategoryTree'\n",
    "\n",
    "response = requests.get(url)\n",
    "if response.status_code == 200:\n",
    "    soup = bs(response.text)\n",
    "\n",
    "print(soup)\n",
    "    \n",
    "for a in soup.find_all('a', href=True):\n",
    "    print(\"Found the URL:\", a['href'])\n",
    "    \n",
    "<span class=\"CategoryTreeToggle\" data-ct-state=\"collapsed\" data-ct-title=\"Philosophy_of_mathematics\">"
   ]
  },
  {
   "cell_type": "code",
   "execution_count": 15,
   "metadata": {},
   "outputs": [],
   "source": [
    "def scrape_wiki(csv, url, category):\n",
    "    \"\"\"Return the HTML content of url.\"\"\"\n",
    "    mc = MongoClient()\n",
    "    db = mc['cache']\n",
    "    pages = db[str(category)]\n",
    "    for i in df:\n",
    "        url = i\n",
    "    cached_page = pages.find_one({'url': url})\n",
    "    if cached_page is None:\n",
    "        print(f\"Fetching {url}\")\n",
    "        response = requests.get(url)\n",
    "        if response.status_code == 200:\n",
    "            pages.insert_one({'url': url,\n",
    "                              'html': response.content})   \n",
    "        else:\n",
    "            pages.insert_one({'url': url,\n",
    "                              'html': None})   \n",
    "    return pages.find_one({'url': url})['html']"
   ]
  },
  {
   "cell_type": "code",
   "execution_count": 16,
   "metadata": {},
   "outputs": [],
   "source": [
    "csv = pd.read_csv('data/math/total_math_11697', sep='\\t')"
   ]
  },
  {
   "cell_type": "code",
   "execution_count": 17,
   "metadata": {},
   "outputs": [
    {
     "data": {
      "text/plain": [
       "'https://en.wikipedia.org/wiki/Alain_Connes'"
      ]
     },
     "execution_count": 17,
     "metadata": {},
     "output_type": "execute_result"
    }
   ],
   "source": [
    "csv.loc[0,'url']"
   ]
  },
  {
   "cell_type": "code",
   "execution_count": 22,
   "metadata": {},
   "outputs": [],
   "source": [
    "response = requests.get(csv.loc[0,'url'])"
   ]
  },
  {
   "cell_type": "code",
   "execution_count": 33,
   "metadata": {},
   "outputs": [],
   "source": [
    "html = response.content\n",
    "soup = bs(html, 'lxml')"
   ]
  },
  {
   "cell_type": "code",
   "execution_count": 37,
   "metadata": {},
   "outputs": [
    {
     "data": {
      "text/plain": [
       "'\\n\\n\\nAlain Connes - Wikipedia\\ndocument.documentElement.className = document.documentElement.className.replace( /(^|\\\\s)client-nojs(\\\\s|$)/, \"$1client-js$2\" );\\n(window.RLQ=window.RLQ||[]).push(function(){mw.config.set({\"wgCanonicalNamespace\":\"\",\"wgCanonicalSpecialPageName\":false,\"wgNamespaceNumber\":0,\"wgPageName\":\"Alain_Connes\",\"wgTitle\":\"Alain Connes\",\"wgCurRevisionId\":864885442,\"wgRevisionId\":864885442,\"wgArticleId\":340,\"wgIsArticle\":true,\"wgIsRedirect\":false,\"wgAction\":\"view\",\"wgUserName\":null,\"wgUserGroups\":[\"*\"],\"wgCategories\":[\"Use dmy dates from June 2013\",\"Articles lacking in-text citations from February 2012\",\"All articles lacking in-text citations\",\"Infobox person using alma mater\",\"Articles with hCards\",\"Wikipedia articles with BIBSYS identifiers\",\"Wikipedia articles with BNF identifiers\",\"Wikipedia articles with GND identifiers\",\"Wikipedia articles with ISNI identifiers\",\"Wikipedia articles with LCCN identifiers\",\"Wikipedia articles with LNB identifiers\",\"Wikipedia articles with MGP identifiers\",\"Wikipedia articles with NDL identifiers\",\"Wikipedia articles with SNAC-ID identifiers\",\"Wikipedia articles with SUDOC identifiers\",\"Wikipedia articles with VIAF identifiers\",\"1947 births\",\"Living people\",\"20th-century French mathematicians\",\"Members of the United States National Academy of Sciences\",\"21st-century mathematicians\",\"Collège de France faculty\",\"Institute for Advanced Study visiting scholars\",\"Fields Medalists\",\"Mathematical analysts\",\"Differential geometers\",\"École Normale Supérieure alumni\",\"Vanderbilt University faculty\",\"Foreign Members of the Russian Academy of Sciences\",\"Members of the French Academy of Sciences\",\"Members of the Norwegian Academy of Science and Letters\",\"Members of the Royal Danish Academy of Sciences and Letters\",\"Clay Research Award recipients\",\"Participants in the Les Houches Physics Summer School\"],\"wgBreakFrames\":false,\"wgPageContentLanguage\":\"en\",\"wgPageContentModel\":\"wikitext\",\"wgSeparatorTransformTable\":[\"\",\"\"],\"wgDigitTransformTable\":[\"\",\"\"],\"wgDefaultDateFormat\":\"dmy\",\"wgMonthNames\":[\"\",\"January\",\"February\",\"March\",\"April\",\"May\",\"June\",\"July\",\"August\",\"September\",\"October\",\"November\",\"December\"],\"wgMonthNamesShort\":[\"\",\"Jan\",\"Feb\",\"Mar\",\"Apr\",\"May\",\"Jun\",\"Jul\",\"Aug\",\"Sep\",\"Oct\",\"Nov\",\"Dec\"],\"wgRelevantPageName\":\"Alain_Connes\",\"wgRelevantArticleId\":340,\"wgRequestId\":\"W8@Q0wpAAEMAAFCX5DUAAABH\",\"wgCSPNonce\":false,\"wgIsProbablyEditable\":true,\"wgRelevantPageIsProbablyEditable\":true,\"wgRestrictionEdit\":[],\"wgRestrictionMove\":[],\"wgFlaggedRevsParams\":{\"tags\":{}},\"wgStableRevisionId\":null,\"wgCategoryTreePageCategoryOptions\":\"{\\\\\"mode\\\\\":0,\\\\\"hideprefix\\\\\":20,\\\\\"showcount\\\\\":true,\\\\\"namespaces\\\\\":false}\",\"wgWikiEditorEnabledModules\":[],\"wgBetaFeaturesFeatures\":[],\"wgMediaViewerOnClick\":true,\"wgMediaViewerEnabledByDefault\":true,\"wgPopupsShouldSendModuleToUser\":true,\"wgPopupsConflictsWithNavPopupGadget\":false,\"wgVisualEditor\":{\"pageLanguageCode\":\"en\",\"pageLanguageDir\":\"ltr\",\"pageVariantFallbacks\":\"en\",\"usePageImages\":true,\"usePageDescriptions\":true},\"wgMFExpandAllSectionsUserOption\":true,\"wgMFEnableFontChanger\":true,\"wgMFDisplayWikibaseDescriptions\":{\"search\":true,\"nearby\":true,\"watchlist\":true,\"tagline\":false},\"wgRelatedArticles\":null,\"wgRelatedArticlesUseCirrusSearch\":true,\"wgRelatedArticlesOnlyUseCirrusSearch\":false,\"wgULSCurrentAutonym\":\"English\",\"wgNoticeProject\":\"wikipedia\",\"wgCentralNoticeCookiesToDelete\":[],\"wgCentralNoticeCategoriesUsingLegacy\":[\"Fundraising\",\"fundraising\"],\"wgWikibaseItemId\":\"Q313590\",\"wgScoreNoteLanguages\":{\"arabic\":\"العربية\",\"catalan\":\"català\",\"deutsch\":\"Deutsch\",\"english\":\"English\",\"espanol\":\"español\",\"italiano\":\"italiano\",\"nederlands\":\"Nederlands\",\"norsk\":\"norsk\",\"portugues\":\"português\",\"suomi\":\"suomi\",\"svenska\":\"svenska\",\"vlaams\":\"West-Vlams\"},\"wgScoreDefaultNoteLanguage\":\"nederlands\",\"wgCentralAuthMobileDomain\":false,\"wgCodeMirrorEnabled\":true,\"wgVisualEditorToolbarScrollOffset\":0,\"wgVisualEditorUnsupportedEditParams\":[\"undo\",\"undoafter\",\"veswitched\"],\"wgEditSubmitButtonLabelPublish\":true});mw.loader.state({\"ext.gadget.charinsert-styles\":\"ready\",\"ext.globalCssJs.user.styles\":\"ready\",\"ext.globalCssJs.site.styles\":\"ready\",\"site.styles\":\"ready\",\"noscript\":\"ready\",\"user.styles\":\"ready\",\"ext.globalCssJs.user\":\"ready\",\"ext.globalCssJs.site\":\"ready\",\"user\":\"ready\",\"user.options\":\"ready\",\"user.tokens\":\"loading\",\"ext.cite.styles\":\"ready\",\"mediawiki.legacy.shared\":\"ready\",\"mediawiki.legacy.commonPrint\":\"ready\",\"mediawiki.toc.styles\":\"ready\",\"wikibase.client.init\":\"ready\",\"ext.visualEditor.desktopArticleTarget.noscript\":\"ready\",\"ext.uls.interlanguage\":\"ready\",\"ext.wikimediaBadges\":\"ready\",\"ext.3d.styles\":\"ready\",\"mediawiki.skinning.interface\":\"ready\",\"skins.vector.styles\":\"ready\"});mw.loader.implement(\"user.tokens@0tffind\",function($,jQuery,require,module){/*@nomin*/mw.user.tokens.set({\"editToken\":\"+\\\\\\\\\",\"patrolToken\":\"+\\\\\\\\\",\"watchToken\":\"+\\\\\\\\\",\"csrfToken\":\"+\\\\\\\\\"});\\n});RLPAGEMODULES=[\"ext.cite.a11y\",\"site\",\"mediawiki.page.startup\",\"mediawiki.user\",\"mediawiki.page.ready\",\"mediawiki.toc\",\"mediawiki.searchSuggest\",\"ext.gadget.teahouse\",\"ext.gadget.ReferenceTooltips\",\"ext.gadget.watchlist-notice\",\"ext.gadget.DRN-wizard\",\"ext.gadget.charinsert\",\"ext.gadget.refToolbar\",\"ext.gadget.extra-toolbar-buttons\",\"ext.gadget.switcher\",\"ext.centralauth.centralautologin\",\"mmv.head\",\"mmv.bootstrap.autostart\",\"ext.popups\",\"ext.visualEditor.desktopArticleTarget.init\",\"ext.visualEditor.targetLoader\",\"ext.eventLogging.subscriber\",\"ext.wikimediaEvents\",\"ext.navigationTiming\",\"ext.uls.eventlogger\",\"ext.uls.init\",\"ext.uls.compactlinks\",\"ext.uls.interface\",\"ext.centralNotice.geoIP\",\"ext.centralNotice.startUp\",\"skins.vector.js\"];mw.loader.load(RLPAGEMODULES);});\\n\\n\\n\\n\\n\\n\\n\\n\\n\\n\\n\\n\\n\\n\\n\\n\\n\\n\\n\\n\\n\\n\\n\\n \\n\\n\\n\\n\\n\\nAlain Connes \\nFrom Wikipedia, the free encyclopedia \\n Jump to navigation\\nJump to search\\n\\n\\nThis article includes a list of references, but its sources remain unclear because it has insufficient inline citations. Please help to improve this article by introducing more precise citations. (February 2012) (Learn how and when to remove this template message)\\nAlain Connes\\nAlain Connes in 2004Born\\n (1947-04-01) 1 April 1947 (age\\xa071)Draguignan, FranceNationality\\nFrenchAlma\\xa0mater\\nÉcole Normale Supérieure  Pierre and Marie Curie UniversityKnown\\xa0for\\nBaum–Connes conjectureNoncommutative geometryOperator algebrasThermal time hypothesisAwards\\nCNRS Silver Medal (1977) Prize Ampère (1980) Fields Medal (1982) Clay Research Award (2000) Crafoord Prize (2001) CNRS Gold medal (2004)\\nScientific careerFields\\nMathematicsInstitutions\\nIHÉS, FranceDoctoral advisor\\nJacques DixmierDoctoral students\\nGeorges Skandalis\\n\\nAlain Connes (French:\\xa0[alɛ̃ kɔn]; born 1 April 1947) is a French mathematician, currently Professor at the Collège de France, IHÉS, Ohio State University and Vanderbilt University. He was an Invited Professor at the Conservatoire national des arts et métiers (2000).[1]\\n\\nContents\\n\\n1 Work\\n2 Awards and honours\\n3 Books\\n4 See also\\n5 References\\n6 External links\\n\\n\\nWork[edit]\\nAlain Connes studies operator algebras. In his early work on von Neumann algebras in the 1970s, he succeeded in obtaining the almost complete classification of injective factors. He also formulated the Connes embedding problem. Following this, he made contributions in operator K-theory and index theory, which culminated in the Baum–Connes conjecture. He also introduced cyclic cohomology in the early 1980s as a first step in the study of noncommutative differential geometry. He was a member of Bourbaki.[2]\\nConnes has applied his work in areas of mathematics and theoretical physics, including number theory, differential geometry and particle physics.[3]\\n\\nAwards and honours[edit]\\nConnes was awarded the Fields Medal in 1982, the Crafoord Prize in 2001 and the gold medal of the CNRS in 2004.  He was an invited speaker at the ICM in 1974 at Vancouver and in 1986 at Berkeley and a plenary speaker at the ICM in 1978 at Helsinki. He is a member of the French Academy of Sciences and several foreign academies and societies, including the Danish Academy of Sciences, Norwegian Academy of Sciences, Russian Academy of Sciences, and US National Academy of Sciences.\\n\\nBooks[edit]\\nAlain Connes and Matilde Marcolli, Noncommutative Geometry, Quantum Fields and Motives, Colloquium Publications, American Mathematical Society, 2007, .mw-parser-output cite.citation{font-style:inherit}.mw-parser-output q{quotes:\"\\\\\"\"\"\\\\\"\"\"\\'\"\"\\'\"}.mw-parser-output code.cs1-code{color:inherit;background:inherit;border:inherit;padding:inherit}.mw-parser-output .cs1-lock-free a{background:url(\"//upload.wikimedia.org/wikipedia/commons/thumb/6/65/Lock-green.svg/9px-Lock-green.svg.png\")no-repeat;background-position:right .1em center}.mw-parser-output .cs1-lock-limited a,.mw-parser-output .cs1-lock-registration a{background:url(\"//upload.wikimedia.org/wikipedia/commons/thumb/d/d6/Lock-gray-alt-2.svg/9px-Lock-gray-alt-2.svg.png\")no-repeat;background-position:right .1em center}.mw-parser-output .cs1-lock-subscription a{background:url(\"//upload.wikimedia.org/wikipedia/commons/thumb/a/aa/Lock-red-alt-2.svg/9px-Lock-red-alt-2.svg.png\")no-repeat;background-position:right .1em center}.mw-parser-output .cs1-subscription,.mw-parser-output .cs1-registration{color:#555}.mw-parser-output .cs1-subscription span,.mw-parser-output .cs1-registration span{border-bottom:1px dotted;cursor:help}.mw-parser-output .cs1-hidden-error{display:none;font-size:100%}.mw-parser-output .cs1-visible-error{font-size:100%}.mw-parser-output .cs1-subscription,.mw-parser-output .cs1-registration,.mw-parser-output .cs1-format{font-size:95%}.mw-parser-output .cs1-kern-left,.mw-parser-output .cs1-kern-wl-left{padding-left:0.2em}.mw-parser-output .cs1-kern-right,.mw-parser-output .cs1-kern-wl-right{padding-right:0.2em}ISBN\\xa0978-0821842102 [1]\\nAlain Connes, Andre Lichnerowicz, and Marcel Paul Schutzenberger, Triangle of Thought, translated by Jennifer Gage, American Mathematical Society, 2001, ISBN\\xa0978-0821826140\\nJean-Pierre Changeux, and Alain Connes, Conversations on Mind, Matter, and Mathematics, translated by M. B. DeBevoise, Princeton University Press, 1998, ISBN\\xa0978-0691004051\\nAlain Connes, Noncommutative Geometry, Academic Press, 1994, ISBN\\xa0978-0121858605[4]\\nSee also[edit]\\nBost–Connes system\\nCyclic homology\\nFactor (functional analysis)\\nHiggs boson\\nC*-algebra\\nM-theory\\nGroupoid\\nCriticism of non-standard analysis\\nReferences[edit]\\n\\n\\n^ Alain Connes, «\\xa0Géométrie non-commutative\\xa0», Université de tous les savoirs, 4, 175-190, Editions Odile Jacob, 2001.\\n\\n^ Mashaal, Maurice (2006), Bourbaki: a secret society of mathematicians, American Mathematical Society, p.\\xa018, ISBN\\xa0978-0-8218-3967-6.\\n\\n^ \"The Geometer of Particle Physics\"  Scientific American, 24 July 2006\\n\\n^ Segal, Irving (1996). \"Review: Noncommutative geometry, by Alain Connes\" (PDF). Bull. Amer. Math. Soc. (N.S.). 33 (4): 459–465. doi:10.1090/s0273-0979-96-00687-8.\\n\\n\\nExternal links[edit]\\nAlain Connes Official Web Site containing downloadable papers, and his book Non-commutative geometry, ISBN\\xa00-12-185860-X.\\nAlain Connes in nLab\\nAlain Connes\\' Standard Model\\nAn interview with Alain Connes and a discussion about it\\nO\\'Connor, John J.; Robertson, Edmund F., \"Alain Connes\", MacTutor History of Mathematics archive, University of St Andrews.\\nAlain Connes at the Mathematics Genealogy Project\\nvteFields Medalists\\n1936 \\xa0AhlforsDouglas\\n1950 \\xa0SchwartzSelberg\\n1954 \\xa0KodairaSerre\\n1958 \\xa0RothThom\\n1962 \\xa0HörmanderMilnor\\n1966 \\xa0AtiyahCohenGrothendieckSmale\\n1970 \\xa0BakerHironakaNovikovThompson\\n1974 \\xa0BombieriMumford\\n1978 \\xa0DeligneFeffermanMargulisQuillen\\n1982 \\xa0ConnesThurstonYau\\n1986 \\xa0DonaldsonFaltingsFreedman\\n1990 \\xa0DrinfeldJonesMoriWitten\\n1994 \\xa0BourgainLionsYoccozZelmanov\\n1998 \\xa0BorcherdsGowersKontsevichMcMullen\\n2002 \\xa0LafforgueVoevodsky\\n2006 \\xa0OkounkovPerelman (declined)TaoWerner\\n2010 \\xa0LindenstraussNgôSmirnovVillani\\n2014 \\xa0AvilaBhargavaHairerMirzakhani\\n2018 \\xa0BirkarFigalliScholzeVenkatesh\\n\\n Book\\n Category\\n Mathematics portal\\n\\nAuthority control \\n WorldCat Identities\\nBIBSYS: 90308071\\nBNF: cb121076588 (data)\\nGND: 112614760\\nISNI: 0000 0001 1745 2968\\nLCCN: n80137982\\nLNB: 000134502\\nMGP: 34220\\nNDL: 00464836\\nSNAC: w6zt5kkb\\nSUDOC: 029452309\\nVIAF: 14800882\\n\\n\\n\\n\\n \\n\\t\\t\\t\\t\\t\\tRetrieved from \"https://en.wikipedia.org/w/index.php?title=Alain_Connes&oldid=864885442\"\\t\\t\\t\\t\\t\\nCategories: 1947 birthsLiving people20th-century French mathematiciansMembers of the United States National Academy of Sciences21st-century mathematiciansCollège de France facultyInstitute for Advanced Study visiting scholarsFields MedalistsMathematical analystsDifferential geometersÉcole Normale Supérieure alumniVanderbilt University facultyForeign Members of the Russian Academy of SciencesMembers of the French Academy of SciencesMembers of the Norwegian Academy of Science and LettersMembers of the Royal Danish Academy of Sciences and LettersClay Research Award recipientsParticipants in the Les Houches Physics Summer SchoolHidden categories: Use dmy dates from June 2013Articles lacking in-text citations from February 2012All articles lacking in-text citationsInfobox person using alma materArticles with hCardsWikipedia articles with BIBSYS identifiersWikipedia articles with BNF identifiersWikipedia articles with GND identifiersWikipedia articles with ISNI identifiersWikipedia articles with LCCN identifiersWikipedia articles with LNB identifiersWikipedia articles with MGP identifiersWikipedia articles with NDL identifiersWikipedia articles with SNAC-ID identifiersWikipedia articles with SUDOC identifiersWikipedia articles with VIAF identifiers \\n\\n\\n\\nNavigation menu\\n\\n\\nPersonal tools\\n\\nNot logged inTalkContributionsCreate accountLog in \\n\\n\\n\\nNamespaces\\n\\nArticleTalk \\n\\n\\n\\n\\nVariants\\n\\n\\n\\n\\n\\n\\n\\n\\n\\nViews\\n\\nReadEditView history \\n\\n\\n\\nMore\\n\\n\\n\\n\\n\\n\\n\\nSearch\\n\\n\\n\\n \\n\\n\\n\\n\\n\\n\\n\\nNavigation\\n\\n\\nMain pageContentsFeatured contentCurrent eventsRandom articleDonate to WikipediaWikipedia store \\n\\n\\n\\nInteraction\\n\\n\\nHelpAbout WikipediaCommunity portalRecent changesContact page \\n\\n\\n\\nTools\\n\\n\\nWhat links hereRelated changesUpload fileSpecial pagesPermanent linkPage informationWikidata itemCite this page \\n\\n\\n\\nPrint/export\\n\\n\\nCreate a bookDownload as PDFPrintable version \\n\\n\\n\\nIn other projects\\n\\n\\nWikimedia CommonsWikiquote \\n\\n\\n\\nLanguages\\n\\n\\nالعربيةBân-lâm-gúCatalàČeštinaDeutschEspañolEuskaraFrançais한국어HrvatskiItalianoKreyòl ayisyenမြန်မာဘာသာNederlands日本語Norsk nynorskپنجابیPolskiPortuguêsRomânăРусскийසිංහලSlovenčinaSlovenščinaSuomiУкраїнська中文 \\nEdit links \\n\\n\\n\\n\\n\\n This page was last edited on 20 October 2018, at 04:48\\xa0(UTC).\\nText is available under the Creative Commons Attribution-ShareAlike License;\\nadditional terms may apply.  By using this site, you agree to the Terms of Use and Privacy Policy. Wikipedia® is a registered trademark of the Wikimedia Foundation, Inc., a non-profit organization.\\n\\n\\nPrivacy policy\\nAbout Wikipedia\\nDisclaimers\\nContact Wikipedia\\nDevelopers\\nCookie statement\\nMobile view\\n\\n\\n\\n \\n\\n \\n\\n\\n\\n(window.RLQ=window.RLQ||[]).push(function(){mw.config.set({\"wgPageParseReport\":{\"limitreport\":{\"cputime\":\"0.460\",\"walltime\":\"0.589\",\"ppvisitednodes\":{\"value\":3000,\"limit\":1000000},\"ppgeneratednodes\":{\"value\":0,\"limit\":1500000},\"postexpandincludesize\":{\"value\":59654,\"limit\":2097152},\"templateargumentsize\":{\"value\":4010,\"limit\":2097152},\"expansiondepth\":{\"value\":12,\"limit\":40},\"expensivefunctioncount\":{\"value\":14,\"limit\":500},\"unstrip-depth\":{\"value\":1,\"limit\":20},\"unstrip-size\":{\"value\":15748,\"limit\":5000000},\"entityaccesscount\":{\"value\":2,\"limit\":400},\"timingprofile\":[\"100.00%  490.067      1 -total\",\" 25.43%  124.613      1 Template:Infobox_scientist\",\" 23.32%  114.302      1 Template:Infobox_person\",\" 17.84%   87.419      5 Template:Isbn\",\" 17.47%   85.629      2 Template:Infobox\",\" 12.75%   62.472      1 Template:Authority_control\",\" 12.41%   60.817      1 Template:Reflist\",\" 10.86%   53.246      5 Template:Catalog_lookup_link\",\"  9.91%   48.582      1 Template:More_footnotes\",\"  9.63%   47.204      1 Template:Fields_medalists\"]},\"scribunto\":{\"limitreport-timeusage\":{\"value\":\"0.175\",\"limit\":\"10.000\"},\"limitreport-memusage\":{\"value\":5664871,\"limit\":52428800}},\"cachereport\":{\"origin\":\"mw1272\",\"timestamp\":\"20181023212124\",\"ttl\":1900800,\"transientcontent\":false}}});mw.config.set({\"wgBackendResponseTime\":714,\"wgHostname\":\"mw1272\"});});\\n\\n\\n'"
      ]
     },
     "execution_count": 37,
     "metadata": {},
     "output_type": "execute_result"
    }
   ],
   "source": [
    "soup.text"
   ]
  },
  {
   "cell_type": "code",
   "execution_count": 40,
   "metadata": {},
   "outputs": [],
   "source": [
    "#! -*- coding: utf-8 -*-\n",
    "from bs4 import BeautifulSoup\n",
    "import bleach\n",
    "import requests\n",
    "\n",
    "\n",
    "class WikipediaFetcher(object):\n",
    "\n",
    "    def fetch(self, page_name):\n",
    "        \"\"\"\n",
    "        Passed a Wikipedia page's URL fragment, like\n",
    "        'Edward_Montagu,_1st_Earl_of_Sandwich', this will fetch the page's\n",
    "        main contents, tidy the HTML, strip out any elements we don't want\n",
    "        and return the final HTML string.\n",
    "        Returns a dict with two elements:\n",
    "            'success' is either True or, if we couldn't fetch the page, False.\n",
    "            'content' is the HTML if success==True, or else an error message.\n",
    "        \"\"\"\n",
    "        result = self._get_html(page_name)\n",
    "\n",
    "        if result['success']:\n",
    "            result['content'] = self._tidy_html(result['content'])\n",
    "\n",
    "        return result\n",
    "\n",
    "    def _get_html(self, page_name):\n",
    "        \"\"\"\n",
    "        Passed the name of a Wikipedia page (eg, 'Samuel_Pepys'), it fetches\n",
    "        the HTML content (not the entire HTML page) and returns it.\n",
    "        Returns a dict with two elements:\n",
    "            'success' is either True or, if we couldn't fetch the page, False.\n",
    "            'content' is the HTML if success==True, or else an error message.\n",
    "        \"\"\"\n",
    "        error_message = ''\n",
    "\n",
    "        url = 'https://en.wikipedia.org/wiki/%s' % page_name\n",
    "\n",
    "        try:\n",
    "            response = requests.get(url,\n",
    "                                    params={'action': 'render'}, timeout=5)\n",
    "        except requests.exceptions.ConnectionError:\n",
    "            error_message = \"Can't connect to domain.\"\n",
    "        except requests.exceptions.Timeout:\n",
    "            error_message = \"Connection timed out.\"\n",
    "        except requests.exceptions.TooManyRedirects:\n",
    "            error_message = \"Too many redirects.\"\n",
    "\n",
    "        try:\n",
    "            response.raise_for_status()\n",
    "        except requests.exceptions.HTTPError:\n",
    "            # 4xx or 5xx errors:\n",
    "            error_message = \"HTTP Error: %s\" % response.status_code\n",
    "        except NameError:\n",
    "            if error_message == '':\n",
    "                error_message = \"Something unusual went wrong.\"\n",
    "\n",
    "        if error_message:\n",
    "            return {'success': False, 'content': error_message}\n",
    "        else:\n",
    "            return {'success': True, 'content': response.text}\n",
    "\n",
    "    def _tidy_html(self, html):\n",
    "        \"\"\"\n",
    "        Passed the raw Wikipedia HTML, this returns valid HTML, with all\n",
    "        disallowed elements stripped out.\n",
    "        \"\"\"\n",
    "        html = self._bleach_html(html)\n",
    "        html = self._strip_html(html)\n",
    "        return html\n",
    "\n",
    "    def _bleach_html(self, html):\n",
    "        \"\"\"\n",
    "        Ensures we have valid HTML; no unclosed or mis-nested tags.\n",
    "        Removes any tags and attributes we don't want to let through.\n",
    "        Doesn't remove the contents of any disallowed tags.\n",
    "        Pass it an HTML string, it'll return the bleached HTML string.\n",
    "        \"\"\"\n",
    "\n",
    "        # Pretty much most elements, but no forms or audio/video.\n",
    "        allowed_tags = [\n",
    "            'a', 'abbr', 'acronym', 'address', 'area', 'article',\n",
    "            'b', 'blockquote', 'br',\n",
    "            'caption', 'cite', 'code', 'col', 'colgroup',\n",
    "            'dd', 'del', 'dfn', 'div', 'dl', 'dt',\n",
    "            'em',\n",
    "            'figcaption', 'figure', 'footer',\n",
    "            'h1', 'h2', 'h3', 'h4', 'h5', 'h6', 'header', 'hgroup', 'hr',\n",
    "            'i', 'img', 'ins',\n",
    "            'kbd',\n",
    "            'li',\n",
    "            'map',\n",
    "            'nav',\n",
    "            'ol',\n",
    "            'p', 'pre',\n",
    "            'q',\n",
    "            's', 'samp', 'section', 'small', 'span', 'strong', 'sub', 'sup',\n",
    "            'table', 'tbody', 'td', 'tfoot', 'th', 'thead', 'time', 'tr',\n",
    "            'ul',\n",
    "            'var',\n",
    "            # We allow script here, so we can close/un-mis-nest its tags,\n",
    "            # but then it's removed completely in _strip_html():\n",
    "            'script',\n",
    "        ]\n",
    "\n",
    "        # These attributes will be removed from any of the allowed tags.\n",
    "        allowed_attributes = {\n",
    "            '*':        ['class', 'id'],\n",
    "            'a':        ['href', 'title'],\n",
    "            'abbr':     ['title'],\n",
    "            'acronym':  ['title'],\n",
    "#           'img':      ['alt', 'src', 'srcset'],\n",
    "            # Ugh. Don't know why this page doesn't use .tright like others\n",
    "            # http://127.0.0.1:8000/encyclopedia/5040/\n",
    "#             'table':    ['align'],\n",
    "#             'td':       ['colspan', 'rowspan'],\n",
    "#             'th':       ['colspan', 'rowspan', 'scope'],\n",
    "        }\n",
    "\n",
    "        return bleach.clean(html, tags=allowed_tags,\n",
    "                            attributes=allowed_attributes, strip=True)\n",
    "\n",
    "    def _strip_html(self, html):\n",
    "        \"\"\"\n",
    "        Takes out any tags, and their contents, that we don't want at all.\n",
    "        And adds custom classes to existing tags (so we can apply CSS styles\n",
    "        without having to multiply our CSS).\n",
    "        Pass it an HTML string, it returns the stripped HTML string.\n",
    "        \"\"\"\n",
    "\n",
    "        # CSS selectors. Strip these and their contents.\n",
    "        selectors = [\n",
    "            'div.hatnote',\n",
    "            'div.navbar.mini',  # Will also match div.mini.navbar\n",
    "            # Bottom of https://en.wikipedia.org/wiki/Charles_II_of_England :\n",
    "            'div.topicon',\n",
    "            'a.mw-headline-anchor',\n",
    "            'script',\n",
    "        ]\n",
    "\n",
    "        # Strip any element that has one of these classes.\n",
    "        classes = [\n",
    "            # \"This article may be expanded with text translated from...\"\n",
    "            # https://en.wikipedia.org/wiki/Afonso_VI_of_Portugal\n",
    "            'ambox-notice',\n",
    "            'magnify',\n",
    "            # eg audio on https://en.wikipedia.org/wiki/Bagpipes\n",
    "            'mediaContainer',\n",
    "            'navbox',\n",
    "            'noprint',\n",
    "        ]\n",
    "\n",
    "        # Any element has a class matching a key, it will have the classes\n",
    "        # in the value added.\n",
    "        add_classes = {\n",
    "            # Give these tables standard Bootstrap styles.\n",
    "            'infobox':   ['table', 'table-bordered'],\n",
    "            'ambox':     ['table', 'table-bordered'],\n",
    "            'wikitable': ['table', 'table-bordered'],\n",
    "        }\n",
    "\n",
    "        soup = BeautifulSoup(html, 'html5lib')\n",
    "\n",
    "        for selector in selectors:\n",
    "            [tag.decompose() for tag in soup.select(selector)]\n",
    "\n",
    "        for clss in classes:\n",
    "            [tag.decompose() for tag in soup.find_all(attrs={'class': clss})]\n",
    "\n",
    "        for clss, new_classes in add_classes.items():\n",
    "            for tag in soup.find_all(attrs={'class': clss}):\n",
    "                tag['class'] = tag.get('class', []) + new_classes\n",
    "\n",
    "        # Depending on the HTML parser BeautifulSoup used, soup may have\n",
    "        # surrounding <html><body></body></html> or just <body></body> tags.\n",
    "        if soup.body:\n",
    "            soup = soup.body\n",
    "        elif soup.html:\n",
    "            soup = soup.html.body\n",
    "\n",
    "        # Put the content back into a string.\n",
    "        html = ''.join(str(tag) for tag in soup.contents)\n",
    "\n",
    "        return html"
   ]
  },
  {
   "cell_type": "code",
   "execution_count": 41,
   "metadata": {},
   "outputs": [],
   "source": [
    "page = WikipediaFetcher()"
   ]
  },
  {
   "cell_type": "code",
   "execution_count": 43,
   "metadata": {},
   "outputs": [
    {
     "data": {
      "text/plain": [
       "{'success': True,\n",
       " 'content': '<div class=\"mw-parser-output\"><p class=\"mw-empty-elt\">\\n</p>\\n<table class=\"plainlinks metadata ambox ambox-style ambox-More_footnotes table table-bordered\"><tbody><tr><td class=\"mbox-image\"><div><img alt=\"\" src=\"//upload.wikimedia.org/wikipedia/commons/thumb/a/a4/Text_document_with_red_question_mark.svg/40px-Text_document_with_red_question_mark.svg.png\" srcset=\"//upload.wikimedia.org/wikipedia/commons/thumb/a/a4/Text_document_with_red_question_mark.svg/60px-Text_document_with_red_question_mark.svg.png 1.5x, //upload.wikimedia.org/wikipedia/commons/thumb/a/a4/Text_document_with_red_question_mark.svg/80px-Text_document_with_red_question_mark.svg.png 2x\"/></div></td><td class=\"mbox-text\"><div class=\"mbox-text-span\">This article includes a <a href=\"//en.wikipedia.org/wiki/Wikipedia:Citing_sources\" title=\"Wikipedia:Citing sources\">list of references</a>, but <b>its sources remain unclear</b> because it has <b>insufficient <a href=\"//en.wikipedia.org/wiki/Wikipedia:Citing_sources#Inline_citations\" title=\"Wikipedia:Citing sources\">inline citations</a></b>.<span class=\"hide-when-compact\"> Please help to <a href=\"//en.wikipedia.org/wiki/Wikipedia:WikiProject_Fact_and_Reference_Check\" title=\"Wikipedia:WikiProject Fact and Reference Check\">improve</a> this article by <a href=\"//en.wikipedia.org/wiki/Wikipedia:When_to_cite\" title=\"Wikipedia:When to cite\">introducing</a> more precise citations.</span>  <small><i>(February 2012)</i></small><small class=\"hide-when-compact\"><i> (<a href=\"//en.wikipedia.org/wiki/Help:Maintenance_template_removal\" title=\"Help:Maintenance template removal\">Learn how and when to remove this template message</a>)</i></small></div></td></tr></tbody></table>\\n<table class=\"infobox biography vcard table table-bordered\"><tbody><tr><th colspan=\"2\"><span class=\"fn\">Alain Connes</span></th></tr><tr><td colspan=\"2\">\\n<a class=\"image\" href=\"//en.wikipedia.org/wiki/File:Alain_Connes.jpg\" title=\"Photo of the upper body of Alain Connes with vegetation, blue sky, and clouds in the background\"><img alt=\"Photo of the upper body of Alain Connes with vegetation, blue sky, and clouds in the background\" src=\"//upload.wikimedia.org/wikipedia/commons/thumb/b/be/Alain_Connes.jpg/220px-Alain_Connes.jpg\" srcset=\"//upload.wikimedia.org/wikipedia/commons/b/be/Alain_Connes.jpg 1.5x\"/></a><div>Alain Connes in 2004</div></td></tr><tr><th scope=\"row\">Born</th><td>\\n<span> (<span class=\"bday\">1947-04-01</span>) </span>1 April 1947<br/><span class=\"birthplace\"><a href=\"//en.wikipedia.org/wiki/Draguignan\" title=\"Draguignan\">Draguignan</a>, France</span></td></tr><tr><th scope=\"row\">Nationality</th><td class=\"category\">\\nFrench</td></tr><tr><th scope=\"row\">Alma\\xa0mater</th><td>\\n<a class=\"mw-redirect\" href=\"//en.wikipedia.org/wiki/%C3%89cole_Normale_Sup%C3%A9rieure\" title=\"École Normale Supérieure\">École Normale Supérieure</a> <br/> <a href=\"//en.wikipedia.org/wiki/Pierre_and_Marie_Curie_University\" title=\"Pierre and Marie Curie University\">Pierre and Marie Curie University</a></td></tr><tr><th scope=\"row\">Known\\xa0for</th><td>\\n<a href=\"//en.wikipedia.org/wiki/Baum%E2%80%93Connes_conjecture\" title=\"Baum–Connes conjecture\">Baum–Connes conjecture</a><br/><a href=\"//en.wikipedia.org/wiki/Noncommutative_geometry\" title=\"Noncommutative geometry\">Noncommutative geometry</a><br/><a href=\"//en.wikipedia.org/wiki/Operator_algebra\" title=\"Operator algebra\">Operator algebras</a><br/><a href=\"//en.wikipedia.org/wiki/Thermal_time_hypothesis\" title=\"Thermal time hypothesis\">Thermal time hypothesis</a></td></tr><tr><th scope=\"row\">Awards</th><td>\\n<a class=\"mw-redirect\" href=\"//en.wikipedia.org/wiki/CNRS\" title=\"CNRS\">CNRS</a> Silver Medal (1977)<br/> <a class=\"mw-redirect\" href=\"//en.wikipedia.org/wiki/Prize_Amp%C3%A8re\" title=\"Prize Ampère\">Prize Ampère</a> (1980)<br/> <a href=\"//en.wikipedia.org/wiki/Fields_Medal\" title=\"Fields Medal\">Fields Medal</a> (1982)<br/> <a href=\"//en.wikipedia.org/wiki/Clay_Research_Award\" title=\"Clay Research Award\">Clay Research Award</a> (2000)<br/> <a href=\"//en.wikipedia.org/wiki/Crafoord_Prize\" title=\"Crafoord Prize\">Crafoord Prize</a> (2001)<br/> <a href=\"//en.wikipedia.org/wiki/CNRS_Gold_medal\" title=\"CNRS Gold medal\">CNRS Gold medal</a> (2004)</td></tr><tr><td colspan=\"2\">\\n<b>Scientific career</b></td></tr><tr><th scope=\"row\">Fields</th><td class=\"category\">\\n<a href=\"//en.wikipedia.org/wiki/Mathematics\" title=\"Mathematics\">Mathematics</a></td></tr><tr><th scope=\"row\">Institutions</th><td>\\n<a class=\"mw-redirect\" href=\"//en.wikipedia.org/wiki/IH%C3%89S\" title=\"IHÉS\">IHÉS</a>, France</td></tr><tr><th scope=\"row\"><a href=\"//en.wikipedia.org/wiki/Doctoral_advisor\" title=\"Doctoral advisor\">Doctoral advisor</a></th><td>\\n<a href=\"//en.wikipedia.org/wiki/Jacques_Dixmier\" title=\"Jacques Dixmier\">Jacques Dixmier</a></td></tr><tr><th scope=\"row\">Doctoral students</th><td>\\n<a href=\"//en.wikipedia.org/wiki/Georges_Skandalis\" title=\"Georges Skandalis\">Georges Skandalis</a></td></tr><tr><td colspan=\"2\">\\n</td></tr></tbody></table>\\n<p><b>Alain Connes</b> (<small>French:\\xa0</small><span class=\"IPA\"><a href=\"//en.wikipedia.org/wiki/Help:IPA/French\" title=\"Help:IPA/French\">[alɛ̃ kɔn]</a></span>; born 1 April 1947) is a French mathematician, currently Professor at the <a href=\"//en.wikipedia.org/wiki/Coll%C3%A8ge_de_France\" title=\"Collège de France\">Collège de France</a>, <a class=\"mw-redirect\" href=\"//en.wikipedia.org/wiki/IH%C3%89S\" title=\"IHÉS\">IHÉS</a>, <a href=\"//en.wikipedia.org/wiki/Ohio_State_University\" title=\"Ohio State University\">Ohio State University</a> and <a href=\"//en.wikipedia.org/wiki/Vanderbilt_University\" title=\"Vanderbilt University\">Vanderbilt University</a>. He was an Invited Professor at the <a href=\"//en.wikipedia.org/wiki/Conservatoire_national_des_arts_et_m%C3%A9tiers\" title=\"Conservatoire national des arts et métiers\">Conservatoire national des arts et métiers</a> (2000).<sup class=\"reference\" id=\"cite_ref-1\"><a href=\"#cite_note-1\">[1]</a></sup>\\n</p>\\n<div class=\"toc\" id=\"toc\"><div class=\"toctitle\"><h2>Contents</h2><span class=\"toctogglespan\"></span></div>\\n<ul>\\n<li class=\"toclevel-1 tocsection-1\"><a href=\"#Work\"><span class=\"tocnumber\">1</span> <span class=\"toctext\">Work</span></a></li>\\n<li class=\"toclevel-1 tocsection-2\"><a href=\"#Awards_and_honours\"><span class=\"tocnumber\">2</span> <span class=\"toctext\">Awards and honours</span></a></li>\\n<li class=\"toclevel-1 tocsection-3\"><a href=\"#Books\"><span class=\"tocnumber\">3</span> <span class=\"toctext\">Books</span></a></li>\\n<li class=\"toclevel-1 tocsection-4\"><a href=\"#See_also\"><span class=\"tocnumber\">4</span> <span class=\"toctext\">See also</span></a></li>\\n<li class=\"toclevel-1 tocsection-5\"><a href=\"#References\"><span class=\"tocnumber\">5</span> <span class=\"toctext\">References</span></a></li>\\n<li class=\"toclevel-1 tocsection-6\"><a href=\"#External_links\"><span class=\"tocnumber\">6</span> <span class=\"toctext\">External links</span></a></li>\\n</ul>\\n</div>\\n\\n<h2><span class=\"mw-headline\" id=\"Work\">Work</span></h2>\\n<p>Alain Connes studies <a href=\"//en.wikipedia.org/wiki/Operator_algebra\" title=\"Operator algebra\">operator algebras</a>. In his early work on <a href=\"//en.wikipedia.org/wiki/Von_Neumann_algebra\" title=\"Von Neumann algebra\">von Neumann algebras</a> in the 1970s, he succeeded in obtaining the almost complete classification of injective <a href=\"//en.wikipedia.org/wiki/Von_Neumann_algebra#Factors\" title=\"Von Neumann algebra\">factors</a>. He also formulated the <a href=\"//en.wikipedia.org/wiki/Connes_embedding_problem\" title=\"Connes embedding problem\">Connes embedding problem</a>. Following this, he made contributions in <a href=\"//en.wikipedia.org/wiki/K-theory\" title=\"K-theory\">operator K-theory</a> and <a class=\"mw-redirect\" href=\"//en.wikipedia.org/wiki/Index_theory\" title=\"Index theory\">index theory</a>, which culminated in the <a href=\"//en.wikipedia.org/wiki/Baum%E2%80%93Connes_conjecture\" title=\"Baum–Connes conjecture\">Baum–Connes conjecture</a>. He also introduced <a href=\"//en.wikipedia.org/wiki/Cyclic_homology\" title=\"Cyclic homology\">cyclic cohomology</a> in the early 1980s as a first step in the study of <a href=\"//en.wikipedia.org/wiki/Noncommutative_geometry\" title=\"Noncommutative geometry\">noncommutative differential geometry</a>. He was a member of <a href=\"//en.wikipedia.org/wiki/Nicolas_Bourbaki\" title=\"Nicolas Bourbaki\">Bourbaki</a>.<sup class=\"reference\" id=\"cite_ref-2\"><a href=\"#cite_note-2\">[2]</a></sup>\\n</p><p>Connes has applied his work in areas of mathematics and <a href=\"//en.wikipedia.org/wiki/Theoretical_physics\" title=\"Theoretical physics\">theoretical physics</a>, including <a href=\"//en.wikipedia.org/wiki/Number_theory\" title=\"Number theory\">number theory</a>, <a href=\"//en.wikipedia.org/wiki/Differential_geometry\" title=\"Differential geometry\">differential geometry</a> and <a href=\"//en.wikipedia.org/wiki/Particle_physics\" title=\"Particle physics\">particle physics</a>.<sup class=\"reference\" id=\"cite_ref-3\"><a href=\"#cite_note-3\">[3]</a></sup>\\n</p>\\n<h2><span class=\"mw-headline\" id=\"Awards_and_honours\">Awards and honours</span></h2>\\n<p>Connes was awarded the <a href=\"//en.wikipedia.org/wiki/Fields_Medal\" title=\"Fields Medal\">Fields Medal</a> in 1982, the <a href=\"//en.wikipedia.org/wiki/Crafoord_Prize\" title=\"Crafoord Prize\">Crafoord Prize</a> in 2001 and the gold medal of the <a class=\"mw-redirect\" href=\"//en.wikipedia.org/wiki/CNRS\" title=\"CNRS\">CNRS</a> in 2004.  He was an <a class=\"mw-redirect\" href=\"//en.wikipedia.org/wiki/Invited_speaker_at_the_International_Congress_of_Mathematicians\" title=\"Invited speaker at the International Congress of Mathematicians\">invited speaker at the ICM</a> in 1974 at Vancouver and in 1986 at Berkeley and a <a class=\"mw-redirect\" href=\"//en.wikipedia.org/wiki/Plenary_speaker_at_the_International_Congress_of_Mathematicians\" title=\"Plenary speaker at the International Congress of Mathematicians\">plenary speaker at the ICM</a> in 1978 at Helsinki. He is a member of the <a href=\"//en.wikipedia.org/wiki/French_Academy_of_Sciences\" title=\"French Academy of Sciences\">French Academy of Sciences</a> and several foreign academies and societies, including the <a href=\"//en.wikipedia.org/wiki/Royal_Danish_Academy_of_Sciences_and_Letters\" title=\"Royal Danish Academy of Sciences and Letters\">Danish Academy of Sciences</a>, <a href=\"//en.wikipedia.org/wiki/Norwegian_Academy_of_Science_and_Letters\" title=\"Norwegian Academy of Science and Letters\">Norwegian Academy of Sciences</a>, <a href=\"//en.wikipedia.org/wiki/Russian_Academy_of_Sciences\" title=\"Russian Academy of Sciences\">Russian Academy of Sciences</a>, and <a href=\"//en.wikipedia.org/wiki/National_Academy_of_Sciences\" title=\"National Academy of Sciences\">US National Academy of Sciences</a>.\\n</p>\\n<h2><span class=\"mw-headline\" id=\"Books\">Books</span></h2>\\n<ul><li>Alain Connes and <a href=\"//en.wikipedia.org/wiki/Matilde_Marcolli\" title=\"Matilde Marcolli\">Matilde Marcolli</a>, <i>Noncommutative Geometry, Quantum Fields and Motives</i>, Colloquium Publications, American Mathematical Society, 2007, .mw-parser-output cite.citation{font-style:inherit}.mw-parser-output q{quotes:\"\\\\\"\"\"\\\\\"\"\"\\'\"\"\\'\"}.mw-parser-output code.cs1-code{color:inherit;background:inherit;border:inherit;padding:inherit}.mw-parser-output .cs1-lock-free a{background:url(\"//upload.wikimedia.org/wikipedia/commons/thumb/6/65/Lock-green.svg/9px-Lock-green.svg.png\")no-repeat;background-position:right .1em center}.mw-parser-output .cs1-lock-limited a,.mw-parser-output .cs1-lock-registration a{background:url(\"//upload.wikimedia.org/wikipedia/commons/thumb/d/d6/Lock-gray-alt-2.svg/9px-Lock-gray-alt-2.svg.png\")no-repeat;background-position:right .1em center}.mw-parser-output .cs1-lock-subscription a{background:url(\"//upload.wikimedia.org/wikipedia/commons/thumb/a/aa/Lock-red-alt-2.svg/9px-Lock-red-alt-2.svg.png\")no-repeat;background-position:right .1em center}.mw-parser-output .cs1-subscription,.mw-parser-output .cs1-registration{color:#555}.mw-parser-output .cs1-subscription span,.mw-parser-output .cs1-registration span{border-bottom:1px dotted;cursor:help}.mw-parser-output .cs1-hidden-error{display:none;font-size:100%}.mw-parser-output .cs1-visible-error{font-size:100%}.mw-parser-output .cs1-subscription,.mw-parser-output .cs1-registration,.mw-parser-output .cs1-format{font-size:95%}.mw-parser-output .cs1-kern-left,.mw-parser-output .cs1-kern-wl-left{padding-left:0.2em}.mw-parser-output .cs1-kern-right,.mw-parser-output .cs1-kern-wl-right{padding-right:0.2em}<a href=\"//en.wikipedia.org/wiki/International_Standard_Book_Number\" title=\"International Standard Book Number\">ISBN</a>\\xa0<a href=\"//en.wikipedia.org/wiki/Special:BookSources/978-0821842102\" title=\"Special:BookSources/978-0821842102\">978-0821842102</a> <a class=\"external autonumber\" href=\"http://www.alainconnes.org/docs/bookwebfinal.pdf\">[1]</a></li>\\n<li>Alain Connes, Andre Lichnerowicz, and Marcel Paul Schutzenberger, <i>Triangle of Thought</i>, translated by Jennifer Gage, American Mathematical Society, 2001, <a href=\"//en.wikipedia.org/wiki/International_Standard_Book_Number\" title=\"International Standard Book Number\">ISBN</a>\\xa0<a href=\"//en.wikipedia.org/wiki/Special:BookSources/978-0821826140\" title=\"Special:BookSources/978-0821826140\">978-0821826140</a></li>\\n<li><a href=\"//en.wikipedia.org/wiki/Jean-Pierre_Changeux\" title=\"Jean-Pierre Changeux\">Jean-Pierre Changeux</a>, and Alain Connes, <i>Conversations on Mind, Matter, and Mathematics</i>, translated by M. B. DeBevoise, Princeton University Press, 1998, <a href=\"//en.wikipedia.org/wiki/International_Standard_Book_Number\" title=\"International Standard Book Number\">ISBN</a>\\xa0<a href=\"//en.wikipedia.org/wiki/Special:BookSources/978-0691004051\" title=\"Special:BookSources/978-0691004051\">978-0691004051</a></li>\\n<li>Alain Connes, <i>Noncommutative Geometry</i>, Academic Press, 1994, <a href=\"//en.wikipedia.org/wiki/International_Standard_Book_Number\" title=\"International Standard Book Number\">ISBN</a>\\xa0<a href=\"//en.wikipedia.org/wiki/Special:BookSources/978-0121858605\" title=\"Special:BookSources/978-0121858605\">978-0121858605</a><sup class=\"reference\" id=\"cite_ref-4\"><a href=\"#cite_note-4\">[4]</a></sup></li></ul>\\n<h2><span class=\"mw-headline\" id=\"See_also\">See also</span></h2>\\n<ul><li><a href=\"//en.wikipedia.org/wiki/Bost%E2%80%93Connes_system\" title=\"Bost–Connes system\">Bost–Connes system</a></li>\\n<li><a href=\"//en.wikipedia.org/wiki/Cyclic_homology\" title=\"Cyclic homology\">Cyclic homology</a></li>\\n<li><a class=\"mw-redirect\" href=\"//en.wikipedia.org/wiki/Factor_(functional_analysis)\" title=\"Factor (functional analysis)\">Factor (functional analysis)</a></li>\\n<li><a href=\"//en.wikipedia.org/wiki/Higgs_boson\" title=\"Higgs boson\">Higgs boson</a></li>\\n<li><a href=\"//en.wikipedia.org/wiki/C*-algebra\" title=\"C*-algebra\">C*-algebra</a></li>\\n<li><a href=\"//en.wikipedia.org/wiki/M-theory\" title=\"M-theory\">M-theory</a></li>\\n<li><a href=\"//en.wikipedia.org/wiki/Groupoid\" title=\"Groupoid\">Groupoid</a></li>\\n<li><a href=\"//en.wikipedia.org/wiki/Criticism_of_non-standard_analysis\" title=\"Criticism of non-standard analysis\">Criticism of non-standard analysis</a></li></ul>\\n<h2><span class=\"mw-headline\" id=\"References\">References</span></h2>\\n<div class=\"reflist\">\\n<div class=\"mw-references-wrap\"><ol class=\"references\">\\n<li id=\"cite_note-1\"><span class=\"mw-cite-backlink\"><b><a href=\"#cite_ref-1\">^</a></b></span> <span class=\"reference-text\">Alain Connes, «\\xa0Géométrie non-commutative\\xa0», <i>Université de tous les savoirs</i>, <b>4</b>, 175-190, Editions Odile Jacob, 2001.</span>\\n</li>\\n<li id=\"cite_note-2\"><span class=\"mw-cite-backlink\"><b><a href=\"#cite_ref-2\">^</a></b></span> <span class=\"reference-text\"><cite class=\"citation\" id=\"CITEREFMashaal2006\">Mashaal, Maurice (2006), <a class=\"external text\" href=\"https://books.google.com/books?id=-CXn6y_1nJ8C&amp;pg=PA18\"><i>Bourbaki: a secret society of mathematicians</i></a>, <a href=\"//en.wikipedia.org/wiki/American_Mathematical_Society\" title=\"American Mathematical Society\">American Mathematical Society</a>, p.\\xa018, <a href=\"//en.wikipedia.org/wiki/International_Standard_Book_Number\" title=\"International Standard Book Number\">ISBN</a>\\xa0<a href=\"//en.wikipedia.org/wiki/Special:BookSources/978-0-8218-3967-6\" title=\"Special:BookSources/978-0-8218-3967-6\">978-0-8218-3967-6</a></cite><span class=\"Z3988\"></span>.</span>\\n</li>\\n<li id=\"cite_note-3\"><span class=\"mw-cite-backlink\"><b><a href=\"#cite_ref-3\">^</a></b></span> <span class=\"reference-text\"><a class=\"external text\" href=\"http://www.scientificamerican.com/article.cfm?id=the-geometer-of-particle\">\"The Geometer of Particle Physics\"</a> <i> Scientific American</i>, 24 July 2006</span>\\n</li>\\n<li id=\"cite_note-4\"><span class=\"mw-cite-backlink\"><b><a href=\"#cite_ref-4\">^</a></b></span> <span class=\"reference-text\"><cite class=\"citation journal\"><a href=\"//en.wikipedia.org/wiki/Irving_Segal\" title=\"Irving Segal\">Segal, Irving</a> (1996). <a class=\"external text\" href=\"http://www.ams.org/journals/bull/1996-33-04/S0273-0979-96-00687-8/S0273-0979-96-00687-8.pdf\">\"Review: <i>Noncommutative geometry</i>, by Alain Connes\"</a> <span class=\"cs1-format\">(PDF)</span>. <i>Bull. Amer. Math. Soc. (N.S.)</i>. <b>33</b> (4): 459–465. <a href=\"//en.wikipedia.org/wiki/Digital_object_identifier\" title=\"Digital object identifier\">doi</a>:<a class=\"external text\" href=\"//doi.org/10.1090%2Fs0273-0979-96-00687-8\">10.1090/s0273-0979-96-00687-8</a>.</cite><span class=\"Z3988\"></span></span>\\n</li>\\n</ol></div></div>\\n<h2><span class=\"mw-headline\" id=\"External_links\">External links</span></h2>\\n<ul><li><a class=\"external text\" href=\"http://www.alainconnes.org/\">Alain Connes Official Web Site</a> containing <a class=\"external text\" href=\"http://www.alainconnes.org/en/downloads.php\">downloadable papers</a>, and his book <a class=\"external text\" href=\"http://www.alainconnes.org/docs/book94bigpdf.pdf\"><i>Non-commutative geometry</i></a>, <a href=\"//en.wikipedia.org/wiki/International_Standard_Book_Number\" title=\"International Standard Book Number\">ISBN</a>\\xa0<a href=\"//en.wikipedia.org/wiki/Special:BookSources/0-12-185860-X\" title=\"Special:BookSources/0-12-185860-X\">0-12-185860-X</a>.</li>\\n<li><a class=\"external text\" href=\"https://ncatlab.org/nlab/show/Alain+Connes\">Alain Connes</a> in <i><a href=\"//en.wikipedia.org/wiki/NLab\" title=\"NLab\">nLab</a></i></li>\\n<li><a class=\"external text\" href=\"http://resonaances.blogspot.com/2007/02/alain-connes-standard-model.html\">Alain Connes\\' Standard Model</a></li>\\n<li>An <a class=\"external text\" href=\"http://www.ipm.ac.ir/ViewNewsInfo.jsp?NTID=227\">interview with Alain Connes</a> and a <a class=\"external text\" href=\"http://www.math.columbia.edu/~woit/wordpress/?p=313\">discussion about it</a></li>\\n<li><cite class=\"citation\"><a class=\"mw-redirect\" href=\"//en.wikipedia.org/wiki/John_J._O%27Connor_(mathematician)\" title=\"John J. O\\'Connor (mathematician)\">O\\'Connor, John J.</a>; <a href=\"//en.wikipedia.org/wiki/Edmund_F._Robertson\" title=\"Edmund F. Robertson\">Robertson, Edmund F.</a>, <a class=\"external text\" href=\"http://www-history.mcs.st-andrews.ac.uk/Biographies/Connes.html\">\"Alain Connes\"</a>, <i><a href=\"//en.wikipedia.org/wiki/MacTutor_History_of_Mathematics_archive\" title=\"MacTutor History of Mathematics archive\">MacTutor History of Mathematics archive</a></i>, <a href=\"//en.wikipedia.org/wiki/University_of_St_Andrews\" title=\"University of St Andrews\">University of St Andrews</a></cite><span class=\"Z3988\"></span>.</li>\\n<li><a class=\"external text\" href=\"https://www.genealogy.math.ndsu.nodak.edu/id.php?id=34220\">Alain Connes</a> at the <a href=\"//en.wikipedia.org/wiki/Mathematics_Genealogy_Project\" title=\"Mathematics Genealogy Project\">Mathematics Genealogy Project</a></li></ul>\\n\\n\\n\\n\\n\\n\\n\\n</div>'}"
      ]
     },
     "execution_count": 43,
     "metadata": {},
     "output_type": "execute_result"
    }
   ],
   "source": [
    "page.fetch('Alain_Connes')"
   ]
  },
  {
   "cell_type": "code",
   "execution_count": null,
   "metadata": {},
   "outputs": [],
   "source": []
  }
 ],
 "metadata": {
  "kernelspec": {
   "display_name": "Python 3",
   "language": "python",
   "name": "python3"
  },
  "language_info": {
   "codemirror_mode": {
    "name": "ipython",
    "version": 3
   },
   "file_extension": ".py",
   "mimetype": "text/x-python",
   "name": "python",
   "nbconvert_exporter": "python",
   "pygments_lexer": "ipython3",
   "version": "3.6.5"
  }
 },
 "nbformat": 4,
 "nbformat_minor": 2
}
