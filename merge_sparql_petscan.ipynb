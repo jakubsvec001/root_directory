{
 "cells": [
  {
   "cell_type": "code",
   "execution_count": 50,
   "metadata": {},
   "outputs": [],
   "source": [
    "import pandas as pd\n",
    "import numpy as np\n",
    "\n",
    "def merge_sparql_petscan(sparql_in, petscan_in, outfile):\n",
    "    sparql = pd.read_csv(sparql_in, sep='\\t')\n",
    "    sparql = sparql[['wikidata_id', 'article_name', 'wikipedia_url']]\n",
    "    sparql.columns = ['wikidata', 'title', 'url']\n",
    "    petscan = pd.read_csv(petscan_in, sep='\\t')\n",
    "    data = pd.concat([petscan, sparql], axis=0)\n",
    "    data = data[~data['wikidata'].duplicated()]\n",
    "    data.to_csv(str(outfile), sep='\\t', encoding='utf-8')\n",
    "    "
   ]
  },
  {
   "cell_type": "code",
   "execution_count": 51,
   "metadata": {},
   "outputs": [
    {
     "data": {
      "text/plain": [
       "(11697, 3)"
      ]
     },
     "execution_count": 51,
     "metadata": {},
     "output_type": "execute_result"
    }
   ],
   "source": [
    "data.shape"
   ]
  },
  {
   "cell_type": "code",
   "execution_count": null,
   "metadata": {},
   "outputs": [],
   "source": []
  }
 ],
 "metadata": {
  "kernelspec": {
   "display_name": "Python 3",
   "language": "python",
   "name": "python3"
  },
  "language_info": {
   "codemirror_mode": {
    "name": "ipython",
    "version": 3
   },
   "file_extension": ".py",
   "mimetype": "text/x-python",
   "name": "python",
   "nbconvert_exporter": "python",
   "pygments_lexer": "ipython3",
   "version": "3.6.6"
  }
 },
 "nbformat": 4,
 "nbformat_minor": 2
}
