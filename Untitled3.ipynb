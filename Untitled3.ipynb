{
 "cells": [
  {
   "cell_type": "code",
   "execution_count": 1,
   "metadata": {},
   "outputs": [],
   "source": [
    "import csv\n",
    "import glob\n",
    "import wiki_parse as w\n",
    "import sys\n",
    "import pandas as pd\n",
    "import json\n",
    "\n",
    "\n"
   ]
  },
  {
   "cell_type": "code",
   "execution_count": 5,
   "metadata": {},
   "outputs": [],
   "source": [
    "input_titles = pd.read_csv('small_seed_data/math_articles_8687', sep='\\t', encoding='utf-8', header=None)[0].tolist()\n",
    "dumps = 'wiki_dump/26_enwiki-20180720-pages-articles20.xml-p18754736p20254736.bz2'"
   ]
  },
  {
   "cell_type": "code",
   "execution_count": null,
   "metadata": {},
   "outputs": [],
   "source": []
  },
  {
   "cell_type": "code",
   "execution_count": 4,
   "metadata": {},
   "outputs": [],
   "source": []
  },
  {
   "cell_type": "code",
   "execution_count": null,
   "metadata": {},
   "outputs": [
    {
     "name": "stdout",
     "output_type": "stream",
     "text": [
      "Found articles: 177 Search count: 410342"
     ]
    }
   ],
   "source": [
    "stopwatch, page = w.create_corpus(dumps, input_titles, save=True, limit=None)"
   ]
  },
  {
   "cell_type": "code",
   "execution_count": null,
   "metadata": {},
   "outputs": [],
   "source": [
    "stopwatch"
   ]
  },
  {
   "cell_type": "code",
   "execution_count": null,
   "metadata": {},
   "outputs": [],
   "source": [
    "data = []\n",
    "with open('data/temp_results/file1.json', 'r') as fin:\n",
    "        for l in fin.readlines():\n",
    "            data.append(json.loads(l))"
   ]
  },
  {
   "cell_type": "code",
   "execution_count": null,
   "metadata": {},
   "outputs": [],
   "source": [
    "len(data)"
   ]
  },
  {
   "cell_type": "code",
   "execution_count": 147,
   "metadata": {},
   "outputs": [],
   "source": []
  },
  {
   "cell_type": "code",
   "execution_count": 155,
   "metadata": {},
   "outputs": [],
   "source": [
    "\n",
    "            "
   ]
  },
  {
   "cell_type": "code",
   "execution_count": 156,
   "metadata": {},
   "outputs": [
    {
     "data": {
      "text/plain": [
       "5"
      ]
     },
     "execution_count": 156,
     "metadata": {},
     "output_type": "execute_result"
    }
   ],
   "source": []
  },
  {
   "cell_type": "code",
   "execution_count": 111,
   "metadata": {},
   "outputs": [],
   "source": [
    "res = []"
   ]
  },
  {
   "cell_type": "code",
   "execution_count": 114,
   "metadata": {},
   "outputs": [],
   "source": [
    "for link in lst:\n",
    "    link = link.strip('[]')\n",
    "    if 'File:' not in link and \\\n",
    "               'Category:' not in link and \\\n",
    "                'Wikipedia:' not in link and \\\n",
    "                'en:' not in link and \\\n",
    "                'Image:' not in link:\n",
    "        res.append(link)"
   ]
  },
  {
   "cell_type": "code",
   "execution_count": 115,
   "metadata": {},
   "outputs": [
    {
     "data": {
      "text/plain": [
       "['mathematics',\n",
       " 'mathematics',\n",
       " 'group action|acting',\n",
       " 'Generating set of a group|generates',\n",
       " 'free group|free',\n",
       " 'subgroup',\n",
       " 'Felix Klein',\n",
       " 'Kleinian group',\n",
       " 'hyperbolic 3-space',\n",
       " 'Möbius transformation',\n",
       " 'Riemann sphere',\n",
       " 'Jacques Tits',\n",
       " 'Journal of Algebra',\n",
       " 'Tits alternative',\n",
       " 'finitely generated group|finitely generated',\n",
       " 'linear group',\n",
       " 'virtually',\n",
       " 'solvable group|solvable',\n",
       " 'free group|free',\n",
       " 'subgroup',\n",
       " 'geometric topology',\n",
       " 'geometric group theory',\n",
       " 'Roger Lyndon|Roger C. Lyndon',\n",
       " 'subgroup',\n",
       " 'free product',\n",
       " 'order (group theory)|order',\n",
       " 'Disjoint_sets#Generalizations|pairwise disjoint',\n",
       " 'group action|acting',\n",
       " 'Generating set of a group|generated',\n",
       " 'free group|free',\n",
       " 'free group|free',\n",
       " 'cyclic group|cyclic',\n",
       " 'subgroup',\n",
       " 'linear transformation',\n",
       " 'infinite cyclic group|infinite cyclic',\n",
       " 'free group',\n",
       " 'word-hyperbolic group',\n",
       " 'torsion-free group|torsion-free',\n",
       " 'Order (group theory)|order',\n",
       " 'free group|free',\n",
       " 'Group action|acts',\n",
       " 'homeomorphism',\n",
       " 'attracting fixed point',\n",
       " 'Fixed point (mathematics)|repelling fixed point',\n",
       " 'word-hyperbolic group',\n",
       " 'Neighbourhood (mathematics)|neighborhoods',\n",
       " 'free group|free',\n",
       " 'Kleinian group',\n",
       " 'Schottky group|Schottky subgroups',\n",
       " 'hyperbolic 3-space',\n",
       " 'free group|free',\n",
       " 'properly discontinuous',\n",
       " 'geometrically finite group|geometrically finite',\n",
       " 'geometric group theory',\n",
       " 'word-hyperbolic group',\n",
       " 'Alexander Lubotzky',\n",
       " 'Geometric and Functional Analysis',\n",
       " 'mapping class group',\n",
       " 'Riemann surface',\n",
       " 'Teichmüller space',\n",
       " 'American Mathematical Society',\n",
       " 'outer automorphism group',\n",
       " 'free group',\n",
       " 'Mladen Bestvina|M. Bestvina',\n",
       " 'Geometric and Functional Analysis',\n",
       " 'Jacques Tits',\n",
       " 'Tits alternative',\n",
       " 'linear group',\n",
       " 'free product',\n",
       " 'free product with amalgamation|amalgamated free products',\n",
       " 'HNN extension',\n",
       " 'Kleinian group',\n",
       " 'Bernard Maskit',\n",
       " 'free semigroup',\n",
       " 'group action',\n",
       " 'linear group',\n",
       " 'Inventiones Mathematicae',\n",
       " 'Bass-Serre theory|acting on trees',\n",
       " 'American Mathematical Society',\n",
       " 'Geometry & Topology',\n",
       " 'Free group',\n",
       " 'Free product',\n",
       " 'Kleinian group',\n",
       " 'Tits alternative',\n",
       " 'Word-hyperbolic group',\n",
       " 'Schottky group']"
      ]
     },
     "execution_count": 115,
     "metadata": {},
     "output_type": "execute_result"
    }
   ],
   "source": [
    "res"
   ]
  },
  {
   "cell_type": "code",
   "execution_count": null,
   "metadata": {},
   "outputs": [],
   "source": []
  },
  {
   "cell_type": "code",
   "execution_count": null,
   "metadata": {},
   "outputs": [],
   "source": []
  },
  {
   "cell_type": "code",
   "execution_count": null,
   "metadata": {},
   "outputs": [],
   "source": []
  },
  {
   "cell_type": "code",
   "execution_count": null,
   "metadata": {},
   "outputs": [],
   "source": []
  },
  {
   "cell_type": "code",
   "execution_count": null,
   "metadata": {},
   "outputs": [],
   "source": [
    "print(data[0]['content'])"
   ]
  },
  {
   "cell_type": "code",
   "execution_count": 35,
   "metadata": {},
   "outputs": [],
   "source": [
    "data = pd.DataFrame(data)"
   ]
  },
  {
   "cell_type": "code",
   "execution_count": 36,
   "metadata": {},
   "outputs": [
    {
     "data": {
      "text/plain": [
       "'<!--Please do not comment or change this page, it is bot generated and will be completely regenerated by the bot. If you want to comment, please do so on the talkpage.-->\\n\\n{{User:COIBot/Summary/LinkReports}}\\n\\n{{User:COIBot/linksaverdatabases|1|0|1|0|0}}\\n\\n\\n<!-- tags and categories -->{{NOINDEX}}\\n\\n== Links ==\\n\\n* {{LinkSummary|avenueqlondon.com}}\\n\\n:* avenueqlondon.com resolves to [http://188.65.112.252 188.65.112.252]\\n\\n:*: {{LinkSummary|188.65.112.252}}\\n\\n:* Link is not on the [[en:User:COIBot#Blacklist|blacklist]].\\n\\n:* Link is not on the [[en:User:COIBot#Domainredlist|domainredlist]].\\n\\n:* Link is not on the [[en:User:COIBot#Monitorlist|Monitorlist]].\\n\\n:* None of the mentioned users is on the [[en:User:COIBot#Blacklist|blacklist]].\\n\\n:* Link is not on the [[en:User:COIBot#Whitelist|whitelist]].\\n\\n:* Link is not on the [[en:User:COIBot#Monitor list|monitor list]].\\n\\n:* Link is globally blacklisted by \\\\bavenueqlondon\\\\.com\\\\b\\n\\n== Users ==\\n\\n* {{IPSummary|79.121.254.230}}\\n\\n== Additions ==\\n\\n{{User:COIBot/Additionlist_top}}\\n\\n{{User:COIBot/EditSummary|id=22154803|lang=en|wikidomain=q|namespace=|pagename=Avenue Q|username=79.121.254.230|link=www.avenueqlondon.com|sortdomain=com.avenueqlondon.|domain=avenueqlondon.com|origdiff=http://en.wikiquote.org/w/index.php?diff=1365532&oldid=1345705|resolved=188.65.112.252|isIP=1|date=2011-11-07|time=16:32:10|wiki=en.wikiquote.org|revid=1365532|oldid=1345705|usercount=38|whitelisted=0|blacklisteduser=0|whitereason=|blackreason=|deleted=0|top=0|there=|checked=0|coiflag=0|otherlinks={{User:COIBot/OtherLinks|link=www.avenueqlondon.com|domain=avenueqlondon.com|U=38|L=1|UL=1|WUL=1}}}}\\n\\n{{User:COIBot/Additionlist_bottom}}\\n\\n* Displayed all 1 additions.'"
      ]
     },
     "execution_count": 36,
     "metadata": {},
     "output_type": "execute_result"
    }
   ],
   "source": [
    "data.loc[0,'content']"
   ]
  },
  {
   "cell_type": "code",
   "execution_count": 1,
   "metadata": {},
   "outputs": [],
   "source": []
  },
  {
   "cell_type": "code",
   "execution_count": 23,
   "metadata": {},
   "outputs": [],
   "source": []
  },
  {
   "cell_type": "code",
   "execution_count": 52,
   "metadata": {},
   "outputs": [
    {
     "data": {
      "text/plain": [
       "8685"
      ]
     },
     "execution_count": 52,
     "metadata": {},
     "output_type": "execute_result"
    }
   ],
   "source": [
    "len(input_files)"
   ]
  },
  {
   "cell_type": "code",
   "execution_count": 24,
   "metadata": {},
   "outputs": [],
   "source": [
    "import wiki_parse as w"
   ]
  },
  {
   "cell_type": "code",
   "execution_count": 25,
   "metadata": {},
   "outputs": [],
   "source": [
    "dumps = glob.glob('wiki_dump/*.bz2')"
   ]
  },
  {
   "cell_type": "code",
   "execution_count": 58,
   "metadata": {},
   "outputs": [],
   "source": [
    "articles = w.create_corpus(dumps[2], input_files)"
   ]
  },
  {
   "cell_type": "code",
   "execution_count": 59,
   "metadata": {},
   "outputs": [
    {
     "ename": "IndexError",
     "evalue": "list index out of range",
     "output_type": "error",
     "traceback": [
      "\u001b[0;31m---------------------------------------------------------------------------\u001b[0m",
      "\u001b[0;31mIndexError\u001b[0m                                Traceback (most recent call last)",
      "\u001b[0;32m<ipython-input-59-4fbaec6eff45>\u001b[0m in \u001b[0;36m<module>\u001b[0;34m\u001b[0m\n\u001b[0;32m----> 1\u001b[0;31m \u001b[0marticles\u001b[0m\u001b[0;34m[\u001b[0m\u001b[0;36m0\u001b[0m\u001b[0;34m]\u001b[0m\u001b[0;34m\u001b[0m\u001b[0m\n\u001b[0m",
      "\u001b[0;31mIndexError\u001b[0m: list index out of range"
     ]
    }
   ],
   "source": [
    "articles[0]"
   ]
  },
  {
   "cell_type": "code",
   "execution_count": 114,
   "metadata": {},
   "outputs": [],
   "source": [
    "lines = w.get_lines_bz2(dumps[0])"
   ]
  },
  {
   "cell_type": "code",
   "execution_count": 115,
   "metadata": {},
   "outputs": [],
   "source": [
    "pages = w.get_pages(lines, input_files)"
   ]
  },
  {
   "cell_type": "code",
   "execution_count": 106,
   "metadata": {},
   "outputs": [],
   "source": [
    "for i, page in enumerate(pages):\n",
    "    if i > 5:\n",
    "        break\n",
    "    print(page)"
   ]
  },
  {
   "cell_type": "code",
   "execution_count": 116,
   "metadata": {},
   "outputs": [
    {
     "ename": "KeyboardInterrupt",
     "evalue": "",
     "output_type": "error",
     "traceback": [
      "\u001b[0;31m---------------------------------------------------------------------------\u001b[0m",
      "\u001b[0;31mKeyboardInterrupt\u001b[0m                         Traceback (most recent call last)",
      "\u001b[0;32m<ipython-input-116-9240ea65a37c>\u001b[0m in \u001b[0;36m<module>\u001b[0;34m\u001b[0m\n\u001b[0;32m----> 1\u001b[0;31m \u001b[0mnext\u001b[0m\u001b[0;34m(\u001b[0m\u001b[0mpages\u001b[0m\u001b[0;34m)\u001b[0m\u001b[0;34m\u001b[0m\u001b[0m\n\u001b[0m",
      "\u001b[0;32m~/Desktop/root_directory/wiki_parse.py\u001b[0m in \u001b[0;36mget_pages\u001b[0;34m(lines, input_titles)\u001b[0m\n\u001b[1;32m     17\u001b[0m     \u001b[0mpage\u001b[0m \u001b[0;34m=\u001b[0m \u001b[0;34m[\u001b[0m\u001b[0;34m]\u001b[0m\u001b[0;34m\u001b[0m\u001b[0m\n\u001b[1;32m     18\u001b[0m     \u001b[0minpage\u001b[0m \u001b[0;34m=\u001b[0m \u001b[0;32mFalse\u001b[0m\u001b[0;34m\u001b[0m\u001b[0m\n\u001b[0;32m---> 19\u001b[0;31m     \u001b[0;32mfor\u001b[0m \u001b[0mline\u001b[0m \u001b[0;32min\u001b[0m \u001b[0mlines\u001b[0m\u001b[0;34m:\u001b[0m\u001b[0;34m\u001b[0m\u001b[0m\n\u001b[0m\u001b[1;32m     20\u001b[0m         \u001b[0mline\u001b[0m \u001b[0;34m=\u001b[0m \u001b[0mline\u001b[0m\u001b[0;34m.\u001b[0m\u001b[0mlstrip\u001b[0m\u001b[0;34m(\u001b[0m\u001b[0;34m)\u001b[0m\u001b[0;34m\u001b[0m\u001b[0m\n\u001b[1;32m     21\u001b[0m         \u001b[0;32mif\u001b[0m \u001b[0mline\u001b[0m\u001b[0;34m.\u001b[0m\u001b[0mstartswith\u001b[0m\u001b[0;34m(\u001b[0m\u001b[0;34m'<page>'\u001b[0m\u001b[0;34m)\u001b[0m\u001b[0;34m:\u001b[0m\u001b[0;34m\u001b[0m\u001b[0m\n",
      "\u001b[0;32m~/Desktop/root_directory/wiki_parse.py\u001b[0m in \u001b[0;36mget_lines_bz2\u001b[0;34m(filename)\u001b[0m\n\u001b[1;32m      9\u001b[0m     for line in subprocess.Popen(['bzcat'], \n\u001b[1;32m     10\u001b[0m                              \u001b[0mstdin\u001b[0m \u001b[0;34m=\u001b[0m \u001b[0mopen\u001b[0m\u001b[0;34m(\u001b[0m\u001b[0mfilename\u001b[0m\u001b[0;34m,\u001b[0m \u001b[0;34m'rb'\u001b[0m\u001b[0;34m)\u001b[0m\u001b[0;34m,\u001b[0m\u001b[0;34m\u001b[0m\u001b[0m\n\u001b[0;32m---> 11\u001b[0;31m                              \u001b[0mstdout\u001b[0m \u001b[0;34m=\u001b[0m \u001b[0msubprocess\u001b[0m\u001b[0;34m.\u001b[0m\u001b[0mPIPE\u001b[0m\u001b[0;34m\u001b[0m\u001b[0m\n\u001b[0m\u001b[1;32m     12\u001b[0m                              ).stdout:\n\u001b[1;32m     13\u001b[0m         \u001b[0;32myield\u001b[0m \u001b[0mline\u001b[0m\u001b[0;34m.\u001b[0m\u001b[0mdecode\u001b[0m\u001b[0;34m(\u001b[0m\u001b[0;34m)\u001b[0m\u001b[0;34m\u001b[0m\u001b[0m\n",
      "\u001b[0;31mKeyboardInterrupt\u001b[0m: "
     ]
    }
   ],
   "source": [
    "next(pages)"
   ]
  },
  {
   "cell_type": "code",
   "execution_count": 92,
   "metadata": {},
   "outputs": [
    {
     "data": {
      "text/plain": [
       "[]"
      ]
     },
     "execution_count": 92,
     "metadata": {},
     "output_type": "execute_result"
    }
   ],
   "source": [
    "corpus"
   ]
  },
  {
   "cell_type": "code",
   "execution_count": null,
   "metadata": {},
   "outputs": [],
   "source": []
  },
  {
   "cell_type": "code",
   "execution_count": 56,
   "metadata": {},
   "outputs": [
    {
     "name": "stdout",
     "output_type": "stream",
     "text": [
      "<mediawiki xmlns=\"http://www.mediawiki.org/xml/export-0.10/\" xmlns:xsi=\"http://www.w3.org/2001/XMLSchema-instance\" xsi:schemaLocation=\"http://www.mediawiki.org/xml/export-0.10/ http://www.mediawiki.org/xml/export-0.10.xsd\" version=\"0.10\" xml:lang=\"en\">\n",
      "\n",
      "  <siteinfo>\n",
      "\n",
      "    <sitename>Wikipedia</sitename>\n",
      "\n",
      "    <dbname>enwiki</dbname>\n",
      "\n",
      "    <base>https://en.wikipedia.org/wiki/Main_Page</base>\n",
      "\n",
      "    <generator>MediaWiki 1.32.0-wmf.12</generator>\n",
      "\n"
     ]
    }
   ],
   "source": [
    "for i, line in enumerate(lines):\n",
    "    if i > 5:\n",
    "        break\n",
    "    print(line)"
   ]
  },
  {
   "cell_type": "code",
   "execution_count": 41,
   "metadata": {},
   "outputs": [
    {
     "ename": "IndexError",
     "evalue": "list index out of range",
     "output_type": "error",
     "traceback": [
      "\u001b[0;31m---------------------------------------------------------------------------\u001b[0m",
      "\u001b[0;31mIndexError\u001b[0m                                Traceback (most recent call last)",
      "\u001b[0;32m<ipython-input-41-3ac598d0275b>\u001b[0m in \u001b[0;36m<module>\u001b[0;34m\u001b[0m\n\u001b[0;32m----> 1\u001b[0;31m \u001b[0mlst\u001b[0m\u001b[0;34m[\u001b[0m\u001b[0;36m0\u001b[0m\u001b[0;34m]\u001b[0m\u001b[0;34m\u001b[0m\u001b[0m\n\u001b[0m",
      "\u001b[0;31mIndexError\u001b[0m: list index out of range"
     ]
    }
   ],
   "source": [
    "lst[0]"
   ]
  },
  {
   "cell_type": "code",
   "execution_count": 21,
   "metadata": {},
   "outputs": [
    {
     "data": {
      "text/plain": [
       "{'title': 'Philosophical Perspectives',\n",
       " 'content': \"{{Infobox journal\\n| title = Philosophical Perspectives\\n| cover = \\n| editor = [[Ernest Sosa]]\\n| discipline = [[Philosophy]]\\n| abbreviation = Philos. Perspect.\\n| publisher = [[Wiley-Blackwell]]\\n| country =\\n| frequency = Annually\\n| history = 1987–present\\n| openaccess = \\n| impact = \\n| impact-year = \\n| website = http://onlinelibrary.wiley.com/journal/10.1111/(ISSN)1520-8583\\n| link1 = http://onlinelibrary.wiley.com/journal/10.1111/(ISSN)1520-8583/currentissue\\n| link1-name = Online access\\n| link2 = http://onlinelibrary.wiley.com/journal/10.1111/(ISSN)1520-8583/issues\\n| link2-name = Online archive\\n| JSTOR = 15208583\\n| OCLC = 40108872\\n| LCCN = 88649942\\n| CODEN = \\n| ISSN = 1520-8583\\n| eISSN = \\n}}\\n'''''Philosophical Perspectives''''' is an annual [[Peer review|peer-reviewed]] [[academic journal]] of [[philosophy]]. Each annual volume is dedicated to a specific theme addressing philosophical problems. The founding [[editor-in-chief]] was [[James E. Tomberlin]], who edited the series from 1987 to 2002. ''Philosophical Perspectives'' became a supplement to ''[[Noûs]]'' in 1996 and is currently published by [[Wiley-Blackwell]].\\n== See also ==\\n* [[List of philosophy journals]]\\n== External links ==\\n* {{Official website|http://onlinelibrary.wiley.com/journal/10.1111/(ISSN)1520-8583}}\\n[[Category:Philosophy journals]]\\n[[Category:Wiley-Blackwell academic journals]]\\n[[Category:English-language journals]]\\n[[Category:Publications established in 1987]]\\n[[Category:Annual journals]]\\n[[Category:Contemporary philosophical literature]]\\n{{philo-journal-stub}}\"}"
      ]
     },
     "execution_count": 21,
     "metadata": {},
     "output_type": "execute_result"
    }
   ],
   "source": [
    "next(articles)"
   ]
  },
  {
   "cell_type": "code",
   "execution_count": null,
   "metadata": {},
   "outputs": [],
   "source": []
  }
 ],
 "metadata": {
  "kernelspec": {
   "display_name": "Python 3",
   "language": "python",
   "name": "python3"
  },
  "language_info": {
   "codemirror_mode": {
    "name": "ipython",
    "version": 3
   },
   "file_extension": ".py",
   "mimetype": "text/x-python",
   "name": "python",
   "nbconvert_exporter": "python",
   "pygments_lexer": "ipython3",
   "version": "3.6.6"
  }
 },
 "nbformat": 4,
 "nbformat_minor": 2
}
