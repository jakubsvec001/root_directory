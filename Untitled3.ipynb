{
 "cells": [
  {
   "cell_type": "code",
   "execution_count": 324,
   "metadata": {},
   "outputs": [],
   "source": [
    "import csv\n",
    "import glob\n",
    "import wiki_parse as w\n",
    "import sys\n",
    "import pandas as pd\n",
    "import json\n",
    "import glob\n",
    "import mwparserfromhell\n",
    "import pymongo\n",
    "from gensim.corpora import wikicorpus\n",
    "import re"
   ]
  },
  {
   "cell_type": "code",
   "execution_count": 332,
   "metadata": {},
   "outputs": [],
   "source": [
    "lines = w.get_lines_bz2('wiki_dump/'+file)"
   ]
  },
  {
   "cell_type": "code",
   "execution_count": 333,
   "metadata": {},
   "outputs": [],
   "source": [
    "limit = 2"
   ]
  },
  {
   "cell_type": "code",
   "execution_count": 334,
   "metadata": {},
   "outputs": [],
   "source": [
    "pages2 = w.find_pages(lines, input_titles, limit)"
   ]
  },
  {
   "cell_type": "code",
   "execution_count": 335,
   "metadata": {},
   "outputs": [
    {
     "name": "stdout",
     "output_type": "stream",
     "text": [
      "Found articles: 2 Search count: 5614"
     ]
    }
   ],
   "source": [
    "p = list(pages2)"
   ]
  },
  {
   "cell_type": "code",
   "execution_count": 336,
   "metadata": {},
   "outputs": [
    {
     "data": {
      "text/plain": [
       "<function gensim.corpora.wikicorpus.remove_markup(text, promote_remaining=True, simplify_links=True)>"
      ]
     },
     "execution_count": 336,
     "metadata": {},
     "output_type": "execute_result"
    }
   ],
   "source": [
    "wikicorpus.remove_markup"
   ]
  },
  {
   "cell_type": "code",
   "execution_count": 337,
   "metadata": {},
   "outputs": [
    {
     "name": "stdout",
     "output_type": "stream",
     "text": [
      "0 \n",
      " '''Shape theory''' is a branch of [[topology]], which provides a more global view of the topological spaces than [[homotopy theory]]. The two coincide on compacta dominated homotopically by finite polyhedra. Shape theory associates with the Čech homology theory while homotopy theory associates with the singular homology theory.\n",
      "==Background==\n",
      "Shape theory was reinvented, further developed and promoted by the Polish mathematician [[Karol Borsuk]] in 1968. Actually, the name ''shape theory'' was coined by Borsuk.\n",
      "===Warsaw Circle===\n",
      "Borsuk lived and worked in [[Warsaw]], hence the name of one of the fundamental examples of the area, the Warsaw circle. This is a compact subset of the plane produced by \"closing up\" a [[topologist's sine curve]] with an arc.\n",
      "[[File:Warsaw Circle.png|thumb|The Warsaw Circle.]]  It has [[homotopy group]]s [[group isomorphism|isomorphic]] to those of a point, but is not [[homotopy equivalence|homotopy equivalent]] to a point—instead, the Warsaw circle is shape-equivalent to a circle (one dimensional sphere). [[Whitehead theorem|Whitehead's theorem]] does not apply to Warsaw circle because it is not a CW complex.\n",
      "==Development==\n",
      "Borsuk's shape theory was generalized onto arbitrary (non-metric) compact spaces, and even onto general categories, by Włodzimierz Holsztyński in year 1968/1969, and published in Fund. Math. '''70''' , 157-168, y.1971 (see Jean-Marc Cordier, Tim Porter, (1989) below). This was done in a ''continuous style'', characteristic for the Čech homology rendered by [[Samuel Eilenberg]] and Norman Steenrod in their monograph ''Foundations of Algebraic Topology''. Due to the circumstance{{Clarify|date=March 2018}}, Holsztyński's paper was hardly noticed, and instead a great popularity in the field was gained by a much less advanced (more naive) paper by [[Sibe Mardešić]] and Jack Segal, which was published a little later, Fund. Math. '''72''', 61-68, y.1971. Further developments are reflected by the references below, and by their contents.\n",
      "For some purposes, like dynamical systems, more sophisticated invariants were developed under the name '''strong shape'''. Generalizations to [[noncommutative geometry]], e.g. the shape theory for [[operator algebra]]s have been found.\n",
      "==References==\n",
      "*{{cite journal | first = Sibe | last = Mardešić | title = Thirty years of shape theory | url = http://hrcak.srce.hr/file/2848 | format = [[PDF]] | journal = Mathematical Communications | volume = 2 | year = 1997 | pages = 1–12}}\n",
      "*{{nlab|id=shape%20theory|title=shape theory}}\n",
      "* Jean-Marc Cordier, Tim Porter, (1989), Shape Theory: Categorical Methods of Approximation, Mathematics and its Applications, Ellis Horwood. Reprinted Dover (2008)\n",
      "* A. Deleanu and P.J. Hilton, On the categorical shape of a functor, Fund. Math. 97 (1977) 157 - 176.\n",
      "* A. Deleanu, P.J. Hilton, Borsuk's shape and Grothendieck categories of pro-objects, Math. Proc. Camb. Phil. Soc. 79 (1976) 473-482.\n",
      "* Sibe Mardešić, Jack Segal, Shapes of compacta and ANR-systems, Fund. Math. 72 (1971) 41-59,\n",
      "* K. Borsuk, Concerning homotopy properties of compacta, Fund Math. 62 (1968) 223-254\n",
      "* K. Borsuk, Theory of Shape, Monografie Matematyczne Tom 59,Warszawa 1975.\n",
      "* D.A. Edwards and H. M. Hastings, [http://projecteuclid.org/DPubS?verb=Display&version=1.0&service=UI&handle=euclid.rmjm/1250128825&page=record Čech Theory: its Past, Present, and Future], Rocky Mountain Journal of Mathematics, Volume 10, Number 3, Summer 1980\n",
      "* D.A. Edwards and H. M. Hastings, (1976), [http://www.math.uga.edu/%7Edavide/Cech_and_Steenrod_Homotopy_Theories_with_Applications_to_Geometric_Topology.pdf Čech and Steenrod homotopy theories with applications to geometric topology], Lecture Notes in Maths. 542, Springer-Verlag.\n",
      "* Tim Porter, Čech homotopy I, II, Jour. London Math. Soc., 1, 6, 1973, pp.&nbsp;429–436; 2, 6, 1973, pp.&nbsp;667–675.\n",
      "* J.T. Lisica, S. Mardešić, Coherent prohomotopy and strong shape theory, Glasnik Matematički 19(39) (1984) 335–399.\n",
      "* Michael Batanin, Categorical strong shape theory, Cahiers Topologie Géom. Différentielle Catég. 38 (1997), no. 1, 3–66, [http://www.numdam.org/numdam-bin/fitem?id=CTGDC_1997__38_1_3_0 numdam]\n",
      "* Marius Dādārlat, Shape theory and asymptotic morphisms for C*-algebras, Duke Math. J., 73(3):687-711, 1994.\n",
      "* Marius Dādārlat, Terry A. Loring, Deformations of topological spaces predicted by E-theory, In Algebraic methods in operator theory, p.&nbsp;316-327. Birkhäuser 1994.\n",
      "[[Category:Topology]]\n",
      "[[Category:Homotopy theory]]\n",
      "1 \n",
      " [[Image:Parallelogramoid.svg|thumb|right|Levi-Civita's parallelogramoid]]\n",
      "In the [[mathematics|mathematical]] field of [[differential geometry]], the '''Levi-Civita parallelogramoid''' is a [[quadrilateral]] in a [[curved space]] whose construction generalizes that of a [[parallelogram]] in the [[Euclidean plane]].  It is named for its discoverer, [[Tullio Levi-Civita]]. Like a parallelogram, two opposite sides ''AA''&prime; and ''BB''&prime; of a parallelogramoid are parallel (via [[parallel transport]] {{Not a typo|along }} side ''AB'') and the same length as each other, but the fourth side ''A''&prime;''B''&prime; will not in general be parallel to or the same length as the side ''AB,'' although it will be straight (a [[geodesic]]).\n",
      "==Construction==\n",
      "A parallelogram in [[Euclidean geometry]] can be constructed as follows:\n",
      "* Start with a straight line segment ''AB'' and another straight line segment ''AA''&prime;.\n",
      "* Slide the segment ''AA''&prime; along ''AB'' to the endpoint ''B'', keeping the angle with ''AB'' constant, and remaining in the same plane as the points ''A'', ''A''&prime;, and ''B''.\n",
      "* Label the endpoint of the resulting segment ''B''&prime; so that the segment is ''BB''&prime;.\n",
      "* Draw a straight line ''A''&prime;''B''&prime;.\n",
      "In a curved space, such as a [[Riemannian manifold]] or more generally any manifold equipped with an [[affine connection]], the notion of \"straight line\" generalizes to that of a [[geodesic]].  In a suitable [[neighborhood (mathematics)|neighborhood]] (such as a ball in a [[normal coordinates|normal coordinate system]]), any two points can be joined by a geodesic.  The idea of sliding the one straight line along the other gives way to the more general notion of [[parallel transport]].  Thus, assuming either that the manifold is [[complete space|complete]], or that the construction is taking place in a suitable neighborhood, the steps to producing a Levi-Civita parallelogram are:\n",
      "* Start with a geodesic ''AB'' and another geodesic ''AA''&prime;.  These geodesics are assumed to be parameterized by their [[arclength]] in the case of a Riemannian manifold, or to carry a choice of [[affine parameter]] in the general case of an affine connection.\n",
      "* \"Slide\" ([[parallel transport]]) the [[tangent vector]] of ''AA''&prime; from ''A'' to ''B''.\n",
      "* The resulting tangent vector at ''B'' generates a geodesic via the [[exponential map (Riemannian geometry)|exponential map]].  Label the endpoint of this geodesic by ''B''&prime;, and the geodesic itself ''BB''&prime;.\n",
      "* Connect the points ''A''&prime; and ''B''&prime; by the geodesic ''A''&prime;''B''&prime;.\n",
      "==Quantifying the difference from a parallelogram==\n",
      "The length of this last geodesic constructed connecting the remaining points ''A''&prime;''B''&prime; may in general be different than the length of the base ''AB''.  This difference is measured by the [[Riemann curvature tensor]].  To state the relationship precisely, let ''AA''&prime; be the exponential of a tangent vector ''X'' at ''A'', and ''AB'' the exponential of a tangent vector ''Y'' at ''A''. Then\n",
      ":<math>|A'B'|^2 = |AB|^2 + \\frac{8}{3}\\langle R(X,Y)X,Y\\rangle + \\text{higher order terms}</math>\n",
      "where terms of higher order in the length of the sides of the parallelogram have been suppressed.\n",
      "==Discrete approximation==\n",
      "[[Image:Schild's ladder step 4.svg|thumb|right|Two rungs of [[Schild's ladder]].  The segments ''A''<sub>1</sub>''X''<sub>1</sub> and ''A''<sub>2</sub>''X''<sub>2</sub> are an approximation to first order of the [[parallel transport]] of ''A''<sub>0</sub>''X''<sub>0</sub> along the curve.]]\n",
      "[[Parallel transport]] can be discretely approximated by [[Schild's ladder]], which approximates Levi-Civita parallelogramoids by approximate parallelograms.\n",
      "==References==\n",
      "*{{citation | first = Élie | last = Cartan | authorlink=Élie Cartan|title = Geometry of Riemannian Spaces| publisher = Math Sci Press, Massachusetts | year = 1983}}\n",
      "[[Category:Curvature (mathematics)]]\n",
      "[[Category:Differential geometry]]\n",
      "[[Category:Quadrilaterals]]\n"
     ]
    }
   ],
   "source": [
    "for i, item in enumerate(p):\n",
    "    print(i, '\\n', item['full_markup_text'])"
   ]
  },
  {
   "cell_type": "code",
   "execution_count": 338,
   "metadata": {},
   "outputs": [
    {
     "name": "stdout",
     "output_type": "stream",
     "text": [
      "0 \n",
      " '''Shape theory''' is a branch of [[topology]], which provides a more global view of the topological spaces than [[homotopy theory]]. The two coincide on compacta dominated homotopically by finite polyhedra. Shape theory associates with the Čech homology theory while homotopy theory associates with the singular homology theory. ==Background== Shape theory was reinvented, further developed and promoted by the Polish mathematician [[Karol Borsuk]] in 1968. Actually, the name ''shape theory'' was coined by Borsuk. ===Warsaw Circle=== Borsuk lived and worked in [[Warsaw]], hence the name of one of the fundamental examples of the area, the Warsaw circle. This is a compact subset of the plane produced by \"closing up\" a [[topologist's sine curve]] with an arc. [[File:Warsaw Circle.png|thumb|The Warsaw Circle.]]  It has [[homotopy group]]s [[group isomorphism|isomorphic]] to those of a point, but is not [[homotopy equivalence|homotopy equivalent]] to a point—instead, the Warsaw circle is shape-equivalent to a circle (one dimensional sphere). [[Whitehead theorem|Whitehead's theorem]] does not apply to Warsaw circle because it is not a CW complex. ==Development== Borsuk's shape theory was generalized onto arbitrary (non-metric) compact spaces, and even onto general categories, by Włodzimierz Holsztyński in year 1968/1969, and published in Fund. Math. '''70''' , 157-168, y.1971 (see Jean-Marc Cordier, Tim Porter, (1989) below). This was done in a ''continuous style'', characteristic for the Čech homology rendered by [[Samuel Eilenberg]] and Norman Steenrod in their monograph ''Foundations of Algebraic Topology''. Due to the circumstance{{Clarify|date=March 2018}}, Holsztyński's paper was hardly noticed, and instead a great popularity in the field was gained by a much less advanced (more naive) paper by [[Sibe Mardešić]] and Jack Segal, which was published a little later, Fund. Math. '''72''', 61-68, y.1971. Further developments are reflected by the references below, and by their contents. For some purposes, like dynamical systems, more sophisticated invariants were developed under the name '''strong shape'''. Generalizations to [[noncommutative geometry]], e.g. the shape theory for [[operator algebra]]s have been found. ==References== *{{cite journal | first = Sibe | last = Mardešić | title = Thirty years of shape theory | url = http://hrcak.srce.hr/file/2848 | format = [[PDF]] | journal = Mathematical Communications | volume = 2 | year = 1997 | pages = 1–12}} *{{nlab|id=shape%20theory|title=shape theory}} * Jean-Marc Cordier, Tim Porter, (1989), Shape Theory: Categorical Methods of Approximation, Mathematics and its Applications, Ellis Horwood. Reprinted Dover (2008) * A. Deleanu and P.J. Hilton, On the categorical shape of a functor, Fund. Math. 97 (1977) 157 - 176. * A. Deleanu, P.J. Hilton, Borsuk's shape and Grothendieck categories of pro-objects, Math. Proc. Camb. Phil. Soc. 79 (1976) 473-482. * Sibe Mardešić, Jack Segal, Shapes of compacta and ANR-systems, Fund. Math. 72 (1971) 41-59, * K. Borsuk, Concerning homotopy properties of compacta, Fund Math. 62 (1968) 223-254 * K. Borsuk, Theory of Shape, Monografie Matematyczne Tom 59,Warszawa 1975. * D.A. Edwards and H. M. Hastings, [http://projecteuclid.org/DPubS?verb=Display&version=1.0&service=UI&handle=euclid.rmjm/1250128825&page=record Čech Theory: its Past, Present, and Future], Rocky Mountain Journal of Mathematics, Volume 10, Number 3, Summer 1980 * D.A. Edwards and H. M. Hastings, (1976), [http://www.math.uga.edu/%7Edavide/Cech_and_Steenrod_Homotopy_Theories_with_Applications_to_Geometric_Topology.pdf Čech and Steenrod homotopy theories with applications to geometric topology], Lecture Notes in Maths. 542, Springer-Verlag. * Tim Porter, Čech homotopy I, II, Jour. London Math. Soc., 1, 6, 1973, pp.&nbsp;429–436; 2, 6, 1973, pp.&nbsp;667–675. * J.T. Lisica, S. Mardešić, Coherent prohomotopy and strong shape theory, Glasnik Matematički 19(39) (1984) 335–399. * Michael Batanin, Categorical strong shape theory, Cahiers Topologie Géom. Différentielle Catég. 38 (1997), no. 1, 3–66, [http://www.numdam.org/numdam-bin/fitem?id=CTGDC_1997__38_1_3_0 numdam] * Marius Dādārlat, Shape theory and asymptotic morphisms for C*-algebras, Duke Math. J., 73(3):687-711, 1994. * Marius Dādārlat, Terry A. Loring, Deformations of topological spaces predicted by E-theory, In Algebraic methods in operator theory, p.&nbsp;316-327. Birkhäuser 1994.\n",
      "1 \n",
      " [[Image:Parallelogramoid.svg|thumb|right|Levi-Civita's parallelogramoid]] In the [[mathematics|mathematical]] field of [[differential geometry]], the '''Levi-Civita parallelogramoid''' is a [[quadrilateral]] in a [[curved space]] whose construction generalizes that of a [[parallelogram]] in the [[Euclidean plane]].  It is named for its discoverer, [[Tullio Levi-Civita]]. Like a parallelogram, two opposite sides ''AA''&prime; and ''BB''&prime; of a parallelogramoid are parallel (via [[parallel transport]] {{Not a typo|along }} side ''AB'') and the same length as each other, but the fourth side ''A''&prime;''B''&prime; will not in general be parallel to or the same length as the side ''AB,'' although it will be straight (a [[geodesic]]). ==Construction== A parallelogram in [[Euclidean geometry]] can be constructed as follows: * Start with a straight line segment ''AB'' and another straight line segment ''AA''&prime;. * Slide the segment ''AA''&prime; along ''AB'' to the endpoint ''B'', keeping the angle with ''AB'' constant, and remaining in the same plane as the points ''A'', ''A''&prime;, and ''B''. * Label the endpoint of the resulting segment ''B''&prime; so that the segment is ''BB''&prime;. * Draw a straight line ''A''&prime;''B''&prime;. In a curved space, such as a [[Riemannian manifold]] or more generally any manifold equipped with an [[affine connection]], the notion of \"straight line\" generalizes to that of a [[geodesic]].  In a suitable [[neighborhood (mathematics)|neighborhood]] (such as a ball in a [[normal coordinates|normal coordinate system]]), any two points can be joined by a geodesic.  The idea of sliding the one straight line along the other gives way to the more general notion of [[parallel transport]].  Thus, assuming either that the manifold is [[complete space|complete]], or that the construction is taking place in a suitable neighborhood, the steps to producing a Levi-Civita parallelogram are: * Start with a geodesic ''AB'' and another geodesic ''AA''&prime;.  These geodesics are assumed to be parameterized by their [[arclength]] in the case of a Riemannian manifold, or to carry a choice of [[affine parameter]] in the general case of an affine connection. * \"Slide\" ([[parallel transport]]) the [[tangent vector]] of ''AA''&prime; from ''A'' to ''B''. * The resulting tangent vector at ''B'' generates a geodesic via the [[exponential map (Riemannian geometry)|exponential map]].  Label the endpoint of this geodesic by ''B''&prime;, and the geodesic itself ''BB''&prime;. * Connect the points ''A''&prime; and ''B''&prime; by the geodesic ''A''&prime;''B''&prime;. ==Quantifying the difference from a parallelogram== The length of this last geodesic constructed connecting the remaining points ''A''&prime;''B''&prime; may in general be different than the length of the base ''AB''.  This difference is measured by the [[Riemann curvature tensor]].  To state the relationship precisely, let ''AA''&prime; be the exponential of a tangent vector ''X'' at ''A'', and ''AB'' the exponential of a tangent vector ''Y'' at ''A''. Then :<math>|A'B'|^2 = |AB|^2 + \\frac{8}{3}\\langle R(X,Y)X,Y\\rangle + \\text{higher order terms}</math> where terms of higher order in the length of the sides of the parallelogram have been suppressed. ==Discrete approximation== [[Image:Schild's ladder step 4.svg|thumb|right|Two rungs of [[Schild's ladder]].  The segments ''A''<sub>1</sub>''X''<sub>1</sub> and ''A''<sub>2</sub>''X''<sub>2</sub> are an approximation to first order of the [[parallel transport]] of ''A''<sub>0</sub>''X''<sub>0</sub> along the curve.]] [[Parallel transport]] can be discretely approximated by [[Schild's ladder]], which approximates Levi-Civita parallelogramoids by approximate parallelograms. ==References== *{{citation | first = Élie | last = Cartan | authorlink=Élie Cartan|title = Geometry of Riemannian Spaces| publisher = Math Sci Press, Massachusetts | year = 1983}}\n"
     ]
    }
   ],
   "source": [
    "for i, item in enumerate(p):\n",
    "    print(i, '\\n', item['cleaned_markup_text'])"
   ]
  },
  {
   "cell_type": "code",
   "execution_count": null,
   "metadata": {},
   "outputs": [],
   "source": [
    "for item in p[2]['math']:\n",
    "    print(item[-1])"
   ]
  },
  {
   "cell_type": "code",
   "execution_count": 298,
   "metadata": {},
   "outputs": [
    {
     "name": "stdout",
     "output_type": "stream",
     "text": [
      "[]\n",
      "[(\">|A'B'|^2 = |AB|^2 + \\\\frac{8}{3}\\\\langle R(X,Y)X,Y\\\\rangle + \\\\text{higher order terms}\", '</math>')]\n",
      "[('>\\\\langle H_1,\\\\dots, H_k\\\\rangle=H_1\\\\ast\\\\dots \\\\ast H_k.', '</math>'), ('> w= \\\\prod_{i=1}^m w_{\\\\alpha_i,\\\\beta_i}. ', '</math>'), ('> w(X_2) \\\\subseteq \\\\prod_{i=1}^{m-1} w_{\\\\alpha_i,\\\\beta_i}(X_1) \\\\subseteq \\\\prod_{i=1}^{m-2} w_{\\\\alpha_i,\\\\beta_i}(X_{\\\\alpha_{m-1}})\\\\subseteq \\\\dots \\\\subseteq w_{1,\\\\beta_1}w_{\\\\alpha_2,\\\\beta_2}(X_{\\\\alpha_3}) \\\\subseteq ', '</math>'), ('> w_{1,\\\\beta_1}(X_{\\\\alpha_2})\\\\subseteq X_1 ', '</math>'), ('> \\\\alpha_1 = 1;\\\\alpha_m\\\\neq 1 ', '</math>'), ('> h\\\\in H_1\\\\setminus \\\\{w_{1,\\\\beta_1}^{-1},1\\\\}. ', '</math>'), ('>h', '</math>'), ('>\\\\alpha_1\\\\neq 1;\\\\alpha_m=1', '</math>'), ('> h\\\\in H_1\\\\setminus \\\\{w_{1,\\\\beta_m},1\\\\} ', '</math>'), ('> \\\\alpha_1\\\\neq 1;\\\\alpha_m\\\\neq 1', '</math>'), ('> h\\\\in H_1\\\\setminus \\\\{1\\\\} ', '</math>'), ('>\\\\scriptstyle A=\\\\begin{pmatrix}1 & 2\\\\\\\\ 0 &1 \\\\end{pmatrix} ', '</math>'), ('>\\\\scriptstyle B=\\\\begin{pmatrix}1 & 0\\\\\\\\ 2 &1 \\\\end{pmatrix} ', '</math>'), ('>H_1=\\\\{A^n|n\\\\in \\\\mathbb Z\\\\}=\\\\left\\\\{\\\\begin{pmatrix}1 & 2n\\\\\\\\ 0 & 1 \\\\end{pmatrix} : n\\\\in\\\\mathbb Z\\\\right\\\\}', '</math>'), ('>H_2=\\\\{B^n|n\\\\in \\\\mathbb Z\\\\}=\\\\left\\\\{\\\\begin{pmatrix}1 & 0\\\\\\\\ 2n & 1 \\\\end{pmatrix} : n\\\\in\\\\mathbb Z\\\\right\\\\}.', '</math>'), ('>X_1=\\\\left\\\\{\\\\begin{pmatrix}x \\\\\\\\ y \\\\end{pmatrix}\\\\in \\\\mathbb R^2 : |x|>|y|\\\\right\\\\}', '</math>'), ('>X_2=\\\\left\\\\{\\\\begin{pmatrix}x \\\\\\\\ y \\\\end{pmatrix}\\\\in \\\\mathbb R^2 : |x|<|y|\\\\right\\\\}.', '</math>')]\n",
      "[('> \\n\\\\left|\\\\begin{array}{cc} \\na_{11} & a_{12} \\\\\\\\\\na_{21} & a_{22} \\\\end{array}\\n\\\\right|_{11} = a_{11} - a_{12}{a_{22}}^{-1}a_{21}\\n\\\\qquad\\n\\\\left|\\\\begin{array}{cc} \\na_{11} & a_{12} \\\\\\\\ \\na_{21} & a_{22} \\\\end{array}\\n\\\\right|_{12} = a_{12} - a_{11}{a_{21}}^{-1}a_{22}.\\n', '</math>'), ('>\\n\\\\left|A\\\\right|_{ij} = (-1)^{i+j} \\\\frac{\\\\det A}{\\\\det A^{ij}} ,\\n', '</math>'), ('>A^{ij}', '</math>'), ('>2\\\\times2', '</math>'), ('>A', '</math>'), ('>B', '</math>'), ('>A', '</math>'), ('>i', '</math>'), ('>\\\\left.\\\\rho\\\\right.', '</math>'), ('>\\\\left|B\\\\right|_{ij} = \\\\rho \\\\left|A\\\\right|_{ij}', '</math>'), ('>B', '</math>'), ('>A', '</math>'), ('>k', '</math>'), ('>\\\\left|B\\\\right|_{ij} = \\\\left|A\\\\right|_{ij} \\\\,\\\\, (\\\\forall j; \\\\forall k\\\\neq i)', '</math>'), ('>A', '</math>'), ('>n\\\\times n', '</math>'), ('>R', '</math>'), ('>1\\\\leq i,j\\\\leq n', '</math>'), ('>a_{ij}', '</math>'), ('>i,j', '</math>'), ('>A', '</math>'), ('>r_i^j', '</math>'), ('>i', '</math>'), ('>A', '</math>'), ('>j', '</math>'), ('>c_j^i', '</math>'), ('>j', '</math>'), ('>A', '</math>'), ('>i', '</math>'), ('>i,j', '</math>'), ('>A', '</math>'), ('>A^{ij}', '</math>'), ('>R', '</math>'), ('>\\n\\\\left|A\\\\right|_{ij} = a_{ij} - r_i^j\\\\, \\\\bigl(A^{ij}\\\\bigr)^{-1}\\\\, c_j^i .\\n', '</math>'), ('>A^{-1}', '</math>'), ('>(A^{-1})_{ji} = (-1)^{i+j} \\\\frac{\\\\det A^{ij}}{\\\\det A}', '</math>'), ('>\\n\\\\bigl(A^{-1}\\\\bigr)_{\\\\!ji} = \\\\left|A\\\\right|_{ij}^{\\\\,-1}\\n', '</math>'), ('>\\n\\\\left(\\\\begin{array}{cc} \\nA_{11} & A_{12} \\\\\\\\\\nA_{21} & A_{22} \\\\end{array}\\n\\\\right)\\n', '</math>'), ('>n\\\\times n', '</math>'), ('>A', '</math>'), ('>A_{11}', '</math>'), ('>k \\\\times k', '</math>'), ('>i,j', '</math>'), ('>A', '</math>'), ('>A_{11}', '</math>'), ('>\\n\\\\left|A\\\\right|_{ij} = \\\\left|A_{11} - A_{12}\\\\,{A_{22}}^{-1}\\\\,A_{21}\\\\right|_{ij}.\\n', '</math>'), ('>\\n\\\\left|A\\\\right|_{ij} |A^{il}|_{kj}^{\\\\,-1} = - \\\\left|A\\\\right|_{il} |A^{ij}|_{kl}^{\\\\,-1}  \\n', '</math>'), ('>\\n|A^{kj}|_{il}^{\\\\,-1} \\\\left|A\\\\right|_{ij}  = -  |A^{ij}|_{kl}^{\\\\,-1} \\\\left|A\\\\right|_{kj} ,\\n', '</math>'), ('>i\\\\neq k', '</math>'), ('>j\\\\neq l', '</math>'), ('>A_0', '</math>'), ('>k \\\\times k', '</math>'), ('>n \\\\times n', '</math>'), ('>A', '</math>'), ('>i,j', '</math>'), ('>A_0', '</math>'), ('>B=(b_{pq})', '</math>'), ('>(n-k)\\\\times(n-k)', '</math>'), ('>b_{pq}', '</math>'), ('>p,q', '</math>'), ('>(k+1)\\\\times(k+1)', '</math>'), ('>A_0', '</math>'), ('>k', '</math>'), ('>p', '</math>'), ('>k', '</math>'), ('>q', '</math>'), ('>a', '</math>'), ('>pq', '</math>'), ('>\\n\\\\left|B\\\\right|_{ij} = \\\\left|A\\\\right|_{ij} .\\n', '</math>'), ('>i', '</math>'), ('> \\\\det A = \\\\sum_l (-1)^{i+l} a_{il} \\\\cdot \\\\det A^{il}', '</math>'), ('>\\n\\\\left|A\\\\right|_{ij} = a_{ij} - \\\\sum_{l\\\\neq j} a_{il}\\\\cdot |A^{ij}|_{kl}^{\\\\,-1} |A^{il}|_{kj}\\n', '</math>'), ('>j', '</math>'), ('>\\n\\\\left|A\\\\right|_{ij} = a_{ij} - \\\\sum_{k\\\\neq i} |A^{kj}|_{il} |A^{ij}|_{kl}^{\\\\,-1}  \\\\cdot a_{kj}\\n', '</math>'), ('>i', '</math>'), ('>\\n{\\\\det}_q A = \\\\bigl|A\\\\bigr|_{11}\\\\,\\\\left|A^{11}\\\\right|_{22}\\\\,\\\\left|A^{12,12}\\\\right|_{33} \\\\,\\\\cdots\\\\,|a_{nn}|_{nn} , \\n', '</math>')]\n",
      "[]\n",
      "[]\n",
      "[('>T = \\\\{ x_2^2-x_1^2, x_2(x_3-x_1)\\\\}', '</math>'), ('>R = k[x_1, \\\\ldots, x_n]', '</math>'), ('>R', '</math>'), ('>f = a_eu^e + \\\\cdots + a_0', '</math>'), ('>a_e', '</math>'), ('>a_e', '</math>'), ('>R', '</math>'), ('>h_i', '</math>'), ('>\\\\mathrm{resultant}(h, T) = \\n\\\\mathrm{resultant}(\\\\cdots(\\\\mathrm{resultant}(h, t_s),\\\\ldots, t_i)\\\\cdots)\\\\neq 0', '</math>'), ('>W(T)=V(T)\\\\setminus V(h)', '</math>'), ('>\\\\mathrm{sat}(T)=(T):h^\\\\infty', '</math>'), ('>\\\\overline{W(T)}=V(\\\\mathrm{sat}(T))', '</math>'), ('>\\\\sqrt{(F)}=\\\\cap_{i=1}^{e}\\\\sqrt{\\\\mathrm{sat}(T_i)}', '</math>'), ('>V(F)=\\\\cup_{i=1}^{e}W(T_i)', '</math>'), ('> \\\\mathrm{sat}(T \\\\cap k[x_1, \\\\ldots , x_i]) = \\\\mathrm{sat}(T) \\\\cap k[x_1,\\\\ldots , x_i] ', '</math>'), ('>p\\\\in\\\\mathrm{sat}(T)\\\\iff \\\\mathrm{prem}(p, T)=0', '</math>'), ('>\\\\mathrm{prem}(p, T)\\\\neq0', '</math>'), ('>\\\\mathrm{resultant}(p, T)=0', '</math>')]\n",
      "[('>0^0', '</math>'), ('>1', '</math>'), ('>B_n(x)', '</math>'), ('>B_n', '</math>'), ('>B_1=-\\\\frac{1}{2}.', '</math>'), ('>E_n', '</math>'), ('>\\\\zeta(s)', '</math>'), ('>\\\\Gamma(z)', '</math>'), ('>\\\\psi_n(z)', '</math>'), ('>\\\\operatorname{Li}_s(z)', '</math>'), ('> n \\\\choose k ', '</math>'), ('>\\\\sum_{k=0}^m k^{n-1}=\\\\frac{B_n(m+1)-B_n}{n}', '</math>'), ('>\\\\sum_{k=1}^m k=\\\\frac{m(m+1)}{2}', '</math>'), ('>\\\\sum_{k=1}^m k^2=\\\\frac{m(m+1)(2m+1)}{6}=\\\\frac{m^3}{3}+\\\\frac{m^2}{2}+\\\\frac{m}{6}', '</math>'), ('>\\\\sum_{k=1}^m k^3\\n=\\\\left[\\\\frac{m(m+1)}{2}\\\\right]^2=\\\\frac{m^4}{4}+\\\\frac{m^3}{2}+\\\\frac{m^2}{4}', '</math>'), ('>\\\\zeta(2n)=\\\\sum^{\\\\infty}_{k=1} \\\\frac{1}{k^{2n}}=(-1)^{n+1} \\\\frac{B_{2n} (2\\\\pi)^{2n}}{2(2n)!} ', '</math>'), ('>\\\\zeta(2)=\\\\sum^{\\\\infty}_{k=1} \\\\frac{1}{k^2}=\\\\frac{\\\\pi^2}{6}', '</math>'), ('>\\\\zeta(4)=\\\\sum^{\\\\infty}_{k=1} \\\\frac{1}{k^4}=\\\\frac{\\\\pi^4}{90}', '</math>'), ('>\\\\zeta(6)=\\\\sum^{\\\\infty}_{k=1} \\\\frac{1}{k^6}=\\\\frac{\\\\pi^6}{945}', '</math>'), ('>\\\\sum_{k=0}^{n} z^k = \\\\frac{1-z^{n+1}}{1-z}', '</math>'), ('>\\\\sum_{k=1}^n k z^k = z\\\\frac{1-(n+1)z^n+nz^{n+1}}{(1-z)^2}', '</math>'), ('>\\\\sum_{k=1}^n k^2 z^k = z\\\\frac{1+z-(n+1)^2z^n+(2n^2+2n-1)z^{n+1}-n^2z^{n+2}}{(1-z)^3} ', '</math>'), ('>\\\\sum_{k=1}^n k^m z^k = \\\\left(z \\\\frac{d}{dz}\\\\right)^m \\\\frac{1-z^{n+1}}{1-z}', '</math>'), ('>|z|<1', '</math>'), ('>\\\\operatorname{Li}_n(z)=\\\\sum_{k=1}^{\\\\infty} \\\\frac{z^k}{k^n}', '</math>'), ('>\\\\frac{\\\\mathrm{d}}{\\\\mathrm{d}z}\\\\operatorname{Li}_n(z)=\\\\frac{\\\\operatorname{Li}_{n-1}(z)}{z}', '</math>'), ('>\\\\operatorname{Li}_{1}(z)=\\\\sum_{k=1}^\\\\infty \\\\frac{z^k}{k}=-\\\\ln(1-z)', '</math>'), ('>\\\\operatorname{Li}_{0}(z)=\\\\sum_{k=1}^\\\\infty z^k=\\\\frac{z}{1-z}', '</math>'), ('>\\\\operatorname{Li}_{-1}(z)=\\\\sum_{k=1}^\\\\infty k z^k=\\\\frac{z}{(1-z)^2}', '</math>'), ('>\\\\operatorname{Li}_{-2}(z)=\\\\sum_{k=1}^\\\\infty k^2 z^k=\\\\frac{z(1+z)}{(1-z)^3}', '</math>'), ('>\\\\operatorname{Li}_{-3}(z)=\\\\sum_{k=1}^\\\\infty k^3 z^k =\\\\frac{z(1+4z+z^2)}{(1-z)^4}', '</math>'), ('>\\\\operatorname{Li}_{-4}(z)=\\\\sum_{k=1}^\\\\infty k^4 z^k =\\\\frac{z(1+z)(1+10z+z^2)}{(1-z)^5}', '</math>'), ('>\\\\sum_{k=0}^\\\\infty \\\\frac{z^k}{k!} = e^z', '</math>'), ('>\\\\sum_{k=0}^\\\\infty k\\\\frac{z^k}{k!} = z e^z', '</math>'), ('>\\\\sum_{k=0}^\\\\infty k^2 \\\\frac{z^k}{k!} = (z + z^2) e^z', '</math>'), ('>\\\\sum_{k=0}^\\\\infty k^3 \\\\frac{z^k}{k!} = (z + 3z^2 + z^3) e^z', '</math>'), ('>\\\\sum_{k=0}^\\\\infty k^4 \\\\frac{z^k}{k!} = (z + 7z^2 + 6z^3 + z^4) e^z', '</math>'), ('>\\\\sum_{k=0}^\\\\infty k^n \\\\frac{z^k}{k!} = z \\\\frac{d}{dz} \\\\sum_{k=0}^\\\\infty k^{n-1} \\\\frac{z^k}{k!}\\\\,\\\\! = e^z T_{n}(z) ', '</math>'), ('>T_{n}(z)', '</math>'), ('>\\\\sum_{k=0}^\\\\infty \\\\frac{(-1)^k z^{2k+1}}{(2k+1)!}=\\\\sin z', '</math>'), ('>\\\\sum_{k=0}^\\\\infty \\\\frac{z^{2k+1}}{(2k+1)!}=\\\\sinh z', '</math>'), ('>\\\\sum_{k=0}^\\\\infty \\\\frac{(-1)^k z^{2k}}{(2k)!}=\\\\cos z', '</math>'), ('>\\\\sum_{k=0}^\\\\infty \\\\frac{z^{2k}}{(2k)!}=\\\\cosh z', '</math>'), ('>\\\\sum_{k=1}^\\\\infty \\\\frac{(-1)^{k-1}(2^{2k}-1)2^{2k}B_{2k}z^{2k-1}}{(2k)!}=\\\\tan z, |z|<\\\\frac{\\\\pi}{2}', '</math>'), ('>\\\\sum_{k=1}^\\\\infty \\\\frac{(2^{2k}-1)2^{2k}B_{2k}z^{2k-1}}{(2k)!}=\\\\tanh z, |z|<\\\\frac{\\\\pi}{2}', '</math>'), ('>\\\\sum_{k=0}^\\\\infty \\\\frac{(-1)^k2^{2k}B_{2k}z^{2k-1}}{(2k)!}=\\\\cot z, |z|<\\\\pi', '</math>'), ('>\\\\sum_{k=0}^\\\\infty \\\\frac{2^{2k}B_{2k}z^{2k-1}}{(2k)!}=\\\\coth z, |z|<\\\\pi', '</math>'), ('>\\\\sum_{k=0}^\\\\infty \\\\frac{(-1)^{k-1}(2^{2k}-2)B_{2k}z^{2k-1}}{(2k)!}=\\\\csc z, |z|<\\\\pi', '</math>'), ('>\\\\sum_{k=0}^\\\\infty \\\\frac{-(2^{2k}-2)B_{2k}z^{2k-1}}{(2k)!}=\\\\operatorname{csch} z, |z|<\\\\pi', '</math>'), ('>\\\\sum_{k=0}^\\\\infty \\\\frac{(-1)^kE_{2k}z^{2k}}{(2k)!}=\\\\operatorname{sech} z, |z|<\\\\frac{\\\\pi}{2}', '</math>'), ('>\\\\sum_{k=0}^\\\\infty \\\\frac{E_{2k}z^{2k}}{(2k)!}=\\\\sec z, |z|<\\\\frac{\\\\pi}{2}', '</math>'), ('>\\\\sum_{k=1}^\\\\infty \\\\frac{(-1)^{k-1} z^{2k}}{(2k)!}=\\\\operatorname{ver}z', '</math>'), ('>\\\\sum_{k=1}^\\\\infty \\\\frac{(-1)^{k-1} z^{2k}}{2(2k)!}=\\\\operatorname{hav}z', '</math>'), ('>\\\\sum_{k=0}^\\\\infty \\\\frac{(2k)!z^{2k+1}}{2^{2k}(k!)^2(2k+1)}=\\\\arcsin z, |z|\\\\le1', '</math>'), ('>\\\\sum_{k=0}^\\\\infty \\\\frac{(-1)^k(2k)!z^{2k+1}}{2^{2k}(k!)^2(2k+1)}=\\\\operatorname{arcsinh} {z}, |z|\\\\le1', '</math>'), ('>\\\\sum_{k=0}^\\\\infty \\\\frac{(-1)^kz^{2k+1}}{2k+1}=\\\\arctan z, |z|<1', '</math>'), ('>\\\\sum_{k=0}^\\\\infty \\\\frac{z^{2k+1}}{2k+1}=\\\\operatorname{arctanh} z, |z|<1', '</math>'), ('>\\\\ln2+\\\\sum_{k=1}^\\\\infty \\\\frac{(-1)^{k-1}(2k)!z^{2k}}{2^{2k+1}k(k!)^2}=\\\\ln\\\\left(1+\\\\sqrt{1+z^2}\\\\right), |z|\\\\le1', '</math>'), ('>\\\\sum^{\\\\infty}_{k=0} \\\\frac{(4k)!}{2^{4k} \\\\sqrt{2} (2k)! (2k+1)!} z^k = \\\\sqrt{\\\\frac{1-\\\\sqrt{1-z}}{z}}, |z|<1', '</math>'), ('>\\\\sum^{\\\\infty}_{k=0} \\\\frac{2^{2k} (k!)^2}{(k+1) (2k+1)!} z^{2k+2} = \\\\left(\\\\arcsin{z}\\\\right)^2, |z|\\\\le1 ', '</math>'), ('>\\\\sum^{\\\\infty}_{n=0} \\\\frac{\\\\prod_{k=0}^{n-1}(4k^2+\\\\alpha^2)}{(2n)!} z^{2n} + \\\\sum^{\\\\infty}_{n=0} \\\\frac{\\\\alpha \\\\prod_{k=0}^{n-1}[(2k+1)^2+\\\\alpha^2]}{(2n+1)!}  z^{2n+1} = e^{\\\\alpha \\\\arcsin{z}}, |z|\\\\le1 ', '</math>'), ('>(1+z)^\\\\alpha = \\\\sum_{k=0}^\\\\infty {\\\\alpha \\\\choose k} z^k, |z|<1', '</math>'), ('>\\\\sum_{k=0}^\\\\infty {{\\\\alpha+k-1} \\\\choose k} z^k = \\\\frac{1}{(1-z)^\\\\alpha}, |z|<1', '</math>'), ('>\\\\sum_{k=0}^\\\\infty \\\\frac{1}{k+1}{2k \\\\choose k} z^k = \\\\frac{1-\\\\sqrt{1-4z}}{2z}, |z|\\\\leq\\\\frac{1}{4}', '</math>'), ('>\\\\sum_{k=0}^\\\\infty {2k \\\\choose k} z^k = \\\\frac{1}{\\\\sqrt{1-4z}}, |z|<\\\\frac{1}{4}', '</math>'), ('>\\\\sum_{k=0}^\\\\infty {2k + \\\\alpha \\\\choose k} z^k = \\\\frac{1}{\\\\sqrt{1-4z}}\\\\left(\\\\frac{1-\\\\sqrt{1-4z}}{2z}\\\\right)^\\\\alpha, |z|<\\\\frac{1}{4}', '</math>'), ('> \\\\sum_{k=1}^\\\\infty H_k z^k = \\\\frac{-\\\\ln(1-z)}{1-z}, |z|<1', '</math>'), ('> \\\\sum_{k=1}^\\\\infty \\\\frac{H_k}{k+1} z^{k+1} = \\\\frac{1}{2}\\\\left[\\\\ln(1-z)\\\\right]^2, \\\\qquad |z|<1', '</math>'), ('> \\\\sum_{k=1}^\\\\infty \\\\frac{(-1)^{k-1} H_{2k}}{2k+1} z^{2k+1} = \\\\frac{1}{2} \\\\arctan{z} \\\\log{(1+z^2)}, \\\\qquad |z|<1 ', '</math>'), ('> \\\\sum_{n=0}^\\\\infty \\\\sum_{k=0}^{2n} \\\\frac{(-1)^k}{2k+1} \\\\frac{z^{4n+2}}{4n+2} = \\\\frac{1}{4} \\\\arctan{z} \\\\log{\\\\frac{1+z}{1-z}},\\\\qquad  |z|<1 ', '</math>'), ('>\\\\sum_{k=0}^n {n \\\\choose k} = 2^n', '</math>'), ('>\\\\sum_{k=0}^n (-1)^k {n \\\\choose k} = 0, \\\\text{ where }n>0', '</math>'), ('>\\\\sum_{k=0}^n {k \\\\choose m} = { n+1 \\\\choose m+1 }', '</math>'), ('>\\\\sum_{k=0}^n {m+k-1 \\\\choose k} = { n+m \\\\choose n }', '</math>'), ('>\\\\sum_{k=0}^n {\\\\alpha \\\\choose k}{\\\\beta \\\\choose n-k} = {\\\\alpha+\\\\beta \\\\choose n}', '</math>'), ('>\\\\sum_{k=1}^\\\\infty \\\\frac{\\\\sin(k\\\\theta)}{k}=\\\\frac{\\\\pi-\\\\theta}{2}, 0<\\\\theta<2\\\\pi', '</math>'), ('>\\\\sum_{k=1}^\\\\infty \\\\frac{\\\\cos(k\\\\theta)}{k}=-\\\\frac{1}{2}\\\\ln(2-2\\\\cos\\\\theta), \\\\theta\\\\in\\\\mathbb{R}', '</math>'), ('>\\\\sum_{k=0}^\\\\infty \\\\frac{\\\\sin[(2k+1)\\\\theta]}{2k+1}=\\\\frac{\\\\pi-\\\\theta}{2}, 0<\\\\theta<\\\\pi', '</math>'), ('>B_n(x)=-\\\\frac{n!}{2^{n-1}\\\\pi^n}\\\\sum_{k=1}^\\\\infty \\\\frac{1}{k^n}\\\\cos\\\\left(2\\\\pi kx-\\\\frac{\\\\pi n}{2}\\\\right), 0<x<1', '</math>'), ('>\\\\sum_{k=0}^n \\\\sin(\\\\theta+k\\\\alpha)=\\\\frac{\\\\sin\\\\frac{(n+1)\\\\alpha}{2}\\\\sin(\\\\theta+\\\\frac{n\\\\alpha}{2})}{\\\\sin\\\\frac{\\\\alpha}{2}}', '</math>'), ('>\\\\sum_{k=0}^n \\\\cos(\\\\theta+k\\\\alpha)=\\\\frac{\\\\sin\\\\frac{(n+1)\\\\alpha}{2}\\\\cos(\\\\theta+\\\\frac{n\\\\alpha}{2})}{\\\\sin\\\\frac{\\\\alpha}{2}}', '</math>'), ('>\\\\sum_{k=1}^{n-1} \\\\sin\\\\frac{\\\\pi k}{n}=\\\\cot\\\\frac{\\\\pi}{2n}', '</math>'), ('>\\\\sum_{k=1}^{n-1} \\\\sin\\\\frac{2\\\\pi k}{n}=0', '</math>'), ('>\\\\sum_{k=0}^{n-1} \\\\csc^2\\\\left(\\\\theta+\\\\frac{\\\\pi k}{n}\\\\right)=n^2\\\\csc^2(n\\\\theta)', '</math>'), ('>\\\\sum_{k=1}^{n-1} \\\\csc^2\\\\frac{\\\\pi k}{n}=\\\\frac{n^2-1}{3}', '</math>'), ('>\\\\sum_{k=1}^{n-1} \\\\csc^4\\\\frac{\\\\pi k}{n}=\\\\frac{n^4+10n^2-11}{45}', '</math>'), ('>\\\\sum_{n=a+1}^{\\\\infty} \\\\frac{a}{n^2 - a^2} = \\\\frac{1}{2} H_{2a}', '</math>'), ('>\\\\sum_{n=0}^\\\\infty\\\\frac{1}{n^2+a^2}=\\\\frac{1+a\\\\pi\\\\coth (a\\\\pi)}{2a^2}', '</math>'), ('>\\\\displaystyle \\\\sum_{n=0}^\\\\infty \\\\frac {1}{n^4+4a^4} = \\\\dfrac{1 + a \\\\pi \\\\coth (a \\\\pi)}{8a^4}', '</math>'), ('>n', '</math>')]\n",
      "[('>\\\\mathbb{N}', '</math>'), ('>1, 2, 3, \\\\dots', '</math>'), ('>n \\\\in \\\\mathbb{N}', '</math>'), ('>n > 1', '</math>'), ('>n', '</math>'), ('>1', '</math>'), ('>\\\\mathbb{P}', '</math>'), ('>\\\\mathbb{P}=\\\\{2, 3, 5, 7, 11, \\\\dots\\\\}\\\\subset \\\\mathbb{N}', '</math>'), ('>n \\\\in \\\\mathbb{N}', '</math>'), ('>n > 1', '</math>'), ('>n = p_1p_2\\\\dots p_k,', '</math>'), ('>p_1 \\\\in \\\\mathbb{P}, \\\\ p_2 \\\\in \\\\mathbb{P}, \\\\ \\\\dots, \\\\ p_k \\\\in \\\\mathbb{P}', '</math>'), ('>6m + 1', '</math>'), ('>m = 1, 2, \\\\dots', '</math>'), ('>km + l', '</math>'), ('>1 \\\\leq l < k', '</math>'), ('>(l,k) = 1', '</math>'), ('>m = 0, 1, 2, \\\\dots', '</math>'), ('>\\\\mathbb{N}_0', '</math>'), ('>\\\\mathbb{N}_1', '</math>'), ('>\\\\mathbb{N}', '</math>'), ('>n \\\\in \\\\mathbb{N}_0', '</math>'), ('>n', '</math>'), ('>n \\\\in \\\\mathbb{N}_1', '</math>'), ('>n', '</math>'), ('>\\\\mathbb{N}_0', '</math>'), ('>\\\\mathbb{N}_1', '</math>'), ('>x\\\\geq 1', '</math>'), ('>n_0(x)', '</math>'), ('>n_1(x)', '</math>'), ('>n_0(x)', '</math>'), ('>n', '</math>'), ('>\\\\mathbb{N}_0', '</math>'), ('>n \\\\leq x', '</math>'), ('>n_1(x)', '</math>'), ('>n', '</math>'), ('>\\\\mathbb{N}_1', '</math>'), ('>n \\\\leq x', '</math>'), ('>n_0(x)', '</math>'), ('>n_1(x)', '</math>'), ('>\\nn_0(x) = \\\\frac{1}{2}x + O\\\\left(x e^{-c\\\\sqrt{\\\\ln x}}\\\\right), n_1(x) = \\\\frac{1}{2}x + O\\\\left(x e^{-c\\\\sqrt{\\\\ln x}}\\\\right);\\nc > 0. \\n', '</math>'), ('>\\nn_0(x) \\\\sim n_1(x)\\\\sim\\\\frac12x,\\n', '</math>'), ('>n_0(x)', '</math>'), ('>n_1(x)', '</math>'), ('>\\nn_1(x)-n_0(x)=O\\\\left(xe^{-c\\\\sqrt{\\\\ln x}}\\\\right),\\n', '</math>'), ('>k \\\\geq 2', '</math>'), ('>l_1, l_2, \\\\dots l_r', '</math>'), ('>1 \\\\leq r < \\\\varphi(k)', '</math>'), ('>1\\\\leq l_j < k', '</math>'), ('>(l_j,k) =1', '</math>'), ('>l_j', '</math>'), ('>k', '</math>'), ('>j = 1, 2, \\\\dots r.', '</math>'), ('>\\\\mathbb{A}', '</math>'), ('>kn + l_j', '</math>'), ('>j \\\\leq r', '</math>'), ('>\\\\mathbb{A}', '</math>'), ('>k', '</math>'), ('>\\\\mathbb{N}^*', '</math>'), ('>\\\\mathbb{A}', '</math>'), ('>\\\\mathbb{N}^*_0', '</math>'), ('>\\\\mathbb{N}^*', '</math>'), ('>\\\\mathbb{N}^*_1', '</math>'), ('>\\\\mathbb{N}^*', '</math>'), ('> n^*(x) = \\\\displaystyle\\\\sum_{ \\\\begin{array}{c} n\\\\leq x\\\\\\\\ n\\\\in \\\\mathbb{N}^*\\\\end{array}}1  ;     \\nn^*_0(x) = \\\\displaystyle\\\\sum_{ \\\\begin{array}{c} n\\\\leq x\\\\\\\\ n\\\\in \\\\mathbb{N}^*_0\\\\end{array}}1  ;\\nn^*_1(x) = \\\\displaystyle\\\\sum_{ \\\\begin{array}{c} n\\\\leq x\\\\\\\\ n\\\\in \\\\mathbb{N}^*_1\\\\end{array}}1  .', '</math>'), ('>x\\\\to+\\\\infty', '</math>'), ('>\\nn^*_1(x)-n^*_0(x)\\\\sim C n^*(x)(\\\\ln x)^{2\\\\left(\\\\frac{r}{\\\\varphi(k)}-1\\\\right)},\\n', '</math>'), ('>C', '</math>'), ('>\\\\mathbb{A}', '</math>'), ('>\\\\mathbf{A}', '</math>'), ('>6m + 1', '</math>'), ('>m = 1, 2, \\\\dots', '</math>'), ('>\\nn^*_1(x) - n^*_0(x) \\\\sim \\\\frac{\\\\pi}{8\\\\sqrt3}\\\\frac{n^*(x)}{\\\\ln x},\\nx \\\\to +\\\\infty .\\n', '</math>')]\n",
      "[]\n"
     ]
    }
   ],
   "source": [
    "for i in range(limit):\n",
    "    print(p[i]['math'])"
   ]
  },
  {
   "cell_type": "code",
   "execution_count": 291,
   "metadata": {},
   "outputs": [
    {
     "data": {
      "text/plain": [
       "[]"
      ]
     },
     "execution_count": 291,
     "metadata": {},
     "output_type": "execute_result"
    }
   ],
   "source": [
    "wikicorpus.RE_P10.findall(p[3]['raw_xml'])"
   ]
  },
  {
   "cell_type": "code",
   "execution_count": 292,
   "metadata": {},
   "outputs": [],
   "source": [
    "math = wikicorpus.RE_P10.findall(p[3]['markup_text'])"
   ]
  },
  {
   "cell_type": "code",
   "execution_count": 278,
   "metadata": {},
   "outputs": [
    {
     "data": {
      "text/plain": [
       "{'title': 'Levi-Civita parallelogramoid',\n",
       " 'timestamp': '2014-12-06T01:51:08Z',\n",
       " 'id': '18771595',\n",
       " 'raw_xml': '<title>Levi-Civita parallelogramoid</title>\\n<ns>0</ns>\\n<id>18771595</id>\\n<revision>\\n<id>636833535</id>\\n<parentid>537260925</parentid>\\n<timestamp>2014-12-06T01:51:08Z</timestamp>\\n<contributor>\\n<username>TakuyaMurata</username>\\n<id>6707</id>\\n</contributor>\\n<comment>/* Construction */</comment>\\n<model>wikitext</model>\\n<format>text/x-wiki</format>\\n<text xml:space=\"preserve\">[[Image:Parallelogramoid.svg|thumb|right|Levi-Civita\\'s parallelogramoid]]\\nIn the [[mathematics|mathematical]] field of [[differential geometry]], the \\'\\'\\'Levi-Civita parallelogramoid\\'\\'\\' is a [[quadrilateral]] in a [[curved space]] whose construction generalizes that of a [[parallelogram]] in the [[Euclidean plane]].  It is named for its discoverer, [[Tullio Levi-Civita]]. Like a parallelogram, two opposite sides \\'\\'AA\\'\\'&amp;prime; and \\'\\'BB\\'\\'&amp;prime; of a parallelogramoid are parallel (via [[parallel transport]] {{Not a typo|along }} side \\'\\'AB\\'\\') and the same length as each other, but the fourth side \\'\\'A\\'\\'&amp;prime;\\'\\'B\\'\\'&amp;prime; will not in general be parallel to or the same length as the side \\'\\'AB,\\'\\' although it will be straight (a [[geodesic]]).\\n==Construction==\\nA parallelogram in [[Euclidean geometry]] can be constructed as follows:\\n* Start with a straight line segment \\'\\'AB\\'\\' and another straight line segment \\'\\'AA\\'\\'&amp;prime;.\\n* Slide the segment \\'\\'AA\\'\\'&amp;prime; along \\'\\'AB\\'\\' to the endpoint \\'\\'B\\'\\', keeping the angle with \\'\\'AB\\'\\' constant, and remaining in the same plane as the points \\'\\'A\\'\\', \\'\\'A\\'\\'&amp;prime;, and \\'\\'B\\'\\'.\\n* Label the endpoint of the resulting segment \\'\\'B\\'\\'&amp;prime; so that the segment is \\'\\'BB\\'\\'&amp;prime;.\\n* Draw a straight line \\'\\'A\\'\\'&amp;prime;\\'\\'B\\'\\'&amp;prime;.\\nIn a curved space, such as a [[Riemannian manifold]] or more generally any manifold equipped with an [[affine connection]], the notion of &quot;straight line&quot; generalizes to that of a [[geodesic]].  In a suitable [[neighborhood (mathematics)|neighborhood]] (such as a ball in a [[normal coordinates|normal coordinate system]]), any two points can be joined by a geodesic.  The idea of sliding the one straight line along the other gives way to the more general notion of [[parallel transport]].  Thus, assuming either that the manifold is [[complete space|complete]], or that the construction is taking place in a suitable neighborhood, the steps to producing a Levi-Civita parallelogram are:\\n* Start with a geodesic \\'\\'AB\\'\\' and another geodesic \\'\\'AA\\'\\'&amp;prime;.  These geodesics are assumed to be parameterized by their [[arclength]] in the case of a Riemannian manifold, or to carry a choice of [[affine parameter]] in the general case of an affine connection.\\n* &quot;Slide&quot; ([[parallel transport]]) the [[tangent vector]] of \\'\\'AA\\'\\'&amp;prime; from \\'\\'A\\'\\' to \\'\\'B\\'\\'.\\n* The resulting tangent vector at \\'\\'B\\'\\' generates a geodesic via the [[exponential map (Riemannian geometry)|exponential map]].  Label the endpoint of this geodesic by \\'\\'B\\'\\'&amp;prime;, and the geodesic itself \\'\\'BB\\'\\'&amp;prime;.\\n* Connect the points \\'\\'A\\'\\'&amp;prime; and \\'\\'B\\'\\'&amp;prime; by the geodesic \\'\\'A\\'\\'&amp;prime;\\'\\'B\\'\\'&amp;prime;.\\n==Quantifying the difference from a parallelogram==\\nThe length of this last geodesic constructed connecting the remaining points \\'\\'A\\'\\'&amp;prime;\\'\\'B\\'\\'&amp;prime; may in general be different than the length of the base \\'\\'AB\\'\\'.  This difference is measured by the [[Riemann curvature tensor]].  To state the relationship precisely, let \\'\\'AA\\'\\'&amp;prime; be the exponential of a tangent vector \\'\\'X\\'\\' at \\'\\'A\\'\\', and \\'\\'AB\\'\\' the exponential of a tangent vector \\'\\'Y\\'\\' at \\'\\'A\\'\\'. Then\\n:&lt;math&gt;|A\\'B\\'|^2 = |AB|^2 + \\\\frac{8}{3}\\\\langle R(X,Y)X,Y\\\\rangle + \\\\text{higher order terms}&lt;/math&gt;\\nwhere terms of higher order in the length of the sides of the parallelogram have been suppressed.\\n==Discrete approximation==\\n[[Image:Schild\\'s ladder step 4.svg|thumb|right|Two rungs of [[Schild\\'s ladder]].  The segments \\'\\'A\\'\\'&lt;sub&gt;1&lt;/sub&gt;\\'\\'X\\'\\'&lt;sub&gt;1&lt;/sub&gt; and \\'\\'A\\'\\'&lt;sub&gt;2&lt;/sub&gt;\\'\\'X\\'\\'&lt;sub&gt;2&lt;/sub&gt; are an approximation to first order of the [[parallel transport]] of \\'\\'A\\'\\'&lt;sub&gt;0&lt;/sub&gt;\\'\\'X\\'\\'&lt;sub&gt;0&lt;/sub&gt; along the curve.]]\\n[[Parallel transport]] can be discretely approximated by [[Schild\\'s ladder]], which approximates Levi-Civita parallelogramoids by approximate parallelograms.\\n==References==\\n*{{citation | first = Élie | last = Cartan | authorlink=Élie Cartan|title = Geometry of Riemannian Spaces| publisher = Math Sci Press, Massachusetts | year = 1983}}\\n \\n \\n </text>\\n<sha1>lbzabcfoxyxx6zhlzr9ow1ajy9ugx6h</sha1>\\n</revision>\\n',\n",
       " 'markup_text': '[[Image:Parallelogramoid.svg|thumb|right|Levi-Civita\\'s parallelogramoid]]\\nIn the [[mathematics|mathematical]] field of [[differential geometry]], the \\'\\'\\'Levi-Civita parallelogramoid\\'\\'\\' is a [[quadrilateral]] in a [[curved space]] whose construction generalizes that of a [[parallelogram]] in the [[Euclidean plane]].  It is named for its discoverer, [[Tullio Levi-Civita]]. Like a parallelogram, two opposite sides \\'\\'AA\\'\\'&prime; and \\'\\'BB\\'\\'&prime; of a parallelogramoid are parallel (via [[parallel transport]] {{Not a typo|along }} side \\'\\'AB\\'\\') and the same length as each other, but the fourth side \\'\\'A\\'\\'&prime;\\'\\'B\\'\\'&prime; will not in general be parallel to or the same length as the side \\'\\'AB,\\'\\' although it will be straight (a [[geodesic]]).\\n==Construction==\\nA parallelogram in [[Euclidean geometry]] can be constructed as follows:\\n* Start with a straight line segment \\'\\'AB\\'\\' and another straight line segment \\'\\'AA\\'\\'&prime;.\\n* Slide the segment \\'\\'AA\\'\\'&prime; along \\'\\'AB\\'\\' to the endpoint \\'\\'B\\'\\', keeping the angle with \\'\\'AB\\'\\' constant, and remaining in the same plane as the points \\'\\'A\\'\\', \\'\\'A\\'\\'&prime;, and \\'\\'B\\'\\'.\\n* Label the endpoint of the resulting segment \\'\\'B\\'\\'&prime; so that the segment is \\'\\'BB\\'\\'&prime;.\\n* Draw a straight line \\'\\'A\\'\\'&prime;\\'\\'B\\'\\'&prime;.\\nIn a curved space, such as a [[Riemannian manifold]] or more generally any manifold equipped with an [[affine connection]], the notion of \"straight line\" generalizes to that of a [[geodesic]].  In a suitable [[neighborhood (mathematics)|neighborhood]] (such as a ball in a [[normal coordinates|normal coordinate system]]), any two points can be joined by a geodesic.  The idea of sliding the one straight line along the other gives way to the more general notion of [[parallel transport]].  Thus, assuming either that the manifold is [[complete space|complete]], or that the construction is taking place in a suitable neighborhood, the steps to producing a Levi-Civita parallelogram are:\\n* Start with a geodesic \\'\\'AB\\'\\' and another geodesic \\'\\'AA\\'\\'&prime;.  These geodesics are assumed to be parameterized by their [[arclength]] in the case of a Riemannian manifold, or to carry a choice of [[affine parameter]] in the general case of an affine connection.\\n* \"Slide\" ([[parallel transport]]) the [[tangent vector]] of \\'\\'AA\\'\\'&prime; from \\'\\'A\\'\\' to \\'\\'B\\'\\'.\\n* The resulting tangent vector at \\'\\'B\\'\\' generates a geodesic via the [[exponential map (Riemannian geometry)|exponential map]].  Label the endpoint of this geodesic by \\'\\'B\\'\\'&prime;, and the geodesic itself \\'\\'BB\\'\\'&prime;.\\n* Connect the points \\'\\'A\\'\\'&prime; and \\'\\'B\\'\\'&prime; by the geodesic \\'\\'A\\'\\'&prime;\\'\\'B\\'\\'&prime;.\\n==Quantifying the difference from a parallelogram==\\nThe length of this last geodesic constructed connecting the remaining points \\'\\'A\\'\\'&prime;\\'\\'B\\'\\'&prime; may in general be different than the length of the base \\'\\'AB\\'\\'.  This difference is measured by the [[Riemann curvature tensor]].  To state the relationship precisely, let \\'\\'AA\\'\\'&prime; be the exponential of a tangent vector \\'\\'X\\'\\' at \\'\\'A\\'\\', and \\'\\'AB\\'\\' the exponential of a tangent vector \\'\\'Y\\'\\' at \\'\\'A\\'\\'. Then\\n:<math>|A\\'B\\'|^2 = |AB|^2 + \\\\frac{8}{3}\\\\langle R(X,Y)X,Y\\\\rangle + \\\\text{higher order terms}</math>\\nwhere terms of higher order in the length of the sides of the parallelogram have been suppressed.\\n==Discrete approximation==\\n[[Image:Schild\\'s ladder step 4.svg|thumb|right|Two rungs of [[Schild\\'s ladder]].  The segments \\'\\'A\\'\\'<sub>1</sub>\\'\\'X\\'\\'<sub>1</sub> and \\'\\'A\\'\\'<sub>2</sub>\\'\\'X\\'\\'<sub>2</sub> are an approximation to first order of the [[parallel transport]] of \\'\\'A\\'\\'<sub>0</sub>\\'\\'X\\'\\'<sub>0</sub> along the curve.]]\\n[[Parallel transport]] can be discretely approximated by [[Schild\\'s ladder]], which approximates Levi-Civita parallelogramoids by approximate parallelograms.\\n==References==\\n*{{citation | first = Élie | last = Cartan | authorlink=Élie Cartan|title = Geometry of Riemannian Spaces| publisher = Math Sci Press, Massachusetts | year = 1983}}\\n[[Category:Curvature (mathematics)]]\\n[[Category:Differential geometry]]\\n[[Category:Quadrilaterals]]',\n",
       " 'cleaned_text': '[[Image:Parallelogramoid.svg|thumb|right|Levi-Civita\\'s parallelogramoid]] In the [[mathematics|mathematical]] field of [[differential geometry]], the \\'\\'\\'Levi-Civita parallelogramoid\\'\\'\\' is a [[quadrilateral]] in a [[curved space]] whose construction generalizes that of a [[parallelogram]] in the [[Euclidean plane]].  It is named for its discoverer, [[Tullio Levi-Civita]]. Like a parallelogram, two opposite sides \\'\\'AA\\'\\'&prime; and \\'\\'BB\\'\\'&prime; of a parallelogramoid are parallel (via [[parallel transport]] {{Not a typo|along }} side \\'\\'AB\\'\\') and the same length as each other, but the fourth side \\'\\'A\\'\\'&prime;\\'\\'B\\'\\'&prime; will not in general be parallel to or the same length as the side \\'\\'AB,\\'\\' although it will be straight (a [[geodesic]]). ==Construction== A parallelogram in [[Euclidean geometry]] can be constructed as follows: * Start with a straight line segment \\'\\'AB\\'\\' and another straight line segment \\'\\'AA\\'\\'&prime;. * Slide the segment \\'\\'AA\\'\\'&prime; along \\'\\'AB\\'\\' to the endpoint \\'\\'B\\'\\', keeping the angle with \\'\\'AB\\'\\' constant, and remaining in the same plane as the points \\'\\'A\\'\\', \\'\\'A\\'\\'&prime;, and \\'\\'B\\'\\'. * Label the endpoint of the resulting segment \\'\\'B\\'\\'&prime; so that the segment is \\'\\'BB\\'\\'&prime;. * Draw a straight line \\'\\'A\\'\\'&prime;\\'\\'B\\'\\'&prime;. In a curved space, such as a [[Riemannian manifold]] or more generally any manifold equipped with an [[affine connection]], the notion of \"straight line\" generalizes to that of a [[geodesic]].  In a suitable [[neighborhood (mathematics)|neighborhood]] (such as a ball in a [[normal coordinates|normal coordinate system]]), any two points can be joined by a geodesic.  The idea of sliding the one straight line along the other gives way to the more general notion of [[parallel transport]].  Thus, assuming either that the manifold is [[complete space|complete]], or that the construction is taking place in a suitable neighborhood, the steps to producing a Levi-Civita parallelogram are: * Start with a geodesic \\'\\'AB\\'\\' and another geodesic \\'\\'AA\\'\\'&prime;.  These geodesics are assumed to be parameterized by their [[arclength]] in the case of a Riemannian manifold, or to carry a choice of [[affine parameter]] in the general case of an affine connection. * \"Slide\" ([[parallel transport]]) the [[tangent vector]] of \\'\\'AA\\'\\'&prime; from \\'\\'A\\'\\' to \\'\\'B\\'\\'. * The resulting tangent vector at \\'\\'B\\'\\' generates a geodesic via the [[exponential map (Riemannian geometry)|exponential map]].  Label the endpoint of this geodesic by \\'\\'B\\'\\'&prime;, and the geodesic itself \\'\\'BB\\'\\'&prime;. * Connect the points \\'\\'A\\'\\'&prime; and \\'\\'B\\'\\'&prime; by the geodesic \\'\\'A\\'\\'&prime;\\'\\'B\\'\\'&prime;. ==Quantifying the difference from a parallelogram== The length of this last geodesic constructed connecting the remaining points \\'\\'A\\'\\'&prime;\\'\\'B\\'\\'&prime; may in general be different than the length of the base \\'\\'AB\\'\\'.  This difference is measured by the [[Riemann curvature tensor]].  To state the relationship precisely, let \\'\\'AA\\'\\'&prime; be the exponential of a tangent vector \\'\\'X\\'\\' at \\'\\'A\\'\\', and \\'\\'AB\\'\\' the exponential of a tangent vector \\'\\'Y\\'\\' at \\'\\'A\\'\\'. Then :<math>|A\\'B\\'|^2 = |AB|^2 + \\\\frac{8}{3}\\\\langle R(X,Y)X,Y\\\\rangle + \\\\text{higher order terms}</math> where terms of higher order in the length of the sides of the parallelogram have been suppressed. ==Discrete approximation== [[Image:Schild\\'s ladder step 4.svg|thumb|right|Two rungs of [[Schild\\'s ladder]].  The segments \\'\\'A\\'\\'<sub>1</sub>\\'\\'X\\'\\'<sub>1</sub> and \\'\\'A\\'\\'<sub>2</sub>\\'\\'X\\'\\'<sub>2</sub> are an approximation to first order of the [[parallel transport]] of \\'\\'A\\'\\'<sub>0</sub>\\'\\'X\\'\\'<sub>0</sub> along the curve.]] [[Parallel transport]] can be discretely approximated by [[Schild\\'s ladder]], which approximates Levi-Civita parallelogramoids by approximate parallelograms. ==References== *{{citation | first = Élie | last = Cartan | authorlink=Élie Cartan|title = Geometry of Riemannian Spaces| publisher = Math Sci Press, Massachusetts | year = 1983}} [[Category:Curvature (mathematics)]] [[Category:Differential geometry]] [[Category:Quadrilaterals]]',\n",
       " 'links': ['mathematics|mathematical',\n",
       "  'differential geometry',\n",
       "  'quadrilateral',\n",
       "  'curved space',\n",
       "  'parallelogram',\n",
       "  'Euclidean plane',\n",
       "  'Tullio Levi-Civita',\n",
       "  'parallel transport',\n",
       "  'geodesic',\n",
       "  'Euclidean geometry',\n",
       "  'Riemannian manifold',\n",
       "  'affine connection',\n",
       "  'geodesic',\n",
       "  'neighborhood (mathematics)|neighborhood',\n",
       "  'normal coordinates|normal coordinate system',\n",
       "  'parallel transport',\n",
       "  'complete space|complete',\n",
       "  'arclength',\n",
       "  'affine parameter',\n",
       "  'parallel transport',\n",
       "  'tangent vector',\n",
       "  'exponential map (Riemannian geometry)|exponential map',\n",
       "  'Riemann curvature tensor',\n",
       "  \"Schild's ladder\",\n",
       "  'parallel transport',\n",
       "  'Parallel transport',\n",
       "  \"Schild's ladder\"],\n",
       " 'target': 'math',\n",
       " 'categories': ['[[Category:Curvature (mathematics)]]',\n",
       "  '[[Category:Differential geometry]]',\n",
       "  '[[Category:Quadrilaterals]]'],\n",
       " 'tags': ['title',\n",
       "  '/title',\n",
       "  'ns',\n",
       "  '/ns',\n",
       "  'id',\n",
       "  '/id',\n",
       "  'revision',\n",
       "  'id',\n",
       "  '/id',\n",
       "  'parentid',\n",
       "  '/parentid',\n",
       "  'timestamp',\n",
       "  '/timestamp',\n",
       "  'contributor',\n",
       "  'username',\n",
       "  '/username',\n",
       "  'id',\n",
       "  '/id',\n",
       "  '/contributor',\n",
       "  'comment',\n",
       "  '/comment',\n",
       "  'model',\n",
       "  '/model',\n",
       "  'format',\n",
       "  '/format',\n",
       "  'text xml:space=\"preserve\"',\n",
       "  '/text',\n",
       "  'sha1',\n",
       "  '/sha1',\n",
       "  '/revision'],\n",
       " 'file_desc': [],\n",
       " 'image_desc': \"Two rungs of Schild's ladder\",\n",
       " 'external_links': [],\n",
       " 'simple_links': [('Image:Parallelogramoid.svg|thumb|right',\n",
       "   \"Levi-Civita's parallelogramoid\"),\n",
       "  ('mathematics', 'mathematical'),\n",
       "  ('neighborhood (mathematics)', 'neighborhood'),\n",
       "  ('normal coordinates', 'normal coordinate system'),\n",
       "  ('complete space', 'complete'),\n",
       "  ('exponential map (Riemannian geometry)', 'exponential map')],\n",
       " 'interlinks': [\"Image:Parallelogramoid.svg|thumb|right|Levi-Civita's parallelogramoid\",\n",
       "  'mathematics|mathematical',\n",
       "  'differential geometry',\n",
       "  'quadrilateral',\n",
       "  'curved space',\n",
       "  'parallelogram',\n",
       "  'Euclidean plane',\n",
       "  'Tullio Levi-Civita',\n",
       "  'parallel transport',\n",
       "  'geodesic',\n",
       "  'Euclidean geometry',\n",
       "  'Riemannian manifold',\n",
       "  'affine connection',\n",
       "  'geodesic',\n",
       "  'neighborhood (mathematics)|neighborhood',\n",
       "  'normal coordinates|normal coordinate system',\n",
       "  'parallel transport',\n",
       "  'complete space|complete',\n",
       "  'arclength',\n",
       "  'affine parameter',\n",
       "  'parallel transport',\n",
       "  'tangent vector',\n",
       "  'exponential map (Riemannian geometry)|exponential map',\n",
       "  'Riemann curvature tensor',\n",
       "  \"Image:Schild's ladder step 4.svg|thumb|right|Two rungs of [[Schild's ladder\",\n",
       "  'parallel transport',\n",
       "  'Parallel transport',\n",
       "  \"Schild's ladder\",\n",
       "  'Category:Curvature (mathematics)',\n",
       "  'Category:Differential geometry',\n",
       "  'Category:Quadrilaterals'],\n",
       " 'math': []}"
      ]
     },
     "execution_count": 278,
     "metadata": {},
     "output_type": "execute_result"
    }
   ],
   "source": [
    "p[1]"
   ]
  },
  {
   "cell_type": "code",
   "execution_count": 284,
   "metadata": {},
   "outputs": [
    {
     "data": {
      "text/plain": [
       "'</math>'"
      ]
     },
     "execution_count": 284,
     "metadata": {},
     "output_type": "execute_result"
    }
   ],
   "source": [
    "math[0][-1]"
   ]
  },
  {
   "cell_type": "code",
   "execution_count": 200,
   "metadata": {},
   "outputs": [
    {
     "ename": "IndexError",
     "evalue": "string index out of range",
     "output_type": "error",
     "traceback": [
      "\u001b[0;31m---------------------------------------------------------------------------\u001b[0m",
      "\u001b[0;31mIndexError\u001b[0m                                Traceback (most recent call last)",
      "\u001b[0;32m<ipython-input-200-2a83e557b805>\u001b[0m in \u001b[0;36m<module>\u001b[0;34m\u001b[0m\n\u001b[0;32m----> 1\u001b[0;31m \u001b[0mp\u001b[0m\u001b[0;34m[\u001b[0m\u001b[0;36m3\u001b[0m\u001b[0;34m]\u001b[0m\u001b[0;34m[\u001b[0m\u001b[0;34m'image_desc'\u001b[0m\u001b[0;34m]\u001b[0m\u001b[0;34m[\u001b[0m\u001b[0;36m0\u001b[0m\u001b[0;34m]\u001b[0m\u001b[0;34m[\u001b[0m\u001b[0;36m2\u001b[0m\u001b[0;34m]\u001b[0m\u001b[0;34m\u001b[0m\u001b[0m\n\u001b[0m",
      "\u001b[0;31mIndexError\u001b[0m: string index out of range"
     ]
    }
   ],
   "source": [
    "p[3]['image_desc'][0][2]"
   ]
  },
  {
   "cell_type": "code",
   "execution_count": 100,
   "metadata": {},
   "outputs": [
    {
     "data": {
      "text/plain": [
       "{'title': 'Shape theory (mathematics)',\n",
       " 'timestamp': '2018-03-06T11:12:03Z',\n",
       " 'id': '18767352',\n",
       " 'raw_xml': '<title>Shape theory (mathematics)</title>\\n<ns>0</ns>\\n<id>18767352</id>\\n<revision>\\n<id>829058358</id>\\n<parentid>829047086</parentid>\\n<timestamp>2018-03-06T11:12:03Z</timestamp>\\n<contributor>\\n<username>AnomieBOT</username>\\n<id>7611264</id>\\n</contributor>\\n<minor />\\n<comment>Dating maintenance tags: {{Clarify}}</comment>\\n<model>wikitext</model>\\n<format>text/x-wiki</format>\\n<text xml:space=\"preserve\">\\'\\'\\'Shape theory\\'\\'\\' is a branch of [[topology]], which provides a more global view of the topological spaces than [[homotopy theory]]. The two coincide on compacta dominated homotopically by finite polyhedra. Shape theory associates with the Čech homology theory while homotopy theory associates with the singular homology theory.\\n==Background==\\nShape theory was reinvented, further developed and promoted by the Polish mathematician [[Karol Borsuk]] in 1968. Actually, the name \\'\\'shape theory\\'\\' was coined by Borsuk.\\n===Warsaw Circle===\\nBorsuk lived and worked in [[Warsaw]], hence the name of one of the fundamental examples of the area, the Warsaw circle. This is a compact subset of the plane produced by &quot;closing up&quot; a [[topologist\\'s sine curve]] with an arc.\\n[[File:Warsaw Circle.png|thumb|The Warsaw Circle.]]  It has [[homotopy group]]s [[group isomorphism|isomorphic]] to those of a point, but is not [[homotopy equivalence|homotopy equivalent]] to a point—instead, the Warsaw circle is shape-equivalent to a circle (one dimensional sphere). [[Whitehead theorem|Whitehead\\'s theorem]] does not apply to Warsaw circle because it is not a CW complex.\\n==Development==\\nBorsuk\\'s shape theory was generalized onto arbitrary (non-metric) compact spaces, and even onto general categories, by Włodzimierz Holsztyński in year 1968/1969, and published in Fund. Math. \\'\\'\\'70\\'\\'\\' , 157-168, y.1971 (see Jean-Marc Cordier, Tim Porter, (1989) below). This was done in a \\'\\'continuous style\\'\\', characteristic for the Čech homology rendered by [[Samuel Eilenberg]] and Norman Steenrod in their monograph \\'\\'Foundations of Algebraic Topology\\'\\'. Due to the circumstance{{Clarify|date=March 2018}}, Holsztyński\\'s paper was hardly noticed, and instead a great popularity in the field was gained by a much less advanced (more naive) paper by [[Sibe Mardešić]] and Jack Segal, which was published a little later, Fund. Math. \\'\\'\\'72\\'\\'\\', 61-68, y.1971. Further developments are reflected by the references below, and by their contents.\\nFor some purposes, like dynamical systems, more sophisticated invariants were developed under the name \\'\\'\\'strong shape\\'\\'\\'. Generalizations to [[noncommutative geometry]], e.g. the shape theory for [[operator algebra]]s have been found.\\n==References==\\n*{{cite journal | first = Sibe | last = Mardešić | title = Thirty years of shape theory | url = http://hrcak.srce.hr/file/2848 | format = [[PDF]] | journal = Mathematical Communications | volume = 2 | year = 1997 | pages = 1–12}}\\n*{{nlab|id=shape%20theory|title=shape theory}}\\n* Jean-Marc Cordier, Tim Porter, (1989), Shape Theory: Categorical Methods of Approximation, Mathematics and its Applications, Ellis Horwood. Reprinted Dover (2008)\\n* A. Deleanu and P.J. Hilton, On the categorical shape of a functor, Fund. Math. 97 (1977) 157 - 176.\\n* A. Deleanu, P.J. Hilton, Borsuk\\'s shape and Grothendieck categories of pro-objects, Math. Proc. Camb. Phil. Soc. 79 (1976) 473-482.\\n* Sibe Mardešić, Jack Segal, Shapes of compacta and ANR-systems, Fund. Math. 72 (1971) 41-59,\\n* K. Borsuk, Concerning homotopy properties of compacta, Fund Math. 62 (1968) 223-254\\n* K. Borsuk, Theory of Shape, Monografie Matematyczne Tom 59,Warszawa 1975.\\n* D.A. Edwards and H. M. Hastings, [http://projecteuclid.org/DPubS?verb=Display&amp;version=1.0&amp;service=UI&amp;handle=euclid.rmjm/1250128825&amp;page=record Čech Theory: its Past, Present, and Future], Rocky Mountain Journal of Mathematics, Volume 10, Number 3, Summer 1980\\n* D.A. Edwards and H. M. Hastings, (1976), [http://www.math.uga.edu/%7Edavide/Cech_and_Steenrod_Homotopy_Theories_with_Applications_to_Geometric_Topology.pdf Čech and Steenrod homotopy theories with applications to geometric topology], Lecture Notes in Maths. 542, Springer-Verlag.\\n* Tim Porter, Čech homotopy I, II, Jour. London Math. Soc., 1, 6, 1973, pp.&amp;nbsp;429–436; 2, 6, 1973, pp.&amp;nbsp;667–675.\\n* J.T. Lisica, S. Mardešić, Coherent prohomotopy and strong shape theory, Glasnik Matematički 19(39) (1984) 335–399.\\n* Michael Batanin, Categorical strong shape theory, Cahiers Topologie Géom. Différentielle Catég. 38 (1997), no. 1, 3–66, [http://www.numdam.org/numdam-bin/fitem?id=CTGDC_1997__38_1_3_0 numdam]\\n* Marius Dādārlat, Shape theory and asymptotic morphisms for C*-algebras, Duke Math. J., 73(3):687-711, 1994.\\n* Marius Dādārlat, Terry A. Loring, Deformations of topological spaces predicted by E-theory, In Algebraic methods in operator theory, p.&amp;nbsp;316-327. Birkhäuser 1994.\\n \\n </text>\\n<sha1>pj2hwkpjekrutybdudipclphhglnsle</sha1>\\n</revision>\\n',\n",
       " 'markup_text': '\\'\\'\\'Shape theory\\'\\'\\' is a branch of [[topology]], which provides a more global view of the topological spaces than [[homotopy theory]]. The two coincide on compacta dominated homotopically by finite polyhedra. Shape theory associates with the Čech homology theory while homotopy theory associates with the singular homology theory.\\n==Background==\\nShape theory was reinvented, further developed and promoted by the Polish mathematician [[Karol Borsuk]] in 1968. Actually, the name \\'\\'shape theory\\'\\' was coined by Borsuk.\\n===Warsaw Circle===\\nBorsuk lived and worked in [[Warsaw]], hence the name of one of the fundamental examples of the area, the Warsaw circle. This is a compact subset of the plane produced by \"closing up\" a [[topologist\\'s sine curve]] with an arc.\\n[[File:Warsaw Circle.png|thumb|The Warsaw Circle.]]  It has [[homotopy group]]s [[group isomorphism|isomorphic]] to those of a point, but is not [[homotopy equivalence|homotopy equivalent]] to a point—instead, the Warsaw circle is shape-equivalent to a circle (one dimensional sphere). [[Whitehead theorem|Whitehead\\'s theorem]] does not apply to Warsaw circle because it is not a CW complex.\\n==Development==\\nBorsuk\\'s shape theory was generalized onto arbitrary (non-metric) compact spaces, and even onto general categories, by Włodzimierz Holsztyński in year 1968/1969, and published in Fund. Math. \\'\\'\\'70\\'\\'\\' , 157-168, y.1971 (see Jean-Marc Cordier, Tim Porter, (1989) below). This was done in a \\'\\'continuous style\\'\\', characteristic for the Čech homology rendered by [[Samuel Eilenberg]] and Norman Steenrod in their monograph \\'\\'Foundations of Algebraic Topology\\'\\'. Due to the circumstance{{Clarify|date=March 2018}}, Holsztyński\\'s paper was hardly noticed, and instead a great popularity in the field was gained by a much less advanced (more naive) paper by [[Sibe Mardešić]] and Jack Segal, which was published a little later, Fund. Math. \\'\\'\\'72\\'\\'\\', 61-68, y.1971. Further developments are reflected by the references below, and by their contents.\\nFor some purposes, like dynamical systems, more sophisticated invariants were developed under the name \\'\\'\\'strong shape\\'\\'\\'. Generalizations to [[noncommutative geometry]], e.g. the shape theory for [[operator algebra]]s have been found.\\n==References==\\n*{{cite journal | first = Sibe | last = Mardešić | title = Thirty years of shape theory | url = http://hrcak.srce.hr/file/2848 | format = [[PDF]] | journal = Mathematical Communications | volume = 2 | year = 1997 | pages = 1–12}}\\n*{{nlab|id=shape%20theory|title=shape theory}}\\n* Jean-Marc Cordier, Tim Porter, (1989), Shape Theory: Categorical Methods of Approximation, Mathematics and its Applications, Ellis Horwood. Reprinted Dover (2008)\\n* A. Deleanu and P.J. Hilton, On the categorical shape of a functor, Fund. Math. 97 (1977) 157 - 176.\\n* A. Deleanu, P.J. Hilton, Borsuk\\'s shape and Grothendieck categories of pro-objects, Math. Proc. Camb. Phil. Soc. 79 (1976) 473-482.\\n* Sibe Mardešić, Jack Segal, Shapes of compacta and ANR-systems, Fund. Math. 72 (1971) 41-59,\\n* K. Borsuk, Concerning homotopy properties of compacta, Fund Math. 62 (1968) 223-254\\n* K. Borsuk, Theory of Shape, Monografie Matematyczne Tom 59,Warszawa 1975.\\n* D.A. Edwards and H. M. Hastings, [http://projecteuclid.org/DPubS?verb=Display&version=1.0&service=UI&handle=euclid.rmjm/1250128825&page=record Čech Theory: its Past, Present, and Future], Rocky Mountain Journal of Mathematics, Volume 10, Number 3, Summer 1980\\n* D.A. Edwards and H. M. Hastings, (1976), [http://www.math.uga.edu/%7Edavide/Cech_and_Steenrod_Homotopy_Theories_with_Applications_to_Geometric_Topology.pdf Čech and Steenrod homotopy theories with applications to geometric topology], Lecture Notes in Maths. 542, Springer-Verlag.\\n* Tim Porter, Čech homotopy I, II, Jour. London Math. Soc., 1, 6, 1973, pp.&nbsp;429–436; 2, 6, 1973, pp.&nbsp;667–675.\\n* J.T. Lisica, S. Mardešić, Coherent prohomotopy and strong shape theory, Glasnik Matematički 19(39) (1984) 335–399.\\n* Michael Batanin, Categorical strong shape theory, Cahiers Topologie Géom. Différentielle Catég. 38 (1997), no. 1, 3–66, [http://www.numdam.org/numdam-bin/fitem?id=CTGDC_1997__38_1_3_0 numdam]\\n* Marius Dādārlat, Shape theory and asymptotic morphisms for C*-algebras, Duke Math. J., 73(3):687-711, 1994.\\n* Marius Dādārlat, Terry A. Loring, Deformations of topological spaces predicted by E-theory, In Algebraic methods in operator theory, p.&nbsp;316-327. Birkhäuser 1994.\\n[[Category:Topology]]\\n[[Category:Homotopy theory]]',\n",
       " 'cleaned_text': '\\'\\'\\'Shape theory\\'\\'\\' is a branch of [[topology]], which provides a more global view of the topological spaces than [[homotopy theory]]. The two coincide on compacta dominated homotopically by finite polyhedra. Shape theory associates with the Čech homology theory while homotopy theory associates with the singular homology theory. ==Background== Shape theory was reinvented, further developed and promoted by the Polish mathematician [[Karol Borsuk]] in 1968. Actually, the name \\'\\'shape theory\\'\\' was coined by Borsuk. ===Warsaw Circle=== Borsuk lived and worked in [[Warsaw]], hence the name of one of the fundamental examples of the area, the Warsaw circle. This is a compact subset of the plane produced by \"closing up\" a [[topologist\\'s sine curve]] with an arc. [[File:Warsaw Circle.png|thumb|The Warsaw Circle.]]  It has [[homotopy group]]s [[group isomorphism|isomorphic]] to those of a point, but is not [[homotopy equivalence|homotopy equivalent]] to a point—instead, the Warsaw circle is shape-equivalent to a circle (one dimensional sphere). [[Whitehead theorem|Whitehead\\'s theorem]] does not apply to Warsaw circle because it is not a CW complex. ==Development== Borsuk\\'s shape theory was generalized onto arbitrary (non-metric) compact spaces, and even onto general categories, by Włodzimierz Holsztyński in year 1968/1969, and published in Fund. Math. \\'\\'\\'70\\'\\'\\' , 157-168, y.1971 (see Jean-Marc Cordier, Tim Porter, (1989) below). This was done in a \\'\\'continuous style\\'\\', characteristic for the Čech homology rendered by [[Samuel Eilenberg]] and Norman Steenrod in their monograph \\'\\'Foundations of Algebraic Topology\\'\\'. Due to the circumstance{{Clarify|date=March 2018}}, Holsztyński\\'s paper was hardly noticed, and instead a great popularity in the field was gained by a much less advanced (more naive) paper by [[Sibe Mardešić]] and Jack Segal, which was published a little later, Fund. Math. \\'\\'\\'72\\'\\'\\', 61-68, y.1971. Further developments are reflected by the references below, and by their contents. For some purposes, like dynamical systems, more sophisticated invariants were developed under the name \\'\\'\\'strong shape\\'\\'\\'. Generalizations to [[noncommutative geometry]], e.g. the shape theory for [[operator algebra]]s have been found. ==References== *{{cite journal | first = Sibe | last = Mardešić | title = Thirty years of shape theory | url = http://hrcak.srce.hr/file/2848 | format = [[PDF]] | journal = Mathematical Communications | volume = 2 | year = 1997 | pages = 1–12}} *{{nlab|id=shape%20theory|title=shape theory}} * Jean-Marc Cordier, Tim Porter, (1989), Shape Theory: Categorical Methods of Approximation, Mathematics and its Applications, Ellis Horwood. Reprinted Dover (2008) * A. Deleanu and P.J. Hilton, On the categorical shape of a functor, Fund. Math. 97 (1977) 157 - 176. * A. Deleanu, P.J. Hilton, Borsuk\\'s shape and Grothendieck categories of pro-objects, Math. Proc. Camb. Phil. Soc. 79 (1976) 473-482. * Sibe Mardešić, Jack Segal, Shapes of compacta and ANR-systems, Fund. Math. 72 (1971) 41-59, * K. Borsuk, Concerning homotopy properties of compacta, Fund Math. 62 (1968) 223-254 * K. Borsuk, Theory of Shape, Monografie Matematyczne Tom 59,Warszawa 1975. * D.A. Edwards and H. M. Hastings, [http://projecteuclid.org/DPubS?verb=Display&version=1.0&service=UI&handle=euclid.rmjm/1250128825&page=record Čech Theory: its Past, Present, and Future], Rocky Mountain Journal of Mathematics, Volume 10, Number 3, Summer 1980 * D.A. Edwards and H. M. Hastings, (1976), [http://www.math.uga.edu/%7Edavide/Cech_and_Steenrod_Homotopy_Theories_with_Applications_to_Geometric_Topology.pdf Čech and Steenrod homotopy theories with applications to geometric topology], Lecture Notes in Maths. 542, Springer-Verlag. * Tim Porter, Čech homotopy I, II, Jour. London Math. Soc., 1, 6, 1973, pp.&nbsp;429–436; 2, 6, 1973, pp.&nbsp;667–675. * J.T. Lisica, S. Mardešić, Coherent prohomotopy and strong shape theory, Glasnik Matematički 19(39) (1984) 335–399. * Michael Batanin, Categorical strong shape theory, Cahiers Topologie Géom. Différentielle Catég. 38 (1997), no. 1, 3–66, [http://www.numdam.org/numdam-bin/fitem?id=CTGDC_1997__38_1_3_0 numdam] * Marius Dādārlat, Shape theory and asymptotic morphisms for C*-algebras, Duke Math. J., 73(3):687-711, 1994. * Marius Dādārlat, Terry A. Loring, Deformations of topological spaces predicted by E-theory, In Algebraic methods in operator theory, p.&nbsp;316-327. Birkhäuser 1994. [[Category:Topology]] [[Category:Homotopy theory]]',\n",
       " 'links': ['topology',\n",
       "  'homotopy theory',\n",
       "  'Karol Borsuk',\n",
       "  'Warsaw',\n",
       "  \"topologist's sine curve\",\n",
       "  'homotopy group',\n",
       "  'group isomorphism|isomorphic',\n",
       "  'homotopy equivalence|homotopy equivalent',\n",
       "  \"Whitehead theorem|Whitehead's theorem\",\n",
       "  'Samuel Eilenberg',\n",
       "  'Sibe Mardešić',\n",
       "  'noncommutative geometry',\n",
       "  'operator algebra',\n",
       "  'PDF'],\n",
       " 'target': 'math',\n",
       " 'categories': ['[[Category:Topology]]', '[[Category:Homotopy theory]]'],\n",
       " 'tags': ['title',\n",
       "  '/title',\n",
       "  'ns',\n",
       "  '/ns',\n",
       "  'id',\n",
       "  '/id',\n",
       "  'revision',\n",
       "  'id',\n",
       "  '/id',\n",
       "  'parentid',\n",
       "  '/parentid',\n",
       "  'timestamp',\n",
       "  '/timestamp',\n",
       "  'contributor',\n",
       "  'username',\n",
       "  '/username',\n",
       "  'id',\n",
       "  '/id',\n",
       "  '/contributor',\n",
       "  'minor /',\n",
       "  'comment',\n",
       "  '/comment',\n",
       "  'model',\n",
       "  '/model',\n",
       "  'format',\n",
       "  '/format',\n",
       "  'text xml:space=\"preserve\"',\n",
       "  '/text',\n",
       "  'sha1',\n",
       "  '/sha1',\n",
       "  '/revision'],\n",
       " 'file_desc': [(':Warsaw Circle.png',\n",
       "   '|homotopy equivalent]] to a point—instead, the Warsaw circle is shape-equivalent to a circle (one dimensional sphere). [[Whitehead theorem',\n",
       "   \"Whitehead's theorem\")],\n",
       " 'image_desc': [],\n",
       " 'external_links': [],\n",
       " 'simple_links': [('File:Warsaw Circle.png|thumb', 'The Warsaw Circle.'),\n",
       "  ('group isomorphism', 'isomorphic'),\n",
       "  ('homotopy equivalence', 'homotopy equivalent'),\n",
       "  ('Whitehead theorem', \"Whitehead's theorem\")],\n",
       " 'interlinks': ['topology',\n",
       "  'homotopy theory',\n",
       "  'Karol Borsuk',\n",
       "  'Warsaw',\n",
       "  \"topologist's sine curve\",\n",
       "  'File:Warsaw Circle.png|thumb|The Warsaw Circle.',\n",
       "  'homotopy group',\n",
       "  'group isomorphism|isomorphic',\n",
       "  'homotopy equivalence|homotopy equivalent',\n",
       "  \"Whitehead theorem|Whitehead's theorem\",\n",
       "  'Samuel Eilenberg',\n",
       "  'Sibe Mardešić',\n",
       "  'noncommutative geometry',\n",
       "  'operator algebra',\n",
       "  'PDF',\n",
       "  'Category:Topology',\n",
       "  'Category:Homotopy theory'],\n",
       " 'math': []}"
      ]
     },
     "execution_count": 100,
     "metadata": {},
     "output_type": "execute_result"
    }
   ],
   "source": [
    "p[0]"
   ]
  },
  {
   "cell_type": "code",
   "execution_count": 20,
   "metadata": {},
   "outputs": [
    {
     "data": {
      "text/plain": [
       "re.compile(r'\\[([^][]*)\\|([^][]*)\\]', re.DOTALL|re.UNICODE)"
      ]
     },
     "execution_count": 20,
     "metadata": {},
     "output_type": "execute_result"
    }
   ],
   "source": [
    "wikicorpus.RE_P6"
   ]
  },
  {
   "cell_type": "code",
   "execution_count": 25,
   "metadata": {},
   "outputs": [
    {
     "data": {
      "text/plain": [
       "['Wikipedia',\n",
       " 'Category',\n",
       " 'File',\n",
       " 'Portal',\n",
       " 'Template',\n",
       " 'MediaWiki',\n",
       " 'User',\n",
       " 'Help',\n",
       " 'Book',\n",
       " 'Draft',\n",
       " 'WikiProject',\n",
       " 'Special',\n",
       " 'Talk']"
      ]
     },
     "execution_count": 25,
     "metadata": {},
     "output_type": "execute_result"
    }
   ],
   "source": [
    "wikicorpus.IGNORED_NAMESPACES "
   ]
  },
  {
   "cell_type": "code",
   "execution_count": null,
   "metadata": {},
   "outputs": [],
   "source": []
  },
  {
   "cell_type": "code",
   "execution_count": 377,
   "metadata": {},
   "outputs": [
    {
     "data": {
      "text/plain": [
       "'<title>Shape theory (mathematics)</title>\\n<ns>0</ns>\\n<id>18767352</id>\\n<revision>\\n<id>829058358</id>\\n<parentid>829047086</parentid>\\n<timestamp>2018-03-06T11:12:03Z</timestamp>\\n<contributor>\\n<username>AnomieBOT</username>\\n<id>7611264</id>\\n</contributor>\\n<minor />\\n<comment>Dating maintenance tags: {{Clarify}}</comment>\\n<model>wikitext</model>\\n<format>text/x-wiki</format>\\n<text xml:space=\"preserve\">\\'\\'\\'Shape theory\\'\\'\\' is a branch of [[topology]], which provides a more global view of the topological spaces than [[homotopy theory]]. The two coincide on compacta dominated homotopically by finite polyhedra. Shape theory associates with the Čech homology theory while homotopy theory associates with the singular homology theory.\\n==Background==\\nShape theory was reinvented, further developed and promoted by the Polish mathematician [[Karol Borsuk]] in 1968. Actually, the name \\'\\'shape theory\\'\\' was coined by Borsuk.\\n===Warsaw Circle===\\nBorsuk lived and worked in [[Warsaw]], hence the name of one of the fundamental examples of the area, the Warsaw circle. This is a compact subset of the plane produced by &quot;closing up&quot; a [[topologist\\'s sine curve]] with an arc.\\n[[File:Warsaw Circle.png|thumb|The Warsaw Circle.]]  It has [[homotopy group]]s [[group isomorphism|isomorphic]] to those of a point, but is not [[homotopy equivalence|homotopy equivalent]] to a point—instead, the Warsaw circle is shape-equivalent to a circle (one dimensional sphere). [[Whitehead theorem|Whitehead\\'s theorem]] does not apply to Warsaw circle because it is not a CW complex.\\n==Development==\\nBorsuk\\'s shape theory was generalized onto arbitrary (non-metric) compact spaces, and even onto general categories, by Włodzimierz Holsztyński in year 1968/1969, and published in Fund. Math. \\'\\'\\'70\\'\\'\\' , 157-168, y.1971 (see Jean-Marc Cordier, Tim Porter, (1989) below). This was done in a \\'\\'continuous style\\'\\', characteristic for the Čech homology rendered by [[Samuel Eilenberg]] and Norman Steenrod in their monograph \\'\\'Foundations of Algebraic Topology\\'\\'. Due to the circumstance{{Clarify|date=March 2018}}, Holsztyński\\'s paper was hardly noticed, and instead a great popularity in the field was gained by a much less advanced (more naive) paper by [[Sibe Mardešić]] and Jack Segal, which was published a little later, Fund. Math. \\'\\'\\'72\\'\\'\\', 61-68, y.1971. Further developments are reflected by the references below, and by their contents.\\nFor some purposes, like dynamical systems, more sophisticated invariants were developed under the name \\'\\'\\'strong shape\\'\\'\\'. Generalizations to [[noncommutative geometry]], e.g. the shape theory for [[operator algebra]]s have been found.\\n==References==\\n*{{cite journal | first = Sibe | last = Mardešić | title = Thirty years of shape theory | url = http://hrcak.srce.hr/file/2848 | format = [[PDF]] | journal = Mathematical Communications | volume = 2 | year = 1997 | pages = 1–12}}\\n*{{nlab|id=shape%20theory|title=shape theory}}\\n* Jean-Marc Cordier, Tim Porter, (1989), Shape Theory: Categorical Methods of Approximation, Mathematics and its Applications, Ellis Horwood. Reprinted Dover (2008)\\n* A. Deleanu and P.J. Hilton, On the categorical shape of a functor, Fund. Math. 97 (1977) 157 - 176.\\n* A. Deleanu, P.J. Hilton, Borsuk\\'s shape and Grothendieck categories of pro-objects, Math. Proc. Camb. Phil. Soc. 79 (1976) 473-482.\\n* Sibe Mardešić, Jack Segal, Shapes of compacta and ANR-systems, Fund. Math. 72 (1971) 41-59,\\n* K. Borsuk, Concerning homotopy properties of compacta, Fund Math. 62 (1968) 223-254\\n* K. Borsuk, Theory of Shape, Monografie Matematyczne Tom 59,Warszawa 1975.\\n* D.A. Edwards and H. M. Hastings, [http://projecteuclid.org/DPubS?verb=Display&amp;version=1.0&amp;service=UI&amp;handle=euclid.rmjm/1250128825&amp;page=record Čech Theory: its Past, Present, and Future], Rocky Mountain Journal of Mathematics, Volume 10, Number 3, Summer 1980\\n* D.A. Edwards and H. M. Hastings, (1976), [http://www.math.uga.edu/%7Edavide/Cech_and_Steenrod_Homotopy_Theories_with_Applications_to_Geometric_Topology.pdf Čech and Steenrod homotopy theories with applications to geometric topology], Lecture Notes in Maths. 542, Springer-Verlag.\\n* Tim Porter, Čech homotopy I, II, Jour. London Math. Soc., 1, 6, 1973, pp.&amp;nbsp;429–436; 2, 6, 1973, pp.&amp;nbsp;667–675.\\n* J.T. Lisica, S. Mardešić, Coherent prohomotopy and strong shape theory, Glasnik Matematički 19(39) (1984) 335–399.\\n* Michael Batanin, Categorical strong shape theory, Cahiers Topologie Géom. Différentielle Catég. 38 (1997), no. 1, 3–66, [http://www.numdam.org/numdam-bin/fitem?id=CTGDC_1997__38_1_3_0 numdam]\\n* Marius Dādārlat, Shape theory and asymptotic morphisms for C*-algebras, Duke Math. J., 73(3):687-711, 1994.\\n* Marius Dādārlat, Terry A. Loring, Deformations of topological spaces predicted by E-theory, In Algebraic methods in operator theory, p.&amp;nbsp;316-327. Birkhäuser 1994.\\n \\n </text>\\n<sha1>pj2hwkpjekrutybdudipclphhglnsle</sha1>\\n</revision>\\n'"
      ]
     },
     "execution_count": 377,
     "metadata": {},
     "output_type": "execute_result"
    }
   ],
   "source": [
    "p[0]['raw_xml']"
   ]
  },
  {
   "cell_type": "code",
   "execution_count": 341,
   "metadata": {},
   "outputs": [],
   "source": [
    "cats = wikicorpus.RE_P14"
   ]
  },
  {
   "cell_type": "code",
   "execution_count": 350,
   "metadata": {},
   "outputs": [],
   "source": [
    "m = cats.findall(text)"
   ]
  },
  {
   "cell_type": "code",
   "execution_count": 351,
   "metadata": {},
   "outputs": [
    {
     "data": {
      "text/plain": [
       "['[[Category:Topology]]', '[[Category:Homotopy theory]]']"
      ]
     },
     "execution_count": 351,
     "metadata": {},
     "output_type": "execute_result"
    }
   ],
   "source": [
    "m"
   ]
  },
  {
   "cell_type": "code",
   "execution_count": null,
   "metadata": {},
   "outputs": [],
   "source": [
    "def scrape_mongo(url):\n",
    "    \"\"\"Return the HTML content of url.\"\"\"\n",
    "    mc = MongoClient()\n",
    "    db = mc['cache']\n",
    "    pages = db['pages']\n",
    "    cached_page = pages.find_one({'url': url})\n",
    "    if cached_page is None:\n",
    "        print(f\"Fetching {url}\")\n",
    "        response = requests.get(url)\n",
    "        if response.status_code == 200:\n",
    "            pages.insert_one({'url': url,\n",
    "                              'html': response.content})   \n",
    "        else:\n",
    "            pages.insert_one({'url': url,\n",
    "                              'html': None})   \n",
    "    return pages.find_one({'url': url})['html']"
   ]
  },
  {
   "cell_type": "code",
   "execution_count": null,
   "metadata": {},
   "outputs": [],
   "source": [
    "mc = MongoClient()\n",
    "db = mc['cache']\n",
    "pages = db['topic']\n",
    "cached_page = pages.find_one({'title': title})\n",
    "if cached_page is None:\n",
    "    print(f\"Fetching {url}\")\n",
    "    response = requests.get(url)\n",
    "    if response.status_code == 200:\n",
    "        pages.insert_one({'url': url,\n",
    "                          'html': response.content})   \n",
    "    else:\n",
    "        pages.insert_one({'url': url,\n",
    "                          'html': None}) "
   ]
  },
  {
   "cell_type": "code",
   "execution_count": 127,
   "metadata": {},
   "outputs": [],
   "source": [
    "headings = []\n",
    "page_content = []\n",
    "for line in page2_list[2]['page_text'].split('\\n'):\n",
    "    if line.startswith('=='):\n",
    "        headings.append(line)\n",
    "    else:\n",
    "        page_content.append(line)"
   ]
  },
  {
   "cell_type": "code",
   "execution_count": 129,
   "metadata": {},
   "outputs": [
    {
     "data": {
      "text/plain": [
       "('The ping-pong argument goes back to late 19th century and is commonly attributed<ref name=\"DH\"/> to [[Felix Klein]] who used it to study subgroups of [[Kleinian group]]s, that is, of discrete groups of isometries of the [[hyperbolic 3-space]] or, equivalently [[Möbius transformation]]s of the [[Riemann sphere]]. The ping-pong lemma was a key tool used by [[Jacques Tits]] in his 1972 paper<ref name=\"T\">J. Tits. [http://www.sciencedirect.com/science?_ob=ArticleURL&_udi=B6WH2-4D7K6RV-19X&_user=10&_coverDate=02%2F29%2F1972&_rdoc=3&_fmt=high&_orig=browse&_srch=doc-info(%23toc%236838%231972%23999799997%23518342%23FLP%23display%23Volume)&_cdi=6838&_sort=d&_docanchor=&_ct=12&_acct=C000050221&_version=1&_urlVersion=0&_userid=10&md5=bb8d98f320404accc3525ca235cf821e \\'\\'Free subgroups in linear groups.\\'\\'] [[Journal of Algebra]], vol. 20 (1972), pp. 250–270</ref> containing the proof of a famous result now known as the [[Tits alternative]]. The result states that a [[finitely generated group|finitely generated]] [[linear group]] is either [[virtually]] [[solvable group|solvable]] or contains a [[free group|free]] [[subgroup]] of rank two. The ping-pong lemma and its variations are widely used in [[geometric topology]] and [[geometric group theory]].',\n",
       " ['==History==',\n",
       "  '==Formal statements==',\n",
       "  '===Ping-pong lemma for several subgroups===',\n",
       "  '====Proof====',\n",
       "  '===The Ping-pong lemma for cyclic subgroups===',\n",
       "  '====Proof====',\n",
       "  '==Examples==',\n",
       "  '===Special linear group example===',\n",
       "  '====Proof====',\n",
       "  '===Word-hyperbolic group example===',\n",
       "  '====Sketch of the proof<ref name=\"Gromov\">M. Gromov. \\'\\'Hyperbolic groups.\\'\\' Essays in group theory, pp. 75&ndash;263, Mathematical Sciences Research Institute Publications, 8, Springer, New York, 1987;  {{isbn|0-387-96618-8}}; Ch. 8.2, pp. 211&ndash;219.</ref>====',\n",
       "  '==Applications of the ping-pong lemma==',\n",
       "  '==References==',\n",
       "  '==See also=='])"
      ]
     },
     "execution_count": 129,
     "metadata": {},
     "output_type": "execute_result"
    }
   ],
   "source": [
    "page_content[1], headings"
   ]
  },
  {
   "cell_type": "code",
   "execution_count": 188,
   "metadata": {},
   "outputs": [],
   "source": [
    "wiki = mwparserfromhell.parse(headings)"
   ]
  },
  {
   "cell_type": "code",
   "execution_count": 3,
   "metadata": {},
   "outputs": [],
   "source": [
    "file = '26_enwiki-20180720-pages-articles20.xml-p18754736p20254736.bz2'"
   ]
  },
  {
   "cell_type": "code",
   "execution_count": 189,
   "metadata": {},
   "outputs": [
    {
     "data": {
      "text/plain": [
       "'History====Formal statements=====Ping-pong lemma for several subgroups=======Proof=======The Ping-pong lemma for cyclic subgroups=======Proof======Examples=====Special linear group example=======Proof=======Word-hyperbolic group example=======Sketch of the proofM. Gromov. Hyperbolic groups. Essays in group theory, pp. 75–263, Mathematical Sciences Research Institute Publications, 8, Springer, New York, 1987;  ; Ch. 8.2, pp. 211–219.======Applications of the ping-pong lemma====References====See also'"
      ]
     },
     "execution_count": 189,
     "metadata": {},
     "output_type": "execute_result"
    }
   ],
   "source": [
    "wiki.strip_code()"
   ]
  },
  {
   "cell_type": "code",
   "execution_count": 7,
   "metadata": {},
   "outputs": [],
   "source": [
    "input_titles = pd.read_csv('small_seed_data/math_articles_8687', sep='\\t', encoding='utf-8', header=None)[0].tolist()\n",
    "dumps = 'wiki_dump/26_enwiki-20180720-pages-articles20.xml-p18754736p20254736.bz2'"
   ]
  },
  {
   "cell_type": "code",
   "execution_count": 14,
   "metadata": {},
   "outputs": [],
   "source": [
    "p_str = file.partition('-')[-1].split('.')[-3]"
   ]
  },
  {
   "cell_type": "code",
   "execution_count": 15,
   "metadata": {},
   "outputs": [
    {
     "data": {
      "text/plain": [
       "'20180720-pages-articles20'"
      ]
     },
     "execution_count": 15,
     "metadata": {},
     "output_type": "execute_result"
    }
   ],
   "source": [
    "p_str"
   ]
  },
  {
   "cell_type": "code",
   "execution_count": 16,
   "metadata": {},
   "outputs": [
    {
     "name": "stdout",
     "output_type": "stream",
     "text": [
      "Found articles: 0 Search count: 3724"
     ]
    },
    {
     "ename": "KeyboardInterrupt",
     "evalue": "",
     "output_type": "error",
     "traceback": [
      "\u001b[0;31m---------------------------------------------------------------------------\u001b[0m",
      "\u001b[0;31mKeyboardInterrupt\u001b[0m                         Traceback (most recent call last)",
      "\u001b[0;32m<ipython-input-16-9432da206064>\u001b[0m in \u001b[0;36m<module>\u001b[0;34m\u001b[0m\n\u001b[0;32m----> 1\u001b[0;31m \u001b[0mstopwatch\u001b[0m\u001b[0;34m,\u001b[0m \u001b[0mpage\u001b[0m \u001b[0;34m=\u001b[0m \u001b[0mw\u001b[0m\u001b[0;34m.\u001b[0m\u001b[0mcreate_corpus\u001b[0m\u001b[0;34m(\u001b[0m\u001b[0mdumps\u001b[0m\u001b[0;34m,\u001b[0m \u001b[0;34m'temp_results'\u001b[0m\u001b[0;34m,\u001b[0m \u001b[0minput_titles\u001b[0m\u001b[0;34m,\u001b[0m \u001b[0msave\u001b[0m\u001b[0;34m=\u001b[0m\u001b[0;32mTrue\u001b[0m\u001b[0;34m,\u001b[0m \u001b[0mlimit\u001b[0m\u001b[0;34m=\u001b[0m\u001b[0;36m1\u001b[0m\u001b[0;34m)\u001b[0m\u001b[0;34m\u001b[0m\u001b[0m\n\u001b[0m",
      "\u001b[0;32m~/Desktop/root_directory/wiki_parse.py\u001b[0m in \u001b[0;36mcreate_corpus\u001b[0;34m(filein, dir_out, input_titles, save, limit)\u001b[0m\n\u001b[1;32m    100\u001b[0m \u001b[0;34m\u001b[0m\u001b[0m\n\u001b[1;32m    101\u001b[0m \u001b[0;32mdef\u001b[0m \u001b[0mcreate_corpus\u001b[0m\u001b[0;34m(\u001b[0m\u001b[0mfilein\u001b[0m\u001b[0;34m,\u001b[0m \u001b[0mdir_out\u001b[0m\u001b[0;34m=\u001b[0m\u001b[0;34m'temp_results'\u001b[0m\u001b[0;34m,\u001b[0m \u001b[0minput_titles\u001b[0m\u001b[0;34m=\u001b[0m\u001b[0minput_titles\u001b[0m\u001b[0;34m,\u001b[0m \u001b[0msave\u001b[0m\u001b[0;34m=\u001b[0m\u001b[0;32mTrue\u001b[0m\u001b[0;34m,\u001b[0m \u001b[0mlimit\u001b[0m\u001b[0;34m=\u001b[0m\u001b[0;32mNone\u001b[0m\u001b[0;34m)\u001b[0m\u001b[0;34m:\u001b[0m\u001b[0;34m\u001b[0m\u001b[0m\n\u001b[0;32m--> 102\u001b[0;31m     '''Return a list of articles in a dictionary format OR\n\u001b[0m\u001b[1;32m    103\u001b[0m        save articles to a json file'''\n\u001b[1;32m    104\u001b[0m     \u001b[0mstart\u001b[0m \u001b[0;34m=\u001b[0m \u001b[0mtimer\u001b[0m\u001b[0;34m(\u001b[0m\u001b[0;34m)\u001b[0m\u001b[0;34m\u001b[0m\u001b[0m\n",
      "\u001b[0;32m~/Desktop/root_directory/wiki_parse.py\u001b[0m in \u001b[0;36msave_json\u001b[0;34m(fout, pages)\u001b[0m\n\u001b[1;32m    124\u001b[0m     \u001b[0mcleaned\u001b[0m \u001b[0;34m=\u001b[0m \u001b[0;34m[\u001b[0m\u001b[0;34m]\u001b[0m\u001b[0;34m\u001b[0m\u001b[0m\n\u001b[1;32m    125\u001b[0m     \u001b[0mkw\u001b[0m \u001b[0;34m=\u001b[0m \u001b[0;34m(\u001b[0m\u001b[0;34m'Category:'\u001b[0m\u001b[0;34m,\u001b[0m \u001b[0;34m'thumb'\u001b[0m\u001b[0;34m)\u001b[0m\u001b[0;34m\u001b[0m\u001b[0m\n\u001b[0;32m--> 126\u001b[0;31m     \u001b[0;32mfor\u001b[0m \u001b[0mline\u001b[0m \u001b[0;32min\u001b[0m \u001b[0mstripped\u001b[0m\u001b[0;34m.\u001b[0m\u001b[0msplit\u001b[0m\u001b[0;34m(\u001b[0m\u001b[0;34m'\\n'\u001b[0m\u001b[0;34m)\u001b[0m\u001b[0;34m:\u001b[0m\u001b[0;34m\u001b[0m\u001b[0m\n\u001b[0m\u001b[1;32m    127\u001b[0m         \u001b[0;32mif\u001b[0m \u001b[0mline\u001b[0m\u001b[0;34m.\u001b[0m\u001b[0mstartswith\u001b[0m\u001b[0;34m(\u001b[0m\u001b[0mkw\u001b[0m\u001b[0;34m)\u001b[0m\u001b[0;34m:\u001b[0m\u001b[0;34m\u001b[0m\u001b[0m\n\u001b[1;32m    128\u001b[0m             \u001b[0;32mcontinue\u001b[0m\u001b[0;34m\u001b[0m\u001b[0m\n",
      "\u001b[0;32m~/Desktop/root_directory/wiki_parse.py\u001b[0m in \u001b[0;36mfind_pages\u001b[0;34m(lines, input_titles, limit)\u001b[0m\n\u001b[1;32m     50\u001b[0m             \u001b[0msearch_count\u001b[0m \u001b[0;34m+=\u001b[0m \u001b[0;36m1\u001b[0m\u001b[0;34m\u001b[0m\u001b[0m\n\u001b[1;32m     51\u001b[0m             \u001b[0minpage\u001b[0m \u001b[0;34m=\u001b[0m \u001b[0;32mFalse\u001b[0m\u001b[0;34m\u001b[0m\u001b[0m\n\u001b[0;32m---> 52\u001b[0;31m             \u001b[0mtext\u001b[0m \u001b[0;34m=\u001b[0m \u001b[0;34m''\u001b[0m\u001b[0;34m.\u001b[0m\u001b[0mjoin\u001b[0m\u001b[0;34m(\u001b[0m\u001b[0mpage\u001b[0m\u001b[0;34m)\u001b[0m\u001b[0;34m\u001b[0m\u001b[0m\n\u001b[0m\u001b[1;32m     53\u001b[0m             \u001b[0mparsed\u001b[0m \u001b[0;34m=\u001b[0m \u001b[0mparse_page\u001b[0m\u001b[0;34m(\u001b[0m\u001b[0mtext\u001b[0m\u001b[0;34m,\u001b[0m \u001b[0minput_titles\u001b[0m\u001b[0;34m)\u001b[0m\u001b[0;34m\u001b[0m\u001b[0m\n\u001b[1;32m     54\u001b[0m             \u001b[0;32mif\u001b[0m \u001b[0mparsed\u001b[0m\u001b[0;34m:\u001b[0m\u001b[0;34m\u001b[0m\u001b[0m\n",
      "\u001b[0;32m~/Desktop/root_directory/wiki_parse.py\u001b[0m in \u001b[0;36mparse_page\u001b[0;34m(page, input_titles)\u001b[0m\n\u001b[1;32m     68\u001b[0m     \u001b[0msoup\u001b[0m \u001b[0;34m=\u001b[0m \u001b[0mbs\u001b[0m\u001b[0;34m(\u001b[0m\u001b[0mpage\u001b[0m\u001b[0;34m,\u001b[0m \u001b[0;34m'lxml'\u001b[0m\u001b[0;34m)\u001b[0m\u001b[0;34m\u001b[0m\u001b[0m\n\u001b[1;32m     69\u001b[0m     \u001b[0mtitle\u001b[0m \u001b[0;34m=\u001b[0m \u001b[0msoup\u001b[0m\u001b[0;34m.\u001b[0m\u001b[0mselect_one\u001b[0m\u001b[0;34m(\u001b[0m\u001b[0;34m'title'\u001b[0m\u001b[0;34m)\u001b[0m\u001b[0;34m.\u001b[0m\u001b[0mtext\u001b[0m\u001b[0;34m\u001b[0m\u001b[0m\n\u001b[0;32m---> 70\u001b[0;31m     \u001b[0mid\u001b[0m \u001b[0;34m=\u001b[0m \u001b[0msoup\u001b[0m\u001b[0;34m.\u001b[0m\u001b[0mselect_one\u001b[0m\u001b[0;34m(\u001b[0m\u001b[0;34m'id'\u001b[0m\u001b[0;34m)\u001b[0m\u001b[0;34m.\u001b[0m\u001b[0mtext\u001b[0m\u001b[0;34m\u001b[0m\u001b[0m\n\u001b[0m\u001b[1;32m     71\u001b[0m     \u001b[0mpage_content\u001b[0m \u001b[0;34m=\u001b[0m \u001b[0msoup\u001b[0m\u001b[0;34m.\u001b[0m\u001b[0mselect_one\u001b[0m\u001b[0;34m(\u001b[0m\u001b[0;34m'text'\u001b[0m\u001b[0;34m)\u001b[0m\u001b[0;34m.\u001b[0m\u001b[0mtext\u001b[0m\u001b[0;34m\u001b[0m\u001b[0m\n\u001b[1;32m     72\u001b[0m     \u001b[0mtimestamp\u001b[0m \u001b[0;34m=\u001b[0m \u001b[0msoup\u001b[0m\u001b[0;34m.\u001b[0m\u001b[0mselect_one\u001b[0m\u001b[0;34m(\u001b[0m\u001b[0;34m'timestamp'\u001b[0m\u001b[0;34m)\u001b[0m\u001b[0;34m.\u001b[0m\u001b[0mtext\u001b[0m\u001b[0;34m\u001b[0m\u001b[0m\n",
      "\u001b[0;32m~/anaconda3/lib/python3.6/site-packages/bs4/element.py\u001b[0m in \u001b[0;36mselect_one\u001b[0;34m(self, selector)\u001b[0m\n\u001b[1;32m   1401\u001b[0m     \u001b[0;32mdef\u001b[0m \u001b[0mselect_one\u001b[0m\u001b[0;34m(\u001b[0m\u001b[0mself\u001b[0m\u001b[0;34m,\u001b[0m \u001b[0mselector\u001b[0m\u001b[0;34m)\u001b[0m\u001b[0;34m:\u001b[0m\u001b[0;34m\u001b[0m\u001b[0m\n\u001b[1;32m   1402\u001b[0m         \u001b[0;34m\"\"\"Perform a CSS selection operation on the current element.\"\"\"\u001b[0m\u001b[0;34m\u001b[0m\u001b[0m\n\u001b[0;32m-> 1403\u001b[0;31m         \u001b[0mvalue\u001b[0m \u001b[0;34m=\u001b[0m \u001b[0mself\u001b[0m\u001b[0;34m.\u001b[0m\u001b[0mselect\u001b[0m\u001b[0;34m(\u001b[0m\u001b[0mselector\u001b[0m\u001b[0;34m,\u001b[0m \u001b[0mlimit\u001b[0m\u001b[0;34m=\u001b[0m\u001b[0;36m1\u001b[0m\u001b[0;34m)\u001b[0m\u001b[0;34m\u001b[0m\u001b[0m\n\u001b[0m\u001b[1;32m   1404\u001b[0m         \u001b[0;32mif\u001b[0m \u001b[0mvalue\u001b[0m\u001b[0;34m:\u001b[0m\u001b[0;34m\u001b[0m\u001b[0m\n\u001b[1;32m   1405\u001b[0m             \u001b[0;32mreturn\u001b[0m \u001b[0mvalue\u001b[0m\u001b[0;34m[\u001b[0m\u001b[0;36m0\u001b[0m\u001b[0;34m]\u001b[0m\u001b[0;34m\u001b[0m\u001b[0m\n",
      "\u001b[0;32m~/anaconda3/lib/python3.6/site-packages/bs4/element.py\u001b[0m in \u001b[0;36mselect\u001b[0;34m(self, selector, _candidate_generator, limit)\u001b[0m\n\u001b[1;32m   1607\u001b[0m                     print(\"    Running candidate generator on %s %s\" % (\n\u001b[1;32m   1608\u001b[0m                         tag.name, repr(tag.attrs)))\n\u001b[0;32m-> 1609\u001b[0;31m                 \u001b[0;32mfor\u001b[0m \u001b[0mcandidate\u001b[0m \u001b[0;32min\u001b[0m \u001b[0m_use_candidate_generator\u001b[0m\u001b[0;34m(\u001b[0m\u001b[0mtag\u001b[0m\u001b[0;34m)\u001b[0m\u001b[0;34m:\u001b[0m\u001b[0;34m\u001b[0m\u001b[0m\n\u001b[0m\u001b[1;32m   1610\u001b[0m                     \u001b[0;32mif\u001b[0m \u001b[0;32mnot\u001b[0m \u001b[0misinstance\u001b[0m\u001b[0;34m(\u001b[0m\u001b[0mcandidate\u001b[0m\u001b[0;34m,\u001b[0m \u001b[0mTag\u001b[0m\u001b[0;34m)\u001b[0m\u001b[0;34m:\u001b[0m\u001b[0;34m\u001b[0m\u001b[0m\n\u001b[1;32m   1611\u001b[0m                         \u001b[0;32mcontinue\u001b[0m\u001b[0;34m\u001b[0m\u001b[0m\n",
      "\u001b[0;32m~/anaconda3/lib/python3.6/site-packages/bs4/element.py\u001b[0m in \u001b[0;36mdescendants\u001b[0;34m(self)\u001b[0m\n\u001b[1;32m   1392\u001b[0m         \u001b[0;32mwhile\u001b[0m \u001b[0mcurrent\u001b[0m \u001b[0;32mis\u001b[0m \u001b[0;32mnot\u001b[0m \u001b[0mstopNode\u001b[0m\u001b[0;34m:\u001b[0m\u001b[0;34m\u001b[0m\u001b[0m\n\u001b[1;32m   1393\u001b[0m             \u001b[0;32myield\u001b[0m \u001b[0mcurrent\u001b[0m\u001b[0;34m\u001b[0m\u001b[0m\n\u001b[0;32m-> 1394\u001b[0;31m             \u001b[0mcurrent\u001b[0m \u001b[0;34m=\u001b[0m \u001b[0mcurrent\u001b[0m\u001b[0;34m.\u001b[0m\u001b[0mnext_element\u001b[0m\u001b[0;34m\u001b[0m\u001b[0m\n\u001b[0m\u001b[1;32m   1395\u001b[0m \u001b[0;34m\u001b[0m\u001b[0m\n\u001b[1;32m   1396\u001b[0m     \u001b[0;31m# CSS selector code\u001b[0m\u001b[0;34m\u001b[0m\u001b[0;34m\u001b[0m\u001b[0m\n",
      "\u001b[0;31mKeyboardInterrupt\u001b[0m: "
     ]
    }
   ],
   "source": [
    "stopwatch, page = w.create_corpus(dumps, 'temp_results', input_titles, save=True, limit=1)"
   ]
  },
  {
   "cell_type": "code",
   "execution_count": 17,
   "metadata": {},
   "outputs": [
    {
     "name": "stderr",
     "output_type": "stream",
     "text": [
      "[autoreload of wiki_parse failed: Traceback (most recent call last):\n",
      "  File \"/home/jakub/anaconda3/lib/python3.6/site-packages/IPython/extensions/autoreload.py\", line 244, in check\n",
      "    superreload(m, reload, self.old_objects)\n",
      "  File \"/home/jakub/anaconda3/lib/python3.6/site-packages/IPython/extensions/autoreload.py\", line 374, in superreload\n",
      "    module = reload(module)\n",
      "  File \"/home/jakub/anaconda3/lib/python3.6/imp.py\", line 315, in reload\n",
      "    return importlib.reload(module)\n",
      "  File \"/home/jakub/anaconda3/lib/python3.6/importlib/__init__.py\", line 166, in reload\n",
      "    _bootstrap._exec(spec, module)\n",
      "  File \"<frozen importlib._bootstrap>\", line 618, in _exec\n",
      "  File \"<frozen importlib._bootstrap_external>\", line 674, in exec_module\n",
      "  File \"<frozen importlib._bootstrap_external>\", line 781, in get_code\n",
      "  File \"<frozen importlib._bootstrap_external>\", line 741, in source_to_code\n",
      "  File \"<frozen importlib._bootstrap>\", line 219, in _call_with_frames_removed\n",
      "  File \"/home/jakub/Desktop/root_directory/wiki_parse.py\", line 96\n",
      "    'tags': tags,\n",
      "    ^\n",
      "IndentationError: unexpected indent\n",
      "]\n"
     ]
    }
   ],
   "source": []
  },
  {
   "cell_type": "code",
   "execution_count": 207,
   "metadata": {},
   "outputs": [],
   "source": [
    "data = []\n",
    "with open('data/temp_results/20180720-pages-articles20.json', 'r') as fin:\n",
    "        for l in fin.readlines():\n",
    "            data.append(json.loads(l))"
   ]
  },
  {
   "cell_type": "code",
   "execution_count": 208,
   "metadata": {},
   "outputs": [
    {
     "data": {
      "text/plain": [
       "1"
      ]
     },
     "execution_count": 208,
     "metadata": {},
     "output_type": "execute_result"
    }
   ],
   "source": [
    "len(data)"
   ]
  },
  {
   "cell_type": "code",
   "execution_count": 209,
   "metadata": {},
   "outputs": [],
   "source": [
    "dumps = glob.glob('wiki_dump/*.bz2')"
   ]
  },
  {
   "cell_type": "code",
   "execution_count": 211,
   "metadata": {},
   "outputs": [
    {
     "data": {
      "text/plain": [
       "55"
      ]
     },
     "execution_count": 211,
     "metadata": {},
     "output_type": "execute_result"
    }
   ],
   "source": [
    "len(dumps)\n",
    "            "
   ]
  },
  {
   "cell_type": "code",
   "execution_count": null,
   "metadata": {},
   "outputs": [],
   "source": []
  },
  {
   "cell_type": "code",
   "execution_count": null,
   "metadata": {},
   "outputs": [],
   "source": []
  },
  {
   "cell_type": "code",
   "execution_count": null,
   "metadata": {},
   "outputs": [],
   "source": []
  },
  {
   "cell_type": "code",
   "execution_count": null,
   "metadata": {},
   "outputs": [],
   "source": []
  },
  {
   "cell_type": "code",
   "execution_count": null,
   "metadata": {},
   "outputs": [],
   "source": []
  },
  {
   "cell_type": "code",
   "execution_count": null,
   "metadata": {},
   "outputs": [],
   "source": []
  },
  {
   "cell_type": "code",
   "execution_count": null,
   "metadata": {},
   "outputs": [],
   "source": []
  },
  {
   "cell_type": "code",
   "execution_count": null,
   "metadata": {},
   "outputs": [],
   "source": []
  },
  {
   "cell_type": "code",
   "execution_count": null,
   "metadata": {},
   "outputs": [],
   "source": [
    "print(data[0]['content'])"
   ]
  },
  {
   "cell_type": "code",
   "execution_count": 35,
   "metadata": {},
   "outputs": [],
   "source": [
    "data = pd.DataFrame(data)"
   ]
  },
  {
   "cell_type": "code",
   "execution_count": 36,
   "metadata": {},
   "outputs": [
    {
     "data": {
      "text/plain": [
       "'<!--Please do not comment or change this page, it is bot generated and will be completely regenerated by the bot. If you want to comment, please do so on the talkpage.-->\\n\\n{{User:COIBot/Summary/LinkReports}}\\n\\n{{User:COIBot/linksaverdatabases|1|0|1|0|0}}\\n\\n\\n<!-- tags and categories -->{{NOINDEX}}\\n\\n== Links ==\\n\\n* {{LinkSummary|avenueqlondon.com}}\\n\\n:* avenueqlondon.com resolves to [http://188.65.112.252 188.65.112.252]\\n\\n:*: {{LinkSummary|188.65.112.252}}\\n\\n:* Link is not on the [[en:User:COIBot#Blacklist|blacklist]].\\n\\n:* Link is not on the [[en:User:COIBot#Domainredlist|domainredlist]].\\n\\n:* Link is not on the [[en:User:COIBot#Monitorlist|Monitorlist]].\\n\\n:* None of the mentioned users is on the [[en:User:COIBot#Blacklist|blacklist]].\\n\\n:* Link is not on the [[en:User:COIBot#Whitelist|whitelist]].\\n\\n:* Link is not on the [[en:User:COIBot#Monitor list|monitor list]].\\n\\n:* Link is globally blacklisted by \\\\bavenueqlondon\\\\.com\\\\b\\n\\n== Users ==\\n\\n* {{IPSummary|79.121.254.230}}\\n\\n== Additions ==\\n\\n{{User:COIBot/Additionlist_top}}\\n\\n{{User:COIBot/EditSummary|id=22154803|lang=en|wikidomain=q|namespace=|pagename=Avenue Q|username=79.121.254.230|link=www.avenueqlondon.com|sortdomain=com.avenueqlondon.|domain=avenueqlondon.com|origdiff=http://en.wikiquote.org/w/index.php?diff=1365532&oldid=1345705|resolved=188.65.112.252|isIP=1|date=2011-11-07|time=16:32:10|wiki=en.wikiquote.org|revid=1365532|oldid=1345705|usercount=38|whitelisted=0|blacklisteduser=0|whitereason=|blackreason=|deleted=0|top=0|there=|checked=0|coiflag=0|otherlinks={{User:COIBot/OtherLinks|link=www.avenueqlondon.com|domain=avenueqlondon.com|U=38|L=1|UL=1|WUL=1}}}}\\n\\n{{User:COIBot/Additionlist_bottom}}\\n\\n* Displayed all 1 additions.'"
      ]
     },
     "execution_count": 36,
     "metadata": {},
     "output_type": "execute_result"
    }
   ],
   "source": [
    "data.loc[0,'content']"
   ]
  },
  {
   "cell_type": "code",
   "execution_count": 1,
   "metadata": {},
   "outputs": [],
   "source": []
  },
  {
   "cell_type": "code",
   "execution_count": 23,
   "metadata": {},
   "outputs": [],
   "source": []
  },
  {
   "cell_type": "code",
   "execution_count": 52,
   "metadata": {},
   "outputs": [
    {
     "data": {
      "text/plain": [
       "8685"
      ]
     },
     "execution_count": 52,
     "metadata": {},
     "output_type": "execute_result"
    }
   ],
   "source": [
    "len(input_files)"
   ]
  },
  {
   "cell_type": "code",
   "execution_count": 24,
   "metadata": {},
   "outputs": [],
   "source": [
    "import wiki_parse as w"
   ]
  },
  {
   "cell_type": "code",
   "execution_count": 25,
   "metadata": {},
   "outputs": [],
   "source": [
    "dumps = glob.glob('wiki_dump/*.bz2')"
   ]
  },
  {
   "cell_type": "code",
   "execution_count": 58,
   "metadata": {},
   "outputs": [],
   "source": [
    "articles = w.create_corpus(dumps[2], input_files)"
   ]
  },
  {
   "cell_type": "code",
   "execution_count": 59,
   "metadata": {},
   "outputs": [
    {
     "ename": "IndexError",
     "evalue": "list index out of range",
     "output_type": "error",
     "traceback": [
      "\u001b[0;31m---------------------------------------------------------------------------\u001b[0m",
      "\u001b[0;31mIndexError\u001b[0m                                Traceback (most recent call last)",
      "\u001b[0;32m<ipython-input-59-4fbaec6eff45>\u001b[0m in \u001b[0;36m<module>\u001b[0;34m\u001b[0m\n\u001b[0;32m----> 1\u001b[0;31m \u001b[0marticles\u001b[0m\u001b[0;34m[\u001b[0m\u001b[0;36m0\u001b[0m\u001b[0;34m]\u001b[0m\u001b[0;34m\u001b[0m\u001b[0m\n\u001b[0m",
      "\u001b[0;31mIndexError\u001b[0m: list index out of range"
     ]
    }
   ],
   "source": [
    "articles[0]"
   ]
  },
  {
   "cell_type": "code",
   "execution_count": 114,
   "metadata": {},
   "outputs": [],
   "source": [
    "lines = w.get_lines_bz2(dumps[0])"
   ]
  },
  {
   "cell_type": "code",
   "execution_count": 115,
   "metadata": {},
   "outputs": [],
   "source": [
    "pages = w.get_pages(lines, input_files)"
   ]
  },
  {
   "cell_type": "code",
   "execution_count": 106,
   "metadata": {},
   "outputs": [],
   "source": [
    "for i, page in enumerate(pages):\n",
    "    if i > 5:\n",
    "        break\n",
    "    print(page)"
   ]
  },
  {
   "cell_type": "code",
   "execution_count": 116,
   "metadata": {},
   "outputs": [
    {
     "ename": "KeyboardInterrupt",
     "evalue": "",
     "output_type": "error",
     "traceback": [
      "\u001b[0;31m---------------------------------------------------------------------------\u001b[0m",
      "\u001b[0;31mKeyboardInterrupt\u001b[0m                         Traceback (most recent call last)",
      "\u001b[0;32m<ipython-input-116-9240ea65a37c>\u001b[0m in \u001b[0;36m<module>\u001b[0;34m\u001b[0m\n\u001b[0;32m----> 1\u001b[0;31m \u001b[0mnext\u001b[0m\u001b[0;34m(\u001b[0m\u001b[0mpages\u001b[0m\u001b[0;34m)\u001b[0m\u001b[0;34m\u001b[0m\u001b[0m\n\u001b[0m",
      "\u001b[0;32m~/Desktop/root_directory/wiki_parse.py\u001b[0m in \u001b[0;36mget_pages\u001b[0;34m(lines, input_titles)\u001b[0m\n\u001b[1;32m     17\u001b[0m     \u001b[0mpage\u001b[0m \u001b[0;34m=\u001b[0m \u001b[0;34m[\u001b[0m\u001b[0;34m]\u001b[0m\u001b[0;34m\u001b[0m\u001b[0m\n\u001b[1;32m     18\u001b[0m     \u001b[0minpage\u001b[0m \u001b[0;34m=\u001b[0m \u001b[0;32mFalse\u001b[0m\u001b[0;34m\u001b[0m\u001b[0m\n\u001b[0;32m---> 19\u001b[0;31m     \u001b[0;32mfor\u001b[0m \u001b[0mline\u001b[0m \u001b[0;32min\u001b[0m \u001b[0mlines\u001b[0m\u001b[0;34m:\u001b[0m\u001b[0;34m\u001b[0m\u001b[0m\n\u001b[0m\u001b[1;32m     20\u001b[0m         \u001b[0mline\u001b[0m \u001b[0;34m=\u001b[0m \u001b[0mline\u001b[0m\u001b[0;34m.\u001b[0m\u001b[0mlstrip\u001b[0m\u001b[0;34m(\u001b[0m\u001b[0;34m)\u001b[0m\u001b[0;34m\u001b[0m\u001b[0m\n\u001b[1;32m     21\u001b[0m         \u001b[0;32mif\u001b[0m \u001b[0mline\u001b[0m\u001b[0;34m.\u001b[0m\u001b[0mstartswith\u001b[0m\u001b[0;34m(\u001b[0m\u001b[0;34m'<page>'\u001b[0m\u001b[0;34m)\u001b[0m\u001b[0;34m:\u001b[0m\u001b[0;34m\u001b[0m\u001b[0m\n",
      "\u001b[0;32m~/Desktop/root_directory/wiki_parse.py\u001b[0m in \u001b[0;36mget_lines_bz2\u001b[0;34m(filename)\u001b[0m\n\u001b[1;32m      9\u001b[0m     for line in subprocess.Popen(['bzcat'], \n\u001b[1;32m     10\u001b[0m                              \u001b[0mstdin\u001b[0m \u001b[0;34m=\u001b[0m \u001b[0mopen\u001b[0m\u001b[0;34m(\u001b[0m\u001b[0mfilename\u001b[0m\u001b[0;34m,\u001b[0m \u001b[0;34m'rb'\u001b[0m\u001b[0;34m)\u001b[0m\u001b[0;34m,\u001b[0m\u001b[0;34m\u001b[0m\u001b[0m\n\u001b[0;32m---> 11\u001b[0;31m                              \u001b[0mstdout\u001b[0m \u001b[0;34m=\u001b[0m \u001b[0msubprocess\u001b[0m\u001b[0;34m.\u001b[0m\u001b[0mPIPE\u001b[0m\u001b[0;34m\u001b[0m\u001b[0m\n\u001b[0m\u001b[1;32m     12\u001b[0m                              ).stdout:\n\u001b[1;32m     13\u001b[0m         \u001b[0;32myield\u001b[0m \u001b[0mline\u001b[0m\u001b[0;34m.\u001b[0m\u001b[0mdecode\u001b[0m\u001b[0;34m(\u001b[0m\u001b[0;34m)\u001b[0m\u001b[0;34m\u001b[0m\u001b[0m\n",
      "\u001b[0;31mKeyboardInterrupt\u001b[0m: "
     ]
    }
   ],
   "source": [
    "next(pages)"
   ]
  },
  {
   "cell_type": "code",
   "execution_count": 92,
   "metadata": {},
   "outputs": [
    {
     "data": {
      "text/plain": [
       "[]"
      ]
     },
     "execution_count": 92,
     "metadata": {},
     "output_type": "execute_result"
    }
   ],
   "source": [
    "corpus"
   ]
  },
  {
   "cell_type": "code",
   "execution_count": null,
   "metadata": {},
   "outputs": [],
   "source": []
  },
  {
   "cell_type": "code",
   "execution_count": 56,
   "metadata": {},
   "outputs": [
    {
     "name": "stdout",
     "output_type": "stream",
     "text": [
      "<mediawiki xmlns=\"http://www.mediawiki.org/xml/export-0.10/\" xmlns:xsi=\"http://www.w3.org/2001/XMLSchema-instance\" xsi:schemaLocation=\"http://www.mediawiki.org/xml/export-0.10/ http://www.mediawiki.org/xml/export-0.10.xsd\" version=\"0.10\" xml:lang=\"en\">\n",
      "\n",
      "  <siteinfo>\n",
      "\n",
      "    <sitename>Wikipedia</sitename>\n",
      "\n",
      "    <dbname>enwiki</dbname>\n",
      "\n",
      "    <base>https://en.wikipedia.org/wiki/Main_Page</base>\n",
      "\n",
      "    <generator>MediaWiki 1.32.0-wmf.12</generator>\n",
      "\n"
     ]
    }
   ],
   "source": [
    "for i, line in enumerate(lines):\n",
    "    if i > 5:\n",
    "        break\n",
    "    print(line)"
   ]
  },
  {
   "cell_type": "code",
   "execution_count": 41,
   "metadata": {},
   "outputs": [
    {
     "ename": "IndexError",
     "evalue": "list index out of range",
     "output_type": "error",
     "traceback": [
      "\u001b[0;31m---------------------------------------------------------------------------\u001b[0m",
      "\u001b[0;31mIndexError\u001b[0m                                Traceback (most recent call last)",
      "\u001b[0;32m<ipython-input-41-3ac598d0275b>\u001b[0m in \u001b[0;36m<module>\u001b[0;34m\u001b[0m\n\u001b[0;32m----> 1\u001b[0;31m \u001b[0mlst\u001b[0m\u001b[0;34m[\u001b[0m\u001b[0;36m0\u001b[0m\u001b[0;34m]\u001b[0m\u001b[0;34m\u001b[0m\u001b[0m\n\u001b[0m",
      "\u001b[0;31mIndexError\u001b[0m: list index out of range"
     ]
    }
   ],
   "source": [
    "lst[0]"
   ]
  },
  {
   "cell_type": "code",
   "execution_count": 21,
   "metadata": {},
   "outputs": [
    {
     "data": {
      "text/plain": [
       "{'title': 'Philosophical Perspectives',\n",
       " 'content': \"{{Infobox journal\\n| title = Philosophical Perspectives\\n| cover = \\n| editor = [[Ernest Sosa]]\\n| discipline = [[Philosophy]]\\n| abbreviation = Philos. Perspect.\\n| publisher = [[Wiley-Blackwell]]\\n| country =\\n| frequency = Annually\\n| history = 1987–present\\n| openaccess = \\n| impact = \\n| impact-year = \\n| website = http://onlinelibrary.wiley.com/journal/10.1111/(ISSN)1520-8583\\n| link1 = http://onlinelibrary.wiley.com/journal/10.1111/(ISSN)1520-8583/currentissue\\n| link1-name = Online access\\n| link2 = http://onlinelibrary.wiley.com/journal/10.1111/(ISSN)1520-8583/issues\\n| link2-name = Online archive\\n| JSTOR = 15208583\\n| OCLC = 40108872\\n| LCCN = 88649942\\n| CODEN = \\n| ISSN = 1520-8583\\n| eISSN = \\n}}\\n'''''Philosophical Perspectives''''' is an annual [[Peer review|peer-reviewed]] [[academic journal]] of [[philosophy]]. Each annual volume is dedicated to a specific theme addressing philosophical problems. The founding [[editor-in-chief]] was [[James E. Tomberlin]], who edited the series from 1987 to 2002. ''Philosophical Perspectives'' became a supplement to ''[[Noûs]]'' in 1996 and is currently published by [[Wiley-Blackwell]].\\n== See also ==\\n* [[List of philosophy journals]]\\n== External links ==\\n* {{Official website|http://onlinelibrary.wiley.com/journal/10.1111/(ISSN)1520-8583}}\\n[[Category:Philosophy journals]]\\n[[Category:Wiley-Blackwell academic journals]]\\n[[Category:English-language journals]]\\n[[Category:Publications established in 1987]]\\n[[Category:Annual journals]]\\n[[Category:Contemporary philosophical literature]]\\n{{philo-journal-stub}}\"}"
      ]
     },
     "execution_count": 21,
     "metadata": {},
     "output_type": "execute_result"
    }
   ],
   "source": [
    "next(articles)"
   ]
  },
  {
   "cell_type": "code",
   "execution_count": null,
   "metadata": {},
   "outputs": [],
   "source": []
  }
 ],
 "metadata": {
  "kernelspec": {
   "display_name": "Python 3",
   "language": "python",
   "name": "python3"
  },
  "language_info": {
   "codemirror_mode": {
    "name": "ipython",
    "version": 3
   },
   "file_extension": ".py",
   "mimetype": "text/x-python",
   "name": "python",
   "nbconvert_exporter": "python",
   "pygments_lexer": "ipython3",
   "version": "3.6.6"
  }
 },
 "nbformat": 4,
 "nbformat_minor": 2
}
