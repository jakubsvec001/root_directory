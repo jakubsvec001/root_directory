{
 "cells": [
  {
   "cell_type": "code",
   "execution_count": 1,
   "metadata": {},
   "outputs": [],
   "source": [
    "import csv\n",
    "import glob\n",
    "import wiki_parse as w\n",
    "import sys\n",
    "import pandas as pd\n",
    "import json\n",
    "import glob\n",
    "\n"
   ]
  },
  {
   "cell_type": "code",
   "execution_count": 7,
   "metadata": {},
   "outputs": [],
   "source": [
    "lines = w.get_lines_bz2('wiki_dump/'+file, limit=200)"
   ]
  },
  {
   "cell_type": "code",
   "execution_count": 8,
   "metadata": {},
   "outputs": [
    {
     "name": "stdout",
     "output_type": "stream",
     "text": [
      "<mediawiki xmlns=\"http://www.mediawiki.org/xml/export-0.10/\" xmlns:xsi=\"http://www.w3.org/2001/XMLSchema-instance\" xsi:schemaLocation=\"http://www.mediawiki.org/xml/export-0.10/ http://www.mediawiki.org/xml/export-0.10.xsd\" version=\"0.10\" xml:lang=\"en\">\n",
      "\n",
      "  <siteinfo>\n",
      "\n",
      "    <sitename>Wikipedia</sitename>\n",
      "\n",
      "    <dbname>enwiki</dbname>\n",
      "\n",
      "    <base>https://en.wikipedia.org/wiki/Main_Page</base>\n",
      "\n",
      "    <generator>MediaWiki 1.32.0-wmf.12</generator>\n",
      "\n",
      "    <case>first-letter</case>\n",
      "\n",
      "    <namespaces>\n",
      "\n",
      "      <namespace key=\"-2\" case=\"first-letter\">Media</namespace>\n",
      "\n",
      "      <namespace key=\"-1\" case=\"first-letter\">Special</namespace>\n",
      "\n",
      "      <namespace key=\"0\" case=\"first-letter\" />\n",
      "\n",
      "      <namespace key=\"1\" case=\"first-letter\">Talk</namespace>\n",
      "\n",
      "      <namespace key=\"2\" case=\"first-letter\">User</namespace>\n",
      "\n",
      "      <namespace key=\"3\" case=\"first-letter\">User talk</namespace>\n",
      "\n",
      "      <namespace key=\"4\" case=\"first-letter\">Wikipedia</namespace>\n",
      "\n",
      "      <namespace key=\"5\" case=\"first-letter\">Wikipedia talk</namespace>\n",
      "\n",
      "      <namespace key=\"6\" case=\"first-letter\">File</namespace>\n",
      "\n",
      "      <namespace key=\"7\" case=\"first-letter\">File talk</namespace>\n",
      "\n",
      "      <namespace key=\"8\" case=\"first-letter\">MediaWiki</namespace>\n",
      "\n",
      "      <namespace key=\"9\" case=\"first-letter\">MediaWiki talk</namespace>\n",
      "\n",
      "      <namespace key=\"10\" case=\"first-letter\">Template</namespace>\n",
      "\n",
      "      <namespace key=\"11\" case=\"first-letter\">Template talk</namespace>\n",
      "\n",
      "      <namespace key=\"12\" case=\"first-letter\">Help</namespace>\n",
      "\n",
      "      <namespace key=\"13\" case=\"first-letter\">Help talk</namespace>\n",
      "\n",
      "      <namespace key=\"14\" case=\"first-letter\">Category</namespace>\n",
      "\n",
      "      <namespace key=\"15\" case=\"first-letter\">Category talk</namespace>\n",
      "\n",
      "      <namespace key=\"100\" case=\"first-letter\">Portal</namespace>\n",
      "\n",
      "      <namespace key=\"101\" case=\"first-letter\">Portal talk</namespace>\n",
      "\n",
      "      <namespace key=\"108\" case=\"first-letter\">Book</namespace>\n",
      "\n",
      "      <namespace key=\"109\" case=\"first-letter\">Book talk</namespace>\n",
      "\n",
      "      <namespace key=\"118\" case=\"first-letter\">Draft</namespace>\n",
      "\n",
      "      <namespace key=\"119\" case=\"first-letter\">Draft talk</namespace>\n",
      "\n",
      "      <namespace key=\"446\" case=\"first-letter\">Education Program</namespace>\n",
      "\n",
      "      <namespace key=\"447\" case=\"first-letter\">Education Program talk</namespace>\n",
      "\n",
      "      <namespace key=\"710\" case=\"first-letter\">TimedText</namespace>\n",
      "\n",
      "      <namespace key=\"711\" case=\"first-letter\">TimedText talk</namespace>\n",
      "\n",
      "      <namespace key=\"828\" case=\"first-letter\">Module</namespace>\n",
      "\n",
      "      <namespace key=\"829\" case=\"first-letter\">Module talk</namespace>\n",
      "\n",
      "      <namespace key=\"2300\" case=\"first-letter\">Gadget</namespace>\n",
      "\n",
      "      <namespace key=\"2301\" case=\"first-letter\">Gadget talk</namespace>\n",
      "\n",
      "      <namespace key=\"2302\" case=\"case-sensitive\">Gadget definition</namespace>\n",
      "\n",
      "      <namespace key=\"2303\" case=\"case-sensitive\">Gadget definition talk</namespace>\n",
      "\n",
      "    </namespaces>\n",
      "\n",
      "  </siteinfo>\n",
      "\n",
      "  <page>\n",
      "\n",
      "    <title>F.170</title>\n",
      "\n",
      "    <ns>0</ns>\n",
      "\n",
      "    <id>18754736</id>\n",
      "\n",
      "    <redirect title=\"F170\" />\n",
      "\n",
      "    <revision>\n",
      "\n",
      "      <id>230365850</id>\n",
      "\n",
      "      <parentid>230365538</parentid>\n",
      "\n",
      "      <timestamp>2008-08-07T08:31:08Z</timestamp>\n",
      "\n",
      "      <contributor>\n",
      "\n",
      "        <username>Nono64</username>\n",
      "\n",
      "        <id>2313206</id>\n",
      "\n",
      "      </contributor>\n",
      "\n",
      "      <minor />\n",
      "\n",
      "      <comment>[[WP:AES|←]] Redirected page to [[F170]]</comment>\n",
      "\n",
      "      <model>wikitext</model>\n",
      "\n",
      "      <format>text/x-wiki</format>\n",
      "\n",
      "      <text xml:space=\"preserve\">#REDIRECT [[F170]]</text>\n",
      "\n",
      "      <sha1>6ah1tt4kfvooupidzmx0s9j4mb7v1hy</sha1>\n",
      "\n",
      "    </revision>\n",
      "\n",
      "  </page>\n",
      "\n",
      "  <page>\n",
      "\n",
      "    <title>Platte River, NE</title>\n",
      "\n",
      "    <ns>0</ns>\n",
      "\n",
      "    <id>18754743</id>\n",
      "\n",
      "    <redirect title=\"Platte River\" />\n",
      "\n",
      "    <revision>\n",
      "\n",
      "      <id>230365644</id>\n",
      "\n",
      "      <timestamp>2008-08-07T08:29:15Z</timestamp>\n",
      "\n",
      "      <contributor>\n",
      "\n",
      "        <username>NE2</username>\n",
      "\n",
      "        <id>1757249</id>\n",
      "\n",
      "      </contributor>\n",
      "\n",
      "      <comment>[[WP:AES|←]] Redirected page to [[Platte River]]</comment>\n",
      "\n",
      "      <model>wikitext</model>\n",
      "\n",
      "      <format>text/x-wiki</format>\n",
      "\n",
      "      <text xml:space=\"preserve\">#REDIRECT [[Platte River]]</text>\n",
      "\n",
      "      <sha1>63zralk9w8rorvm1ij5pnij206p9rwu</sha1>\n",
      "\n",
      "    </revision>\n",
      "\n",
      "  </page>\n",
      "\n",
      "  <page>\n",
      "\n",
      "    <title>Philosophical Perspectives</title>\n",
      "\n",
      "    <ns>0</ns>\n",
      "\n",
      "    <id>18754745</id>\n",
      "\n",
      "    <revision>\n",
      "\n",
      "      <id>800703117</id>\n",
      "\n",
      "      <parentid>664932725</parentid>\n",
      "\n",
      "      <timestamp>2017-09-15T04:47:06Z</timestamp>\n",
      "\n",
      "      <contributor>\n",
      "\n",
      "        <username>Worldbruce</username>\n",
      "\n",
      "        <id>7329773</id>\n",
      "\n",
      "      </contributor>\n",
      "\n",
      "      <comment>ISO abbreviation for Philosophical is Philos.</comment>\n",
      "\n",
      "      <model>wikitext</model>\n",
      "\n",
      "      <format>text/x-wiki</format>\n",
      "\n",
      "      <text xml:space=\"preserve\">{{Infobox journal\n",
      "\n",
      "| title = Philosophical Perspectives\n",
      "\n",
      "| cover = \n",
      "\n",
      "| editor = [[Ernest Sosa]]\n",
      "\n",
      "| discipline = [[Philosophy]]\n",
      "\n",
      "| abbreviation = Philos. Perspect.\n",
      "\n",
      "| publisher = [[Wiley-Blackwell]]\n",
      "\n",
      "| country =\n",
      "\n",
      "| frequency = Annually\n",
      "\n",
      "| history = 1987–present\n",
      "\n",
      "| openaccess = \n",
      "\n",
      "| impact = \n",
      "\n",
      "| impact-year = \n",
      "\n",
      "| website = http://onlinelibrary.wiley.com/journal/10.1111/(ISSN)1520-8583\n",
      "\n",
      "| link1 = http://onlinelibrary.wiley.com/journal/10.1111/(ISSN)1520-8583/currentissue\n",
      "\n",
      "| link1-name = Online access\n",
      "\n",
      "| link2 = http://onlinelibrary.wiley.com/journal/10.1111/(ISSN)1520-8583/issues\n",
      "\n",
      "| link2-name = Online archive\n",
      "\n",
      "| JSTOR = 15208583\n",
      "\n",
      "| OCLC = 40108872\n",
      "\n",
      "| LCCN = 88649942\n",
      "\n",
      "| CODEN = \n",
      "\n",
      "| ISSN = 1520-8583\n",
      "\n",
      "| eISSN = \n",
      "\n",
      "}}\n",
      "\n",
      "'''''Philosophical Perspectives''''' is an annual [[Peer review|peer-reviewed]] [[academic journal]] of [[philosophy]]. Each annual volume is dedicated to a specific theme addressing philosophical problems. The founding [[editor-in-chief]] was [[James E. Tomberlin]], who edited the series from 1987 to 2002. ''Philosophical Perspectives'' became a supplement to ''[[Noûs]]'' in 1996 and is currently published by [[Wiley-Blackwell]].\n",
      "\n",
      "\n",
      "\n",
      "== See also ==\n",
      "\n",
      "* [[List of philosophy journals]]\n",
      "\n",
      "\n",
      "\n",
      "== External links ==\n",
      "\n",
      "* {{Official website|http://onlinelibrary.wiley.com/journal/10.1111/(ISSN)1520-8583}}\n",
      "\n",
      "\n",
      "\n",
      "[[Category:Philosophy journals]]\n",
      "\n",
      "[[Category:Wiley-Blackwell academic journals]]\n",
      "\n",
      "[[Category:English-language journals]]\n",
      "\n",
      "[[Category:Publications established in 1987]]\n",
      "\n",
      "[[Category:Annual journals]]\n",
      "\n",
      "[[Category:Contemporary philosophical literature]]\n",
      "\n",
      "\n",
      "\n",
      "\n",
      "\n",
      "{{philo-journal-stub}}</text>\n",
      "\n",
      "      <sha1>n16bzgii5sy7qkxkqkkqyyiuphj6heh</sha1>\n",
      "\n",
      "    </revision>\n",
      "\n",
      "  </page>\n",
      "\n",
      "  <page>\n",
      "\n",
      "    <title>File:Sabbath in Paradise.jpg</title>\n",
      "\n",
      "    <ns>6</ns>\n",
      "\n",
      "    <id>18754747</id>\n",
      "\n",
      "    <revision>\n",
      "\n",
      "      <id>519369003</id>\n",
      "\n",
      "      <parentid>230365772</parentid>\n",
      "\n",
      "      <timestamp>2012-10-23T11:10:17Z</timestamp>\n",
      "\n",
      "      <contributor>\n",
      "\n",
      "        <username>Legobot</username>\n",
      "\n",
      "        <id>7304691</id>\n",
      "\n",
      "      </contributor>\n",
      "\n",
      "      <minor />\n",
      "\n",
      "      <comment>Bot: Updating license tag(s) with image has rationale=yes</comment>\n",
      "\n",
      "      <model>wikitext</model>\n",
      "\n",
      "      <format>text/x-wiki</format>\n",
      "\n",
      "      <text xml:space=\"preserve\">== Summary ==\n",
      "\n",
      "{{Non-free use rationale\n",
      "\n",
      "|Article=Sabbath in Paradise\n",
      "\n",
      "|Description=DVD cover\n",
      "\n",
      "|Source=Tzadik\n",
      "\n",
      "|Portion=front cover only\n",
      "\n",
      "|Low_resolution=yes\n",
      "\n",
      "|Purpose=info box\n",
      "\n",
      "|Replaceability=no\n",
      "\n",
      "|other_information=\n",
      "\n",
      "}}\n",
      "\n",
      "== Licensing: ==\n",
      "\n",
      "{{Non-free video cover|image has rationale=yes}}</text>\n",
      "\n",
      "      <sha1>pyqq2zk3rbg47dbcy20vq8dw3vfff2w</sha1>\n",
      "\n",
      "    </revision>\n",
      "\n",
      "  </page>\n",
      "\n",
      "  <page>\n",
      "\n",
      "    <title>East Grand Island, Nebraska</title>\n",
      "\n",
      "    <ns>0</ns>\n",
      "\n",
      "    <id>18754749</id>\n",
      "\n",
      "    <redirect title=\"Grand Island, Nebraska\" />\n",
      "\n",
      "    <revision>\n",
      "\n",
      "      <id>230365784</id>\n",
      "\n",
      "      <timestamp>2008-08-07T08:30:31Z</timestamp>\n",
      "\n",
      "      <contributor>\n",
      "\n",
      "        <username>NE2</username>\n",
      "\n",
      "        <id>1757249</id>\n",
      "\n",
      "      </contributor>\n",
      "\n",
      "      <comment>[[WP:AES|←]] Redirected page to [[Grand Island, Nebraska]]</comment>\n",
      "\n",
      "      <model>wikitext</model>\n",
      "\n",
      "      <format>text/x-wiki</format>\n",
      "\n",
      "      <text xml:space=\"preserve\">#REDIRECT [[Grand Island, Nebraska]]\n",
      "\n",
      "{{R with possibilities}}</text>\n",
      "\n",
      "      <sha1>l15axjoc0cxtz24rj53sxfusmpnkokm</sha1>\n",
      "\n",
      "    </revision>\n",
      "\n",
      "  </page>\n",
      "\n",
      "  <page>\n",
      "\n",
      "    <title>Platte River, Nebraska</title>\n",
      "\n",
      "    <ns>0</ns>\n",
      "\n",
      "    <id>18754750</id>\n",
      "\n",
      "    <redirect title=\"Platte River\" />\n",
      "\n"
     ]
    }
   ],
   "source": [
    "for line in lines:\n",
    "    print(line)"
   ]
  },
  {
   "cell_type": "code",
   "execution_count": null,
   "metadata": {},
   "outputs": [],
   "source": []
  },
  {
   "cell_type": "code",
   "execution_count": 204,
   "metadata": {},
   "outputs": [],
   "source": [
    "input_titles = pd.read_csv('small_seed_data/math_articles_8687', sep='\\t', encoding='utf-8', header=None)[0].tolist()\n",
    "dumps = 'wiki_dump/26_enwiki-20180720-pages-articles20.xml-p18754736p20254736.bz2'"
   ]
  },
  {
   "cell_type": "code",
   "execution_count": 2,
   "metadata": {},
   "outputs": [],
   "source": [
    "file = '26_enwiki-20180720-pages-articles20.xml-p18754736p20254736.bz2'"
   ]
  },
  {
   "cell_type": "code",
   "execution_count": 199,
   "metadata": {},
   "outputs": [],
   "source": [
    "p_str = file.partition('-')[-1].split('.')[-3]"
   ]
  },
  {
   "cell_type": "code",
   "execution_count": 200,
   "metadata": {},
   "outputs": [
    {
     "data": {
      "text/plain": [
       "'20180720-pages-articles20'"
      ]
     },
     "execution_count": 200,
     "metadata": {},
     "output_type": "execute_result"
    }
   ],
   "source": [
    "p_str"
   ]
  },
  {
   "cell_type": "code",
   "execution_count": 206,
   "metadata": {},
   "outputs": [
    {
     "name": "stdout",
     "output_type": "stream",
     "text": [
      "Found articles: 1 Search count: 3984saved to: temp_results20180720-pages-articles20.json\n"
     ]
    }
   ],
   "source": [
    "stopwatch, page = w.create_corpus(dumps, 'temp_results', input_titles, save=True, limit=1)"
   ]
  },
  {
   "cell_type": "code",
   "execution_count": 163,
   "metadata": {},
   "outputs": [
    {
     "data": {
      "text/plain": [
       "'It took 11 minutes to complete the search'"
      ]
     },
     "execution_count": 163,
     "metadata": {},
     "output_type": "execute_result"
    }
   ],
   "source": [
    "stopwatch"
   ]
  },
  {
   "cell_type": "code",
   "execution_count": 207,
   "metadata": {},
   "outputs": [],
   "source": [
    "data = []\n",
    "with open('data/temp_results/20180720-pages-articles20.json', 'r') as fin:\n",
    "        for l in fin.readlines():\n",
    "            data.append(json.loads(l))"
   ]
  },
  {
   "cell_type": "code",
   "execution_count": 208,
   "metadata": {},
   "outputs": [
    {
     "data": {
      "text/plain": [
       "1"
      ]
     },
     "execution_count": 208,
     "metadata": {},
     "output_type": "execute_result"
    }
   ],
   "source": [
    "len(data)"
   ]
  },
  {
   "cell_type": "code",
   "execution_count": 209,
   "metadata": {},
   "outputs": [],
   "source": [
    "dumps = glob.glob('wiki_dump/*.bz2')"
   ]
  },
  {
   "cell_type": "code",
   "execution_count": 211,
   "metadata": {},
   "outputs": [
    {
     "data": {
      "text/plain": [
       "55"
      ]
     },
     "execution_count": 211,
     "metadata": {},
     "output_type": "execute_result"
    }
   ],
   "source": [
    "len(dumps)\n",
    "            "
   ]
  },
  {
   "cell_type": "code",
   "execution_count": 214,
   "metadata": {},
   "outputs": [],
   "source": [
    "from timeit import default_timer as timer"
   ]
  },
  {
   "cell_type": "code",
   "execution_count": 212,
   "metadata": {},
   "outputs": [],
   "source": [
    "from multiprocessing import Pool \n",
    "import tqdm \n",
    "\n",
    "# List of lists to single list\n",
    "from itertools import chain\n",
    "\n",
    "# Sending keyword arguments in map\n",
    "from functools import partial"
   ]
  },
  {
   "cell_type": "code",
   "execution_count": 220,
   "metadata": {},
   "outputs": [
    {
     "name": "stderr",
     "output_type": "stream",
     "text": [
      "IOPub data rate exceeded.\n",
      "The notebook server will temporarily stop sending output\n",
      "to the client in order to avoid crashing it.\n",
      "To change this limit, set the config variable\n",
      "`--NotebookApp.iopub_data_rate_limit`.\n",
      "\n",
      "Current values:\n",
      "NotebookApp.iopub_data_rate_limit=1000000.0 (bytes/sec)\n",
      "NotebookApp.rate_limit_window=3.0 (secs)\n",
      "\n",
      "Process ForkPoolWorker-19:\n",
      "Process ForkPoolWorker-18:\n",
      "Traceback (most recent call last):\n"
     ]
    },
    {
     "ename": "KeyboardInterrupt",
     "evalue": "",
     "output_type": "error",
     "traceback": [
      "\u001b[0;31m---------------------------------------------------------------------------\u001b[0m",
      "\u001b[0;31mKeyboardInterrupt\u001b[0m                         Traceback (most recent call last)",
      "\u001b[0;32m<ipython-input-220-7991b993b224>\u001b[0m in \u001b[0;36m<module>\u001b[0;34m\u001b[0m\n\u001b[1;32m      5\u001b[0m \u001b[0;34m\u001b[0m\u001b[0m\n\u001b[1;32m      6\u001b[0m \u001b[0;31m# Map (service, tasks), applies function to each partition\u001b[0m\u001b[0;34m\u001b[0m\u001b[0;34m\u001b[0m\u001b[0m\n\u001b[0;32m----> 7\u001b[0;31m \u001b[0mresults\u001b[0m \u001b[0;34m=\u001b[0m \u001b[0mpool\u001b[0m\u001b[0;34m.\u001b[0m\u001b[0mmap\u001b[0m\u001b[0;34m(\u001b[0m\u001b[0mw\u001b[0m\u001b[0;34m.\u001b[0m\u001b[0mcreate_corpus\u001b[0m\u001b[0;34m,\u001b[0m \u001b[0mdumps\u001b[0m\u001b[0;34m[\u001b[0m\u001b[0;34m:\u001b[0m\u001b[0;36m4\u001b[0m\u001b[0;34m]\u001b[0m\u001b[0;34m)\u001b[0m\u001b[0;34m\u001b[0m\u001b[0m\n\u001b[0m\u001b[1;32m      8\u001b[0m \u001b[0;34m\u001b[0m\u001b[0m\n\u001b[1;32m      9\u001b[0m \u001b[0mpool\u001b[0m\u001b[0;34m.\u001b[0m\u001b[0mclose\u001b[0m\u001b[0;34m(\u001b[0m\u001b[0;34m)\u001b[0m\u001b[0;34m\u001b[0m\u001b[0m\n",
      "\u001b[0;32m~/anaconda3/lib/python3.6/multiprocessing/pool.py\u001b[0m in \u001b[0;36mmap\u001b[0;34m(self, func, iterable, chunksize)\u001b[0m\n\u001b[1;32m    264\u001b[0m         \u001b[0;32min\u001b[0m \u001b[0ma\u001b[0m \u001b[0mlist\u001b[0m \u001b[0mthat\u001b[0m \u001b[0;32mis\u001b[0m \u001b[0mreturned\u001b[0m\u001b[0;34m.\u001b[0m\u001b[0;34m\u001b[0m\u001b[0m\n\u001b[1;32m    265\u001b[0m         '''\n\u001b[0;32m--> 266\u001b[0;31m         \u001b[0;32mreturn\u001b[0m \u001b[0mself\u001b[0m\u001b[0;34m.\u001b[0m\u001b[0m_map_async\u001b[0m\u001b[0;34m(\u001b[0m\u001b[0mfunc\u001b[0m\u001b[0;34m,\u001b[0m \u001b[0miterable\u001b[0m\u001b[0;34m,\u001b[0m \u001b[0mmapstar\u001b[0m\u001b[0;34m,\u001b[0m \u001b[0mchunksize\u001b[0m\u001b[0;34m)\u001b[0m\u001b[0;34m.\u001b[0m\u001b[0mget\u001b[0m\u001b[0;34m(\u001b[0m\u001b[0;34m)\u001b[0m\u001b[0;34m\u001b[0m\u001b[0m\n\u001b[0m\u001b[1;32m    267\u001b[0m \u001b[0;34m\u001b[0m\u001b[0m\n\u001b[1;32m    268\u001b[0m     \u001b[0;32mdef\u001b[0m \u001b[0mstarmap\u001b[0m\u001b[0;34m(\u001b[0m\u001b[0mself\u001b[0m\u001b[0;34m,\u001b[0m \u001b[0mfunc\u001b[0m\u001b[0;34m,\u001b[0m \u001b[0miterable\u001b[0m\u001b[0;34m,\u001b[0m \u001b[0mchunksize\u001b[0m\u001b[0;34m=\u001b[0m\u001b[0;32mNone\u001b[0m\u001b[0;34m)\u001b[0m\u001b[0;34m:\u001b[0m\u001b[0;34m\u001b[0m\u001b[0m\n",
      "\u001b[0;32m~/anaconda3/lib/python3.6/multiprocessing/pool.py\u001b[0m in \u001b[0;36mget\u001b[0;34m(self, timeout)\u001b[0m\n\u001b[1;32m    636\u001b[0m \u001b[0;34m\u001b[0m\u001b[0m\n\u001b[1;32m    637\u001b[0m     \u001b[0;32mdef\u001b[0m \u001b[0mget\u001b[0m\u001b[0;34m(\u001b[0m\u001b[0mself\u001b[0m\u001b[0;34m,\u001b[0m \u001b[0mtimeout\u001b[0m\u001b[0;34m=\u001b[0m\u001b[0;32mNone\u001b[0m\u001b[0;34m)\u001b[0m\u001b[0;34m:\u001b[0m\u001b[0;34m\u001b[0m\u001b[0m\n\u001b[0;32m--> 638\u001b[0;31m         \u001b[0mself\u001b[0m\u001b[0;34m.\u001b[0m\u001b[0mwait\u001b[0m\u001b[0;34m(\u001b[0m\u001b[0mtimeout\u001b[0m\u001b[0;34m)\u001b[0m\u001b[0;34m\u001b[0m\u001b[0m\n\u001b[0m\u001b[1;32m    639\u001b[0m         \u001b[0;32mif\u001b[0m \u001b[0;32mnot\u001b[0m \u001b[0mself\u001b[0m\u001b[0;34m.\u001b[0m\u001b[0mready\u001b[0m\u001b[0;34m(\u001b[0m\u001b[0;34m)\u001b[0m\u001b[0;34m:\u001b[0m\u001b[0;34m\u001b[0m\u001b[0m\n\u001b[1;32m    640\u001b[0m             \u001b[0;32mraise\u001b[0m \u001b[0mTimeoutError\u001b[0m\u001b[0;34m\u001b[0m\u001b[0m\n",
      "\u001b[0;32m~/anaconda3/lib/python3.6/multiprocessing/pool.py\u001b[0m in \u001b[0;36mwait\u001b[0;34m(self, timeout)\u001b[0m\n\u001b[1;32m    633\u001b[0m \u001b[0;34m\u001b[0m\u001b[0m\n\u001b[1;32m    634\u001b[0m     \u001b[0;32mdef\u001b[0m \u001b[0mwait\u001b[0m\u001b[0;34m(\u001b[0m\u001b[0mself\u001b[0m\u001b[0;34m,\u001b[0m \u001b[0mtimeout\u001b[0m\u001b[0;34m=\u001b[0m\u001b[0;32mNone\u001b[0m\u001b[0;34m)\u001b[0m\u001b[0;34m:\u001b[0m\u001b[0;34m\u001b[0m\u001b[0m\n\u001b[0;32m--> 635\u001b[0;31m         \u001b[0mself\u001b[0m\u001b[0;34m.\u001b[0m\u001b[0m_event\u001b[0m\u001b[0;34m.\u001b[0m\u001b[0mwait\u001b[0m\u001b[0;34m(\u001b[0m\u001b[0mtimeout\u001b[0m\u001b[0;34m)\u001b[0m\u001b[0;34m\u001b[0m\u001b[0m\n\u001b[0m\u001b[1;32m    636\u001b[0m \u001b[0;34m\u001b[0m\u001b[0m\n\u001b[1;32m    637\u001b[0m     \u001b[0;32mdef\u001b[0m \u001b[0mget\u001b[0m\u001b[0;34m(\u001b[0m\u001b[0mself\u001b[0m\u001b[0;34m,\u001b[0m \u001b[0mtimeout\u001b[0m\u001b[0;34m=\u001b[0m\u001b[0;32mNone\u001b[0m\u001b[0;34m)\u001b[0m\u001b[0;34m:\u001b[0m\u001b[0;34m\u001b[0m\u001b[0m\n",
      "\u001b[0;32m~/anaconda3/lib/python3.6/threading.py\u001b[0m in \u001b[0;36mwait\u001b[0;34m(self, timeout)\u001b[0m\n\u001b[1;32m    549\u001b[0m             \u001b[0msignaled\u001b[0m \u001b[0;34m=\u001b[0m \u001b[0mself\u001b[0m\u001b[0;34m.\u001b[0m\u001b[0m_flag\u001b[0m\u001b[0;34m\u001b[0m\u001b[0m\n\u001b[1;32m    550\u001b[0m             \u001b[0;32mif\u001b[0m \u001b[0;32mnot\u001b[0m \u001b[0msignaled\u001b[0m\u001b[0;34m:\u001b[0m\u001b[0;34m\u001b[0m\u001b[0m\n\u001b[0;32m--> 551\u001b[0;31m                 \u001b[0msignaled\u001b[0m \u001b[0;34m=\u001b[0m \u001b[0mself\u001b[0m\u001b[0;34m.\u001b[0m\u001b[0m_cond\u001b[0m\u001b[0;34m.\u001b[0m\u001b[0mwait\u001b[0m\u001b[0;34m(\u001b[0m\u001b[0mtimeout\u001b[0m\u001b[0;34m)\u001b[0m\u001b[0;34m\u001b[0m\u001b[0m\n\u001b[0m\u001b[1;32m    552\u001b[0m             \u001b[0;32mreturn\u001b[0m \u001b[0msignaled\u001b[0m\u001b[0;34m\u001b[0m\u001b[0m\n\u001b[1;32m    553\u001b[0m \u001b[0;34m\u001b[0m\u001b[0m\n",
      "\u001b[0;32m~/anaconda3/lib/python3.6/threading.py\u001b[0m in \u001b[0;36mwait\u001b[0;34m(self, timeout)\u001b[0m\n\u001b[1;32m    293\u001b[0m         \u001b[0;32mtry\u001b[0m\u001b[0;34m:\u001b[0m    \u001b[0;31m# restore state no matter what (e.g., KeyboardInterrupt)\u001b[0m\u001b[0;34m\u001b[0m\u001b[0m\n\u001b[1;32m    294\u001b[0m             \u001b[0;32mif\u001b[0m \u001b[0mtimeout\u001b[0m \u001b[0;32mis\u001b[0m \u001b[0;32mNone\u001b[0m\u001b[0;34m:\u001b[0m\u001b[0;34m\u001b[0m\u001b[0m\n\u001b[0;32m--> 295\u001b[0;31m                 \u001b[0mwaiter\u001b[0m\u001b[0;34m.\u001b[0m\u001b[0macquire\u001b[0m\u001b[0;34m(\u001b[0m\u001b[0;34m)\u001b[0m\u001b[0;34m\u001b[0m\u001b[0m\n\u001b[0m\u001b[1;32m    296\u001b[0m                 \u001b[0mgotit\u001b[0m \u001b[0;34m=\u001b[0m \u001b[0;32mTrue\u001b[0m\u001b[0;34m\u001b[0m\u001b[0m\n\u001b[1;32m    297\u001b[0m             \u001b[0;32melse\u001b[0m\u001b[0;34m:\u001b[0m\u001b[0;34m\u001b[0m\u001b[0m\n",
      "\u001b[0;31mKeyboardInterrupt\u001b[0m: "
     ]
    },
    {
     "name": "stderr",
     "output_type": "stream",
     "text": [
      "Traceback (most recent call last):\n",
      "  File \"/home/jakub/anaconda3/lib/python3.6/multiprocessing/process.py\", line 258, in _bootstrap\n",
      "    self.run()\n",
      "Process ForkPoolWorker-17:\n",
      "Process ForkPoolWorker-20:\n",
      "  File \"/home/jakub/anaconda3/lib/python3.6/multiprocessing/process.py\", line 258, in _bootstrap\n",
      "    self.run()\n",
      "  File \"/home/jakub/anaconda3/lib/python3.6/multiprocessing/process.py\", line 93, in run\n",
      "    self._target(*self._args, **self._kwargs)\n",
      "Traceback (most recent call last):\n",
      "  File \"/home/jakub/anaconda3/lib/python3.6/multiprocessing/process.py\", line 93, in run\n",
      "    self._target(*self._args, **self._kwargs)\n",
      "  File \"/home/jakub/anaconda3/lib/python3.6/multiprocessing/pool.py\", line 108, in worker\n",
      "    task = get()\n",
      "  File \"/home/jakub/anaconda3/lib/python3.6/multiprocessing/process.py\", line 258, in _bootstrap\n",
      "    self.run()\n",
      "  File \"/home/jakub/anaconda3/lib/python3.6/multiprocessing/pool.py\", line 119, in worker\n",
      "    result = (True, func(*args, **kwds))\n",
      "Traceback (most recent call last):\n",
      "  File \"/home/jakub/anaconda3/lib/python3.6/multiprocessing/pool.py\", line 44, in mapstar\n",
      "    return list(map(*args))\n",
      "  File \"/home/jakub/anaconda3/lib/python3.6/multiprocessing/process.py\", line 93, in run\n",
      "    self._target(*self._args, **self._kwargs)\n",
      "  File \"/home/jakub/anaconda3/lib/python3.6/multiprocessing/queues.py\", line 335, in get\n",
      "    res = self._reader.recv_bytes()\n",
      "  File \"/home/jakub/anaconda3/lib/python3.6/multiprocessing/pool.py\", line 119, in worker\n",
      "    result = (True, func(*args, **kwds))\n",
      "  File \"/home/jakub/anaconda3/lib/python3.6/multiprocessing/process.py\", line 258, in _bootstrap\n",
      "    self.run()\n",
      "  File \"/home/jakub/anaconda3/lib/python3.6/multiprocessing/pool.py\", line 44, in mapstar\n",
      "    return list(map(*args))\n",
      "  File \"/home/jakub/Desktop/root_directory/wiki_parse.py\", line 98, in create_corpus\n",
      "    save_json(fout, pages)\n",
      "  File \"/home/jakub/anaconda3/lib/python3.6/multiprocessing/process.py\", line 93, in run\n",
      "    self._target(*self._args, **self._kwargs)\n",
      "  File \"/home/jakub/Desktop/root_directory/wiki_parse.py\", line 133, in save_json\n",
      "  File \"/home/jakub/Desktop/root_directory/wiki_parse.py\", line 98, in create_corpus\n",
      "    save_json(fout, pages)\n",
      "  File \"/home/jakub/Desktop/root_directory/wiki_parse.py\", line 48, in find_pages\n",
      "    parsed = parse_page(text, input_titles)\n",
      "  File \"/home/jakub/anaconda3/lib/python3.6/multiprocessing/connection.py\", line 216, in recv_bytes\n",
      "    buf = self._recv_bytes(maxlength)\n",
      "  File \"/home/jakub/Desktop/root_directory/wiki_parse.py\", line 133, in save_json\n",
      "  File \"/home/jakub/Desktop/root_directory/wiki_parse.py\", line 48, in find_pages\n",
      "    parsed = parse_page(text, input_titles)\n",
      "  File \"/home/jakub/Desktop/root_directory/wiki_parse.py\", line 67, in parse_page\n",
      "    if title in input_titles:\n",
      "KeyboardInterrupt\n",
      "  File \"/home/jakub/Desktop/root_directory/wiki_parse.py\", line 63, in parse_page\n",
      "    soup = bs(page, 'lxml')\n",
      "  File \"/home/jakub/anaconda3/lib/python3.6/multiprocessing/pool.py\", line 119, in worker\n",
      "    result = (True, func(*args, **kwds))\n",
      "  File \"/home/jakub/anaconda3/lib/python3.6/multiprocessing/connection.py\", line 407, in _recv_bytes\n",
      "    buf = self._recv(4)\n",
      "  File \"/home/jakub/anaconda3/lib/python3.6/multiprocessing/connection.py\", line 379, in _recv\n",
      "    chunk = read(handle, remaining)\n",
      "  File \"/home/jakub/anaconda3/lib/python3.6/site-packages/bs4/__init__.py\", line 282, in __init__\n",
      "    self._feed()\n",
      "KeyboardInterrupt\n",
      "  File \"/home/jakub/anaconda3/lib/python3.6/site-packages/bs4/__init__.py\", line 343, in _feed\n",
      "    self.builder.feed(self.markup)\n",
      "  File \"/home/jakub/anaconda3/lib/python3.6/multiprocessing/pool.py\", line 44, in mapstar\n",
      "    return list(map(*args))\n",
      "  File \"/home/jakub/Desktop/root_directory/wiki_parse.py\", line 98, in create_corpus\n",
      "    save_json(fout, pages)\n",
      "  File \"/home/jakub/anaconda3/lib/python3.6/site-packages/bs4/builder/_lxml.py\", line 254, in feed\n",
      "    self.parser.feed(markup)\n",
      "  File \"/home/jakub/Desktop/root_directory/wiki_parse.py\", line 133, in save_json\n",
      "  File \"src/lxml/parser.pxi\", line 1242, in lxml.etree._FeedParser.feed\n",
      "  File \"/home/jakub/Desktop/root_directory/wiki_parse.py\", line 48, in find_pages\n",
      "    parsed = parse_page(text, input_titles)\n",
      "  File \"src/lxml/parser.pxi\", line 1364, in lxml.etree._FeedParser.feed\n",
      "  File \"/home/jakub/Desktop/root_directory/wiki_parse.py\", line 63, in parse_page\n",
      "    soup = bs(page, 'lxml')\n",
      "  File \"/home/jakub/anaconda3/lib/python3.6/site-packages/bs4/__init__.py\", line 282, in __init__\n",
      "    self._feed()\n",
      "  File \"/home/jakub/anaconda3/lib/python3.6/site-packages/bs4/__init__.py\", line 343, in _feed\n",
      "    self.builder.feed(self.markup)\n",
      "  File \"src/lxml/parsertarget.pxi\", line 148, in lxml.etree._TargetParserContext._handleParseResult\n",
      "  File \"/home/jakub/anaconda3/lib/python3.6/site-packages/bs4/builder/_lxml.py\", line 254, in feed\n",
      "    self.parser.feed(markup)\n",
      "  File \"src/lxml/parser.pxi\", line 1242, in lxml.etree._FeedParser.feed\n",
      "  File \"src/lxml/parsertarget.pxi\", line 136, in lxml.etree._TargetParserContext._handleParseResult\n",
      "  File \"src/lxml/parser.pxi\", line 1364, in lxml.etree._FeedParser.feed\n",
      "  File \"src/lxml/etree.pyx\", line 316, in lxml.etree._ExceptionContext._raise_if_stored\n",
      "  File \"src/lxml/parsertarget.pxi\", line 148, in lxml.etree._TargetParserContext._handleParseResult\n",
      "  File \"src/lxml/saxparser.pxi\", line 389, in lxml.etree._handleSaxTargetStartNoNs\n",
      "  File \"src/lxml/parsertarget.pxi\", line 136, in lxml.etree._TargetParserContext._handleParseResult\n",
      "  File \"src/lxml/saxparser.pxi\", line 404, in lxml.etree._callTargetSaxStart\n",
      "  File \"src/lxml/etree.pyx\", line 316, in lxml.etree._ExceptionContext._raise_if_stored\n",
      "  File \"src/lxml/parsertarget.pxi\", line 80, in lxml.etree._PythonSaxParserTarget._handleSaxStart\n",
      "  File \"src/lxml/saxparser.pxi\", line 389, in lxml.etree._handleSaxTargetStartNoNs\n",
      "  File \"/home/jakub/anaconda3/lib/python3.6/site-packages/bs4/builder/_lxml.py\", line 187, in start\n",
      "    self.soup.handle_starttag(name, namespace, nsprefix, attrs)\n",
      "  File \"src/lxml/saxparser.pxi\", line 404, in lxml.etree._callTargetSaxStart\n",
      "  File \"src/lxml/parsertarget.pxi\", line 80, in lxml.etree._PythonSaxParserTarget._handleSaxStart\n",
      "  File \"/home/jakub/anaconda3/lib/python3.6/site-packages/bs4/__init__.py\", line 520, in handle_starttag\n",
      "    self.currentTag, self._most_recent_element)\n",
      "KeyboardInterrupt\n",
      "  File \"/home/jakub/anaconda3/lib/python3.6/site-packages/bs4/builder/_lxml.py\", line 149, in start\n",
      "    def start(self, name, attrs, nsmap={}):\n",
      "  File \"/home/jakub/anaconda3/lib/python3.6/site-packages/bs4/element.py\", line 911, in __init__\n",
      "    self.known_xml = builder.is_xml\n",
      "KeyboardInterrupt\n",
      "IOPub data rate exceeded.\n",
      "The notebook server will temporarily stop sending output\n",
      "to the client in order to avoid crashing it.\n",
      "To change this limit, set the config variable\n",
      "`--NotebookApp.iopub_data_rate_limit`.\n",
      "\n",
      "Current values:\n",
      "NotebookApp.iopub_data_rate_limit=1000000.0 (bytes/sec)\n",
      "NotebookApp.rate_limit_window=3.0 (secs)\n",
      "\n"
     ]
    }
   ],
   "source": [
    "# Create a pool of workers to execute processes\n",
    "pool = Pool(processes = 4)\n",
    "\n",
    "start = timer()\n",
    "\n",
    "# Map (service, tasks), applies function to each partition\n",
    "results = pool.map(w.create_corpus, dumps[:4])\n",
    "\n",
    "pool.close()\n",
    "pool.join()\n",
    "\n",
    "end = timer()\n",
    "print(f'{end - start} seconds elapsed.')"
   ]
  },
  {
   "cell_type": "code",
   "execution_count": null,
   "metadata": {},
   "outputs": [],
   "source": []
  },
  {
   "cell_type": "code",
   "execution_count": null,
   "metadata": {},
   "outputs": [],
   "source": []
  },
  {
   "cell_type": "code",
   "execution_count": null,
   "metadata": {},
   "outputs": [],
   "source": []
  },
  {
   "cell_type": "code",
   "execution_count": null,
   "metadata": {},
   "outputs": [],
   "source": []
  },
  {
   "cell_type": "code",
   "execution_count": 111,
   "metadata": {},
   "outputs": [],
   "source": [
    "res = []"
   ]
  },
  {
   "cell_type": "code",
   "execution_count": 114,
   "metadata": {},
   "outputs": [],
   "source": [
    "for link in lst:\n",
    "    link = link.strip('[]')\n",
    "    if 'File:' not in link and \\\n",
    "               'Category:' not in link and \\\n",
    "                'Wikipedia:' not in link and \\\n",
    "                'en:' not in link and \\\n",
    "                'Image:' not in link:\n",
    "        res.append(link)"
   ]
  },
  {
   "cell_type": "code",
   "execution_count": 115,
   "metadata": {},
   "outputs": [
    {
     "data": {
      "text/plain": [
       "['mathematics',\n",
       " 'mathematics',\n",
       " 'group action|acting',\n",
       " 'Generating set of a group|generates',\n",
       " 'free group|free',\n",
       " 'subgroup',\n",
       " 'Felix Klein',\n",
       " 'Kleinian group',\n",
       " 'hyperbolic 3-space',\n",
       " 'Möbius transformation',\n",
       " 'Riemann sphere',\n",
       " 'Jacques Tits',\n",
       " 'Journal of Algebra',\n",
       " 'Tits alternative',\n",
       " 'finitely generated group|finitely generated',\n",
       " 'linear group',\n",
       " 'virtually',\n",
       " 'solvable group|solvable',\n",
       " 'free group|free',\n",
       " 'subgroup',\n",
       " 'geometric topology',\n",
       " 'geometric group theory',\n",
       " 'Roger Lyndon|Roger C. Lyndon',\n",
       " 'subgroup',\n",
       " 'free product',\n",
       " 'order (group theory)|order',\n",
       " 'Disjoint_sets#Generalizations|pairwise disjoint',\n",
       " 'group action|acting',\n",
       " 'Generating set of a group|generated',\n",
       " 'free group|free',\n",
       " 'free group|free',\n",
       " 'cyclic group|cyclic',\n",
       " 'subgroup',\n",
       " 'linear transformation',\n",
       " 'infinite cyclic group|infinite cyclic',\n",
       " 'free group',\n",
       " 'word-hyperbolic group',\n",
       " 'torsion-free group|torsion-free',\n",
       " 'Order (group theory)|order',\n",
       " 'free group|free',\n",
       " 'Group action|acts',\n",
       " 'homeomorphism',\n",
       " 'attracting fixed point',\n",
       " 'Fixed point (mathematics)|repelling fixed point',\n",
       " 'word-hyperbolic group',\n",
       " 'Neighbourhood (mathematics)|neighborhoods',\n",
       " 'free group|free',\n",
       " 'Kleinian group',\n",
       " 'Schottky group|Schottky subgroups',\n",
       " 'hyperbolic 3-space',\n",
       " 'free group|free',\n",
       " 'properly discontinuous',\n",
       " 'geometrically finite group|geometrically finite',\n",
       " 'geometric group theory',\n",
       " 'word-hyperbolic group',\n",
       " 'Alexander Lubotzky',\n",
       " 'Geometric and Functional Analysis',\n",
       " 'mapping class group',\n",
       " 'Riemann surface',\n",
       " 'Teichmüller space',\n",
       " 'American Mathematical Society',\n",
       " 'outer automorphism group',\n",
       " 'free group',\n",
       " 'Mladen Bestvina|M. Bestvina',\n",
       " 'Geometric and Functional Analysis',\n",
       " 'Jacques Tits',\n",
       " 'Tits alternative',\n",
       " 'linear group',\n",
       " 'free product',\n",
       " 'free product with amalgamation|amalgamated free products',\n",
       " 'HNN extension',\n",
       " 'Kleinian group',\n",
       " 'Bernard Maskit',\n",
       " 'free semigroup',\n",
       " 'group action',\n",
       " 'linear group',\n",
       " 'Inventiones Mathematicae',\n",
       " 'Bass-Serre theory|acting on trees',\n",
       " 'American Mathematical Society',\n",
       " 'Geometry & Topology',\n",
       " 'Free group',\n",
       " 'Free product',\n",
       " 'Kleinian group',\n",
       " 'Tits alternative',\n",
       " 'Word-hyperbolic group',\n",
       " 'Schottky group']"
      ]
     },
     "execution_count": 115,
     "metadata": {},
     "output_type": "execute_result"
    }
   ],
   "source": [
    "res"
   ]
  },
  {
   "cell_type": "code",
   "execution_count": null,
   "metadata": {},
   "outputs": [],
   "source": []
  },
  {
   "cell_type": "code",
   "execution_count": null,
   "metadata": {},
   "outputs": [],
   "source": []
  },
  {
   "cell_type": "code",
   "execution_count": null,
   "metadata": {},
   "outputs": [],
   "source": []
  },
  {
   "cell_type": "code",
   "execution_count": null,
   "metadata": {},
   "outputs": [],
   "source": []
  },
  {
   "cell_type": "code",
   "execution_count": null,
   "metadata": {},
   "outputs": [],
   "source": [
    "print(data[0]['content'])"
   ]
  },
  {
   "cell_type": "code",
   "execution_count": 35,
   "metadata": {},
   "outputs": [],
   "source": [
    "data = pd.DataFrame(data)"
   ]
  },
  {
   "cell_type": "code",
   "execution_count": 36,
   "metadata": {},
   "outputs": [
    {
     "data": {
      "text/plain": [
       "'<!--Please do not comment or change this page, it is bot generated and will be completely regenerated by the bot. If you want to comment, please do so on the talkpage.-->\\n\\n{{User:COIBot/Summary/LinkReports}}\\n\\n{{User:COIBot/linksaverdatabases|1|0|1|0|0}}\\n\\n\\n<!-- tags and categories -->{{NOINDEX}}\\n\\n== Links ==\\n\\n* {{LinkSummary|avenueqlondon.com}}\\n\\n:* avenueqlondon.com resolves to [http://188.65.112.252 188.65.112.252]\\n\\n:*: {{LinkSummary|188.65.112.252}}\\n\\n:* Link is not on the [[en:User:COIBot#Blacklist|blacklist]].\\n\\n:* Link is not on the [[en:User:COIBot#Domainredlist|domainredlist]].\\n\\n:* Link is not on the [[en:User:COIBot#Monitorlist|Monitorlist]].\\n\\n:* None of the mentioned users is on the [[en:User:COIBot#Blacklist|blacklist]].\\n\\n:* Link is not on the [[en:User:COIBot#Whitelist|whitelist]].\\n\\n:* Link is not on the [[en:User:COIBot#Monitor list|monitor list]].\\n\\n:* Link is globally blacklisted by \\\\bavenueqlondon\\\\.com\\\\b\\n\\n== Users ==\\n\\n* {{IPSummary|79.121.254.230}}\\n\\n== Additions ==\\n\\n{{User:COIBot/Additionlist_top}}\\n\\n{{User:COIBot/EditSummary|id=22154803|lang=en|wikidomain=q|namespace=|pagename=Avenue Q|username=79.121.254.230|link=www.avenueqlondon.com|sortdomain=com.avenueqlondon.|domain=avenueqlondon.com|origdiff=http://en.wikiquote.org/w/index.php?diff=1365532&oldid=1345705|resolved=188.65.112.252|isIP=1|date=2011-11-07|time=16:32:10|wiki=en.wikiquote.org|revid=1365532|oldid=1345705|usercount=38|whitelisted=0|blacklisteduser=0|whitereason=|blackreason=|deleted=0|top=0|there=|checked=0|coiflag=0|otherlinks={{User:COIBot/OtherLinks|link=www.avenueqlondon.com|domain=avenueqlondon.com|U=38|L=1|UL=1|WUL=1}}}}\\n\\n{{User:COIBot/Additionlist_bottom}}\\n\\n* Displayed all 1 additions.'"
      ]
     },
     "execution_count": 36,
     "metadata": {},
     "output_type": "execute_result"
    }
   ],
   "source": [
    "data.loc[0,'content']"
   ]
  },
  {
   "cell_type": "code",
   "execution_count": 1,
   "metadata": {},
   "outputs": [],
   "source": []
  },
  {
   "cell_type": "code",
   "execution_count": 23,
   "metadata": {},
   "outputs": [],
   "source": []
  },
  {
   "cell_type": "code",
   "execution_count": 52,
   "metadata": {},
   "outputs": [
    {
     "data": {
      "text/plain": [
       "8685"
      ]
     },
     "execution_count": 52,
     "metadata": {},
     "output_type": "execute_result"
    }
   ],
   "source": [
    "len(input_files)"
   ]
  },
  {
   "cell_type": "code",
   "execution_count": 24,
   "metadata": {},
   "outputs": [],
   "source": [
    "import wiki_parse as w"
   ]
  },
  {
   "cell_type": "code",
   "execution_count": 25,
   "metadata": {},
   "outputs": [],
   "source": [
    "dumps = glob.glob('wiki_dump/*.bz2')"
   ]
  },
  {
   "cell_type": "code",
   "execution_count": 58,
   "metadata": {},
   "outputs": [],
   "source": [
    "articles = w.create_corpus(dumps[2], input_files)"
   ]
  },
  {
   "cell_type": "code",
   "execution_count": 59,
   "metadata": {},
   "outputs": [
    {
     "ename": "IndexError",
     "evalue": "list index out of range",
     "output_type": "error",
     "traceback": [
      "\u001b[0;31m---------------------------------------------------------------------------\u001b[0m",
      "\u001b[0;31mIndexError\u001b[0m                                Traceback (most recent call last)",
      "\u001b[0;32m<ipython-input-59-4fbaec6eff45>\u001b[0m in \u001b[0;36m<module>\u001b[0;34m\u001b[0m\n\u001b[0;32m----> 1\u001b[0;31m \u001b[0marticles\u001b[0m\u001b[0;34m[\u001b[0m\u001b[0;36m0\u001b[0m\u001b[0;34m]\u001b[0m\u001b[0;34m\u001b[0m\u001b[0m\n\u001b[0m",
      "\u001b[0;31mIndexError\u001b[0m: list index out of range"
     ]
    }
   ],
   "source": [
    "articles[0]"
   ]
  },
  {
   "cell_type": "code",
   "execution_count": 114,
   "metadata": {},
   "outputs": [],
   "source": [
    "lines = w.get_lines_bz2(dumps[0])"
   ]
  },
  {
   "cell_type": "code",
   "execution_count": 115,
   "metadata": {},
   "outputs": [],
   "source": [
    "pages = w.get_pages(lines, input_files)"
   ]
  },
  {
   "cell_type": "code",
   "execution_count": 106,
   "metadata": {},
   "outputs": [],
   "source": [
    "for i, page in enumerate(pages):\n",
    "    if i > 5:\n",
    "        break\n",
    "    print(page)"
   ]
  },
  {
   "cell_type": "code",
   "execution_count": 116,
   "metadata": {},
   "outputs": [
    {
     "ename": "KeyboardInterrupt",
     "evalue": "",
     "output_type": "error",
     "traceback": [
      "\u001b[0;31m---------------------------------------------------------------------------\u001b[0m",
      "\u001b[0;31mKeyboardInterrupt\u001b[0m                         Traceback (most recent call last)",
      "\u001b[0;32m<ipython-input-116-9240ea65a37c>\u001b[0m in \u001b[0;36m<module>\u001b[0;34m\u001b[0m\n\u001b[0;32m----> 1\u001b[0;31m \u001b[0mnext\u001b[0m\u001b[0;34m(\u001b[0m\u001b[0mpages\u001b[0m\u001b[0;34m)\u001b[0m\u001b[0;34m\u001b[0m\u001b[0m\n\u001b[0m",
      "\u001b[0;32m~/Desktop/root_directory/wiki_parse.py\u001b[0m in \u001b[0;36mget_pages\u001b[0;34m(lines, input_titles)\u001b[0m\n\u001b[1;32m     17\u001b[0m     \u001b[0mpage\u001b[0m \u001b[0;34m=\u001b[0m \u001b[0;34m[\u001b[0m\u001b[0;34m]\u001b[0m\u001b[0;34m\u001b[0m\u001b[0m\n\u001b[1;32m     18\u001b[0m     \u001b[0minpage\u001b[0m \u001b[0;34m=\u001b[0m \u001b[0;32mFalse\u001b[0m\u001b[0;34m\u001b[0m\u001b[0m\n\u001b[0;32m---> 19\u001b[0;31m     \u001b[0;32mfor\u001b[0m \u001b[0mline\u001b[0m \u001b[0;32min\u001b[0m \u001b[0mlines\u001b[0m\u001b[0;34m:\u001b[0m\u001b[0;34m\u001b[0m\u001b[0m\n\u001b[0m\u001b[1;32m     20\u001b[0m         \u001b[0mline\u001b[0m \u001b[0;34m=\u001b[0m \u001b[0mline\u001b[0m\u001b[0;34m.\u001b[0m\u001b[0mlstrip\u001b[0m\u001b[0;34m(\u001b[0m\u001b[0;34m)\u001b[0m\u001b[0;34m\u001b[0m\u001b[0m\n\u001b[1;32m     21\u001b[0m         \u001b[0;32mif\u001b[0m \u001b[0mline\u001b[0m\u001b[0;34m.\u001b[0m\u001b[0mstartswith\u001b[0m\u001b[0;34m(\u001b[0m\u001b[0;34m'<page>'\u001b[0m\u001b[0;34m)\u001b[0m\u001b[0;34m:\u001b[0m\u001b[0;34m\u001b[0m\u001b[0m\n",
      "\u001b[0;32m~/Desktop/root_directory/wiki_parse.py\u001b[0m in \u001b[0;36mget_lines_bz2\u001b[0;34m(filename)\u001b[0m\n\u001b[1;32m      9\u001b[0m     for line in subprocess.Popen(['bzcat'], \n\u001b[1;32m     10\u001b[0m                              \u001b[0mstdin\u001b[0m \u001b[0;34m=\u001b[0m \u001b[0mopen\u001b[0m\u001b[0;34m(\u001b[0m\u001b[0mfilename\u001b[0m\u001b[0;34m,\u001b[0m \u001b[0;34m'rb'\u001b[0m\u001b[0;34m)\u001b[0m\u001b[0;34m,\u001b[0m\u001b[0;34m\u001b[0m\u001b[0m\n\u001b[0;32m---> 11\u001b[0;31m                              \u001b[0mstdout\u001b[0m \u001b[0;34m=\u001b[0m \u001b[0msubprocess\u001b[0m\u001b[0;34m.\u001b[0m\u001b[0mPIPE\u001b[0m\u001b[0;34m\u001b[0m\u001b[0m\n\u001b[0m\u001b[1;32m     12\u001b[0m                              ).stdout:\n\u001b[1;32m     13\u001b[0m         \u001b[0;32myield\u001b[0m \u001b[0mline\u001b[0m\u001b[0;34m.\u001b[0m\u001b[0mdecode\u001b[0m\u001b[0;34m(\u001b[0m\u001b[0;34m)\u001b[0m\u001b[0;34m\u001b[0m\u001b[0m\n",
      "\u001b[0;31mKeyboardInterrupt\u001b[0m: "
     ]
    }
   ],
   "source": [
    "next(pages)"
   ]
  },
  {
   "cell_type": "code",
   "execution_count": 92,
   "metadata": {},
   "outputs": [
    {
     "data": {
      "text/plain": [
       "[]"
      ]
     },
     "execution_count": 92,
     "metadata": {},
     "output_type": "execute_result"
    }
   ],
   "source": [
    "corpus"
   ]
  },
  {
   "cell_type": "code",
   "execution_count": null,
   "metadata": {},
   "outputs": [],
   "source": []
  },
  {
   "cell_type": "code",
   "execution_count": 56,
   "metadata": {},
   "outputs": [
    {
     "name": "stdout",
     "output_type": "stream",
     "text": [
      "<mediawiki xmlns=\"http://www.mediawiki.org/xml/export-0.10/\" xmlns:xsi=\"http://www.w3.org/2001/XMLSchema-instance\" xsi:schemaLocation=\"http://www.mediawiki.org/xml/export-0.10/ http://www.mediawiki.org/xml/export-0.10.xsd\" version=\"0.10\" xml:lang=\"en\">\n",
      "\n",
      "  <siteinfo>\n",
      "\n",
      "    <sitename>Wikipedia</sitename>\n",
      "\n",
      "    <dbname>enwiki</dbname>\n",
      "\n",
      "    <base>https://en.wikipedia.org/wiki/Main_Page</base>\n",
      "\n",
      "    <generator>MediaWiki 1.32.0-wmf.12</generator>\n",
      "\n"
     ]
    }
   ],
   "source": [
    "for i, line in enumerate(lines):\n",
    "    if i > 5:\n",
    "        break\n",
    "    print(line)"
   ]
  },
  {
   "cell_type": "code",
   "execution_count": 41,
   "metadata": {},
   "outputs": [
    {
     "ename": "IndexError",
     "evalue": "list index out of range",
     "output_type": "error",
     "traceback": [
      "\u001b[0;31m---------------------------------------------------------------------------\u001b[0m",
      "\u001b[0;31mIndexError\u001b[0m                                Traceback (most recent call last)",
      "\u001b[0;32m<ipython-input-41-3ac598d0275b>\u001b[0m in \u001b[0;36m<module>\u001b[0;34m\u001b[0m\n\u001b[0;32m----> 1\u001b[0;31m \u001b[0mlst\u001b[0m\u001b[0;34m[\u001b[0m\u001b[0;36m0\u001b[0m\u001b[0;34m]\u001b[0m\u001b[0;34m\u001b[0m\u001b[0m\n\u001b[0m",
      "\u001b[0;31mIndexError\u001b[0m: list index out of range"
     ]
    }
   ],
   "source": [
    "lst[0]"
   ]
  },
  {
   "cell_type": "code",
   "execution_count": 21,
   "metadata": {},
   "outputs": [
    {
     "data": {
      "text/plain": [
       "{'title': 'Philosophical Perspectives',\n",
       " 'content': \"{{Infobox journal\\n| title = Philosophical Perspectives\\n| cover = \\n| editor = [[Ernest Sosa]]\\n| discipline = [[Philosophy]]\\n| abbreviation = Philos. Perspect.\\n| publisher = [[Wiley-Blackwell]]\\n| country =\\n| frequency = Annually\\n| history = 1987–present\\n| openaccess = \\n| impact = \\n| impact-year = \\n| website = http://onlinelibrary.wiley.com/journal/10.1111/(ISSN)1520-8583\\n| link1 = http://onlinelibrary.wiley.com/journal/10.1111/(ISSN)1520-8583/currentissue\\n| link1-name = Online access\\n| link2 = http://onlinelibrary.wiley.com/journal/10.1111/(ISSN)1520-8583/issues\\n| link2-name = Online archive\\n| JSTOR = 15208583\\n| OCLC = 40108872\\n| LCCN = 88649942\\n| CODEN = \\n| ISSN = 1520-8583\\n| eISSN = \\n}}\\n'''''Philosophical Perspectives''''' is an annual [[Peer review|peer-reviewed]] [[academic journal]] of [[philosophy]]. Each annual volume is dedicated to a specific theme addressing philosophical problems. The founding [[editor-in-chief]] was [[James E. Tomberlin]], who edited the series from 1987 to 2002. ''Philosophical Perspectives'' became a supplement to ''[[Noûs]]'' in 1996 and is currently published by [[Wiley-Blackwell]].\\n== See also ==\\n* [[List of philosophy journals]]\\n== External links ==\\n* {{Official website|http://onlinelibrary.wiley.com/journal/10.1111/(ISSN)1520-8583}}\\n[[Category:Philosophy journals]]\\n[[Category:Wiley-Blackwell academic journals]]\\n[[Category:English-language journals]]\\n[[Category:Publications established in 1987]]\\n[[Category:Annual journals]]\\n[[Category:Contemporary philosophical literature]]\\n{{philo-journal-stub}}\"}"
      ]
     },
     "execution_count": 21,
     "metadata": {},
     "output_type": "execute_result"
    }
   ],
   "source": [
    "next(articles)"
   ]
  },
  {
   "cell_type": "code",
   "execution_count": null,
   "metadata": {},
   "outputs": [],
   "source": []
  }
 ],
 "metadata": {
  "kernelspec": {
   "display_name": "Python 3",
   "language": "python",
   "name": "python3"
  },
  "language_info": {
   "codemirror_mode": {
    "name": "ipython",
    "version": 3
   },
   "file_extension": ".py",
   "mimetype": "text/x-python",
   "name": "python",
   "nbconvert_exporter": "python",
   "pygments_lexer": "ipython3",
   "version": "3.6.6"
  }
 },
 "nbformat": 4,
 "nbformat_minor": 2
}
