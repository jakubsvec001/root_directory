{
 "cells": [
  {
   "cell_type": "code",
   "execution_count": 138,
   "metadata": {},
   "outputs": [],
   "source": [
    "import pandas as pd\n",
    "import numpy as np\n",
    "import matplotlib.pyplot as plt\n",
    "from bs4 import BeautifulSoup\n",
    "import urllib.request\n",
    "import json\n",
    "import csv\n",
    "import sys\n",
    "\n",
    "\n",
    "\n"
   ]
  },
  {
   "cell_type": "code",
   "execution_count": null,
   "metadata": {},
   "outputs": [
    {
     "name": "stdout",
     "output_type": "stream",
     "text": [
      "342"
     ]
    }
   ],
   "source": [
    "node = []\n",
    "skipped = 0\n",
    "with open('data/math_query.csv') as c:\n",
    "    base_url = 'http://www.wikidata.org/entity/'\n",
    "    base_len = len(base_url)\n",
    "    reader = csv.reader(c, delimiter=',', )\n",
    "    next(reader, None) \n",
    "    i = 0\n",
    "    while i < 1000:\n",
    "        row = next(reader)\n",
    "        i += 1\n",
    "        title = row[1]\n",
    "        node_url = row[0]\n",
    "        node_id = node_url[base_len:]\n",
    "        html = urllib.request.urlopen(node_url).read()\n",
    "        soup = BeautifulSoup(html, 'lxml')\n",
    "        wiki_data_dict = json.loads(str(soup.text))\n",
    "        try:\n",
    "            node.append(wiki_data_dict['entities'][str(node_id)]['sitelinks']['enwiki']['url'])\n",
    "        except:\n",
    "            skipped += 1\n",
    "        sys.stdout.write('\\r'+ str(i))\n",
    "        \n",
    "        \n",
    "    "
   ]
  },
  {
   "cell_type": "code",
   "execution_count": null,
   "metadata": {},
   "outputs": [],
   "source": [
    "node"
   ]
  },
  {
   "cell_type": "code",
   "execution_count": 110,
   "metadata": {},
   "outputs": [],
   "source": [
    "wiki_data_dict = json.loads(str(soup.text))"
   ]
  },
  {
   "cell_type": "code",
   "execution_count": 113,
   "metadata": {},
   "outputs": [
    {
     "data": {
      "text/plain": [
       "'https://en.wikipedia.org/wiki/Information_theory'"
      ]
     },
     "execution_count": 113,
     "metadata": {},
     "output_type": "execute_result"
    }
   ],
   "source": [
    "wiki_data_dict['entities'][str(node)]['sitelinks']['enwiki']['url']\n"
   ]
  },
  {
   "cell_type": "code",
   "execution_count": null,
   "metadata": {},
   "outputs": [],
   "source": []
  }
 ],
 "metadata": {
  "kernelspec": {
   "display_name": "Python 3",
   "language": "python",
   "name": "python3"
  },
  "language_info": {
   "codemirror_mode": {
    "name": "ipython",
    "version": 3
   },
   "file_extension": ".py",
   "mimetype": "text/x-python",
   "name": "python",
   "nbconvert_exporter": "python",
   "pygments_lexer": "ipython3",
   "version": "3.6.6"
  }
 },
 "nbformat": 4,
 "nbformat_minor": 2
}
