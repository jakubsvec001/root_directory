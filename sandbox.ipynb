{
 "cells": [
  {
   "cell_type": "code",
   "execution_count": 233,
   "metadata": {},
   "outputs": [],
   "source": [
    "import pandas as pd\n",
    "import numpy as np\n",
    "import matplotlib.pyplot as plt\n",
    "from bs4 import BeautifulSoup\n",
    "import urllib.request\n",
    "import json\n",
    "import csv\n",
    "import sys\n",
    "import time"
   ]
  },
  {
   "cell_type": "code",
   "execution_count": 278,
   "metadata": {},
   "outputs": [],
   "source": [
    "'data/math_query.csv'\n",
    "\n",
    "class WikidataCleaner():\n",
    "    \"\"\"cleans a csv file of wikidata nodes and finds \n",
    "       english wikipedia articles, if available.\n",
    "    \"\"\"\n",
    "    def __init__(self):\n",
    "        self.total_queries = 0\n",
    "        self.total_written = 0\n",
    "        self.total_skipped = 0\n",
    "    \n",
    "    def parse(self, input_file, output_file):\n",
    "        try:\n",
    "            current_data = pd.read_csv(str(output_file))\n",
    "        except:\n",
    "            continue\n",
    "        \n",
    "        with open(str(input_file), 'r') as infile, open(str(output_file), 'w') as outfile:\n",
    "            base_url = 'http://www.wikidata.org/entity/'\n",
    "            base_len = len(base_url)\n",
    "            reader = csv.reader(infile, delimiter=',')\n",
    "            writer = csv.writer(outfile, delimiter=',')\n",
    "            writer.writerow(['wikidata_id', 'title', 'wikipedia_url', 'wikidata_url'])\n",
    "            next(reader, None) \n",
    "            i = 0\n",
    "            while i < 10:\n",
    "                row = next(reader)\n",
    "#             for i, row in enumerate(reader):\n",
    "                self.total_queries += 1\n",
    "                title = row[1]\n",
    "                data_url = row[0]\n",
    "                data_id = data_url[base_len:]\n",
    "                time.sleep(1)\n",
    "                html = urllib.request.urlopen(data_url).read()\n",
    "                soup = BeautifulSoup(html, 'lxml')\n",
    "                wiki_data_dict = json.loads(str(soup.text))\n",
    "                try:\n",
    "                    wikipedia_url = wiki_data_dict['entities'][str(data_id)]['sitelinks']['enwiki']['url']\n",
    "                    writer.writerow([data_id, title, wikipedia_url, data_url])\n",
    "                    self.total_written += 1\n",
    "                    sys.stdout.write('\\r'+ str(i)) \n",
    "                except:\n",
    "                    self.total_skipped += 1\n",
    "                i += 1"
   ]
  },
  {
   "cell_type": "code",
   "execution_count": 279,
   "metadata": {},
   "outputs": [],
   "source": [
    "parser = WikidataCleaner()"
   ]
  },
  {
   "cell_type": "code",
   "execution_count": 280,
   "metadata": {},
   "outputs": [
    {
     "name": "stdout",
     "output_type": "stream",
     "text": [
      "9"
     ]
    }
   ],
   "source": [
    "parser.parse('data/math_query.csv', 'data/math_c.csv')"
   ]
  },
  {
   "cell_type": "code",
   "execution_count": 281,
   "metadata": {},
   "outputs": [
    {
     "data": {
      "text/plain": [
       "2"
      ]
     },
     "execution_count": 281,
     "metadata": {},
     "output_type": "execute_result"
    }
   ],
   "source": [
    "parser.total_skipped"
   ]
  },
  {
   "cell_type": "code",
   "execution_count": 143,
   "metadata": {},
   "outputs": [],
   "source": [
    "data = pd.read_csv('data/math_query.csv')"
   ]
  },
  {
   "cell_type": "code",
   "execution_count": 144,
   "metadata": {},
   "outputs": [
    {
     "data": {
      "text/html": [
       "<div>\n",
       "<style scoped>\n",
       "    .dataframe tbody tr th:only-of-type {\n",
       "        vertical-align: middle;\n",
       "    }\n",
       "\n",
       "    .dataframe tbody tr th {\n",
       "        vertical-align: top;\n",
       "    }\n",
       "\n",
       "    .dataframe thead th {\n",
       "        text-align: right;\n",
       "    }\n",
       "</style>\n",
       "<table border=\"1\" class=\"dataframe\">\n",
       "  <thead>\n",
       "    <tr style=\"text-align: right;\">\n",
       "      <th></th>\n",
       "      <th>item</th>\n",
       "      <th>itemLabel</th>\n",
       "      <th>linkTo</th>\n",
       "    </tr>\n",
       "  </thead>\n",
       "  <tbody>\n",
       "    <tr>\n",
       "      <th>0</th>\n",
       "      <td>http://www.wikidata.org/entity/Q115646</td>\n",
       "      <td>Newton polygon</td>\n",
       "      <td>http://www.wikidata.org/entity/Q395</td>\n",
       "    </tr>\n",
       "    <tr>\n",
       "      <th>1</th>\n",
       "      <td>http://www.wikidata.org/entity/Q8366</td>\n",
       "      <td>algorithm</td>\n",
       "      <td>http://www.wikidata.org/entity/Q13636890</td>\n",
       "    </tr>\n",
       "    <tr>\n",
       "      <th>2</th>\n",
       "      <td>http://www.wikidata.org/entity/Q1908419</td>\n",
       "      <td>mathematical geography</td>\n",
       "      <td>http://www.wikidata.org/entity/Q102066</td>\n",
       "    </tr>\n",
       "    <tr>\n",
       "      <th>3</th>\n",
       "      <td>http://www.wikidata.org/entity/Q1908419</td>\n",
       "      <td>mathematical geography</td>\n",
       "      <td>http://www.wikidata.org/entity/Q131089</td>\n",
       "    </tr>\n",
       "    <tr>\n",
       "      <th>4</th>\n",
       "      <td>http://www.wikidata.org/entity/Q74304</td>\n",
       "      <td>least squares method</td>\n",
       "      <td>http://www.wikidata.org/entity/Q12483</td>\n",
       "    </tr>\n",
       "  </tbody>\n",
       "</table>\n",
       "</div>"
      ],
      "text/plain": [
       "                                      item               itemLabel  \\\n",
       "0   http://www.wikidata.org/entity/Q115646          Newton polygon   \n",
       "1     http://www.wikidata.org/entity/Q8366               algorithm   \n",
       "2  http://www.wikidata.org/entity/Q1908419  mathematical geography   \n",
       "3  http://www.wikidata.org/entity/Q1908419  mathematical geography   \n",
       "4    http://www.wikidata.org/entity/Q74304    least squares method   \n",
       "\n",
       "                                     linkTo  \n",
       "0       http://www.wikidata.org/entity/Q395  \n",
       "1  http://www.wikidata.org/entity/Q13636890  \n",
       "2    http://www.wikidata.org/entity/Q102066  \n",
       "3    http://www.wikidata.org/entity/Q131089  \n",
       "4     http://www.wikidata.org/entity/Q12483  "
      ]
     },
     "execution_count": 144,
     "metadata": {},
     "output_type": "execute_result"
    }
   ],
   "source": [
    "data.head()"
   ]
  },
  {
   "cell_type": "code",
   "execution_count": 151,
   "metadata": {},
   "outputs": [
    {
     "data": {
      "text/plain": [
       "array(['http://www.wikidata.org/entity/Q115646', 'Newton polygon',\n",
       "       'http://www.wikidata.org/entity/Q395'], dtype=object)"
      ]
     },
     "execution_count": 151,
     "metadata": {},
     "output_type": "execute_result"
    }
   ],
   "source": [
    "data.loc[0,:].values"
   ]
  },
  {
   "cell_type": "code",
   "execution_count": 277,
   "metadata": {},
   "outputs": [
    {
     "name": "stdout",
     "output_type": "stream",
     "text": [
      "http://www.wikidata.org/entity/Q115646\n",
      "Q115646\n",
      "http://www.wikidata.org/entity/Q8366\n",
      "Q8366\n",
      "http://www.wikidata.org/entity/Q1908419\n",
      "Q1908419\n",
      "{'cawiki': {'site': 'cawiki', 'title': 'Geografia matemàtica', 'badges': [], 'url': 'https://ca.wikipedia.org/wiki/Geografia_matem%C3%A0tica'}, 'cbk_zamwiki': {'site': 'cbk_zamwiki', 'title': 'Geografía Matemática', 'badges': [], 'url': 'https://cbk-zam.wikipedia.org/wiki/Geograf%C3%ADa_Matem%C3%A1tica'}, 'dewiki': {'site': 'dewiki', 'title': 'Mathematische Geographie', 'badges': [], 'url': 'https://de.wikipedia.org/wiki/Mathematische_Geographie'}, 'eswiki': {'site': 'eswiki', 'title': 'Geografía matemática', 'badges': [], 'url': 'https://es.wikipedia.org/wiki/Geograf%C3%ADa_matem%C3%A1tica'}, 'frwiki': {'site': 'frwiki', 'title': 'Géographie mathématique', 'badges': [], 'url': 'https://fr.wikipedia.org/wiki/G%C3%A9ographie_math%C3%A9matique'}, 'glwiki': {'site': 'glwiki', 'title': 'Xeografía matemática', 'badges': [], 'url': 'https://gl.wikipedia.org/wiki/Xeograf%C3%ADa_matem%C3%A1tica'}, 'itwiki': {'site': 'itwiki', 'title': 'Geografia matematica', 'badges': [], 'url': 'https://it.wikipedia.org/wiki/Geografia_matematica'}, 'ocwiki': {'site': 'ocwiki', 'title': 'Geografia matematica', 'badges': [], 'url': 'https://oc.wikipedia.org/wiki/Geografia_matematica'}, 'ptwiki': {'site': 'ptwiki', 'title': 'Geografia matemática', 'badges': [], 'url': 'https://pt.wikipedia.org/wiki/Geografia_matem%C3%A1tica'}, 'scnwiki': {'site': 'scnwiki', 'title': 'Giugrafìa matimàtica', 'badges': [], 'url': 'https://scn.wikipedia.org/wiki/Giugraf%C3%ACa_matim%C3%A0tica'}, 'shwiki': {'site': 'shwiki', 'title': 'Matematička geografija', 'badges': [], 'url': 'https://sh.wikipedia.org/wiki/Matemati%C4%8Dka_geografija'}, 'slwiki': {'site': 'slwiki', 'title': 'Matematična geografija', 'badges': [], 'url': 'https://sl.wikipedia.org/wiki/Matemati%C4%8Dna_geografija'}, 'srwiki': {'site': 'srwiki', 'title': 'Математичка географија', 'badges': [], 'url': 'https://sr.wikipedia.org/wiki/%D0%9C%D0%B0%D1%82%D0%B5%D0%BC%D0%B0%D1%82%D0%B8%D1%87%D0%BA%D0%B0_%D0%B3%D0%B5%D0%BE%D0%B3%D1%80%D0%B0%D1%84%D0%B8%D1%98%D0%B0'}}\n",
      "http://www.wikidata.org/entity/Q1908419\n",
      "Q1908419\n",
      "{'cawiki': {'site': 'cawiki', 'title': 'Geografia matemàtica', 'badges': [], 'url': 'https://ca.wikipedia.org/wiki/Geografia_matem%C3%A0tica'}, 'cbk_zamwiki': {'site': 'cbk_zamwiki', 'title': 'Geografía Matemática', 'badges': [], 'url': 'https://cbk-zam.wikipedia.org/wiki/Geograf%C3%ADa_Matem%C3%A1tica'}, 'dewiki': {'site': 'dewiki', 'title': 'Mathematische Geographie', 'badges': [], 'url': 'https://de.wikipedia.org/wiki/Mathematische_Geographie'}, 'eswiki': {'site': 'eswiki', 'title': 'Geografía matemática', 'badges': [], 'url': 'https://es.wikipedia.org/wiki/Geograf%C3%ADa_matem%C3%A1tica'}, 'frwiki': {'site': 'frwiki', 'title': 'Géographie mathématique', 'badges': [], 'url': 'https://fr.wikipedia.org/wiki/G%C3%A9ographie_math%C3%A9matique'}, 'glwiki': {'site': 'glwiki', 'title': 'Xeografía matemática', 'badges': [], 'url': 'https://gl.wikipedia.org/wiki/Xeograf%C3%ADa_matem%C3%A1tica'}, 'itwiki': {'site': 'itwiki', 'title': 'Geografia matematica', 'badges': [], 'url': 'https://it.wikipedia.org/wiki/Geografia_matematica'}, 'ocwiki': {'site': 'ocwiki', 'title': 'Geografia matematica', 'badges': [], 'url': 'https://oc.wikipedia.org/wiki/Geografia_matematica'}, 'ptwiki': {'site': 'ptwiki', 'title': 'Geografia matemática', 'badges': [], 'url': 'https://pt.wikipedia.org/wiki/Geografia_matem%C3%A1tica'}, 'scnwiki': {'site': 'scnwiki', 'title': 'Giugrafìa matimàtica', 'badges': [], 'url': 'https://scn.wikipedia.org/wiki/Giugraf%C3%ACa_matim%C3%A0tica'}, 'shwiki': {'site': 'shwiki', 'title': 'Matematička geografija', 'badges': [], 'url': 'https://sh.wikipedia.org/wiki/Matemati%C4%8Dka_geografija'}, 'slwiki': {'site': 'slwiki', 'title': 'Matematična geografija', 'badges': [], 'url': 'https://sl.wikipedia.org/wiki/Matemati%C4%8Dna_geografija'}, 'srwiki': {'site': 'srwiki', 'title': 'Математичка географија', 'badges': [], 'url': 'https://sr.wikipedia.org/wiki/%D0%9C%D0%B0%D1%82%D0%B5%D0%BC%D0%B0%D1%82%D0%B8%D1%87%D0%BA%D0%B0_%D0%B3%D0%B5%D0%BE%D0%B3%D1%80%D0%B0%D1%84%D0%B8%D1%98%D0%B0'}}\n",
      "http://www.wikidata.org/entity/Q74304\n",
      "Q74304\n",
      "http://www.wikidata.org/entity/Q3956339\n",
      "Q3956339\n",
      "http://www.wikidata.org/entity/Q211294\n",
      "Q211294\n",
      "http://www.wikidata.org/entity/Q863349\n",
      "Q863349\n",
      "http://www.wikidata.org/entity/Q131222\n",
      "Q131222\n",
      "http://www.wikidata.org/entity/Q131222\n",
      "Q131222\n"
     ]
    }
   ],
   "source": [
    "total_queries = 0\n",
    "total_written = 0\n",
    "total_skipped = 0\n",
    "\n",
    "with open('data/math_query.csv', 'r') as infile, open('data/math_cleaned.csv', 'w') as outfile:\n",
    "            base_url = 'http://www.wikidata.org/entity/'\n",
    "            base_len = len(base_url)\n",
    "            reader = csv.reader(infile, delimiter=',')\n",
    "            writer = csv.writer(outfile, delimiter=',')\n",
    "            writer.writerow(['wikidata_id', 'title', 'wikipedia_url', 'wikidata_url'])\n",
    "            next(reader, None) \n",
    "            i = 0\n",
    "            while i < 10:\n",
    "                row = next(reader)\n",
    "                total_queries += 1\n",
    "                title = row[1]\n",
    "                data_url = row[0]\n",
    "            \n",
    "                sys.stdout.write(data_url + '\\n')\n",
    "                \n",
    "                data_id = data_url[base_len:]\n",
    "                sys.stdout.write(data_id + '\\n')\n",
    "                time.sleep(1)\n",
    "                html = urllib.request.urlopen(data_url).read()\n",
    "                soup = BeautifulSoup(html, 'lxml')\n",
    "                wiki_data_dict = json.loads(str(soup.text))\n",
    "                try:\n",
    "                    wikipedia_url = wiki_data_dict['entities'][str(data_id)]['sitelinks']['enwiki']['url']\n",
    "                    writer.writerow([data_id, title, wikipedia_url, data_url])\n",
    "                    total_written += 1\n",
    "                except:\n",
    "                    total_skipped += 1\n",
    "                    print(wiki_data_dict['entities'][str(data_id)]['sitelinks'])\n",
    "                i += 1"
   ]
  },
  {
   "cell_type": "code",
   "execution_count": 270,
   "metadata": {},
   "outputs": [
    {
     "data": {
      "text/plain": [
       "1"
      ]
     },
     "execution_count": 270,
     "metadata": {},
     "output_type": "execute_result"
    }
   ],
   "source": [
    "total_written"
   ]
  },
  {
   "cell_type": "code",
   "execution_count": 113,
   "metadata": {},
   "outputs": [
    {
     "data": {
      "text/plain": [
       "'https://en.wikipedia.org/wiki/Information_theory'"
      ]
     },
     "execution_count": 113,
     "metadata": {},
     "output_type": "execute_result"
    }
   ],
   "source": [
    "wiki_data_dict['entities'][str(node)]['sitelinks']['enwiki']['url']\n"
   ]
  },
  {
   "cell_type": "code",
   "execution_count": null,
   "metadata": {},
   "outputs": [],
   "source": [
    "def find_en_urls(df):\n",
    "    base_url = 'http://www.wikidata.org/entity/'\n",
    "    base_len = len(base_url)\n",
    "    i = 0\n",
    "    while i < 1000:\n",
    "        title = df.loc['i']\n",
    "        node_url = df[0]\n",
    "        node_id = node_url[base_len:]\n",
    "        html = urllib.request.urlopen(node_url).read()\n",
    "        soup = BeautifulSoup(html, 'lxml')\n",
    "        wiki_data_dict = json.loads(str(soup.text))\n",
    "        try:\n",
    "            return wiki_data_dict['entities'][str(node_id)]['sitelinks']['enwiki']['url'])\n",
    "        except:\n",
    "            skipped += 1"
   ]
  }
 ],
 "metadata": {
  "kernelspec": {
   "display_name": "Python 3",
   "language": "python",
   "name": "python3"
  },
  "language_info": {
   "codemirror_mode": {
    "name": "ipython",
    "version": 3
   },
   "file_extension": ".py",
   "mimetype": "text/x-python",
   "name": "python",
   "nbconvert_exporter": "python",
   "pygments_lexer": "ipython3",
   "version": "3.6.6"
  }
 },
 "nbformat": 4,
 "nbformat_minor": 2
}
