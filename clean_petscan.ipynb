{
 "cells": [
  {
   "cell_type": "code",
   "execution_count": 32,
   "metadata": {},
   "outputs": [],
   "source": [
    "import pandas as pd\n",
    "import numpy as np"
   ]
  },
  {
   "cell_type": "code",
   "execution_count": 45,
   "metadata": {},
   "outputs": [],
   "source": [
    "def clean_petscan(infile, outfile):\n",
    "    petscan = pd.read_csv(str(infile))\n",
    "    url_base = 'https://en.wikipedia.org/wiki/'\n",
    "    petscan.drop(['number', 'namespace', 'touched', 'length', 'pageid'], axis=1, inplace=True)\n",
    "    petscan['url'] = url_base + petscan['title']\n",
    "    petscan = petscan[['wikidata', 'title', 'url']]\n",
    "    petscan.to_csv(str(outfile), sep='\\t', encoding='utf-8')"
   ]
  },
  {
   "cell_type": "code",
   "execution_count": null,
   "metadata": {},
   "outputs": [],
   "source": []
  }
 ],
 "metadata": {
  "kernelspec": {
   "display_name": "Python 3",
   "language": "python",
   "name": "python3"
  },
  "language_info": {
   "codemirror_mode": {
    "name": "ipython",
    "version": 3
   },
   "file_extension": ".py",
   "mimetype": "text/x-python",
   "name": "python",
   "nbconvert_exporter": "python",
   "pygments_lexer": "ipython3",
   "version": "3.6.6"
  }
 },
 "nbformat": 4,
 "nbformat_minor": 2
}
