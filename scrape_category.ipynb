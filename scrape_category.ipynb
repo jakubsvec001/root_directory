{
 "cells": [
  {
   "cell_type": "code",
   "execution_count": 21,
   "metadata": {},
   "outputs": [],
   "source": [
    "import urllib\n",
    "import pandas as pd\n",
    "from bs4 import BeautifulSoup as bs\n",
    "from pymongo import MongoClient\n",
    "import requests"
   ]
  },
  {
   "cell_type": "code",
   "execution_count": 15,
   "metadata": {},
   "outputs": [],
   "source": [
    "def scrape_wiki(csv, url, category):\n",
    "    \"\"\"Return the HTML content of url.\"\"\"\n",
    "    mc = MongoClient()\n",
    "    db = mc['cache']\n",
    "    pages = db[str(category)]\n",
    "    for i in df:\n",
    "        url = i\n",
    "    cached_page = pages.find_one({'url': url})\n",
    "    if cached_page is None:\n",
    "        print(f\"Fetching {url}\")\n",
    "        response = requests.get(url)\n",
    "        if response.status_code == 200:\n",
    "            pages.insert_one({'url': url,\n",
    "                              'html': response.content})   \n",
    "        else:\n",
    "            pages.insert_one({'url': url,\n",
    "                              'html': None})   \n",
    "    return pages.find_one({'url': url})['html']"
   ]
  },
  {
   "cell_type": "code",
   "execution_count": 16,
   "metadata": {},
   "outputs": [],
   "source": [
    "csv = pd.read_csv('data/math/total_math_11697', sep='\\t')"
   ]
  },
  {
   "cell_type": "code",
   "execution_count": 17,
   "metadata": {},
   "outputs": [
    {
     "data": {
      "text/plain": [
       "'https://en.wikipedia.org/wiki/Alain_Connes'"
      ]
     },
     "execution_count": 17,
     "metadata": {},
     "output_type": "execute_result"
    }
   ],
   "source": [
    "csv.loc[0,'url']"
   ]
  },
  {
   "cell_type": "code",
   "execution_count": 22,
   "metadata": {},
   "outputs": [],
   "source": [
    "response = requests.get(csv.loc[0,'url'])"
   ]
  },
  {
   "cell_type": "code",
   "execution_count": 33,
   "metadata": {},
   "outputs": [],
   "source": [
    "html = response.content\n",
    "soup = bs(html, 'lxml')"
   ]
  },
  {
   "cell_type": "code",
   "execution_count": 37,
   "metadata": {},
   "outputs": [
    {
     "data": {
      "text/plain": [
       "'\\n\\n\\nAlain Connes - Wikipedia\\ndocument.documentElement.className = document.documentElement.className.replace( /(^|\\\\s)client-nojs(\\\\s|$)/, \"$1client-js$2\" );\\n(window.RLQ=window.RLQ||[]).push(function(){mw.config.set({\"wgCanonicalNamespace\":\"\",\"wgCanonicalSpecialPageName\":false,\"wgNamespaceNumber\":0,\"wgPageName\":\"Alain_Connes\",\"wgTitle\":\"Alain Connes\",\"wgCurRevisionId\":864885442,\"wgRevisionId\":864885442,\"wgArticleId\":340,\"wgIsArticle\":true,\"wgIsRedirect\":false,\"wgAction\":\"view\",\"wgUserName\":null,\"wgUserGroups\":[\"*\"],\"wgCategories\":[\"Use dmy dates from June 2013\",\"Articles lacking in-text citations from February 2012\",\"All articles lacking in-text citations\",\"Infobox person using alma mater\",\"Articles with hCards\",\"Wikipedia articles with BIBSYS identifiers\",\"Wikipedia articles with BNF identifiers\",\"Wikipedia articles with GND identifiers\",\"Wikipedia articles with ISNI identifiers\",\"Wikipedia articles with LCCN identifiers\",\"Wikipedia articles with LNB identifiers\",\"Wikipedia articles with MGP identifiers\",\"Wikipedia articles with NDL identifiers\",\"Wikipedia articles with SNAC-ID identifiers\",\"Wikipedia articles with SUDOC identifiers\",\"Wikipedia articles with VIAF identifiers\",\"1947 births\",\"Living people\",\"20th-century French mathematicians\",\"Members of the United States National Academy of Sciences\",\"21st-century mathematicians\",\"Collège de France faculty\",\"Institute for Advanced Study visiting scholars\",\"Fields Medalists\",\"Mathematical analysts\",\"Differential geometers\",\"École Normale Supérieure alumni\",\"Vanderbilt University faculty\",\"Foreign Members of the Russian Academy of Sciences\",\"Members of the French Academy of Sciences\",\"Members of the Norwegian Academy of Science and Letters\",\"Members of the Royal Danish Academy of Sciences and Letters\",\"Clay Research Award recipients\",\"Participants in the Les Houches Physics Summer School\"],\"wgBreakFrames\":false,\"wgPageContentLanguage\":\"en\",\"wgPageContentModel\":\"wikitext\",\"wgSeparatorTransformTable\":[\"\",\"\"],\"wgDigitTransformTable\":[\"\",\"\"],\"wgDefaultDateFormat\":\"dmy\",\"wgMonthNames\":[\"\",\"January\",\"February\",\"March\",\"April\",\"May\",\"June\",\"July\",\"August\",\"September\",\"October\",\"November\",\"December\"],\"wgMonthNamesShort\":[\"\",\"Jan\",\"Feb\",\"Mar\",\"Apr\",\"May\",\"Jun\",\"Jul\",\"Aug\",\"Sep\",\"Oct\",\"Nov\",\"Dec\"],\"wgRelevantPageName\":\"Alain_Connes\",\"wgRelevantArticleId\":340,\"wgRequestId\":\"W8@Q0wpAAEMAAFCX5DUAAABH\",\"wgCSPNonce\":false,\"wgIsProbablyEditable\":true,\"wgRelevantPageIsProbablyEditable\":true,\"wgRestrictionEdit\":[],\"wgRestrictionMove\":[],\"wgFlaggedRevsParams\":{\"tags\":{}},\"wgStableRevisionId\":null,\"wgCategoryTreePageCategoryOptions\":\"{\\\\\"mode\\\\\":0,\\\\\"hideprefix\\\\\":20,\\\\\"showcount\\\\\":true,\\\\\"namespaces\\\\\":false}\",\"wgWikiEditorEnabledModules\":[],\"wgBetaFeaturesFeatures\":[],\"wgMediaViewerOnClick\":true,\"wgMediaViewerEnabledByDefault\":true,\"wgPopupsShouldSendModuleToUser\":true,\"wgPopupsConflictsWithNavPopupGadget\":false,\"wgVisualEditor\":{\"pageLanguageCode\":\"en\",\"pageLanguageDir\":\"ltr\",\"pageVariantFallbacks\":\"en\",\"usePageImages\":true,\"usePageDescriptions\":true},\"wgMFExpandAllSectionsUserOption\":true,\"wgMFEnableFontChanger\":true,\"wgMFDisplayWikibaseDescriptions\":{\"search\":true,\"nearby\":true,\"watchlist\":true,\"tagline\":false},\"wgRelatedArticles\":null,\"wgRelatedArticlesUseCirrusSearch\":true,\"wgRelatedArticlesOnlyUseCirrusSearch\":false,\"wgULSCurrentAutonym\":\"English\",\"wgNoticeProject\":\"wikipedia\",\"wgCentralNoticeCookiesToDelete\":[],\"wgCentralNoticeCategoriesUsingLegacy\":[\"Fundraising\",\"fundraising\"],\"wgWikibaseItemId\":\"Q313590\",\"wgScoreNoteLanguages\":{\"arabic\":\"العربية\",\"catalan\":\"català\",\"deutsch\":\"Deutsch\",\"english\":\"English\",\"espanol\":\"español\",\"italiano\":\"italiano\",\"nederlands\":\"Nederlands\",\"norsk\":\"norsk\",\"portugues\":\"português\",\"suomi\":\"suomi\",\"svenska\":\"svenska\",\"vlaams\":\"West-Vlams\"},\"wgScoreDefaultNoteLanguage\":\"nederlands\",\"wgCentralAuthMobileDomain\":false,\"wgCodeMirrorEnabled\":true,\"wgVisualEditorToolbarScrollOffset\":0,\"wgVisualEditorUnsupportedEditParams\":[\"undo\",\"undoafter\",\"veswitched\"],\"wgEditSubmitButtonLabelPublish\":true});mw.loader.state({\"ext.gadget.charinsert-styles\":\"ready\",\"ext.globalCssJs.user.styles\":\"ready\",\"ext.globalCssJs.site.styles\":\"ready\",\"site.styles\":\"ready\",\"noscript\":\"ready\",\"user.styles\":\"ready\",\"ext.globalCssJs.user\":\"ready\",\"ext.globalCssJs.site\":\"ready\",\"user\":\"ready\",\"user.options\":\"ready\",\"user.tokens\":\"loading\",\"ext.cite.styles\":\"ready\",\"mediawiki.legacy.shared\":\"ready\",\"mediawiki.legacy.commonPrint\":\"ready\",\"mediawiki.toc.styles\":\"ready\",\"wikibase.client.init\":\"ready\",\"ext.visualEditor.desktopArticleTarget.noscript\":\"ready\",\"ext.uls.interlanguage\":\"ready\",\"ext.wikimediaBadges\":\"ready\",\"ext.3d.styles\":\"ready\",\"mediawiki.skinning.interface\":\"ready\",\"skins.vector.styles\":\"ready\"});mw.loader.implement(\"user.tokens@0tffind\",function($,jQuery,require,module){/*@nomin*/mw.user.tokens.set({\"editToken\":\"+\\\\\\\\\",\"patrolToken\":\"+\\\\\\\\\",\"watchToken\":\"+\\\\\\\\\",\"csrfToken\":\"+\\\\\\\\\"});\\n});RLPAGEMODULES=[\"ext.cite.a11y\",\"site\",\"mediawiki.page.startup\",\"mediawiki.user\",\"mediawiki.page.ready\",\"mediawiki.toc\",\"mediawiki.searchSuggest\",\"ext.gadget.teahouse\",\"ext.gadget.ReferenceTooltips\",\"ext.gadget.watchlist-notice\",\"ext.gadget.DRN-wizard\",\"ext.gadget.charinsert\",\"ext.gadget.refToolbar\",\"ext.gadget.extra-toolbar-buttons\",\"ext.gadget.switcher\",\"ext.centralauth.centralautologin\",\"mmv.head\",\"mmv.bootstrap.autostart\",\"ext.popups\",\"ext.visualEditor.desktopArticleTarget.init\",\"ext.visualEditor.targetLoader\",\"ext.eventLogging.subscriber\",\"ext.wikimediaEvents\",\"ext.navigationTiming\",\"ext.uls.eventlogger\",\"ext.uls.init\",\"ext.uls.compactlinks\",\"ext.uls.interface\",\"ext.centralNotice.geoIP\",\"ext.centralNotice.startUp\",\"skins.vector.js\"];mw.loader.load(RLPAGEMODULES);});\\n\\n\\n\\n\\n\\n\\n\\n\\n\\n\\n\\n\\n\\n\\n\\n\\n\\n\\n\\n\\n\\n\\n\\n \\n\\n\\n\\n\\n\\nAlain Connes \\nFrom Wikipedia, the free encyclopedia \\n Jump to navigation\\nJump to search\\n\\n\\nThis article includes a list of references, but its sources remain unclear because it has insufficient inline citations. Please help to improve this article by introducing more precise citations. (February 2012) (Learn how and when to remove this template message)\\nAlain Connes\\nAlain Connes in 2004Born\\n (1947-04-01) 1 April 1947 (age\\xa071)Draguignan, FranceNationality\\nFrenchAlma\\xa0mater\\nÉcole Normale Supérieure  Pierre and Marie Curie UniversityKnown\\xa0for\\nBaum–Connes conjectureNoncommutative geometryOperator algebrasThermal time hypothesisAwards\\nCNRS Silver Medal (1977) Prize Ampère (1980) Fields Medal (1982) Clay Research Award (2000) Crafoord Prize (2001) CNRS Gold medal (2004)\\nScientific careerFields\\nMathematicsInstitutions\\nIHÉS, FranceDoctoral advisor\\nJacques DixmierDoctoral students\\nGeorges Skandalis\\n\\nAlain Connes (French:\\xa0[alɛ̃ kɔn]; born 1 April 1947) is a French mathematician, currently Professor at the Collège de France, IHÉS, Ohio State University and Vanderbilt University. He was an Invited Professor at the Conservatoire national des arts et métiers (2000).[1]\\n\\nContents\\n\\n1 Work\\n2 Awards and honours\\n3 Books\\n4 See also\\n5 References\\n6 External links\\n\\n\\nWork[edit]\\nAlain Connes studies operator algebras. In his early work on von Neumann algebras in the 1970s, he succeeded in obtaining the almost complete classification of injective factors. He also formulated the Connes embedding problem. Following this, he made contributions in operator K-theory and index theory, which culminated in the Baum–Connes conjecture. He also introduced cyclic cohomology in the early 1980s as a first step in the study of noncommutative differential geometry. He was a member of Bourbaki.[2]\\nConnes has applied his work in areas of mathematics and theoretical physics, including number theory, differential geometry and particle physics.[3]\\n\\nAwards and honours[edit]\\nConnes was awarded the Fields Medal in 1982, the Crafoord Prize in 2001 and the gold medal of the CNRS in 2004.  He was an invited speaker at the ICM in 1974 at Vancouver and in 1986 at Berkeley and a plenary speaker at the ICM in 1978 at Helsinki. He is a member of the French Academy of Sciences and several foreign academies and societies, including the Danish Academy of Sciences, Norwegian Academy of Sciences, Russian Academy of Sciences, and US National Academy of Sciences.\\n\\nBooks[edit]\\nAlain Connes and Matilde Marcolli, Noncommutative Geometry, Quantum Fields and Motives, Colloquium Publications, American Mathematical Society, 2007, .mw-parser-output cite.citation{font-style:inherit}.mw-parser-output q{quotes:\"\\\\\"\"\"\\\\\"\"\"\\'\"\"\\'\"}.mw-parser-output code.cs1-code{color:inherit;background:inherit;border:inherit;padding:inherit}.mw-parser-output .cs1-lock-free a{background:url(\"//upload.wikimedia.org/wikipedia/commons/thumb/6/65/Lock-green.svg/9px-Lock-green.svg.png\")no-repeat;background-position:right .1em center}.mw-parser-output .cs1-lock-limited a,.mw-parser-output .cs1-lock-registration a{background:url(\"//upload.wikimedia.org/wikipedia/commons/thumb/d/d6/Lock-gray-alt-2.svg/9px-Lock-gray-alt-2.svg.png\")no-repeat;background-position:right .1em center}.mw-parser-output .cs1-lock-subscription a{background:url(\"//upload.wikimedia.org/wikipedia/commons/thumb/a/aa/Lock-red-alt-2.svg/9px-Lock-red-alt-2.svg.png\")no-repeat;background-position:right .1em center}.mw-parser-output .cs1-subscription,.mw-parser-output .cs1-registration{color:#555}.mw-parser-output .cs1-subscription span,.mw-parser-output .cs1-registration span{border-bottom:1px dotted;cursor:help}.mw-parser-output .cs1-hidden-error{display:none;font-size:100%}.mw-parser-output .cs1-visible-error{font-size:100%}.mw-parser-output .cs1-subscription,.mw-parser-output .cs1-registration,.mw-parser-output .cs1-format{font-size:95%}.mw-parser-output .cs1-kern-left,.mw-parser-output .cs1-kern-wl-left{padding-left:0.2em}.mw-parser-output .cs1-kern-right,.mw-parser-output .cs1-kern-wl-right{padding-right:0.2em}ISBN\\xa0978-0821842102 [1]\\nAlain Connes, Andre Lichnerowicz, and Marcel Paul Schutzenberger, Triangle of Thought, translated by Jennifer Gage, American Mathematical Society, 2001, ISBN\\xa0978-0821826140\\nJean-Pierre Changeux, and Alain Connes, Conversations on Mind, Matter, and Mathematics, translated by M. B. DeBevoise, Princeton University Press, 1998, ISBN\\xa0978-0691004051\\nAlain Connes, Noncommutative Geometry, Academic Press, 1994, ISBN\\xa0978-0121858605[4]\\nSee also[edit]\\nBost–Connes system\\nCyclic homology\\nFactor (functional analysis)\\nHiggs boson\\nC*-algebra\\nM-theory\\nGroupoid\\nCriticism of non-standard analysis\\nReferences[edit]\\n\\n\\n^ Alain Connes, «\\xa0Géométrie non-commutative\\xa0», Université de tous les savoirs, 4, 175-190, Editions Odile Jacob, 2001.\\n\\n^ Mashaal, Maurice (2006), Bourbaki: a secret society of mathematicians, American Mathematical Society, p.\\xa018, ISBN\\xa0978-0-8218-3967-6.\\n\\n^ \"The Geometer of Particle Physics\"  Scientific American, 24 July 2006\\n\\n^ Segal, Irving (1996). \"Review: Noncommutative geometry, by Alain Connes\" (PDF). Bull. Amer. Math. Soc. (N.S.). 33 (4): 459–465. doi:10.1090/s0273-0979-96-00687-8.\\n\\n\\nExternal links[edit]\\nAlain Connes Official Web Site containing downloadable papers, and his book Non-commutative geometry, ISBN\\xa00-12-185860-X.\\nAlain Connes in nLab\\nAlain Connes\\' Standard Model\\nAn interview with Alain Connes and a discussion about it\\nO\\'Connor, John J.; Robertson, Edmund F., \"Alain Connes\", MacTutor History of Mathematics archive, University of St Andrews.\\nAlain Connes at the Mathematics Genealogy Project\\nvteFields Medalists\\n1936 \\xa0AhlforsDouglas\\n1950 \\xa0SchwartzSelberg\\n1954 \\xa0KodairaSerre\\n1958 \\xa0RothThom\\n1962 \\xa0HörmanderMilnor\\n1966 \\xa0AtiyahCohenGrothendieckSmale\\n1970 \\xa0BakerHironakaNovikovThompson\\n1974 \\xa0BombieriMumford\\n1978 \\xa0DeligneFeffermanMargulisQuillen\\n1982 \\xa0ConnesThurstonYau\\n1986 \\xa0DonaldsonFaltingsFreedman\\n1990 \\xa0DrinfeldJonesMoriWitten\\n1994 \\xa0BourgainLionsYoccozZelmanov\\n1998 \\xa0BorcherdsGowersKontsevichMcMullen\\n2002 \\xa0LafforgueVoevodsky\\n2006 \\xa0OkounkovPerelman (declined)TaoWerner\\n2010 \\xa0LindenstraussNgôSmirnovVillani\\n2014 \\xa0AvilaBhargavaHairerMirzakhani\\n2018 \\xa0BirkarFigalliScholzeVenkatesh\\n\\n Book\\n Category\\n Mathematics portal\\n\\nAuthority control \\n WorldCat Identities\\nBIBSYS: 90308071\\nBNF: cb121076588 (data)\\nGND: 112614760\\nISNI: 0000 0001 1745 2968\\nLCCN: n80137982\\nLNB: 000134502\\nMGP: 34220\\nNDL: 00464836\\nSNAC: w6zt5kkb\\nSUDOC: 029452309\\nVIAF: 14800882\\n\\n\\n\\n\\n \\n\\t\\t\\t\\t\\t\\tRetrieved from \"https://en.wikipedia.org/w/index.php?title=Alain_Connes&oldid=864885442\"\\t\\t\\t\\t\\t\\nCategories: 1947 birthsLiving people20th-century French mathematiciansMembers of the United States National Academy of Sciences21st-century mathematiciansCollège de France facultyInstitute for Advanced Study visiting scholarsFields MedalistsMathematical analystsDifferential geometersÉcole Normale Supérieure alumniVanderbilt University facultyForeign Members of the Russian Academy of SciencesMembers of the French Academy of SciencesMembers of the Norwegian Academy of Science and LettersMembers of the Royal Danish Academy of Sciences and LettersClay Research Award recipientsParticipants in the Les Houches Physics Summer SchoolHidden categories: Use dmy dates from June 2013Articles lacking in-text citations from February 2012All articles lacking in-text citationsInfobox person using alma materArticles with hCardsWikipedia articles with BIBSYS identifiersWikipedia articles with BNF identifiersWikipedia articles with GND identifiersWikipedia articles with ISNI identifiersWikipedia articles with LCCN identifiersWikipedia articles with LNB identifiersWikipedia articles with MGP identifiersWikipedia articles with NDL identifiersWikipedia articles with SNAC-ID identifiersWikipedia articles with SUDOC identifiersWikipedia articles with VIAF identifiers \\n\\n\\n\\nNavigation menu\\n\\n\\nPersonal tools\\n\\nNot logged inTalkContributionsCreate accountLog in \\n\\n\\n\\nNamespaces\\n\\nArticleTalk \\n\\n\\n\\n\\nVariants\\n\\n\\n\\n\\n\\n\\n\\n\\n\\nViews\\n\\nReadEditView history \\n\\n\\n\\nMore\\n\\n\\n\\n\\n\\n\\n\\nSearch\\n\\n\\n\\n \\n\\n\\n\\n\\n\\n\\n\\nNavigation\\n\\n\\nMain pageContentsFeatured contentCurrent eventsRandom articleDonate to WikipediaWikipedia store \\n\\n\\n\\nInteraction\\n\\n\\nHelpAbout WikipediaCommunity portalRecent changesContact page \\n\\n\\n\\nTools\\n\\n\\nWhat links hereRelated changesUpload fileSpecial pagesPermanent linkPage informationWikidata itemCite this page \\n\\n\\n\\nPrint/export\\n\\n\\nCreate a bookDownload as PDFPrintable version \\n\\n\\n\\nIn other projects\\n\\n\\nWikimedia CommonsWikiquote \\n\\n\\n\\nLanguages\\n\\n\\nالعربيةBân-lâm-gúCatalàČeštinaDeutschEspañolEuskaraFrançais한국어HrvatskiItalianoKreyòl ayisyenမြန်မာဘာသာNederlands日本語Norsk nynorskپنجابیPolskiPortuguêsRomânăРусскийසිංහලSlovenčinaSlovenščinaSuomiУкраїнська中文 \\nEdit links \\n\\n\\n\\n\\n\\n This page was last edited on 20 October 2018, at 04:48\\xa0(UTC).\\nText is available under the Creative Commons Attribution-ShareAlike License;\\nadditional terms may apply.  By using this site, you agree to the Terms of Use and Privacy Policy. Wikipedia® is a registered trademark of the Wikimedia Foundation, Inc., a non-profit organization.\\n\\n\\nPrivacy policy\\nAbout Wikipedia\\nDisclaimers\\nContact Wikipedia\\nDevelopers\\nCookie statement\\nMobile view\\n\\n\\n\\n \\n\\n \\n\\n\\n\\n(window.RLQ=window.RLQ||[]).push(function(){mw.config.set({\"wgPageParseReport\":{\"limitreport\":{\"cputime\":\"0.460\",\"walltime\":\"0.589\",\"ppvisitednodes\":{\"value\":3000,\"limit\":1000000},\"ppgeneratednodes\":{\"value\":0,\"limit\":1500000},\"postexpandincludesize\":{\"value\":59654,\"limit\":2097152},\"templateargumentsize\":{\"value\":4010,\"limit\":2097152},\"expansiondepth\":{\"value\":12,\"limit\":40},\"expensivefunctioncount\":{\"value\":14,\"limit\":500},\"unstrip-depth\":{\"value\":1,\"limit\":20},\"unstrip-size\":{\"value\":15748,\"limit\":5000000},\"entityaccesscount\":{\"value\":2,\"limit\":400},\"timingprofile\":[\"100.00%  490.067      1 -total\",\" 25.43%  124.613      1 Template:Infobox_scientist\",\" 23.32%  114.302      1 Template:Infobox_person\",\" 17.84%   87.419      5 Template:Isbn\",\" 17.47%   85.629      2 Template:Infobox\",\" 12.75%   62.472      1 Template:Authority_control\",\" 12.41%   60.817      1 Template:Reflist\",\" 10.86%   53.246      5 Template:Catalog_lookup_link\",\"  9.91%   48.582      1 Template:More_footnotes\",\"  9.63%   47.204      1 Template:Fields_medalists\"]},\"scribunto\":{\"limitreport-timeusage\":{\"value\":\"0.175\",\"limit\":\"10.000\"},\"limitreport-memusage\":{\"value\":5664871,\"limit\":52428800}},\"cachereport\":{\"origin\":\"mw1272\",\"timestamp\":\"20181023212124\",\"ttl\":1900800,\"transientcontent\":false}}});mw.config.set({\"wgBackendResponseTime\":714,\"wgHostname\":\"mw1272\"});});\\n\\n\\n'"
      ]
     },
     "execution_count": 37,
     "metadata": {},
     "output_type": "execute_result"
    }
   ],
   "source": [
    "soup.text"
   ]
  },
  {
   "cell_type": "code",
   "execution_count": 40,
   "metadata": {},
   "outputs": [],
   "source": [
    "#! -*- coding: utf-8 -*-\n",
    "from bs4 import BeautifulSoup\n",
    "import bleach\n",
    "import requests\n",
    "\n",
    "\n",
    "class WikipediaFetcher(object):\n",
    "\n",
    "    def fetch(self, page_name):\n",
    "        \"\"\"\n",
    "        Passed a Wikipedia page's URL fragment, like\n",
    "        'Edward_Montagu,_1st_Earl_of_Sandwich', this will fetch the page's\n",
    "        main contents, tidy the HTML, strip out any elements we don't want\n",
    "        and return the final HTML string.\n",
    "        Returns a dict with two elements:\n",
    "            'success' is either True or, if we couldn't fetch the page, False.\n",
    "            'content' is the HTML if success==True, or else an error message.\n",
    "        \"\"\"\n",
    "        result = self._get_html(page_name)\n",
    "\n",
    "        if result['success']:\n",
    "            result['content'] = self._tidy_html(result['content'])\n",
    "\n",
    "        return result\n",
    "\n",
    "    def _get_html(self, page_name):\n",
    "        \"\"\"\n",
    "        Passed the name of a Wikipedia page (eg, 'Samuel_Pepys'), it fetches\n",
    "        the HTML content (not the entire HTML page) and returns it.\n",
    "        Returns a dict with two elements:\n",
    "            'success' is either True or, if we couldn't fetch the page, False.\n",
    "            'content' is the HTML if success==True, or else an error message.\n",
    "        \"\"\"\n",
    "        error_message = ''\n",
    "\n",
    "        url = 'https://en.wikipedia.org/wiki/%s' % page_name\n",
    "\n",
    "        try:\n",
    "            response = requests.get(url,\n",
    "                                    params={'action': 'render'}, timeout=5)\n",
    "        except requests.exceptions.ConnectionError:\n",
    "            error_message = \"Can't connect to domain.\"\n",
    "        except requests.exceptions.Timeout:\n",
    "            error_message = \"Connection timed out.\"\n",
    "        except requests.exceptions.TooManyRedirects:\n",
    "            error_message = \"Too many redirects.\"\n",
    "\n",
    "        try:\n",
    "            response.raise_for_status()\n",
    "        except requests.exceptions.HTTPError:\n",
    "            # 4xx or 5xx errors:\n",
    "            error_message = \"HTTP Error: %s\" % response.status_code\n",
    "        except NameError:\n",
    "            if error_message == '':\n",
    "                error_message = \"Something unusual went wrong.\"\n",
    "\n",
    "        if error_message:\n",
    "            return {'success': False, 'content': error_message}\n",
    "        else:\n",
    "            return {'success': True, 'content': response.text}\n",
    "\n",
    "    def _tidy_html(self, html):\n",
    "        \"\"\"\n",
    "        Passed the raw Wikipedia HTML, this returns valid HTML, with all\n",
    "        disallowed elements stripped out.\n",
    "        \"\"\"\n",
    "        html = self._bleach_html(html)\n",
    "        html = self._strip_html(html)\n",
    "        return html\n",
    "\n",
    "    def _bleach_html(self, html):\n",
    "        \"\"\"\n",
    "        Ensures we have valid HTML; no unclosed or mis-nested tags.\n",
    "        Removes any tags and attributes we don't want to let through.\n",
    "        Doesn't remove the contents of any disallowed tags.\n",
    "        Pass it an HTML string, it'll return the bleached HTML string.\n",
    "        \"\"\"\n",
    "\n",
    "        # Pretty much most elements, but no forms or audio/video.\n",
    "        allowed_tags = [\n",
    "            'a', 'abbr', 'acronym', 'address', 'area', 'article',\n",
    "            'b', 'blockquote', 'br',\n",
    "            'caption', 'cite', 'code', 'col', 'colgroup',\n",
    "            'dd', 'del', 'dfn', 'div', 'dl', 'dt',\n",
    "            'em',\n",
    "            'figcaption', 'figure', 'footer',\n",
    "            'h1', 'h2', 'h3', 'h4', 'h5', 'h6', 'header', 'hgroup', 'hr',\n",
    "            'i', 'img', 'ins',\n",
    "            'kbd',\n",
    "            'li',\n",
    "            'map',\n",
    "            'nav',\n",
    "            'ol',\n",
    "            'p', 'pre',\n",
    "            'q',\n",
    "            's', 'samp', 'section', 'small', 'span', 'strong', 'sub', 'sup',\n",
    "            'table', 'tbody', 'td', 'tfoot', 'th', 'thead', 'time', 'tr',\n",
    "            'ul',\n",
    "            'var',\n",
    "            # We allow script here, so we can close/un-mis-nest its tags,\n",
    "            # but then it's removed completely in _strip_html():\n",
    "            'script',\n",
    "        ]\n",
    "\n",
    "        # These attributes will be removed from any of the allowed tags.\n",
    "        allowed_attributes = {\n",
    "            '*':        ['class', 'id'],\n",
    "            'a':        ['href', 'title'],\n",
    "            'abbr':     ['title'],\n",
    "            'acronym':  ['title'],\n",
    "#           'img':      ['alt', 'src', 'srcset'],\n",
    "            # Ugh. Don't know why this page doesn't use .tright like others\n",
    "            # http://127.0.0.1:8000/encyclopedia/5040/\n",
    "#             'table':    ['align'],\n",
    "#             'td':       ['colspan', 'rowspan'],\n",
    "#             'th':       ['colspan', 'rowspan', 'scope'],\n",
    "        }\n",
    "\n",
    "        return bleach.clean(html, tags=allowed_tags,\n",
    "                            attributes=allowed_attributes, strip=True)\n",
    "\n",
    "    def _strip_html(self, html):\n",
    "        \"\"\"\n",
    "        Takes out any tags, and their contents, that we don't want at all.\n",
    "        And adds custom classes to existing tags (so we can apply CSS styles\n",
    "        without having to multiply our CSS).\n",
    "        Pass it an HTML string, it returns the stripped HTML string.\n",
    "        \"\"\"\n",
    "\n",
    "        # CSS selectors. Strip these and their contents.\n",
    "        selectors = [\n",
    "            'div.hatnote',\n",
    "            'div.navbar.mini',  # Will also match div.mini.navbar\n",
    "            # Bottom of https://en.wikipedia.org/wiki/Charles_II_of_England :\n",
    "            'div.topicon',\n",
    "            'a.mw-headline-anchor',\n",
    "            'script',\n",
    "        ]\n",
    "\n",
    "        # Strip any element that has one of these classes.\n",
    "        classes = [\n",
    "            # \"This article may be expanded with text translated from...\"\n",
    "            # https://en.wikipedia.org/wiki/Afonso_VI_of_Portugal\n",
    "            'ambox-notice',\n",
    "            'magnify',\n",
    "            # eg audio on https://en.wikipedia.org/wiki/Bagpipes\n",
    "            'mediaContainer',\n",
    "            'navbox',\n",
    "            'noprint',\n",
    "        ]\n",
    "\n",
    "        # Any element has a class matching a key, it will have the classes\n",
    "        # in the value added.\n",
    "        add_classes = {\n",
    "            # Give these tables standard Bootstrap styles.\n",
    "            'infobox':   ['table', 'table-bordered'],\n",
    "            'ambox':     ['table', 'table-bordered'],\n",
    "            'wikitable': ['table', 'table-bordered'],\n",
    "        }\n",
    "\n",
    "        soup = BeautifulSoup(html, 'html5lib')\n",
    "\n",
    "        for selector in selectors:\n",
    "            [tag.decompose() for tag in soup.select(selector)]\n",
    "\n",
    "        for clss in classes:\n",
    "            [tag.decompose() for tag in soup.find_all(attrs={'class': clss})]\n",
    "\n",
    "        for clss, new_classes in add_classes.items():\n",
    "            for tag in soup.find_all(attrs={'class': clss}):\n",
    "                tag['class'] = tag.get('class', []) + new_classes\n",
    "\n",
    "        # Depending on the HTML parser BeautifulSoup used, soup may have\n",
    "        # surrounding <html><body></body></html> or just <body></body> tags.\n",
    "        if soup.body:\n",
    "            soup = soup.body\n",
    "        elif soup.html:\n",
    "            soup = soup.html.body\n",
    "\n",
    "        # Put the content back into a string.\n",
    "        html = ''.join(str(tag) for tag in soup.contents)\n",
    "\n",
    "        return html"
   ]
  },
  {
   "cell_type": "code",
   "execution_count": 41,
   "metadata": {},
   "outputs": [],
   "source": [
    "page = WikipediaFetcher()"
   ]
  },
  {
   "cell_type": "code",
   "execution_count": 43,
   "metadata": {},
   "outputs": [
    {
     "data": {
      "text/plain": [
       "{'success': True,\n",
       " 'content': '<div class=\"mw-parser-output\"><p class=\"mw-empty-elt\">\\n</p>\\n<table class=\"plainlinks metadata ambox ambox-style ambox-More_footnotes table table-bordered\"><tbody><tr><td class=\"mbox-image\"><div><img alt=\"\" src=\"//upload.wikimedia.org/wikipedia/commons/thumb/a/a4/Text_document_with_red_question_mark.svg/40px-Text_document_with_red_question_mark.svg.png\" srcset=\"//upload.wikimedia.org/wikipedia/commons/thumb/a/a4/Text_document_with_red_question_mark.svg/60px-Text_document_with_red_question_mark.svg.png 1.5x, //upload.wikimedia.org/wikipedia/commons/thumb/a/a4/Text_document_with_red_question_mark.svg/80px-Text_document_with_red_question_mark.svg.png 2x\"/></div></td><td class=\"mbox-text\"><div class=\"mbox-text-span\">This article includes a <a href=\"//en.wikipedia.org/wiki/Wikipedia:Citing_sources\" title=\"Wikipedia:Citing sources\">list of references</a>, but <b>its sources remain unclear</b> because it has <b>insufficient <a href=\"//en.wikipedia.org/wiki/Wikipedia:Citing_sources#Inline_citations\" title=\"Wikipedia:Citing sources\">inline citations</a></b>.<span class=\"hide-when-compact\"> Please help to <a href=\"//en.wikipedia.org/wiki/Wikipedia:WikiProject_Fact_and_Reference_Check\" title=\"Wikipedia:WikiProject Fact and Reference Check\">improve</a> this article by <a href=\"//en.wikipedia.org/wiki/Wikipedia:When_to_cite\" title=\"Wikipedia:When to cite\">introducing</a> more precise citations.</span>  <small><i>(February 2012)</i></small><small class=\"hide-when-compact\"><i> (<a href=\"//en.wikipedia.org/wiki/Help:Maintenance_template_removal\" title=\"Help:Maintenance template removal\">Learn how and when to remove this template message</a>)</i></small></div></td></tr></tbody></table>\\n<table class=\"infobox biography vcard table table-bordered\"><tbody><tr><th colspan=\"2\"><span class=\"fn\">Alain Connes</span></th></tr><tr><td colspan=\"2\">\\n<a class=\"image\" href=\"//en.wikipedia.org/wiki/File:Alain_Connes.jpg\" title=\"Photo of the upper body of Alain Connes with vegetation, blue sky, and clouds in the background\"><img alt=\"Photo of the upper body of Alain Connes with vegetation, blue sky, and clouds in the background\" src=\"//upload.wikimedia.org/wikipedia/commons/thumb/b/be/Alain_Connes.jpg/220px-Alain_Connes.jpg\" srcset=\"//upload.wikimedia.org/wikipedia/commons/b/be/Alain_Connes.jpg 1.5x\"/></a><div>Alain Connes in 2004</div></td></tr><tr><th scope=\"row\">Born</th><td>\\n<span> (<span class=\"bday\">1947-04-01</span>) </span>1 April 1947<br/><span class=\"birthplace\"><a href=\"//en.wikipedia.org/wiki/Draguignan\" title=\"Draguignan\">Draguignan</a>, France</span></td></tr><tr><th scope=\"row\">Nationality</th><td class=\"category\">\\nFrench</td></tr><tr><th scope=\"row\">Alma\\xa0mater</th><td>\\n<a class=\"mw-redirect\" href=\"//en.wikipedia.org/wiki/%C3%89cole_Normale_Sup%C3%A9rieure\" title=\"École Normale Supérieure\">École Normale Supérieure</a> <br/> <a href=\"//en.wikipedia.org/wiki/Pierre_and_Marie_Curie_University\" title=\"Pierre and Marie Curie University\">Pierre and Marie Curie University</a></td></tr><tr><th scope=\"row\">Known\\xa0for</th><td>\\n<a href=\"//en.wikipedia.org/wiki/Baum%E2%80%93Connes_conjecture\" title=\"Baum–Connes conjecture\">Baum–Connes conjecture</a><br/><a href=\"//en.wikipedia.org/wiki/Noncommutative_geometry\" title=\"Noncommutative geometry\">Noncommutative geometry</a><br/><a href=\"//en.wikipedia.org/wiki/Operator_algebra\" title=\"Operator algebra\">Operator algebras</a><br/><a href=\"//en.wikipedia.org/wiki/Thermal_time_hypothesis\" title=\"Thermal time hypothesis\">Thermal time hypothesis</a></td></tr><tr><th scope=\"row\">Awards</th><td>\\n<a class=\"mw-redirect\" href=\"//en.wikipedia.org/wiki/CNRS\" title=\"CNRS\">CNRS</a> Silver Medal (1977)<br/> <a class=\"mw-redirect\" href=\"//en.wikipedia.org/wiki/Prize_Amp%C3%A8re\" title=\"Prize Ampère\">Prize Ampère</a> (1980)<br/> <a href=\"//en.wikipedia.org/wiki/Fields_Medal\" title=\"Fields Medal\">Fields Medal</a> (1982)<br/> <a href=\"//en.wikipedia.org/wiki/Clay_Research_Award\" title=\"Clay Research Award\">Clay Research Award</a> (2000)<br/> <a href=\"//en.wikipedia.org/wiki/Crafoord_Prize\" title=\"Crafoord Prize\">Crafoord Prize</a> (2001)<br/> <a href=\"//en.wikipedia.org/wiki/CNRS_Gold_medal\" title=\"CNRS Gold medal\">CNRS Gold medal</a> (2004)</td></tr><tr><td colspan=\"2\">\\n<b>Scientific career</b></td></tr><tr><th scope=\"row\">Fields</th><td class=\"category\">\\n<a href=\"//en.wikipedia.org/wiki/Mathematics\" title=\"Mathematics\">Mathematics</a></td></tr><tr><th scope=\"row\">Institutions</th><td>\\n<a class=\"mw-redirect\" href=\"//en.wikipedia.org/wiki/IH%C3%89S\" title=\"IHÉS\">IHÉS</a>, France</td></tr><tr><th scope=\"row\"><a href=\"//en.wikipedia.org/wiki/Doctoral_advisor\" title=\"Doctoral advisor\">Doctoral advisor</a></th><td>\\n<a href=\"//en.wikipedia.org/wiki/Jacques_Dixmier\" title=\"Jacques Dixmier\">Jacques Dixmier</a></td></tr><tr><th scope=\"row\">Doctoral students</th><td>\\n<a href=\"//en.wikipedia.org/wiki/Georges_Skandalis\" title=\"Georges Skandalis\">Georges Skandalis</a></td></tr><tr><td colspan=\"2\">\\n</td></tr></tbody></table>\\n<p><b>Alain Connes</b> (<small>French:\\xa0</small><span class=\"IPA\"><a href=\"//en.wikipedia.org/wiki/Help:IPA/French\" title=\"Help:IPA/French\">[alɛ̃ kɔn]</a></span>; born 1 April 1947) is a French mathematician, currently Professor at the <a href=\"//en.wikipedia.org/wiki/Coll%C3%A8ge_de_France\" title=\"Collège de France\">Collège de France</a>, <a class=\"mw-redirect\" href=\"//en.wikipedia.org/wiki/IH%C3%89S\" title=\"IHÉS\">IHÉS</a>, <a href=\"//en.wikipedia.org/wiki/Ohio_State_University\" title=\"Ohio State University\">Ohio State University</a> and <a href=\"//en.wikipedia.org/wiki/Vanderbilt_University\" title=\"Vanderbilt University\">Vanderbilt University</a>. He was an Invited Professor at the <a href=\"//en.wikipedia.org/wiki/Conservatoire_national_des_arts_et_m%C3%A9tiers\" title=\"Conservatoire national des arts et métiers\">Conservatoire national des arts et métiers</a> (2000).<sup class=\"reference\" id=\"cite_ref-1\"><a href=\"#cite_note-1\">[1]</a></sup>\\n</p>\\n<div class=\"toc\" id=\"toc\"><div class=\"toctitle\"><h2>Contents</h2><span class=\"toctogglespan\"></span></div>\\n<ul>\\n<li class=\"toclevel-1 tocsection-1\"><a href=\"#Work\"><span class=\"tocnumber\">1</span> <span class=\"toctext\">Work</span></a></li>\\n<li class=\"toclevel-1 tocsection-2\"><a href=\"#Awards_and_honours\"><span class=\"tocnumber\">2</span> <span class=\"toctext\">Awards and honours</span></a></li>\\n<li class=\"toclevel-1 tocsection-3\"><a href=\"#Books\"><span class=\"tocnumber\">3</span> <span class=\"toctext\">Books</span></a></li>\\n<li class=\"toclevel-1 tocsection-4\"><a href=\"#See_also\"><span class=\"tocnumber\">4</span> <span class=\"toctext\">See also</span></a></li>\\n<li class=\"toclevel-1 tocsection-5\"><a href=\"#References\"><span class=\"tocnumber\">5</span> <span class=\"toctext\">References</span></a></li>\\n<li class=\"toclevel-1 tocsection-6\"><a href=\"#External_links\"><span class=\"tocnumber\">6</span> <span class=\"toctext\">External links</span></a></li>\\n</ul>\\n</div>\\n\\n<h2><span class=\"mw-headline\" id=\"Work\">Work</span></h2>\\n<p>Alain Connes studies <a href=\"//en.wikipedia.org/wiki/Operator_algebra\" title=\"Operator algebra\">operator algebras</a>. In his early work on <a href=\"//en.wikipedia.org/wiki/Von_Neumann_algebra\" title=\"Von Neumann algebra\">von Neumann algebras</a> in the 1970s, he succeeded in obtaining the almost complete classification of injective <a href=\"//en.wikipedia.org/wiki/Von_Neumann_algebra#Factors\" title=\"Von Neumann algebra\">factors</a>. He also formulated the <a href=\"//en.wikipedia.org/wiki/Connes_embedding_problem\" title=\"Connes embedding problem\">Connes embedding problem</a>. Following this, he made contributions in <a href=\"//en.wikipedia.org/wiki/K-theory\" title=\"K-theory\">operator K-theory</a> and <a class=\"mw-redirect\" href=\"//en.wikipedia.org/wiki/Index_theory\" title=\"Index theory\">index theory</a>, which culminated in the <a href=\"//en.wikipedia.org/wiki/Baum%E2%80%93Connes_conjecture\" title=\"Baum–Connes conjecture\">Baum–Connes conjecture</a>. He also introduced <a href=\"//en.wikipedia.org/wiki/Cyclic_homology\" title=\"Cyclic homology\">cyclic cohomology</a> in the early 1980s as a first step in the study of <a href=\"//en.wikipedia.org/wiki/Noncommutative_geometry\" title=\"Noncommutative geometry\">noncommutative differential geometry</a>. He was a member of <a href=\"//en.wikipedia.org/wiki/Nicolas_Bourbaki\" title=\"Nicolas Bourbaki\">Bourbaki</a>.<sup class=\"reference\" id=\"cite_ref-2\"><a href=\"#cite_note-2\">[2]</a></sup>\\n</p><p>Connes has applied his work in areas of mathematics and <a href=\"//en.wikipedia.org/wiki/Theoretical_physics\" title=\"Theoretical physics\">theoretical physics</a>, including <a href=\"//en.wikipedia.org/wiki/Number_theory\" title=\"Number theory\">number theory</a>, <a href=\"//en.wikipedia.org/wiki/Differential_geometry\" title=\"Differential geometry\">differential geometry</a> and <a href=\"//en.wikipedia.org/wiki/Particle_physics\" title=\"Particle physics\">particle physics</a>.<sup class=\"reference\" id=\"cite_ref-3\"><a href=\"#cite_note-3\">[3]</a></sup>\\n</p>\\n<h2><span class=\"mw-headline\" id=\"Awards_and_honours\">Awards and honours</span></h2>\\n<p>Connes was awarded the <a href=\"//en.wikipedia.org/wiki/Fields_Medal\" title=\"Fields Medal\">Fields Medal</a> in 1982, the <a href=\"//en.wikipedia.org/wiki/Crafoord_Prize\" title=\"Crafoord Prize\">Crafoord Prize</a> in 2001 and the gold medal of the <a class=\"mw-redirect\" href=\"//en.wikipedia.org/wiki/CNRS\" title=\"CNRS\">CNRS</a> in 2004.  He was an <a class=\"mw-redirect\" href=\"//en.wikipedia.org/wiki/Invited_speaker_at_the_International_Congress_of_Mathematicians\" title=\"Invited speaker at the International Congress of Mathematicians\">invited speaker at the ICM</a> in 1974 at Vancouver and in 1986 at Berkeley and a <a class=\"mw-redirect\" href=\"//en.wikipedia.org/wiki/Plenary_speaker_at_the_International_Congress_of_Mathematicians\" title=\"Plenary speaker at the International Congress of Mathematicians\">plenary speaker at the ICM</a> in 1978 at Helsinki. He is a member of the <a href=\"//en.wikipedia.org/wiki/French_Academy_of_Sciences\" title=\"French Academy of Sciences\">French Academy of Sciences</a> and several foreign academies and societies, including the <a href=\"//en.wikipedia.org/wiki/Royal_Danish_Academy_of_Sciences_and_Letters\" title=\"Royal Danish Academy of Sciences and Letters\">Danish Academy of Sciences</a>, <a href=\"//en.wikipedia.org/wiki/Norwegian_Academy_of_Science_and_Letters\" title=\"Norwegian Academy of Science and Letters\">Norwegian Academy of Sciences</a>, <a href=\"//en.wikipedia.org/wiki/Russian_Academy_of_Sciences\" title=\"Russian Academy of Sciences\">Russian Academy of Sciences</a>, and <a href=\"//en.wikipedia.org/wiki/National_Academy_of_Sciences\" title=\"National Academy of Sciences\">US National Academy of Sciences</a>.\\n</p>\\n<h2><span class=\"mw-headline\" id=\"Books\">Books</span></h2>\\n<ul><li>Alain Connes and <a href=\"//en.wikipedia.org/wiki/Matilde_Marcolli\" title=\"Matilde Marcolli\">Matilde Marcolli</a>, <i>Noncommutative Geometry, Quantum Fields and Motives</i>, Colloquium Publications, American Mathematical Society, 2007, .mw-parser-output cite.citation{font-style:inherit}.mw-parser-output q{quotes:\"\\\\\"\"\"\\\\\"\"\"\\'\"\"\\'\"}.mw-parser-output code.cs1-code{color:inherit;background:inherit;border:inherit;padding:inherit}.mw-parser-output .cs1-lock-free a{background:url(\"//upload.wikimedia.org/wikipedia/commons/thumb/6/65/Lock-green.svg/9px-Lock-green.svg.png\")no-repeat;background-position:right .1em center}.mw-parser-output .cs1-lock-limited a,.mw-parser-output .cs1-lock-registration a{background:url(\"//upload.wikimedia.org/wikipedia/commons/thumb/d/d6/Lock-gray-alt-2.svg/9px-Lock-gray-alt-2.svg.png\")no-repeat;background-position:right .1em center}.mw-parser-output .cs1-lock-subscription a{background:url(\"//upload.wikimedia.org/wikipedia/commons/thumb/a/aa/Lock-red-alt-2.svg/9px-Lock-red-alt-2.svg.png\")no-repeat;background-position:right .1em center}.mw-parser-output .cs1-subscription,.mw-parser-output .cs1-registration{color:#555}.mw-parser-output .cs1-subscription span,.mw-parser-output .cs1-registration span{border-bottom:1px dotted;cursor:help}.mw-parser-output .cs1-hidden-error{display:none;font-size:100%}.mw-parser-output .cs1-visible-error{font-size:100%}.mw-parser-output .cs1-subscription,.mw-parser-output .cs1-registration,.mw-parser-output .cs1-format{font-size:95%}.mw-parser-output .cs1-kern-left,.mw-parser-output .cs1-kern-wl-left{padding-left:0.2em}.mw-parser-output .cs1-kern-right,.mw-parser-output .cs1-kern-wl-right{padding-right:0.2em}<a href=\"//en.wikipedia.org/wiki/International_Standard_Book_Number\" title=\"International Standard Book Number\">ISBN</a>\\xa0<a href=\"//en.wikipedia.org/wiki/Special:BookSources/978-0821842102\" title=\"Special:BookSources/978-0821842102\">978-0821842102</a> <a class=\"external autonumber\" href=\"http://www.alainconnes.org/docs/bookwebfinal.pdf\">[1]</a></li>\\n<li>Alain Connes, Andre Lichnerowicz, and Marcel Paul Schutzenberger, <i>Triangle of Thought</i>, translated by Jennifer Gage, American Mathematical Society, 2001, <a href=\"//en.wikipedia.org/wiki/International_Standard_Book_Number\" title=\"International Standard Book Number\">ISBN</a>\\xa0<a href=\"//en.wikipedia.org/wiki/Special:BookSources/978-0821826140\" title=\"Special:BookSources/978-0821826140\">978-0821826140</a></li>\\n<li><a href=\"//en.wikipedia.org/wiki/Jean-Pierre_Changeux\" title=\"Jean-Pierre Changeux\">Jean-Pierre Changeux</a>, and Alain Connes, <i>Conversations on Mind, Matter, and Mathematics</i>, translated by M. B. DeBevoise, Princeton University Press, 1998, <a href=\"//en.wikipedia.org/wiki/International_Standard_Book_Number\" title=\"International Standard Book Number\">ISBN</a>\\xa0<a href=\"//en.wikipedia.org/wiki/Special:BookSources/978-0691004051\" title=\"Special:BookSources/978-0691004051\">978-0691004051</a></li>\\n<li>Alain Connes, <i>Noncommutative Geometry</i>, Academic Press, 1994, <a href=\"//en.wikipedia.org/wiki/International_Standard_Book_Number\" title=\"International Standard Book Number\">ISBN</a>\\xa0<a href=\"//en.wikipedia.org/wiki/Special:BookSources/978-0121858605\" title=\"Special:BookSources/978-0121858605\">978-0121858605</a><sup class=\"reference\" id=\"cite_ref-4\"><a href=\"#cite_note-4\">[4]</a></sup></li></ul>\\n<h2><span class=\"mw-headline\" id=\"See_also\">See also</span></h2>\\n<ul><li><a href=\"//en.wikipedia.org/wiki/Bost%E2%80%93Connes_system\" title=\"Bost–Connes system\">Bost–Connes system</a></li>\\n<li><a href=\"//en.wikipedia.org/wiki/Cyclic_homology\" title=\"Cyclic homology\">Cyclic homology</a></li>\\n<li><a class=\"mw-redirect\" href=\"//en.wikipedia.org/wiki/Factor_(functional_analysis)\" title=\"Factor (functional analysis)\">Factor (functional analysis)</a></li>\\n<li><a href=\"//en.wikipedia.org/wiki/Higgs_boson\" title=\"Higgs boson\">Higgs boson</a></li>\\n<li><a href=\"//en.wikipedia.org/wiki/C*-algebra\" title=\"C*-algebra\">C*-algebra</a></li>\\n<li><a href=\"//en.wikipedia.org/wiki/M-theory\" title=\"M-theory\">M-theory</a></li>\\n<li><a href=\"//en.wikipedia.org/wiki/Groupoid\" title=\"Groupoid\">Groupoid</a></li>\\n<li><a href=\"//en.wikipedia.org/wiki/Criticism_of_non-standard_analysis\" title=\"Criticism of non-standard analysis\">Criticism of non-standard analysis</a></li></ul>\\n<h2><span class=\"mw-headline\" id=\"References\">References</span></h2>\\n<div class=\"reflist\">\\n<div class=\"mw-references-wrap\"><ol class=\"references\">\\n<li id=\"cite_note-1\"><span class=\"mw-cite-backlink\"><b><a href=\"#cite_ref-1\">^</a></b></span> <span class=\"reference-text\">Alain Connes, «\\xa0Géométrie non-commutative\\xa0», <i>Université de tous les savoirs</i>, <b>4</b>, 175-190, Editions Odile Jacob, 2001.</span>\\n</li>\\n<li id=\"cite_note-2\"><span class=\"mw-cite-backlink\"><b><a href=\"#cite_ref-2\">^</a></b></span> <span class=\"reference-text\"><cite class=\"citation\" id=\"CITEREFMashaal2006\">Mashaal, Maurice (2006), <a class=\"external text\" href=\"https://books.google.com/books?id=-CXn6y_1nJ8C&amp;pg=PA18\"><i>Bourbaki: a secret society of mathematicians</i></a>, <a href=\"//en.wikipedia.org/wiki/American_Mathematical_Society\" title=\"American Mathematical Society\">American Mathematical Society</a>, p.\\xa018, <a href=\"//en.wikipedia.org/wiki/International_Standard_Book_Number\" title=\"International Standard Book Number\">ISBN</a>\\xa0<a href=\"//en.wikipedia.org/wiki/Special:BookSources/978-0-8218-3967-6\" title=\"Special:BookSources/978-0-8218-3967-6\">978-0-8218-3967-6</a></cite><span class=\"Z3988\"></span>.</span>\\n</li>\\n<li id=\"cite_note-3\"><span class=\"mw-cite-backlink\"><b><a href=\"#cite_ref-3\">^</a></b></span> <span class=\"reference-text\"><a class=\"external text\" href=\"http://www.scientificamerican.com/article.cfm?id=the-geometer-of-particle\">\"The Geometer of Particle Physics\"</a> <i> Scientific American</i>, 24 July 2006</span>\\n</li>\\n<li id=\"cite_note-4\"><span class=\"mw-cite-backlink\"><b><a href=\"#cite_ref-4\">^</a></b></span> <span class=\"reference-text\"><cite class=\"citation journal\"><a href=\"//en.wikipedia.org/wiki/Irving_Segal\" title=\"Irving Segal\">Segal, Irving</a> (1996). <a class=\"external text\" href=\"http://www.ams.org/journals/bull/1996-33-04/S0273-0979-96-00687-8/S0273-0979-96-00687-8.pdf\">\"Review: <i>Noncommutative geometry</i>, by Alain Connes\"</a> <span class=\"cs1-format\">(PDF)</span>. <i>Bull. Amer. Math. Soc. (N.S.)</i>. <b>33</b> (4): 459–465. <a href=\"//en.wikipedia.org/wiki/Digital_object_identifier\" title=\"Digital object identifier\">doi</a>:<a class=\"external text\" href=\"//doi.org/10.1090%2Fs0273-0979-96-00687-8\">10.1090/s0273-0979-96-00687-8</a>.</cite><span class=\"Z3988\"></span></span>\\n</li>\\n</ol></div></div>\\n<h2><span class=\"mw-headline\" id=\"External_links\">External links</span></h2>\\n<ul><li><a class=\"external text\" href=\"http://www.alainconnes.org/\">Alain Connes Official Web Site</a> containing <a class=\"external text\" href=\"http://www.alainconnes.org/en/downloads.php\">downloadable papers</a>, and his book <a class=\"external text\" href=\"http://www.alainconnes.org/docs/book94bigpdf.pdf\"><i>Non-commutative geometry</i></a>, <a href=\"//en.wikipedia.org/wiki/International_Standard_Book_Number\" title=\"International Standard Book Number\">ISBN</a>\\xa0<a href=\"//en.wikipedia.org/wiki/Special:BookSources/0-12-185860-X\" title=\"Special:BookSources/0-12-185860-X\">0-12-185860-X</a>.</li>\\n<li><a class=\"external text\" href=\"https://ncatlab.org/nlab/show/Alain+Connes\">Alain Connes</a> in <i><a href=\"//en.wikipedia.org/wiki/NLab\" title=\"NLab\">nLab</a></i></li>\\n<li><a class=\"external text\" href=\"http://resonaances.blogspot.com/2007/02/alain-connes-standard-model.html\">Alain Connes\\' Standard Model</a></li>\\n<li>An <a class=\"external text\" href=\"http://www.ipm.ac.ir/ViewNewsInfo.jsp?NTID=227\">interview with Alain Connes</a> and a <a class=\"external text\" href=\"http://www.math.columbia.edu/~woit/wordpress/?p=313\">discussion about it</a></li>\\n<li><cite class=\"citation\"><a class=\"mw-redirect\" href=\"//en.wikipedia.org/wiki/John_J._O%27Connor_(mathematician)\" title=\"John J. O\\'Connor (mathematician)\">O\\'Connor, John J.</a>; <a href=\"//en.wikipedia.org/wiki/Edmund_F._Robertson\" title=\"Edmund F. Robertson\">Robertson, Edmund F.</a>, <a class=\"external text\" href=\"http://www-history.mcs.st-andrews.ac.uk/Biographies/Connes.html\">\"Alain Connes\"</a>, <i><a href=\"//en.wikipedia.org/wiki/MacTutor_History_of_Mathematics_archive\" title=\"MacTutor History of Mathematics archive\">MacTutor History of Mathematics archive</a></i>, <a href=\"//en.wikipedia.org/wiki/University_of_St_Andrews\" title=\"University of St Andrews\">University of St Andrews</a></cite><span class=\"Z3988\"></span>.</li>\\n<li><a class=\"external text\" href=\"https://www.genealogy.math.ndsu.nodak.edu/id.php?id=34220\">Alain Connes</a> at the <a href=\"//en.wikipedia.org/wiki/Mathematics_Genealogy_Project\" title=\"Mathematics Genealogy Project\">Mathematics Genealogy Project</a></li></ul>\\n\\n\\n\\n\\n\\n\\n\\n</div>'}"
      ]
     },
     "execution_count": 43,
     "metadata": {},
     "output_type": "execute_result"
    }
   ],
   "source": [
    "page.fetch('Alain_Connes')"
   ]
  },
  {
   "cell_type": "code",
   "execution_count": null,
   "metadata": {},
   "outputs": [],
   "source": []
  }
 ],
 "metadata": {
  "kernelspec": {
   "display_name": "Python 3",
   "language": "python",
   "name": "python3"
  },
  "language_info": {
   "codemirror_mode": {
    "name": "ipython",
    "version": 3
   },
   "file_extension": ".py",
   "mimetype": "text/x-python",
   "name": "python",
   "nbconvert_exporter": "python",
   "pygments_lexer": "ipython3",
   "version": "3.6.6"
  }
 },
 "nbformat": 4,
 "nbformat_minor": 2
}
